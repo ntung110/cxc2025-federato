{
 "cells": [
  {
   "cell_type": "code",
   "execution_count": 1,
   "metadata": {},
   "outputs": [],
   "source": [
    "import os\n",
    "import sys\n",
    "sys.path.append(os.path.abspath(os.path.join(os.getcwd(), '..')))"
   ]
  },
  {
   "cell_type": "code",
   "execution_count": 57,
   "metadata": {},
   "outputs": [],
   "source": [
    "import polars as pl\n",
    "import polars.selectors as cs\n",
    "import numpy as np\n",
    "import yaml\n",
    "\n",
    "from utils.preprocessing import *\n",
    "from utils.modelling import TrainValidationSplit\n",
    "from config.constants import BATCH_SIZE"
   ]
  },
  {
   "cell_type": "markdown",
   "metadata": {},
   "source": [
    "## Data Preprocessing\n",
    "\n",
    "We will proceed to process the concatenated dataset using the `preprocessing` module which we wrote.\n",
    "\n",
    "This module contains some of the useful functions and configs we could use to process the data."
   ]
  },
  {
   "cell_type": "markdown",
   "metadata": {},
   "source": [
    "### Read YAML file\n",
    "\n",
    "We will also read our preprocessing instructions from our config file, which is saved in `preprocessing.yaml`"
   ]
  },
  {
   "cell_type": "code",
   "execution_count": 46,
   "metadata": {},
   "outputs": [],
   "source": [
    "# Read YAML file\n",
    "config_file_path = '../config/preprocessing.yaml'\n",
    "with open(config_file_path) as fstream:\n",
    "    config = yaml.safe_load(fstream)"
   ]
  },
  {
   "cell_type": "markdown",
   "metadata": {},
   "source": [
    "### Import Dataset\n",
    "\n",
    "We will first import the dataset into our notebook"
   ]
  },
  {
   "cell_type": "code",
   "execution_count": 4,
   "metadata": {},
   "outputs": [
    {
     "data": {
      "text/html": [
       "<div><style>\n",
       ".dataframe > thead > tr,\n",
       ".dataframe > tbody > tr {\n",
       "  text-align: right;\n",
       "  white-space: pre-wrap;\n",
       "}\n",
       "</style>\n",
       "<small>shape: (14_526_410, 55)</small><table border=\"1\" class=\"dataframe\"><thead><tr><th>$insert_id</th><th>$insert_key</th><th>$schema</th><th>adid</th><th>amplitude_attribution_ids</th><th>amplitude_event_type</th><th>amplitude_id</th><th>app</th><th>city</th><th>client_event_time</th><th>client_upload_time</th><th>country</th><th>data</th><th>data_type</th><th>device_brand</th><th>device_carrier</th><th>device_family</th><th>device_id</th><th>device_manufacturer</th><th>device_model</th><th>device_type</th><th>dma</th><th>event_id</th><th>event_properties</th><th>event_time</th><th>event_type</th><th>global_user_properties</th><th>group_properties</th><th>groups</th><th>idfa</th><th>is_attribution_event</th><th>language</th><th>library</th><th>location_lat</th><th>location_lng</th><th>os_name</th><th>os_version</th><th>partner_id</th><th>paying</th><th>plan</th><th>platform</th><th>processed_time</th><th>region</th><th>sample_rate</th><th>server_received_time</th><th>server_upload_time</th><th>session_id</th><th>source_id</th><th>start_version</th><th>user_creation_time</th><th>user_id</th><th>user_properties</th><th>uuid</th><th>version_name</th><th>__index_level_0__</th></tr><tr><td>str</td><td>str</td><td>str</td><td>str</td><td>str</td><td>str</td><td>str</td><td>str</td><td>str</td><td>str</td><td>str</td><td>str</td><td>str</td><td>str</td><td>str</td><td>str</td><td>str</td><td>str</td><td>str</td><td>str</td><td>str</td><td>str</td><td>str</td><td>str</td><td>str</td><td>str</td><td>str</td><td>str</td><td>str</td><td>str</td><td>str</td><td>str</td><td>str</td><td>str</td><td>str</td><td>str</td><td>str</td><td>str</td><td>str</td><td>str</td><td>str</td><td>str</td><td>str</td><td>str</td><td>str</td><td>str</td><td>str</td><td>str</td><td>str</td><td>str</td><td>str</td><td>str</td><td>str</td><td>str</td><td>i64</td></tr></thead><tbody><tr><td>&quot;251db963-6623-448e-8665-f542b8…</td><td>&quot;None&quot;</td><td>&quot;None&quot;</td><td>&quot;None&quot;</td><td>&quot;None&quot;</td><td>&quot;None&quot;</td><td>&quot;935023330069&quot;</td><td>&quot;591532&quot;</td><td>&quot;Mumbai&quot;</td><td>&quot;2024-10-08 11:41:02.385000&quot;</td><td>&quot;2024-10-08 11:41:04.857000&quot;</td><td>&quot;India&quot;</td><td>&quot;{&#x27;path&#x27;: &#x27;/2/httpapi&#x27;, &#x27;group_…</td><td>&quot;event&quot;</td><td>&quot;None&quot;</td><td>&quot;None&quot;</td><td>&quot;Windows&quot;</td><td>&quot;8bd8b6ab-370f-4b56-b38f-ad221c…</td><td>&quot;None&quot;</td><td>&quot;None&quot;</td><td>&quot;Windows&quot;</td><td>&quot;None&quot;</td><td>&quot;22216&quot;</td><td>&quot;{}&quot;</td><td>&quot;2024-10-08 11:41:02.385000&quot;</td><td>&quot;session_start&quot;</td><td>&quot;None&quot;</td><td>&quot;{}&quot;</td><td>&quot;{}&quot;</td><td>&quot;None&quot;</td><td>&quot;None&quot;</td><td>&quot;English&quot;</td><td>&quot;amplitude-ts/2.7.2&quot;</td><td>&quot;None&quot;</td><td>&quot;None&quot;</td><td>&quot;Chrome&quot;</td><td>&quot;129&quot;</td><td>&quot;None&quot;</td><td>&quot;None&quot;</td><td>&quot;{}&quot;</td><td>&quot;Web&quot;</td><td>&quot;2024-10-08 11:41:05.371000&quot;</td><td>&quot;Maharashtra&quot;</td><td>&quot;None&quot;</td><td>&quot;2024-10-08 11:41:04.857000&quot;</td><td>&quot;2024-10-08 11:41:04.859000&quot;</td><td>&quot;1728387662385&quot;</td><td>&quot;None&quot;</td><td>&quot;None&quot;</td><td>&quot;None&quot;</td><td>&quot;8038ea38-8ddf-4a1a-825d-8287c0…</td><td>&quot;{&#x27;roles&#x27;: [&#x27;underwriter&#x27;], &#x27;tr…</td><td>&quot;fc2d4a2a-b05e-4620-b7e9-4e8de5…</td><td>&quot;None&quot;</td><td>0</td></tr><tr><td>&quot;3a95cdac-174c-4002-8e84-8aeba8…</td><td>&quot;None&quot;</td><td>&quot;None&quot;</td><td>&quot;None&quot;</td><td>&quot;None&quot;</td><td>&quot;None&quot;</td><td>&quot;935023330069&quot;</td><td>&quot;591532&quot;</td><td>&quot;Mumbai&quot;</td><td>&quot;2024-10-08 11:41:02.386000&quot;</td><td>&quot;2024-10-08 11:41:04.857000&quot;</td><td>&quot;India&quot;</td><td>&quot;{&#x27;path&#x27;: &#x27;/2/httpapi&#x27;, &#x27;group_…</td><td>&quot;event&quot;</td><td>&quot;None&quot;</td><td>&quot;None&quot;</td><td>&quot;Windows&quot;</td><td>&quot;8bd8b6ab-370f-4b56-b38f-ad221c…</td><td>&quot;None&quot;</td><td>&quot;None&quot;</td><td>&quot;Windows&quot;</td><td>&quot;None&quot;</td><td>&quot;22215&quot;</td><td>&quot;{}&quot;</td><td>&quot;2024-10-08 11:41:02.386000&quot;</td><td>&quot;session_end&quot;</td><td>&quot;None&quot;</td><td>&quot;{}&quot;</td><td>&quot;{}&quot;</td><td>&quot;None&quot;</td><td>&quot;None&quot;</td><td>&quot;English&quot;</td><td>&quot;amplitude-ts/2.7.2&quot;</td><td>&quot;None&quot;</td><td>&quot;None&quot;</td><td>&quot;Chrome&quot;</td><td>&quot;129&quot;</td><td>&quot;None&quot;</td><td>&quot;None&quot;</td><td>&quot;{}&quot;</td><td>&quot;Web&quot;</td><td>&quot;2024-10-08 11:41:05.371000&quot;</td><td>&quot;Maharashtra&quot;</td><td>&quot;None&quot;</td><td>&quot;2024-10-08 11:41:04.857000&quot;</td><td>&quot;2024-10-08 11:41:04.859000&quot;</td><td>&quot;1728387662385&quot;</td><td>&quot;None&quot;</td><td>&quot;None&quot;</td><td>&quot;None&quot;</td><td>&quot;8038ea38-8ddf-4a1a-825d-8287c0…</td><td>&quot;{&#x27;roles&#x27;: [&#x27;underwriter&#x27;], &#x27;tr…</td><td>&quot;fa78037e-62ac-4518-b095-582feb…</td><td>&quot;None&quot;</td><td>1</td></tr><tr><td>&quot;50dbfad3-8e24-456a-ae68-21b09b…</td><td>&quot;None&quot;</td><td>&quot;None&quot;</td><td>&quot;None&quot;</td><td>&quot;None&quot;</td><td>&quot;None&quot;</td><td>&quot;935023330069&quot;</td><td>&quot;591532&quot;</td><td>&quot;Mumbai&quot;</td><td>&quot;2024-10-08 11:41:02.386000&quot;</td><td>&quot;2024-10-08 11:41:04.857000&quot;</td><td>&quot;India&quot;</td><td>&quot;{&#x27;path&#x27;: &#x27;/2/httpapi&#x27;, &#x27;group_…</td><td>&quot;event&quot;</td><td>&quot;None&quot;</td><td>&quot;None&quot;</td><td>&quot;Windows&quot;</td><td>&quot;8bd8b6ab-370f-4b56-b38f-ad221c…</td><td>&quot;None&quot;</td><td>&quot;None&quot;</td><td>&quot;Windows&quot;</td><td>&quot;None&quot;</td><td>&quot;22216&quot;</td><td>&quot;{&#x27;[Amplitude] Session Replay I…</td><td>&quot;2024-10-08 11:41:02.386000&quot;</td><td>&quot;session_start&quot;</td><td>&quot;None&quot;</td><td>&quot;{}&quot;</td><td>&quot;{}&quot;</td><td>&quot;None&quot;</td><td>&quot;None&quot;</td><td>&quot;English&quot;</td><td>&quot;amplitude-ts/2.7.2&quot;</td><td>&quot;None&quot;</td><td>&quot;None&quot;</td><td>&quot;Chrome&quot;</td><td>&quot;129&quot;</td><td>&quot;None&quot;</td><td>&quot;None&quot;</td><td>&quot;{}&quot;</td><td>&quot;Web&quot;</td><td>&quot;2024-10-08 11:41:05.371000&quot;</td><td>&quot;Maharashtra&quot;</td><td>&quot;None&quot;</td><td>&quot;2024-10-08 11:41:04.857000&quot;</td><td>&quot;2024-10-08 11:41:04.859000&quot;</td><td>&quot;1728387662386&quot;</td><td>&quot;None&quot;</td><td>&quot;None&quot;</td><td>&quot;None&quot;</td><td>&quot;8038ea38-8ddf-4a1a-825d-8287c0…</td><td>&quot;{&#x27;roles&#x27;: [&#x27;underwriter&#x27;], &#x27;tr…</td><td>&quot;9b8c3e3f-06e8-4e94-9610-9c7429…</td><td>&quot;None&quot;</td><td>2</td></tr><tr><td>&quot;ea0a4143-2380-48e7-a83e-8ba854…</td><td>&quot;None&quot;</td><td>&quot;None&quot;</td><td>&quot;None&quot;</td><td>&quot;None&quot;</td><td>&quot;None&quot;</td><td>&quot;935023330069&quot;</td><td>&quot;591532&quot;</td><td>&quot;Mumbai&quot;</td><td>&quot;2024-10-08 11:41:03.500000&quot;</td><td>&quot;2024-10-08 11:41:04.857000&quot;</td><td>&quot;India&quot;</td><td>&quot;{&#x27;path&#x27;: &#x27;/2/httpapi&#x27;, &#x27;group_…</td><td>&quot;event&quot;</td><td>&quot;None&quot;</td><td>&quot;None&quot;</td><td>&quot;Windows&quot;</td><td>&quot;8bd8b6ab-370f-4b56-b38f-ad221c…</td><td>&quot;None&quot;</td><td>&quot;None&quot;</td><td>&quot;Windows&quot;</td><td>&quot;None&quot;</td><td>&quot;22217&quot;</td><td>&quot;{&#x27;rowModel&#x27;: &#x27;server&#x27;, &#x27;[Ampli…</td><td>&quot;2024-10-08 11:41:03.500000&quot;</td><td>&quot;:all-accounts:configurable-tab…</td><td>&quot;None&quot;</td><td>&quot;{}&quot;</td><td>&quot;{}&quot;</td><td>&quot;None&quot;</td><td>&quot;None&quot;</td><td>&quot;English&quot;</td><td>&quot;amplitude-ts/2.7.2&quot;</td><td>&quot;None&quot;</td><td>&quot;None&quot;</td><td>&quot;Chrome&quot;</td><td>&quot;129&quot;</td><td>&quot;None&quot;</td><td>&quot;None&quot;</td><td>&quot;{}&quot;</td><td>&quot;Web&quot;</td><td>&quot;2024-10-08 11:41:05.371000&quot;</td><td>&quot;Maharashtra&quot;</td><td>&quot;None&quot;</td><td>&quot;2024-10-08 11:41:04.857000&quot;</td><td>&quot;2024-10-08 11:41:04.859000&quot;</td><td>&quot;1728387662386&quot;</td><td>&quot;None&quot;</td><td>&quot;None&quot;</td><td>&quot;None&quot;</td><td>&quot;8038ea38-8ddf-4a1a-825d-8287c0…</td><td>&quot;{&#x27;roles&#x27;: [&#x27;underwriter&#x27;], &#x27;tr…</td><td>&quot;61e42442-4205-4ec5-894e-b7a4f2…</td><td>&quot;None&quot;</td><td>3</td></tr><tr><td>&quot;4d89977d-4734-450c-afa1-07e326…</td><td>&quot;None&quot;</td><td>&quot;None&quot;</td><td>&quot;None&quot;</td><td>&quot;None&quot;</td><td>&quot;None&quot;</td><td>&quot;935023330069&quot;</td><td>&quot;591532&quot;</td><td>&quot;Mumbai&quot;</td><td>&quot;2024-10-08 11:41:03.527000&quot;</td><td>&quot;2024-10-08 11:41:04.857000&quot;</td><td>&quot;India&quot;</td><td>&quot;{&#x27;path&#x27;: &#x27;/2/httpapi&#x27;, &#x27;group_…</td><td>&quot;event&quot;</td><td>&quot;None&quot;</td><td>&quot;None&quot;</td><td>&quot;Windows&quot;</td><td>&quot;8bd8b6ab-370f-4b56-b38f-ad221c…</td><td>&quot;None&quot;</td><td>&quot;None&quot;</td><td>&quot;Windows&quot;</td><td>&quot;None&quot;</td><td>&quot;22217&quot;</td><td>&quot;{&#x27;displayName&#x27;: &#x27;All Policies …</td><td>&quot;2024-10-08 11:41:03.527000&quot;</td><td>&quot;:all-accounts:widget:render&quot;</td><td>&quot;None&quot;</td><td>&quot;{}&quot;</td><td>&quot;{}&quot;</td><td>&quot;None&quot;</td><td>&quot;None&quot;</td><td>&quot;English&quot;</td><td>&quot;amplitude-ts/2.7.2&quot;</td><td>&quot;None&quot;</td><td>&quot;None&quot;</td><td>&quot;Chrome&quot;</td><td>&quot;129&quot;</td><td>&quot;None&quot;</td><td>&quot;None&quot;</td><td>&quot;{}&quot;</td><td>&quot;Web&quot;</td><td>&quot;2024-10-08 11:41:05.371000&quot;</td><td>&quot;Maharashtra&quot;</td><td>&quot;None&quot;</td><td>&quot;2024-10-08 11:41:04.857000&quot;</td><td>&quot;2024-10-08 11:41:04.859000&quot;</td><td>&quot;1728387662386&quot;</td><td>&quot;None&quot;</td><td>&quot;None&quot;</td><td>&quot;None&quot;</td><td>&quot;8038ea38-8ddf-4a1a-825d-8287c0…</td><td>&quot;{&#x27;roles&#x27;: [&#x27;underwriter&#x27;], &#x27;tr…</td><td>&quot;3bc49813-f18a-4058-9b6d-f09598…</td><td>&quot;None&quot;</td><td>4</td></tr><tr><td>&hellip;</td><td>&hellip;</td><td>&hellip;</td><td>&hellip;</td><td>&hellip;</td><td>&hellip;</td><td>&hellip;</td><td>&hellip;</td><td>&hellip;</td><td>&hellip;</td><td>&hellip;</td><td>&hellip;</td><td>&hellip;</td><td>&hellip;</td><td>&hellip;</td><td>&hellip;</td><td>&hellip;</td><td>&hellip;</td><td>&hellip;</td><td>&hellip;</td><td>&hellip;</td><td>&hellip;</td><td>&hellip;</td><td>&hellip;</td><td>&hellip;</td><td>&hellip;</td><td>&hellip;</td><td>&hellip;</td><td>&hellip;</td><td>&hellip;</td><td>&hellip;</td><td>&hellip;</td><td>&hellip;</td><td>&hellip;</td><td>&hellip;</td><td>&hellip;</td><td>&hellip;</td><td>&hellip;</td><td>&hellip;</td><td>&hellip;</td><td>&hellip;</td><td>&hellip;</td><td>&hellip;</td><td>&hellip;</td><td>&hellip;</td><td>&hellip;</td><td>&hellip;</td><td>&hellip;</td><td>&hellip;</td><td>&hellip;</td><td>&hellip;</td><td>&hellip;</td><td>&hellip;</td><td>&hellip;</td><td>&hellip;</td></tr><tr><td>&quot;102ec3ca-a467-41a9-aa19-94f5b0…</td><td>&quot;None&quot;</td><td>&quot;None&quot;</td><td>&quot;None&quot;</td><td>&quot;None&quot;</td><td>&quot;None&quot;</td><td>&quot;857540480084&quot;</td><td>&quot;591532&quot;</td><td>&quot;Nashville&quot;</td><td>&quot;2024-05-22 09:36:09.888000&quot;</td><td>&quot;2024-05-22 09:36:10.832000&quot;</td><td>&quot;United States&quot;</td><td>&quot;{&#x27;path&#x27;: &#x27;/2/httpapi&#x27;, &#x27;group_…</td><td>&quot;event&quot;</td><td>&quot;None&quot;</td><td>&quot;None&quot;</td><td>&quot;Windows&quot;</td><td>&quot;a8b357fb-b4fb-45d2-babd-42b470…</td><td>&quot;None&quot;</td><td>&quot;None&quot;</td><td>&quot;Windows&quot;</td><td>&quot;Nashville, TN&quot;</td><td>&quot;26&quot;</td><td>&quot;{&#x27;displayName&#x27;: &#x27;One Drive Lin…</td><td>&quot;2024-05-22 09:36:09.888000&quot;</td><td>&quot;account-lines::widget:render&quot;</td><td>&quot;None&quot;</td><td>&quot;{}&quot;</td><td>&quot;{}&quot;</td><td>&quot;None&quot;</td><td>&quot;None&quot;</td><td>&quot;English&quot;</td><td>&quot;amplitude-ts/1.8.0&quot;</td><td>&quot;None&quot;</td><td>&quot;None&quot;</td><td>&quot;Edge&quot;</td><td>&quot;125.0.0.0&quot;</td><td>&quot;None&quot;</td><td>&quot;None&quot;</td><td>&quot;{}&quot;</td><td>&quot;Web&quot;</td><td>&quot;2024-05-22 09:36:11.662000&quot;</td><td>&quot;Tennessee&quot;</td><td>&quot;None&quot;</td><td>&quot;2024-05-22 09:36:10.832000&quot;</td><td>&quot;2024-05-22 09:36:10.833000&quot;</td><td>&quot;1716368557821&quot;</td><td>&quot;None&quot;</td><td>&quot;None&quot;</td><td>&quot;None&quot;</td><td>&quot;9aecc15d-64a4-4190-80f5-b5b842…</td><td>&quot;{&#x27;initial_utm_medium&#x27;: &#x27;EMPTY&#x27;…</td><td>&quot;c97dfcc3-2359-4c85-8c55-8a324f…</td><td>&quot;None&quot;</td><td>99995</td></tr><tr><td>&quot;55aec1ce-b876-4f66-b786-fd5706…</td><td>&quot;None&quot;</td><td>&quot;None&quot;</td><td>&quot;None&quot;</td><td>&quot;None&quot;</td><td>&quot;None&quot;</td><td>&quot;857540480084&quot;</td><td>&quot;591532&quot;</td><td>&quot;Nashville&quot;</td><td>&quot;2024-05-22 09:36:09.917000&quot;</td><td>&quot;2024-05-22 09:36:10.832000&quot;</td><td>&quot;United States&quot;</td><td>&quot;{&#x27;path&#x27;: &#x27;/2/httpapi&#x27;, &#x27;group_…</td><td>&quot;event&quot;</td><td>&quot;None&quot;</td><td>&quot;None&quot;</td><td>&quot;Windows&quot;</td><td>&quot;a8b357fb-b4fb-45d2-babd-42b470…</td><td>&quot;None&quot;</td><td>&quot;None&quot;</td><td>&quot;Windows&quot;</td><td>&quot;Nashville, TN&quot;</td><td>&quot;27&quot;</td><td>&quot;{&#x27;rowModel&#x27;: &#x27;legacyServer&#x27;, &#x27;…</td><td>&quot;2024-05-22 09:36:09.917000&quot;</td><td>&quot;account-lines::configurable-ta…</td><td>&quot;None&quot;</td><td>&quot;{}&quot;</td><td>&quot;{}&quot;</td><td>&quot;None&quot;</td><td>&quot;None&quot;</td><td>&quot;English&quot;</td><td>&quot;amplitude-ts/1.8.0&quot;</td><td>&quot;None&quot;</td><td>&quot;None&quot;</td><td>&quot;Edge&quot;</td><td>&quot;125.0.0.0&quot;</td><td>&quot;None&quot;</td><td>&quot;None&quot;</td><td>&quot;{}&quot;</td><td>&quot;Web&quot;</td><td>&quot;2024-05-22 09:36:11.662000&quot;</td><td>&quot;Tennessee&quot;</td><td>&quot;None&quot;</td><td>&quot;2024-05-22 09:36:10.832000&quot;</td><td>&quot;2024-05-22 09:36:10.833000&quot;</td><td>&quot;1716368557821&quot;</td><td>&quot;None&quot;</td><td>&quot;None&quot;</td><td>&quot;None&quot;</td><td>&quot;9aecc15d-64a4-4190-80f5-b5b842…</td><td>&quot;{&#x27;initial_utm_medium&#x27;: &#x27;EMPTY&#x27;…</td><td>&quot;7a24386f-31b8-4a91-b01c-802a4e…</td><td>&quot;None&quot;</td><td>99996</td></tr><tr><td>&quot;8cb28e22-0dc3-456c-9956-41d52b…</td><td>&quot;None&quot;</td><td>&quot;None&quot;</td><td>&quot;None&quot;</td><td>&quot;None&quot;</td><td>&quot;None&quot;</td><td>&quot;857540480084&quot;</td><td>&quot;591532&quot;</td><td>&quot;Nashville&quot;</td><td>&quot;2024-05-22 09:36:15.727000&quot;</td><td>&quot;2024-05-22 09:36:16.789000&quot;</td><td>&quot;United States&quot;</td><td>&quot;{&#x27;path&#x27;: &#x27;/2/httpapi&#x27;, &#x27;group_…</td><td>&quot;event&quot;</td><td>&quot;None&quot;</td><td>&quot;None&quot;</td><td>&quot;Windows&quot;</td><td>&quot;a8b357fb-b4fb-45d2-babd-42b470…</td><td>&quot;None&quot;</td><td>&quot;None&quot;</td><td>&quot;Windows&quot;</td><td>&quot;Nashville, TN&quot;</td><td>&quot;28&quot;</td><td>&quot;{&#x27;displayName&#x27;: &#x27;Attachments&#x27;,…</td><td>&quot;2024-05-22 09:36:15.727000&quot;</td><td>&quot;account-lines::widget:render&quot;</td><td>&quot;None&quot;</td><td>&quot;{}&quot;</td><td>&quot;{}&quot;</td><td>&quot;None&quot;</td><td>&quot;None&quot;</td><td>&quot;English&quot;</td><td>&quot;amplitude-ts/1.8.0&quot;</td><td>&quot;None&quot;</td><td>&quot;None&quot;</td><td>&quot;Edge&quot;</td><td>&quot;125.0.0.0&quot;</td><td>&quot;None&quot;</td><td>&quot;None&quot;</td><td>&quot;{}&quot;</td><td>&quot;Web&quot;</td><td>&quot;2024-05-22 09:36:17.297000&quot;</td><td>&quot;Tennessee&quot;</td><td>&quot;None&quot;</td><td>&quot;2024-05-22 09:36:16.789000&quot;</td><td>&quot;2024-05-22 09:36:16.791000&quot;</td><td>&quot;1716368557821&quot;</td><td>&quot;None&quot;</td><td>&quot;None&quot;</td><td>&quot;None&quot;</td><td>&quot;9aecc15d-64a4-4190-80f5-b5b842…</td><td>&quot;{&#x27;initial_utm_medium&#x27;: &#x27;EMPTY&#x27;…</td><td>&quot;58501f05-388a-43aa-adeb-74c9a0…</td><td>&quot;None&quot;</td><td>99997</td></tr><tr><td>&quot;eac4d6a2-2ff0-4e59-80af-aa1b3f…</td><td>&quot;None&quot;</td><td>&quot;None&quot;</td><td>&quot;None&quot;</td><td>&quot;None&quot;</td><td>&quot;None&quot;</td><td>&quot;857540480084&quot;</td><td>&quot;591532&quot;</td><td>&quot;Nashville&quot;</td><td>&quot;2024-05-22 09:36:33.812000&quot;</td><td>&quot;2024-05-22 09:36:34.881000&quot;</td><td>&quot;United States&quot;</td><td>&quot;{&#x27;path&#x27;: &#x27;/2/httpapi&#x27;, &#x27;group_…</td><td>&quot;event&quot;</td><td>&quot;None&quot;</td><td>&quot;None&quot;</td><td>&quot;Windows&quot;</td><td>&quot;a8b357fb-b4fb-45d2-babd-42b470…</td><td>&quot;None&quot;</td><td>&quot;None&quot;</td><td>&quot;Windows&quot;</td><td>&quot;Nashville, TN&quot;</td><td>&quot;29&quot;</td><td>&quot;{}&quot;</td><td>&quot;2024-05-22 09:36:33.812000&quot;</td><td>&quot;::nav-header:action-center-cli…</td><td>&quot;None&quot;</td><td>&quot;{}&quot;</td><td>&quot;{}&quot;</td><td>&quot;None&quot;</td><td>&quot;None&quot;</td><td>&quot;English&quot;</td><td>&quot;amplitude-ts/1.8.0&quot;</td><td>&quot;None&quot;</td><td>&quot;None&quot;</td><td>&quot;Edge&quot;</td><td>&quot;125.0.0.0&quot;</td><td>&quot;None&quot;</td><td>&quot;None&quot;</td><td>&quot;{}&quot;</td><td>&quot;Web&quot;</td><td>&quot;2024-05-22 09:36:36.435000&quot;</td><td>&quot;Tennessee&quot;</td><td>&quot;None&quot;</td><td>&quot;2024-05-22 09:36:34.881000&quot;</td><td>&quot;2024-05-22 09:36:34.883000&quot;</td><td>&quot;1716368557821&quot;</td><td>&quot;None&quot;</td><td>&quot;None&quot;</td><td>&quot;None&quot;</td><td>&quot;9aecc15d-64a4-4190-80f5-b5b842…</td><td>&quot;{&#x27;initial_utm_medium&#x27;: &#x27;EMPTY&#x27;…</td><td>&quot;d227faec-d7e7-4a24-b10b-cbb064…</td><td>&quot;None&quot;</td><td>99998</td></tr><tr><td>&quot;bf44b3b7-2b4d-4e20-a18c-65fb63…</td><td>&quot;None&quot;</td><td>&quot;None&quot;</td><td>&quot;None&quot;</td><td>&quot;None&quot;</td><td>&quot;None&quot;</td><td>&quot;857540480084&quot;</td><td>&quot;591532&quot;</td><td>&quot;Nashville&quot;</td><td>&quot;2024-05-22 09:36:33.815000&quot;</td><td>&quot;2024-05-22 09:36:34.881000&quot;</td><td>&quot;United States&quot;</td><td>&quot;{&#x27;path&#x27;: &#x27;/2/httpapi&#x27;, &#x27;group_…</td><td>&quot;event&quot;</td><td>&quot;None&quot;</td><td>&quot;None&quot;</td><td>&quot;Windows&quot;</td><td>&quot;a8b357fb-b4fb-45d2-babd-42b470…</td><td>&quot;None&quot;</td><td>&quot;None&quot;</td><td>&quot;Windows&quot;</td><td>&quot;Nashville, TN&quot;</td><td>&quot;30&quot;</td><td>&quot;{}&quot;</td><td>&quot;2024-05-22 09:36:33.815000&quot;</td><td>&quot;action-center:::view&quot;</td><td>&quot;None&quot;</td><td>&quot;{}&quot;</td><td>&quot;{}&quot;</td><td>&quot;None&quot;</td><td>&quot;None&quot;</td><td>&quot;English&quot;</td><td>&quot;amplitude-ts/1.8.0&quot;</td><td>&quot;None&quot;</td><td>&quot;None&quot;</td><td>&quot;Edge&quot;</td><td>&quot;125.0.0.0&quot;</td><td>&quot;None&quot;</td><td>&quot;None&quot;</td><td>&quot;{}&quot;</td><td>&quot;Web&quot;</td><td>&quot;2024-05-22 09:36:36.435000&quot;</td><td>&quot;Tennessee&quot;</td><td>&quot;None&quot;</td><td>&quot;2024-05-22 09:36:34.881000&quot;</td><td>&quot;2024-05-22 09:36:34.883000&quot;</td><td>&quot;1716368557821&quot;</td><td>&quot;None&quot;</td><td>&quot;None&quot;</td><td>&quot;None&quot;</td><td>&quot;9aecc15d-64a4-4190-80f5-b5b842…</td><td>&quot;{&#x27;initial_utm_medium&#x27;: &#x27;EMPTY&#x27;…</td><td>&quot;15e2783c-5ab2-4c28-92bf-a6c70b…</td><td>&quot;None&quot;</td><td>99999</td></tr></tbody></table></div>"
      ],
      "text/plain": [
       "shape: (14_526_410, 55)\n",
       "┌────────────┬────────────┬─────────┬──────┬───┬────────────┬────────────┬────────────┬────────────┐\n",
       "│ $insert_id ┆ $insert_ke ┆ $schema ┆ adid ┆ … ┆ user_prope ┆ uuid       ┆ version_na ┆ __index_le │\n",
       "│ ---        ┆ y          ┆ ---     ┆ ---  ┆   ┆ rties      ┆ ---        ┆ me         ┆ vel_0__    │\n",
       "│ str        ┆ ---        ┆ str     ┆ str  ┆   ┆ ---        ┆ str        ┆ ---        ┆ ---        │\n",
       "│            ┆ str        ┆         ┆      ┆   ┆ str        ┆            ┆ str        ┆ i64        │\n",
       "╞════════════╪════════════╪═════════╪══════╪═══╪════════════╪════════════╪════════════╪════════════╡\n",
       "│ 251db963-6 ┆ None       ┆ None    ┆ None ┆ … ┆ {'roles':  ┆ fc2d4a2a-b ┆ None       ┆ 0          │\n",
       "│ 623-448e-8 ┆            ┆         ┆      ┆   ┆ ['underwri ┆ 05e-4620-b ┆            ┆            │\n",
       "│ 665-f542b8 ┆            ┆         ┆      ┆   ┆ ter'],     ┆ 7e9-4e8de5 ┆            ┆            │\n",
       "│ …          ┆            ┆         ┆      ┆   ┆ 'tr…       ┆ …          ┆            ┆            │\n",
       "│ 3a95cdac-1 ┆ None       ┆ None    ┆ None ┆ … ┆ {'roles':  ┆ fa78037e-6 ┆ None       ┆ 1          │\n",
       "│ 74c-4002-8 ┆            ┆         ┆      ┆   ┆ ['underwri ┆ 2ac-4518-b ┆            ┆            │\n",
       "│ e84-8aeba8 ┆            ┆         ┆      ┆   ┆ ter'],     ┆ 095-582feb ┆            ┆            │\n",
       "│ …          ┆            ┆         ┆      ┆   ┆ 'tr…       ┆ …          ┆            ┆            │\n",
       "│ 50dbfad3-8 ┆ None       ┆ None    ┆ None ┆ … ┆ {'roles':  ┆ 9b8c3e3f-0 ┆ None       ┆ 2          │\n",
       "│ e24-456a-a ┆            ┆         ┆      ┆   ┆ ['underwri ┆ 6e8-4e94-9 ┆            ┆            │\n",
       "│ e68-21b09b ┆            ┆         ┆      ┆   ┆ ter'],     ┆ 610-9c7429 ┆            ┆            │\n",
       "│ …          ┆            ┆         ┆      ┆   ┆ 'tr…       ┆ …          ┆            ┆            │\n",
       "│ ea0a4143-2 ┆ None       ┆ None    ┆ None ┆ … ┆ {'roles':  ┆ 61e42442-4 ┆ None       ┆ 3          │\n",
       "│ 380-48e7-a ┆            ┆         ┆      ┆   ┆ ['underwri ┆ 205-4ec5-8 ┆            ┆            │\n",
       "│ 83e-8ba854 ┆            ┆         ┆      ┆   ┆ ter'],     ┆ 94e-b7a4f2 ┆            ┆            │\n",
       "│ …          ┆            ┆         ┆      ┆   ┆ 'tr…       ┆ …          ┆            ┆            │\n",
       "│ 4d89977d-4 ┆ None       ┆ None    ┆ None ┆ … ┆ {'roles':  ┆ 3bc49813-f ┆ None       ┆ 4          │\n",
       "│ 734-450c-a ┆            ┆         ┆      ┆   ┆ ['underwri ┆ 18a-4058-9 ┆            ┆            │\n",
       "│ fa1-07e326 ┆            ┆         ┆      ┆   ┆ ter'],     ┆ b6d-f09598 ┆            ┆            │\n",
       "│ …          ┆            ┆         ┆      ┆   ┆ 'tr…       ┆ …          ┆            ┆            │\n",
       "│ …          ┆ …          ┆ …       ┆ …    ┆ … ┆ …          ┆ …          ┆ …          ┆ …          │\n",
       "│ 102ec3ca-a ┆ None       ┆ None    ┆ None ┆ … ┆ {'initial_ ┆ c97dfcc3-2 ┆ None       ┆ 99995      │\n",
       "│ 467-41a9-a ┆            ┆         ┆      ┆   ┆ utm_medium ┆ 359-4c85-8 ┆            ┆            │\n",
       "│ a19-94f5b0 ┆            ┆         ┆      ┆   ┆ ':         ┆ c55-8a324f ┆            ┆            │\n",
       "│ …          ┆            ┆         ┆      ┆   ┆ 'EMPTY'…   ┆ …          ┆            ┆            │\n",
       "│ 55aec1ce-b ┆ None       ┆ None    ┆ None ┆ … ┆ {'initial_ ┆ 7a24386f-3 ┆ None       ┆ 99996      │\n",
       "│ 876-4f66-b ┆            ┆         ┆      ┆   ┆ utm_medium ┆ 1b8-4a91-b ┆            ┆            │\n",
       "│ 786-fd5706 ┆            ┆         ┆      ┆   ┆ ':         ┆ 01c-802a4e ┆            ┆            │\n",
       "│ …          ┆            ┆         ┆      ┆   ┆ 'EMPTY'…   ┆ …          ┆            ┆            │\n",
       "│ 8cb28e22-0 ┆ None       ┆ None    ┆ None ┆ … ┆ {'initial_ ┆ 58501f05-3 ┆ None       ┆ 99997      │\n",
       "│ dc3-456c-9 ┆            ┆         ┆      ┆   ┆ utm_medium ┆ 88a-43aa-a ┆            ┆            │\n",
       "│ 956-41d52b ┆            ┆         ┆      ┆   ┆ ':         ┆ deb-74c9a0 ┆            ┆            │\n",
       "│ …          ┆            ┆         ┆      ┆   ┆ 'EMPTY'…   ┆ …          ┆            ┆            │\n",
       "│ eac4d6a2-2 ┆ None       ┆ None    ┆ None ┆ … ┆ {'initial_ ┆ d227faec-d ┆ None       ┆ 99998      │\n",
       "│ ff0-4e59-8 ┆            ┆         ┆      ┆   ┆ utm_medium ┆ 7e7-4a24-b ┆            ┆            │\n",
       "│ 0af-aa1b3f ┆            ┆         ┆      ┆   ┆ ':         ┆ 10b-cbb064 ┆            ┆            │\n",
       "│ …          ┆            ┆         ┆      ┆   ┆ 'EMPTY'…   ┆ …          ┆            ┆            │\n",
       "│ bf44b3b7-2 ┆ None       ┆ None    ┆ None ┆ … ┆ {'initial_ ┆ 15e2783c-5 ┆ None       ┆ 99999      │\n",
       "│ b4d-4e20-a ┆            ┆         ┆      ┆   ┆ utm_medium ┆ ab2-4c28-9 ┆            ┆            │\n",
       "│ 18c-65fb63 ┆            ┆         ┆      ┆   ┆ ':         ┆ 2bf-a6c70b ┆            ┆            │\n",
       "│ …          ┆            ┆         ┆      ┆   ┆ 'EMPTY'…   ┆ …          ┆            ┆            │\n",
       "└────────────┴────────────┴─────────┴──────┴───┴────────────┴────────────┴────────────┴────────────┘"
      ]
     },
     "execution_count": 4,
     "metadata": {},
     "output_type": "execute_result"
    }
   ],
   "source": [
    "# Process data\n",
    "file_path = os.path.expanduser(config['pipeline']['input_data'])\n",
    "df = pl.read_parquet(file_path)\n",
    "df"
   ]
  },
  {
   "cell_type": "markdown",
   "metadata": {},
   "source": [
    "### Drop Columns\n",
    "\n",
    "First, we will drop some of the columns that we have decided to not use for modelling during the EDA phase."
   ]
  },
  {
   "cell_type": "code",
   "execution_count": null,
   "metadata": {},
   "outputs": [],
   "source": [
    "# def _file_sort(dir : list[str]):\n",
    "#     files = [f for f in dir if 'df' in f]\n",
    "#     sorted_files = sorted(files, key = lambda x : int(re.findall(r'\\d+', x)[0]))\n",
    "#     return sorted_files\n",
    "\n",
    "\n",
    "# output_path = os.path.expanduser(config['pipeline']['output_path'])\n",
    "# df = None\n",
    "\n",
    "# for file in _file_sort(os.listdir(output_path)):\n",
    "#     if 'df' not in file:\n",
    "#         continue\n",
    "#     df_chunk = pl.read_parquet(output_path + file)\n",
    "    \n",
    "#     if df is None:\n",
    "#         df = df_chunk\n",
    "#         expected_cols = df_chunk.columns\n",
    "#     else: \n",
    "\n",
    "#         # There might be columns missing from chunk\n",
    "#         # If so, add columns in and fill all of the values with null\n",
    "#         missing_cols = set(expected_cols) - set(df_chunk.columns)\n",
    "#         extra_cols = set(df_chunk.columns) - set(expected_cols)\n",
    "#         df_chunk = df_chunk.with_columns(pl.lit(None).alias(c) for c in missing_cols)\n",
    "\n",
    "#         df_chunk = df_chunk.select(expected_cols)\n",
    "#         df = pl.concat([df, df_chunk], how = 'vertical_relaxed')\n",
    "\n",
    "# del df_chunk"
   ]
  },
  {
   "cell_type": "code",
   "execution_count": 5,
   "metadata": {},
   "outputs": [
    {
     "data": {
      "text/html": [
       "<div><style>\n",
       ".dataframe > thead > tr,\n",
       ".dataframe > tbody > tr {\n",
       "  text-align: right;\n",
       "  white-space: pre-wrap;\n",
       "}\n",
       "</style>\n",
       "<small>shape: (14_526_410, 24)</small><table border=\"1\" class=\"dataframe\"><thead><tr><th>$insert_id</th><th>amplitude_id</th><th>app</th><th>city</th><th>client_event_time</th><th>client_upload_time</th><th>country</th><th>device_family</th><th>device_id</th><th>dma</th><th>event_id</th><th>event_properties</th><th>event_time</th><th>event_type</th><th>language</th><th>library</th><th>os_name</th><th>processed_time</th><th>region</th><th>server_received_time</th><th>server_upload_time</th><th>session_id</th><th>user_id</th><th>user_properties</th></tr><tr><td>str</td><td>str</td><td>str</td><td>str</td><td>str</td><td>str</td><td>str</td><td>str</td><td>str</td><td>str</td><td>str</td><td>str</td><td>str</td><td>str</td><td>str</td><td>str</td><td>str</td><td>str</td><td>str</td><td>str</td><td>str</td><td>str</td><td>str</td><td>str</td></tr></thead><tbody><tr><td>&quot;251db963-6623-448e-8665-f542b8…</td><td>&quot;935023330069&quot;</td><td>&quot;591532&quot;</td><td>&quot;Mumbai&quot;</td><td>&quot;2024-10-08 11:41:02.385000&quot;</td><td>&quot;2024-10-08 11:41:04.857000&quot;</td><td>&quot;India&quot;</td><td>&quot;Windows&quot;</td><td>&quot;8bd8b6ab-370f-4b56-b38f-ad221c…</td><td>&quot;None&quot;</td><td>&quot;22216&quot;</td><td>&quot;{}&quot;</td><td>&quot;2024-10-08 11:41:02.385000&quot;</td><td>&quot;session_start&quot;</td><td>&quot;English&quot;</td><td>&quot;amplitude-ts/2.7.2&quot;</td><td>&quot;Chrome&quot;</td><td>&quot;2024-10-08 11:41:05.371000&quot;</td><td>&quot;Maharashtra&quot;</td><td>&quot;2024-10-08 11:41:04.857000&quot;</td><td>&quot;2024-10-08 11:41:04.859000&quot;</td><td>&quot;1728387662385&quot;</td><td>&quot;8038ea38-8ddf-4a1a-825d-8287c0…</td><td>&quot;{&#x27;roles&#x27;: [&#x27;underwriter&#x27;], &#x27;tr…</td></tr><tr><td>&quot;3a95cdac-174c-4002-8e84-8aeba8…</td><td>&quot;935023330069&quot;</td><td>&quot;591532&quot;</td><td>&quot;Mumbai&quot;</td><td>&quot;2024-10-08 11:41:02.386000&quot;</td><td>&quot;2024-10-08 11:41:04.857000&quot;</td><td>&quot;India&quot;</td><td>&quot;Windows&quot;</td><td>&quot;8bd8b6ab-370f-4b56-b38f-ad221c…</td><td>&quot;None&quot;</td><td>&quot;22215&quot;</td><td>&quot;{}&quot;</td><td>&quot;2024-10-08 11:41:02.386000&quot;</td><td>&quot;session_end&quot;</td><td>&quot;English&quot;</td><td>&quot;amplitude-ts/2.7.2&quot;</td><td>&quot;Chrome&quot;</td><td>&quot;2024-10-08 11:41:05.371000&quot;</td><td>&quot;Maharashtra&quot;</td><td>&quot;2024-10-08 11:41:04.857000&quot;</td><td>&quot;2024-10-08 11:41:04.859000&quot;</td><td>&quot;1728387662385&quot;</td><td>&quot;8038ea38-8ddf-4a1a-825d-8287c0…</td><td>&quot;{&#x27;roles&#x27;: [&#x27;underwriter&#x27;], &#x27;tr…</td></tr><tr><td>&quot;50dbfad3-8e24-456a-ae68-21b09b…</td><td>&quot;935023330069&quot;</td><td>&quot;591532&quot;</td><td>&quot;Mumbai&quot;</td><td>&quot;2024-10-08 11:41:02.386000&quot;</td><td>&quot;2024-10-08 11:41:04.857000&quot;</td><td>&quot;India&quot;</td><td>&quot;Windows&quot;</td><td>&quot;8bd8b6ab-370f-4b56-b38f-ad221c…</td><td>&quot;None&quot;</td><td>&quot;22216&quot;</td><td>&quot;{&#x27;[Amplitude] Session Replay I…</td><td>&quot;2024-10-08 11:41:02.386000&quot;</td><td>&quot;session_start&quot;</td><td>&quot;English&quot;</td><td>&quot;amplitude-ts/2.7.2&quot;</td><td>&quot;Chrome&quot;</td><td>&quot;2024-10-08 11:41:05.371000&quot;</td><td>&quot;Maharashtra&quot;</td><td>&quot;2024-10-08 11:41:04.857000&quot;</td><td>&quot;2024-10-08 11:41:04.859000&quot;</td><td>&quot;1728387662386&quot;</td><td>&quot;8038ea38-8ddf-4a1a-825d-8287c0…</td><td>&quot;{&#x27;roles&#x27;: [&#x27;underwriter&#x27;], &#x27;tr…</td></tr><tr><td>&quot;ea0a4143-2380-48e7-a83e-8ba854…</td><td>&quot;935023330069&quot;</td><td>&quot;591532&quot;</td><td>&quot;Mumbai&quot;</td><td>&quot;2024-10-08 11:41:03.500000&quot;</td><td>&quot;2024-10-08 11:41:04.857000&quot;</td><td>&quot;India&quot;</td><td>&quot;Windows&quot;</td><td>&quot;8bd8b6ab-370f-4b56-b38f-ad221c…</td><td>&quot;None&quot;</td><td>&quot;22217&quot;</td><td>&quot;{&#x27;rowModel&#x27;: &#x27;server&#x27;, &#x27;[Ampli…</td><td>&quot;2024-10-08 11:41:03.500000&quot;</td><td>&quot;:all-accounts:configurable-tab…</td><td>&quot;English&quot;</td><td>&quot;amplitude-ts/2.7.2&quot;</td><td>&quot;Chrome&quot;</td><td>&quot;2024-10-08 11:41:05.371000&quot;</td><td>&quot;Maharashtra&quot;</td><td>&quot;2024-10-08 11:41:04.857000&quot;</td><td>&quot;2024-10-08 11:41:04.859000&quot;</td><td>&quot;1728387662386&quot;</td><td>&quot;8038ea38-8ddf-4a1a-825d-8287c0…</td><td>&quot;{&#x27;roles&#x27;: [&#x27;underwriter&#x27;], &#x27;tr…</td></tr><tr><td>&quot;4d89977d-4734-450c-afa1-07e326…</td><td>&quot;935023330069&quot;</td><td>&quot;591532&quot;</td><td>&quot;Mumbai&quot;</td><td>&quot;2024-10-08 11:41:03.527000&quot;</td><td>&quot;2024-10-08 11:41:04.857000&quot;</td><td>&quot;India&quot;</td><td>&quot;Windows&quot;</td><td>&quot;8bd8b6ab-370f-4b56-b38f-ad221c…</td><td>&quot;None&quot;</td><td>&quot;22217&quot;</td><td>&quot;{&#x27;displayName&#x27;: &#x27;All Policies …</td><td>&quot;2024-10-08 11:41:03.527000&quot;</td><td>&quot;:all-accounts:widget:render&quot;</td><td>&quot;English&quot;</td><td>&quot;amplitude-ts/2.7.2&quot;</td><td>&quot;Chrome&quot;</td><td>&quot;2024-10-08 11:41:05.371000&quot;</td><td>&quot;Maharashtra&quot;</td><td>&quot;2024-10-08 11:41:04.857000&quot;</td><td>&quot;2024-10-08 11:41:04.859000&quot;</td><td>&quot;1728387662386&quot;</td><td>&quot;8038ea38-8ddf-4a1a-825d-8287c0…</td><td>&quot;{&#x27;roles&#x27;: [&#x27;underwriter&#x27;], &#x27;tr…</td></tr><tr><td>&hellip;</td><td>&hellip;</td><td>&hellip;</td><td>&hellip;</td><td>&hellip;</td><td>&hellip;</td><td>&hellip;</td><td>&hellip;</td><td>&hellip;</td><td>&hellip;</td><td>&hellip;</td><td>&hellip;</td><td>&hellip;</td><td>&hellip;</td><td>&hellip;</td><td>&hellip;</td><td>&hellip;</td><td>&hellip;</td><td>&hellip;</td><td>&hellip;</td><td>&hellip;</td><td>&hellip;</td><td>&hellip;</td><td>&hellip;</td></tr><tr><td>&quot;102ec3ca-a467-41a9-aa19-94f5b0…</td><td>&quot;857540480084&quot;</td><td>&quot;591532&quot;</td><td>&quot;Nashville&quot;</td><td>&quot;2024-05-22 09:36:09.888000&quot;</td><td>&quot;2024-05-22 09:36:10.832000&quot;</td><td>&quot;United States&quot;</td><td>&quot;Windows&quot;</td><td>&quot;a8b357fb-b4fb-45d2-babd-42b470…</td><td>&quot;Nashville, TN&quot;</td><td>&quot;26&quot;</td><td>&quot;{&#x27;displayName&#x27;: &#x27;One Drive Lin…</td><td>&quot;2024-05-22 09:36:09.888000&quot;</td><td>&quot;account-lines::widget:render&quot;</td><td>&quot;English&quot;</td><td>&quot;amplitude-ts/1.8.0&quot;</td><td>&quot;Edge&quot;</td><td>&quot;2024-05-22 09:36:11.662000&quot;</td><td>&quot;Tennessee&quot;</td><td>&quot;2024-05-22 09:36:10.832000&quot;</td><td>&quot;2024-05-22 09:36:10.833000&quot;</td><td>&quot;1716368557821&quot;</td><td>&quot;9aecc15d-64a4-4190-80f5-b5b842…</td><td>&quot;{&#x27;initial_utm_medium&#x27;: &#x27;EMPTY&#x27;…</td></tr><tr><td>&quot;55aec1ce-b876-4f66-b786-fd5706…</td><td>&quot;857540480084&quot;</td><td>&quot;591532&quot;</td><td>&quot;Nashville&quot;</td><td>&quot;2024-05-22 09:36:09.917000&quot;</td><td>&quot;2024-05-22 09:36:10.832000&quot;</td><td>&quot;United States&quot;</td><td>&quot;Windows&quot;</td><td>&quot;a8b357fb-b4fb-45d2-babd-42b470…</td><td>&quot;Nashville, TN&quot;</td><td>&quot;27&quot;</td><td>&quot;{&#x27;rowModel&#x27;: &#x27;legacyServer&#x27;, &#x27;…</td><td>&quot;2024-05-22 09:36:09.917000&quot;</td><td>&quot;account-lines::configurable-ta…</td><td>&quot;English&quot;</td><td>&quot;amplitude-ts/1.8.0&quot;</td><td>&quot;Edge&quot;</td><td>&quot;2024-05-22 09:36:11.662000&quot;</td><td>&quot;Tennessee&quot;</td><td>&quot;2024-05-22 09:36:10.832000&quot;</td><td>&quot;2024-05-22 09:36:10.833000&quot;</td><td>&quot;1716368557821&quot;</td><td>&quot;9aecc15d-64a4-4190-80f5-b5b842…</td><td>&quot;{&#x27;initial_utm_medium&#x27;: &#x27;EMPTY&#x27;…</td></tr><tr><td>&quot;8cb28e22-0dc3-456c-9956-41d52b…</td><td>&quot;857540480084&quot;</td><td>&quot;591532&quot;</td><td>&quot;Nashville&quot;</td><td>&quot;2024-05-22 09:36:15.727000&quot;</td><td>&quot;2024-05-22 09:36:16.789000&quot;</td><td>&quot;United States&quot;</td><td>&quot;Windows&quot;</td><td>&quot;a8b357fb-b4fb-45d2-babd-42b470…</td><td>&quot;Nashville, TN&quot;</td><td>&quot;28&quot;</td><td>&quot;{&#x27;displayName&#x27;: &#x27;Attachments&#x27;,…</td><td>&quot;2024-05-22 09:36:15.727000&quot;</td><td>&quot;account-lines::widget:render&quot;</td><td>&quot;English&quot;</td><td>&quot;amplitude-ts/1.8.0&quot;</td><td>&quot;Edge&quot;</td><td>&quot;2024-05-22 09:36:17.297000&quot;</td><td>&quot;Tennessee&quot;</td><td>&quot;2024-05-22 09:36:16.789000&quot;</td><td>&quot;2024-05-22 09:36:16.791000&quot;</td><td>&quot;1716368557821&quot;</td><td>&quot;9aecc15d-64a4-4190-80f5-b5b842…</td><td>&quot;{&#x27;initial_utm_medium&#x27;: &#x27;EMPTY&#x27;…</td></tr><tr><td>&quot;eac4d6a2-2ff0-4e59-80af-aa1b3f…</td><td>&quot;857540480084&quot;</td><td>&quot;591532&quot;</td><td>&quot;Nashville&quot;</td><td>&quot;2024-05-22 09:36:33.812000&quot;</td><td>&quot;2024-05-22 09:36:34.881000&quot;</td><td>&quot;United States&quot;</td><td>&quot;Windows&quot;</td><td>&quot;a8b357fb-b4fb-45d2-babd-42b470…</td><td>&quot;Nashville, TN&quot;</td><td>&quot;29&quot;</td><td>&quot;{}&quot;</td><td>&quot;2024-05-22 09:36:33.812000&quot;</td><td>&quot;::nav-header:action-center-cli…</td><td>&quot;English&quot;</td><td>&quot;amplitude-ts/1.8.0&quot;</td><td>&quot;Edge&quot;</td><td>&quot;2024-05-22 09:36:36.435000&quot;</td><td>&quot;Tennessee&quot;</td><td>&quot;2024-05-22 09:36:34.881000&quot;</td><td>&quot;2024-05-22 09:36:34.883000&quot;</td><td>&quot;1716368557821&quot;</td><td>&quot;9aecc15d-64a4-4190-80f5-b5b842…</td><td>&quot;{&#x27;initial_utm_medium&#x27;: &#x27;EMPTY&#x27;…</td></tr><tr><td>&quot;bf44b3b7-2b4d-4e20-a18c-65fb63…</td><td>&quot;857540480084&quot;</td><td>&quot;591532&quot;</td><td>&quot;Nashville&quot;</td><td>&quot;2024-05-22 09:36:33.815000&quot;</td><td>&quot;2024-05-22 09:36:34.881000&quot;</td><td>&quot;United States&quot;</td><td>&quot;Windows&quot;</td><td>&quot;a8b357fb-b4fb-45d2-babd-42b470…</td><td>&quot;Nashville, TN&quot;</td><td>&quot;30&quot;</td><td>&quot;{}&quot;</td><td>&quot;2024-05-22 09:36:33.815000&quot;</td><td>&quot;action-center:::view&quot;</td><td>&quot;English&quot;</td><td>&quot;amplitude-ts/1.8.0&quot;</td><td>&quot;Edge&quot;</td><td>&quot;2024-05-22 09:36:36.435000&quot;</td><td>&quot;Tennessee&quot;</td><td>&quot;2024-05-22 09:36:34.881000&quot;</td><td>&quot;2024-05-22 09:36:34.883000&quot;</td><td>&quot;1716368557821&quot;</td><td>&quot;9aecc15d-64a4-4190-80f5-b5b842…</td><td>&quot;{&#x27;initial_utm_medium&#x27;: &#x27;EMPTY&#x27;…</td></tr></tbody></table></div>"
      ],
      "text/plain": [
       "shape: (14_526_410, 24)\n",
       "┌────────────┬────────────┬────────┬───────────┬───┬───────────┬───────────┬───────────┬───────────┐\n",
       "│ $insert_id ┆ amplitude_ ┆ app    ┆ city      ┆ … ┆ server_up ┆ session_i ┆ user_id   ┆ user_prop │\n",
       "│ ---        ┆ id         ┆ ---    ┆ ---       ┆   ┆ load_time ┆ d         ┆ ---       ┆ erties    │\n",
       "│ str        ┆ ---        ┆ str    ┆ str       ┆   ┆ ---       ┆ ---       ┆ str       ┆ ---       │\n",
       "│            ┆ str        ┆        ┆           ┆   ┆ str       ┆ str       ┆           ┆ str       │\n",
       "╞════════════╪════════════╪════════╪═══════════╪═══╪═══════════╪═══════════╪═══════════╪═══════════╡\n",
       "│ 251db963-6 ┆ 9350233300 ┆ 591532 ┆ Mumbai    ┆ … ┆ 2024-10-0 ┆ 172838766 ┆ 8038ea38- ┆ {'roles': │\n",
       "│ 623-448e-8 ┆ 69         ┆        ┆           ┆   ┆ 8 11:41:0 ┆ 2385      ┆ 8ddf-4a1a ┆ ['underwr │\n",
       "│ 665-f542b8 ┆            ┆        ┆           ┆   ┆ 4.859000  ┆           ┆ -825d-828 ┆ iter'],   │\n",
       "│ …          ┆            ┆        ┆           ┆   ┆           ┆           ┆ 7c0…      ┆ 'tr…      │\n",
       "│ 3a95cdac-1 ┆ 9350233300 ┆ 591532 ┆ Mumbai    ┆ … ┆ 2024-10-0 ┆ 172838766 ┆ 8038ea38- ┆ {'roles': │\n",
       "│ 74c-4002-8 ┆ 69         ┆        ┆           ┆   ┆ 8 11:41:0 ┆ 2385      ┆ 8ddf-4a1a ┆ ['underwr │\n",
       "│ e84-8aeba8 ┆            ┆        ┆           ┆   ┆ 4.859000  ┆           ┆ -825d-828 ┆ iter'],   │\n",
       "│ …          ┆            ┆        ┆           ┆   ┆           ┆           ┆ 7c0…      ┆ 'tr…      │\n",
       "│ 50dbfad3-8 ┆ 9350233300 ┆ 591532 ┆ Mumbai    ┆ … ┆ 2024-10-0 ┆ 172838766 ┆ 8038ea38- ┆ {'roles': │\n",
       "│ e24-456a-a ┆ 69         ┆        ┆           ┆   ┆ 8 11:41:0 ┆ 2386      ┆ 8ddf-4a1a ┆ ['underwr │\n",
       "│ e68-21b09b ┆            ┆        ┆           ┆   ┆ 4.859000  ┆           ┆ -825d-828 ┆ iter'],   │\n",
       "│ …          ┆            ┆        ┆           ┆   ┆           ┆           ┆ 7c0…      ┆ 'tr…      │\n",
       "│ ea0a4143-2 ┆ 9350233300 ┆ 591532 ┆ Mumbai    ┆ … ┆ 2024-10-0 ┆ 172838766 ┆ 8038ea38- ┆ {'roles': │\n",
       "│ 380-48e7-a ┆ 69         ┆        ┆           ┆   ┆ 8 11:41:0 ┆ 2386      ┆ 8ddf-4a1a ┆ ['underwr │\n",
       "│ 83e-8ba854 ┆            ┆        ┆           ┆   ┆ 4.859000  ┆           ┆ -825d-828 ┆ iter'],   │\n",
       "│ …          ┆            ┆        ┆           ┆   ┆           ┆           ┆ 7c0…      ┆ 'tr…      │\n",
       "│ 4d89977d-4 ┆ 9350233300 ┆ 591532 ┆ Mumbai    ┆ … ┆ 2024-10-0 ┆ 172838766 ┆ 8038ea38- ┆ {'roles': │\n",
       "│ 734-450c-a ┆ 69         ┆        ┆           ┆   ┆ 8 11:41:0 ┆ 2386      ┆ 8ddf-4a1a ┆ ['underwr │\n",
       "│ fa1-07e326 ┆            ┆        ┆           ┆   ┆ 4.859000  ┆           ┆ -825d-828 ┆ iter'],   │\n",
       "│ …          ┆            ┆        ┆           ┆   ┆           ┆           ┆ 7c0…      ┆ 'tr…      │\n",
       "│ …          ┆ …          ┆ …      ┆ …         ┆ … ┆ …         ┆ …         ┆ …         ┆ …         │\n",
       "│ 102ec3ca-a ┆ 8575404800 ┆ 591532 ┆ Nashville ┆ … ┆ 2024-05-2 ┆ 171636855 ┆ 9aecc15d- ┆ {'initial │\n",
       "│ 467-41a9-a ┆ 84         ┆        ┆           ┆   ┆ 2 09:36:1 ┆ 7821      ┆ 64a4-4190 ┆ _utm_medi │\n",
       "│ a19-94f5b0 ┆            ┆        ┆           ┆   ┆ 0.833000  ┆           ┆ -80f5-b5b ┆ um':      │\n",
       "│ …          ┆            ┆        ┆           ┆   ┆           ┆           ┆ 842…      ┆ 'EMPTY'…  │\n",
       "│ 55aec1ce-b ┆ 8575404800 ┆ 591532 ┆ Nashville ┆ … ┆ 2024-05-2 ┆ 171636855 ┆ 9aecc15d- ┆ {'initial │\n",
       "│ 876-4f66-b ┆ 84         ┆        ┆           ┆   ┆ 2 09:36:1 ┆ 7821      ┆ 64a4-4190 ┆ _utm_medi │\n",
       "│ 786-fd5706 ┆            ┆        ┆           ┆   ┆ 0.833000  ┆           ┆ -80f5-b5b ┆ um':      │\n",
       "│ …          ┆            ┆        ┆           ┆   ┆           ┆           ┆ 842…      ┆ 'EMPTY'…  │\n",
       "│ 8cb28e22-0 ┆ 8575404800 ┆ 591532 ┆ Nashville ┆ … ┆ 2024-05-2 ┆ 171636855 ┆ 9aecc15d- ┆ {'initial │\n",
       "│ dc3-456c-9 ┆ 84         ┆        ┆           ┆   ┆ 2 09:36:1 ┆ 7821      ┆ 64a4-4190 ┆ _utm_medi │\n",
       "│ 956-41d52b ┆            ┆        ┆           ┆   ┆ 6.791000  ┆           ┆ -80f5-b5b ┆ um':      │\n",
       "│ …          ┆            ┆        ┆           ┆   ┆           ┆           ┆ 842…      ┆ 'EMPTY'…  │\n",
       "│ eac4d6a2-2 ┆ 8575404800 ┆ 591532 ┆ Nashville ┆ … ┆ 2024-05-2 ┆ 171636855 ┆ 9aecc15d- ┆ {'initial │\n",
       "│ ff0-4e59-8 ┆ 84         ┆        ┆           ┆   ┆ 2 09:36:3 ┆ 7821      ┆ 64a4-4190 ┆ _utm_medi │\n",
       "│ 0af-aa1b3f ┆            ┆        ┆           ┆   ┆ 4.883000  ┆           ┆ -80f5-b5b ┆ um':      │\n",
       "│ …          ┆            ┆        ┆           ┆   ┆           ┆           ┆ 842…      ┆ 'EMPTY'…  │\n",
       "│ bf44b3b7-2 ┆ 8575404800 ┆ 591532 ┆ Nashville ┆ … ┆ 2024-05-2 ┆ 171636855 ┆ 9aecc15d- ┆ {'initial │\n",
       "│ b4d-4e20-a ┆ 84         ┆        ┆           ┆   ┆ 2 09:36:3 ┆ 7821      ┆ 64a4-4190 ┆ _utm_medi │\n",
       "│ 18c-65fb63 ┆            ┆        ┆           ┆   ┆ 4.883000  ┆           ┆ -80f5-b5b ┆ um':      │\n",
       "│ …          ┆            ┆        ┆           ┆   ┆           ┆           ┆ 842…      ┆ 'EMPTY'…  │\n",
       "└────────────┴────────────┴────────┴───────────┴───┴───────────┴───────────┴───────────┴───────────┘"
      ]
     },
     "execution_count": 5,
     "metadata": {},
     "output_type": "execute_result"
    }
   ],
   "source": [
    "df = drop_columns(df, config, 0)\n",
    "df"
   ]
  },
  {
   "cell_type": "code",
   "execution_count": null,
   "metadata": {},
   "outputs": [],
   "source": [
    "# Expand dict columns\n",
    "df = batch_preprocess_data(df, expand_dict_columns, config, BATCH_SIZE)\n",
    "df"
   ]
  },
  {
   "cell_type": "markdown",
   "metadata": {},
   "source": [
    "### Enforce Types\n",
    "\n",
    "Next, we will convert the types of each column to our desired type"
   ]
  },
  {
   "cell_type": "code",
   "execution_count": 5,
   "metadata": {},
   "outputs": [
    {
     "data": {
      "text/html": [
       "<div><style>\n",
       ".dataframe > thead > tr,\n",
       ".dataframe > tbody > tr {\n",
       "  text-align: right;\n",
       "  white-space: pre-wrap;\n",
       "}\n",
       "</style>\n",
       "<small>shape: (14_526_410, 28)</small><table border=\"1\" class=\"dataframe\"><thead><tr><th>$insert_id</th><th>amplitude_id</th><th>app</th><th>city</th><th>client_event_time</th><th>client_upload_time</th><th>country</th><th>device_family</th><th>device_id</th><th>dma</th><th>event_id</th><th>event_properties</th><th>event_time</th><th>event_type</th><th>language</th><th>library</th><th>os_name</th><th>processed_time</th><th>region</th><th>server_received_time</th><th>server_upload_time</th><th>session_id</th><th>user_id</th><th>user_properties</th><th>roles</th><th>isInternalUser</th><th>referrer</th><th>slug</th></tr><tr><td>str</td><td>i64</td><td>i64</td><td>str</td><td>datetime[μs]</td><td>datetime[μs]</td><td>str</td><td>str</td><td>str</td><td>str</td><td>i64</td><td>str</td><td>datetime[μs]</td><td>str</td><td>str</td><td>str</td><td>str</td><td>datetime[μs]</td><td>str</td><td>datetime[μs]</td><td>datetime[μs]</td><td>i64</td><td>str</td><td>str</td><td>str</td><td>str</td><td>str</td><td>str</td></tr></thead><tbody><tr><td>&quot;251db963-6623-448e-8665-f542b8…</td><td>935023330069</td><td>591532</td><td>&quot;Mumbai&quot;</td><td>2024-10-08 11:41:02.385</td><td>2024-10-08 11:41:04.857</td><td>&quot;India&quot;</td><td>&quot;Windows&quot;</td><td>&quot;8bd8b6ab-370f-4b56-b38f-ad221c…</td><td>&quot;None&quot;</td><td>22216</td><td>&quot;{}&quot;</td><td>2024-10-08 11:41:02.385</td><td>&quot;session_start&quot;</td><td>&quot;English&quot;</td><td>&quot;amplitude-ts/2.7.2&quot;</td><td>&quot;Chrome&quot;</td><td>2024-10-08 11:41:05.371</td><td>&quot;Maharashtra&quot;</td><td>2024-10-08 11:41:04.857</td><td>2024-10-08 11:41:04.859</td><td>1728387662385</td><td>&quot;8038ea38-8ddf-4a1a-825d-8287c0…</td><td>&quot;{&#x27;roles&#x27;: [&#x27;underwriter&#x27;], &#x27;tr…</td><td>&quot;underwriter&quot;</td><td>&quot;False&quot;</td><td>&quot;https://accounts.google.com/&quot;</td><td>null</td></tr><tr><td>&quot;3a95cdac-174c-4002-8e84-8aeba8…</td><td>935023330069</td><td>591532</td><td>&quot;Mumbai&quot;</td><td>2024-10-08 11:41:02.386</td><td>2024-10-08 11:41:04.857</td><td>&quot;India&quot;</td><td>&quot;Windows&quot;</td><td>&quot;8bd8b6ab-370f-4b56-b38f-ad221c…</td><td>&quot;None&quot;</td><td>22215</td><td>&quot;{}&quot;</td><td>2024-10-08 11:41:02.386</td><td>&quot;session_end&quot;</td><td>&quot;English&quot;</td><td>&quot;amplitude-ts/2.7.2&quot;</td><td>&quot;Chrome&quot;</td><td>2024-10-08 11:41:05.371</td><td>&quot;Maharashtra&quot;</td><td>2024-10-08 11:41:04.857</td><td>2024-10-08 11:41:04.859</td><td>1728387662385</td><td>&quot;8038ea38-8ddf-4a1a-825d-8287c0…</td><td>&quot;{&#x27;roles&#x27;: [&#x27;underwriter&#x27;], &#x27;tr…</td><td>&quot;underwriter&quot;</td><td>&quot;False&quot;</td><td>&quot;https://accounts.google.com/&quot;</td><td>null</td></tr><tr><td>&quot;50dbfad3-8e24-456a-ae68-21b09b…</td><td>935023330069</td><td>591532</td><td>&quot;Mumbai&quot;</td><td>2024-10-08 11:41:02.386</td><td>2024-10-08 11:41:04.857</td><td>&quot;India&quot;</td><td>&quot;Windows&quot;</td><td>&quot;8bd8b6ab-370f-4b56-b38f-ad221c…</td><td>&quot;None&quot;</td><td>22216</td><td>&quot;{&#x27;[Amplitude] Session Replay I…</td><td>2024-10-08 11:41:02.386</td><td>&quot;session_start&quot;</td><td>&quot;English&quot;</td><td>&quot;amplitude-ts/2.7.2&quot;</td><td>&quot;Chrome&quot;</td><td>2024-10-08 11:41:05.371</td><td>&quot;Maharashtra&quot;</td><td>2024-10-08 11:41:04.857</td><td>2024-10-08 11:41:04.859</td><td>1728387662386</td><td>&quot;8038ea38-8ddf-4a1a-825d-8287c0…</td><td>&quot;{&#x27;roles&#x27;: [&#x27;underwriter&#x27;], &#x27;tr…</td><td>&quot;underwriter&quot;</td><td>&quot;False&quot;</td><td>&quot;https://accounts.google.com/&quot;</td><td>null</td></tr><tr><td>&quot;ea0a4143-2380-48e7-a83e-8ba854…</td><td>935023330069</td><td>591532</td><td>&quot;Mumbai&quot;</td><td>2024-10-08 11:41:03.500</td><td>2024-10-08 11:41:04.857</td><td>&quot;India&quot;</td><td>&quot;Windows&quot;</td><td>&quot;8bd8b6ab-370f-4b56-b38f-ad221c…</td><td>&quot;None&quot;</td><td>22217</td><td>&quot;{&#x27;rowModel&#x27;: &#x27;server&#x27;, &#x27;[Ampli…</td><td>2024-10-08 11:41:03.500</td><td>&quot;:all-accounts:configurable-tab…</td><td>&quot;English&quot;</td><td>&quot;amplitude-ts/2.7.2&quot;</td><td>&quot;Chrome&quot;</td><td>2024-10-08 11:41:05.371</td><td>&quot;Maharashtra&quot;</td><td>2024-10-08 11:41:04.857</td><td>2024-10-08 11:41:04.859</td><td>1728387662386</td><td>&quot;8038ea38-8ddf-4a1a-825d-8287c0…</td><td>&quot;{&#x27;roles&#x27;: [&#x27;underwriter&#x27;], &#x27;tr…</td><td>&quot;underwriter&quot;</td><td>&quot;False&quot;</td><td>&quot;https://accounts.google.com/&quot;</td><td>null</td></tr><tr><td>&quot;4d89977d-4734-450c-afa1-07e326…</td><td>935023330069</td><td>591532</td><td>&quot;Mumbai&quot;</td><td>2024-10-08 11:41:03.527</td><td>2024-10-08 11:41:04.857</td><td>&quot;India&quot;</td><td>&quot;Windows&quot;</td><td>&quot;8bd8b6ab-370f-4b56-b38f-ad221c…</td><td>&quot;None&quot;</td><td>22217</td><td>&quot;{&#x27;displayName&#x27;: &#x27;All Policies …</td><td>2024-10-08 11:41:03.527</td><td>&quot;:all-accounts:widget:render&quot;</td><td>&quot;English&quot;</td><td>&quot;amplitude-ts/2.7.2&quot;</td><td>&quot;Chrome&quot;</td><td>2024-10-08 11:41:05.371</td><td>&quot;Maharashtra&quot;</td><td>2024-10-08 11:41:04.857</td><td>2024-10-08 11:41:04.859</td><td>1728387662386</td><td>&quot;8038ea38-8ddf-4a1a-825d-8287c0…</td><td>&quot;{&#x27;roles&#x27;: [&#x27;underwriter&#x27;], &#x27;tr…</td><td>&quot;underwriter&quot;</td><td>&quot;False&quot;</td><td>&quot;https://accounts.google.com/&quot;</td><td>null</td></tr><tr><td>&hellip;</td><td>&hellip;</td><td>&hellip;</td><td>&hellip;</td><td>&hellip;</td><td>&hellip;</td><td>&hellip;</td><td>&hellip;</td><td>&hellip;</td><td>&hellip;</td><td>&hellip;</td><td>&hellip;</td><td>&hellip;</td><td>&hellip;</td><td>&hellip;</td><td>&hellip;</td><td>&hellip;</td><td>&hellip;</td><td>&hellip;</td><td>&hellip;</td><td>&hellip;</td><td>&hellip;</td><td>&hellip;</td><td>&hellip;</td><td>&hellip;</td><td>&hellip;</td><td>&hellip;</td><td>&hellip;</td></tr><tr><td>&quot;102ec3ca-a467-41a9-aa19-94f5b0…</td><td>857540480084</td><td>591532</td><td>&quot;Nashville&quot;</td><td>2024-05-22 09:36:09.888</td><td>2024-05-22 09:36:10.832</td><td>&quot;United States&quot;</td><td>&quot;Windows&quot;</td><td>&quot;a8b357fb-b4fb-45d2-babd-42b470…</td><td>&quot;Nashville, TN&quot;</td><td>26</td><td>&quot;{&#x27;displayName&#x27;: &#x27;One Drive Lin…</td><td>2024-05-22 09:36:09.888</td><td>&quot;account-lines::widget:render&quot;</td><td>&quot;English&quot;</td><td>&quot;amplitude-ts/1.8.0&quot;</td><td>&quot;Edge&quot;</td><td>2024-05-22 09:36:11.662</td><td>&quot;Tennessee&quot;</td><td>2024-05-22 09:36:10.832</td><td>2024-05-22 09:36:10.833</td><td>1716368557821</td><td>&quot;9aecc15d-64a4-4190-80f5-b5b842…</td><td>&quot;{&#x27;initial_utm_medium&#x27;: &#x27;EMPTY&#x27;…</td><td>&quot;underwriter&quot;</td><td>&quot;False&quot;</td><td>null</td><td>&quot;one-drive-link&quot;</td></tr><tr><td>&quot;55aec1ce-b876-4f66-b786-fd5706…</td><td>857540480084</td><td>591532</td><td>&quot;Nashville&quot;</td><td>2024-05-22 09:36:09.917</td><td>2024-05-22 09:36:10.832</td><td>&quot;United States&quot;</td><td>&quot;Windows&quot;</td><td>&quot;a8b357fb-b4fb-45d2-babd-42b470…</td><td>&quot;Nashville, TN&quot;</td><td>27</td><td>&quot;{&#x27;rowModel&#x27;: &#x27;legacyServer&#x27;, &#x27;…</td><td>2024-05-22 09:36:09.917</td><td>&quot;account-lines::configurable-ta…</td><td>&quot;English&quot;</td><td>&quot;amplitude-ts/1.8.0&quot;</td><td>&quot;Edge&quot;</td><td>2024-05-22 09:36:11.662</td><td>&quot;Tennessee&quot;</td><td>2024-05-22 09:36:10.832</td><td>2024-05-22 09:36:10.833</td><td>1716368557821</td><td>&quot;9aecc15d-64a4-4190-80f5-b5b842…</td><td>&quot;{&#x27;initial_utm_medium&#x27;: &#x27;EMPTY&#x27;…</td><td>&quot;underwriter&quot;</td><td>&quot;False&quot;</td><td>null</td><td>&quot;property-locations&quot;</td></tr><tr><td>&quot;8cb28e22-0dc3-456c-9956-41d52b…</td><td>857540480084</td><td>591532</td><td>&quot;Nashville&quot;</td><td>2024-05-22 09:36:15.727</td><td>2024-05-22 09:36:16.789</td><td>&quot;United States&quot;</td><td>&quot;Windows&quot;</td><td>&quot;a8b357fb-b4fb-45d2-babd-42b470…</td><td>&quot;Nashville, TN&quot;</td><td>28</td><td>&quot;{&#x27;displayName&#x27;: &#x27;Attachments&#x27;,…</td><td>2024-05-22 09:36:15.727</td><td>&quot;account-lines::widget:render&quot;</td><td>&quot;English&quot;</td><td>&quot;amplitude-ts/1.8.0&quot;</td><td>&quot;Edge&quot;</td><td>2024-05-22 09:36:17.297</td><td>&quot;Tennessee&quot;</td><td>2024-05-22 09:36:16.789</td><td>2024-05-22 09:36:16.791</td><td>1716368557821</td><td>&quot;9aecc15d-64a4-4190-80f5-b5b842…</td><td>&quot;{&#x27;initial_utm_medium&#x27;: &#x27;EMPTY&#x27;…</td><td>&quot;underwriter&quot;</td><td>&quot;False&quot;</td><td>null</td><td>&quot;attachments&quot;</td></tr><tr><td>&quot;eac4d6a2-2ff0-4e59-80af-aa1b3f…</td><td>857540480084</td><td>591532</td><td>&quot;Nashville&quot;</td><td>2024-05-22 09:36:33.812</td><td>2024-05-22 09:36:34.881</td><td>&quot;United States&quot;</td><td>&quot;Windows&quot;</td><td>&quot;a8b357fb-b4fb-45d2-babd-42b470…</td><td>&quot;Nashville, TN&quot;</td><td>29</td><td>&quot;{}&quot;</td><td>2024-05-22 09:36:33.812</td><td>&quot;::nav-header:action-center-cli…</td><td>&quot;English&quot;</td><td>&quot;amplitude-ts/1.8.0&quot;</td><td>&quot;Edge&quot;</td><td>2024-05-22 09:36:36.435</td><td>&quot;Tennessee&quot;</td><td>2024-05-22 09:36:34.881</td><td>2024-05-22 09:36:34.883</td><td>1716368557821</td><td>&quot;9aecc15d-64a4-4190-80f5-b5b842…</td><td>&quot;{&#x27;initial_utm_medium&#x27;: &#x27;EMPTY&#x27;…</td><td>&quot;underwriter&quot;</td><td>&quot;False&quot;</td><td>null</td><td>null</td></tr><tr><td>&quot;bf44b3b7-2b4d-4e20-a18c-65fb63…</td><td>857540480084</td><td>591532</td><td>&quot;Nashville&quot;</td><td>2024-05-22 09:36:33.815</td><td>2024-05-22 09:36:34.881</td><td>&quot;United States&quot;</td><td>&quot;Windows&quot;</td><td>&quot;a8b357fb-b4fb-45d2-babd-42b470…</td><td>&quot;Nashville, TN&quot;</td><td>30</td><td>&quot;{}&quot;</td><td>2024-05-22 09:36:33.815</td><td>&quot;action-center:::view&quot;</td><td>&quot;English&quot;</td><td>&quot;amplitude-ts/1.8.0&quot;</td><td>&quot;Edge&quot;</td><td>2024-05-22 09:36:36.435</td><td>&quot;Tennessee&quot;</td><td>2024-05-22 09:36:34.881</td><td>2024-05-22 09:36:34.883</td><td>1716368557821</td><td>&quot;9aecc15d-64a4-4190-80f5-b5b842…</td><td>&quot;{&#x27;initial_utm_medium&#x27;: &#x27;EMPTY&#x27;…</td><td>&quot;underwriter&quot;</td><td>&quot;False&quot;</td><td>null</td><td>null</td></tr></tbody></table></div>"
      ],
      "text/plain": [
       "shape: (14_526_410, 28)\n",
       "┌────────────┬────────────┬────────┬───────────┬───┬───────────┬───────────┬───────────┬───────────┐\n",
       "│ $insert_id ┆ amplitude_ ┆ app    ┆ city      ┆ … ┆ roles     ┆ isInterna ┆ referrer  ┆ slug      │\n",
       "│ ---        ┆ id         ┆ ---    ┆ ---       ┆   ┆ ---       ┆ lUser     ┆ ---       ┆ ---       │\n",
       "│ str        ┆ ---        ┆ i64    ┆ str       ┆   ┆ str       ┆ ---       ┆ str       ┆ str       │\n",
       "│            ┆ i64        ┆        ┆           ┆   ┆           ┆ str       ┆           ┆           │\n",
       "╞════════════╪════════════╪════════╪═══════════╪═══╪═══════════╪═══════════╪═══════════╪═══════════╡\n",
       "│ 251db963-6 ┆ 9350233300 ┆ 591532 ┆ Mumbai    ┆ … ┆ underwrit ┆ False     ┆ https://a ┆ null      │\n",
       "│ 623-448e-8 ┆ 69         ┆        ┆           ┆   ┆ er        ┆           ┆ ccounts.g ┆           │\n",
       "│ 665-f542b8 ┆            ┆        ┆           ┆   ┆           ┆           ┆ oogle.com ┆           │\n",
       "│ …          ┆            ┆        ┆           ┆   ┆           ┆           ┆ /         ┆           │\n",
       "│ 3a95cdac-1 ┆ 9350233300 ┆ 591532 ┆ Mumbai    ┆ … ┆ underwrit ┆ False     ┆ https://a ┆ null      │\n",
       "│ 74c-4002-8 ┆ 69         ┆        ┆           ┆   ┆ er        ┆           ┆ ccounts.g ┆           │\n",
       "│ e84-8aeba8 ┆            ┆        ┆           ┆   ┆           ┆           ┆ oogle.com ┆           │\n",
       "│ …          ┆            ┆        ┆           ┆   ┆           ┆           ┆ /         ┆           │\n",
       "│ 50dbfad3-8 ┆ 9350233300 ┆ 591532 ┆ Mumbai    ┆ … ┆ underwrit ┆ False     ┆ https://a ┆ null      │\n",
       "│ e24-456a-a ┆ 69         ┆        ┆           ┆   ┆ er        ┆           ┆ ccounts.g ┆           │\n",
       "│ e68-21b09b ┆            ┆        ┆           ┆   ┆           ┆           ┆ oogle.com ┆           │\n",
       "│ …          ┆            ┆        ┆           ┆   ┆           ┆           ┆ /         ┆           │\n",
       "│ ea0a4143-2 ┆ 9350233300 ┆ 591532 ┆ Mumbai    ┆ … ┆ underwrit ┆ False     ┆ https://a ┆ null      │\n",
       "│ 380-48e7-a ┆ 69         ┆        ┆           ┆   ┆ er        ┆           ┆ ccounts.g ┆           │\n",
       "│ 83e-8ba854 ┆            ┆        ┆           ┆   ┆           ┆           ┆ oogle.com ┆           │\n",
       "│ …          ┆            ┆        ┆           ┆   ┆           ┆           ┆ /         ┆           │\n",
       "│ 4d89977d-4 ┆ 9350233300 ┆ 591532 ┆ Mumbai    ┆ … ┆ underwrit ┆ False     ┆ https://a ┆ null      │\n",
       "│ 734-450c-a ┆ 69         ┆        ┆           ┆   ┆ er        ┆           ┆ ccounts.g ┆           │\n",
       "│ fa1-07e326 ┆            ┆        ┆           ┆   ┆           ┆           ┆ oogle.com ┆           │\n",
       "│ …          ┆            ┆        ┆           ┆   ┆           ┆           ┆ /         ┆           │\n",
       "│ …          ┆ …          ┆ …      ┆ …         ┆ … ┆ …         ┆ …         ┆ …         ┆ …         │\n",
       "│ 102ec3ca-a ┆ 8575404800 ┆ 591532 ┆ Nashville ┆ … ┆ underwrit ┆ False     ┆ null      ┆ one-drive │\n",
       "│ 467-41a9-a ┆ 84         ┆        ┆           ┆   ┆ er        ┆           ┆           ┆ -link     │\n",
       "│ a19-94f5b0 ┆            ┆        ┆           ┆   ┆           ┆           ┆           ┆           │\n",
       "│ …          ┆            ┆        ┆           ┆   ┆           ┆           ┆           ┆           │\n",
       "│ 55aec1ce-b ┆ 8575404800 ┆ 591532 ┆ Nashville ┆ … ┆ underwrit ┆ False     ┆ null      ┆ property- │\n",
       "│ 876-4f66-b ┆ 84         ┆        ┆           ┆   ┆ er        ┆           ┆           ┆ locations │\n",
       "│ 786-fd5706 ┆            ┆        ┆           ┆   ┆           ┆           ┆           ┆           │\n",
       "│ …          ┆            ┆        ┆           ┆   ┆           ┆           ┆           ┆           │\n",
       "│ 8cb28e22-0 ┆ 8575404800 ┆ 591532 ┆ Nashville ┆ … ┆ underwrit ┆ False     ┆ null      ┆ attachmen │\n",
       "│ dc3-456c-9 ┆ 84         ┆        ┆           ┆   ┆ er        ┆           ┆           ┆ ts        │\n",
       "│ 956-41d52b ┆            ┆        ┆           ┆   ┆           ┆           ┆           ┆           │\n",
       "│ …          ┆            ┆        ┆           ┆   ┆           ┆           ┆           ┆           │\n",
       "│ eac4d6a2-2 ┆ 8575404800 ┆ 591532 ┆ Nashville ┆ … ┆ underwrit ┆ False     ┆ null      ┆ null      │\n",
       "│ ff0-4e59-8 ┆ 84         ┆        ┆           ┆   ┆ er        ┆           ┆           ┆           │\n",
       "│ 0af-aa1b3f ┆            ┆        ┆           ┆   ┆           ┆           ┆           ┆           │\n",
       "│ …          ┆            ┆        ┆           ┆   ┆           ┆           ┆           ┆           │\n",
       "│ bf44b3b7-2 ┆ 8575404800 ┆ 591532 ┆ Nashville ┆ … ┆ underwrit ┆ False     ┆ null      ┆ null      │\n",
       "│ b4d-4e20-a ┆ 84         ┆        ┆           ┆   ┆ er        ┆           ┆           ┆           │\n",
       "│ 18c-65fb63 ┆            ┆        ┆           ┆   ┆           ┆           ┆           ┆           │\n",
       "│ …          ┆            ┆        ┆           ┆   ┆           ┆           ┆           ┆           │\n",
       "└────────────┴────────────┴────────┴───────────┴───┴───────────┴───────────┴───────────┴───────────┘"
      ]
     },
     "execution_count": 5,
     "metadata": {},
     "output_type": "execute_result"
    }
   ],
   "source": [
    "# Enforce Types\n",
    "df = custom_enforce_types(df, config)\n",
    "df"
   ]
  },
  {
   "cell_type": "markdown",
   "metadata": {},
   "source": [
    "### Lowercase All Values"
   ]
  },
  {
   "cell_type": "code",
   "execution_count": 6,
   "metadata": {},
   "outputs": [
    {
     "data": {
      "text/html": [
       "<div><style>\n",
       ".dataframe > thead > tr,\n",
       ".dataframe > tbody > tr {\n",
       "  text-align: right;\n",
       "  white-space: pre-wrap;\n",
       "}\n",
       "</style>\n",
       "<small>shape: (14_526_410, 28)</small><table border=\"1\" class=\"dataframe\"><thead><tr><th>$insert_id</th><th>amplitude_id</th><th>app</th><th>city</th><th>client_event_time</th><th>client_upload_time</th><th>country</th><th>device_family</th><th>device_id</th><th>dma</th><th>event_id</th><th>event_properties</th><th>event_time</th><th>event_type</th><th>language</th><th>library</th><th>os_name</th><th>processed_time</th><th>region</th><th>server_received_time</th><th>server_upload_time</th><th>session_id</th><th>user_id</th><th>user_properties</th><th>roles</th><th>isInternalUser</th><th>referrer</th><th>slug</th></tr><tr><td>str</td><td>i64</td><td>i64</td><td>str</td><td>datetime[μs]</td><td>datetime[μs]</td><td>str</td><td>str</td><td>str</td><td>str</td><td>i64</td><td>str</td><td>datetime[μs]</td><td>str</td><td>str</td><td>str</td><td>str</td><td>datetime[μs]</td><td>str</td><td>datetime[μs]</td><td>datetime[μs]</td><td>i64</td><td>str</td><td>str</td><td>str</td><td>str</td><td>str</td><td>str</td></tr></thead><tbody><tr><td>&quot;251db963-6623-448e-8665-f542b8…</td><td>935023330069</td><td>591532</td><td>&quot;mumbai&quot;</td><td>2024-10-08 11:41:02.385</td><td>2024-10-08 11:41:04.857</td><td>&quot;india&quot;</td><td>&quot;windows&quot;</td><td>&quot;8bd8b6ab-370f-4b56-b38f-ad221c…</td><td>&quot;none&quot;</td><td>22216</td><td>&quot;{}&quot;</td><td>2024-10-08 11:41:02.385</td><td>&quot;session_start&quot;</td><td>&quot;english&quot;</td><td>&quot;amplitude-ts/2.7.2&quot;</td><td>&quot;chrome&quot;</td><td>2024-10-08 11:41:05.371</td><td>&quot;maharashtra&quot;</td><td>2024-10-08 11:41:04.857</td><td>2024-10-08 11:41:04.859</td><td>1728387662385</td><td>&quot;8038ea38-8ddf-4a1a-825d-8287c0…</td><td>&quot;{&#x27;roles&#x27;: [&#x27;underwriter&#x27;], &#x27;tr…</td><td>&quot;underwriter&quot;</td><td>&quot;false&quot;</td><td>&quot;https://accounts.google.com/&quot;</td><td>null</td></tr><tr><td>&quot;3a95cdac-174c-4002-8e84-8aeba8…</td><td>935023330069</td><td>591532</td><td>&quot;mumbai&quot;</td><td>2024-10-08 11:41:02.386</td><td>2024-10-08 11:41:04.857</td><td>&quot;india&quot;</td><td>&quot;windows&quot;</td><td>&quot;8bd8b6ab-370f-4b56-b38f-ad221c…</td><td>&quot;none&quot;</td><td>22215</td><td>&quot;{}&quot;</td><td>2024-10-08 11:41:02.386</td><td>&quot;session_end&quot;</td><td>&quot;english&quot;</td><td>&quot;amplitude-ts/2.7.2&quot;</td><td>&quot;chrome&quot;</td><td>2024-10-08 11:41:05.371</td><td>&quot;maharashtra&quot;</td><td>2024-10-08 11:41:04.857</td><td>2024-10-08 11:41:04.859</td><td>1728387662385</td><td>&quot;8038ea38-8ddf-4a1a-825d-8287c0…</td><td>&quot;{&#x27;roles&#x27;: [&#x27;underwriter&#x27;], &#x27;tr…</td><td>&quot;underwriter&quot;</td><td>&quot;false&quot;</td><td>&quot;https://accounts.google.com/&quot;</td><td>null</td></tr><tr><td>&quot;50dbfad3-8e24-456a-ae68-21b09b…</td><td>935023330069</td><td>591532</td><td>&quot;mumbai&quot;</td><td>2024-10-08 11:41:02.386</td><td>2024-10-08 11:41:04.857</td><td>&quot;india&quot;</td><td>&quot;windows&quot;</td><td>&quot;8bd8b6ab-370f-4b56-b38f-ad221c…</td><td>&quot;none&quot;</td><td>22216</td><td>&quot;{&#x27;[amplitude] session replay i…</td><td>2024-10-08 11:41:02.386</td><td>&quot;session_start&quot;</td><td>&quot;english&quot;</td><td>&quot;amplitude-ts/2.7.2&quot;</td><td>&quot;chrome&quot;</td><td>2024-10-08 11:41:05.371</td><td>&quot;maharashtra&quot;</td><td>2024-10-08 11:41:04.857</td><td>2024-10-08 11:41:04.859</td><td>1728387662386</td><td>&quot;8038ea38-8ddf-4a1a-825d-8287c0…</td><td>&quot;{&#x27;roles&#x27;: [&#x27;underwriter&#x27;], &#x27;tr…</td><td>&quot;underwriter&quot;</td><td>&quot;false&quot;</td><td>&quot;https://accounts.google.com/&quot;</td><td>null</td></tr><tr><td>&quot;ea0a4143-2380-48e7-a83e-8ba854…</td><td>935023330069</td><td>591532</td><td>&quot;mumbai&quot;</td><td>2024-10-08 11:41:03.500</td><td>2024-10-08 11:41:04.857</td><td>&quot;india&quot;</td><td>&quot;windows&quot;</td><td>&quot;8bd8b6ab-370f-4b56-b38f-ad221c…</td><td>&quot;none&quot;</td><td>22217</td><td>&quot;{&#x27;rowmodel&#x27;: &#x27;server&#x27;, &#x27;[ampli…</td><td>2024-10-08 11:41:03.500</td><td>&quot;:all-accounts:configurable-tab…</td><td>&quot;english&quot;</td><td>&quot;amplitude-ts/2.7.2&quot;</td><td>&quot;chrome&quot;</td><td>2024-10-08 11:41:05.371</td><td>&quot;maharashtra&quot;</td><td>2024-10-08 11:41:04.857</td><td>2024-10-08 11:41:04.859</td><td>1728387662386</td><td>&quot;8038ea38-8ddf-4a1a-825d-8287c0…</td><td>&quot;{&#x27;roles&#x27;: [&#x27;underwriter&#x27;], &#x27;tr…</td><td>&quot;underwriter&quot;</td><td>&quot;false&quot;</td><td>&quot;https://accounts.google.com/&quot;</td><td>null</td></tr><tr><td>&quot;4d89977d-4734-450c-afa1-07e326…</td><td>935023330069</td><td>591532</td><td>&quot;mumbai&quot;</td><td>2024-10-08 11:41:03.527</td><td>2024-10-08 11:41:04.857</td><td>&quot;india&quot;</td><td>&quot;windows&quot;</td><td>&quot;8bd8b6ab-370f-4b56-b38f-ad221c…</td><td>&quot;none&quot;</td><td>22217</td><td>&quot;{&#x27;displayname&#x27;: &#x27;all policies …</td><td>2024-10-08 11:41:03.527</td><td>&quot;:all-accounts:widget:render&quot;</td><td>&quot;english&quot;</td><td>&quot;amplitude-ts/2.7.2&quot;</td><td>&quot;chrome&quot;</td><td>2024-10-08 11:41:05.371</td><td>&quot;maharashtra&quot;</td><td>2024-10-08 11:41:04.857</td><td>2024-10-08 11:41:04.859</td><td>1728387662386</td><td>&quot;8038ea38-8ddf-4a1a-825d-8287c0…</td><td>&quot;{&#x27;roles&#x27;: [&#x27;underwriter&#x27;], &#x27;tr…</td><td>&quot;underwriter&quot;</td><td>&quot;false&quot;</td><td>&quot;https://accounts.google.com/&quot;</td><td>null</td></tr><tr><td>&hellip;</td><td>&hellip;</td><td>&hellip;</td><td>&hellip;</td><td>&hellip;</td><td>&hellip;</td><td>&hellip;</td><td>&hellip;</td><td>&hellip;</td><td>&hellip;</td><td>&hellip;</td><td>&hellip;</td><td>&hellip;</td><td>&hellip;</td><td>&hellip;</td><td>&hellip;</td><td>&hellip;</td><td>&hellip;</td><td>&hellip;</td><td>&hellip;</td><td>&hellip;</td><td>&hellip;</td><td>&hellip;</td><td>&hellip;</td><td>&hellip;</td><td>&hellip;</td><td>&hellip;</td><td>&hellip;</td></tr><tr><td>&quot;102ec3ca-a467-41a9-aa19-94f5b0…</td><td>857540480084</td><td>591532</td><td>&quot;nashville&quot;</td><td>2024-05-22 09:36:09.888</td><td>2024-05-22 09:36:10.832</td><td>&quot;united states&quot;</td><td>&quot;windows&quot;</td><td>&quot;a8b357fb-b4fb-45d2-babd-42b470…</td><td>&quot;nashville, tn&quot;</td><td>26</td><td>&quot;{&#x27;displayname&#x27;: &#x27;one drive lin…</td><td>2024-05-22 09:36:09.888</td><td>&quot;account-lines::widget:render&quot;</td><td>&quot;english&quot;</td><td>&quot;amplitude-ts/1.8.0&quot;</td><td>&quot;edge&quot;</td><td>2024-05-22 09:36:11.662</td><td>&quot;tennessee&quot;</td><td>2024-05-22 09:36:10.832</td><td>2024-05-22 09:36:10.833</td><td>1716368557821</td><td>&quot;9aecc15d-64a4-4190-80f5-b5b842…</td><td>&quot;{&#x27;initial_utm_medium&#x27;: &#x27;empty&#x27;…</td><td>&quot;underwriter&quot;</td><td>&quot;false&quot;</td><td>null</td><td>&quot;one-drive-link&quot;</td></tr><tr><td>&quot;55aec1ce-b876-4f66-b786-fd5706…</td><td>857540480084</td><td>591532</td><td>&quot;nashville&quot;</td><td>2024-05-22 09:36:09.917</td><td>2024-05-22 09:36:10.832</td><td>&quot;united states&quot;</td><td>&quot;windows&quot;</td><td>&quot;a8b357fb-b4fb-45d2-babd-42b470…</td><td>&quot;nashville, tn&quot;</td><td>27</td><td>&quot;{&#x27;rowmodel&#x27;: &#x27;legacyserver&#x27;, &#x27;…</td><td>2024-05-22 09:36:09.917</td><td>&quot;account-lines::configurable-ta…</td><td>&quot;english&quot;</td><td>&quot;amplitude-ts/1.8.0&quot;</td><td>&quot;edge&quot;</td><td>2024-05-22 09:36:11.662</td><td>&quot;tennessee&quot;</td><td>2024-05-22 09:36:10.832</td><td>2024-05-22 09:36:10.833</td><td>1716368557821</td><td>&quot;9aecc15d-64a4-4190-80f5-b5b842…</td><td>&quot;{&#x27;initial_utm_medium&#x27;: &#x27;empty&#x27;…</td><td>&quot;underwriter&quot;</td><td>&quot;false&quot;</td><td>null</td><td>&quot;property-locations&quot;</td></tr><tr><td>&quot;8cb28e22-0dc3-456c-9956-41d52b…</td><td>857540480084</td><td>591532</td><td>&quot;nashville&quot;</td><td>2024-05-22 09:36:15.727</td><td>2024-05-22 09:36:16.789</td><td>&quot;united states&quot;</td><td>&quot;windows&quot;</td><td>&quot;a8b357fb-b4fb-45d2-babd-42b470…</td><td>&quot;nashville, tn&quot;</td><td>28</td><td>&quot;{&#x27;displayname&#x27;: &#x27;attachments&#x27;,…</td><td>2024-05-22 09:36:15.727</td><td>&quot;account-lines::widget:render&quot;</td><td>&quot;english&quot;</td><td>&quot;amplitude-ts/1.8.0&quot;</td><td>&quot;edge&quot;</td><td>2024-05-22 09:36:17.297</td><td>&quot;tennessee&quot;</td><td>2024-05-22 09:36:16.789</td><td>2024-05-22 09:36:16.791</td><td>1716368557821</td><td>&quot;9aecc15d-64a4-4190-80f5-b5b842…</td><td>&quot;{&#x27;initial_utm_medium&#x27;: &#x27;empty&#x27;…</td><td>&quot;underwriter&quot;</td><td>&quot;false&quot;</td><td>null</td><td>&quot;attachments&quot;</td></tr><tr><td>&quot;eac4d6a2-2ff0-4e59-80af-aa1b3f…</td><td>857540480084</td><td>591532</td><td>&quot;nashville&quot;</td><td>2024-05-22 09:36:33.812</td><td>2024-05-22 09:36:34.881</td><td>&quot;united states&quot;</td><td>&quot;windows&quot;</td><td>&quot;a8b357fb-b4fb-45d2-babd-42b470…</td><td>&quot;nashville, tn&quot;</td><td>29</td><td>&quot;{}&quot;</td><td>2024-05-22 09:36:33.812</td><td>&quot;::nav-header:action-center-cli…</td><td>&quot;english&quot;</td><td>&quot;amplitude-ts/1.8.0&quot;</td><td>&quot;edge&quot;</td><td>2024-05-22 09:36:36.435</td><td>&quot;tennessee&quot;</td><td>2024-05-22 09:36:34.881</td><td>2024-05-22 09:36:34.883</td><td>1716368557821</td><td>&quot;9aecc15d-64a4-4190-80f5-b5b842…</td><td>&quot;{&#x27;initial_utm_medium&#x27;: &#x27;empty&#x27;…</td><td>&quot;underwriter&quot;</td><td>&quot;false&quot;</td><td>null</td><td>null</td></tr><tr><td>&quot;bf44b3b7-2b4d-4e20-a18c-65fb63…</td><td>857540480084</td><td>591532</td><td>&quot;nashville&quot;</td><td>2024-05-22 09:36:33.815</td><td>2024-05-22 09:36:34.881</td><td>&quot;united states&quot;</td><td>&quot;windows&quot;</td><td>&quot;a8b357fb-b4fb-45d2-babd-42b470…</td><td>&quot;nashville, tn&quot;</td><td>30</td><td>&quot;{}&quot;</td><td>2024-05-22 09:36:33.815</td><td>&quot;action-center:::view&quot;</td><td>&quot;english&quot;</td><td>&quot;amplitude-ts/1.8.0&quot;</td><td>&quot;edge&quot;</td><td>2024-05-22 09:36:36.435</td><td>&quot;tennessee&quot;</td><td>2024-05-22 09:36:34.881</td><td>2024-05-22 09:36:34.883</td><td>1716368557821</td><td>&quot;9aecc15d-64a4-4190-80f5-b5b842…</td><td>&quot;{&#x27;initial_utm_medium&#x27;: &#x27;empty&#x27;…</td><td>&quot;underwriter&quot;</td><td>&quot;false&quot;</td><td>null</td><td>null</td></tr></tbody></table></div>"
      ],
      "text/plain": [
       "shape: (14_526_410, 28)\n",
       "┌────────────┬────────────┬────────┬───────────┬───┬───────────┬───────────┬───────────┬───────────┐\n",
       "│ $insert_id ┆ amplitude_ ┆ app    ┆ city      ┆ … ┆ roles     ┆ isInterna ┆ referrer  ┆ slug      │\n",
       "│ ---        ┆ id         ┆ ---    ┆ ---       ┆   ┆ ---       ┆ lUser     ┆ ---       ┆ ---       │\n",
       "│ str        ┆ ---        ┆ i64    ┆ str       ┆   ┆ str       ┆ ---       ┆ str       ┆ str       │\n",
       "│            ┆ i64        ┆        ┆           ┆   ┆           ┆ str       ┆           ┆           │\n",
       "╞════════════╪════════════╪════════╪═══════════╪═══╪═══════════╪═══════════╪═══════════╪═══════════╡\n",
       "│ 251db963-6 ┆ 9350233300 ┆ 591532 ┆ mumbai    ┆ … ┆ underwrit ┆ false     ┆ https://a ┆ null      │\n",
       "│ 623-448e-8 ┆ 69         ┆        ┆           ┆   ┆ er        ┆           ┆ ccounts.g ┆           │\n",
       "│ 665-f542b8 ┆            ┆        ┆           ┆   ┆           ┆           ┆ oogle.com ┆           │\n",
       "│ …          ┆            ┆        ┆           ┆   ┆           ┆           ┆ /         ┆           │\n",
       "│ 3a95cdac-1 ┆ 9350233300 ┆ 591532 ┆ mumbai    ┆ … ┆ underwrit ┆ false     ┆ https://a ┆ null      │\n",
       "│ 74c-4002-8 ┆ 69         ┆        ┆           ┆   ┆ er        ┆           ┆ ccounts.g ┆           │\n",
       "│ e84-8aeba8 ┆            ┆        ┆           ┆   ┆           ┆           ┆ oogle.com ┆           │\n",
       "│ …          ┆            ┆        ┆           ┆   ┆           ┆           ┆ /         ┆           │\n",
       "│ 50dbfad3-8 ┆ 9350233300 ┆ 591532 ┆ mumbai    ┆ … ┆ underwrit ┆ false     ┆ https://a ┆ null      │\n",
       "│ e24-456a-a ┆ 69         ┆        ┆           ┆   ┆ er        ┆           ┆ ccounts.g ┆           │\n",
       "│ e68-21b09b ┆            ┆        ┆           ┆   ┆           ┆           ┆ oogle.com ┆           │\n",
       "│ …          ┆            ┆        ┆           ┆   ┆           ┆           ┆ /         ┆           │\n",
       "│ ea0a4143-2 ┆ 9350233300 ┆ 591532 ┆ mumbai    ┆ … ┆ underwrit ┆ false     ┆ https://a ┆ null      │\n",
       "│ 380-48e7-a ┆ 69         ┆        ┆           ┆   ┆ er        ┆           ┆ ccounts.g ┆           │\n",
       "│ 83e-8ba854 ┆            ┆        ┆           ┆   ┆           ┆           ┆ oogle.com ┆           │\n",
       "│ …          ┆            ┆        ┆           ┆   ┆           ┆           ┆ /         ┆           │\n",
       "│ 4d89977d-4 ┆ 9350233300 ┆ 591532 ┆ mumbai    ┆ … ┆ underwrit ┆ false     ┆ https://a ┆ null      │\n",
       "│ 734-450c-a ┆ 69         ┆        ┆           ┆   ┆ er        ┆           ┆ ccounts.g ┆           │\n",
       "│ fa1-07e326 ┆            ┆        ┆           ┆   ┆           ┆           ┆ oogle.com ┆           │\n",
       "│ …          ┆            ┆        ┆           ┆   ┆           ┆           ┆ /         ┆           │\n",
       "│ …          ┆ …          ┆ …      ┆ …         ┆ … ┆ …         ┆ …         ┆ …         ┆ …         │\n",
       "│ 102ec3ca-a ┆ 8575404800 ┆ 591532 ┆ nashville ┆ … ┆ underwrit ┆ false     ┆ null      ┆ one-drive │\n",
       "│ 467-41a9-a ┆ 84         ┆        ┆           ┆   ┆ er        ┆           ┆           ┆ -link     │\n",
       "│ a19-94f5b0 ┆            ┆        ┆           ┆   ┆           ┆           ┆           ┆           │\n",
       "│ …          ┆            ┆        ┆           ┆   ┆           ┆           ┆           ┆           │\n",
       "│ 55aec1ce-b ┆ 8575404800 ┆ 591532 ┆ nashville ┆ … ┆ underwrit ┆ false     ┆ null      ┆ property- │\n",
       "│ 876-4f66-b ┆ 84         ┆        ┆           ┆   ┆ er        ┆           ┆           ┆ locations │\n",
       "│ 786-fd5706 ┆            ┆        ┆           ┆   ┆           ┆           ┆           ┆           │\n",
       "│ …          ┆            ┆        ┆           ┆   ┆           ┆           ┆           ┆           │\n",
       "│ 8cb28e22-0 ┆ 8575404800 ┆ 591532 ┆ nashville ┆ … ┆ underwrit ┆ false     ┆ null      ┆ attachmen │\n",
       "│ dc3-456c-9 ┆ 84         ┆        ┆           ┆   ┆ er        ┆           ┆           ┆ ts        │\n",
       "│ 956-41d52b ┆            ┆        ┆           ┆   ┆           ┆           ┆           ┆           │\n",
       "│ …          ┆            ┆        ┆           ┆   ┆           ┆           ┆           ┆           │\n",
       "│ eac4d6a2-2 ┆ 8575404800 ┆ 591532 ┆ nashville ┆ … ┆ underwrit ┆ false     ┆ null      ┆ null      │\n",
       "│ ff0-4e59-8 ┆ 84         ┆        ┆           ┆   ┆ er        ┆           ┆           ┆           │\n",
       "│ 0af-aa1b3f ┆            ┆        ┆           ┆   ┆           ┆           ┆           ┆           │\n",
       "│ …          ┆            ┆        ┆           ┆   ┆           ┆           ┆           ┆           │\n",
       "│ bf44b3b7-2 ┆ 8575404800 ┆ 591532 ┆ nashville ┆ … ┆ underwrit ┆ false     ┆ null      ┆ null      │\n",
       "│ b4d-4e20-a ┆ 84         ┆        ┆           ┆   ┆ er        ┆           ┆           ┆           │\n",
       "│ 18c-65fb63 ┆            ┆        ┆           ┆   ┆           ┆           ┆           ┆           │\n",
       "│ …          ┆            ┆        ┆           ┆   ┆           ┆           ┆           ┆           │\n",
       "└────────────┴────────────┴────────┴───────────┴───┴───────────┴───────────┴───────────┴───────────┘"
      ]
     },
     "execution_count": 6,
     "metadata": {},
     "output_type": "execute_result"
    }
   ],
   "source": [
    "# Lowercase all values\n",
    "df = lowercase_all_values(df, config)\n",
    "df"
   ]
  },
  {
   "cell_type": "markdown",
   "metadata": {},
   "source": [
    "### Replace Null Representations\n",
    "\n",
    "We will also replace some commmon null representations like `empty` and `none` to null values"
   ]
  },
  {
   "cell_type": "code",
   "execution_count": 7,
   "metadata": {},
   "outputs": [
    {
     "data": {
      "text/html": [
       "<div><style>\n",
       ".dataframe > thead > tr,\n",
       ".dataframe > tbody > tr {\n",
       "  text-align: right;\n",
       "  white-space: pre-wrap;\n",
       "}\n",
       "</style>\n",
       "<small>shape: (14_526_410, 28)</small><table border=\"1\" class=\"dataframe\"><thead><tr><th>$insert_id</th><th>amplitude_id</th><th>app</th><th>city</th><th>client_event_time</th><th>client_upload_time</th><th>country</th><th>device_family</th><th>device_id</th><th>dma</th><th>event_id</th><th>event_properties</th><th>event_time</th><th>event_type</th><th>language</th><th>library</th><th>os_name</th><th>processed_time</th><th>region</th><th>server_received_time</th><th>server_upload_time</th><th>session_id</th><th>user_id</th><th>user_properties</th><th>roles</th><th>isInternalUser</th><th>referrer</th><th>slug</th></tr><tr><td>str</td><td>i64</td><td>i64</td><td>str</td><td>datetime[μs]</td><td>datetime[μs]</td><td>str</td><td>str</td><td>str</td><td>str</td><td>i64</td><td>str</td><td>datetime[μs]</td><td>str</td><td>str</td><td>str</td><td>str</td><td>datetime[μs]</td><td>str</td><td>datetime[μs]</td><td>datetime[μs]</td><td>i64</td><td>str</td><td>str</td><td>str</td><td>str</td><td>str</td><td>str</td></tr></thead><tbody><tr><td>&quot;251db963-6623-448e-8665-f542b8…</td><td>935023330069</td><td>591532</td><td>&quot;mumbai&quot;</td><td>2024-10-08 11:41:02.385</td><td>2024-10-08 11:41:04.857</td><td>&quot;india&quot;</td><td>&quot;windows&quot;</td><td>&quot;8bd8b6ab-370f-4b56-b38f-ad221c…</td><td>null</td><td>22216</td><td>&quot;{}&quot;</td><td>2024-10-08 11:41:02.385</td><td>&quot;session_start&quot;</td><td>&quot;english&quot;</td><td>&quot;amplitude-ts/2.7.2&quot;</td><td>&quot;chrome&quot;</td><td>2024-10-08 11:41:05.371</td><td>&quot;maharashtra&quot;</td><td>2024-10-08 11:41:04.857</td><td>2024-10-08 11:41:04.859</td><td>1728387662385</td><td>&quot;8038ea38-8ddf-4a1a-825d-8287c0…</td><td>&quot;{&#x27;roles&#x27;: [&#x27;underwriter&#x27;], &#x27;tr…</td><td>&quot;underwriter&quot;</td><td>&quot;false&quot;</td><td>&quot;https://accounts.google.com/&quot;</td><td>null</td></tr><tr><td>&quot;3a95cdac-174c-4002-8e84-8aeba8…</td><td>935023330069</td><td>591532</td><td>&quot;mumbai&quot;</td><td>2024-10-08 11:41:02.386</td><td>2024-10-08 11:41:04.857</td><td>&quot;india&quot;</td><td>&quot;windows&quot;</td><td>&quot;8bd8b6ab-370f-4b56-b38f-ad221c…</td><td>null</td><td>22215</td><td>&quot;{}&quot;</td><td>2024-10-08 11:41:02.386</td><td>&quot;session_end&quot;</td><td>&quot;english&quot;</td><td>&quot;amplitude-ts/2.7.2&quot;</td><td>&quot;chrome&quot;</td><td>2024-10-08 11:41:05.371</td><td>&quot;maharashtra&quot;</td><td>2024-10-08 11:41:04.857</td><td>2024-10-08 11:41:04.859</td><td>1728387662385</td><td>&quot;8038ea38-8ddf-4a1a-825d-8287c0…</td><td>&quot;{&#x27;roles&#x27;: [&#x27;underwriter&#x27;], &#x27;tr…</td><td>&quot;underwriter&quot;</td><td>&quot;false&quot;</td><td>&quot;https://accounts.google.com/&quot;</td><td>null</td></tr><tr><td>&quot;50dbfad3-8e24-456a-ae68-21b09b…</td><td>935023330069</td><td>591532</td><td>&quot;mumbai&quot;</td><td>2024-10-08 11:41:02.386</td><td>2024-10-08 11:41:04.857</td><td>&quot;india&quot;</td><td>&quot;windows&quot;</td><td>&quot;8bd8b6ab-370f-4b56-b38f-ad221c…</td><td>null</td><td>22216</td><td>&quot;{&#x27;[amplitude] session replay i…</td><td>2024-10-08 11:41:02.386</td><td>&quot;session_start&quot;</td><td>&quot;english&quot;</td><td>&quot;amplitude-ts/2.7.2&quot;</td><td>&quot;chrome&quot;</td><td>2024-10-08 11:41:05.371</td><td>&quot;maharashtra&quot;</td><td>2024-10-08 11:41:04.857</td><td>2024-10-08 11:41:04.859</td><td>1728387662386</td><td>&quot;8038ea38-8ddf-4a1a-825d-8287c0…</td><td>&quot;{&#x27;roles&#x27;: [&#x27;underwriter&#x27;], &#x27;tr…</td><td>&quot;underwriter&quot;</td><td>&quot;false&quot;</td><td>&quot;https://accounts.google.com/&quot;</td><td>null</td></tr><tr><td>&quot;ea0a4143-2380-48e7-a83e-8ba854…</td><td>935023330069</td><td>591532</td><td>&quot;mumbai&quot;</td><td>2024-10-08 11:41:03.500</td><td>2024-10-08 11:41:04.857</td><td>&quot;india&quot;</td><td>&quot;windows&quot;</td><td>&quot;8bd8b6ab-370f-4b56-b38f-ad221c…</td><td>null</td><td>22217</td><td>&quot;{&#x27;rowmodel&#x27;: &#x27;server&#x27;, &#x27;[ampli…</td><td>2024-10-08 11:41:03.500</td><td>&quot;:all-accounts:configurable-tab…</td><td>&quot;english&quot;</td><td>&quot;amplitude-ts/2.7.2&quot;</td><td>&quot;chrome&quot;</td><td>2024-10-08 11:41:05.371</td><td>&quot;maharashtra&quot;</td><td>2024-10-08 11:41:04.857</td><td>2024-10-08 11:41:04.859</td><td>1728387662386</td><td>&quot;8038ea38-8ddf-4a1a-825d-8287c0…</td><td>&quot;{&#x27;roles&#x27;: [&#x27;underwriter&#x27;], &#x27;tr…</td><td>&quot;underwriter&quot;</td><td>&quot;false&quot;</td><td>&quot;https://accounts.google.com/&quot;</td><td>null</td></tr><tr><td>&quot;4d89977d-4734-450c-afa1-07e326…</td><td>935023330069</td><td>591532</td><td>&quot;mumbai&quot;</td><td>2024-10-08 11:41:03.527</td><td>2024-10-08 11:41:04.857</td><td>&quot;india&quot;</td><td>&quot;windows&quot;</td><td>&quot;8bd8b6ab-370f-4b56-b38f-ad221c…</td><td>null</td><td>22217</td><td>&quot;{&#x27;displayname&#x27;: &#x27;all policies …</td><td>2024-10-08 11:41:03.527</td><td>&quot;:all-accounts:widget:render&quot;</td><td>&quot;english&quot;</td><td>&quot;amplitude-ts/2.7.2&quot;</td><td>&quot;chrome&quot;</td><td>2024-10-08 11:41:05.371</td><td>&quot;maharashtra&quot;</td><td>2024-10-08 11:41:04.857</td><td>2024-10-08 11:41:04.859</td><td>1728387662386</td><td>&quot;8038ea38-8ddf-4a1a-825d-8287c0…</td><td>&quot;{&#x27;roles&#x27;: [&#x27;underwriter&#x27;], &#x27;tr…</td><td>&quot;underwriter&quot;</td><td>&quot;false&quot;</td><td>&quot;https://accounts.google.com/&quot;</td><td>null</td></tr><tr><td>&hellip;</td><td>&hellip;</td><td>&hellip;</td><td>&hellip;</td><td>&hellip;</td><td>&hellip;</td><td>&hellip;</td><td>&hellip;</td><td>&hellip;</td><td>&hellip;</td><td>&hellip;</td><td>&hellip;</td><td>&hellip;</td><td>&hellip;</td><td>&hellip;</td><td>&hellip;</td><td>&hellip;</td><td>&hellip;</td><td>&hellip;</td><td>&hellip;</td><td>&hellip;</td><td>&hellip;</td><td>&hellip;</td><td>&hellip;</td><td>&hellip;</td><td>&hellip;</td><td>&hellip;</td><td>&hellip;</td></tr><tr><td>&quot;102ec3ca-a467-41a9-aa19-94f5b0…</td><td>857540480084</td><td>591532</td><td>&quot;nashville&quot;</td><td>2024-05-22 09:36:09.888</td><td>2024-05-22 09:36:10.832</td><td>&quot;united states&quot;</td><td>&quot;windows&quot;</td><td>&quot;a8b357fb-b4fb-45d2-babd-42b470…</td><td>&quot;nashville, tn&quot;</td><td>26</td><td>&quot;{&#x27;displayname&#x27;: &#x27;one drive lin…</td><td>2024-05-22 09:36:09.888</td><td>&quot;account-lines::widget:render&quot;</td><td>&quot;english&quot;</td><td>&quot;amplitude-ts/1.8.0&quot;</td><td>&quot;edge&quot;</td><td>2024-05-22 09:36:11.662</td><td>&quot;tennessee&quot;</td><td>2024-05-22 09:36:10.832</td><td>2024-05-22 09:36:10.833</td><td>1716368557821</td><td>&quot;9aecc15d-64a4-4190-80f5-b5b842…</td><td>&quot;{&#x27;initial_utm_medium&#x27;: &#x27;empty&#x27;…</td><td>&quot;underwriter&quot;</td><td>&quot;false&quot;</td><td>null</td><td>&quot;one-drive-link&quot;</td></tr><tr><td>&quot;55aec1ce-b876-4f66-b786-fd5706…</td><td>857540480084</td><td>591532</td><td>&quot;nashville&quot;</td><td>2024-05-22 09:36:09.917</td><td>2024-05-22 09:36:10.832</td><td>&quot;united states&quot;</td><td>&quot;windows&quot;</td><td>&quot;a8b357fb-b4fb-45d2-babd-42b470…</td><td>&quot;nashville, tn&quot;</td><td>27</td><td>&quot;{&#x27;rowmodel&#x27;: &#x27;legacyserver&#x27;, &#x27;…</td><td>2024-05-22 09:36:09.917</td><td>&quot;account-lines::configurable-ta…</td><td>&quot;english&quot;</td><td>&quot;amplitude-ts/1.8.0&quot;</td><td>&quot;edge&quot;</td><td>2024-05-22 09:36:11.662</td><td>&quot;tennessee&quot;</td><td>2024-05-22 09:36:10.832</td><td>2024-05-22 09:36:10.833</td><td>1716368557821</td><td>&quot;9aecc15d-64a4-4190-80f5-b5b842…</td><td>&quot;{&#x27;initial_utm_medium&#x27;: &#x27;empty&#x27;…</td><td>&quot;underwriter&quot;</td><td>&quot;false&quot;</td><td>null</td><td>&quot;property-locations&quot;</td></tr><tr><td>&quot;8cb28e22-0dc3-456c-9956-41d52b…</td><td>857540480084</td><td>591532</td><td>&quot;nashville&quot;</td><td>2024-05-22 09:36:15.727</td><td>2024-05-22 09:36:16.789</td><td>&quot;united states&quot;</td><td>&quot;windows&quot;</td><td>&quot;a8b357fb-b4fb-45d2-babd-42b470…</td><td>&quot;nashville, tn&quot;</td><td>28</td><td>&quot;{&#x27;displayname&#x27;: &#x27;attachments&#x27;,…</td><td>2024-05-22 09:36:15.727</td><td>&quot;account-lines::widget:render&quot;</td><td>&quot;english&quot;</td><td>&quot;amplitude-ts/1.8.0&quot;</td><td>&quot;edge&quot;</td><td>2024-05-22 09:36:17.297</td><td>&quot;tennessee&quot;</td><td>2024-05-22 09:36:16.789</td><td>2024-05-22 09:36:16.791</td><td>1716368557821</td><td>&quot;9aecc15d-64a4-4190-80f5-b5b842…</td><td>&quot;{&#x27;initial_utm_medium&#x27;: &#x27;empty&#x27;…</td><td>&quot;underwriter&quot;</td><td>&quot;false&quot;</td><td>null</td><td>&quot;attachments&quot;</td></tr><tr><td>&quot;eac4d6a2-2ff0-4e59-80af-aa1b3f…</td><td>857540480084</td><td>591532</td><td>&quot;nashville&quot;</td><td>2024-05-22 09:36:33.812</td><td>2024-05-22 09:36:34.881</td><td>&quot;united states&quot;</td><td>&quot;windows&quot;</td><td>&quot;a8b357fb-b4fb-45d2-babd-42b470…</td><td>&quot;nashville, tn&quot;</td><td>29</td><td>&quot;{}&quot;</td><td>2024-05-22 09:36:33.812</td><td>&quot;::nav-header:action-center-cli…</td><td>&quot;english&quot;</td><td>&quot;amplitude-ts/1.8.0&quot;</td><td>&quot;edge&quot;</td><td>2024-05-22 09:36:36.435</td><td>&quot;tennessee&quot;</td><td>2024-05-22 09:36:34.881</td><td>2024-05-22 09:36:34.883</td><td>1716368557821</td><td>&quot;9aecc15d-64a4-4190-80f5-b5b842…</td><td>&quot;{&#x27;initial_utm_medium&#x27;: &#x27;empty&#x27;…</td><td>&quot;underwriter&quot;</td><td>&quot;false&quot;</td><td>null</td><td>null</td></tr><tr><td>&quot;bf44b3b7-2b4d-4e20-a18c-65fb63…</td><td>857540480084</td><td>591532</td><td>&quot;nashville&quot;</td><td>2024-05-22 09:36:33.815</td><td>2024-05-22 09:36:34.881</td><td>&quot;united states&quot;</td><td>&quot;windows&quot;</td><td>&quot;a8b357fb-b4fb-45d2-babd-42b470…</td><td>&quot;nashville, tn&quot;</td><td>30</td><td>&quot;{}&quot;</td><td>2024-05-22 09:36:33.815</td><td>&quot;action-center:::view&quot;</td><td>&quot;english&quot;</td><td>&quot;amplitude-ts/1.8.0&quot;</td><td>&quot;edge&quot;</td><td>2024-05-22 09:36:36.435</td><td>&quot;tennessee&quot;</td><td>2024-05-22 09:36:34.881</td><td>2024-05-22 09:36:34.883</td><td>1716368557821</td><td>&quot;9aecc15d-64a4-4190-80f5-b5b842…</td><td>&quot;{&#x27;initial_utm_medium&#x27;: &#x27;empty&#x27;…</td><td>&quot;underwriter&quot;</td><td>&quot;false&quot;</td><td>null</td><td>null</td></tr></tbody></table></div>"
      ],
      "text/plain": [
       "shape: (14_526_410, 28)\n",
       "┌────────────┬────────────┬────────┬───────────┬───┬───────────┬───────────┬───────────┬───────────┐\n",
       "│ $insert_id ┆ amplitude_ ┆ app    ┆ city      ┆ … ┆ roles     ┆ isInterna ┆ referrer  ┆ slug      │\n",
       "│ ---        ┆ id         ┆ ---    ┆ ---       ┆   ┆ ---       ┆ lUser     ┆ ---       ┆ ---       │\n",
       "│ str        ┆ ---        ┆ i64    ┆ str       ┆   ┆ str       ┆ ---       ┆ str       ┆ str       │\n",
       "│            ┆ i64        ┆        ┆           ┆   ┆           ┆ str       ┆           ┆           │\n",
       "╞════════════╪════════════╪════════╪═══════════╪═══╪═══════════╪═══════════╪═══════════╪═══════════╡\n",
       "│ 251db963-6 ┆ 9350233300 ┆ 591532 ┆ mumbai    ┆ … ┆ underwrit ┆ false     ┆ https://a ┆ null      │\n",
       "│ 623-448e-8 ┆ 69         ┆        ┆           ┆   ┆ er        ┆           ┆ ccounts.g ┆           │\n",
       "│ 665-f542b8 ┆            ┆        ┆           ┆   ┆           ┆           ┆ oogle.com ┆           │\n",
       "│ …          ┆            ┆        ┆           ┆   ┆           ┆           ┆ /         ┆           │\n",
       "│ 3a95cdac-1 ┆ 9350233300 ┆ 591532 ┆ mumbai    ┆ … ┆ underwrit ┆ false     ┆ https://a ┆ null      │\n",
       "│ 74c-4002-8 ┆ 69         ┆        ┆           ┆   ┆ er        ┆           ┆ ccounts.g ┆           │\n",
       "│ e84-8aeba8 ┆            ┆        ┆           ┆   ┆           ┆           ┆ oogle.com ┆           │\n",
       "│ …          ┆            ┆        ┆           ┆   ┆           ┆           ┆ /         ┆           │\n",
       "│ 50dbfad3-8 ┆ 9350233300 ┆ 591532 ┆ mumbai    ┆ … ┆ underwrit ┆ false     ┆ https://a ┆ null      │\n",
       "│ e24-456a-a ┆ 69         ┆        ┆           ┆   ┆ er        ┆           ┆ ccounts.g ┆           │\n",
       "│ e68-21b09b ┆            ┆        ┆           ┆   ┆           ┆           ┆ oogle.com ┆           │\n",
       "│ …          ┆            ┆        ┆           ┆   ┆           ┆           ┆ /         ┆           │\n",
       "│ ea0a4143-2 ┆ 9350233300 ┆ 591532 ┆ mumbai    ┆ … ┆ underwrit ┆ false     ┆ https://a ┆ null      │\n",
       "│ 380-48e7-a ┆ 69         ┆        ┆           ┆   ┆ er        ┆           ┆ ccounts.g ┆           │\n",
       "│ 83e-8ba854 ┆            ┆        ┆           ┆   ┆           ┆           ┆ oogle.com ┆           │\n",
       "│ …          ┆            ┆        ┆           ┆   ┆           ┆           ┆ /         ┆           │\n",
       "│ 4d89977d-4 ┆ 9350233300 ┆ 591532 ┆ mumbai    ┆ … ┆ underwrit ┆ false     ┆ https://a ┆ null      │\n",
       "│ 734-450c-a ┆ 69         ┆        ┆           ┆   ┆ er        ┆           ┆ ccounts.g ┆           │\n",
       "│ fa1-07e326 ┆            ┆        ┆           ┆   ┆           ┆           ┆ oogle.com ┆           │\n",
       "│ …          ┆            ┆        ┆           ┆   ┆           ┆           ┆ /         ┆           │\n",
       "│ …          ┆ …          ┆ …      ┆ …         ┆ … ┆ …         ┆ …         ┆ …         ┆ …         │\n",
       "│ 102ec3ca-a ┆ 8575404800 ┆ 591532 ┆ nashville ┆ … ┆ underwrit ┆ false     ┆ null      ┆ one-drive │\n",
       "│ 467-41a9-a ┆ 84         ┆        ┆           ┆   ┆ er        ┆           ┆           ┆ -link     │\n",
       "│ a19-94f5b0 ┆            ┆        ┆           ┆   ┆           ┆           ┆           ┆           │\n",
       "│ …          ┆            ┆        ┆           ┆   ┆           ┆           ┆           ┆           │\n",
       "│ 55aec1ce-b ┆ 8575404800 ┆ 591532 ┆ nashville ┆ … ┆ underwrit ┆ false     ┆ null      ┆ property- │\n",
       "│ 876-4f66-b ┆ 84         ┆        ┆           ┆   ┆ er        ┆           ┆           ┆ locations │\n",
       "│ 786-fd5706 ┆            ┆        ┆           ┆   ┆           ┆           ┆           ┆           │\n",
       "│ …          ┆            ┆        ┆           ┆   ┆           ┆           ┆           ┆           │\n",
       "│ 8cb28e22-0 ┆ 8575404800 ┆ 591532 ┆ nashville ┆ … ┆ underwrit ┆ false     ┆ null      ┆ attachmen │\n",
       "│ dc3-456c-9 ┆ 84         ┆        ┆           ┆   ┆ er        ┆           ┆           ┆ ts        │\n",
       "│ 956-41d52b ┆            ┆        ┆           ┆   ┆           ┆           ┆           ┆           │\n",
       "│ …          ┆            ┆        ┆           ┆   ┆           ┆           ┆           ┆           │\n",
       "│ eac4d6a2-2 ┆ 8575404800 ┆ 591532 ┆ nashville ┆ … ┆ underwrit ┆ false     ┆ null      ┆ null      │\n",
       "│ ff0-4e59-8 ┆ 84         ┆        ┆           ┆   ┆ er        ┆           ┆           ┆           │\n",
       "│ 0af-aa1b3f ┆            ┆        ┆           ┆   ┆           ┆           ┆           ┆           │\n",
       "│ …          ┆            ┆        ┆           ┆   ┆           ┆           ┆           ┆           │\n",
       "│ bf44b3b7-2 ┆ 8575404800 ┆ 591532 ┆ nashville ┆ … ┆ underwrit ┆ false     ┆ null      ┆ null      │\n",
       "│ b4d-4e20-a ┆ 84         ┆        ┆           ┆   ┆ er        ┆           ┆           ┆           │\n",
       "│ 18c-65fb63 ┆            ┆        ┆           ┆   ┆           ┆           ┆           ┆           │\n",
       "│ …          ┆            ┆        ┆           ┆   ┆           ┆           ┆           ┆           │\n",
       "└────────────┴────────────┴────────┴───────────┴───┴───────────┴───────────┴───────────┴───────────┘"
      ]
     },
     "execution_count": 7,
     "metadata": {},
     "output_type": "execute_result"
    }
   ],
   "source": [
    "# Replace with null\n",
    "df = replace_with_null(df, config)\n",
    "df"
   ]
  },
  {
   "cell_type": "code",
   "execution_count": 8,
   "metadata": {},
   "outputs": [
    {
     "data": {
      "text/html": [
       "<div><style>\n",
       ".dataframe > thead > tr,\n",
       ".dataframe > tbody > tr {\n",
       "  text-align: right;\n",
       "  white-space: pre-wrap;\n",
       "}\n",
       "</style>\n",
       "<small>shape: (14_119_738, 28)</small><table border=\"1\" class=\"dataframe\"><thead><tr><th>$insert_id</th><th>amplitude_id</th><th>app</th><th>city</th><th>client_event_time</th><th>client_upload_time</th><th>country</th><th>device_family</th><th>device_id</th><th>dma</th><th>event_id</th><th>event_properties</th><th>event_time</th><th>event_type</th><th>language</th><th>library</th><th>os_name</th><th>processed_time</th><th>region</th><th>server_received_time</th><th>server_upload_time</th><th>session_id</th><th>user_id</th><th>user_properties</th><th>roles</th><th>isInternalUser</th><th>referrer</th><th>slug</th></tr><tr><td>str</td><td>i64</td><td>i64</td><td>str</td><td>datetime[μs]</td><td>datetime[μs]</td><td>str</td><td>str</td><td>str</td><td>str</td><td>i64</td><td>str</td><td>datetime[μs]</td><td>str</td><td>str</td><td>str</td><td>str</td><td>datetime[μs]</td><td>str</td><td>datetime[μs]</td><td>datetime[μs]</td><td>i64</td><td>str</td><td>str</td><td>str</td><td>str</td><td>str</td><td>str</td></tr></thead><tbody><tr><td>&quot;251db963-6623-448e-8665-f542b8…</td><td>935023330069</td><td>591532</td><td>&quot;mumbai&quot;</td><td>2024-10-08 11:41:02.385</td><td>2024-10-08 11:41:04.857</td><td>&quot;india&quot;</td><td>&quot;windows&quot;</td><td>&quot;8bd8b6ab-370f-4b56-b38f-ad221c…</td><td>null</td><td>22216</td><td>&quot;{}&quot;</td><td>2024-10-08 11:41:02.385</td><td>&quot;session_start&quot;</td><td>&quot;english&quot;</td><td>&quot;amplitude-ts/2.7.2&quot;</td><td>&quot;chrome&quot;</td><td>2024-10-08 11:41:05.371</td><td>&quot;maharashtra&quot;</td><td>2024-10-08 11:41:04.857</td><td>2024-10-08 11:41:04.859</td><td>1728387662385</td><td>&quot;8038ea38-8ddf-4a1a-825d-8287c0…</td><td>&quot;{&#x27;roles&#x27;: [&#x27;underwriter&#x27;], &#x27;tr…</td><td>&quot;underwriter&quot;</td><td>&quot;false&quot;</td><td>&quot;https://accounts.google.com/&quot;</td><td>null</td></tr><tr><td>&quot;3a95cdac-174c-4002-8e84-8aeba8…</td><td>935023330069</td><td>591532</td><td>&quot;mumbai&quot;</td><td>2024-10-08 11:41:02.386</td><td>2024-10-08 11:41:04.857</td><td>&quot;india&quot;</td><td>&quot;windows&quot;</td><td>&quot;8bd8b6ab-370f-4b56-b38f-ad221c…</td><td>null</td><td>22215</td><td>&quot;{}&quot;</td><td>2024-10-08 11:41:02.386</td><td>&quot;session_end&quot;</td><td>&quot;english&quot;</td><td>&quot;amplitude-ts/2.7.2&quot;</td><td>&quot;chrome&quot;</td><td>2024-10-08 11:41:05.371</td><td>&quot;maharashtra&quot;</td><td>2024-10-08 11:41:04.857</td><td>2024-10-08 11:41:04.859</td><td>1728387662385</td><td>&quot;8038ea38-8ddf-4a1a-825d-8287c0…</td><td>&quot;{&#x27;roles&#x27;: [&#x27;underwriter&#x27;], &#x27;tr…</td><td>&quot;underwriter&quot;</td><td>&quot;false&quot;</td><td>&quot;https://accounts.google.com/&quot;</td><td>null</td></tr><tr><td>&quot;50dbfad3-8e24-456a-ae68-21b09b…</td><td>935023330069</td><td>591532</td><td>&quot;mumbai&quot;</td><td>2024-10-08 11:41:02.386</td><td>2024-10-08 11:41:04.857</td><td>&quot;india&quot;</td><td>&quot;windows&quot;</td><td>&quot;8bd8b6ab-370f-4b56-b38f-ad221c…</td><td>null</td><td>22216</td><td>&quot;{&#x27;[amplitude] session replay i…</td><td>2024-10-08 11:41:02.386</td><td>&quot;session_start&quot;</td><td>&quot;english&quot;</td><td>&quot;amplitude-ts/2.7.2&quot;</td><td>&quot;chrome&quot;</td><td>2024-10-08 11:41:05.371</td><td>&quot;maharashtra&quot;</td><td>2024-10-08 11:41:04.857</td><td>2024-10-08 11:41:04.859</td><td>1728387662386</td><td>&quot;8038ea38-8ddf-4a1a-825d-8287c0…</td><td>&quot;{&#x27;roles&#x27;: [&#x27;underwriter&#x27;], &#x27;tr…</td><td>&quot;underwriter&quot;</td><td>&quot;false&quot;</td><td>&quot;https://accounts.google.com/&quot;</td><td>null</td></tr><tr><td>&quot;ea0a4143-2380-48e7-a83e-8ba854…</td><td>935023330069</td><td>591532</td><td>&quot;mumbai&quot;</td><td>2024-10-08 11:41:03.500</td><td>2024-10-08 11:41:04.857</td><td>&quot;india&quot;</td><td>&quot;windows&quot;</td><td>&quot;8bd8b6ab-370f-4b56-b38f-ad221c…</td><td>null</td><td>22217</td><td>&quot;{&#x27;rowmodel&#x27;: &#x27;server&#x27;, &#x27;[ampli…</td><td>2024-10-08 11:41:03.500</td><td>&quot;:all-accounts:configurable-tab…</td><td>&quot;english&quot;</td><td>&quot;amplitude-ts/2.7.2&quot;</td><td>&quot;chrome&quot;</td><td>2024-10-08 11:41:05.371</td><td>&quot;maharashtra&quot;</td><td>2024-10-08 11:41:04.857</td><td>2024-10-08 11:41:04.859</td><td>1728387662386</td><td>&quot;8038ea38-8ddf-4a1a-825d-8287c0…</td><td>&quot;{&#x27;roles&#x27;: [&#x27;underwriter&#x27;], &#x27;tr…</td><td>&quot;underwriter&quot;</td><td>&quot;false&quot;</td><td>&quot;https://accounts.google.com/&quot;</td><td>null</td></tr><tr><td>&quot;4d89977d-4734-450c-afa1-07e326…</td><td>935023330069</td><td>591532</td><td>&quot;mumbai&quot;</td><td>2024-10-08 11:41:03.527</td><td>2024-10-08 11:41:04.857</td><td>&quot;india&quot;</td><td>&quot;windows&quot;</td><td>&quot;8bd8b6ab-370f-4b56-b38f-ad221c…</td><td>null</td><td>22217</td><td>&quot;{&#x27;displayname&#x27;: &#x27;all policies …</td><td>2024-10-08 11:41:03.527</td><td>&quot;:all-accounts:widget:render&quot;</td><td>&quot;english&quot;</td><td>&quot;amplitude-ts/2.7.2&quot;</td><td>&quot;chrome&quot;</td><td>2024-10-08 11:41:05.371</td><td>&quot;maharashtra&quot;</td><td>2024-10-08 11:41:04.857</td><td>2024-10-08 11:41:04.859</td><td>1728387662386</td><td>&quot;8038ea38-8ddf-4a1a-825d-8287c0…</td><td>&quot;{&#x27;roles&#x27;: [&#x27;underwriter&#x27;], &#x27;tr…</td><td>&quot;underwriter&quot;</td><td>&quot;false&quot;</td><td>&quot;https://accounts.google.com/&quot;</td><td>null</td></tr><tr><td>&hellip;</td><td>&hellip;</td><td>&hellip;</td><td>&hellip;</td><td>&hellip;</td><td>&hellip;</td><td>&hellip;</td><td>&hellip;</td><td>&hellip;</td><td>&hellip;</td><td>&hellip;</td><td>&hellip;</td><td>&hellip;</td><td>&hellip;</td><td>&hellip;</td><td>&hellip;</td><td>&hellip;</td><td>&hellip;</td><td>&hellip;</td><td>&hellip;</td><td>&hellip;</td><td>&hellip;</td><td>&hellip;</td><td>&hellip;</td><td>&hellip;</td><td>&hellip;</td><td>&hellip;</td><td>&hellip;</td></tr><tr><td>&quot;102ec3ca-a467-41a9-aa19-94f5b0…</td><td>857540480084</td><td>591532</td><td>&quot;nashville&quot;</td><td>2024-05-22 09:36:09.888</td><td>2024-05-22 09:36:10.832</td><td>&quot;united states&quot;</td><td>&quot;windows&quot;</td><td>&quot;a8b357fb-b4fb-45d2-babd-42b470…</td><td>&quot;nashville, tn&quot;</td><td>26</td><td>&quot;{&#x27;displayname&#x27;: &#x27;one drive lin…</td><td>2024-05-22 09:36:09.888</td><td>&quot;account-lines::widget:render&quot;</td><td>&quot;english&quot;</td><td>&quot;amplitude-ts/1.8.0&quot;</td><td>&quot;edge&quot;</td><td>2024-05-22 09:36:11.662</td><td>&quot;tennessee&quot;</td><td>2024-05-22 09:36:10.832</td><td>2024-05-22 09:36:10.833</td><td>1716368557821</td><td>&quot;9aecc15d-64a4-4190-80f5-b5b842…</td><td>&quot;{&#x27;initial_utm_medium&#x27;: &#x27;empty&#x27;…</td><td>&quot;underwriter&quot;</td><td>&quot;false&quot;</td><td>null</td><td>&quot;one-drive-link&quot;</td></tr><tr><td>&quot;55aec1ce-b876-4f66-b786-fd5706…</td><td>857540480084</td><td>591532</td><td>&quot;nashville&quot;</td><td>2024-05-22 09:36:09.917</td><td>2024-05-22 09:36:10.832</td><td>&quot;united states&quot;</td><td>&quot;windows&quot;</td><td>&quot;a8b357fb-b4fb-45d2-babd-42b470…</td><td>&quot;nashville, tn&quot;</td><td>27</td><td>&quot;{&#x27;rowmodel&#x27;: &#x27;legacyserver&#x27;, &#x27;…</td><td>2024-05-22 09:36:09.917</td><td>&quot;account-lines::configurable-ta…</td><td>&quot;english&quot;</td><td>&quot;amplitude-ts/1.8.0&quot;</td><td>&quot;edge&quot;</td><td>2024-05-22 09:36:11.662</td><td>&quot;tennessee&quot;</td><td>2024-05-22 09:36:10.832</td><td>2024-05-22 09:36:10.833</td><td>1716368557821</td><td>&quot;9aecc15d-64a4-4190-80f5-b5b842…</td><td>&quot;{&#x27;initial_utm_medium&#x27;: &#x27;empty&#x27;…</td><td>&quot;underwriter&quot;</td><td>&quot;false&quot;</td><td>null</td><td>&quot;property-locations&quot;</td></tr><tr><td>&quot;8cb28e22-0dc3-456c-9956-41d52b…</td><td>857540480084</td><td>591532</td><td>&quot;nashville&quot;</td><td>2024-05-22 09:36:15.727</td><td>2024-05-22 09:36:16.789</td><td>&quot;united states&quot;</td><td>&quot;windows&quot;</td><td>&quot;a8b357fb-b4fb-45d2-babd-42b470…</td><td>&quot;nashville, tn&quot;</td><td>28</td><td>&quot;{&#x27;displayname&#x27;: &#x27;attachments&#x27;,…</td><td>2024-05-22 09:36:15.727</td><td>&quot;account-lines::widget:render&quot;</td><td>&quot;english&quot;</td><td>&quot;amplitude-ts/1.8.0&quot;</td><td>&quot;edge&quot;</td><td>2024-05-22 09:36:17.297</td><td>&quot;tennessee&quot;</td><td>2024-05-22 09:36:16.789</td><td>2024-05-22 09:36:16.791</td><td>1716368557821</td><td>&quot;9aecc15d-64a4-4190-80f5-b5b842…</td><td>&quot;{&#x27;initial_utm_medium&#x27;: &#x27;empty&#x27;…</td><td>&quot;underwriter&quot;</td><td>&quot;false&quot;</td><td>null</td><td>&quot;attachments&quot;</td></tr><tr><td>&quot;eac4d6a2-2ff0-4e59-80af-aa1b3f…</td><td>857540480084</td><td>591532</td><td>&quot;nashville&quot;</td><td>2024-05-22 09:36:33.812</td><td>2024-05-22 09:36:34.881</td><td>&quot;united states&quot;</td><td>&quot;windows&quot;</td><td>&quot;a8b357fb-b4fb-45d2-babd-42b470…</td><td>&quot;nashville, tn&quot;</td><td>29</td><td>&quot;{}&quot;</td><td>2024-05-22 09:36:33.812</td><td>&quot;::nav-header:action-center-cli…</td><td>&quot;english&quot;</td><td>&quot;amplitude-ts/1.8.0&quot;</td><td>&quot;edge&quot;</td><td>2024-05-22 09:36:36.435</td><td>&quot;tennessee&quot;</td><td>2024-05-22 09:36:34.881</td><td>2024-05-22 09:36:34.883</td><td>1716368557821</td><td>&quot;9aecc15d-64a4-4190-80f5-b5b842…</td><td>&quot;{&#x27;initial_utm_medium&#x27;: &#x27;empty&#x27;…</td><td>&quot;underwriter&quot;</td><td>&quot;false&quot;</td><td>null</td><td>null</td></tr><tr><td>&quot;bf44b3b7-2b4d-4e20-a18c-65fb63…</td><td>857540480084</td><td>591532</td><td>&quot;nashville&quot;</td><td>2024-05-22 09:36:33.815</td><td>2024-05-22 09:36:34.881</td><td>&quot;united states&quot;</td><td>&quot;windows&quot;</td><td>&quot;a8b357fb-b4fb-45d2-babd-42b470…</td><td>&quot;nashville, tn&quot;</td><td>30</td><td>&quot;{}&quot;</td><td>2024-05-22 09:36:33.815</td><td>&quot;action-center:::view&quot;</td><td>&quot;english&quot;</td><td>&quot;amplitude-ts/1.8.0&quot;</td><td>&quot;edge&quot;</td><td>2024-05-22 09:36:36.435</td><td>&quot;tennessee&quot;</td><td>2024-05-22 09:36:34.881</td><td>2024-05-22 09:36:34.883</td><td>1716368557821</td><td>&quot;9aecc15d-64a4-4190-80f5-b5b842…</td><td>&quot;{&#x27;initial_utm_medium&#x27;: &#x27;empty&#x27;…</td><td>&quot;underwriter&quot;</td><td>&quot;false&quot;</td><td>null</td><td>null</td></tr></tbody></table></div>"
      ],
      "text/plain": [
       "shape: (14_119_738, 28)\n",
       "┌────────────┬────────────┬────────┬───────────┬───┬───────────┬───────────┬───────────┬───────────┐\n",
       "│ $insert_id ┆ amplitude_ ┆ app    ┆ city      ┆ … ┆ roles     ┆ isInterna ┆ referrer  ┆ slug      │\n",
       "│ ---        ┆ id         ┆ ---    ┆ ---       ┆   ┆ ---       ┆ lUser     ┆ ---       ┆ ---       │\n",
       "│ str        ┆ ---        ┆ i64    ┆ str       ┆   ┆ str       ┆ ---       ┆ str       ┆ str       │\n",
       "│            ┆ i64        ┆        ┆           ┆   ┆           ┆ str       ┆           ┆           │\n",
       "╞════════════╪════════════╪════════╪═══════════╪═══╪═══════════╪═══════════╪═══════════╪═══════════╡\n",
       "│ 251db963-6 ┆ 9350233300 ┆ 591532 ┆ mumbai    ┆ … ┆ underwrit ┆ false     ┆ https://a ┆ null      │\n",
       "│ 623-448e-8 ┆ 69         ┆        ┆           ┆   ┆ er        ┆           ┆ ccounts.g ┆           │\n",
       "│ 665-f542b8 ┆            ┆        ┆           ┆   ┆           ┆           ┆ oogle.com ┆           │\n",
       "│ …          ┆            ┆        ┆           ┆   ┆           ┆           ┆ /         ┆           │\n",
       "│ 3a95cdac-1 ┆ 9350233300 ┆ 591532 ┆ mumbai    ┆ … ┆ underwrit ┆ false     ┆ https://a ┆ null      │\n",
       "│ 74c-4002-8 ┆ 69         ┆        ┆           ┆   ┆ er        ┆           ┆ ccounts.g ┆           │\n",
       "│ e84-8aeba8 ┆            ┆        ┆           ┆   ┆           ┆           ┆ oogle.com ┆           │\n",
       "│ …          ┆            ┆        ┆           ┆   ┆           ┆           ┆ /         ┆           │\n",
       "│ 50dbfad3-8 ┆ 9350233300 ┆ 591532 ┆ mumbai    ┆ … ┆ underwrit ┆ false     ┆ https://a ┆ null      │\n",
       "│ e24-456a-a ┆ 69         ┆        ┆           ┆   ┆ er        ┆           ┆ ccounts.g ┆           │\n",
       "│ e68-21b09b ┆            ┆        ┆           ┆   ┆           ┆           ┆ oogle.com ┆           │\n",
       "│ …          ┆            ┆        ┆           ┆   ┆           ┆           ┆ /         ┆           │\n",
       "│ ea0a4143-2 ┆ 9350233300 ┆ 591532 ┆ mumbai    ┆ … ┆ underwrit ┆ false     ┆ https://a ┆ null      │\n",
       "│ 380-48e7-a ┆ 69         ┆        ┆           ┆   ┆ er        ┆           ┆ ccounts.g ┆           │\n",
       "│ 83e-8ba854 ┆            ┆        ┆           ┆   ┆           ┆           ┆ oogle.com ┆           │\n",
       "│ …          ┆            ┆        ┆           ┆   ┆           ┆           ┆ /         ┆           │\n",
       "│ 4d89977d-4 ┆ 9350233300 ┆ 591532 ┆ mumbai    ┆ … ┆ underwrit ┆ false     ┆ https://a ┆ null      │\n",
       "│ 734-450c-a ┆ 69         ┆        ┆           ┆   ┆ er        ┆           ┆ ccounts.g ┆           │\n",
       "│ fa1-07e326 ┆            ┆        ┆           ┆   ┆           ┆           ┆ oogle.com ┆           │\n",
       "│ …          ┆            ┆        ┆           ┆   ┆           ┆           ┆ /         ┆           │\n",
       "│ …          ┆ …          ┆ …      ┆ …         ┆ … ┆ …         ┆ …         ┆ …         ┆ …         │\n",
       "│ 102ec3ca-a ┆ 8575404800 ┆ 591532 ┆ nashville ┆ … ┆ underwrit ┆ false     ┆ null      ┆ one-drive │\n",
       "│ 467-41a9-a ┆ 84         ┆        ┆           ┆   ┆ er        ┆           ┆           ┆ -link     │\n",
       "│ a19-94f5b0 ┆            ┆        ┆           ┆   ┆           ┆           ┆           ┆           │\n",
       "│ …          ┆            ┆        ┆           ┆   ┆           ┆           ┆           ┆           │\n",
       "│ 55aec1ce-b ┆ 8575404800 ┆ 591532 ┆ nashville ┆ … ┆ underwrit ┆ false     ┆ null      ┆ property- │\n",
       "│ 876-4f66-b ┆ 84         ┆        ┆           ┆   ┆ er        ┆           ┆           ┆ locations │\n",
       "│ 786-fd5706 ┆            ┆        ┆           ┆   ┆           ┆           ┆           ┆           │\n",
       "│ …          ┆            ┆        ┆           ┆   ┆           ┆           ┆           ┆           │\n",
       "│ 8cb28e22-0 ┆ 8575404800 ┆ 591532 ┆ nashville ┆ … ┆ underwrit ┆ false     ┆ null      ┆ attachmen │\n",
       "│ dc3-456c-9 ┆ 84         ┆        ┆           ┆   ┆ er        ┆           ┆           ┆ ts        │\n",
       "│ 956-41d52b ┆            ┆        ┆           ┆   ┆           ┆           ┆           ┆           │\n",
       "│ …          ┆            ┆        ┆           ┆   ┆           ┆           ┆           ┆           │\n",
       "│ eac4d6a2-2 ┆ 8575404800 ┆ 591532 ┆ nashville ┆ … ┆ underwrit ┆ false     ┆ null      ┆ null      │\n",
       "│ ff0-4e59-8 ┆ 84         ┆        ┆           ┆   ┆ er        ┆           ┆           ┆           │\n",
       "│ 0af-aa1b3f ┆            ┆        ┆           ┆   ┆           ┆           ┆           ┆           │\n",
       "│ …          ┆            ┆        ┆           ┆   ┆           ┆           ┆           ┆           │\n",
       "│ bf44b3b7-2 ┆ 8575404800 ┆ 591532 ┆ nashville ┆ … ┆ underwrit ┆ false     ┆ null      ┆ null      │\n",
       "│ b4d-4e20-a ┆ 84         ┆        ┆           ┆   ┆ er        ┆           ┆           ┆           │\n",
       "│ 18c-65fb63 ┆            ┆        ┆           ┆   ┆           ┆           ┆           ┆           │\n",
       "│ …          ┆            ┆        ┆           ┆   ┆           ┆           ┆           ┆           │\n",
       "└────────────┴────────────┴────────┴───────────┴───┴───────────┴───────────┴───────────┴───────────┘"
      ]
     },
     "execution_count": 8,
     "metadata": {},
     "output_type": "execute_result"
    }
   ],
   "source": [
    "# Filter out empty user ids\n",
    "df = df.filter(pl.col('user_id').is_not_null())\n",
    "df\n"
   ]
  },
  {
   "cell_type": "markdown",
   "metadata": {},
   "source": [
    "### Create Session Duration Target Column"
   ]
  },
  {
   "cell_type": "code",
   "execution_count": 9,
   "metadata": {},
   "outputs": [
    {
     "data": {
      "text/html": [
       "<div><style>\n",
       ".dataframe > thead > tr,\n",
       ".dataframe > tbody > tr {\n",
       "  text-align: right;\n",
       "  white-space: pre-wrap;\n",
       "}\n",
       "</style>\n",
       "<small>shape: (87_934, 3)</small><table border=\"1\" class=\"dataframe\"><thead><tr><th>user_id</th><th>client_event_datetime</th><th>session_seconds</th></tr><tr><td>str</td><td>date</td><td>i64</td></tr></thead><tbody><tr><td>&quot;7f90df1c-e78f-487a-858e-cfa2ad…</td><td>2024-12-05</td><td>2225</td></tr><tr><td>&quot;1f8b074f-2d01-46fc-a7a6-aa3a39…</td><td>2024-02-22</td><td>27713</td></tr><tr><td>&quot;97ef6826-391f-4bdb-9ec0-cedd69…</td><td>2023-09-18</td><td>11997</td></tr><tr><td>&quot;a86a6a48-eb31-4691-b9c4-4baa6d…</td><td>2024-11-21</td><td>245</td></tr><tr><td>&quot;acd72a1c-b1c0-4fa2-b12b-7ea3e7…</td><td>2023-12-27</td><td>248</td></tr><tr><td>&hellip;</td><td>&hellip;</td><td>&hellip;</td></tr><tr><td>&quot;f6981214-6a85-46d7-a361-6976fd…</td><td>2023-09-01</td><td>62</td></tr><tr><td>&quot;61a2808e-1f12-4e32-b1be-7a6222…</td><td>2024-02-14</td><td>7173</td></tr><tr><td>&quot;b6a21727-a12e-469f-afd5-77934d…</td><td>2023-12-20</td><td>1228</td></tr><tr><td>&quot;034ec23f-b10f-44a0-98cc-6f67d8…</td><td>2024-02-07</td><td>0</td></tr><tr><td>&quot;cb2e85d8-b628-4bb9-8ed0-b4c07e…</td><td>2024-07-17</td><td>483</td></tr></tbody></table></div>"
      ],
      "text/plain": [
       "shape: (87_934, 3)\n",
       "┌─────────────────────────────────┬───────────────────────┬─────────────────┐\n",
       "│ user_id                         ┆ client_event_datetime ┆ session_seconds │\n",
       "│ ---                             ┆ ---                   ┆ ---             │\n",
       "│ str                             ┆ date                  ┆ i64             │\n",
       "╞═════════════════════════════════╪═══════════════════════╪═════════════════╡\n",
       "│ 7f90df1c-e78f-487a-858e-cfa2ad… ┆ 2024-12-05            ┆ 2225            │\n",
       "│ 1f8b074f-2d01-46fc-a7a6-aa3a39… ┆ 2024-02-22            ┆ 27713           │\n",
       "│ 97ef6826-391f-4bdb-9ec0-cedd69… ┆ 2023-09-18            ┆ 11997           │\n",
       "│ a86a6a48-eb31-4691-b9c4-4baa6d… ┆ 2024-11-21            ┆ 245             │\n",
       "│ acd72a1c-b1c0-4fa2-b12b-7ea3e7… ┆ 2023-12-27            ┆ 248             │\n",
       "│ …                               ┆ …                     ┆ …               │\n",
       "│ f6981214-6a85-46d7-a361-6976fd… ┆ 2023-09-01            ┆ 62              │\n",
       "│ 61a2808e-1f12-4e32-b1be-7a6222… ┆ 2024-02-14            ┆ 7173            │\n",
       "│ b6a21727-a12e-469f-afd5-77934d… ┆ 2023-12-20            ┆ 1228            │\n",
       "│ 034ec23f-b10f-44a0-98cc-6f67d8… ┆ 2024-02-07            ┆ 0               │\n",
       "│ cb2e85d8-b628-4bb9-8ed0-b4c07e… ┆ 2024-07-17            ┆ 483             │\n",
       "└─────────────────────────────────┴───────────────────────┴─────────────────┘"
      ]
     },
     "execution_count": 9,
     "metadata": {},
     "output_type": "execute_result"
    }
   ],
   "source": [
    "# Create session duration table\n",
    "user_session = (df.group_by(['user_id', 'session_id'])\n",
    "                  .agg([pl.max('client_event_time').name.prefix('max_'),\n",
    "                        pl.min('client_event_time').name.prefix('min_')]))\n",
    "\n",
    "# Session time calculation \n",
    "user_session = user_session.with_columns((pl.col('max_client_event_time') \n",
    "                                          - pl.col('min_client_event_time')).alias('session_duration'))\n",
    "user_session = user_session.with_columns(pl.col('session_duration').dt.total_seconds().alias('session_seconds'))\n",
    "\n",
    "# Aggregate data to client_event_datetime level\n",
    "user_session = user_session.with_columns(pl.col('min_client_event_time').cast(pl.Date()).alias('client_event_datetime'))\n",
    "user_session_datetime = user_session.group_by('user_id', 'client_event_datetime').agg(pl.sum('session_seconds'))\n",
    "user_session_datetime"
   ]
  },
  {
   "cell_type": "markdown",
   "metadata": {},
   "source": [
    "## Feature Engineering\n",
    "\n",
    "Next, we will add some features which will serve to be useful in the modelling phase"
   ]
  },
  {
   "cell_type": "markdown",
   "metadata": {},
   "source": [
    "### Group Regions \n",
    "\n",
    "We notice in EDA that most regions come from the United States, with a smaller subset in other countries.\n",
    "\n",
    "For regions in the US, we will group them to four main regions: `northeast`, `midwest`, `south`, `west`\n",
    "\n",
    "For any regions outside the US, we will classify them as `international`"
   ]
  },
  {
   "cell_type": "code",
   "execution_count": 10,
   "metadata": {},
   "outputs": [],
   "source": [
    "def group_region_categories(df, input_col, output_col, condense_map_dict):\n",
    "\n",
    "     # Get dictionary mapping from condense map\n",
    "    map_dict = {}\n",
    "    else_val = condense_map_dict.get('else', None)\n",
    "\n",
    "    for key, val in condense_map_dict.items():\n",
    "        if key == 'else':\n",
    "            continue\n",
    "        map_dict.update({itm : key for itm in val})\n",
    "    \n",
    "    print(map_dict)\n",
    "    # Update values in the column with respective mappings\n",
    "    df = df.with_columns(pl.col(input_col).replace(map_dict).alias(output_col))\n",
    "\n",
    "    if else_val is not None:\n",
    "        df = df.with_columns(pl.when(pl.col(output_col).is_in(condense_map_dict.keys()))\n",
    "                                .then(pl.col(output_col))\n",
    "                                .otherwise(pl.lit(else_val))\n",
    "                                .alias(output_col))\n",
    "    return df"
   ]
  },
  {
   "cell_type": "code",
   "execution_count": 11,
   "metadata": {},
   "outputs": [],
   "source": [
    "# Specify region mappings\n",
    "us_region_mapping = {\n",
    "    'northeast': ['connecticut', 'maine', 'massachusetts', 'new hampshire', 'new jersey', 'new york', 'pennsylvania', 'rhode island', 'vermont'],\n",
    "    'midwest': ['illinois', 'indiana', 'iowa', 'kansas', 'michigan', 'minnesota', 'missouri', 'nebraska', 'north dakota', 'ohio', 'south dakota', 'wisconsin'],\n",
    "    'south': ['alabama', 'arkansas', 'delaware', 'florida', 'georgia', 'kentucky', 'louisiana', 'maryland', 'mississippi', 'north carolina', 'oklahoma', \n",
    "              'south carolina', 'tennessee', 'texas', 'virginia', 'west virginia'],\n",
    "    'west': ['alaska', 'arizona', 'california', 'colorado', 'hawaii', 'idaho', 'montana', 'nevada', 'new mexico', 'oregon', 'utah', 'washington', 'wyoming'],\n",
    "    'else': 'international'\n",
    "}\n"
   ]
  },
  {
   "cell_type": "code",
   "execution_count": 12,
   "metadata": {},
   "outputs": [
    {
     "name": "stdout",
     "output_type": "stream",
     "text": [
      "{'connecticut': 'northeast', 'maine': 'northeast', 'massachusetts': 'northeast', 'new hampshire': 'northeast', 'new jersey': 'northeast', 'new york': 'northeast', 'pennsylvania': 'northeast', 'rhode island': 'northeast', 'vermont': 'northeast', 'illinois': 'midwest', 'indiana': 'midwest', 'iowa': 'midwest', 'kansas': 'midwest', 'michigan': 'midwest', 'minnesota': 'midwest', 'missouri': 'midwest', 'nebraska': 'midwest', 'north dakota': 'midwest', 'ohio': 'midwest', 'south dakota': 'midwest', 'wisconsin': 'midwest', 'alabama': 'south', 'arkansas': 'south', 'delaware': 'south', 'florida': 'south', 'georgia': 'south', 'kentucky': 'south', 'louisiana': 'south', 'maryland': 'south', 'mississippi': 'south', 'north carolina': 'south', 'oklahoma': 'south', 'south carolina': 'south', 'tennessee': 'south', 'texas': 'south', 'virginia': 'south', 'west virginia': 'south', 'alaska': 'west', 'arizona': 'west', 'california': 'west', 'colorado': 'west', 'hawaii': 'west', 'idaho': 'west', 'montana': 'west', 'nevada': 'west', 'new mexico': 'west', 'oregon': 'west', 'utah': 'west', 'washington': 'west', 'wyoming': 'west'}\n"
     ]
    },
    {
     "data": {
      "text/html": [
       "<div><style>\n",
       ".dataframe > thead > tr,\n",
       ".dataframe > tbody > tr {\n",
       "  text-align: right;\n",
       "  white-space: pre-wrap;\n",
       "}\n",
       "</style>\n",
       "<small>shape: (14_119_738, 29)</small><table border=\"1\" class=\"dataframe\"><thead><tr><th>$insert_id</th><th>amplitude_id</th><th>app</th><th>city</th><th>client_event_time</th><th>client_upload_time</th><th>country</th><th>device_family</th><th>device_id</th><th>dma</th><th>event_id</th><th>event_properties</th><th>event_time</th><th>event_type</th><th>language</th><th>library</th><th>os_name</th><th>processed_time</th><th>region</th><th>server_received_time</th><th>server_upload_time</th><th>session_id</th><th>user_id</th><th>user_properties</th><th>roles</th><th>isInternalUser</th><th>referrer</th><th>slug</th><th>region_grouped</th></tr><tr><td>str</td><td>i64</td><td>i64</td><td>str</td><td>datetime[μs]</td><td>datetime[μs]</td><td>str</td><td>str</td><td>str</td><td>str</td><td>i64</td><td>str</td><td>datetime[μs]</td><td>str</td><td>str</td><td>str</td><td>str</td><td>datetime[μs]</td><td>str</td><td>datetime[μs]</td><td>datetime[μs]</td><td>i64</td><td>str</td><td>str</td><td>str</td><td>str</td><td>str</td><td>str</td><td>str</td></tr></thead><tbody><tr><td>&quot;251db963-6623-448e-8665-f542b8…</td><td>935023330069</td><td>591532</td><td>&quot;mumbai&quot;</td><td>2024-10-08 11:41:02.385</td><td>2024-10-08 11:41:04.857</td><td>&quot;india&quot;</td><td>&quot;windows&quot;</td><td>&quot;8bd8b6ab-370f-4b56-b38f-ad221c…</td><td>null</td><td>22216</td><td>&quot;{}&quot;</td><td>2024-10-08 11:41:02.385</td><td>&quot;session_start&quot;</td><td>&quot;english&quot;</td><td>&quot;amplitude-ts/2.7.2&quot;</td><td>&quot;chrome&quot;</td><td>2024-10-08 11:41:05.371</td><td>&quot;maharashtra&quot;</td><td>2024-10-08 11:41:04.857</td><td>2024-10-08 11:41:04.859</td><td>1728387662385</td><td>&quot;8038ea38-8ddf-4a1a-825d-8287c0…</td><td>&quot;{&#x27;roles&#x27;: [&#x27;underwriter&#x27;], &#x27;tr…</td><td>&quot;underwriter&quot;</td><td>&quot;false&quot;</td><td>&quot;https://accounts.google.com/&quot;</td><td>null</td><td>&quot;international&quot;</td></tr><tr><td>&quot;3a95cdac-174c-4002-8e84-8aeba8…</td><td>935023330069</td><td>591532</td><td>&quot;mumbai&quot;</td><td>2024-10-08 11:41:02.386</td><td>2024-10-08 11:41:04.857</td><td>&quot;india&quot;</td><td>&quot;windows&quot;</td><td>&quot;8bd8b6ab-370f-4b56-b38f-ad221c…</td><td>null</td><td>22215</td><td>&quot;{}&quot;</td><td>2024-10-08 11:41:02.386</td><td>&quot;session_end&quot;</td><td>&quot;english&quot;</td><td>&quot;amplitude-ts/2.7.2&quot;</td><td>&quot;chrome&quot;</td><td>2024-10-08 11:41:05.371</td><td>&quot;maharashtra&quot;</td><td>2024-10-08 11:41:04.857</td><td>2024-10-08 11:41:04.859</td><td>1728387662385</td><td>&quot;8038ea38-8ddf-4a1a-825d-8287c0…</td><td>&quot;{&#x27;roles&#x27;: [&#x27;underwriter&#x27;], &#x27;tr…</td><td>&quot;underwriter&quot;</td><td>&quot;false&quot;</td><td>&quot;https://accounts.google.com/&quot;</td><td>null</td><td>&quot;international&quot;</td></tr><tr><td>&quot;50dbfad3-8e24-456a-ae68-21b09b…</td><td>935023330069</td><td>591532</td><td>&quot;mumbai&quot;</td><td>2024-10-08 11:41:02.386</td><td>2024-10-08 11:41:04.857</td><td>&quot;india&quot;</td><td>&quot;windows&quot;</td><td>&quot;8bd8b6ab-370f-4b56-b38f-ad221c…</td><td>null</td><td>22216</td><td>&quot;{&#x27;[amplitude] session replay i…</td><td>2024-10-08 11:41:02.386</td><td>&quot;session_start&quot;</td><td>&quot;english&quot;</td><td>&quot;amplitude-ts/2.7.2&quot;</td><td>&quot;chrome&quot;</td><td>2024-10-08 11:41:05.371</td><td>&quot;maharashtra&quot;</td><td>2024-10-08 11:41:04.857</td><td>2024-10-08 11:41:04.859</td><td>1728387662386</td><td>&quot;8038ea38-8ddf-4a1a-825d-8287c0…</td><td>&quot;{&#x27;roles&#x27;: [&#x27;underwriter&#x27;], &#x27;tr…</td><td>&quot;underwriter&quot;</td><td>&quot;false&quot;</td><td>&quot;https://accounts.google.com/&quot;</td><td>null</td><td>&quot;international&quot;</td></tr><tr><td>&quot;ea0a4143-2380-48e7-a83e-8ba854…</td><td>935023330069</td><td>591532</td><td>&quot;mumbai&quot;</td><td>2024-10-08 11:41:03.500</td><td>2024-10-08 11:41:04.857</td><td>&quot;india&quot;</td><td>&quot;windows&quot;</td><td>&quot;8bd8b6ab-370f-4b56-b38f-ad221c…</td><td>null</td><td>22217</td><td>&quot;{&#x27;rowmodel&#x27;: &#x27;server&#x27;, &#x27;[ampli…</td><td>2024-10-08 11:41:03.500</td><td>&quot;:all-accounts:configurable-tab…</td><td>&quot;english&quot;</td><td>&quot;amplitude-ts/2.7.2&quot;</td><td>&quot;chrome&quot;</td><td>2024-10-08 11:41:05.371</td><td>&quot;maharashtra&quot;</td><td>2024-10-08 11:41:04.857</td><td>2024-10-08 11:41:04.859</td><td>1728387662386</td><td>&quot;8038ea38-8ddf-4a1a-825d-8287c0…</td><td>&quot;{&#x27;roles&#x27;: [&#x27;underwriter&#x27;], &#x27;tr…</td><td>&quot;underwriter&quot;</td><td>&quot;false&quot;</td><td>&quot;https://accounts.google.com/&quot;</td><td>null</td><td>&quot;international&quot;</td></tr><tr><td>&quot;4d89977d-4734-450c-afa1-07e326…</td><td>935023330069</td><td>591532</td><td>&quot;mumbai&quot;</td><td>2024-10-08 11:41:03.527</td><td>2024-10-08 11:41:04.857</td><td>&quot;india&quot;</td><td>&quot;windows&quot;</td><td>&quot;8bd8b6ab-370f-4b56-b38f-ad221c…</td><td>null</td><td>22217</td><td>&quot;{&#x27;displayname&#x27;: &#x27;all policies …</td><td>2024-10-08 11:41:03.527</td><td>&quot;:all-accounts:widget:render&quot;</td><td>&quot;english&quot;</td><td>&quot;amplitude-ts/2.7.2&quot;</td><td>&quot;chrome&quot;</td><td>2024-10-08 11:41:05.371</td><td>&quot;maharashtra&quot;</td><td>2024-10-08 11:41:04.857</td><td>2024-10-08 11:41:04.859</td><td>1728387662386</td><td>&quot;8038ea38-8ddf-4a1a-825d-8287c0…</td><td>&quot;{&#x27;roles&#x27;: [&#x27;underwriter&#x27;], &#x27;tr…</td><td>&quot;underwriter&quot;</td><td>&quot;false&quot;</td><td>&quot;https://accounts.google.com/&quot;</td><td>null</td><td>&quot;international&quot;</td></tr><tr><td>&hellip;</td><td>&hellip;</td><td>&hellip;</td><td>&hellip;</td><td>&hellip;</td><td>&hellip;</td><td>&hellip;</td><td>&hellip;</td><td>&hellip;</td><td>&hellip;</td><td>&hellip;</td><td>&hellip;</td><td>&hellip;</td><td>&hellip;</td><td>&hellip;</td><td>&hellip;</td><td>&hellip;</td><td>&hellip;</td><td>&hellip;</td><td>&hellip;</td><td>&hellip;</td><td>&hellip;</td><td>&hellip;</td><td>&hellip;</td><td>&hellip;</td><td>&hellip;</td><td>&hellip;</td><td>&hellip;</td><td>&hellip;</td></tr><tr><td>&quot;102ec3ca-a467-41a9-aa19-94f5b0…</td><td>857540480084</td><td>591532</td><td>&quot;nashville&quot;</td><td>2024-05-22 09:36:09.888</td><td>2024-05-22 09:36:10.832</td><td>&quot;united states&quot;</td><td>&quot;windows&quot;</td><td>&quot;a8b357fb-b4fb-45d2-babd-42b470…</td><td>&quot;nashville, tn&quot;</td><td>26</td><td>&quot;{&#x27;displayname&#x27;: &#x27;one drive lin…</td><td>2024-05-22 09:36:09.888</td><td>&quot;account-lines::widget:render&quot;</td><td>&quot;english&quot;</td><td>&quot;amplitude-ts/1.8.0&quot;</td><td>&quot;edge&quot;</td><td>2024-05-22 09:36:11.662</td><td>&quot;tennessee&quot;</td><td>2024-05-22 09:36:10.832</td><td>2024-05-22 09:36:10.833</td><td>1716368557821</td><td>&quot;9aecc15d-64a4-4190-80f5-b5b842…</td><td>&quot;{&#x27;initial_utm_medium&#x27;: &#x27;empty&#x27;…</td><td>&quot;underwriter&quot;</td><td>&quot;false&quot;</td><td>null</td><td>&quot;one-drive-link&quot;</td><td>&quot;south&quot;</td></tr><tr><td>&quot;55aec1ce-b876-4f66-b786-fd5706…</td><td>857540480084</td><td>591532</td><td>&quot;nashville&quot;</td><td>2024-05-22 09:36:09.917</td><td>2024-05-22 09:36:10.832</td><td>&quot;united states&quot;</td><td>&quot;windows&quot;</td><td>&quot;a8b357fb-b4fb-45d2-babd-42b470…</td><td>&quot;nashville, tn&quot;</td><td>27</td><td>&quot;{&#x27;rowmodel&#x27;: &#x27;legacyserver&#x27;, &#x27;…</td><td>2024-05-22 09:36:09.917</td><td>&quot;account-lines::configurable-ta…</td><td>&quot;english&quot;</td><td>&quot;amplitude-ts/1.8.0&quot;</td><td>&quot;edge&quot;</td><td>2024-05-22 09:36:11.662</td><td>&quot;tennessee&quot;</td><td>2024-05-22 09:36:10.832</td><td>2024-05-22 09:36:10.833</td><td>1716368557821</td><td>&quot;9aecc15d-64a4-4190-80f5-b5b842…</td><td>&quot;{&#x27;initial_utm_medium&#x27;: &#x27;empty&#x27;…</td><td>&quot;underwriter&quot;</td><td>&quot;false&quot;</td><td>null</td><td>&quot;property-locations&quot;</td><td>&quot;south&quot;</td></tr><tr><td>&quot;8cb28e22-0dc3-456c-9956-41d52b…</td><td>857540480084</td><td>591532</td><td>&quot;nashville&quot;</td><td>2024-05-22 09:36:15.727</td><td>2024-05-22 09:36:16.789</td><td>&quot;united states&quot;</td><td>&quot;windows&quot;</td><td>&quot;a8b357fb-b4fb-45d2-babd-42b470…</td><td>&quot;nashville, tn&quot;</td><td>28</td><td>&quot;{&#x27;displayname&#x27;: &#x27;attachments&#x27;,…</td><td>2024-05-22 09:36:15.727</td><td>&quot;account-lines::widget:render&quot;</td><td>&quot;english&quot;</td><td>&quot;amplitude-ts/1.8.0&quot;</td><td>&quot;edge&quot;</td><td>2024-05-22 09:36:17.297</td><td>&quot;tennessee&quot;</td><td>2024-05-22 09:36:16.789</td><td>2024-05-22 09:36:16.791</td><td>1716368557821</td><td>&quot;9aecc15d-64a4-4190-80f5-b5b842…</td><td>&quot;{&#x27;initial_utm_medium&#x27;: &#x27;empty&#x27;…</td><td>&quot;underwriter&quot;</td><td>&quot;false&quot;</td><td>null</td><td>&quot;attachments&quot;</td><td>&quot;south&quot;</td></tr><tr><td>&quot;eac4d6a2-2ff0-4e59-80af-aa1b3f…</td><td>857540480084</td><td>591532</td><td>&quot;nashville&quot;</td><td>2024-05-22 09:36:33.812</td><td>2024-05-22 09:36:34.881</td><td>&quot;united states&quot;</td><td>&quot;windows&quot;</td><td>&quot;a8b357fb-b4fb-45d2-babd-42b470…</td><td>&quot;nashville, tn&quot;</td><td>29</td><td>&quot;{}&quot;</td><td>2024-05-22 09:36:33.812</td><td>&quot;::nav-header:action-center-cli…</td><td>&quot;english&quot;</td><td>&quot;amplitude-ts/1.8.0&quot;</td><td>&quot;edge&quot;</td><td>2024-05-22 09:36:36.435</td><td>&quot;tennessee&quot;</td><td>2024-05-22 09:36:34.881</td><td>2024-05-22 09:36:34.883</td><td>1716368557821</td><td>&quot;9aecc15d-64a4-4190-80f5-b5b842…</td><td>&quot;{&#x27;initial_utm_medium&#x27;: &#x27;empty&#x27;…</td><td>&quot;underwriter&quot;</td><td>&quot;false&quot;</td><td>null</td><td>null</td><td>&quot;south&quot;</td></tr><tr><td>&quot;bf44b3b7-2b4d-4e20-a18c-65fb63…</td><td>857540480084</td><td>591532</td><td>&quot;nashville&quot;</td><td>2024-05-22 09:36:33.815</td><td>2024-05-22 09:36:34.881</td><td>&quot;united states&quot;</td><td>&quot;windows&quot;</td><td>&quot;a8b357fb-b4fb-45d2-babd-42b470…</td><td>&quot;nashville, tn&quot;</td><td>30</td><td>&quot;{}&quot;</td><td>2024-05-22 09:36:33.815</td><td>&quot;action-center:::view&quot;</td><td>&quot;english&quot;</td><td>&quot;amplitude-ts/1.8.0&quot;</td><td>&quot;edge&quot;</td><td>2024-05-22 09:36:36.435</td><td>&quot;tennessee&quot;</td><td>2024-05-22 09:36:34.881</td><td>2024-05-22 09:36:34.883</td><td>1716368557821</td><td>&quot;9aecc15d-64a4-4190-80f5-b5b842…</td><td>&quot;{&#x27;initial_utm_medium&#x27;: &#x27;empty&#x27;…</td><td>&quot;underwriter&quot;</td><td>&quot;false&quot;</td><td>null</td><td>null</td><td>&quot;south&quot;</td></tr></tbody></table></div>"
      ],
      "text/plain": [
       "shape: (14_119_738, 29)\n",
       "┌────────────┬────────────┬────────┬───────────┬───┬───────────┬───────────┬───────────┬───────────┐\n",
       "│ $insert_id ┆ amplitude_ ┆ app    ┆ city      ┆ … ┆ isInterna ┆ referrer  ┆ slug      ┆ region_gr │\n",
       "│ ---        ┆ id         ┆ ---    ┆ ---       ┆   ┆ lUser     ┆ ---       ┆ ---       ┆ ouped     │\n",
       "│ str        ┆ ---        ┆ i64    ┆ str       ┆   ┆ ---       ┆ str       ┆ str       ┆ ---       │\n",
       "│            ┆ i64        ┆        ┆           ┆   ┆ str       ┆           ┆           ┆ str       │\n",
       "╞════════════╪════════════╪════════╪═══════════╪═══╪═══════════╪═══════════╪═══════════╪═══════════╡\n",
       "│ 251db963-6 ┆ 9350233300 ┆ 591532 ┆ mumbai    ┆ … ┆ false     ┆ https://a ┆ null      ┆ internati │\n",
       "│ 623-448e-8 ┆ 69         ┆        ┆           ┆   ┆           ┆ ccounts.g ┆           ┆ onal      │\n",
       "│ 665-f542b8 ┆            ┆        ┆           ┆   ┆           ┆ oogle.com ┆           ┆           │\n",
       "│ …          ┆            ┆        ┆           ┆   ┆           ┆ /         ┆           ┆           │\n",
       "│ 3a95cdac-1 ┆ 9350233300 ┆ 591532 ┆ mumbai    ┆ … ┆ false     ┆ https://a ┆ null      ┆ internati │\n",
       "│ 74c-4002-8 ┆ 69         ┆        ┆           ┆   ┆           ┆ ccounts.g ┆           ┆ onal      │\n",
       "│ e84-8aeba8 ┆            ┆        ┆           ┆   ┆           ┆ oogle.com ┆           ┆           │\n",
       "│ …          ┆            ┆        ┆           ┆   ┆           ┆ /         ┆           ┆           │\n",
       "│ 50dbfad3-8 ┆ 9350233300 ┆ 591532 ┆ mumbai    ┆ … ┆ false     ┆ https://a ┆ null      ┆ internati │\n",
       "│ e24-456a-a ┆ 69         ┆        ┆           ┆   ┆           ┆ ccounts.g ┆           ┆ onal      │\n",
       "│ e68-21b09b ┆            ┆        ┆           ┆   ┆           ┆ oogle.com ┆           ┆           │\n",
       "│ …          ┆            ┆        ┆           ┆   ┆           ┆ /         ┆           ┆           │\n",
       "│ ea0a4143-2 ┆ 9350233300 ┆ 591532 ┆ mumbai    ┆ … ┆ false     ┆ https://a ┆ null      ┆ internati │\n",
       "│ 380-48e7-a ┆ 69         ┆        ┆           ┆   ┆           ┆ ccounts.g ┆           ┆ onal      │\n",
       "│ 83e-8ba854 ┆            ┆        ┆           ┆   ┆           ┆ oogle.com ┆           ┆           │\n",
       "│ …          ┆            ┆        ┆           ┆   ┆           ┆ /         ┆           ┆           │\n",
       "│ 4d89977d-4 ┆ 9350233300 ┆ 591532 ┆ mumbai    ┆ … ┆ false     ┆ https://a ┆ null      ┆ internati │\n",
       "│ 734-450c-a ┆ 69         ┆        ┆           ┆   ┆           ┆ ccounts.g ┆           ┆ onal      │\n",
       "│ fa1-07e326 ┆            ┆        ┆           ┆   ┆           ┆ oogle.com ┆           ┆           │\n",
       "│ …          ┆            ┆        ┆           ┆   ┆           ┆ /         ┆           ┆           │\n",
       "│ …          ┆ …          ┆ …      ┆ …         ┆ … ┆ …         ┆ …         ┆ …         ┆ …         │\n",
       "│ 102ec3ca-a ┆ 8575404800 ┆ 591532 ┆ nashville ┆ … ┆ false     ┆ null      ┆ one-drive ┆ south     │\n",
       "│ 467-41a9-a ┆ 84         ┆        ┆           ┆   ┆           ┆           ┆ -link     ┆           │\n",
       "│ a19-94f5b0 ┆            ┆        ┆           ┆   ┆           ┆           ┆           ┆           │\n",
       "│ …          ┆            ┆        ┆           ┆   ┆           ┆           ┆           ┆           │\n",
       "│ 55aec1ce-b ┆ 8575404800 ┆ 591532 ┆ nashville ┆ … ┆ false     ┆ null      ┆ property- ┆ south     │\n",
       "│ 876-4f66-b ┆ 84         ┆        ┆           ┆   ┆           ┆           ┆ locations ┆           │\n",
       "│ 786-fd5706 ┆            ┆        ┆           ┆   ┆           ┆           ┆           ┆           │\n",
       "│ …          ┆            ┆        ┆           ┆   ┆           ┆           ┆           ┆           │\n",
       "│ 8cb28e22-0 ┆ 8575404800 ┆ 591532 ┆ nashville ┆ … ┆ false     ┆ null      ┆ attachmen ┆ south     │\n",
       "│ dc3-456c-9 ┆ 84         ┆        ┆           ┆   ┆           ┆           ┆ ts        ┆           │\n",
       "│ 956-41d52b ┆            ┆        ┆           ┆   ┆           ┆           ┆           ┆           │\n",
       "│ …          ┆            ┆        ┆           ┆   ┆           ┆           ┆           ┆           │\n",
       "│ eac4d6a2-2 ┆ 8575404800 ┆ 591532 ┆ nashville ┆ … ┆ false     ┆ null      ┆ null      ┆ south     │\n",
       "│ ff0-4e59-8 ┆ 84         ┆        ┆           ┆   ┆           ┆           ┆           ┆           │\n",
       "│ 0af-aa1b3f ┆            ┆        ┆           ┆   ┆           ┆           ┆           ┆           │\n",
       "│ …          ┆            ┆        ┆           ┆   ┆           ┆           ┆           ┆           │\n",
       "│ bf44b3b7-2 ┆ 8575404800 ┆ 591532 ┆ nashville ┆ … ┆ false     ┆ null      ┆ null      ┆ south     │\n",
       "│ b4d-4e20-a ┆ 84         ┆        ┆           ┆   ┆           ┆           ┆           ┆           │\n",
       "│ 18c-65fb63 ┆            ┆        ┆           ┆   ┆           ┆           ┆           ┆           │\n",
       "│ …          ┆            ┆        ┆           ┆   ┆           ┆           ┆           ┆           │\n",
       "└────────────┴────────────┴────────┴───────────┴───┴───────────┴───────────┴───────────┴───────────┘"
      ]
     },
     "execution_count": 12,
     "metadata": {},
     "output_type": "execute_result"
    }
   ],
   "source": [
    "# Encode regions\n",
    "df = group_region_categories(df, 'region', 'region_grouped', us_region_mapping)\n",
    "df"
   ]
  },
  {
   "cell_type": "markdown",
   "metadata": {},
   "source": [
    "### Encode Events\n",
    "\n",
    "Moreover, we will also encode the events into 7 main categories:\n",
    "\n",
    "- Session & Navigation\n",
    "- Account & Policy Management\n",
    "- Dashboard & UI Interactions\n",
    "- Action Center & Workflow\n",
    "- Submission & Forms\n",
    "- Filtering & Searching\n",
    "- Document & Report Interactions\n",
    "- Other/System Events\n",
    "\n",
    "All of the contents of this encoding has been written in the config, and can be applied by using `map_values` "
   ]
  },
  {
   "cell_type": "code",
   "execution_count": 13,
   "metadata": {},
   "outputs": [],
   "source": [
    "# Function for grouping the events\n",
    "def categorize_event(event_type):\n",
    "    event_type = event_type.lower()  # Ensure input is lowercase\n",
    "    \n",
    "    if any(keyword in event_type for keyword in [\"session_start\", \"session_end\", \"application-window\", \"nav-header\", \"dashboard\"]):\n",
    "        return \"session & navigation\"\n",
    "    elif any(keyword in event_type for keyword in [\"account\", \"policy\", \"rating\"]):\n",
    "        return \"account & policy management\"\n",
    "    elif any(keyword in event_type for keyword in [\"dashboard\", \"widget\", \"layout\", \"insights\", \"table\"]):\n",
    "        return \"dashboard & ui interactions\"\n",
    "    elif any(keyword in event_type for keyword in [\"action-center\", \"task\", \"workflow\", \"take-action\"]):\n",
    "        return \"action center & workflow\"\n",
    "    elif any(keyword in event_type for keyword in [\"submit-click\", \"form\", \"create\", \"definition\", \"save-click\", \"submissions\"]):\n",
    "        return \"submission & forms\"\n",
    "    elif any(keyword in event_type for keyword in [\"filter\", \"sort\", \"search\", \"advanced-filters\"]):\n",
    "        return \"filtering & searching\"\n",
    "    elif any(keyword in event_type for keyword in [\"document\", \"report\", \"download\", \"csv\"]):\n",
    "        return \"document & report interactions\"\n",
    "    else:\n",
    "        return \"other/system events\"\n"
   ]
  },
  {
   "cell_type": "code",
   "execution_count": 14,
   "metadata": {},
   "outputs": [
    {
     "data": {
      "text/html": [
       "<div><style>\n",
       ".dataframe > thead > tr,\n",
       ".dataframe > tbody > tr {\n",
       "  text-align: right;\n",
       "  white-space: pre-wrap;\n",
       "}\n",
       "</style>\n",
       "<small>shape: (14_119_738, 30)</small><table border=\"1\" class=\"dataframe\"><thead><tr><th>$insert_id</th><th>amplitude_id</th><th>app</th><th>city</th><th>client_event_time</th><th>client_upload_time</th><th>country</th><th>device_family</th><th>device_id</th><th>dma</th><th>event_id</th><th>event_properties</th><th>event_time</th><th>event_type</th><th>language</th><th>library</th><th>os_name</th><th>processed_time</th><th>region</th><th>server_received_time</th><th>server_upload_time</th><th>session_id</th><th>user_id</th><th>user_properties</th><th>roles</th><th>isInternalUser</th><th>referrer</th><th>slug</th><th>region_grouped</th><th>event_category</th></tr><tr><td>str</td><td>i64</td><td>i64</td><td>str</td><td>datetime[μs]</td><td>datetime[μs]</td><td>str</td><td>str</td><td>str</td><td>str</td><td>i64</td><td>str</td><td>datetime[μs]</td><td>str</td><td>str</td><td>str</td><td>str</td><td>datetime[μs]</td><td>str</td><td>datetime[μs]</td><td>datetime[μs]</td><td>i64</td><td>str</td><td>str</td><td>str</td><td>str</td><td>str</td><td>str</td><td>str</td><td>str</td></tr></thead><tbody><tr><td>&quot;251db963-6623-448e-8665-f542b8…</td><td>935023330069</td><td>591532</td><td>&quot;mumbai&quot;</td><td>2024-10-08 11:41:02.385</td><td>2024-10-08 11:41:04.857</td><td>&quot;india&quot;</td><td>&quot;windows&quot;</td><td>&quot;8bd8b6ab-370f-4b56-b38f-ad221c…</td><td>null</td><td>22216</td><td>&quot;{}&quot;</td><td>2024-10-08 11:41:02.385</td><td>&quot;session_start&quot;</td><td>&quot;english&quot;</td><td>&quot;amplitude-ts/2.7.2&quot;</td><td>&quot;chrome&quot;</td><td>2024-10-08 11:41:05.371</td><td>&quot;maharashtra&quot;</td><td>2024-10-08 11:41:04.857</td><td>2024-10-08 11:41:04.859</td><td>1728387662385</td><td>&quot;8038ea38-8ddf-4a1a-825d-8287c0…</td><td>&quot;{&#x27;roles&#x27;: [&#x27;underwriter&#x27;], &#x27;tr…</td><td>&quot;underwriter&quot;</td><td>&quot;false&quot;</td><td>&quot;https://accounts.google.com/&quot;</td><td>null</td><td>&quot;international&quot;</td><td>&quot;session &amp; navigation&quot;</td></tr><tr><td>&quot;3a95cdac-174c-4002-8e84-8aeba8…</td><td>935023330069</td><td>591532</td><td>&quot;mumbai&quot;</td><td>2024-10-08 11:41:02.386</td><td>2024-10-08 11:41:04.857</td><td>&quot;india&quot;</td><td>&quot;windows&quot;</td><td>&quot;8bd8b6ab-370f-4b56-b38f-ad221c…</td><td>null</td><td>22215</td><td>&quot;{}&quot;</td><td>2024-10-08 11:41:02.386</td><td>&quot;session_end&quot;</td><td>&quot;english&quot;</td><td>&quot;amplitude-ts/2.7.2&quot;</td><td>&quot;chrome&quot;</td><td>2024-10-08 11:41:05.371</td><td>&quot;maharashtra&quot;</td><td>2024-10-08 11:41:04.857</td><td>2024-10-08 11:41:04.859</td><td>1728387662385</td><td>&quot;8038ea38-8ddf-4a1a-825d-8287c0…</td><td>&quot;{&#x27;roles&#x27;: [&#x27;underwriter&#x27;], &#x27;tr…</td><td>&quot;underwriter&quot;</td><td>&quot;false&quot;</td><td>&quot;https://accounts.google.com/&quot;</td><td>null</td><td>&quot;international&quot;</td><td>&quot;session &amp; navigation&quot;</td></tr><tr><td>&quot;50dbfad3-8e24-456a-ae68-21b09b…</td><td>935023330069</td><td>591532</td><td>&quot;mumbai&quot;</td><td>2024-10-08 11:41:02.386</td><td>2024-10-08 11:41:04.857</td><td>&quot;india&quot;</td><td>&quot;windows&quot;</td><td>&quot;8bd8b6ab-370f-4b56-b38f-ad221c…</td><td>null</td><td>22216</td><td>&quot;{&#x27;[amplitude] session replay i…</td><td>2024-10-08 11:41:02.386</td><td>&quot;session_start&quot;</td><td>&quot;english&quot;</td><td>&quot;amplitude-ts/2.7.2&quot;</td><td>&quot;chrome&quot;</td><td>2024-10-08 11:41:05.371</td><td>&quot;maharashtra&quot;</td><td>2024-10-08 11:41:04.857</td><td>2024-10-08 11:41:04.859</td><td>1728387662386</td><td>&quot;8038ea38-8ddf-4a1a-825d-8287c0…</td><td>&quot;{&#x27;roles&#x27;: [&#x27;underwriter&#x27;], &#x27;tr…</td><td>&quot;underwriter&quot;</td><td>&quot;false&quot;</td><td>&quot;https://accounts.google.com/&quot;</td><td>null</td><td>&quot;international&quot;</td><td>&quot;session &amp; navigation&quot;</td></tr><tr><td>&quot;ea0a4143-2380-48e7-a83e-8ba854…</td><td>935023330069</td><td>591532</td><td>&quot;mumbai&quot;</td><td>2024-10-08 11:41:03.500</td><td>2024-10-08 11:41:04.857</td><td>&quot;india&quot;</td><td>&quot;windows&quot;</td><td>&quot;8bd8b6ab-370f-4b56-b38f-ad221c…</td><td>null</td><td>22217</td><td>&quot;{&#x27;rowmodel&#x27;: &#x27;server&#x27;, &#x27;[ampli…</td><td>2024-10-08 11:41:03.500</td><td>&quot;:all-accounts:configurable-tab…</td><td>&quot;english&quot;</td><td>&quot;amplitude-ts/2.7.2&quot;</td><td>&quot;chrome&quot;</td><td>2024-10-08 11:41:05.371</td><td>&quot;maharashtra&quot;</td><td>2024-10-08 11:41:04.857</td><td>2024-10-08 11:41:04.859</td><td>1728387662386</td><td>&quot;8038ea38-8ddf-4a1a-825d-8287c0…</td><td>&quot;{&#x27;roles&#x27;: [&#x27;underwriter&#x27;], &#x27;tr…</td><td>&quot;underwriter&quot;</td><td>&quot;false&quot;</td><td>&quot;https://accounts.google.com/&quot;</td><td>null</td><td>&quot;international&quot;</td><td>&quot;account &amp; policy management&quot;</td></tr><tr><td>&quot;4d89977d-4734-450c-afa1-07e326…</td><td>935023330069</td><td>591532</td><td>&quot;mumbai&quot;</td><td>2024-10-08 11:41:03.527</td><td>2024-10-08 11:41:04.857</td><td>&quot;india&quot;</td><td>&quot;windows&quot;</td><td>&quot;8bd8b6ab-370f-4b56-b38f-ad221c…</td><td>null</td><td>22217</td><td>&quot;{&#x27;displayname&#x27;: &#x27;all policies …</td><td>2024-10-08 11:41:03.527</td><td>&quot;:all-accounts:widget:render&quot;</td><td>&quot;english&quot;</td><td>&quot;amplitude-ts/2.7.2&quot;</td><td>&quot;chrome&quot;</td><td>2024-10-08 11:41:05.371</td><td>&quot;maharashtra&quot;</td><td>2024-10-08 11:41:04.857</td><td>2024-10-08 11:41:04.859</td><td>1728387662386</td><td>&quot;8038ea38-8ddf-4a1a-825d-8287c0…</td><td>&quot;{&#x27;roles&#x27;: [&#x27;underwriter&#x27;], &#x27;tr…</td><td>&quot;underwriter&quot;</td><td>&quot;false&quot;</td><td>&quot;https://accounts.google.com/&quot;</td><td>null</td><td>&quot;international&quot;</td><td>&quot;account &amp; policy management&quot;</td></tr><tr><td>&hellip;</td><td>&hellip;</td><td>&hellip;</td><td>&hellip;</td><td>&hellip;</td><td>&hellip;</td><td>&hellip;</td><td>&hellip;</td><td>&hellip;</td><td>&hellip;</td><td>&hellip;</td><td>&hellip;</td><td>&hellip;</td><td>&hellip;</td><td>&hellip;</td><td>&hellip;</td><td>&hellip;</td><td>&hellip;</td><td>&hellip;</td><td>&hellip;</td><td>&hellip;</td><td>&hellip;</td><td>&hellip;</td><td>&hellip;</td><td>&hellip;</td><td>&hellip;</td><td>&hellip;</td><td>&hellip;</td><td>&hellip;</td><td>&hellip;</td></tr><tr><td>&quot;102ec3ca-a467-41a9-aa19-94f5b0…</td><td>857540480084</td><td>591532</td><td>&quot;nashville&quot;</td><td>2024-05-22 09:36:09.888</td><td>2024-05-22 09:36:10.832</td><td>&quot;united states&quot;</td><td>&quot;windows&quot;</td><td>&quot;a8b357fb-b4fb-45d2-babd-42b470…</td><td>&quot;nashville, tn&quot;</td><td>26</td><td>&quot;{&#x27;displayname&#x27;: &#x27;one drive lin…</td><td>2024-05-22 09:36:09.888</td><td>&quot;account-lines::widget:render&quot;</td><td>&quot;english&quot;</td><td>&quot;amplitude-ts/1.8.0&quot;</td><td>&quot;edge&quot;</td><td>2024-05-22 09:36:11.662</td><td>&quot;tennessee&quot;</td><td>2024-05-22 09:36:10.832</td><td>2024-05-22 09:36:10.833</td><td>1716368557821</td><td>&quot;9aecc15d-64a4-4190-80f5-b5b842…</td><td>&quot;{&#x27;initial_utm_medium&#x27;: &#x27;empty&#x27;…</td><td>&quot;underwriter&quot;</td><td>&quot;false&quot;</td><td>null</td><td>&quot;one-drive-link&quot;</td><td>&quot;south&quot;</td><td>&quot;account &amp; policy management&quot;</td></tr><tr><td>&quot;55aec1ce-b876-4f66-b786-fd5706…</td><td>857540480084</td><td>591532</td><td>&quot;nashville&quot;</td><td>2024-05-22 09:36:09.917</td><td>2024-05-22 09:36:10.832</td><td>&quot;united states&quot;</td><td>&quot;windows&quot;</td><td>&quot;a8b357fb-b4fb-45d2-babd-42b470…</td><td>&quot;nashville, tn&quot;</td><td>27</td><td>&quot;{&#x27;rowmodel&#x27;: &#x27;legacyserver&#x27;, &#x27;…</td><td>2024-05-22 09:36:09.917</td><td>&quot;account-lines::configurable-ta…</td><td>&quot;english&quot;</td><td>&quot;amplitude-ts/1.8.0&quot;</td><td>&quot;edge&quot;</td><td>2024-05-22 09:36:11.662</td><td>&quot;tennessee&quot;</td><td>2024-05-22 09:36:10.832</td><td>2024-05-22 09:36:10.833</td><td>1716368557821</td><td>&quot;9aecc15d-64a4-4190-80f5-b5b842…</td><td>&quot;{&#x27;initial_utm_medium&#x27;: &#x27;empty&#x27;…</td><td>&quot;underwriter&quot;</td><td>&quot;false&quot;</td><td>null</td><td>&quot;property-locations&quot;</td><td>&quot;south&quot;</td><td>&quot;account &amp; policy management&quot;</td></tr><tr><td>&quot;8cb28e22-0dc3-456c-9956-41d52b…</td><td>857540480084</td><td>591532</td><td>&quot;nashville&quot;</td><td>2024-05-22 09:36:15.727</td><td>2024-05-22 09:36:16.789</td><td>&quot;united states&quot;</td><td>&quot;windows&quot;</td><td>&quot;a8b357fb-b4fb-45d2-babd-42b470…</td><td>&quot;nashville, tn&quot;</td><td>28</td><td>&quot;{&#x27;displayname&#x27;: &#x27;attachments&#x27;,…</td><td>2024-05-22 09:36:15.727</td><td>&quot;account-lines::widget:render&quot;</td><td>&quot;english&quot;</td><td>&quot;amplitude-ts/1.8.0&quot;</td><td>&quot;edge&quot;</td><td>2024-05-22 09:36:17.297</td><td>&quot;tennessee&quot;</td><td>2024-05-22 09:36:16.789</td><td>2024-05-22 09:36:16.791</td><td>1716368557821</td><td>&quot;9aecc15d-64a4-4190-80f5-b5b842…</td><td>&quot;{&#x27;initial_utm_medium&#x27;: &#x27;empty&#x27;…</td><td>&quot;underwriter&quot;</td><td>&quot;false&quot;</td><td>null</td><td>&quot;attachments&quot;</td><td>&quot;south&quot;</td><td>&quot;account &amp; policy management&quot;</td></tr><tr><td>&quot;eac4d6a2-2ff0-4e59-80af-aa1b3f…</td><td>857540480084</td><td>591532</td><td>&quot;nashville&quot;</td><td>2024-05-22 09:36:33.812</td><td>2024-05-22 09:36:34.881</td><td>&quot;united states&quot;</td><td>&quot;windows&quot;</td><td>&quot;a8b357fb-b4fb-45d2-babd-42b470…</td><td>&quot;nashville, tn&quot;</td><td>29</td><td>&quot;{}&quot;</td><td>2024-05-22 09:36:33.812</td><td>&quot;::nav-header:action-center-cli…</td><td>&quot;english&quot;</td><td>&quot;amplitude-ts/1.8.0&quot;</td><td>&quot;edge&quot;</td><td>2024-05-22 09:36:36.435</td><td>&quot;tennessee&quot;</td><td>2024-05-22 09:36:34.881</td><td>2024-05-22 09:36:34.883</td><td>1716368557821</td><td>&quot;9aecc15d-64a4-4190-80f5-b5b842…</td><td>&quot;{&#x27;initial_utm_medium&#x27;: &#x27;empty&#x27;…</td><td>&quot;underwriter&quot;</td><td>&quot;false&quot;</td><td>null</td><td>null</td><td>&quot;south&quot;</td><td>&quot;session &amp; navigation&quot;</td></tr><tr><td>&quot;bf44b3b7-2b4d-4e20-a18c-65fb63…</td><td>857540480084</td><td>591532</td><td>&quot;nashville&quot;</td><td>2024-05-22 09:36:33.815</td><td>2024-05-22 09:36:34.881</td><td>&quot;united states&quot;</td><td>&quot;windows&quot;</td><td>&quot;a8b357fb-b4fb-45d2-babd-42b470…</td><td>&quot;nashville, tn&quot;</td><td>30</td><td>&quot;{}&quot;</td><td>2024-05-22 09:36:33.815</td><td>&quot;action-center:::view&quot;</td><td>&quot;english&quot;</td><td>&quot;amplitude-ts/1.8.0&quot;</td><td>&quot;edge&quot;</td><td>2024-05-22 09:36:36.435</td><td>&quot;tennessee&quot;</td><td>2024-05-22 09:36:34.881</td><td>2024-05-22 09:36:34.883</td><td>1716368557821</td><td>&quot;9aecc15d-64a4-4190-80f5-b5b842…</td><td>&quot;{&#x27;initial_utm_medium&#x27;: &#x27;empty&#x27;…</td><td>&quot;underwriter&quot;</td><td>&quot;false&quot;</td><td>null</td><td>null</td><td>&quot;south&quot;</td><td>&quot;action center &amp; workflow&quot;</td></tr></tbody></table></div>"
      ],
      "text/plain": [
       "shape: (14_119_738, 30)\n",
       "┌────────────┬────────────┬────────┬───────────┬───┬───────────┬───────────┬───────────┬───────────┐\n",
       "│ $insert_id ┆ amplitude_ ┆ app    ┆ city      ┆ … ┆ referrer  ┆ slug      ┆ region_gr ┆ event_cat │\n",
       "│ ---        ┆ id         ┆ ---    ┆ ---       ┆   ┆ ---       ┆ ---       ┆ ouped     ┆ egory     │\n",
       "│ str        ┆ ---        ┆ i64    ┆ str       ┆   ┆ str       ┆ str       ┆ ---       ┆ ---       │\n",
       "│            ┆ i64        ┆        ┆           ┆   ┆           ┆           ┆ str       ┆ str       │\n",
       "╞════════════╪════════════╪════════╪═══════════╪═══╪═══════════╪═══════════╪═══════════╪═══════════╡\n",
       "│ 251db963-6 ┆ 9350233300 ┆ 591532 ┆ mumbai    ┆ … ┆ https://a ┆ null      ┆ internati ┆ session & │\n",
       "│ 623-448e-8 ┆ 69         ┆        ┆           ┆   ┆ ccounts.g ┆           ┆ onal      ┆ navigatio │\n",
       "│ 665-f542b8 ┆            ┆        ┆           ┆   ┆ oogle.com ┆           ┆           ┆ n         │\n",
       "│ …          ┆            ┆        ┆           ┆   ┆ /         ┆           ┆           ┆           │\n",
       "│ 3a95cdac-1 ┆ 9350233300 ┆ 591532 ┆ mumbai    ┆ … ┆ https://a ┆ null      ┆ internati ┆ session & │\n",
       "│ 74c-4002-8 ┆ 69         ┆        ┆           ┆   ┆ ccounts.g ┆           ┆ onal      ┆ navigatio │\n",
       "│ e84-8aeba8 ┆            ┆        ┆           ┆   ┆ oogle.com ┆           ┆           ┆ n         │\n",
       "│ …          ┆            ┆        ┆           ┆   ┆ /         ┆           ┆           ┆           │\n",
       "│ 50dbfad3-8 ┆ 9350233300 ┆ 591532 ┆ mumbai    ┆ … ┆ https://a ┆ null      ┆ internati ┆ session & │\n",
       "│ e24-456a-a ┆ 69         ┆        ┆           ┆   ┆ ccounts.g ┆           ┆ onal      ┆ navigatio │\n",
       "│ e68-21b09b ┆            ┆        ┆           ┆   ┆ oogle.com ┆           ┆           ┆ n         │\n",
       "│ …          ┆            ┆        ┆           ┆   ┆ /         ┆           ┆           ┆           │\n",
       "│ ea0a4143-2 ┆ 9350233300 ┆ 591532 ┆ mumbai    ┆ … ┆ https://a ┆ null      ┆ internati ┆ account & │\n",
       "│ 380-48e7-a ┆ 69         ┆        ┆           ┆   ┆ ccounts.g ┆           ┆ onal      ┆ policy    │\n",
       "│ 83e-8ba854 ┆            ┆        ┆           ┆   ┆ oogle.com ┆           ┆           ┆ managemen │\n",
       "│ …          ┆            ┆        ┆           ┆   ┆ /         ┆           ┆           ┆ t         │\n",
       "│ 4d89977d-4 ┆ 9350233300 ┆ 591532 ┆ mumbai    ┆ … ┆ https://a ┆ null      ┆ internati ┆ account & │\n",
       "│ 734-450c-a ┆ 69         ┆        ┆           ┆   ┆ ccounts.g ┆           ┆ onal      ┆ policy    │\n",
       "│ fa1-07e326 ┆            ┆        ┆           ┆   ┆ oogle.com ┆           ┆           ┆ managemen │\n",
       "│ …          ┆            ┆        ┆           ┆   ┆ /         ┆           ┆           ┆ t         │\n",
       "│ …          ┆ …          ┆ …      ┆ …         ┆ … ┆ …         ┆ …         ┆ …         ┆ …         │\n",
       "│ 102ec3ca-a ┆ 8575404800 ┆ 591532 ┆ nashville ┆ … ┆ null      ┆ one-drive ┆ south     ┆ account & │\n",
       "│ 467-41a9-a ┆ 84         ┆        ┆           ┆   ┆           ┆ -link     ┆           ┆ policy    │\n",
       "│ a19-94f5b0 ┆            ┆        ┆           ┆   ┆           ┆           ┆           ┆ managemen │\n",
       "│ …          ┆            ┆        ┆           ┆   ┆           ┆           ┆           ┆ t         │\n",
       "│ 55aec1ce-b ┆ 8575404800 ┆ 591532 ┆ nashville ┆ … ┆ null      ┆ property- ┆ south     ┆ account & │\n",
       "│ 876-4f66-b ┆ 84         ┆        ┆           ┆   ┆           ┆ locations ┆           ┆ policy    │\n",
       "│ 786-fd5706 ┆            ┆        ┆           ┆   ┆           ┆           ┆           ┆ managemen │\n",
       "│ …          ┆            ┆        ┆           ┆   ┆           ┆           ┆           ┆ t         │\n",
       "│ 8cb28e22-0 ┆ 8575404800 ┆ 591532 ┆ nashville ┆ … ┆ null      ┆ attachmen ┆ south     ┆ account & │\n",
       "│ dc3-456c-9 ┆ 84         ┆        ┆           ┆   ┆           ┆ ts        ┆           ┆ policy    │\n",
       "│ 956-41d52b ┆            ┆        ┆           ┆   ┆           ┆           ┆           ┆ managemen │\n",
       "│ …          ┆            ┆        ┆           ┆   ┆           ┆           ┆           ┆ t         │\n",
       "│ eac4d6a2-2 ┆ 8575404800 ┆ 591532 ┆ nashville ┆ … ┆ null      ┆ null      ┆ south     ┆ session & │\n",
       "│ ff0-4e59-8 ┆ 84         ┆        ┆           ┆   ┆           ┆           ┆           ┆ navigatio │\n",
       "│ 0af-aa1b3f ┆            ┆        ┆           ┆   ┆           ┆           ┆           ┆ n         │\n",
       "│ …          ┆            ┆        ┆           ┆   ┆           ┆           ┆           ┆           │\n",
       "│ bf44b3b7-2 ┆ 8575404800 ┆ 591532 ┆ nashville ┆ … ┆ null      ┆ null      ┆ south     ┆ action    │\n",
       "│ b4d-4e20-a ┆ 84         ┆        ┆           ┆   ┆           ┆           ┆           ┆ center &  │\n",
       "│ 18c-65fb63 ┆            ┆        ┆           ┆   ┆           ┆           ┆           ┆ workflow  │\n",
       "│ …          ┆            ┆        ┆           ┆   ┆           ┆           ┆           ┆           │\n",
       "└────────────┴────────────┴────────┴───────────┴───┴───────────┴───────────┴───────────┴───────────┘"
      ]
     },
     "execution_count": 14,
     "metadata": {},
     "output_type": "execute_result"
    }
   ],
   "source": [
    "# Encode events\n",
    "df = df.with_columns(pl.col('event_type')\n",
    "                     .map_elements(categorize_event, return_dtype = pl.String)\n",
    "                     .alias('event_category'))\n",
    "df"
   ]
  },
  {
   "cell_type": "markdown",
   "metadata": {},
   "source": [
    "### Datetime Feature Engineering\n",
    "\n",
    "There is a lot of potential for feature engineering for the datetime columns.\n",
    "\n",
    "We will split these datetime columns into their own components, while also calculating the relative time to indicate a notion of distance "
   ]
  },
  {
   "cell_type": "code",
   "execution_count": 15,
   "metadata": {},
   "outputs": [
    {
     "data": {
      "text/html": [
       "<div><style>\n",
       ".dataframe > thead > tr,\n",
       ".dataframe > tbody > tr {\n",
       "  text-align: right;\n",
       "  white-space: pre-wrap;\n",
       "}\n",
       "</style>\n",
       "<small>shape: (14_119_738, 36)</small><table border=\"1\" class=\"dataframe\"><thead><tr><th>$insert_id</th><th>amplitude_id</th><th>app</th><th>city</th><th>client_event_time</th><th>client_upload_time</th><th>country</th><th>device_family</th><th>device_id</th><th>dma</th><th>event_id</th><th>event_properties</th><th>event_time</th><th>event_type</th><th>language</th><th>library</th><th>os_name</th><th>processed_time</th><th>region</th><th>server_received_time</th><th>server_upload_time</th><th>session_id</th><th>user_id</th><th>user_properties</th><th>roles</th><th>isInternalUser</th><th>referrer</th><th>slug</th><th>region_grouped</th><th>event_category</th><th>client_event_hour</th><th>client_upload_hour</th><th>event_hour</th><th>processed_hour</th><th>server_received_hour</th><th>server_upload_hour</th></tr><tr><td>str</td><td>i64</td><td>i64</td><td>str</td><td>datetime[μs]</td><td>datetime[μs]</td><td>str</td><td>str</td><td>str</td><td>str</td><td>i64</td><td>str</td><td>datetime[μs]</td><td>str</td><td>str</td><td>str</td><td>str</td><td>datetime[μs]</td><td>str</td><td>datetime[μs]</td><td>datetime[μs]</td><td>i64</td><td>str</td><td>str</td><td>str</td><td>str</td><td>str</td><td>str</td><td>str</td><td>str</td><td>i8</td><td>i8</td><td>i8</td><td>i8</td><td>i8</td><td>i8</td></tr></thead><tbody><tr><td>&quot;251db963-6623-448e-8665-f542b8…</td><td>935023330069</td><td>591532</td><td>&quot;mumbai&quot;</td><td>2024-10-08 11:41:02.385</td><td>2024-10-08 11:41:04.857</td><td>&quot;india&quot;</td><td>&quot;windows&quot;</td><td>&quot;8bd8b6ab-370f-4b56-b38f-ad221c…</td><td>null</td><td>22216</td><td>&quot;{}&quot;</td><td>2024-10-08 11:41:02.385</td><td>&quot;session_start&quot;</td><td>&quot;english&quot;</td><td>&quot;amplitude-ts/2.7.2&quot;</td><td>&quot;chrome&quot;</td><td>2024-10-08 11:41:05.371</td><td>&quot;maharashtra&quot;</td><td>2024-10-08 11:41:04.857</td><td>2024-10-08 11:41:04.859</td><td>1728387662385</td><td>&quot;8038ea38-8ddf-4a1a-825d-8287c0…</td><td>&quot;{&#x27;roles&#x27;: [&#x27;underwriter&#x27;], &#x27;tr…</td><td>&quot;underwriter&quot;</td><td>&quot;false&quot;</td><td>&quot;https://accounts.google.com/&quot;</td><td>null</td><td>&quot;international&quot;</td><td>&quot;session &amp; navigation&quot;</td><td>11</td><td>11</td><td>11</td><td>11</td><td>11</td><td>11</td></tr><tr><td>&quot;3a95cdac-174c-4002-8e84-8aeba8…</td><td>935023330069</td><td>591532</td><td>&quot;mumbai&quot;</td><td>2024-10-08 11:41:02.386</td><td>2024-10-08 11:41:04.857</td><td>&quot;india&quot;</td><td>&quot;windows&quot;</td><td>&quot;8bd8b6ab-370f-4b56-b38f-ad221c…</td><td>null</td><td>22215</td><td>&quot;{}&quot;</td><td>2024-10-08 11:41:02.386</td><td>&quot;session_end&quot;</td><td>&quot;english&quot;</td><td>&quot;amplitude-ts/2.7.2&quot;</td><td>&quot;chrome&quot;</td><td>2024-10-08 11:41:05.371</td><td>&quot;maharashtra&quot;</td><td>2024-10-08 11:41:04.857</td><td>2024-10-08 11:41:04.859</td><td>1728387662385</td><td>&quot;8038ea38-8ddf-4a1a-825d-8287c0…</td><td>&quot;{&#x27;roles&#x27;: [&#x27;underwriter&#x27;], &#x27;tr…</td><td>&quot;underwriter&quot;</td><td>&quot;false&quot;</td><td>&quot;https://accounts.google.com/&quot;</td><td>null</td><td>&quot;international&quot;</td><td>&quot;session &amp; navigation&quot;</td><td>11</td><td>11</td><td>11</td><td>11</td><td>11</td><td>11</td></tr><tr><td>&quot;50dbfad3-8e24-456a-ae68-21b09b…</td><td>935023330069</td><td>591532</td><td>&quot;mumbai&quot;</td><td>2024-10-08 11:41:02.386</td><td>2024-10-08 11:41:04.857</td><td>&quot;india&quot;</td><td>&quot;windows&quot;</td><td>&quot;8bd8b6ab-370f-4b56-b38f-ad221c…</td><td>null</td><td>22216</td><td>&quot;{&#x27;[amplitude] session replay i…</td><td>2024-10-08 11:41:02.386</td><td>&quot;session_start&quot;</td><td>&quot;english&quot;</td><td>&quot;amplitude-ts/2.7.2&quot;</td><td>&quot;chrome&quot;</td><td>2024-10-08 11:41:05.371</td><td>&quot;maharashtra&quot;</td><td>2024-10-08 11:41:04.857</td><td>2024-10-08 11:41:04.859</td><td>1728387662386</td><td>&quot;8038ea38-8ddf-4a1a-825d-8287c0…</td><td>&quot;{&#x27;roles&#x27;: [&#x27;underwriter&#x27;], &#x27;tr…</td><td>&quot;underwriter&quot;</td><td>&quot;false&quot;</td><td>&quot;https://accounts.google.com/&quot;</td><td>null</td><td>&quot;international&quot;</td><td>&quot;session &amp; navigation&quot;</td><td>11</td><td>11</td><td>11</td><td>11</td><td>11</td><td>11</td></tr><tr><td>&quot;ea0a4143-2380-48e7-a83e-8ba854…</td><td>935023330069</td><td>591532</td><td>&quot;mumbai&quot;</td><td>2024-10-08 11:41:03.500</td><td>2024-10-08 11:41:04.857</td><td>&quot;india&quot;</td><td>&quot;windows&quot;</td><td>&quot;8bd8b6ab-370f-4b56-b38f-ad221c…</td><td>null</td><td>22217</td><td>&quot;{&#x27;rowmodel&#x27;: &#x27;server&#x27;, &#x27;[ampli…</td><td>2024-10-08 11:41:03.500</td><td>&quot;:all-accounts:configurable-tab…</td><td>&quot;english&quot;</td><td>&quot;amplitude-ts/2.7.2&quot;</td><td>&quot;chrome&quot;</td><td>2024-10-08 11:41:05.371</td><td>&quot;maharashtra&quot;</td><td>2024-10-08 11:41:04.857</td><td>2024-10-08 11:41:04.859</td><td>1728387662386</td><td>&quot;8038ea38-8ddf-4a1a-825d-8287c0…</td><td>&quot;{&#x27;roles&#x27;: [&#x27;underwriter&#x27;], &#x27;tr…</td><td>&quot;underwriter&quot;</td><td>&quot;false&quot;</td><td>&quot;https://accounts.google.com/&quot;</td><td>null</td><td>&quot;international&quot;</td><td>&quot;account &amp; policy management&quot;</td><td>11</td><td>11</td><td>11</td><td>11</td><td>11</td><td>11</td></tr><tr><td>&quot;4d89977d-4734-450c-afa1-07e326…</td><td>935023330069</td><td>591532</td><td>&quot;mumbai&quot;</td><td>2024-10-08 11:41:03.527</td><td>2024-10-08 11:41:04.857</td><td>&quot;india&quot;</td><td>&quot;windows&quot;</td><td>&quot;8bd8b6ab-370f-4b56-b38f-ad221c…</td><td>null</td><td>22217</td><td>&quot;{&#x27;displayname&#x27;: &#x27;all policies …</td><td>2024-10-08 11:41:03.527</td><td>&quot;:all-accounts:widget:render&quot;</td><td>&quot;english&quot;</td><td>&quot;amplitude-ts/2.7.2&quot;</td><td>&quot;chrome&quot;</td><td>2024-10-08 11:41:05.371</td><td>&quot;maharashtra&quot;</td><td>2024-10-08 11:41:04.857</td><td>2024-10-08 11:41:04.859</td><td>1728387662386</td><td>&quot;8038ea38-8ddf-4a1a-825d-8287c0…</td><td>&quot;{&#x27;roles&#x27;: [&#x27;underwriter&#x27;], &#x27;tr…</td><td>&quot;underwriter&quot;</td><td>&quot;false&quot;</td><td>&quot;https://accounts.google.com/&quot;</td><td>null</td><td>&quot;international&quot;</td><td>&quot;account &amp; policy management&quot;</td><td>11</td><td>11</td><td>11</td><td>11</td><td>11</td><td>11</td></tr><tr><td>&hellip;</td><td>&hellip;</td><td>&hellip;</td><td>&hellip;</td><td>&hellip;</td><td>&hellip;</td><td>&hellip;</td><td>&hellip;</td><td>&hellip;</td><td>&hellip;</td><td>&hellip;</td><td>&hellip;</td><td>&hellip;</td><td>&hellip;</td><td>&hellip;</td><td>&hellip;</td><td>&hellip;</td><td>&hellip;</td><td>&hellip;</td><td>&hellip;</td><td>&hellip;</td><td>&hellip;</td><td>&hellip;</td><td>&hellip;</td><td>&hellip;</td><td>&hellip;</td><td>&hellip;</td><td>&hellip;</td><td>&hellip;</td><td>&hellip;</td><td>&hellip;</td><td>&hellip;</td><td>&hellip;</td><td>&hellip;</td><td>&hellip;</td><td>&hellip;</td></tr><tr><td>&quot;102ec3ca-a467-41a9-aa19-94f5b0…</td><td>857540480084</td><td>591532</td><td>&quot;nashville&quot;</td><td>2024-05-22 09:36:09.888</td><td>2024-05-22 09:36:10.832</td><td>&quot;united states&quot;</td><td>&quot;windows&quot;</td><td>&quot;a8b357fb-b4fb-45d2-babd-42b470…</td><td>&quot;nashville, tn&quot;</td><td>26</td><td>&quot;{&#x27;displayname&#x27;: &#x27;one drive lin…</td><td>2024-05-22 09:36:09.888</td><td>&quot;account-lines::widget:render&quot;</td><td>&quot;english&quot;</td><td>&quot;amplitude-ts/1.8.0&quot;</td><td>&quot;edge&quot;</td><td>2024-05-22 09:36:11.662</td><td>&quot;tennessee&quot;</td><td>2024-05-22 09:36:10.832</td><td>2024-05-22 09:36:10.833</td><td>1716368557821</td><td>&quot;9aecc15d-64a4-4190-80f5-b5b842…</td><td>&quot;{&#x27;initial_utm_medium&#x27;: &#x27;empty&#x27;…</td><td>&quot;underwriter&quot;</td><td>&quot;false&quot;</td><td>null</td><td>&quot;one-drive-link&quot;</td><td>&quot;south&quot;</td><td>&quot;account &amp; policy management&quot;</td><td>9</td><td>9</td><td>9</td><td>9</td><td>9</td><td>9</td></tr><tr><td>&quot;55aec1ce-b876-4f66-b786-fd5706…</td><td>857540480084</td><td>591532</td><td>&quot;nashville&quot;</td><td>2024-05-22 09:36:09.917</td><td>2024-05-22 09:36:10.832</td><td>&quot;united states&quot;</td><td>&quot;windows&quot;</td><td>&quot;a8b357fb-b4fb-45d2-babd-42b470…</td><td>&quot;nashville, tn&quot;</td><td>27</td><td>&quot;{&#x27;rowmodel&#x27;: &#x27;legacyserver&#x27;, &#x27;…</td><td>2024-05-22 09:36:09.917</td><td>&quot;account-lines::configurable-ta…</td><td>&quot;english&quot;</td><td>&quot;amplitude-ts/1.8.0&quot;</td><td>&quot;edge&quot;</td><td>2024-05-22 09:36:11.662</td><td>&quot;tennessee&quot;</td><td>2024-05-22 09:36:10.832</td><td>2024-05-22 09:36:10.833</td><td>1716368557821</td><td>&quot;9aecc15d-64a4-4190-80f5-b5b842…</td><td>&quot;{&#x27;initial_utm_medium&#x27;: &#x27;empty&#x27;…</td><td>&quot;underwriter&quot;</td><td>&quot;false&quot;</td><td>null</td><td>&quot;property-locations&quot;</td><td>&quot;south&quot;</td><td>&quot;account &amp; policy management&quot;</td><td>9</td><td>9</td><td>9</td><td>9</td><td>9</td><td>9</td></tr><tr><td>&quot;8cb28e22-0dc3-456c-9956-41d52b…</td><td>857540480084</td><td>591532</td><td>&quot;nashville&quot;</td><td>2024-05-22 09:36:15.727</td><td>2024-05-22 09:36:16.789</td><td>&quot;united states&quot;</td><td>&quot;windows&quot;</td><td>&quot;a8b357fb-b4fb-45d2-babd-42b470…</td><td>&quot;nashville, tn&quot;</td><td>28</td><td>&quot;{&#x27;displayname&#x27;: &#x27;attachments&#x27;,…</td><td>2024-05-22 09:36:15.727</td><td>&quot;account-lines::widget:render&quot;</td><td>&quot;english&quot;</td><td>&quot;amplitude-ts/1.8.0&quot;</td><td>&quot;edge&quot;</td><td>2024-05-22 09:36:17.297</td><td>&quot;tennessee&quot;</td><td>2024-05-22 09:36:16.789</td><td>2024-05-22 09:36:16.791</td><td>1716368557821</td><td>&quot;9aecc15d-64a4-4190-80f5-b5b842…</td><td>&quot;{&#x27;initial_utm_medium&#x27;: &#x27;empty&#x27;…</td><td>&quot;underwriter&quot;</td><td>&quot;false&quot;</td><td>null</td><td>&quot;attachments&quot;</td><td>&quot;south&quot;</td><td>&quot;account &amp; policy management&quot;</td><td>9</td><td>9</td><td>9</td><td>9</td><td>9</td><td>9</td></tr><tr><td>&quot;eac4d6a2-2ff0-4e59-80af-aa1b3f…</td><td>857540480084</td><td>591532</td><td>&quot;nashville&quot;</td><td>2024-05-22 09:36:33.812</td><td>2024-05-22 09:36:34.881</td><td>&quot;united states&quot;</td><td>&quot;windows&quot;</td><td>&quot;a8b357fb-b4fb-45d2-babd-42b470…</td><td>&quot;nashville, tn&quot;</td><td>29</td><td>&quot;{}&quot;</td><td>2024-05-22 09:36:33.812</td><td>&quot;::nav-header:action-center-cli…</td><td>&quot;english&quot;</td><td>&quot;amplitude-ts/1.8.0&quot;</td><td>&quot;edge&quot;</td><td>2024-05-22 09:36:36.435</td><td>&quot;tennessee&quot;</td><td>2024-05-22 09:36:34.881</td><td>2024-05-22 09:36:34.883</td><td>1716368557821</td><td>&quot;9aecc15d-64a4-4190-80f5-b5b842…</td><td>&quot;{&#x27;initial_utm_medium&#x27;: &#x27;empty&#x27;…</td><td>&quot;underwriter&quot;</td><td>&quot;false&quot;</td><td>null</td><td>null</td><td>&quot;south&quot;</td><td>&quot;session &amp; navigation&quot;</td><td>9</td><td>9</td><td>9</td><td>9</td><td>9</td><td>9</td></tr><tr><td>&quot;bf44b3b7-2b4d-4e20-a18c-65fb63…</td><td>857540480084</td><td>591532</td><td>&quot;nashville&quot;</td><td>2024-05-22 09:36:33.815</td><td>2024-05-22 09:36:34.881</td><td>&quot;united states&quot;</td><td>&quot;windows&quot;</td><td>&quot;a8b357fb-b4fb-45d2-babd-42b470…</td><td>&quot;nashville, tn&quot;</td><td>30</td><td>&quot;{}&quot;</td><td>2024-05-22 09:36:33.815</td><td>&quot;action-center:::view&quot;</td><td>&quot;english&quot;</td><td>&quot;amplitude-ts/1.8.0&quot;</td><td>&quot;edge&quot;</td><td>2024-05-22 09:36:36.435</td><td>&quot;tennessee&quot;</td><td>2024-05-22 09:36:34.881</td><td>2024-05-22 09:36:34.883</td><td>1716368557821</td><td>&quot;9aecc15d-64a4-4190-80f5-b5b842…</td><td>&quot;{&#x27;initial_utm_medium&#x27;: &#x27;empty&#x27;…</td><td>&quot;underwriter&quot;</td><td>&quot;false&quot;</td><td>null</td><td>null</td><td>&quot;south&quot;</td><td>&quot;action center &amp; workflow&quot;</td><td>9</td><td>9</td><td>9</td><td>9</td><td>9</td><td>9</td></tr></tbody></table></div>"
      ],
      "text/plain": [
       "shape: (14_119_738, 36)\n",
       "┌────────────┬────────────┬────────┬───────────┬───┬───────────┬───────────┬───────────┬───────────┐\n",
       "│ $insert_id ┆ amplitude_ ┆ app    ┆ city      ┆ … ┆ event_hou ┆ processed ┆ server_re ┆ server_up │\n",
       "│ ---        ┆ id         ┆ ---    ┆ ---       ┆   ┆ r         ┆ _hour     ┆ ceived_ho ┆ load_hour │\n",
       "│ str        ┆ ---        ┆ i64    ┆ str       ┆   ┆ ---       ┆ ---       ┆ ur        ┆ ---       │\n",
       "│            ┆ i64        ┆        ┆           ┆   ┆ i8        ┆ i8        ┆ ---       ┆ i8        │\n",
       "│            ┆            ┆        ┆           ┆   ┆           ┆           ┆ i8        ┆           │\n",
       "╞════════════╪════════════╪════════╪═══════════╪═══╪═══════════╪═══════════╪═══════════╪═══════════╡\n",
       "│ 251db963-6 ┆ 9350233300 ┆ 591532 ┆ mumbai    ┆ … ┆ 11        ┆ 11        ┆ 11        ┆ 11        │\n",
       "│ 623-448e-8 ┆ 69         ┆        ┆           ┆   ┆           ┆           ┆           ┆           │\n",
       "│ 665-f542b8 ┆            ┆        ┆           ┆   ┆           ┆           ┆           ┆           │\n",
       "│ …          ┆            ┆        ┆           ┆   ┆           ┆           ┆           ┆           │\n",
       "│ 3a95cdac-1 ┆ 9350233300 ┆ 591532 ┆ mumbai    ┆ … ┆ 11        ┆ 11        ┆ 11        ┆ 11        │\n",
       "│ 74c-4002-8 ┆ 69         ┆        ┆           ┆   ┆           ┆           ┆           ┆           │\n",
       "│ e84-8aeba8 ┆            ┆        ┆           ┆   ┆           ┆           ┆           ┆           │\n",
       "│ …          ┆            ┆        ┆           ┆   ┆           ┆           ┆           ┆           │\n",
       "│ 50dbfad3-8 ┆ 9350233300 ┆ 591532 ┆ mumbai    ┆ … ┆ 11        ┆ 11        ┆ 11        ┆ 11        │\n",
       "│ e24-456a-a ┆ 69         ┆        ┆           ┆   ┆           ┆           ┆           ┆           │\n",
       "│ e68-21b09b ┆            ┆        ┆           ┆   ┆           ┆           ┆           ┆           │\n",
       "│ …          ┆            ┆        ┆           ┆   ┆           ┆           ┆           ┆           │\n",
       "│ ea0a4143-2 ┆ 9350233300 ┆ 591532 ┆ mumbai    ┆ … ┆ 11        ┆ 11        ┆ 11        ┆ 11        │\n",
       "│ 380-48e7-a ┆ 69         ┆        ┆           ┆   ┆           ┆           ┆           ┆           │\n",
       "│ 83e-8ba854 ┆            ┆        ┆           ┆   ┆           ┆           ┆           ┆           │\n",
       "│ …          ┆            ┆        ┆           ┆   ┆           ┆           ┆           ┆           │\n",
       "│ 4d89977d-4 ┆ 9350233300 ┆ 591532 ┆ mumbai    ┆ … ┆ 11        ┆ 11        ┆ 11        ┆ 11        │\n",
       "│ 734-450c-a ┆ 69         ┆        ┆           ┆   ┆           ┆           ┆           ┆           │\n",
       "│ fa1-07e326 ┆            ┆        ┆           ┆   ┆           ┆           ┆           ┆           │\n",
       "│ …          ┆            ┆        ┆           ┆   ┆           ┆           ┆           ┆           │\n",
       "│ …          ┆ …          ┆ …      ┆ …         ┆ … ┆ …         ┆ …         ┆ …         ┆ …         │\n",
       "│ 102ec3ca-a ┆ 8575404800 ┆ 591532 ┆ nashville ┆ … ┆ 9         ┆ 9         ┆ 9         ┆ 9         │\n",
       "│ 467-41a9-a ┆ 84         ┆        ┆           ┆   ┆           ┆           ┆           ┆           │\n",
       "│ a19-94f5b0 ┆            ┆        ┆           ┆   ┆           ┆           ┆           ┆           │\n",
       "│ …          ┆            ┆        ┆           ┆   ┆           ┆           ┆           ┆           │\n",
       "│ 55aec1ce-b ┆ 8575404800 ┆ 591532 ┆ nashville ┆ … ┆ 9         ┆ 9         ┆ 9         ┆ 9         │\n",
       "│ 876-4f66-b ┆ 84         ┆        ┆           ┆   ┆           ┆           ┆           ┆           │\n",
       "│ 786-fd5706 ┆            ┆        ┆           ┆   ┆           ┆           ┆           ┆           │\n",
       "│ …          ┆            ┆        ┆           ┆   ┆           ┆           ┆           ┆           │\n",
       "│ 8cb28e22-0 ┆ 8575404800 ┆ 591532 ┆ nashville ┆ … ┆ 9         ┆ 9         ┆ 9         ┆ 9         │\n",
       "│ dc3-456c-9 ┆ 84         ┆        ┆           ┆   ┆           ┆           ┆           ┆           │\n",
       "│ 956-41d52b ┆            ┆        ┆           ┆   ┆           ┆           ┆           ┆           │\n",
       "│ …          ┆            ┆        ┆           ┆   ┆           ┆           ┆           ┆           │\n",
       "│ eac4d6a2-2 ┆ 8575404800 ┆ 591532 ┆ nashville ┆ … ┆ 9         ┆ 9         ┆ 9         ┆ 9         │\n",
       "│ ff0-4e59-8 ┆ 84         ┆        ┆           ┆   ┆           ┆           ┆           ┆           │\n",
       "│ 0af-aa1b3f ┆            ┆        ┆           ┆   ┆           ┆           ┆           ┆           │\n",
       "│ …          ┆            ┆        ┆           ┆   ┆           ┆           ┆           ┆           │\n",
       "│ bf44b3b7-2 ┆ 8575404800 ┆ 591532 ┆ nashville ┆ … ┆ 9         ┆ 9         ┆ 9         ┆ 9         │\n",
       "│ b4d-4e20-a ┆ 84         ┆        ┆           ┆   ┆           ┆           ┆           ┆           │\n",
       "│ 18c-65fb63 ┆            ┆        ┆           ┆   ┆           ┆           ┆           ┆           │\n",
       "│ …          ┆            ┆        ┆           ┆   ┆           ┆           ┆           ┆           │\n",
       "└────────────┴────────────┴────────┴───────────┴───┴───────────┴───────────┴───────────┴───────────┘"
      ]
     },
     "execution_count": 15,
     "metadata": {},
     "output_type": "execute_result"
    }
   ],
   "source": [
    "# Extract hours from datetime columns\n",
    "datetime_cols = [\"client_event_time\", \"client_upload_time\", \"event_time\", \n",
    "                \"processed_time\", \"server_received_time\", \"server_upload_time\"]\n",
    "\n",
    "time_to_hour_map = {\n",
    "    'client_event_time': 'client_event_hour',\n",
    "    'client_upload_time': 'client_upload_hour',\n",
    "    'event_time': 'event_hour',\n",
    "    'processed_time': 'processed_hour',\n",
    "    'server_received_time': 'server_received_hour',\n",
    "    'server_upload_time': 'server_upload_hour'\n",
    "}\n",
    "\n",
    "df = df.with_columns(pl.col(c).dt.hour().alias(time_to_hour_map[c]) for c in datetime_cols)\n",
    "df"
   ]
  },
  {
   "cell_type": "code",
   "execution_count": 16,
   "metadata": {},
   "outputs": [
    {
     "data": {
      "text/html": [
       "<div><style>\n",
       ".dataframe > thead > tr,\n",
       ".dataframe > tbody > tr {\n",
       "  text-align: right;\n",
       "  white-space: pre-wrap;\n",
       "}\n",
       "</style>\n",
       "<small>shape: (14_119_738, 39)</small><table border=\"1\" class=\"dataframe\"><thead><tr><th>$insert_id</th><th>amplitude_id</th><th>app</th><th>city</th><th>client_event_time</th><th>client_upload_time</th><th>country</th><th>device_family</th><th>device_id</th><th>dma</th><th>event_id</th><th>event_properties</th><th>event_time</th><th>event_type</th><th>language</th><th>library</th><th>os_name</th><th>processed_time</th><th>region</th><th>server_received_time</th><th>server_upload_time</th><th>session_id</th><th>user_id</th><th>user_properties</th><th>roles</th><th>isInternalUser</th><th>referrer</th><th>slug</th><th>region_grouped</th><th>event_category</th><th>client_event_hour</th><th>client_upload_hour</th><th>event_hour</th><th>processed_hour</th><th>server_received_hour</th><th>server_upload_hour</th><th>time_to_server</th><th>server_to_process</th><th>processing_time</th></tr><tr><td>str</td><td>i64</td><td>i64</td><td>str</td><td>datetime[μs]</td><td>datetime[μs]</td><td>str</td><td>str</td><td>str</td><td>str</td><td>i64</td><td>str</td><td>datetime[μs]</td><td>str</td><td>str</td><td>str</td><td>str</td><td>datetime[μs]</td><td>str</td><td>datetime[μs]</td><td>datetime[μs]</td><td>i64</td><td>str</td><td>str</td><td>str</td><td>str</td><td>str</td><td>str</td><td>str</td><td>str</td><td>i8</td><td>i8</td><td>i8</td><td>i8</td><td>i8</td><td>i8</td><td>i64</td><td>i64</td><td>i64</td></tr></thead><tbody><tr><td>&quot;251db963-6623-448e-8665-f542b8…</td><td>935023330069</td><td>591532</td><td>&quot;mumbai&quot;</td><td>2024-10-08 11:41:02.385</td><td>2024-10-08 11:41:04.857</td><td>&quot;india&quot;</td><td>&quot;windows&quot;</td><td>&quot;8bd8b6ab-370f-4b56-b38f-ad221c…</td><td>null</td><td>22216</td><td>&quot;{}&quot;</td><td>2024-10-08 11:41:02.385</td><td>&quot;session_start&quot;</td><td>&quot;english&quot;</td><td>&quot;amplitude-ts/2.7.2&quot;</td><td>&quot;chrome&quot;</td><td>2024-10-08 11:41:05.371</td><td>&quot;maharashtra&quot;</td><td>2024-10-08 11:41:04.857</td><td>2024-10-08 11:41:04.859</td><td>1728387662385</td><td>&quot;8038ea38-8ddf-4a1a-825d-8287c0…</td><td>&quot;{&#x27;roles&#x27;: [&#x27;underwriter&#x27;], &#x27;tr…</td><td>&quot;underwriter&quot;</td><td>&quot;false&quot;</td><td>&quot;https://accounts.google.com/&quot;</td><td>null</td><td>&quot;international&quot;</td><td>&quot;session &amp; navigation&quot;</td><td>11</td><td>11</td><td>11</td><td>11</td><td>11</td><td>11</td><td>2</td><td>0</td><td>0</td></tr><tr><td>&quot;3a95cdac-174c-4002-8e84-8aeba8…</td><td>935023330069</td><td>591532</td><td>&quot;mumbai&quot;</td><td>2024-10-08 11:41:02.386</td><td>2024-10-08 11:41:04.857</td><td>&quot;india&quot;</td><td>&quot;windows&quot;</td><td>&quot;8bd8b6ab-370f-4b56-b38f-ad221c…</td><td>null</td><td>22215</td><td>&quot;{}&quot;</td><td>2024-10-08 11:41:02.386</td><td>&quot;session_end&quot;</td><td>&quot;english&quot;</td><td>&quot;amplitude-ts/2.7.2&quot;</td><td>&quot;chrome&quot;</td><td>2024-10-08 11:41:05.371</td><td>&quot;maharashtra&quot;</td><td>2024-10-08 11:41:04.857</td><td>2024-10-08 11:41:04.859</td><td>1728387662385</td><td>&quot;8038ea38-8ddf-4a1a-825d-8287c0…</td><td>&quot;{&#x27;roles&#x27;: [&#x27;underwriter&#x27;], &#x27;tr…</td><td>&quot;underwriter&quot;</td><td>&quot;false&quot;</td><td>&quot;https://accounts.google.com/&quot;</td><td>null</td><td>&quot;international&quot;</td><td>&quot;session &amp; navigation&quot;</td><td>11</td><td>11</td><td>11</td><td>11</td><td>11</td><td>11</td><td>2</td><td>0</td><td>0</td></tr><tr><td>&quot;50dbfad3-8e24-456a-ae68-21b09b…</td><td>935023330069</td><td>591532</td><td>&quot;mumbai&quot;</td><td>2024-10-08 11:41:02.386</td><td>2024-10-08 11:41:04.857</td><td>&quot;india&quot;</td><td>&quot;windows&quot;</td><td>&quot;8bd8b6ab-370f-4b56-b38f-ad221c…</td><td>null</td><td>22216</td><td>&quot;{&#x27;[amplitude] session replay i…</td><td>2024-10-08 11:41:02.386</td><td>&quot;session_start&quot;</td><td>&quot;english&quot;</td><td>&quot;amplitude-ts/2.7.2&quot;</td><td>&quot;chrome&quot;</td><td>2024-10-08 11:41:05.371</td><td>&quot;maharashtra&quot;</td><td>2024-10-08 11:41:04.857</td><td>2024-10-08 11:41:04.859</td><td>1728387662386</td><td>&quot;8038ea38-8ddf-4a1a-825d-8287c0…</td><td>&quot;{&#x27;roles&#x27;: [&#x27;underwriter&#x27;], &#x27;tr…</td><td>&quot;underwriter&quot;</td><td>&quot;false&quot;</td><td>&quot;https://accounts.google.com/&quot;</td><td>null</td><td>&quot;international&quot;</td><td>&quot;session &amp; navigation&quot;</td><td>11</td><td>11</td><td>11</td><td>11</td><td>11</td><td>11</td><td>2</td><td>0</td><td>0</td></tr><tr><td>&quot;ea0a4143-2380-48e7-a83e-8ba854…</td><td>935023330069</td><td>591532</td><td>&quot;mumbai&quot;</td><td>2024-10-08 11:41:03.500</td><td>2024-10-08 11:41:04.857</td><td>&quot;india&quot;</td><td>&quot;windows&quot;</td><td>&quot;8bd8b6ab-370f-4b56-b38f-ad221c…</td><td>null</td><td>22217</td><td>&quot;{&#x27;rowmodel&#x27;: &#x27;server&#x27;, &#x27;[ampli…</td><td>2024-10-08 11:41:03.500</td><td>&quot;:all-accounts:configurable-tab…</td><td>&quot;english&quot;</td><td>&quot;amplitude-ts/2.7.2&quot;</td><td>&quot;chrome&quot;</td><td>2024-10-08 11:41:05.371</td><td>&quot;maharashtra&quot;</td><td>2024-10-08 11:41:04.857</td><td>2024-10-08 11:41:04.859</td><td>1728387662386</td><td>&quot;8038ea38-8ddf-4a1a-825d-8287c0…</td><td>&quot;{&#x27;roles&#x27;: [&#x27;underwriter&#x27;], &#x27;tr…</td><td>&quot;underwriter&quot;</td><td>&quot;false&quot;</td><td>&quot;https://accounts.google.com/&quot;</td><td>null</td><td>&quot;international&quot;</td><td>&quot;account &amp; policy management&quot;</td><td>11</td><td>11</td><td>11</td><td>11</td><td>11</td><td>11</td><td>1</td><td>0</td><td>0</td></tr><tr><td>&quot;4d89977d-4734-450c-afa1-07e326…</td><td>935023330069</td><td>591532</td><td>&quot;mumbai&quot;</td><td>2024-10-08 11:41:03.527</td><td>2024-10-08 11:41:04.857</td><td>&quot;india&quot;</td><td>&quot;windows&quot;</td><td>&quot;8bd8b6ab-370f-4b56-b38f-ad221c…</td><td>null</td><td>22217</td><td>&quot;{&#x27;displayname&#x27;: &#x27;all policies …</td><td>2024-10-08 11:41:03.527</td><td>&quot;:all-accounts:widget:render&quot;</td><td>&quot;english&quot;</td><td>&quot;amplitude-ts/2.7.2&quot;</td><td>&quot;chrome&quot;</td><td>2024-10-08 11:41:05.371</td><td>&quot;maharashtra&quot;</td><td>2024-10-08 11:41:04.857</td><td>2024-10-08 11:41:04.859</td><td>1728387662386</td><td>&quot;8038ea38-8ddf-4a1a-825d-8287c0…</td><td>&quot;{&#x27;roles&#x27;: [&#x27;underwriter&#x27;], &#x27;tr…</td><td>&quot;underwriter&quot;</td><td>&quot;false&quot;</td><td>&quot;https://accounts.google.com/&quot;</td><td>null</td><td>&quot;international&quot;</td><td>&quot;account &amp; policy management&quot;</td><td>11</td><td>11</td><td>11</td><td>11</td><td>11</td><td>11</td><td>1</td><td>0</td><td>0</td></tr><tr><td>&hellip;</td><td>&hellip;</td><td>&hellip;</td><td>&hellip;</td><td>&hellip;</td><td>&hellip;</td><td>&hellip;</td><td>&hellip;</td><td>&hellip;</td><td>&hellip;</td><td>&hellip;</td><td>&hellip;</td><td>&hellip;</td><td>&hellip;</td><td>&hellip;</td><td>&hellip;</td><td>&hellip;</td><td>&hellip;</td><td>&hellip;</td><td>&hellip;</td><td>&hellip;</td><td>&hellip;</td><td>&hellip;</td><td>&hellip;</td><td>&hellip;</td><td>&hellip;</td><td>&hellip;</td><td>&hellip;</td><td>&hellip;</td><td>&hellip;</td><td>&hellip;</td><td>&hellip;</td><td>&hellip;</td><td>&hellip;</td><td>&hellip;</td><td>&hellip;</td><td>&hellip;</td><td>&hellip;</td><td>&hellip;</td></tr><tr><td>&quot;102ec3ca-a467-41a9-aa19-94f5b0…</td><td>857540480084</td><td>591532</td><td>&quot;nashville&quot;</td><td>2024-05-22 09:36:09.888</td><td>2024-05-22 09:36:10.832</td><td>&quot;united states&quot;</td><td>&quot;windows&quot;</td><td>&quot;a8b357fb-b4fb-45d2-babd-42b470…</td><td>&quot;nashville, tn&quot;</td><td>26</td><td>&quot;{&#x27;displayname&#x27;: &#x27;one drive lin…</td><td>2024-05-22 09:36:09.888</td><td>&quot;account-lines::widget:render&quot;</td><td>&quot;english&quot;</td><td>&quot;amplitude-ts/1.8.0&quot;</td><td>&quot;edge&quot;</td><td>2024-05-22 09:36:11.662</td><td>&quot;tennessee&quot;</td><td>2024-05-22 09:36:10.832</td><td>2024-05-22 09:36:10.833</td><td>1716368557821</td><td>&quot;9aecc15d-64a4-4190-80f5-b5b842…</td><td>&quot;{&#x27;initial_utm_medium&#x27;: &#x27;empty&#x27;…</td><td>&quot;underwriter&quot;</td><td>&quot;false&quot;</td><td>null</td><td>&quot;one-drive-link&quot;</td><td>&quot;south&quot;</td><td>&quot;account &amp; policy management&quot;</td><td>9</td><td>9</td><td>9</td><td>9</td><td>9</td><td>9</td><td>0</td><td>0</td><td>0</td></tr><tr><td>&quot;55aec1ce-b876-4f66-b786-fd5706…</td><td>857540480084</td><td>591532</td><td>&quot;nashville&quot;</td><td>2024-05-22 09:36:09.917</td><td>2024-05-22 09:36:10.832</td><td>&quot;united states&quot;</td><td>&quot;windows&quot;</td><td>&quot;a8b357fb-b4fb-45d2-babd-42b470…</td><td>&quot;nashville, tn&quot;</td><td>27</td><td>&quot;{&#x27;rowmodel&#x27;: &#x27;legacyserver&#x27;, &#x27;…</td><td>2024-05-22 09:36:09.917</td><td>&quot;account-lines::configurable-ta…</td><td>&quot;english&quot;</td><td>&quot;amplitude-ts/1.8.0&quot;</td><td>&quot;edge&quot;</td><td>2024-05-22 09:36:11.662</td><td>&quot;tennessee&quot;</td><td>2024-05-22 09:36:10.832</td><td>2024-05-22 09:36:10.833</td><td>1716368557821</td><td>&quot;9aecc15d-64a4-4190-80f5-b5b842…</td><td>&quot;{&#x27;initial_utm_medium&#x27;: &#x27;empty&#x27;…</td><td>&quot;underwriter&quot;</td><td>&quot;false&quot;</td><td>null</td><td>&quot;property-locations&quot;</td><td>&quot;south&quot;</td><td>&quot;account &amp; policy management&quot;</td><td>9</td><td>9</td><td>9</td><td>9</td><td>9</td><td>9</td><td>0</td><td>0</td><td>0</td></tr><tr><td>&quot;8cb28e22-0dc3-456c-9956-41d52b…</td><td>857540480084</td><td>591532</td><td>&quot;nashville&quot;</td><td>2024-05-22 09:36:15.727</td><td>2024-05-22 09:36:16.789</td><td>&quot;united states&quot;</td><td>&quot;windows&quot;</td><td>&quot;a8b357fb-b4fb-45d2-babd-42b470…</td><td>&quot;nashville, tn&quot;</td><td>28</td><td>&quot;{&#x27;displayname&#x27;: &#x27;attachments&#x27;,…</td><td>2024-05-22 09:36:15.727</td><td>&quot;account-lines::widget:render&quot;</td><td>&quot;english&quot;</td><td>&quot;amplitude-ts/1.8.0&quot;</td><td>&quot;edge&quot;</td><td>2024-05-22 09:36:17.297</td><td>&quot;tennessee&quot;</td><td>2024-05-22 09:36:16.789</td><td>2024-05-22 09:36:16.791</td><td>1716368557821</td><td>&quot;9aecc15d-64a4-4190-80f5-b5b842…</td><td>&quot;{&#x27;initial_utm_medium&#x27;: &#x27;empty&#x27;…</td><td>&quot;underwriter&quot;</td><td>&quot;false&quot;</td><td>null</td><td>&quot;attachments&quot;</td><td>&quot;south&quot;</td><td>&quot;account &amp; policy management&quot;</td><td>9</td><td>9</td><td>9</td><td>9</td><td>9</td><td>9</td><td>1</td><td>0</td><td>0</td></tr><tr><td>&quot;eac4d6a2-2ff0-4e59-80af-aa1b3f…</td><td>857540480084</td><td>591532</td><td>&quot;nashville&quot;</td><td>2024-05-22 09:36:33.812</td><td>2024-05-22 09:36:34.881</td><td>&quot;united states&quot;</td><td>&quot;windows&quot;</td><td>&quot;a8b357fb-b4fb-45d2-babd-42b470…</td><td>&quot;nashville, tn&quot;</td><td>29</td><td>&quot;{}&quot;</td><td>2024-05-22 09:36:33.812</td><td>&quot;::nav-header:action-center-cli…</td><td>&quot;english&quot;</td><td>&quot;amplitude-ts/1.8.0&quot;</td><td>&quot;edge&quot;</td><td>2024-05-22 09:36:36.435</td><td>&quot;tennessee&quot;</td><td>2024-05-22 09:36:34.881</td><td>2024-05-22 09:36:34.883</td><td>1716368557821</td><td>&quot;9aecc15d-64a4-4190-80f5-b5b842…</td><td>&quot;{&#x27;initial_utm_medium&#x27;: &#x27;empty&#x27;…</td><td>&quot;underwriter&quot;</td><td>&quot;false&quot;</td><td>null</td><td>null</td><td>&quot;south&quot;</td><td>&quot;session &amp; navigation&quot;</td><td>9</td><td>9</td><td>9</td><td>9</td><td>9</td><td>9</td><td>1</td><td>0</td><td>1</td></tr><tr><td>&quot;bf44b3b7-2b4d-4e20-a18c-65fb63…</td><td>857540480084</td><td>591532</td><td>&quot;nashville&quot;</td><td>2024-05-22 09:36:33.815</td><td>2024-05-22 09:36:34.881</td><td>&quot;united states&quot;</td><td>&quot;windows&quot;</td><td>&quot;a8b357fb-b4fb-45d2-babd-42b470…</td><td>&quot;nashville, tn&quot;</td><td>30</td><td>&quot;{}&quot;</td><td>2024-05-22 09:36:33.815</td><td>&quot;action-center:::view&quot;</td><td>&quot;english&quot;</td><td>&quot;amplitude-ts/1.8.0&quot;</td><td>&quot;edge&quot;</td><td>2024-05-22 09:36:36.435</td><td>&quot;tennessee&quot;</td><td>2024-05-22 09:36:34.881</td><td>2024-05-22 09:36:34.883</td><td>1716368557821</td><td>&quot;9aecc15d-64a4-4190-80f5-b5b842…</td><td>&quot;{&#x27;initial_utm_medium&#x27;: &#x27;empty&#x27;…</td><td>&quot;underwriter&quot;</td><td>&quot;false&quot;</td><td>null</td><td>null</td><td>&quot;south&quot;</td><td>&quot;action center &amp; workflow&quot;</td><td>9</td><td>9</td><td>9</td><td>9</td><td>9</td><td>9</td><td>1</td><td>0</td><td>1</td></tr></tbody></table></div>"
      ],
      "text/plain": [
       "shape: (14_119_738, 39)\n",
       "┌────────────┬────────────┬────────┬───────────┬───┬───────────┬───────────┬───────────┬───────────┐\n",
       "│ $insert_id ┆ amplitude_ ┆ app    ┆ city      ┆ … ┆ server_up ┆ time_to_s ┆ server_to ┆ processin │\n",
       "│ ---        ┆ id         ┆ ---    ┆ ---       ┆   ┆ load_hour ┆ erver     ┆ _process  ┆ g_time    │\n",
       "│ str        ┆ ---        ┆ i64    ┆ str       ┆   ┆ ---       ┆ ---       ┆ ---       ┆ ---       │\n",
       "│            ┆ i64        ┆        ┆           ┆   ┆ i8        ┆ i64       ┆ i64       ┆ i64       │\n",
       "╞════════════╪════════════╪════════╪═══════════╪═══╪═══════════╪═══════════╪═══════════╪═══════════╡\n",
       "│ 251db963-6 ┆ 9350233300 ┆ 591532 ┆ mumbai    ┆ … ┆ 11        ┆ 2         ┆ 0         ┆ 0         │\n",
       "│ 623-448e-8 ┆ 69         ┆        ┆           ┆   ┆           ┆           ┆           ┆           │\n",
       "│ 665-f542b8 ┆            ┆        ┆           ┆   ┆           ┆           ┆           ┆           │\n",
       "│ …          ┆            ┆        ┆           ┆   ┆           ┆           ┆           ┆           │\n",
       "│ 3a95cdac-1 ┆ 9350233300 ┆ 591532 ┆ mumbai    ┆ … ┆ 11        ┆ 2         ┆ 0         ┆ 0         │\n",
       "│ 74c-4002-8 ┆ 69         ┆        ┆           ┆   ┆           ┆           ┆           ┆           │\n",
       "│ e84-8aeba8 ┆            ┆        ┆           ┆   ┆           ┆           ┆           ┆           │\n",
       "│ …          ┆            ┆        ┆           ┆   ┆           ┆           ┆           ┆           │\n",
       "│ 50dbfad3-8 ┆ 9350233300 ┆ 591532 ┆ mumbai    ┆ … ┆ 11        ┆ 2         ┆ 0         ┆ 0         │\n",
       "│ e24-456a-a ┆ 69         ┆        ┆           ┆   ┆           ┆           ┆           ┆           │\n",
       "│ e68-21b09b ┆            ┆        ┆           ┆   ┆           ┆           ┆           ┆           │\n",
       "│ …          ┆            ┆        ┆           ┆   ┆           ┆           ┆           ┆           │\n",
       "│ ea0a4143-2 ┆ 9350233300 ┆ 591532 ┆ mumbai    ┆ … ┆ 11        ┆ 1         ┆ 0         ┆ 0         │\n",
       "│ 380-48e7-a ┆ 69         ┆        ┆           ┆   ┆           ┆           ┆           ┆           │\n",
       "│ 83e-8ba854 ┆            ┆        ┆           ┆   ┆           ┆           ┆           ┆           │\n",
       "│ …          ┆            ┆        ┆           ┆   ┆           ┆           ┆           ┆           │\n",
       "│ 4d89977d-4 ┆ 9350233300 ┆ 591532 ┆ mumbai    ┆ … ┆ 11        ┆ 1         ┆ 0         ┆ 0         │\n",
       "│ 734-450c-a ┆ 69         ┆        ┆           ┆   ┆           ┆           ┆           ┆           │\n",
       "│ fa1-07e326 ┆            ┆        ┆           ┆   ┆           ┆           ┆           ┆           │\n",
       "│ …          ┆            ┆        ┆           ┆   ┆           ┆           ┆           ┆           │\n",
       "│ …          ┆ …          ┆ …      ┆ …         ┆ … ┆ …         ┆ …         ┆ …         ┆ …         │\n",
       "│ 102ec3ca-a ┆ 8575404800 ┆ 591532 ┆ nashville ┆ … ┆ 9         ┆ 0         ┆ 0         ┆ 0         │\n",
       "│ 467-41a9-a ┆ 84         ┆        ┆           ┆   ┆           ┆           ┆           ┆           │\n",
       "│ a19-94f5b0 ┆            ┆        ┆           ┆   ┆           ┆           ┆           ┆           │\n",
       "│ …          ┆            ┆        ┆           ┆   ┆           ┆           ┆           ┆           │\n",
       "│ 55aec1ce-b ┆ 8575404800 ┆ 591532 ┆ nashville ┆ … ┆ 9         ┆ 0         ┆ 0         ┆ 0         │\n",
       "│ 876-4f66-b ┆ 84         ┆        ┆           ┆   ┆           ┆           ┆           ┆           │\n",
       "│ 786-fd5706 ┆            ┆        ┆           ┆   ┆           ┆           ┆           ┆           │\n",
       "│ …          ┆            ┆        ┆           ┆   ┆           ┆           ┆           ┆           │\n",
       "│ 8cb28e22-0 ┆ 8575404800 ┆ 591532 ┆ nashville ┆ … ┆ 9         ┆ 1         ┆ 0         ┆ 0         │\n",
       "│ dc3-456c-9 ┆ 84         ┆        ┆           ┆   ┆           ┆           ┆           ┆           │\n",
       "│ 956-41d52b ┆            ┆        ┆           ┆   ┆           ┆           ┆           ┆           │\n",
       "│ …          ┆            ┆        ┆           ┆   ┆           ┆           ┆           ┆           │\n",
       "│ eac4d6a2-2 ┆ 8575404800 ┆ 591532 ┆ nashville ┆ … ┆ 9         ┆ 1         ┆ 0         ┆ 1         │\n",
       "│ ff0-4e59-8 ┆ 84         ┆        ┆           ┆   ┆           ┆           ┆           ┆           │\n",
       "│ 0af-aa1b3f ┆            ┆        ┆           ┆   ┆           ┆           ┆           ┆           │\n",
       "│ …          ┆            ┆        ┆           ┆   ┆           ┆           ┆           ┆           │\n",
       "│ bf44b3b7-2 ┆ 8575404800 ┆ 591532 ┆ nashville ┆ … ┆ 9         ┆ 1         ┆ 0         ┆ 1         │\n",
       "│ b4d-4e20-a ┆ 84         ┆        ┆           ┆   ┆           ┆           ┆           ┆           │\n",
       "│ 18c-65fb63 ┆            ┆        ┆           ┆   ┆           ┆           ┆           ┆           │\n",
       "│ …          ┆            ┆        ┆           ┆   ┆           ┆           ┆           ┆           │\n",
       "└────────────┴────────────┴────────┴───────────┴───┴───────────┴───────────┴───────────┴───────────┘"
      ]
     },
     "execution_count": 16,
     "metadata": {},
     "output_type": "execute_result"
    }
   ],
   "source": [
    "# Extract relative time between start and end of the same evetns\n",
    "df = df.with_columns([\n",
    "    (pl.col(\"client_upload_time\") - pl.col(\"client_event_time\")).dt.total_seconds().alias(\"time_to_server\"),\n",
    "    (pl.col(\"server_upload_time\") - pl.col(\"server_received_time\")).dt.total_seconds().alias(\"server_to_process\"),\n",
    "    (pl.col(\"processed_time\") - pl.col(\"server_upload_time\")).dt.total_seconds().alias(\"processing_time\")\n",
    "])\n",
    "df"
   ]
  },
  {
   "cell_type": "markdown",
   "metadata": {},
   "source": [
    "### Retention\n",
    "\n",
    "There is a lot of information that we can extract from the first user visit. In particular, we can use the time between the first visits and subsequent later visits in order to infer whether the customer has an interest in the product.\n",
    "\n",
    "We will choose to measure retention as whether the user has returned within 7 days of the last session. This indicator will be marked on a session level."
   ]
  },
  {
   "cell_type": "code",
   "execution_count": 17,
   "metadata": {},
   "outputs": [
    {
     "data": {
      "text/html": [
       "<div><style>\n",
       ".dataframe > thead > tr,\n",
       ".dataframe > tbody > tr {\n",
       "  text-align: right;\n",
       "  white-space: pre-wrap;\n",
       "}\n",
       "</style>\n",
       "<small>shape: (88_028, 3)</small><table border=\"1\" class=\"dataframe\"><thead><tr><th>user_id</th><th>client_event_datetime</th><th>returned_within_7_days</th></tr><tr><td>str</td><td>date</td><td>i8</td></tr></thead><tbody><tr><td>&quot;9d56981b-77d2-47ae-a62a-6ffb8c…</td><td>2024-09-26</td><td>1</td></tr><tr><td>&quot;62aa7244-86b5-41b9-8d24-099d0d…</td><td>2023-09-27</td><td>1</td></tr><tr><td>&quot;52513398-2ace-4653-a5fe-6cf994…</td><td>2023-07-06</td><td>1</td></tr><tr><td>&quot;e4dca041-9221-4508-96c4-6d98e2…</td><td>2024-04-17</td><td>1</td></tr><tr><td>&quot;10ffa9f6-3a4a-4b04-87c5-581ce6…</td><td>2023-12-28</td><td>1</td></tr><tr><td>&hellip;</td><td>&hellip;</td><td>&hellip;</td></tr><tr><td>&quot;dd375096-79d0-49c3-a48d-d8e084…</td><td>2023-10-19</td><td>1</td></tr><tr><td>&quot;b993171f-94d0-49b5-90c7-17502c…</td><td>2024-03-26</td><td>1</td></tr><tr><td>&quot;4291f20e-74f1-463f-8434-d9880c…</td><td>2024-03-05</td><td>1</td></tr><tr><td>&quot;18af8498-bd27-4557-84ca-32a38e…</td><td>2024-05-07</td><td>1</td></tr><tr><td>&quot;51a9212d-a90c-41e7-b09e-2d35e9…</td><td>2024-08-07</td><td>1</td></tr></tbody></table></div>"
      ],
      "text/plain": [
       "shape: (88_028, 3)\n",
       "┌─────────────────────────────────┬───────────────────────┬────────────────────────┐\n",
       "│ user_id                         ┆ client_event_datetime ┆ returned_within_7_days │\n",
       "│ ---                             ┆ ---                   ┆ ---                    │\n",
       "│ str                             ┆ date                  ┆ i8                     │\n",
       "╞═════════════════════════════════╪═══════════════════════╪════════════════════════╡\n",
       "│ 9d56981b-77d2-47ae-a62a-6ffb8c… ┆ 2024-09-26            ┆ 1                      │\n",
       "│ 62aa7244-86b5-41b9-8d24-099d0d… ┆ 2023-09-27            ┆ 1                      │\n",
       "│ 52513398-2ace-4653-a5fe-6cf994… ┆ 2023-07-06            ┆ 1                      │\n",
       "│ e4dca041-9221-4508-96c4-6d98e2… ┆ 2024-04-17            ┆ 1                      │\n",
       "│ 10ffa9f6-3a4a-4b04-87c5-581ce6… ┆ 2023-12-28            ┆ 1                      │\n",
       "│ …                               ┆ …                     ┆ …                      │\n",
       "│ dd375096-79d0-49c3-a48d-d8e084… ┆ 2023-10-19            ┆ 1                      │\n",
       "│ b993171f-94d0-49b5-90c7-17502c… ┆ 2024-03-26            ┆ 1                      │\n",
       "│ 4291f20e-74f1-463f-8434-d9880c… ┆ 2024-03-05            ┆ 1                      │\n",
       "│ 18af8498-bd27-4557-84ca-32a38e… ┆ 2024-05-07            ┆ 1                      │\n",
       "│ 51a9212d-a90c-41e7-b09e-2d35e9… ┆ 2024-08-07            ┆ 1                      │\n",
       "└─────────────────────────────────┴───────────────────────┴────────────────────────┘"
      ]
     },
     "execution_count": 17,
     "metadata": {},
     "output_type": "execute_result"
    }
   ],
   "source": [
    "# Get dense rank of datetime\n",
    "df = df.with_columns(pl.col('client_event_time').cast(pl.Date).alias('client_event_datetime'))\n",
    "\n",
    "session_visit_checkpoints = (df.with_columns(pl.col('client_event_datetime')\n",
    "                                                                   .rank(method = 'dense')\n",
    "                                                                   .over('user_id')\n",
    "                                                                   .alias('rank')))\n",
    "\n",
    "\n",
    "# Self-join with previous rank to get next datetime\n",
    "session_visit_checkpoints = (session_visit_checkpoints.with_columns(\n",
    "                                (pl.col('rank') - 1).alias('prev_rank')))\n",
    "\n",
    "session_visit_checkpoints = (session_visit_checkpoints.group_by('user_id', 'client_event_datetime')\n",
    "                                .agg(pl.min('client_event_time'), pl.first('rank'), pl.first('prev_rank')))\n",
    "\n",
    "session_visit_checkpoints = (session_visit_checkpoints.join(\n",
    "                             session_visit_checkpoints.select('user_id', 'prev_rank', 'client_event_datetime'), \n",
    "                             left_on = ['user_id', 'rank'], \n",
    "                             right_on = ['user_id', 'prev_rank'],\n",
    "                             how = 'left'))\n",
    "\n",
    "# Calculate wait time between event datetimes\n",
    "session_visit_checkpoints = session_visit_checkpoints.with_columns(\n",
    "                            (pl.col('client_event_datetime_right') - pl.col('client_event_datetime'))\n",
    "                            .dt.total_days().alias('wait_time'))\n",
    "\n",
    "# Get indicator of whether this wait time is under 7 days (so we have retained the user)\n",
    "session_visit_checkpoints = session_visit_checkpoints.with_columns(\n",
    "                            pl.col('wait_time').le(7).cast(pl.Int8)\n",
    "                            .alias('returned_within_7_days')\n",
    "                            )\n",
    "\n",
    "session_visit_checkpoints = session_visit_checkpoints.with_columns(pl.col('returned_within_7_days').fill_null(0))\n",
    "\n",
    "# Join indicator to table\n",
    "session_visit_checkpoints = session_visit_checkpoints.drop(['client_event_time', 'rank', 'prev_rank', \n",
    "                                                            'client_event_datetime_right', 'wait_time'])\n",
    "session_visit_checkpoints"
   ]
  },
  {
   "cell_type": "markdown",
   "metadata": {},
   "source": [
    "### Extract List-valued Columns\n",
    "\n",
    "Next, we will extract values from list-valued columns, which can contain multiple values.\n",
    "\n",
    "We will perform an encoding where each new indicator column would be a value from the list, and the value would represent whether the value is in that list.\n",
    "\n",
    "Note that we will choose values from the list that are relevant to our modelling later on.\n",
    "\n",
    "Some of the list-valued columns that we will process are `roles` and `referrer_user`"
   ]
  },
  {
   "cell_type": "code",
   "execution_count": 18,
   "metadata": {},
   "outputs": [
    {
     "data": {
      "text/html": [
       "<div><style>\n",
       ".dataframe > thead > tr,\n",
       ".dataframe > tbody > tr {\n",
       "  text-align: right;\n",
       "  white-space: pre-wrap;\n",
       "}\n",
       "</style>\n",
       "<small>shape: (14_119_738, 44)</small><table border=\"1\" class=\"dataframe\"><thead><tr><th>$insert_id</th><th>amplitude_id</th><th>app</th><th>city</th><th>client_event_time</th><th>client_upload_time</th><th>country</th><th>device_family</th><th>device_id</th><th>dma</th><th>event_id</th><th>event_properties</th><th>event_time</th><th>event_type</th><th>language</th><th>library</th><th>os_name</th><th>processed_time</th><th>region</th><th>server_received_time</th><th>server_upload_time</th><th>session_id</th><th>user_id</th><th>user_properties</th><th>roles</th><th>isInternalUser</th><th>referrer</th><th>slug</th><th>region_grouped</th><th>event_category</th><th>client_event_hour</th><th>client_upload_hour</th><th>event_hour</th><th>processed_hour</th><th>server_received_hour</th><th>server_upload_hour</th><th>time_to_server</th><th>server_to_process</th><th>processing_time</th><th>client_event_datetime</th><th>uw</th><th>admin</th><th>manager</th><th>broker</th></tr><tr><td>str</td><td>i64</td><td>i64</td><td>str</td><td>datetime[μs]</td><td>datetime[μs]</td><td>str</td><td>str</td><td>str</td><td>str</td><td>i64</td><td>str</td><td>datetime[μs]</td><td>str</td><td>str</td><td>str</td><td>str</td><td>datetime[μs]</td><td>str</td><td>datetime[μs]</td><td>datetime[μs]</td><td>i64</td><td>str</td><td>str</td><td>str</td><td>str</td><td>str</td><td>str</td><td>str</td><td>str</td><td>i8</td><td>i8</td><td>i8</td><td>i8</td><td>i8</td><td>i8</td><td>i64</td><td>i64</td><td>i64</td><td>date</td><td>i8</td><td>i8</td><td>i8</td><td>i8</td></tr></thead><tbody><tr><td>&quot;251db963-6623-448e-8665-f542b8…</td><td>935023330069</td><td>591532</td><td>&quot;mumbai&quot;</td><td>2024-10-08 11:41:02.385</td><td>2024-10-08 11:41:04.857</td><td>&quot;india&quot;</td><td>&quot;windows&quot;</td><td>&quot;8bd8b6ab-370f-4b56-b38f-ad221c…</td><td>null</td><td>22216</td><td>&quot;{}&quot;</td><td>2024-10-08 11:41:02.385</td><td>&quot;session_start&quot;</td><td>&quot;english&quot;</td><td>&quot;amplitude-ts/2.7.2&quot;</td><td>&quot;chrome&quot;</td><td>2024-10-08 11:41:05.371</td><td>&quot;maharashtra&quot;</td><td>2024-10-08 11:41:04.857</td><td>2024-10-08 11:41:04.859</td><td>1728387662385</td><td>&quot;8038ea38-8ddf-4a1a-825d-8287c0…</td><td>&quot;{&#x27;roles&#x27;: [&#x27;underwriter&#x27;], &#x27;tr…</td><td>&quot;underwriter&quot;</td><td>&quot;false&quot;</td><td>&quot;https://accounts.google.com/&quot;</td><td>null</td><td>&quot;international&quot;</td><td>&quot;session &amp; navigation&quot;</td><td>11</td><td>11</td><td>11</td><td>11</td><td>11</td><td>11</td><td>2</td><td>0</td><td>0</td><td>2024-10-08</td><td>1</td><td>0</td><td>0</td><td>0</td></tr><tr><td>&quot;3a95cdac-174c-4002-8e84-8aeba8…</td><td>935023330069</td><td>591532</td><td>&quot;mumbai&quot;</td><td>2024-10-08 11:41:02.386</td><td>2024-10-08 11:41:04.857</td><td>&quot;india&quot;</td><td>&quot;windows&quot;</td><td>&quot;8bd8b6ab-370f-4b56-b38f-ad221c…</td><td>null</td><td>22215</td><td>&quot;{}&quot;</td><td>2024-10-08 11:41:02.386</td><td>&quot;session_end&quot;</td><td>&quot;english&quot;</td><td>&quot;amplitude-ts/2.7.2&quot;</td><td>&quot;chrome&quot;</td><td>2024-10-08 11:41:05.371</td><td>&quot;maharashtra&quot;</td><td>2024-10-08 11:41:04.857</td><td>2024-10-08 11:41:04.859</td><td>1728387662385</td><td>&quot;8038ea38-8ddf-4a1a-825d-8287c0…</td><td>&quot;{&#x27;roles&#x27;: [&#x27;underwriter&#x27;], &#x27;tr…</td><td>&quot;underwriter&quot;</td><td>&quot;false&quot;</td><td>&quot;https://accounts.google.com/&quot;</td><td>null</td><td>&quot;international&quot;</td><td>&quot;session &amp; navigation&quot;</td><td>11</td><td>11</td><td>11</td><td>11</td><td>11</td><td>11</td><td>2</td><td>0</td><td>0</td><td>2024-10-08</td><td>1</td><td>0</td><td>0</td><td>0</td></tr><tr><td>&quot;50dbfad3-8e24-456a-ae68-21b09b…</td><td>935023330069</td><td>591532</td><td>&quot;mumbai&quot;</td><td>2024-10-08 11:41:02.386</td><td>2024-10-08 11:41:04.857</td><td>&quot;india&quot;</td><td>&quot;windows&quot;</td><td>&quot;8bd8b6ab-370f-4b56-b38f-ad221c…</td><td>null</td><td>22216</td><td>&quot;{&#x27;[amplitude] session replay i…</td><td>2024-10-08 11:41:02.386</td><td>&quot;session_start&quot;</td><td>&quot;english&quot;</td><td>&quot;amplitude-ts/2.7.2&quot;</td><td>&quot;chrome&quot;</td><td>2024-10-08 11:41:05.371</td><td>&quot;maharashtra&quot;</td><td>2024-10-08 11:41:04.857</td><td>2024-10-08 11:41:04.859</td><td>1728387662386</td><td>&quot;8038ea38-8ddf-4a1a-825d-8287c0…</td><td>&quot;{&#x27;roles&#x27;: [&#x27;underwriter&#x27;], &#x27;tr…</td><td>&quot;underwriter&quot;</td><td>&quot;false&quot;</td><td>&quot;https://accounts.google.com/&quot;</td><td>null</td><td>&quot;international&quot;</td><td>&quot;session &amp; navigation&quot;</td><td>11</td><td>11</td><td>11</td><td>11</td><td>11</td><td>11</td><td>2</td><td>0</td><td>0</td><td>2024-10-08</td><td>1</td><td>0</td><td>0</td><td>0</td></tr><tr><td>&quot;ea0a4143-2380-48e7-a83e-8ba854…</td><td>935023330069</td><td>591532</td><td>&quot;mumbai&quot;</td><td>2024-10-08 11:41:03.500</td><td>2024-10-08 11:41:04.857</td><td>&quot;india&quot;</td><td>&quot;windows&quot;</td><td>&quot;8bd8b6ab-370f-4b56-b38f-ad221c…</td><td>null</td><td>22217</td><td>&quot;{&#x27;rowmodel&#x27;: &#x27;server&#x27;, &#x27;[ampli…</td><td>2024-10-08 11:41:03.500</td><td>&quot;:all-accounts:configurable-tab…</td><td>&quot;english&quot;</td><td>&quot;amplitude-ts/2.7.2&quot;</td><td>&quot;chrome&quot;</td><td>2024-10-08 11:41:05.371</td><td>&quot;maharashtra&quot;</td><td>2024-10-08 11:41:04.857</td><td>2024-10-08 11:41:04.859</td><td>1728387662386</td><td>&quot;8038ea38-8ddf-4a1a-825d-8287c0…</td><td>&quot;{&#x27;roles&#x27;: [&#x27;underwriter&#x27;], &#x27;tr…</td><td>&quot;underwriter&quot;</td><td>&quot;false&quot;</td><td>&quot;https://accounts.google.com/&quot;</td><td>null</td><td>&quot;international&quot;</td><td>&quot;account &amp; policy management&quot;</td><td>11</td><td>11</td><td>11</td><td>11</td><td>11</td><td>11</td><td>1</td><td>0</td><td>0</td><td>2024-10-08</td><td>1</td><td>0</td><td>0</td><td>0</td></tr><tr><td>&quot;4d89977d-4734-450c-afa1-07e326…</td><td>935023330069</td><td>591532</td><td>&quot;mumbai&quot;</td><td>2024-10-08 11:41:03.527</td><td>2024-10-08 11:41:04.857</td><td>&quot;india&quot;</td><td>&quot;windows&quot;</td><td>&quot;8bd8b6ab-370f-4b56-b38f-ad221c…</td><td>null</td><td>22217</td><td>&quot;{&#x27;displayname&#x27;: &#x27;all policies …</td><td>2024-10-08 11:41:03.527</td><td>&quot;:all-accounts:widget:render&quot;</td><td>&quot;english&quot;</td><td>&quot;amplitude-ts/2.7.2&quot;</td><td>&quot;chrome&quot;</td><td>2024-10-08 11:41:05.371</td><td>&quot;maharashtra&quot;</td><td>2024-10-08 11:41:04.857</td><td>2024-10-08 11:41:04.859</td><td>1728387662386</td><td>&quot;8038ea38-8ddf-4a1a-825d-8287c0…</td><td>&quot;{&#x27;roles&#x27;: [&#x27;underwriter&#x27;], &#x27;tr…</td><td>&quot;underwriter&quot;</td><td>&quot;false&quot;</td><td>&quot;https://accounts.google.com/&quot;</td><td>null</td><td>&quot;international&quot;</td><td>&quot;account &amp; policy management&quot;</td><td>11</td><td>11</td><td>11</td><td>11</td><td>11</td><td>11</td><td>1</td><td>0</td><td>0</td><td>2024-10-08</td><td>1</td><td>0</td><td>0</td><td>0</td></tr><tr><td>&hellip;</td><td>&hellip;</td><td>&hellip;</td><td>&hellip;</td><td>&hellip;</td><td>&hellip;</td><td>&hellip;</td><td>&hellip;</td><td>&hellip;</td><td>&hellip;</td><td>&hellip;</td><td>&hellip;</td><td>&hellip;</td><td>&hellip;</td><td>&hellip;</td><td>&hellip;</td><td>&hellip;</td><td>&hellip;</td><td>&hellip;</td><td>&hellip;</td><td>&hellip;</td><td>&hellip;</td><td>&hellip;</td><td>&hellip;</td><td>&hellip;</td><td>&hellip;</td><td>&hellip;</td><td>&hellip;</td><td>&hellip;</td><td>&hellip;</td><td>&hellip;</td><td>&hellip;</td><td>&hellip;</td><td>&hellip;</td><td>&hellip;</td><td>&hellip;</td><td>&hellip;</td><td>&hellip;</td><td>&hellip;</td><td>&hellip;</td><td>&hellip;</td><td>&hellip;</td><td>&hellip;</td><td>&hellip;</td></tr><tr><td>&quot;102ec3ca-a467-41a9-aa19-94f5b0…</td><td>857540480084</td><td>591532</td><td>&quot;nashville&quot;</td><td>2024-05-22 09:36:09.888</td><td>2024-05-22 09:36:10.832</td><td>&quot;united states&quot;</td><td>&quot;windows&quot;</td><td>&quot;a8b357fb-b4fb-45d2-babd-42b470…</td><td>&quot;nashville, tn&quot;</td><td>26</td><td>&quot;{&#x27;displayname&#x27;: &#x27;one drive lin…</td><td>2024-05-22 09:36:09.888</td><td>&quot;account-lines::widget:render&quot;</td><td>&quot;english&quot;</td><td>&quot;amplitude-ts/1.8.0&quot;</td><td>&quot;edge&quot;</td><td>2024-05-22 09:36:11.662</td><td>&quot;tennessee&quot;</td><td>2024-05-22 09:36:10.832</td><td>2024-05-22 09:36:10.833</td><td>1716368557821</td><td>&quot;9aecc15d-64a4-4190-80f5-b5b842…</td><td>&quot;{&#x27;initial_utm_medium&#x27;: &#x27;empty&#x27;…</td><td>&quot;underwriter&quot;</td><td>&quot;false&quot;</td><td>null</td><td>&quot;one-drive-link&quot;</td><td>&quot;south&quot;</td><td>&quot;account &amp; policy management&quot;</td><td>9</td><td>9</td><td>9</td><td>9</td><td>9</td><td>9</td><td>0</td><td>0</td><td>0</td><td>2024-05-22</td><td>1</td><td>0</td><td>0</td><td>0</td></tr><tr><td>&quot;55aec1ce-b876-4f66-b786-fd5706…</td><td>857540480084</td><td>591532</td><td>&quot;nashville&quot;</td><td>2024-05-22 09:36:09.917</td><td>2024-05-22 09:36:10.832</td><td>&quot;united states&quot;</td><td>&quot;windows&quot;</td><td>&quot;a8b357fb-b4fb-45d2-babd-42b470…</td><td>&quot;nashville, tn&quot;</td><td>27</td><td>&quot;{&#x27;rowmodel&#x27;: &#x27;legacyserver&#x27;, &#x27;…</td><td>2024-05-22 09:36:09.917</td><td>&quot;account-lines::configurable-ta…</td><td>&quot;english&quot;</td><td>&quot;amplitude-ts/1.8.0&quot;</td><td>&quot;edge&quot;</td><td>2024-05-22 09:36:11.662</td><td>&quot;tennessee&quot;</td><td>2024-05-22 09:36:10.832</td><td>2024-05-22 09:36:10.833</td><td>1716368557821</td><td>&quot;9aecc15d-64a4-4190-80f5-b5b842…</td><td>&quot;{&#x27;initial_utm_medium&#x27;: &#x27;empty&#x27;…</td><td>&quot;underwriter&quot;</td><td>&quot;false&quot;</td><td>null</td><td>&quot;property-locations&quot;</td><td>&quot;south&quot;</td><td>&quot;account &amp; policy management&quot;</td><td>9</td><td>9</td><td>9</td><td>9</td><td>9</td><td>9</td><td>0</td><td>0</td><td>0</td><td>2024-05-22</td><td>1</td><td>0</td><td>0</td><td>0</td></tr><tr><td>&quot;8cb28e22-0dc3-456c-9956-41d52b…</td><td>857540480084</td><td>591532</td><td>&quot;nashville&quot;</td><td>2024-05-22 09:36:15.727</td><td>2024-05-22 09:36:16.789</td><td>&quot;united states&quot;</td><td>&quot;windows&quot;</td><td>&quot;a8b357fb-b4fb-45d2-babd-42b470…</td><td>&quot;nashville, tn&quot;</td><td>28</td><td>&quot;{&#x27;displayname&#x27;: &#x27;attachments&#x27;,…</td><td>2024-05-22 09:36:15.727</td><td>&quot;account-lines::widget:render&quot;</td><td>&quot;english&quot;</td><td>&quot;amplitude-ts/1.8.0&quot;</td><td>&quot;edge&quot;</td><td>2024-05-22 09:36:17.297</td><td>&quot;tennessee&quot;</td><td>2024-05-22 09:36:16.789</td><td>2024-05-22 09:36:16.791</td><td>1716368557821</td><td>&quot;9aecc15d-64a4-4190-80f5-b5b842…</td><td>&quot;{&#x27;initial_utm_medium&#x27;: &#x27;empty&#x27;…</td><td>&quot;underwriter&quot;</td><td>&quot;false&quot;</td><td>null</td><td>&quot;attachments&quot;</td><td>&quot;south&quot;</td><td>&quot;account &amp; policy management&quot;</td><td>9</td><td>9</td><td>9</td><td>9</td><td>9</td><td>9</td><td>1</td><td>0</td><td>0</td><td>2024-05-22</td><td>1</td><td>0</td><td>0</td><td>0</td></tr><tr><td>&quot;eac4d6a2-2ff0-4e59-80af-aa1b3f…</td><td>857540480084</td><td>591532</td><td>&quot;nashville&quot;</td><td>2024-05-22 09:36:33.812</td><td>2024-05-22 09:36:34.881</td><td>&quot;united states&quot;</td><td>&quot;windows&quot;</td><td>&quot;a8b357fb-b4fb-45d2-babd-42b470…</td><td>&quot;nashville, tn&quot;</td><td>29</td><td>&quot;{}&quot;</td><td>2024-05-22 09:36:33.812</td><td>&quot;::nav-header:action-center-cli…</td><td>&quot;english&quot;</td><td>&quot;amplitude-ts/1.8.0&quot;</td><td>&quot;edge&quot;</td><td>2024-05-22 09:36:36.435</td><td>&quot;tennessee&quot;</td><td>2024-05-22 09:36:34.881</td><td>2024-05-22 09:36:34.883</td><td>1716368557821</td><td>&quot;9aecc15d-64a4-4190-80f5-b5b842…</td><td>&quot;{&#x27;initial_utm_medium&#x27;: &#x27;empty&#x27;…</td><td>&quot;underwriter&quot;</td><td>&quot;false&quot;</td><td>null</td><td>null</td><td>&quot;south&quot;</td><td>&quot;session &amp; navigation&quot;</td><td>9</td><td>9</td><td>9</td><td>9</td><td>9</td><td>9</td><td>1</td><td>0</td><td>1</td><td>2024-05-22</td><td>1</td><td>0</td><td>0</td><td>0</td></tr><tr><td>&quot;bf44b3b7-2b4d-4e20-a18c-65fb63…</td><td>857540480084</td><td>591532</td><td>&quot;nashville&quot;</td><td>2024-05-22 09:36:33.815</td><td>2024-05-22 09:36:34.881</td><td>&quot;united states&quot;</td><td>&quot;windows&quot;</td><td>&quot;a8b357fb-b4fb-45d2-babd-42b470…</td><td>&quot;nashville, tn&quot;</td><td>30</td><td>&quot;{}&quot;</td><td>2024-05-22 09:36:33.815</td><td>&quot;action-center:::view&quot;</td><td>&quot;english&quot;</td><td>&quot;amplitude-ts/1.8.0&quot;</td><td>&quot;edge&quot;</td><td>2024-05-22 09:36:36.435</td><td>&quot;tennessee&quot;</td><td>2024-05-22 09:36:34.881</td><td>2024-05-22 09:36:34.883</td><td>1716368557821</td><td>&quot;9aecc15d-64a4-4190-80f5-b5b842…</td><td>&quot;{&#x27;initial_utm_medium&#x27;: &#x27;empty&#x27;…</td><td>&quot;underwriter&quot;</td><td>&quot;false&quot;</td><td>null</td><td>null</td><td>&quot;south&quot;</td><td>&quot;action center &amp; workflow&quot;</td><td>9</td><td>9</td><td>9</td><td>9</td><td>9</td><td>9</td><td>1</td><td>0</td><td>1</td><td>2024-05-22</td><td>1</td><td>0</td><td>0</td><td>0</td></tr></tbody></table></div>"
      ],
      "text/plain": [
       "shape: (14_119_738, 44)\n",
       "┌─────────────────────────┬──────────────┬────────┬───────────┬───┬─────┬───────┬─────────┬────────┐\n",
       "│ $insert_id              ┆ amplitude_id ┆ app    ┆ city      ┆ … ┆ uw  ┆ admin ┆ manager ┆ broker │\n",
       "│ ---                     ┆ ---          ┆ ---    ┆ ---       ┆   ┆ --- ┆ ---   ┆ ---     ┆ ---    │\n",
       "│ str                     ┆ i64          ┆ i64    ┆ str       ┆   ┆ i8  ┆ i8    ┆ i8      ┆ i8     │\n",
       "╞═════════════════════════╪══════════════╪════════╪═══════════╪═══╪═════╪═══════╪═════════╪════════╡\n",
       "│ 251db963-6623-448e-8665 ┆ 935023330069 ┆ 591532 ┆ mumbai    ┆ … ┆ 1   ┆ 0     ┆ 0       ┆ 0      │\n",
       "│ -f542b8…                ┆              ┆        ┆           ┆   ┆     ┆       ┆         ┆        │\n",
       "│ 3a95cdac-174c-4002-8e84 ┆ 935023330069 ┆ 591532 ┆ mumbai    ┆ … ┆ 1   ┆ 0     ┆ 0       ┆ 0      │\n",
       "│ -8aeba8…                ┆              ┆        ┆           ┆   ┆     ┆       ┆         ┆        │\n",
       "│ 50dbfad3-8e24-456a-ae68 ┆ 935023330069 ┆ 591532 ┆ mumbai    ┆ … ┆ 1   ┆ 0     ┆ 0       ┆ 0      │\n",
       "│ -21b09b…                ┆              ┆        ┆           ┆   ┆     ┆       ┆         ┆        │\n",
       "│ ea0a4143-2380-48e7-a83e ┆ 935023330069 ┆ 591532 ┆ mumbai    ┆ … ┆ 1   ┆ 0     ┆ 0       ┆ 0      │\n",
       "│ -8ba854…                ┆              ┆        ┆           ┆   ┆     ┆       ┆         ┆        │\n",
       "│ 4d89977d-4734-450c-afa1 ┆ 935023330069 ┆ 591532 ┆ mumbai    ┆ … ┆ 1   ┆ 0     ┆ 0       ┆ 0      │\n",
       "│ -07e326…                ┆              ┆        ┆           ┆   ┆     ┆       ┆         ┆        │\n",
       "│ …                       ┆ …            ┆ …      ┆ …         ┆ … ┆ …   ┆ …     ┆ …       ┆ …      │\n",
       "│ 102ec3ca-a467-41a9-aa19 ┆ 857540480084 ┆ 591532 ┆ nashville ┆ … ┆ 1   ┆ 0     ┆ 0       ┆ 0      │\n",
       "│ -94f5b0…                ┆              ┆        ┆           ┆   ┆     ┆       ┆         ┆        │\n",
       "│ 55aec1ce-b876-4f66-b786 ┆ 857540480084 ┆ 591532 ┆ nashville ┆ … ┆ 1   ┆ 0     ┆ 0       ┆ 0      │\n",
       "│ -fd5706…                ┆              ┆        ┆           ┆   ┆     ┆       ┆         ┆        │\n",
       "│ 8cb28e22-0dc3-456c-9956 ┆ 857540480084 ┆ 591532 ┆ nashville ┆ … ┆ 1   ┆ 0     ┆ 0       ┆ 0      │\n",
       "│ -41d52b…                ┆              ┆        ┆           ┆   ┆     ┆       ┆         ┆        │\n",
       "│ eac4d6a2-2ff0-4e59-80af ┆ 857540480084 ┆ 591532 ┆ nashville ┆ … ┆ 1   ┆ 0     ┆ 0       ┆ 0      │\n",
       "│ -aa1b3f…                ┆              ┆        ┆           ┆   ┆     ┆       ┆         ┆        │\n",
       "│ bf44b3b7-2b4d-4e20-a18c ┆ 857540480084 ┆ 591532 ┆ nashville ┆ … ┆ 1   ┆ 0     ┆ 0       ┆ 0      │\n",
       "│ -65fb63…                ┆              ┆        ┆           ┆   ┆     ┆       ┆         ┆        │\n",
       "└─────────────────────────┴──────────────┴────────┴───────────┴───┴─────┴───────┴─────────┴────────┘"
      ]
     },
     "execution_count": 18,
     "metadata": {},
     "output_type": "execute_result"
    }
   ],
   "source": [
    "# Extract roles from roles, which can contain multiple roles\n",
    "df = df.with_columns([\n",
    "        pl.col('roles').str.contains('underwriter').alias('uw').cast(pl.Int8),\n",
    "        pl.col('roles').str.contains('admin').alias('admin').cast(pl.Int8),\n",
    "        pl.col('roles').str.contains('manager').alias('manager').cast(pl.Int8),\n",
    "        pl.col('roles').str.contains('broker').alias('broker').cast(pl.Int8),\n",
    "    ])\n",
    "df"
   ]
  },
  {
   "cell_type": "code",
   "execution_count": 19,
   "metadata": {},
   "outputs": [
    {
     "data": {
      "text/html": [
       "<div><style>\n",
       ".dataframe > thead > tr,\n",
       ".dataframe > tbody > tr {\n",
       "  text-align: right;\n",
       "  white-space: pre-wrap;\n",
       "}\n",
       "</style>\n",
       "<small>shape: (14_119_738, 48)</small><table border=\"1\" class=\"dataframe\"><thead><tr><th>$insert_id</th><th>amplitude_id</th><th>app</th><th>city</th><th>client_event_time</th><th>client_upload_time</th><th>country</th><th>device_family</th><th>device_id</th><th>dma</th><th>event_id</th><th>event_properties</th><th>event_time</th><th>event_type</th><th>language</th><th>library</th><th>os_name</th><th>processed_time</th><th>region</th><th>server_received_time</th><th>server_upload_time</th><th>session_id</th><th>user_id</th><th>user_properties</th><th>roles</th><th>isInternalUser</th><th>referrer</th><th>slug</th><th>region_grouped</th><th>event_category</th><th>client_event_hour</th><th>client_upload_hour</th><th>event_hour</th><th>processed_hour</th><th>server_received_hour</th><th>server_upload_hour</th><th>time_to_server</th><th>server_to_process</th><th>processing_time</th><th>client_event_datetime</th><th>uw</th><th>admin</th><th>manager</th><th>broker</th><th>google</th><th>microsoft</th><th>federato</th><th>uw-portal</th></tr><tr><td>str</td><td>i64</td><td>i64</td><td>str</td><td>datetime[μs]</td><td>datetime[μs]</td><td>str</td><td>str</td><td>str</td><td>str</td><td>i64</td><td>str</td><td>datetime[μs]</td><td>str</td><td>str</td><td>str</td><td>str</td><td>datetime[μs]</td><td>str</td><td>datetime[μs]</td><td>datetime[μs]</td><td>i64</td><td>str</td><td>str</td><td>str</td><td>str</td><td>str</td><td>str</td><td>str</td><td>str</td><td>i8</td><td>i8</td><td>i8</td><td>i8</td><td>i8</td><td>i8</td><td>i64</td><td>i64</td><td>i64</td><td>date</td><td>i8</td><td>i8</td><td>i8</td><td>i8</td><td>i32</td><td>i32</td><td>i32</td><td>i32</td></tr></thead><tbody><tr><td>&quot;251db963-6623-448e-8665-f542b8…</td><td>935023330069</td><td>591532</td><td>&quot;mumbai&quot;</td><td>2024-10-08 11:41:02.385</td><td>2024-10-08 11:41:04.857</td><td>&quot;india&quot;</td><td>&quot;windows&quot;</td><td>&quot;8bd8b6ab-370f-4b56-b38f-ad221c…</td><td>null</td><td>22216</td><td>&quot;{}&quot;</td><td>2024-10-08 11:41:02.385</td><td>&quot;session_start&quot;</td><td>&quot;english&quot;</td><td>&quot;amplitude-ts/2.7.2&quot;</td><td>&quot;chrome&quot;</td><td>2024-10-08 11:41:05.371</td><td>&quot;maharashtra&quot;</td><td>2024-10-08 11:41:04.857</td><td>2024-10-08 11:41:04.859</td><td>1728387662385</td><td>&quot;8038ea38-8ddf-4a1a-825d-8287c0…</td><td>&quot;{&#x27;roles&#x27;: [&#x27;underwriter&#x27;], &#x27;tr…</td><td>&quot;underwriter&quot;</td><td>&quot;false&quot;</td><td>&quot;https://accounts.google.com/&quot;</td><td>null</td><td>&quot;international&quot;</td><td>&quot;session &amp; navigation&quot;</td><td>11</td><td>11</td><td>11</td><td>11</td><td>11</td><td>11</td><td>2</td><td>0</td><td>0</td><td>2024-10-08</td><td>1</td><td>0</td><td>0</td><td>0</td><td>1</td><td>0</td><td>0</td><td>0</td></tr><tr><td>&quot;3a95cdac-174c-4002-8e84-8aeba8…</td><td>935023330069</td><td>591532</td><td>&quot;mumbai&quot;</td><td>2024-10-08 11:41:02.386</td><td>2024-10-08 11:41:04.857</td><td>&quot;india&quot;</td><td>&quot;windows&quot;</td><td>&quot;8bd8b6ab-370f-4b56-b38f-ad221c…</td><td>null</td><td>22215</td><td>&quot;{}&quot;</td><td>2024-10-08 11:41:02.386</td><td>&quot;session_end&quot;</td><td>&quot;english&quot;</td><td>&quot;amplitude-ts/2.7.2&quot;</td><td>&quot;chrome&quot;</td><td>2024-10-08 11:41:05.371</td><td>&quot;maharashtra&quot;</td><td>2024-10-08 11:41:04.857</td><td>2024-10-08 11:41:04.859</td><td>1728387662385</td><td>&quot;8038ea38-8ddf-4a1a-825d-8287c0…</td><td>&quot;{&#x27;roles&#x27;: [&#x27;underwriter&#x27;], &#x27;tr…</td><td>&quot;underwriter&quot;</td><td>&quot;false&quot;</td><td>&quot;https://accounts.google.com/&quot;</td><td>null</td><td>&quot;international&quot;</td><td>&quot;session &amp; navigation&quot;</td><td>11</td><td>11</td><td>11</td><td>11</td><td>11</td><td>11</td><td>2</td><td>0</td><td>0</td><td>2024-10-08</td><td>1</td><td>0</td><td>0</td><td>0</td><td>1</td><td>0</td><td>0</td><td>0</td></tr><tr><td>&quot;50dbfad3-8e24-456a-ae68-21b09b…</td><td>935023330069</td><td>591532</td><td>&quot;mumbai&quot;</td><td>2024-10-08 11:41:02.386</td><td>2024-10-08 11:41:04.857</td><td>&quot;india&quot;</td><td>&quot;windows&quot;</td><td>&quot;8bd8b6ab-370f-4b56-b38f-ad221c…</td><td>null</td><td>22216</td><td>&quot;{&#x27;[amplitude] session replay i…</td><td>2024-10-08 11:41:02.386</td><td>&quot;session_start&quot;</td><td>&quot;english&quot;</td><td>&quot;amplitude-ts/2.7.2&quot;</td><td>&quot;chrome&quot;</td><td>2024-10-08 11:41:05.371</td><td>&quot;maharashtra&quot;</td><td>2024-10-08 11:41:04.857</td><td>2024-10-08 11:41:04.859</td><td>1728387662386</td><td>&quot;8038ea38-8ddf-4a1a-825d-8287c0…</td><td>&quot;{&#x27;roles&#x27;: [&#x27;underwriter&#x27;], &#x27;tr…</td><td>&quot;underwriter&quot;</td><td>&quot;false&quot;</td><td>&quot;https://accounts.google.com/&quot;</td><td>null</td><td>&quot;international&quot;</td><td>&quot;session &amp; navigation&quot;</td><td>11</td><td>11</td><td>11</td><td>11</td><td>11</td><td>11</td><td>2</td><td>0</td><td>0</td><td>2024-10-08</td><td>1</td><td>0</td><td>0</td><td>0</td><td>1</td><td>0</td><td>0</td><td>0</td></tr><tr><td>&quot;ea0a4143-2380-48e7-a83e-8ba854…</td><td>935023330069</td><td>591532</td><td>&quot;mumbai&quot;</td><td>2024-10-08 11:41:03.500</td><td>2024-10-08 11:41:04.857</td><td>&quot;india&quot;</td><td>&quot;windows&quot;</td><td>&quot;8bd8b6ab-370f-4b56-b38f-ad221c…</td><td>null</td><td>22217</td><td>&quot;{&#x27;rowmodel&#x27;: &#x27;server&#x27;, &#x27;[ampli…</td><td>2024-10-08 11:41:03.500</td><td>&quot;:all-accounts:configurable-tab…</td><td>&quot;english&quot;</td><td>&quot;amplitude-ts/2.7.2&quot;</td><td>&quot;chrome&quot;</td><td>2024-10-08 11:41:05.371</td><td>&quot;maharashtra&quot;</td><td>2024-10-08 11:41:04.857</td><td>2024-10-08 11:41:04.859</td><td>1728387662386</td><td>&quot;8038ea38-8ddf-4a1a-825d-8287c0…</td><td>&quot;{&#x27;roles&#x27;: [&#x27;underwriter&#x27;], &#x27;tr…</td><td>&quot;underwriter&quot;</td><td>&quot;false&quot;</td><td>&quot;https://accounts.google.com/&quot;</td><td>null</td><td>&quot;international&quot;</td><td>&quot;account &amp; policy management&quot;</td><td>11</td><td>11</td><td>11</td><td>11</td><td>11</td><td>11</td><td>1</td><td>0</td><td>0</td><td>2024-10-08</td><td>1</td><td>0</td><td>0</td><td>0</td><td>1</td><td>0</td><td>0</td><td>0</td></tr><tr><td>&quot;4d89977d-4734-450c-afa1-07e326…</td><td>935023330069</td><td>591532</td><td>&quot;mumbai&quot;</td><td>2024-10-08 11:41:03.527</td><td>2024-10-08 11:41:04.857</td><td>&quot;india&quot;</td><td>&quot;windows&quot;</td><td>&quot;8bd8b6ab-370f-4b56-b38f-ad221c…</td><td>null</td><td>22217</td><td>&quot;{&#x27;displayname&#x27;: &#x27;all policies …</td><td>2024-10-08 11:41:03.527</td><td>&quot;:all-accounts:widget:render&quot;</td><td>&quot;english&quot;</td><td>&quot;amplitude-ts/2.7.2&quot;</td><td>&quot;chrome&quot;</td><td>2024-10-08 11:41:05.371</td><td>&quot;maharashtra&quot;</td><td>2024-10-08 11:41:04.857</td><td>2024-10-08 11:41:04.859</td><td>1728387662386</td><td>&quot;8038ea38-8ddf-4a1a-825d-8287c0…</td><td>&quot;{&#x27;roles&#x27;: [&#x27;underwriter&#x27;], &#x27;tr…</td><td>&quot;underwriter&quot;</td><td>&quot;false&quot;</td><td>&quot;https://accounts.google.com/&quot;</td><td>null</td><td>&quot;international&quot;</td><td>&quot;account &amp; policy management&quot;</td><td>11</td><td>11</td><td>11</td><td>11</td><td>11</td><td>11</td><td>1</td><td>0</td><td>0</td><td>2024-10-08</td><td>1</td><td>0</td><td>0</td><td>0</td><td>1</td><td>0</td><td>0</td><td>0</td></tr><tr><td>&hellip;</td><td>&hellip;</td><td>&hellip;</td><td>&hellip;</td><td>&hellip;</td><td>&hellip;</td><td>&hellip;</td><td>&hellip;</td><td>&hellip;</td><td>&hellip;</td><td>&hellip;</td><td>&hellip;</td><td>&hellip;</td><td>&hellip;</td><td>&hellip;</td><td>&hellip;</td><td>&hellip;</td><td>&hellip;</td><td>&hellip;</td><td>&hellip;</td><td>&hellip;</td><td>&hellip;</td><td>&hellip;</td><td>&hellip;</td><td>&hellip;</td><td>&hellip;</td><td>&hellip;</td><td>&hellip;</td><td>&hellip;</td><td>&hellip;</td><td>&hellip;</td><td>&hellip;</td><td>&hellip;</td><td>&hellip;</td><td>&hellip;</td><td>&hellip;</td><td>&hellip;</td><td>&hellip;</td><td>&hellip;</td><td>&hellip;</td><td>&hellip;</td><td>&hellip;</td><td>&hellip;</td><td>&hellip;</td><td>&hellip;</td><td>&hellip;</td><td>&hellip;</td><td>&hellip;</td></tr><tr><td>&quot;102ec3ca-a467-41a9-aa19-94f5b0…</td><td>857540480084</td><td>591532</td><td>&quot;nashville&quot;</td><td>2024-05-22 09:36:09.888</td><td>2024-05-22 09:36:10.832</td><td>&quot;united states&quot;</td><td>&quot;windows&quot;</td><td>&quot;a8b357fb-b4fb-45d2-babd-42b470…</td><td>&quot;nashville, tn&quot;</td><td>26</td><td>&quot;{&#x27;displayname&#x27;: &#x27;one drive lin…</td><td>2024-05-22 09:36:09.888</td><td>&quot;account-lines::widget:render&quot;</td><td>&quot;english&quot;</td><td>&quot;amplitude-ts/1.8.0&quot;</td><td>&quot;edge&quot;</td><td>2024-05-22 09:36:11.662</td><td>&quot;tennessee&quot;</td><td>2024-05-22 09:36:10.832</td><td>2024-05-22 09:36:10.833</td><td>1716368557821</td><td>&quot;9aecc15d-64a4-4190-80f5-b5b842…</td><td>&quot;{&#x27;initial_utm_medium&#x27;: &#x27;empty&#x27;…</td><td>&quot;underwriter&quot;</td><td>&quot;false&quot;</td><td>null</td><td>&quot;one-drive-link&quot;</td><td>&quot;south&quot;</td><td>&quot;account &amp; policy management&quot;</td><td>9</td><td>9</td><td>9</td><td>9</td><td>9</td><td>9</td><td>0</td><td>0</td><td>0</td><td>2024-05-22</td><td>1</td><td>0</td><td>0</td><td>0</td><td>null</td><td>null</td><td>null</td><td>null</td></tr><tr><td>&quot;55aec1ce-b876-4f66-b786-fd5706…</td><td>857540480084</td><td>591532</td><td>&quot;nashville&quot;</td><td>2024-05-22 09:36:09.917</td><td>2024-05-22 09:36:10.832</td><td>&quot;united states&quot;</td><td>&quot;windows&quot;</td><td>&quot;a8b357fb-b4fb-45d2-babd-42b470…</td><td>&quot;nashville, tn&quot;</td><td>27</td><td>&quot;{&#x27;rowmodel&#x27;: &#x27;legacyserver&#x27;, &#x27;…</td><td>2024-05-22 09:36:09.917</td><td>&quot;account-lines::configurable-ta…</td><td>&quot;english&quot;</td><td>&quot;amplitude-ts/1.8.0&quot;</td><td>&quot;edge&quot;</td><td>2024-05-22 09:36:11.662</td><td>&quot;tennessee&quot;</td><td>2024-05-22 09:36:10.832</td><td>2024-05-22 09:36:10.833</td><td>1716368557821</td><td>&quot;9aecc15d-64a4-4190-80f5-b5b842…</td><td>&quot;{&#x27;initial_utm_medium&#x27;: &#x27;empty&#x27;…</td><td>&quot;underwriter&quot;</td><td>&quot;false&quot;</td><td>null</td><td>&quot;property-locations&quot;</td><td>&quot;south&quot;</td><td>&quot;account &amp; policy management&quot;</td><td>9</td><td>9</td><td>9</td><td>9</td><td>9</td><td>9</td><td>0</td><td>0</td><td>0</td><td>2024-05-22</td><td>1</td><td>0</td><td>0</td><td>0</td><td>null</td><td>null</td><td>null</td><td>null</td></tr><tr><td>&quot;8cb28e22-0dc3-456c-9956-41d52b…</td><td>857540480084</td><td>591532</td><td>&quot;nashville&quot;</td><td>2024-05-22 09:36:15.727</td><td>2024-05-22 09:36:16.789</td><td>&quot;united states&quot;</td><td>&quot;windows&quot;</td><td>&quot;a8b357fb-b4fb-45d2-babd-42b470…</td><td>&quot;nashville, tn&quot;</td><td>28</td><td>&quot;{&#x27;displayname&#x27;: &#x27;attachments&#x27;,…</td><td>2024-05-22 09:36:15.727</td><td>&quot;account-lines::widget:render&quot;</td><td>&quot;english&quot;</td><td>&quot;amplitude-ts/1.8.0&quot;</td><td>&quot;edge&quot;</td><td>2024-05-22 09:36:17.297</td><td>&quot;tennessee&quot;</td><td>2024-05-22 09:36:16.789</td><td>2024-05-22 09:36:16.791</td><td>1716368557821</td><td>&quot;9aecc15d-64a4-4190-80f5-b5b842…</td><td>&quot;{&#x27;initial_utm_medium&#x27;: &#x27;empty&#x27;…</td><td>&quot;underwriter&quot;</td><td>&quot;false&quot;</td><td>null</td><td>&quot;attachments&quot;</td><td>&quot;south&quot;</td><td>&quot;account &amp; policy management&quot;</td><td>9</td><td>9</td><td>9</td><td>9</td><td>9</td><td>9</td><td>1</td><td>0</td><td>0</td><td>2024-05-22</td><td>1</td><td>0</td><td>0</td><td>0</td><td>null</td><td>null</td><td>null</td><td>null</td></tr><tr><td>&quot;eac4d6a2-2ff0-4e59-80af-aa1b3f…</td><td>857540480084</td><td>591532</td><td>&quot;nashville&quot;</td><td>2024-05-22 09:36:33.812</td><td>2024-05-22 09:36:34.881</td><td>&quot;united states&quot;</td><td>&quot;windows&quot;</td><td>&quot;a8b357fb-b4fb-45d2-babd-42b470…</td><td>&quot;nashville, tn&quot;</td><td>29</td><td>&quot;{}&quot;</td><td>2024-05-22 09:36:33.812</td><td>&quot;::nav-header:action-center-cli…</td><td>&quot;english&quot;</td><td>&quot;amplitude-ts/1.8.0&quot;</td><td>&quot;edge&quot;</td><td>2024-05-22 09:36:36.435</td><td>&quot;tennessee&quot;</td><td>2024-05-22 09:36:34.881</td><td>2024-05-22 09:36:34.883</td><td>1716368557821</td><td>&quot;9aecc15d-64a4-4190-80f5-b5b842…</td><td>&quot;{&#x27;initial_utm_medium&#x27;: &#x27;empty&#x27;…</td><td>&quot;underwriter&quot;</td><td>&quot;false&quot;</td><td>null</td><td>null</td><td>&quot;south&quot;</td><td>&quot;session &amp; navigation&quot;</td><td>9</td><td>9</td><td>9</td><td>9</td><td>9</td><td>9</td><td>1</td><td>0</td><td>1</td><td>2024-05-22</td><td>1</td><td>0</td><td>0</td><td>0</td><td>null</td><td>null</td><td>null</td><td>null</td></tr><tr><td>&quot;bf44b3b7-2b4d-4e20-a18c-65fb63…</td><td>857540480084</td><td>591532</td><td>&quot;nashville&quot;</td><td>2024-05-22 09:36:33.815</td><td>2024-05-22 09:36:34.881</td><td>&quot;united states&quot;</td><td>&quot;windows&quot;</td><td>&quot;a8b357fb-b4fb-45d2-babd-42b470…</td><td>&quot;nashville, tn&quot;</td><td>30</td><td>&quot;{}&quot;</td><td>2024-05-22 09:36:33.815</td><td>&quot;action-center:::view&quot;</td><td>&quot;english&quot;</td><td>&quot;amplitude-ts/1.8.0&quot;</td><td>&quot;edge&quot;</td><td>2024-05-22 09:36:36.435</td><td>&quot;tennessee&quot;</td><td>2024-05-22 09:36:34.881</td><td>2024-05-22 09:36:34.883</td><td>1716368557821</td><td>&quot;9aecc15d-64a4-4190-80f5-b5b842…</td><td>&quot;{&#x27;initial_utm_medium&#x27;: &#x27;empty&#x27;…</td><td>&quot;underwriter&quot;</td><td>&quot;false&quot;</td><td>null</td><td>null</td><td>&quot;south&quot;</td><td>&quot;action center &amp; workflow&quot;</td><td>9</td><td>9</td><td>9</td><td>9</td><td>9</td><td>9</td><td>1</td><td>0</td><td>1</td><td>2024-05-22</td><td>1</td><td>0</td><td>0</td><td>0</td><td>null</td><td>null</td><td>null</td><td>null</td></tr></tbody></table></div>"
      ],
      "text/plain": [
       "shape: (14_119_738, 48)\n",
       "┌──────────────┬──────────────┬────────┬───────────┬───┬────────┬───────────┬──────────┬───────────┐\n",
       "│ $insert_id   ┆ amplitude_id ┆ app    ┆ city      ┆ … ┆ google ┆ microsoft ┆ federato ┆ uw-portal │\n",
       "│ ---          ┆ ---          ┆ ---    ┆ ---       ┆   ┆ ---    ┆ ---       ┆ ---      ┆ ---       │\n",
       "│ str          ┆ i64          ┆ i64    ┆ str       ┆   ┆ i32    ┆ i32       ┆ i32      ┆ i32       │\n",
       "╞══════════════╪══════════════╪════════╪═══════════╪═══╪════════╪═══════════╪══════════╪═══════════╡\n",
       "│ 251db963-662 ┆ 935023330069 ┆ 591532 ┆ mumbai    ┆ … ┆ 1      ┆ 0         ┆ 0        ┆ 0         │\n",
       "│ 3-448e-8665- ┆              ┆        ┆           ┆   ┆        ┆           ┆          ┆           │\n",
       "│ f542b8…      ┆              ┆        ┆           ┆   ┆        ┆           ┆          ┆           │\n",
       "│ 3a95cdac-174 ┆ 935023330069 ┆ 591532 ┆ mumbai    ┆ … ┆ 1      ┆ 0         ┆ 0        ┆ 0         │\n",
       "│ c-4002-8e84- ┆              ┆        ┆           ┆   ┆        ┆           ┆          ┆           │\n",
       "│ 8aeba8…      ┆              ┆        ┆           ┆   ┆        ┆           ┆          ┆           │\n",
       "│ 50dbfad3-8e2 ┆ 935023330069 ┆ 591532 ┆ mumbai    ┆ … ┆ 1      ┆ 0         ┆ 0        ┆ 0         │\n",
       "│ 4-456a-ae68- ┆              ┆        ┆           ┆   ┆        ┆           ┆          ┆           │\n",
       "│ 21b09b…      ┆              ┆        ┆           ┆   ┆        ┆           ┆          ┆           │\n",
       "│ ea0a4143-238 ┆ 935023330069 ┆ 591532 ┆ mumbai    ┆ … ┆ 1      ┆ 0         ┆ 0        ┆ 0         │\n",
       "│ 0-48e7-a83e- ┆              ┆        ┆           ┆   ┆        ┆           ┆          ┆           │\n",
       "│ 8ba854…      ┆              ┆        ┆           ┆   ┆        ┆           ┆          ┆           │\n",
       "│ 4d89977d-473 ┆ 935023330069 ┆ 591532 ┆ mumbai    ┆ … ┆ 1      ┆ 0         ┆ 0        ┆ 0         │\n",
       "│ 4-450c-afa1- ┆              ┆        ┆           ┆   ┆        ┆           ┆          ┆           │\n",
       "│ 07e326…      ┆              ┆        ┆           ┆   ┆        ┆           ┆          ┆           │\n",
       "│ …            ┆ …            ┆ …      ┆ …         ┆ … ┆ …      ┆ …         ┆ …        ┆ …         │\n",
       "│ 102ec3ca-a46 ┆ 857540480084 ┆ 591532 ┆ nashville ┆ … ┆ null   ┆ null      ┆ null     ┆ null      │\n",
       "│ 7-41a9-aa19- ┆              ┆        ┆           ┆   ┆        ┆           ┆          ┆           │\n",
       "│ 94f5b0…      ┆              ┆        ┆           ┆   ┆        ┆           ┆          ┆           │\n",
       "│ 55aec1ce-b87 ┆ 857540480084 ┆ 591532 ┆ nashville ┆ … ┆ null   ┆ null      ┆ null     ┆ null      │\n",
       "│ 6-4f66-b786- ┆              ┆        ┆           ┆   ┆        ┆           ┆          ┆           │\n",
       "│ fd5706…      ┆              ┆        ┆           ┆   ┆        ┆           ┆          ┆           │\n",
       "│ 8cb28e22-0dc ┆ 857540480084 ┆ 591532 ┆ nashville ┆ … ┆ null   ┆ null      ┆ null     ┆ null      │\n",
       "│ 3-456c-9956- ┆              ┆        ┆           ┆   ┆        ┆           ┆          ┆           │\n",
       "│ 41d52b…      ┆              ┆        ┆           ┆   ┆        ┆           ┆          ┆           │\n",
       "│ eac4d6a2-2ff ┆ 857540480084 ┆ 591532 ┆ nashville ┆ … ┆ null   ┆ null      ┆ null     ┆ null      │\n",
       "│ 0-4e59-80af- ┆              ┆        ┆           ┆   ┆        ┆           ┆          ┆           │\n",
       "│ aa1b3f…      ┆              ┆        ┆           ┆   ┆        ┆           ┆          ┆           │\n",
       "│ bf44b3b7-2b4 ┆ 857540480084 ┆ 591532 ┆ nashville ┆ … ┆ null   ┆ null      ┆ null     ┆ null      │\n",
       "│ d-4e20-a18c- ┆              ┆        ┆           ┆   ┆        ┆           ┆          ┆           │\n",
       "│ 65fb63…      ┆              ┆        ┆           ┆   ┆        ┆           ┆          ┆           │\n",
       "└──────────────┴──────────────┴────────┴───────────┴───┴────────┴───────────┴──────────┴───────────┘"
      ]
     },
     "execution_count": 19,
     "metadata": {},
     "output_type": "execute_result"
    }
   ],
   "source": [
    "# Extract brand from referrer, which can contain multiple referrers\n",
    "df = df.with_columns([\n",
    "        pl.col('referrer').str.contains('google').alias('google').cast(pl.Int32),\n",
    "        pl.col('referrer').str.contains('microsoft|teams|office').alias('microsoft').cast(pl.Int32),\n",
    "        pl.col('referrer').str.contains('federato').alias('federato').cast(pl.Int32),\n",
    "        pl.col('referrer').str.contains('portal').alias('uw-portal').cast(pl.Int32),\n",
    "    ])\n",
    "df"
   ]
  },
  {
   "cell_type": "markdown",
   "metadata": {},
   "source": [
    "### Drop More Columns\n",
    "\n",
    "Having done most of our aggregation and feature engineering, we can now drop them from our data"
   ]
  },
  {
   "cell_type": "code",
   "execution_count": 20,
   "metadata": {},
   "outputs": [
    {
     "data": {
      "text/html": [
       "<div><style>\n",
       ".dataframe > thead > tr,\n",
       ".dataframe > tbody > tr {\n",
       "  text-align: right;\n",
       "  white-space: pre-wrap;\n",
       "}\n",
       "</style>\n",
       "<small>shape: (14_119_738, 38)</small><table border=\"1\" class=\"dataframe\"><thead><tr><th>client_event_time</th><th>client_upload_time</th><th>country</th><th>device_family</th><th>dma</th><th>event_time</th><th>event_type</th><th>library</th><th>processed_time</th><th>region</th><th>server_received_time</th><th>server_upload_time</th><th>session_id</th><th>user_id</th><th>roles</th><th>isInternalUser</th><th>referrer</th><th>slug</th><th>region_grouped</th><th>event_category</th><th>client_event_hour</th><th>client_upload_hour</th><th>event_hour</th><th>processed_hour</th><th>server_received_hour</th><th>server_upload_hour</th><th>time_to_server</th><th>server_to_process</th><th>processing_time</th><th>client_event_datetime</th><th>uw</th><th>admin</th><th>manager</th><th>broker</th><th>google</th><th>microsoft</th><th>federato</th><th>uw-portal</th></tr><tr><td>datetime[μs]</td><td>datetime[μs]</td><td>str</td><td>str</td><td>str</td><td>datetime[μs]</td><td>str</td><td>str</td><td>datetime[μs]</td><td>str</td><td>datetime[μs]</td><td>datetime[μs]</td><td>i64</td><td>str</td><td>str</td><td>str</td><td>str</td><td>str</td><td>str</td><td>str</td><td>i8</td><td>i8</td><td>i8</td><td>i8</td><td>i8</td><td>i8</td><td>i64</td><td>i64</td><td>i64</td><td>date</td><td>i8</td><td>i8</td><td>i8</td><td>i8</td><td>i32</td><td>i32</td><td>i32</td><td>i32</td></tr></thead><tbody><tr><td>2024-10-08 11:41:02.385</td><td>2024-10-08 11:41:04.857</td><td>&quot;india&quot;</td><td>&quot;windows&quot;</td><td>null</td><td>2024-10-08 11:41:02.385</td><td>&quot;session_start&quot;</td><td>&quot;amplitude-ts/2.7.2&quot;</td><td>2024-10-08 11:41:05.371</td><td>&quot;maharashtra&quot;</td><td>2024-10-08 11:41:04.857</td><td>2024-10-08 11:41:04.859</td><td>1728387662385</td><td>&quot;8038ea38-8ddf-4a1a-825d-8287c0…</td><td>&quot;underwriter&quot;</td><td>&quot;false&quot;</td><td>&quot;https://accounts.google.com/&quot;</td><td>null</td><td>&quot;international&quot;</td><td>&quot;session &amp; navigation&quot;</td><td>11</td><td>11</td><td>11</td><td>11</td><td>11</td><td>11</td><td>2</td><td>0</td><td>0</td><td>2024-10-08</td><td>1</td><td>0</td><td>0</td><td>0</td><td>1</td><td>0</td><td>0</td><td>0</td></tr><tr><td>2024-10-08 11:41:02.386</td><td>2024-10-08 11:41:04.857</td><td>&quot;india&quot;</td><td>&quot;windows&quot;</td><td>null</td><td>2024-10-08 11:41:02.386</td><td>&quot;session_end&quot;</td><td>&quot;amplitude-ts/2.7.2&quot;</td><td>2024-10-08 11:41:05.371</td><td>&quot;maharashtra&quot;</td><td>2024-10-08 11:41:04.857</td><td>2024-10-08 11:41:04.859</td><td>1728387662385</td><td>&quot;8038ea38-8ddf-4a1a-825d-8287c0…</td><td>&quot;underwriter&quot;</td><td>&quot;false&quot;</td><td>&quot;https://accounts.google.com/&quot;</td><td>null</td><td>&quot;international&quot;</td><td>&quot;session &amp; navigation&quot;</td><td>11</td><td>11</td><td>11</td><td>11</td><td>11</td><td>11</td><td>2</td><td>0</td><td>0</td><td>2024-10-08</td><td>1</td><td>0</td><td>0</td><td>0</td><td>1</td><td>0</td><td>0</td><td>0</td></tr><tr><td>2024-10-08 11:41:02.386</td><td>2024-10-08 11:41:04.857</td><td>&quot;india&quot;</td><td>&quot;windows&quot;</td><td>null</td><td>2024-10-08 11:41:02.386</td><td>&quot;session_start&quot;</td><td>&quot;amplitude-ts/2.7.2&quot;</td><td>2024-10-08 11:41:05.371</td><td>&quot;maharashtra&quot;</td><td>2024-10-08 11:41:04.857</td><td>2024-10-08 11:41:04.859</td><td>1728387662386</td><td>&quot;8038ea38-8ddf-4a1a-825d-8287c0…</td><td>&quot;underwriter&quot;</td><td>&quot;false&quot;</td><td>&quot;https://accounts.google.com/&quot;</td><td>null</td><td>&quot;international&quot;</td><td>&quot;session &amp; navigation&quot;</td><td>11</td><td>11</td><td>11</td><td>11</td><td>11</td><td>11</td><td>2</td><td>0</td><td>0</td><td>2024-10-08</td><td>1</td><td>0</td><td>0</td><td>0</td><td>1</td><td>0</td><td>0</td><td>0</td></tr><tr><td>2024-10-08 11:41:03.500</td><td>2024-10-08 11:41:04.857</td><td>&quot;india&quot;</td><td>&quot;windows&quot;</td><td>null</td><td>2024-10-08 11:41:03.500</td><td>&quot;:all-accounts:configurable-tab…</td><td>&quot;amplitude-ts/2.7.2&quot;</td><td>2024-10-08 11:41:05.371</td><td>&quot;maharashtra&quot;</td><td>2024-10-08 11:41:04.857</td><td>2024-10-08 11:41:04.859</td><td>1728387662386</td><td>&quot;8038ea38-8ddf-4a1a-825d-8287c0…</td><td>&quot;underwriter&quot;</td><td>&quot;false&quot;</td><td>&quot;https://accounts.google.com/&quot;</td><td>null</td><td>&quot;international&quot;</td><td>&quot;account &amp; policy management&quot;</td><td>11</td><td>11</td><td>11</td><td>11</td><td>11</td><td>11</td><td>1</td><td>0</td><td>0</td><td>2024-10-08</td><td>1</td><td>0</td><td>0</td><td>0</td><td>1</td><td>0</td><td>0</td><td>0</td></tr><tr><td>2024-10-08 11:41:03.527</td><td>2024-10-08 11:41:04.857</td><td>&quot;india&quot;</td><td>&quot;windows&quot;</td><td>null</td><td>2024-10-08 11:41:03.527</td><td>&quot;:all-accounts:widget:render&quot;</td><td>&quot;amplitude-ts/2.7.2&quot;</td><td>2024-10-08 11:41:05.371</td><td>&quot;maharashtra&quot;</td><td>2024-10-08 11:41:04.857</td><td>2024-10-08 11:41:04.859</td><td>1728387662386</td><td>&quot;8038ea38-8ddf-4a1a-825d-8287c0…</td><td>&quot;underwriter&quot;</td><td>&quot;false&quot;</td><td>&quot;https://accounts.google.com/&quot;</td><td>null</td><td>&quot;international&quot;</td><td>&quot;account &amp; policy management&quot;</td><td>11</td><td>11</td><td>11</td><td>11</td><td>11</td><td>11</td><td>1</td><td>0</td><td>0</td><td>2024-10-08</td><td>1</td><td>0</td><td>0</td><td>0</td><td>1</td><td>0</td><td>0</td><td>0</td></tr><tr><td>&hellip;</td><td>&hellip;</td><td>&hellip;</td><td>&hellip;</td><td>&hellip;</td><td>&hellip;</td><td>&hellip;</td><td>&hellip;</td><td>&hellip;</td><td>&hellip;</td><td>&hellip;</td><td>&hellip;</td><td>&hellip;</td><td>&hellip;</td><td>&hellip;</td><td>&hellip;</td><td>&hellip;</td><td>&hellip;</td><td>&hellip;</td><td>&hellip;</td><td>&hellip;</td><td>&hellip;</td><td>&hellip;</td><td>&hellip;</td><td>&hellip;</td><td>&hellip;</td><td>&hellip;</td><td>&hellip;</td><td>&hellip;</td><td>&hellip;</td><td>&hellip;</td><td>&hellip;</td><td>&hellip;</td><td>&hellip;</td><td>&hellip;</td><td>&hellip;</td><td>&hellip;</td><td>&hellip;</td></tr><tr><td>2024-05-22 09:36:09.888</td><td>2024-05-22 09:36:10.832</td><td>&quot;united states&quot;</td><td>&quot;windows&quot;</td><td>&quot;nashville, tn&quot;</td><td>2024-05-22 09:36:09.888</td><td>&quot;account-lines::widget:render&quot;</td><td>&quot;amplitude-ts/1.8.0&quot;</td><td>2024-05-22 09:36:11.662</td><td>&quot;tennessee&quot;</td><td>2024-05-22 09:36:10.832</td><td>2024-05-22 09:36:10.833</td><td>1716368557821</td><td>&quot;9aecc15d-64a4-4190-80f5-b5b842…</td><td>&quot;underwriter&quot;</td><td>&quot;false&quot;</td><td>null</td><td>&quot;one-drive-link&quot;</td><td>&quot;south&quot;</td><td>&quot;account &amp; policy management&quot;</td><td>9</td><td>9</td><td>9</td><td>9</td><td>9</td><td>9</td><td>0</td><td>0</td><td>0</td><td>2024-05-22</td><td>1</td><td>0</td><td>0</td><td>0</td><td>null</td><td>null</td><td>null</td><td>null</td></tr><tr><td>2024-05-22 09:36:09.917</td><td>2024-05-22 09:36:10.832</td><td>&quot;united states&quot;</td><td>&quot;windows&quot;</td><td>&quot;nashville, tn&quot;</td><td>2024-05-22 09:36:09.917</td><td>&quot;account-lines::configurable-ta…</td><td>&quot;amplitude-ts/1.8.0&quot;</td><td>2024-05-22 09:36:11.662</td><td>&quot;tennessee&quot;</td><td>2024-05-22 09:36:10.832</td><td>2024-05-22 09:36:10.833</td><td>1716368557821</td><td>&quot;9aecc15d-64a4-4190-80f5-b5b842…</td><td>&quot;underwriter&quot;</td><td>&quot;false&quot;</td><td>null</td><td>&quot;property-locations&quot;</td><td>&quot;south&quot;</td><td>&quot;account &amp; policy management&quot;</td><td>9</td><td>9</td><td>9</td><td>9</td><td>9</td><td>9</td><td>0</td><td>0</td><td>0</td><td>2024-05-22</td><td>1</td><td>0</td><td>0</td><td>0</td><td>null</td><td>null</td><td>null</td><td>null</td></tr><tr><td>2024-05-22 09:36:15.727</td><td>2024-05-22 09:36:16.789</td><td>&quot;united states&quot;</td><td>&quot;windows&quot;</td><td>&quot;nashville, tn&quot;</td><td>2024-05-22 09:36:15.727</td><td>&quot;account-lines::widget:render&quot;</td><td>&quot;amplitude-ts/1.8.0&quot;</td><td>2024-05-22 09:36:17.297</td><td>&quot;tennessee&quot;</td><td>2024-05-22 09:36:16.789</td><td>2024-05-22 09:36:16.791</td><td>1716368557821</td><td>&quot;9aecc15d-64a4-4190-80f5-b5b842…</td><td>&quot;underwriter&quot;</td><td>&quot;false&quot;</td><td>null</td><td>&quot;attachments&quot;</td><td>&quot;south&quot;</td><td>&quot;account &amp; policy management&quot;</td><td>9</td><td>9</td><td>9</td><td>9</td><td>9</td><td>9</td><td>1</td><td>0</td><td>0</td><td>2024-05-22</td><td>1</td><td>0</td><td>0</td><td>0</td><td>null</td><td>null</td><td>null</td><td>null</td></tr><tr><td>2024-05-22 09:36:33.812</td><td>2024-05-22 09:36:34.881</td><td>&quot;united states&quot;</td><td>&quot;windows&quot;</td><td>&quot;nashville, tn&quot;</td><td>2024-05-22 09:36:33.812</td><td>&quot;::nav-header:action-center-cli…</td><td>&quot;amplitude-ts/1.8.0&quot;</td><td>2024-05-22 09:36:36.435</td><td>&quot;tennessee&quot;</td><td>2024-05-22 09:36:34.881</td><td>2024-05-22 09:36:34.883</td><td>1716368557821</td><td>&quot;9aecc15d-64a4-4190-80f5-b5b842…</td><td>&quot;underwriter&quot;</td><td>&quot;false&quot;</td><td>null</td><td>null</td><td>&quot;south&quot;</td><td>&quot;session &amp; navigation&quot;</td><td>9</td><td>9</td><td>9</td><td>9</td><td>9</td><td>9</td><td>1</td><td>0</td><td>1</td><td>2024-05-22</td><td>1</td><td>0</td><td>0</td><td>0</td><td>null</td><td>null</td><td>null</td><td>null</td></tr><tr><td>2024-05-22 09:36:33.815</td><td>2024-05-22 09:36:34.881</td><td>&quot;united states&quot;</td><td>&quot;windows&quot;</td><td>&quot;nashville, tn&quot;</td><td>2024-05-22 09:36:33.815</td><td>&quot;action-center:::view&quot;</td><td>&quot;amplitude-ts/1.8.0&quot;</td><td>2024-05-22 09:36:36.435</td><td>&quot;tennessee&quot;</td><td>2024-05-22 09:36:34.881</td><td>2024-05-22 09:36:34.883</td><td>1716368557821</td><td>&quot;9aecc15d-64a4-4190-80f5-b5b842…</td><td>&quot;underwriter&quot;</td><td>&quot;false&quot;</td><td>null</td><td>null</td><td>&quot;south&quot;</td><td>&quot;action center &amp; workflow&quot;</td><td>9</td><td>9</td><td>9</td><td>9</td><td>9</td><td>9</td><td>1</td><td>0</td><td>1</td><td>2024-05-22</td><td>1</td><td>0</td><td>0</td><td>0</td><td>null</td><td>null</td><td>null</td><td>null</td></tr></tbody></table></div>"
      ],
      "text/plain": [
       "shape: (14_119_738, 38)\n",
       "┌────────────┬────────────┬────────────┬───────────┬───┬────────┬───────────┬──────────┬───────────┐\n",
       "│ client_eve ┆ client_upl ┆ country    ┆ device_fa ┆ … ┆ google ┆ microsoft ┆ federato ┆ uw-portal │\n",
       "│ nt_time    ┆ oad_time   ┆ ---        ┆ mily      ┆   ┆ ---    ┆ ---       ┆ ---      ┆ ---       │\n",
       "│ ---        ┆ ---        ┆ str        ┆ ---       ┆   ┆ i32    ┆ i32       ┆ i32      ┆ i32       │\n",
       "│ datetime[μ ┆ datetime[μ ┆            ┆ str       ┆   ┆        ┆           ┆          ┆           │\n",
       "│ s]         ┆ s]         ┆            ┆           ┆   ┆        ┆           ┆          ┆           │\n",
       "╞════════════╪════════════╪════════════╪═══════════╪═══╪════════╪═══════════╪══════════╪═══════════╡\n",
       "│ 2024-10-08 ┆ 2024-10-08 ┆ india      ┆ windows   ┆ … ┆ 1      ┆ 0         ┆ 0        ┆ 0         │\n",
       "│ 11:41:02.3 ┆ 11:41:04.8 ┆            ┆           ┆   ┆        ┆           ┆          ┆           │\n",
       "│ 85         ┆ 57         ┆            ┆           ┆   ┆        ┆           ┆          ┆           │\n",
       "│ 2024-10-08 ┆ 2024-10-08 ┆ india      ┆ windows   ┆ … ┆ 1      ┆ 0         ┆ 0        ┆ 0         │\n",
       "│ 11:41:02.3 ┆ 11:41:04.8 ┆            ┆           ┆   ┆        ┆           ┆          ┆           │\n",
       "│ 86         ┆ 57         ┆            ┆           ┆   ┆        ┆           ┆          ┆           │\n",
       "│ 2024-10-08 ┆ 2024-10-08 ┆ india      ┆ windows   ┆ … ┆ 1      ┆ 0         ┆ 0        ┆ 0         │\n",
       "│ 11:41:02.3 ┆ 11:41:04.8 ┆            ┆           ┆   ┆        ┆           ┆          ┆           │\n",
       "│ 86         ┆ 57         ┆            ┆           ┆   ┆        ┆           ┆          ┆           │\n",
       "│ 2024-10-08 ┆ 2024-10-08 ┆ india      ┆ windows   ┆ … ┆ 1      ┆ 0         ┆ 0        ┆ 0         │\n",
       "│ 11:41:03.5 ┆ 11:41:04.8 ┆            ┆           ┆   ┆        ┆           ┆          ┆           │\n",
       "│ 00         ┆ 57         ┆            ┆           ┆   ┆        ┆           ┆          ┆           │\n",
       "│ 2024-10-08 ┆ 2024-10-08 ┆ india      ┆ windows   ┆ … ┆ 1      ┆ 0         ┆ 0        ┆ 0         │\n",
       "│ 11:41:03.5 ┆ 11:41:04.8 ┆            ┆           ┆   ┆        ┆           ┆          ┆           │\n",
       "│ 27         ┆ 57         ┆            ┆           ┆   ┆        ┆           ┆          ┆           │\n",
       "│ …          ┆ …          ┆ …          ┆ …         ┆ … ┆ …      ┆ …         ┆ …        ┆ …         │\n",
       "│ 2024-05-22 ┆ 2024-05-22 ┆ united     ┆ windows   ┆ … ┆ null   ┆ null      ┆ null     ┆ null      │\n",
       "│ 09:36:09.8 ┆ 09:36:10.8 ┆ states     ┆           ┆   ┆        ┆           ┆          ┆           │\n",
       "│ 88         ┆ 32         ┆            ┆           ┆   ┆        ┆           ┆          ┆           │\n",
       "│ 2024-05-22 ┆ 2024-05-22 ┆ united     ┆ windows   ┆ … ┆ null   ┆ null      ┆ null     ┆ null      │\n",
       "│ 09:36:09.9 ┆ 09:36:10.8 ┆ states     ┆           ┆   ┆        ┆           ┆          ┆           │\n",
       "│ 17         ┆ 32         ┆            ┆           ┆   ┆        ┆           ┆          ┆           │\n",
       "│ 2024-05-22 ┆ 2024-05-22 ┆ united     ┆ windows   ┆ … ┆ null   ┆ null      ┆ null     ┆ null      │\n",
       "│ 09:36:15.7 ┆ 09:36:16.7 ┆ states     ┆           ┆   ┆        ┆           ┆          ┆           │\n",
       "│ 27         ┆ 89         ┆            ┆           ┆   ┆        ┆           ┆          ┆           │\n",
       "│ 2024-05-22 ┆ 2024-05-22 ┆ united     ┆ windows   ┆ … ┆ null   ┆ null      ┆ null     ┆ null      │\n",
       "│ 09:36:33.8 ┆ 09:36:34.8 ┆ states     ┆           ┆   ┆        ┆           ┆          ┆           │\n",
       "│ 12         ┆ 81         ┆            ┆           ┆   ┆        ┆           ┆          ┆           │\n",
       "│ 2024-05-22 ┆ 2024-05-22 ┆ united     ┆ windows   ┆ … ┆ null   ┆ null      ┆ null     ┆ null      │\n",
       "│ 09:36:33.8 ┆ 09:36:34.8 ┆ states     ┆           ┆   ┆        ┆           ┆          ┆           │\n",
       "│ 15         ┆ 81         ┆            ┆           ┆   ┆        ┆           ┆          ┆           │\n",
       "└────────────┴────────────┴────────────┴───────────┴───┴────────┴───────────┴──────────┴───────────┘"
      ]
     },
     "execution_count": 20,
     "metadata": {},
     "output_type": "execute_result"
    }
   ],
   "source": [
    "# Drop pre-aggregate columns\n",
    "df = drop_columns(df, config, 1)\n",
    "df"
   ]
  },
  {
   "cell_type": "markdown",
   "metadata": {},
   "source": [
    "### Apply One-Hot Encoding\n",
    "\n",
    "For the rest of our categorical columns with low dimensionality, we will one-hot encode them using our preprocessing functions"
   ]
  },
  {
   "cell_type": "code",
   "execution_count": null,
   "metadata": {},
   "outputs": [
    {
     "data": {
      "text/html": [
       "<div><style>\n",
       ".dataframe > thead > tr,\n",
       ".dataframe > tbody > tr {\n",
       "  text-align: right;\n",
       "  white-space: pre-wrap;\n",
       "}\n",
       "</style>\n",
       "<small>shape: (11_694_655, 62)</small><table border=\"1\" class=\"dataframe\"><thead><tr><th>client_event_time</th><th>client_upload_time</th><th>country</th><th>device_family_android</th><th>device_family_apple ipad</th><th>device_family_apple iphone</th><th>device_family_chrome os</th><th>device_family_chromium os</th><th>device_family_google nexus phone</th><th>device_family_ios</th><th>device_family_k</th><th>device_family_linux</th><th>device_family_mac</th><th>device_family_mac os x</th><th>device_family_ubuntu</th><th>device_family_windows</th><th>dma</th><th>event_time</th><th>event_type</th><th>library</th><th>processed_time</th><th>region</th><th>server_received_time</th><th>server_upload_time</th><th>session_id</th><th>user_id</th><th>roles</th><th>isInternalUser</th><th>referrer</th><th>slug</th><th>region_grouped_international</th><th>region_grouped_midwest</th><th>region_grouped_northeast</th><th>region_grouped_south</th><th>region_grouped_west</th><th>event_category_account &amp; policy management</th><th>event_category_action center &amp; workflow</th><th>event_category_dashboard &amp; ui interactions</th><th>event_category_document &amp; report interactions</th><th>event_category_filtering &amp; searching</th><th>event_category_null</th><th>event_category_other/system events</th><th>event_category_session &amp; navigation</th><th>event_category_submission &amp; forms</th><th>client_event_hour</th><th>client_upload_hour</th><th>event_hour</th><th>processed_hour</th><th>server_received_hour</th><th>server_upload_hour</th><th>time_to_server</th><th>server_to_process</th><th>processing_time</th><th>client_event_datetime</th><th>uw</th><th>admin</th><th>manager</th><th>broker</th><th>google</th><th>microsoft</th><th>federato</th><th>uw-portal</th></tr><tr><td>datetime[μs]</td><td>datetime[μs]</td><td>str</td><td>u8</td><td>u8</td><td>u8</td><td>u8</td><td>u8</td><td>u8</td><td>u8</td><td>u8</td><td>u8</td><td>u8</td><td>u8</td><td>u8</td><td>u8</td><td>str</td><td>datetime[μs]</td><td>str</td><td>str</td><td>datetime[μs]</td><td>str</td><td>datetime[μs]</td><td>datetime[μs]</td><td>i64</td><td>str</td><td>str</td><td>str</td><td>str</td><td>str</td><td>u8</td><td>u8</td><td>u8</td><td>u8</td><td>u8</td><td>u8</td><td>u8</td><td>u8</td><td>u8</td><td>u8</td><td>u8</td><td>u8</td><td>u8</td><td>u8</td><td>i8</td><td>i8</td><td>i8</td><td>i8</td><td>i8</td><td>i8</td><td>i64</td><td>i64</td><td>i64</td><td>date</td><td>i8</td><td>i8</td><td>i8</td><td>i8</td><td>i32</td><td>i32</td><td>i32</td><td>i32</td></tr></thead><tbody><tr><td>2025-01-06 21:10:35.099</td><td>2025-01-06 21:10:37.723</td><td>&quot;united states&quot;</td><td>0</td><td>0</td><td>0</td><td>0</td><td>0</td><td>0</td><td>0</td><td>0</td><td>0</td><td>0</td><td>1</td><td>0</td><td>0</td><td>&quot;greenville-spartanburg, sc&quot;</td><td>2025-01-06 21:10:35.099</td><td>&quot;account-lines:::view&quot;</td><td>&quot;amplitude-ts/2.7.2&quot;</td><td>2025-01-06 21:10:39.275</td><td>&quot;south carolina&quot;</td><td>2025-01-06 21:10:37.723</td><td>2025-01-06 21:10:37.726</td><td>1736197836023</td><td>&quot;57ac3fc1-363b-4f0d-8802-e9cc93…</td><td>&quot;underwriter,manager,nf-underwr…</td><td>&quot;false&quot;</td><td>null</td><td>null</td><td>0</td><td>0</td><td>0</td><td>1</td><td>0</td><td>1</td><td>0</td><td>0</td><td>0</td><td>0</td><td>0</td><td>0</td><td>0</td><td>0</td><td>21</td><td>21</td><td>21</td><td>21</td><td>21</td><td>21</td><td>2</td><td>0</td><td>1</td><td>2025-01-06</td><td>1</td><td>0</td><td>1</td><td>0</td><td>null</td><td>null</td><td>null</td><td>null</td></tr><tr><td>2024-12-04 18:30:34.023</td><td>2024-12-04 18:30:35.093</td><td>&quot;united states&quot;</td><td>0</td><td>0</td><td>0</td><td>0</td><td>0</td><td>0</td><td>0</td><td>0</td><td>0</td><td>0</td><td>0</td><td>0</td><td>1</td><td>&quot;phoenix, az&quot;</td><td>2024-12-04 18:30:34.023</td><td>&quot;dashboard:my-book:configurable…</td><td>&quot;amplitude-ts/2.7.2&quot;</td><td>2024-12-04 18:30:36.149</td><td>&quot;arizona&quot;</td><td>2024-12-04 18:30:35.093</td><td>2024-12-04 18:30:35.095</td><td>1733337033485</td><td>&quot;6e1b78be-1556-4893-9515-ee6af0…</td><td>&quot;underwriter&quot;</td><td>&quot;false&quot;</td><td>&quot;https://login.microsoftonline.…</td><td>&quot;actions-v2&quot;</td><td>0</td><td>0</td><td>0</td><td>0</td><td>1</td><td>0</td><td>0</td><td>0</td><td>0</td><td>0</td><td>0</td><td>0</td><td>1</td><td>0</td><td>18</td><td>18</td><td>18</td><td>18</td><td>18</td><td>18</td><td>1</td><td>0</td><td>1</td><td>2024-12-04</td><td>1</td><td>0</td><td>0</td><td>0</td><td>0</td><td>1</td><td>0</td><td>0</td></tr><tr><td>2024-05-29 18:36:29.237</td><td>2024-05-29 18:36:30.054</td><td>&quot;united states&quot;</td><td>0</td><td>0</td><td>0</td><td>0</td><td>0</td><td>0</td><td>0</td><td>0</td><td>0</td><td>0</td><td>0</td><td>0</td><td>1</td><td>&quot;hartford &amp; new haven, ct&quot;</td><td>2024-05-29 18:36:29.237</td><td>&quot;dashboard:my-book:configurable…</td><td>&quot;amplitude-ts/1.8.0&quot;</td><td>2024-05-29 18:36:31.362</td><td>&quot;connecticut&quot;</td><td>2024-05-29 18:36:30.054</td><td>2024-05-29 18:36:30.057</td><td>1717007547069</td><td>&quot;ffefb3fc-7c7f-41fa-9ce7-fcf12e…</td><td>&quot;underwriter&quot;</td><td>&quot;false&quot;</td><td>null</td><td>&quot;recent-actions&quot;</td><td>0</td><td>0</td><td>1</td><td>0</td><td>0</td><td>0</td><td>0</td><td>0</td><td>0</td><td>0</td><td>0</td><td>0</td><td>1</td><td>0</td><td>18</td><td>18</td><td>18</td><td>18</td><td>18</td><td>18</td><td>0</td><td>0</td><td>1</td><td>2024-05-29</td><td>1</td><td>0</td><td>0</td><td>0</td><td>null</td><td>null</td><td>null</td><td>null</td></tr><tr><td>2024-10-02 14:37:15.293</td><td>2024-10-02 14:37:16.564</td><td>&quot;united states&quot;</td><td>0</td><td>0</td><td>0</td><td>0</td><td>0</td><td>0</td><td>0</td><td>0</td><td>0</td><td>0</td><td>1</td><td>0</td><td>0</td><td>&quot;greenville-spartanburg, sc&quot;</td><td>2024-10-02 14:37:15.293</td><td>&quot;account-lines::widget:render&quot;</td><td>&quot;amplitude-ts/2.7.2&quot;</td><td>2024-10-02 14:37:17.514</td><td>&quot;south carolina&quot;</td><td>2024-10-02 14:37:16.564</td><td>2024-10-02 14:37:16.566</td><td>1727877842052</td><td>&quot;0f1c0974-bc16-43a7-a0ec-d4d2d5…</td><td>&quot;ua,underwriter&quot;</td><td>&quot;false&quot;</td><td>null</td><td>&quot;documents-and-compliance-table&quot;</td><td>0</td><td>0</td><td>0</td><td>1</td><td>0</td><td>1</td><td>0</td><td>0</td><td>0</td><td>0</td><td>0</td><td>0</td><td>0</td><td>0</td><td>14</td><td>14</td><td>14</td><td>14</td><td>14</td><td>14</td><td>1</td><td>0</td><td>0</td><td>2024-10-02</td><td>1</td><td>0</td><td>0</td><td>0</td><td>null</td><td>null</td><td>null</td><td>null</td></tr><tr><td>2024-09-26 12:56:45.148</td><td>2024-09-26 12:56:46.277</td><td>&quot;india&quot;</td><td>0</td><td>0</td><td>0</td><td>0</td><td>0</td><td>0</td><td>0</td><td>0</td><td>0</td><td>0</td><td>0</td><td>0</td><td>1</td><td>null</td><td>2024-09-26 12:56:45.148</td><td>&quot;submissions:all-policy:configu…</td><td>&quot;amplitude-ts/2.7.2&quot;</td><td>2024-09-26 12:56:48.662</td><td>&quot;maharashtra&quot;</td><td>2024-09-26 12:56:46.277</td><td>2024-09-26 12:56:46.279</td><td>1727353043590</td><td>&quot;b6071cc4-c091-4de4-82b1-722eff…</td><td>&quot;underwriter&quot;</td><td>&quot;false&quot;</td><td>null</td><td>&quot;submission-history&quot;</td><td>1</td><td>0</td><td>0</td><td>0</td><td>0</td><td>1</td><td>0</td><td>0</td><td>0</td><td>0</td><td>0</td><td>0</td><td>0</td><td>0</td><td>12</td><td>12</td><td>12</td><td>12</td><td>12</td><td>12</td><td>1</td><td>0</td><td>2</td><td>2024-09-26</td><td>1</td><td>0</td><td>0</td><td>0</td><td>null</td><td>null</td><td>null</td><td>null</td></tr><tr><td>&hellip;</td><td>&hellip;</td><td>&hellip;</td><td>&hellip;</td><td>&hellip;</td><td>&hellip;</td><td>&hellip;</td><td>&hellip;</td><td>&hellip;</td><td>&hellip;</td><td>&hellip;</td><td>&hellip;</td><td>&hellip;</td><td>&hellip;</td><td>&hellip;</td><td>&hellip;</td><td>&hellip;</td><td>&hellip;</td><td>&hellip;</td><td>&hellip;</td><td>&hellip;</td><td>&hellip;</td><td>&hellip;</td><td>&hellip;</td><td>&hellip;</td><td>&hellip;</td><td>&hellip;</td><td>&hellip;</td><td>&hellip;</td><td>&hellip;</td><td>&hellip;</td><td>&hellip;</td><td>&hellip;</td><td>&hellip;</td><td>&hellip;</td><td>&hellip;</td><td>&hellip;</td><td>&hellip;</td><td>&hellip;</td><td>&hellip;</td><td>&hellip;</td><td>&hellip;</td><td>&hellip;</td><td>&hellip;</td><td>&hellip;</td><td>&hellip;</td><td>&hellip;</td><td>&hellip;</td><td>&hellip;</td><td>&hellip;</td><td>&hellip;</td><td>&hellip;</td><td>&hellip;</td><td>&hellip;</td><td>&hellip;</td><td>&hellip;</td><td>&hellip;</td><td>&hellip;</td><td>&hellip;</td><td>&hellip;</td><td>&hellip;</td><td>&hellip;</td></tr><tr><td>2024-05-31 20:12:51.490</td><td>2024-05-31 20:12:52.821</td><td>&quot;united states&quot;</td><td>0</td><td>0</td><td>0</td><td>0</td><td>0</td><td>0</td><td>0</td><td>0</td><td>0</td><td>0</td><td>1</td><td>0</td><td>0</td><td>&quot;houston, tx&quot;</td><td>2024-05-31 20:12:51.490</td><td>&quot;dashboard:my-book:widget:rende…</td><td>&quot;amplitude-ts/2.7.2&quot;</td><td>2024-05-31 20:12:54.999</td><td>&quot;texas&quot;</td><td>2024-05-31 20:12:52.821</td><td>2024-05-31 20:12:52.823</td><td>1717186371457</td><td>&quot;6cd4ff43-3226-4bbf-8203-5d0147…</td><td>&quot;underwriter&quot;</td><td>&quot;false&quot;</td><td>null</td><td>&quot;all-policies-table&quot;</td><td>0</td><td>0</td><td>0</td><td>1</td><td>0</td><td>0</td><td>0</td><td>0</td><td>0</td><td>0</td><td>0</td><td>0</td><td>1</td><td>0</td><td>20</td><td>20</td><td>20</td><td>20</td><td>20</td><td>20</td><td>1</td><td>0</td><td>2</td><td>2024-05-31</td><td>1</td><td>0</td><td>0</td><td>0</td><td>null</td><td>null</td><td>null</td><td>null</td></tr><tr><td>2024-12-09 07:00:53.729</td><td>2024-12-09 07:00:54.838</td><td>&quot;india&quot;</td><td>0</td><td>0</td><td>0</td><td>0</td><td>0</td><td>0</td><td>0</td><td>0</td><td>0</td><td>0</td><td>0</td><td>0</td><td>1</td><td>null</td><td>2024-12-09 07:00:53.729</td><td>&quot;action-center:::view&quot;</td><td>&quot;amplitude-ts/2.7.2&quot;</td><td>2024-12-09 07:00:55.595</td><td>&quot;maharashtra&quot;</td><td>2024-12-09 07:00:54.838</td><td>2024-12-09 07:00:54.841</td><td>1733723220473</td><td>&quot;6066f244-0707-4e85-9fc5-70e6fe…</td><td>&quot;underwriter&quot;</td><td>&quot;false&quot;</td><td>null</td><td>null</td><td>1</td><td>0</td><td>0</td><td>0</td><td>0</td><td>0</td><td>1</td><td>0</td><td>0</td><td>0</td><td>0</td><td>0</td><td>0</td><td>0</td><td>7</td><td>7</td><td>7</td><td>7</td><td>7</td><td>7</td><td>1</td><td>0</td><td>0</td><td>2024-12-09</td><td>1</td><td>0</td><td>0</td><td>0</td><td>null</td><td>null</td><td>null</td><td>null</td></tr><tr><td>2024-11-07 21:03:41.308</td><td>2024-11-07 21:03:42.046</td><td>&quot;united states&quot;</td><td>0</td><td>0</td><td>0</td><td>0</td><td>0</td><td>0</td><td>0</td><td>0</td><td>0</td><td>0</td><td>0</td><td>0</td><td>1</td><td>&quot;birmingham, al&quot;</td><td>2024-11-07 21:03:41.308</td><td>&quot;session_start&quot;</td><td>&quot;amplitude-ts/2.7.2&quot;</td><td>2024-11-07 21:03:43.472</td><td>&quot;alabama&quot;</td><td>2024-11-07 21:03:42.046</td><td>2024-11-07 21:03:42.048</td><td>1731013421308</td><td>&quot;5a0098e1-6893-4a5a-884b-079420…</td><td>&quot;underwriter&quot;</td><td>&quot;false&quot;</td><td>null</td><td>null</td><td>0</td><td>0</td><td>0</td><td>1</td><td>0</td><td>0</td><td>0</td><td>0</td><td>0</td><td>0</td><td>0</td><td>0</td><td>1</td><td>0</td><td>21</td><td>21</td><td>21</td><td>21</td><td>21</td><td>21</td><td>0</td><td>0</td><td>1</td><td>2024-11-07</td><td>1</td><td>0</td><td>0</td><td>0</td><td>null</td><td>null</td><td>null</td><td>null</td></tr><tr><td>2024-07-12 04:15:23.073</td><td>2024-07-12 04:15:26.662</td><td>&quot;united states&quot;</td><td>0</td><td>0</td><td>0</td><td>0</td><td>0</td><td>0</td><td>0</td><td>0</td><td>0</td><td>0</td><td>1</td><td>0</td><td>0</td><td>&quot;san francisco-oakland-san jose…</td><td>2024-07-12 04:15:23.073</td><td>&quot;application-window-opened&quot;</td><td>&quot;amplitude-ts/2.7.2&quot;</td><td>2024-07-12 04:15:28.472</td><td>&quot;california&quot;</td><td>2024-07-12 04:15:26.662</td><td>2024-07-12 04:15:26.663</td><td>1720757642034</td><td>&quot;93e50a3c-501a-4ecb-bf5f-e88c17…</td><td>&quot;admin&quot;</td><td>&quot;true&quot;</td><td>null</td><td>null</td><td>0</td><td>0</td><td>0</td><td>0</td><td>1</td><td>0</td><td>0</td><td>0</td><td>0</td><td>0</td><td>0</td><td>0</td><td>1</td><td>0</td><td>4</td><td>4</td><td>4</td><td>4</td><td>4</td><td>4</td><td>3</td><td>0</td><td>1</td><td>2024-07-12</td><td>0</td><td>1</td><td>0</td><td>0</td><td>null</td><td>null</td><td>null</td><td>null</td></tr><tr><td>2024-11-26 20:36:09.097</td><td>2024-11-26 20:36:10.460</td><td>&quot;canada&quot;</td><td>0</td><td>0</td><td>0</td><td>0</td><td>0</td><td>0</td><td>0</td><td>0</td><td>0</td><td>0</td><td>1</td><td>0</td><td>0</td><td>null</td><td>2024-11-26 20:36:09.097</td><td>&quot;account-lines::widget:render&quot;</td><td>&quot;amplitude-ts/2.7.2&quot;</td><td>2024-11-26 20:36:11.194</td><td>&quot;ontario&quot;</td><td>2024-11-26 20:36:10.460</td><td>2024-11-26 20:36:10.462</td><td>1732653337579</td><td>&quot;b42308ae-81e6-4fd2-9db6-5a1910…</td><td>&quot;admin,underwriter,system admin&quot;</td><td>&quot;true&quot;</td><td>&quot;http://localhost:3000/uw-porta…</td><td>&quot;assigned-emails&quot;</td><td>1</td><td>0</td><td>0</td><td>0</td><td>0</td><td>1</td><td>0</td><td>0</td><td>0</td><td>0</td><td>0</td><td>0</td><td>0</td><td>0</td><td>20</td><td>20</td><td>20</td><td>20</td><td>20</td><td>20</td><td>1</td><td>0</td><td>0</td><td>2024-11-26</td><td>1</td><td>1</td><td>0</td><td>0</td><td>0</td><td>0</td><td>0</td><td>1</td></tr></tbody></table></div>"
      ],
      "text/plain": [
       "shape: (11_694_655, 62)\n",
       "┌────────────┬────────────┬────────────┬───────────┬───┬────────┬───────────┬──────────┬───────────┐\n",
       "│ client_eve ┆ client_upl ┆ country    ┆ device_fa ┆ … ┆ google ┆ microsoft ┆ federato ┆ uw-portal │\n",
       "│ nt_time    ┆ oad_time   ┆ ---        ┆ mily_andr ┆   ┆ ---    ┆ ---       ┆ ---      ┆ ---       │\n",
       "│ ---        ┆ ---        ┆ str        ┆ oid       ┆   ┆ i32    ┆ i32       ┆ i32      ┆ i32       │\n",
       "│ datetime[μ ┆ datetime[μ ┆            ┆ ---       ┆   ┆        ┆           ┆          ┆           │\n",
       "│ s]         ┆ s]         ┆            ┆ u8        ┆   ┆        ┆           ┆          ┆           │\n",
       "╞════════════╪════════════╪════════════╪═══════════╪═══╪════════╪═══════════╪══════════╪═══════════╡\n",
       "│ 2025-01-06 ┆ 2025-01-06 ┆ united     ┆ 0         ┆ … ┆ null   ┆ null      ┆ null     ┆ null      │\n",
       "│ 21:10:35.0 ┆ 21:10:37.7 ┆ states     ┆           ┆   ┆        ┆           ┆          ┆           │\n",
       "│ 99         ┆ 23         ┆            ┆           ┆   ┆        ┆           ┆          ┆           │\n",
       "│ 2024-12-04 ┆ 2024-12-04 ┆ united     ┆ 0         ┆ … ┆ 0      ┆ 1         ┆ 0        ┆ 0         │\n",
       "│ 18:30:34.0 ┆ 18:30:35.0 ┆ states     ┆           ┆   ┆        ┆           ┆          ┆           │\n",
       "│ 23         ┆ 93         ┆            ┆           ┆   ┆        ┆           ┆          ┆           │\n",
       "│ 2024-05-29 ┆ 2024-05-29 ┆ united     ┆ 0         ┆ … ┆ null   ┆ null      ┆ null     ┆ null      │\n",
       "│ 18:36:29.2 ┆ 18:36:30.0 ┆ states     ┆           ┆   ┆        ┆           ┆          ┆           │\n",
       "│ 37         ┆ 54         ┆            ┆           ┆   ┆        ┆           ┆          ┆           │\n",
       "│ 2024-10-02 ┆ 2024-10-02 ┆ united     ┆ 0         ┆ … ┆ null   ┆ null      ┆ null     ┆ null      │\n",
       "│ 14:37:15.2 ┆ 14:37:16.5 ┆ states     ┆           ┆   ┆        ┆           ┆          ┆           │\n",
       "│ 93         ┆ 64         ┆            ┆           ┆   ┆        ┆           ┆          ┆           │\n",
       "│ 2024-09-26 ┆ 2024-09-26 ┆ india      ┆ 0         ┆ … ┆ null   ┆ null      ┆ null     ┆ null      │\n",
       "│ 12:56:45.1 ┆ 12:56:46.2 ┆            ┆           ┆   ┆        ┆           ┆          ┆           │\n",
       "│ 48         ┆ 77         ┆            ┆           ┆   ┆        ┆           ┆          ┆           │\n",
       "│ …          ┆ …          ┆ …          ┆ …         ┆ … ┆ …      ┆ …         ┆ …        ┆ …         │\n",
       "│ 2024-05-31 ┆ 2024-05-31 ┆ united     ┆ 0         ┆ … ┆ null   ┆ null      ┆ null     ┆ null      │\n",
       "│ 20:12:51.4 ┆ 20:12:52.8 ┆ states     ┆           ┆   ┆        ┆           ┆          ┆           │\n",
       "│ 90         ┆ 21         ┆            ┆           ┆   ┆        ┆           ┆          ┆           │\n",
       "│ 2024-12-09 ┆ 2024-12-09 ┆ india      ┆ 0         ┆ … ┆ null   ┆ null      ┆ null     ┆ null      │\n",
       "│ 07:00:53.7 ┆ 07:00:54.8 ┆            ┆           ┆   ┆        ┆           ┆          ┆           │\n",
       "│ 29         ┆ 38         ┆            ┆           ┆   ┆        ┆           ┆          ┆           │\n",
       "│ 2024-11-07 ┆ 2024-11-07 ┆ united     ┆ 0         ┆ … ┆ null   ┆ null      ┆ null     ┆ null      │\n",
       "│ 21:03:41.3 ┆ 21:03:42.0 ┆ states     ┆           ┆   ┆        ┆           ┆          ┆           │\n",
       "│ 08         ┆ 46         ┆            ┆           ┆   ┆        ┆           ┆          ┆           │\n",
       "│ 2024-07-12 ┆ 2024-07-12 ┆ united     ┆ 0         ┆ … ┆ null   ┆ null      ┆ null     ┆ null      │\n",
       "│ 04:15:23.0 ┆ 04:15:26.6 ┆ states     ┆           ┆   ┆        ┆           ┆          ┆           │\n",
       "│ 73         ┆ 62         ┆            ┆           ┆   ┆        ┆           ┆          ┆           │\n",
       "│ 2024-11-26 ┆ 2024-11-26 ┆ canada     ┆ 0         ┆ … ┆ 0      ┆ 0         ┆ 0        ┆ 1         │\n",
       "│ 20:36:09.0 ┆ 20:36:10.4 ┆            ┆           ┆   ┆        ┆           ┆          ┆           │\n",
       "│ 97         ┆ 60         ┆            ┆           ┆   ┆        ┆           ┆          ┆           │\n",
       "└────────────┴────────────┴────────────┴───────────┴───┴────────┴───────────┴──────────┴───────────┘"
      ]
     },
     "execution_count": 70,
     "metadata": {},
     "output_type": "execute_result"
    }
   ],
   "source": [
    "df = encode_categorical(df, config)\n",
    "df"
   ]
  },
  {
   "cell_type": "markdown",
   "metadata": {},
   "source": [
    "### Aggregate Data by Client Event Time Level"
   ]
  },
  {
   "cell_type": "code",
   "execution_count": 76,
   "metadata": {},
   "outputs": [],
   "source": [
    "# Get columns\n",
    "time_cols = ['client_upload_time', 'server_received_time', 'processed_time', 'server_upload_time', 'client_event_time', 'event_time']\n",
    "\n",
    "one_hot_cols = [col for col in df.columns if set(df[col].drop_nulls().to_list()) <= {0, 1}]\n",
    "\n",
    "numeric_cols = df.select(cs.numeric().exclude(one_hot_cols + ['session_id'])).columns"
   ]
  },
  {
   "cell_type": "code",
   "execution_count": 77,
   "metadata": {},
   "outputs": [],
   "source": [
    "# Define aggregation scheme\n",
    "agg_scheme = []\n",
    "\n",
    "# For user_id, take the first session, assuming 1 user per session\n",
    "agg_scheme.append(pl.first('user_id').name.suffix('_first'))\n",
    "\n",
    "# Get max for all time columns\n",
    "agg_scheme.extend([pl.max(time_col).name.suffix('_max') for time_col in time_cols])\n",
    "\n",
    "# Get max for all one-hot cols, that is, keep 1 when we see it\n",
    "agg_scheme.extend([pl.max(c).name.suffix('_max') for c in one_hot_cols])\n",
    "\n",
    "# Use mean for other numeric columns\n",
    "agg_scheme.extend([pl.mean(c).name.suffix('_mean') for c in numeric_cols])\n",
    "\n"
   ]
  },
  {
   "cell_type": "code",
   "execution_count": 78,
   "metadata": {},
   "outputs": [],
   "source": [
    "def aggregate_by_datetime(df):\n",
    "    df_datetime = df.group_by('user_id', 'client_event_datetime').agg(agg_scheme)\n",
    "    df_datetime = df_datetime.drop('user_id')\n",
    "    df_datetime = df_datetime.with_columns(pl.col('user_id_first').alias('user_id'))\n",
    "    return df_datetime"
   ]
  },
  {
   "cell_type": "code",
   "execution_count": 85,
   "metadata": {},
   "outputs": [
    {
     "data": {
      "text/html": [
       "<div><style>\n",
       ".dataframe > thead > tr,\n",
       ".dataframe > tbody > tr {\n",
       "  text-align: right;\n",
       "  white-space: pre-wrap;\n",
       "}\n",
       "</style>\n",
       "<small>shape: (88_028, 53)</small><table border=\"1\" class=\"dataframe\"><thead><tr><th>client_event_datetime</th><th>user_id_first</th><th>client_upload_time_max</th><th>server_received_time_max</th><th>processed_time_max</th><th>server_upload_time_max</th><th>client_event_time_max</th><th>event_time_max</th><th>device_family_android_max</th><th>device_family_apple ipad_max</th><th>device_family_apple iphone_max</th><th>device_family_chrome os_max</th><th>device_family_chromium os_max</th><th>device_family_google nexus phone_max</th><th>device_family_ios_max</th><th>device_family_k_max</th><th>device_family_linux_max</th><th>device_family_mac_max</th><th>device_family_mac os x_max</th><th>device_family_ubuntu_max</th><th>device_family_windows_max</th><th>region_grouped_international_max</th><th>region_grouped_midwest_max</th><th>region_grouped_northeast_max</th><th>region_grouped_south_max</th><th>region_grouped_west_max</th><th>event_category_account &amp; policy management_max</th><th>event_category_action center &amp; workflow_max</th><th>event_category_dashboard &amp; ui interactions_max</th><th>event_category_document &amp; report interactions_max</th><th>event_category_filtering &amp; searching_max</th><th>event_category_null_max</th><th>event_category_other/system events_max</th><th>event_category_session &amp; navigation_max</th><th>event_category_submission &amp; forms_max</th><th>uw_max</th><th>admin_max</th><th>manager_max</th><th>broker_max</th><th>google_max</th><th>microsoft_max</th><th>federato_max</th><th>uw-portal_max</th><th>client_event_hour_mean</th><th>client_upload_hour_mean</th><th>event_hour_mean</th><th>processed_hour_mean</th><th>server_received_hour_mean</th><th>server_upload_hour_mean</th><th>time_to_server_mean</th><th>server_to_process_mean</th><th>processing_time_mean</th><th>user_id</th></tr><tr><td>date</td><td>str</td><td>datetime[μs]</td><td>datetime[μs]</td><td>datetime[μs]</td><td>datetime[μs]</td><td>datetime[μs]</td><td>datetime[μs]</td><td>u8</td><td>u8</td><td>u8</td><td>u8</td><td>u8</td><td>u8</td><td>u8</td><td>u8</td><td>u8</td><td>u8</td><td>u8</td><td>u8</td><td>u8</td><td>u8</td><td>u8</td><td>u8</td><td>u8</td><td>u8</td><td>u8</td><td>u8</td><td>u8</td><td>u8</td><td>u8</td><td>u8</td><td>u8</td><td>u8</td><td>u8</td><td>i8</td><td>i8</td><td>i8</td><td>i8</td><td>i32</td><td>i32</td><td>i32</td><td>i32</td><td>f64</td><td>f64</td><td>f64</td><td>f64</td><td>f64</td><td>f64</td><td>f64</td><td>f64</td><td>f64</td><td>str</td></tr></thead><tbody><tr><td>2024-09-17</td><td>&quot;23948c43-0a67-46af-9ac4-7c2934…</td><td>2024-09-18 11:27:28.995</td><td>2024-09-18 11:27:28.995</td><td>2024-09-18 11:27:29.569</td><td>2024-09-18 11:27:28.997</td><td>2024-09-17 22:12:46.224</td><td>2024-09-17 22:12:46.224</td><td>0</td><td>0</td><td>0</td><td>0</td><td>0</td><td>0</td><td>0</td><td>0</td><td>0</td><td>0</td><td>0</td><td>0</td><td>1</td><td>0</td><td>0</td><td>0</td><td>1</td><td>0</td><td>1</td><td>0</td><td>0</td><td>0</td><td>0</td><td>0</td><td>0</td><td>1</td><td>0</td><td>1</td><td>0</td><td>0</td><td>0</td><td>null</td><td>null</td><td>null</td><td>null</td><td>14.294521</td><td>14.369863</td><td>14.294521</td><td>14.369863</td><td>14.369863</td><td>14.369863</td><td>871.828767</td><td>0.0</td><td>0.527397</td><td>&quot;23948c43-0a67-46af-9ac4-7c2934…</td></tr><tr><td>2024-03-06</td><td>&quot;88e62b40-bf38-4d53-9728-30184d…</td><td>2024-03-28 14:57:26.215</td><td>2024-03-28 14:57:26.215</td><td>2024-03-28 14:57:27.041</td><td>2024-03-28 14:57:26.219</td><td>2024-03-06 19:31:44.074</td><td>2024-03-06 19:31:44.074</td><td>0</td><td>0</td><td>0</td><td>0</td><td>0</td><td>0</td><td>0</td><td>0</td><td>0</td><td>0</td><td>0</td><td>0</td><td>1</td><td>0</td><td>0</td><td>1</td><td>0</td><td>0</td><td>1</td><td>0</td><td>0</td><td>0</td><td>0</td><td>0</td><td>0</td><td>1</td><td>0</td><td>1</td><td>0</td><td>0</td><td>0</td><td>null</td><td>null</td><td>null</td><td>null</td><td>15.578947</td><td>14.0</td><td>15.578947</td><td>14.0</td><td>14.0</td><td>14.0</td><td>1.8971e6</td><td>0.0</td><td>0.552632</td><td>&quot;88e62b40-bf38-4d53-9728-30184d…</td></tr><tr><td>2024-09-27</td><td>&quot;897ef84b-cbc9-4c72-8bff-d35bfd…</td><td>2024-09-30 04:01:46.455</td><td>2024-09-30 04:01:46.455</td><td>2024-09-30 04:01:49.351</td><td>2024-09-30 04:01:46.456</td><td>2024-09-27 12:11:36.696</td><td>2024-09-27 12:11:36.696</td><td>0</td><td>0</td><td>0</td><td>0</td><td>0</td><td>0</td><td>0</td><td>0</td><td>0</td><td>0</td><td>0</td><td>0</td><td>1</td><td>1</td><td>0</td><td>0</td><td>0</td><td>0</td><td>1</td><td>0</td><td>0</td><td>0</td><td>0</td><td>0</td><td>0</td><td>1</td><td>0</td><td>1</td><td>0</td><td>0</td><td>0</td><td>null</td><td>null</td><td>null</td><td>null</td><td>7.386207</td><td>7.372414</td><td>7.386207</td><td>7.372414</td><td>7.372414</td><td>7.372414</td><td>857.77931</td><td>0.0</td><td>0.6</td><td>&quot;897ef84b-cbc9-4c72-8bff-d35bfd…</td></tr><tr><td>2024-10-28</td><td>&quot;2960eb27-039a-4489-94eb-670e48…</td><td>2024-10-28 16:08:49.330</td><td>2024-10-28 16:08:49.330</td><td>2024-10-28 16:08:59.950</td><td>2024-10-28 16:08:49.333</td><td>2024-10-28 16:08:46.632</td><td>2024-10-28 16:08:46.632</td><td>0</td><td>0</td><td>0</td><td>0</td><td>0</td><td>0</td><td>0</td><td>0</td><td>0</td><td>0</td><td>0</td><td>0</td><td>1</td><td>0</td><td>0</td><td>0</td><td>0</td><td>1</td><td>1</td><td>0</td><td>0</td><td>0</td><td>0</td><td>0</td><td>0</td><td>1</td><td>0</td><td>0</td><td>0</td><td>0</td><td>0</td><td>null</td><td>null</td><td>null</td><td>null</td><td>16.0</td><td>16.0</td><td>16.0</td><td>16.0</td><td>16.0</td><td>16.0</td><td>2.482759</td><td>0.0</td><td>6.862069</td><td>&quot;2960eb27-039a-4489-94eb-670e48…</td></tr><tr><td>2024-10-10</td><td>&quot;9cadb195-5205-414d-bac7-3d96d2…</td><td>2024-10-14 04:11:13.537</td><td>2024-10-14 04:11:13.537</td><td>2024-10-14 04:11:16.172</td><td>2024-10-14 04:11:13.539</td><td>2024-10-10 14:20:44.939</td><td>2024-10-10 14:20:44.939</td><td>0</td><td>0</td><td>0</td><td>0</td><td>0</td><td>0</td><td>0</td><td>0</td><td>0</td><td>0</td><td>0</td><td>0</td><td>1</td><td>0</td><td>0</td><td>0</td><td>1</td><td>0</td><td>1</td><td>1</td><td>1</td><td>0</td><td>0</td><td>0</td><td>0</td><td>1</td><td>1</td><td>1</td><td>0</td><td>0</td><td>0</td><td>0</td><td>0</td><td>0</td><td>0</td><td>9.45781</td><td>9.48833</td><td>9.45781</td><td>9.495512</td><td>9.48833</td><td>9.48833</td><td>733.199282</td><td>0.0</td><td>5.971275</td><td>&quot;9cadb195-5205-414d-bac7-3d96d2…</td></tr><tr><td>&hellip;</td><td>&hellip;</td><td>&hellip;</td><td>&hellip;</td><td>&hellip;</td><td>&hellip;</td><td>&hellip;</td><td>&hellip;</td><td>&hellip;</td><td>&hellip;</td><td>&hellip;</td><td>&hellip;</td><td>&hellip;</td><td>&hellip;</td><td>&hellip;</td><td>&hellip;</td><td>&hellip;</td><td>&hellip;</td><td>&hellip;</td><td>&hellip;</td><td>&hellip;</td><td>&hellip;</td><td>&hellip;</td><td>&hellip;</td><td>&hellip;</td><td>&hellip;</td><td>&hellip;</td><td>&hellip;</td><td>&hellip;</td><td>&hellip;</td><td>&hellip;</td><td>&hellip;</td><td>&hellip;</td><td>&hellip;</td><td>&hellip;</td><td>&hellip;</td><td>&hellip;</td><td>&hellip;</td><td>&hellip;</td><td>&hellip;</td><td>&hellip;</td><td>&hellip;</td><td>&hellip;</td><td>&hellip;</td><td>&hellip;</td><td>&hellip;</td><td>&hellip;</td><td>&hellip;</td><td>&hellip;</td><td>&hellip;</td><td>&hellip;</td><td>&hellip;</td><td>&hellip;</td></tr><tr><td>2024-04-22</td><td>&quot;abe2a8ce-bdc7-4dfb-be98-2d8802…</td><td>2024-04-22 14:56:53.858</td><td>2024-04-22 14:56:53.858</td><td>2024-04-22 14:56:54.939</td><td>2024-04-22 14:56:53.860</td><td>2024-04-22 14:56:51.832</td><td>2024-04-22 14:56:51.832</td><td>0</td><td>0</td><td>0</td><td>0</td><td>0</td><td>0</td><td>0</td><td>0</td><td>0</td><td>1</td><td>0</td><td>0</td><td>0</td><td>0</td><td>0</td><td>0</td><td>1</td><td>0</td><td>1</td><td>0</td><td>0</td><td>0</td><td>0</td><td>0</td><td>0</td><td>1</td><td>0</td><td>1</td><td>0</td><td>1</td><td>0</td><td>null</td><td>null</td><td>null</td><td>null</td><td>14.0</td><td>14.0</td><td>14.0</td><td>14.0</td><td>14.0</td><td>14.0</td><td>3.866667</td><td>0.0</td><td>1.766667</td><td>&quot;abe2a8ce-bdc7-4dfb-be98-2d8802…</td></tr><tr><td>2023-10-16</td><td>&quot;27f310fe-0840-488c-a98f-d5083d…</td><td>2024-03-23 17:58:59.514</td><td>2024-03-23 17:58:59.514</td><td>2024-03-23 17:59:03.850</td><td>2024-03-23 17:58:59.516</td><td>2023-10-16 22:48:48.570</td><td>2023-10-16 22:48:48.570</td><td>0</td><td>0</td><td>0</td><td>0</td><td>0</td><td>0</td><td>0</td><td>0</td><td>0</td><td>0</td><td>0</td><td>0</td><td>1</td><td>0</td><td>0</td><td>0</td><td>1</td><td>0</td><td>1</td><td>1</td><td>0</td><td>0</td><td>0</td><td>0</td><td>0</td><td>1</td><td>0</td><td>1</td><td>0</td><td>0</td><td>0</td><td>0</td><td>0</td><td>0</td><td>0</td><td>18.946996</td><td>17.0</td><td>18.946996</td><td>17.0</td><td>17.0</td><td>17.0</td><td>1.3732e7</td><td>0.0</td><td>0.713781</td><td>&quot;27f310fe-0840-488c-a98f-d5083d…</td></tr><tr><td>2024-02-19</td><td>&quot;dc56ed4b-87e2-4c13-85b0-5e11f1…</td><td>2024-03-27 04:25:41.584</td><td>2024-03-27 04:25:41.584</td><td>2024-03-27 04:25:42.425</td><td>2024-03-27 04:25:41.586</td><td>2024-02-19 14:37:33.535</td><td>2024-02-19 14:37:33.535</td><td>0</td><td>0</td><td>0</td><td>0</td><td>0</td><td>0</td><td>0</td><td>0</td><td>0</td><td>0</td><td>0</td><td>0</td><td>1</td><td>0</td><td>0</td><td>0</td><td>1</td><td>0</td><td>1</td><td>0</td><td>0</td><td>0</td><td>0</td><td>0</td><td>0</td><td>1</td><td>1</td><td>1</td><td>0</td><td>0</td><td>0</td><td>0</td><td>0</td><td>0</td><td>0</td><td>9.378151</td><td>4.0</td><td>9.378151</td><td>4.0</td><td>4.0</td><td>4.0</td><td>3.1772e6</td><td>0.0</td><td>0.369748</td><td>&quot;dc56ed4b-87e2-4c13-85b0-5e11f1…</td></tr><tr><td>2024-01-29</td><td>&quot;332de40e-e936-4ae1-9619-719e2e…</td><td>2024-03-27 04:09:59.893</td><td>2024-03-27 04:09:59.893</td><td>2024-03-27 04:10:01.616</td><td>2024-03-27 04:09:59.899</td><td>2024-01-29 21:51:18.081</td><td>2024-01-29 21:51:18.081</td><td>0</td><td>0</td><td>0</td><td>0</td><td>0</td><td>0</td><td>0</td><td>0</td><td>0</td><td>0</td><td>0</td><td>0</td><td>1</td><td>0</td><td>0</td><td>0</td><td>0</td><td>1</td><td>0</td><td>0</td><td>0</td><td>0</td><td>0</td><td>0</td><td>0</td><td>1</td><td>0</td><td>0</td><td>1</td><td>0</td><td>0</td><td>null</td><td>null</td><td>null</td><td>null</td><td>17.7</td><td>4.0</td><td>17.7</td><td>4.0</td><td>4.0</td><td>4.0</td><td>4961122.3</td><td>0.0</td><td>4.6</td><td>&quot;332de40e-e936-4ae1-9619-719e2e…</td></tr><tr><td>2024-12-02</td><td>&quot;185eac27-d3a7-4ddd-b109-fb9c18…</td><td>2024-12-03 09:34:31.296</td><td>2024-12-03 09:34:31.296</td><td>2024-12-03 09:34:33.198</td><td>2024-12-03 09:34:31.298</td><td>2024-12-02 14:45:05.339</td><td>2024-12-02 14:45:05.339</td><td>0</td><td>0</td><td>0</td><td>0</td><td>0</td><td>0</td><td>0</td><td>0</td><td>0</td><td>0</td><td>0</td><td>0</td><td>1</td><td>1</td><td>0</td><td>0</td><td>0</td><td>0</td><td>1</td><td>0</td><td>0</td><td>0</td><td>0</td><td>0</td><td>0</td><td>1</td><td>0</td><td>1</td><td>0</td><td>0</td><td>0</td><td>null</td><td>null</td><td>null</td><td>null</td><td>11.846743</td><td>11.850575</td><td>11.846743</td><td>11.850575</td><td>11.850575</td><td>11.850575</td><td>173.955939</td><td>0.0</td><td>0.795019</td><td>&quot;185eac27-d3a7-4ddd-b109-fb9c18…</td></tr></tbody></table></div>"
      ],
      "text/plain": [
       "shape: (88_028, 53)\n",
       "┌───────────┬───────────┬───────────┬───────────┬───┬───────────┬───────────┬───────────┬──────────┐\n",
       "│ client_ev ┆ user_id_f ┆ client_up ┆ server_re ┆ … ┆ time_to_s ┆ server_to ┆ processin ┆ user_id  │\n",
       "│ ent_datet ┆ irst      ┆ load_time ┆ ceived_ti ┆   ┆ erver_mea ┆ _process_ ┆ g_time_me ┆ ---      │\n",
       "│ ime       ┆ ---       ┆ _max      ┆ me_max    ┆   ┆ n         ┆ mean      ┆ an        ┆ str      │\n",
       "│ ---       ┆ str       ┆ ---       ┆ ---       ┆   ┆ ---       ┆ ---       ┆ ---       ┆          │\n",
       "│ date      ┆           ┆ datetime[ ┆ datetime[ ┆   ┆ f64       ┆ f64       ┆ f64       ┆          │\n",
       "│           ┆           ┆ μs]       ┆ μs]       ┆   ┆           ┆           ┆           ┆          │\n",
       "╞═══════════╪═══════════╪═══════════╪═══════════╪═══╪═══════════╪═══════════╪═══════════╪══════════╡\n",
       "│ 2024-09-1 ┆ 23948c43- ┆ 2024-09-1 ┆ 2024-09-1 ┆ … ┆ 871.82876 ┆ 0.0       ┆ 0.527397  ┆ 23948c43 │\n",
       "│ 7         ┆ 0a67-46af ┆ 8 11:27:2 ┆ 8 11:27:2 ┆   ┆ 7         ┆           ┆           ┆ -0a67-46 │\n",
       "│           ┆ -9ac4-7c2 ┆ 8.995     ┆ 8.995     ┆   ┆           ┆           ┆           ┆ af-9ac4- │\n",
       "│           ┆ 934…      ┆           ┆           ┆   ┆           ┆           ┆           ┆ 7c2934…  │\n",
       "│ 2024-03-0 ┆ 88e62b40- ┆ 2024-03-2 ┆ 2024-03-2 ┆ … ┆ 1.8971e6  ┆ 0.0       ┆ 0.552632  ┆ 88e62b40 │\n",
       "│ 6         ┆ bf38-4d53 ┆ 8 14:57:2 ┆ 8 14:57:2 ┆   ┆           ┆           ┆           ┆ -bf38-4d │\n",
       "│           ┆ -9728-301 ┆ 6.215     ┆ 6.215     ┆   ┆           ┆           ┆           ┆ 53-9728- │\n",
       "│           ┆ 84d…      ┆           ┆           ┆   ┆           ┆           ┆           ┆ 30184d…  │\n",
       "│ 2024-09-2 ┆ 897ef84b- ┆ 2024-09-3 ┆ 2024-09-3 ┆ … ┆ 857.77931 ┆ 0.0       ┆ 0.6       ┆ 897ef84b │\n",
       "│ 7         ┆ cbc9-4c72 ┆ 0 04:01:4 ┆ 0 04:01:4 ┆   ┆           ┆           ┆           ┆ -cbc9-4c │\n",
       "│           ┆ -8bff-d35 ┆ 6.455     ┆ 6.455     ┆   ┆           ┆           ┆           ┆ 72-8bff- │\n",
       "│           ┆ bfd…      ┆           ┆           ┆   ┆           ┆           ┆           ┆ d35bfd…  │\n",
       "│ 2024-10-2 ┆ 2960eb27- ┆ 2024-10-2 ┆ 2024-10-2 ┆ … ┆ 2.482759  ┆ 0.0       ┆ 6.862069  ┆ 2960eb27 │\n",
       "│ 8         ┆ 039a-4489 ┆ 8 16:08:4 ┆ 8 16:08:4 ┆   ┆           ┆           ┆           ┆ -039a-44 │\n",
       "│           ┆ -94eb-670 ┆ 9.330     ┆ 9.330     ┆   ┆           ┆           ┆           ┆ 89-94eb- │\n",
       "│           ┆ e48…      ┆           ┆           ┆   ┆           ┆           ┆           ┆ 670e48…  │\n",
       "│ 2024-10-1 ┆ 9cadb195- ┆ 2024-10-1 ┆ 2024-10-1 ┆ … ┆ 733.19928 ┆ 0.0       ┆ 5.971275  ┆ 9cadb195 │\n",
       "│ 0         ┆ 5205-414d ┆ 4 04:11:1 ┆ 4 04:11:1 ┆   ┆ 2         ┆           ┆           ┆ -5205-41 │\n",
       "│           ┆ -bac7-3d9 ┆ 3.537     ┆ 3.537     ┆   ┆           ┆           ┆           ┆ 4d-bac7- │\n",
       "│           ┆ 6d2…      ┆           ┆           ┆   ┆           ┆           ┆           ┆ 3d96d2…  │\n",
       "│ …         ┆ …         ┆ …         ┆ …         ┆ … ┆ …         ┆ …         ┆ …         ┆ …        │\n",
       "│ 2024-04-2 ┆ abe2a8ce- ┆ 2024-04-2 ┆ 2024-04-2 ┆ … ┆ 3.866667  ┆ 0.0       ┆ 1.766667  ┆ abe2a8ce │\n",
       "│ 2         ┆ bdc7-4dfb ┆ 2 14:56:5 ┆ 2 14:56:5 ┆   ┆           ┆           ┆           ┆ -bdc7-4d │\n",
       "│           ┆ -be98-2d8 ┆ 3.858     ┆ 3.858     ┆   ┆           ┆           ┆           ┆ fb-be98- │\n",
       "│           ┆ 802…      ┆           ┆           ┆   ┆           ┆           ┆           ┆ 2d8802…  │\n",
       "│ 2023-10-1 ┆ 27f310fe- ┆ 2024-03-2 ┆ 2024-03-2 ┆ … ┆ 1.3732e7  ┆ 0.0       ┆ 0.713781  ┆ 27f310fe │\n",
       "│ 6         ┆ 0840-488c ┆ 3 17:58:5 ┆ 3 17:58:5 ┆   ┆           ┆           ┆           ┆ -0840-48 │\n",
       "│           ┆ -a98f-d50 ┆ 9.514     ┆ 9.514     ┆   ┆           ┆           ┆           ┆ 8c-a98f- │\n",
       "│           ┆ 83d…      ┆           ┆           ┆   ┆           ┆           ┆           ┆ d5083d…  │\n",
       "│ 2024-02-1 ┆ dc56ed4b- ┆ 2024-03-2 ┆ 2024-03-2 ┆ … ┆ 3.1772e6  ┆ 0.0       ┆ 0.369748  ┆ dc56ed4b │\n",
       "│ 9         ┆ 87e2-4c13 ┆ 7 04:25:4 ┆ 7 04:25:4 ┆   ┆           ┆           ┆           ┆ -87e2-4c │\n",
       "│           ┆ -85b0-5e1 ┆ 1.584     ┆ 1.584     ┆   ┆           ┆           ┆           ┆ 13-85b0- │\n",
       "│           ┆ 1f1…      ┆           ┆           ┆   ┆           ┆           ┆           ┆ 5e11f1…  │\n",
       "│ 2024-01-2 ┆ 332de40e- ┆ 2024-03-2 ┆ 2024-03-2 ┆ … ┆ 4961122.3 ┆ 0.0       ┆ 4.6       ┆ 332de40e │\n",
       "│ 9         ┆ e936-4ae1 ┆ 7 04:09:5 ┆ 7 04:09:5 ┆   ┆           ┆           ┆           ┆ -e936-4a │\n",
       "│           ┆ -9619-719 ┆ 9.893     ┆ 9.893     ┆   ┆           ┆           ┆           ┆ e1-9619- │\n",
       "│           ┆ e2e…      ┆           ┆           ┆   ┆           ┆           ┆           ┆ 719e2e…  │\n",
       "│ 2024-12-0 ┆ 185eac27- ┆ 2024-12-0 ┆ 2024-12-0 ┆ … ┆ 173.95593 ┆ 0.0       ┆ 0.795019  ┆ 185eac27 │\n",
       "│ 2         ┆ d3a7-4ddd ┆ 3 09:34:3 ┆ 3 09:34:3 ┆   ┆ 9         ┆           ┆           ┆ -d3a7-4d │\n",
       "│           ┆ -b109-fb9 ┆ 1.296     ┆ 1.296     ┆   ┆           ┆           ┆           ┆ dd-b109- │\n",
       "│           ┆ c18…      ┆           ┆           ┆   ┆           ┆           ┆           ┆ fb9c18…  │\n",
       "└───────────┴───────────┴───────────┴───────────┴───┴───────────┴───────────┴───────────┴──────────┘"
      ]
     },
     "execution_count": 85,
     "metadata": {},
     "output_type": "execute_result"
    }
   ],
   "source": [
    "# Aggregate data by datetime\n",
    "df_datetime = df.group_by('user_id', 'client_event_datetime').agg(agg_scheme)\n",
    "df_datetime = df_datetime.drop('user_id')\n",
    "df_datetime = df_datetime.with_columns(pl.col('user_id_first').alias('user_id'))\n",
    "df_datetime"
   ]
  },
  {
   "cell_type": "markdown",
   "metadata": {},
   "source": [
    "### Join Retention Indicator and Time Usage Target"
   ]
  },
  {
   "cell_type": "code",
   "execution_count": 86,
   "metadata": {},
   "outputs": [
    {
     "data": {
      "text/html": [
       "<div><style>\n",
       ".dataframe > thead > tr,\n",
       ".dataframe > tbody > tr {\n",
       "  text-align: right;\n",
       "  white-space: pre-wrap;\n",
       "}\n",
       "</style>\n",
       "<small>shape: (88_028, 55)</small><table border=\"1\" class=\"dataframe\"><thead><tr><th>client_event_datetime</th><th>user_id_first</th><th>client_upload_time_max</th><th>server_received_time_max</th><th>processed_time_max</th><th>server_upload_time_max</th><th>client_event_time_max</th><th>event_time_max</th><th>device_family_android_max</th><th>device_family_apple ipad_max</th><th>device_family_apple iphone_max</th><th>device_family_chrome os_max</th><th>device_family_chromium os_max</th><th>device_family_google nexus phone_max</th><th>device_family_ios_max</th><th>device_family_k_max</th><th>device_family_linux_max</th><th>device_family_mac_max</th><th>device_family_mac os x_max</th><th>device_family_ubuntu_max</th><th>device_family_windows_max</th><th>region_grouped_international_max</th><th>region_grouped_midwest_max</th><th>region_grouped_northeast_max</th><th>region_grouped_south_max</th><th>region_grouped_west_max</th><th>event_category_account &amp; policy management_max</th><th>event_category_action center &amp; workflow_max</th><th>event_category_dashboard &amp; ui interactions_max</th><th>event_category_document &amp; report interactions_max</th><th>event_category_filtering &amp; searching_max</th><th>event_category_null_max</th><th>event_category_other/system events_max</th><th>event_category_session &amp; navigation_max</th><th>event_category_submission &amp; forms_max</th><th>uw_max</th><th>admin_max</th><th>manager_max</th><th>broker_max</th><th>google_max</th><th>microsoft_max</th><th>federato_max</th><th>uw-portal_max</th><th>client_event_hour_mean</th><th>client_upload_hour_mean</th><th>event_hour_mean</th><th>processed_hour_mean</th><th>server_received_hour_mean</th><th>server_upload_hour_mean</th><th>time_to_server_mean</th><th>server_to_process_mean</th><th>processing_time_mean</th><th>user_id</th><th>returned_within_7_days</th><th>session_seconds</th></tr><tr><td>date</td><td>str</td><td>datetime[μs]</td><td>datetime[μs]</td><td>datetime[μs]</td><td>datetime[μs]</td><td>datetime[μs]</td><td>datetime[μs]</td><td>u8</td><td>u8</td><td>u8</td><td>u8</td><td>u8</td><td>u8</td><td>u8</td><td>u8</td><td>u8</td><td>u8</td><td>u8</td><td>u8</td><td>u8</td><td>u8</td><td>u8</td><td>u8</td><td>u8</td><td>u8</td><td>u8</td><td>u8</td><td>u8</td><td>u8</td><td>u8</td><td>u8</td><td>u8</td><td>u8</td><td>u8</td><td>i8</td><td>i8</td><td>i8</td><td>i8</td><td>i32</td><td>i32</td><td>i32</td><td>i32</td><td>f64</td><td>f64</td><td>f64</td><td>f64</td><td>f64</td><td>f64</td><td>f64</td><td>f64</td><td>f64</td><td>str</td><td>i8</td><td>i64</td></tr></thead><tbody><tr><td>2024-09-17</td><td>&quot;23948c43-0a67-46af-9ac4-7c2934…</td><td>2024-09-18 11:27:28.995</td><td>2024-09-18 11:27:28.995</td><td>2024-09-18 11:27:29.569</td><td>2024-09-18 11:27:28.997</td><td>2024-09-17 22:12:46.224</td><td>2024-09-17 22:12:46.224</td><td>0</td><td>0</td><td>0</td><td>0</td><td>0</td><td>0</td><td>0</td><td>0</td><td>0</td><td>0</td><td>0</td><td>0</td><td>1</td><td>0</td><td>0</td><td>0</td><td>1</td><td>0</td><td>1</td><td>0</td><td>0</td><td>0</td><td>0</td><td>0</td><td>0</td><td>1</td><td>0</td><td>1</td><td>0</td><td>0</td><td>0</td><td>null</td><td>null</td><td>null</td><td>null</td><td>14.294521</td><td>14.369863</td><td>14.294521</td><td>14.369863</td><td>14.369863</td><td>14.369863</td><td>871.828767</td><td>0.0</td><td>0.527397</td><td>&quot;23948c43-0a67-46af-9ac4-7c2934…</td><td>1</td><td>437</td></tr><tr><td>2024-03-06</td><td>&quot;88e62b40-bf38-4d53-9728-30184d…</td><td>2024-03-28 14:57:26.215</td><td>2024-03-28 14:57:26.215</td><td>2024-03-28 14:57:27.041</td><td>2024-03-28 14:57:26.219</td><td>2024-03-06 19:31:44.074</td><td>2024-03-06 19:31:44.074</td><td>0</td><td>0</td><td>0</td><td>0</td><td>0</td><td>0</td><td>0</td><td>0</td><td>0</td><td>0</td><td>0</td><td>0</td><td>1</td><td>0</td><td>0</td><td>1</td><td>0</td><td>0</td><td>1</td><td>0</td><td>0</td><td>0</td><td>0</td><td>0</td><td>0</td><td>1</td><td>0</td><td>1</td><td>0</td><td>0</td><td>0</td><td>null</td><td>null</td><td>null</td><td>null</td><td>15.578947</td><td>14.0</td><td>15.578947</td><td>14.0</td><td>14.0</td><td>14.0</td><td>1.8971e6</td><td>0.0</td><td>0.552632</td><td>&quot;88e62b40-bf38-4d53-9728-30184d…</td><td>1</td><td>2699</td></tr><tr><td>2024-09-27</td><td>&quot;897ef84b-cbc9-4c72-8bff-d35bfd…</td><td>2024-09-30 04:01:46.455</td><td>2024-09-30 04:01:46.455</td><td>2024-09-30 04:01:49.351</td><td>2024-09-30 04:01:46.456</td><td>2024-09-27 12:11:36.696</td><td>2024-09-27 12:11:36.696</td><td>0</td><td>0</td><td>0</td><td>0</td><td>0</td><td>0</td><td>0</td><td>0</td><td>0</td><td>0</td><td>0</td><td>0</td><td>1</td><td>1</td><td>0</td><td>0</td><td>0</td><td>0</td><td>1</td><td>0</td><td>0</td><td>0</td><td>0</td><td>0</td><td>0</td><td>1</td><td>0</td><td>1</td><td>0</td><td>0</td><td>0</td><td>null</td><td>null</td><td>null</td><td>null</td><td>7.386207</td><td>7.372414</td><td>7.386207</td><td>7.372414</td><td>7.372414</td><td>7.372414</td><td>857.77931</td><td>0.0</td><td>0.6</td><td>&quot;897ef84b-cbc9-4c72-8bff-d35bfd…</td><td>1</td><td>7104</td></tr><tr><td>2024-10-28</td><td>&quot;2960eb27-039a-4489-94eb-670e48…</td><td>2024-10-28 16:08:49.330</td><td>2024-10-28 16:08:49.330</td><td>2024-10-28 16:08:59.950</td><td>2024-10-28 16:08:49.333</td><td>2024-10-28 16:08:46.632</td><td>2024-10-28 16:08:46.632</td><td>0</td><td>0</td><td>0</td><td>0</td><td>0</td><td>0</td><td>0</td><td>0</td><td>0</td><td>0</td><td>0</td><td>0</td><td>1</td><td>0</td><td>0</td><td>0</td><td>0</td><td>1</td><td>1</td><td>0</td><td>0</td><td>0</td><td>0</td><td>0</td><td>0</td><td>1</td><td>0</td><td>0</td><td>0</td><td>0</td><td>0</td><td>null</td><td>null</td><td>null</td><td>null</td><td>16.0</td><td>16.0</td><td>16.0</td><td>16.0</td><td>16.0</td><td>16.0</td><td>2.482759</td><td>0.0</td><td>6.862069</td><td>&quot;2960eb27-039a-4489-94eb-670e48…</td><td>0</td><td>126</td></tr><tr><td>2024-10-10</td><td>&quot;9cadb195-5205-414d-bac7-3d96d2…</td><td>2024-10-14 04:11:13.537</td><td>2024-10-14 04:11:13.537</td><td>2024-10-14 04:11:16.172</td><td>2024-10-14 04:11:13.539</td><td>2024-10-10 14:20:44.939</td><td>2024-10-10 14:20:44.939</td><td>0</td><td>0</td><td>0</td><td>0</td><td>0</td><td>0</td><td>0</td><td>0</td><td>0</td><td>0</td><td>0</td><td>0</td><td>1</td><td>0</td><td>0</td><td>0</td><td>1</td><td>0</td><td>1</td><td>1</td><td>1</td><td>0</td><td>0</td><td>0</td><td>0</td><td>1</td><td>1</td><td>1</td><td>0</td><td>0</td><td>0</td><td>0</td><td>0</td><td>0</td><td>0</td><td>9.45781</td><td>9.48833</td><td>9.45781</td><td>9.495512</td><td>9.48833</td><td>9.48833</td><td>733.199282</td><td>0.0</td><td>5.971275</td><td>&quot;9cadb195-5205-414d-bac7-3d96d2…</td><td>1</td><td>16858</td></tr><tr><td>&hellip;</td><td>&hellip;</td><td>&hellip;</td><td>&hellip;</td><td>&hellip;</td><td>&hellip;</td><td>&hellip;</td><td>&hellip;</td><td>&hellip;</td><td>&hellip;</td><td>&hellip;</td><td>&hellip;</td><td>&hellip;</td><td>&hellip;</td><td>&hellip;</td><td>&hellip;</td><td>&hellip;</td><td>&hellip;</td><td>&hellip;</td><td>&hellip;</td><td>&hellip;</td><td>&hellip;</td><td>&hellip;</td><td>&hellip;</td><td>&hellip;</td><td>&hellip;</td><td>&hellip;</td><td>&hellip;</td><td>&hellip;</td><td>&hellip;</td><td>&hellip;</td><td>&hellip;</td><td>&hellip;</td><td>&hellip;</td><td>&hellip;</td><td>&hellip;</td><td>&hellip;</td><td>&hellip;</td><td>&hellip;</td><td>&hellip;</td><td>&hellip;</td><td>&hellip;</td><td>&hellip;</td><td>&hellip;</td><td>&hellip;</td><td>&hellip;</td><td>&hellip;</td><td>&hellip;</td><td>&hellip;</td><td>&hellip;</td><td>&hellip;</td><td>&hellip;</td><td>&hellip;</td><td>&hellip;</td><td>&hellip;</td></tr><tr><td>2024-04-22</td><td>&quot;abe2a8ce-bdc7-4dfb-be98-2d8802…</td><td>2024-04-22 14:56:53.858</td><td>2024-04-22 14:56:53.858</td><td>2024-04-22 14:56:54.939</td><td>2024-04-22 14:56:53.860</td><td>2024-04-22 14:56:51.832</td><td>2024-04-22 14:56:51.832</td><td>0</td><td>0</td><td>0</td><td>0</td><td>0</td><td>0</td><td>0</td><td>0</td><td>0</td><td>1</td><td>0</td><td>0</td><td>0</td><td>0</td><td>0</td><td>0</td><td>1</td><td>0</td><td>1</td><td>0</td><td>0</td><td>0</td><td>0</td><td>0</td><td>0</td><td>1</td><td>0</td><td>1</td><td>0</td><td>1</td><td>0</td><td>null</td><td>null</td><td>null</td><td>null</td><td>14.0</td><td>14.0</td><td>14.0</td><td>14.0</td><td>14.0</td><td>14.0</td><td>3.866667</td><td>0.0</td><td>1.766667</td><td>&quot;abe2a8ce-bdc7-4dfb-be98-2d8802…</td><td>1</td><td>647</td></tr><tr><td>2023-10-16</td><td>&quot;27f310fe-0840-488c-a98f-d5083d…</td><td>2024-03-23 17:58:59.514</td><td>2024-03-23 17:58:59.514</td><td>2024-03-23 17:59:03.850</td><td>2024-03-23 17:58:59.516</td><td>2023-10-16 22:48:48.570</td><td>2023-10-16 22:48:48.570</td><td>0</td><td>0</td><td>0</td><td>0</td><td>0</td><td>0</td><td>0</td><td>0</td><td>0</td><td>0</td><td>0</td><td>0</td><td>1</td><td>0</td><td>0</td><td>0</td><td>1</td><td>0</td><td>1</td><td>1</td><td>0</td><td>0</td><td>0</td><td>0</td><td>0</td><td>1</td><td>0</td><td>1</td><td>0</td><td>0</td><td>0</td><td>0</td><td>0</td><td>0</td><td>0</td><td>18.946996</td><td>17.0</td><td>18.946996</td><td>17.0</td><td>17.0</td><td>17.0</td><td>1.3732e7</td><td>0.0</td><td>0.713781</td><td>&quot;27f310fe-0840-488c-a98f-d5083d…</td><td>1</td><td>9262</td></tr><tr><td>2024-02-19</td><td>&quot;dc56ed4b-87e2-4c13-85b0-5e11f1…</td><td>2024-03-27 04:25:41.584</td><td>2024-03-27 04:25:41.584</td><td>2024-03-27 04:25:42.425</td><td>2024-03-27 04:25:41.586</td><td>2024-02-19 14:37:33.535</td><td>2024-02-19 14:37:33.535</td><td>0</td><td>0</td><td>0</td><td>0</td><td>0</td><td>0</td><td>0</td><td>0</td><td>0</td><td>0</td><td>0</td><td>0</td><td>1</td><td>0</td><td>0</td><td>0</td><td>1</td><td>0</td><td>1</td><td>0</td><td>0</td><td>0</td><td>0</td><td>0</td><td>0</td><td>1</td><td>1</td><td>1</td><td>0</td><td>0</td><td>0</td><td>0</td><td>0</td><td>0</td><td>0</td><td>9.378151</td><td>4.0</td><td>9.378151</td><td>4.0</td><td>4.0</td><td>4.0</td><td>3.1772e6</td><td>0.0</td><td>0.369748</td><td>&quot;dc56ed4b-87e2-4c13-85b0-5e11f1…</td><td>1</td><td>20182</td></tr><tr><td>2024-01-29</td><td>&quot;332de40e-e936-4ae1-9619-719e2e…</td><td>2024-03-27 04:09:59.893</td><td>2024-03-27 04:09:59.893</td><td>2024-03-27 04:10:01.616</td><td>2024-03-27 04:09:59.899</td><td>2024-01-29 21:51:18.081</td><td>2024-01-29 21:51:18.081</td><td>0</td><td>0</td><td>0</td><td>0</td><td>0</td><td>0</td><td>0</td><td>0</td><td>0</td><td>0</td><td>0</td><td>0</td><td>1</td><td>0</td><td>0</td><td>0</td><td>0</td><td>1</td><td>0</td><td>0</td><td>0</td><td>0</td><td>0</td><td>0</td><td>0</td><td>1</td><td>0</td><td>0</td><td>1</td><td>0</td><td>0</td><td>null</td><td>null</td><td>null</td><td>null</td><td>17.7</td><td>4.0</td><td>17.7</td><td>4.0</td><td>4.0</td><td>4.0</td><td>4961122.3</td><td>0.0</td><td>4.6</td><td>&quot;332de40e-e936-4ae1-9619-719e2e…</td><td>1</td><td>2878</td></tr><tr><td>2024-12-02</td><td>&quot;185eac27-d3a7-4ddd-b109-fb9c18…</td><td>2024-12-03 09:34:31.296</td><td>2024-12-03 09:34:31.296</td><td>2024-12-03 09:34:33.198</td><td>2024-12-03 09:34:31.298</td><td>2024-12-02 14:45:05.339</td><td>2024-12-02 14:45:05.339</td><td>0</td><td>0</td><td>0</td><td>0</td><td>0</td><td>0</td><td>0</td><td>0</td><td>0</td><td>0</td><td>0</td><td>0</td><td>1</td><td>1</td><td>0</td><td>0</td><td>0</td><td>0</td><td>1</td><td>0</td><td>0</td><td>0</td><td>0</td><td>0</td><td>0</td><td>1</td><td>0</td><td>1</td><td>0</td><td>0</td><td>0</td><td>null</td><td>null</td><td>null</td><td>null</td><td>11.846743</td><td>11.850575</td><td>11.846743</td><td>11.850575</td><td>11.850575</td><td>11.850575</td><td>173.955939</td><td>0.0</td><td>0.795019</td><td>&quot;185eac27-d3a7-4ddd-b109-fb9c18…</td><td>1</td><td>12846</td></tr></tbody></table></div>"
      ],
      "text/plain": [
       "shape: (88_028, 55)\n",
       "┌───────────┬───────────┬───────────┬───────────┬───┬───────────┬───────────┬───────────┬──────────┐\n",
       "│ client_ev ┆ user_id_f ┆ client_up ┆ server_re ┆ … ┆ processin ┆ user_id   ┆ returned_ ┆ session_ │\n",
       "│ ent_datet ┆ irst      ┆ load_time ┆ ceived_ti ┆   ┆ g_time_me ┆ ---       ┆ within_7_ ┆ seconds  │\n",
       "│ ime       ┆ ---       ┆ _max      ┆ me_max    ┆   ┆ an        ┆ str       ┆ days      ┆ ---      │\n",
       "│ ---       ┆ str       ┆ ---       ┆ ---       ┆   ┆ ---       ┆           ┆ ---       ┆ i64      │\n",
       "│ date      ┆           ┆ datetime[ ┆ datetime[ ┆   ┆ f64       ┆           ┆ i8        ┆          │\n",
       "│           ┆           ┆ μs]       ┆ μs]       ┆   ┆           ┆           ┆           ┆          │\n",
       "╞═══════════╪═══════════╪═══════════╪═══════════╪═══╪═══════════╪═══════════╪═══════════╪══════════╡\n",
       "│ 2024-09-1 ┆ 23948c43- ┆ 2024-09-1 ┆ 2024-09-1 ┆ … ┆ 0.527397  ┆ 23948c43- ┆ 1         ┆ 437      │\n",
       "│ 7         ┆ 0a67-46af ┆ 8 11:27:2 ┆ 8 11:27:2 ┆   ┆           ┆ 0a67-46af ┆           ┆          │\n",
       "│           ┆ -9ac4-7c2 ┆ 8.995     ┆ 8.995     ┆   ┆           ┆ -9ac4-7c2 ┆           ┆          │\n",
       "│           ┆ 934…      ┆           ┆           ┆   ┆           ┆ 934…      ┆           ┆          │\n",
       "│ 2024-03-0 ┆ 88e62b40- ┆ 2024-03-2 ┆ 2024-03-2 ┆ … ┆ 0.552632  ┆ 88e62b40- ┆ 1         ┆ 2699     │\n",
       "│ 6         ┆ bf38-4d53 ┆ 8 14:57:2 ┆ 8 14:57:2 ┆   ┆           ┆ bf38-4d53 ┆           ┆          │\n",
       "│           ┆ -9728-301 ┆ 6.215     ┆ 6.215     ┆   ┆           ┆ -9728-301 ┆           ┆          │\n",
       "│           ┆ 84d…      ┆           ┆           ┆   ┆           ┆ 84d…      ┆           ┆          │\n",
       "│ 2024-09-2 ┆ 897ef84b- ┆ 2024-09-3 ┆ 2024-09-3 ┆ … ┆ 0.6       ┆ 897ef84b- ┆ 1         ┆ 7104     │\n",
       "│ 7         ┆ cbc9-4c72 ┆ 0 04:01:4 ┆ 0 04:01:4 ┆   ┆           ┆ cbc9-4c72 ┆           ┆          │\n",
       "│           ┆ -8bff-d35 ┆ 6.455     ┆ 6.455     ┆   ┆           ┆ -8bff-d35 ┆           ┆          │\n",
       "│           ┆ bfd…      ┆           ┆           ┆   ┆           ┆ bfd…      ┆           ┆          │\n",
       "│ 2024-10-2 ┆ 2960eb27- ┆ 2024-10-2 ┆ 2024-10-2 ┆ … ┆ 6.862069  ┆ 2960eb27- ┆ 0         ┆ 126      │\n",
       "│ 8         ┆ 039a-4489 ┆ 8 16:08:4 ┆ 8 16:08:4 ┆   ┆           ┆ 039a-4489 ┆           ┆          │\n",
       "│           ┆ -94eb-670 ┆ 9.330     ┆ 9.330     ┆   ┆           ┆ -94eb-670 ┆           ┆          │\n",
       "│           ┆ e48…      ┆           ┆           ┆   ┆           ┆ e48…      ┆           ┆          │\n",
       "│ 2024-10-1 ┆ 9cadb195- ┆ 2024-10-1 ┆ 2024-10-1 ┆ … ┆ 5.971275  ┆ 9cadb195- ┆ 1         ┆ 16858    │\n",
       "│ 0         ┆ 5205-414d ┆ 4 04:11:1 ┆ 4 04:11:1 ┆   ┆           ┆ 5205-414d ┆           ┆          │\n",
       "│           ┆ -bac7-3d9 ┆ 3.537     ┆ 3.537     ┆   ┆           ┆ -bac7-3d9 ┆           ┆          │\n",
       "│           ┆ 6d2…      ┆           ┆           ┆   ┆           ┆ 6d2…      ┆           ┆          │\n",
       "│ …         ┆ …         ┆ …         ┆ …         ┆ … ┆ …         ┆ …         ┆ …         ┆ …        │\n",
       "│ 2024-04-2 ┆ abe2a8ce- ┆ 2024-04-2 ┆ 2024-04-2 ┆ … ┆ 1.766667  ┆ abe2a8ce- ┆ 1         ┆ 647      │\n",
       "│ 2         ┆ bdc7-4dfb ┆ 2 14:56:5 ┆ 2 14:56:5 ┆   ┆           ┆ bdc7-4dfb ┆           ┆          │\n",
       "│           ┆ -be98-2d8 ┆ 3.858     ┆ 3.858     ┆   ┆           ┆ -be98-2d8 ┆           ┆          │\n",
       "│           ┆ 802…      ┆           ┆           ┆   ┆           ┆ 802…      ┆           ┆          │\n",
       "│ 2023-10-1 ┆ 27f310fe- ┆ 2024-03-2 ┆ 2024-03-2 ┆ … ┆ 0.713781  ┆ 27f310fe- ┆ 1         ┆ 9262     │\n",
       "│ 6         ┆ 0840-488c ┆ 3 17:58:5 ┆ 3 17:58:5 ┆   ┆           ┆ 0840-488c ┆           ┆          │\n",
       "│           ┆ -a98f-d50 ┆ 9.514     ┆ 9.514     ┆   ┆           ┆ -a98f-d50 ┆           ┆          │\n",
       "│           ┆ 83d…      ┆           ┆           ┆   ┆           ┆ 83d…      ┆           ┆          │\n",
       "│ 2024-02-1 ┆ dc56ed4b- ┆ 2024-03-2 ┆ 2024-03-2 ┆ … ┆ 0.369748  ┆ dc56ed4b- ┆ 1         ┆ 20182    │\n",
       "│ 9         ┆ 87e2-4c13 ┆ 7 04:25:4 ┆ 7 04:25:4 ┆   ┆           ┆ 87e2-4c13 ┆           ┆          │\n",
       "│           ┆ -85b0-5e1 ┆ 1.584     ┆ 1.584     ┆   ┆           ┆ -85b0-5e1 ┆           ┆          │\n",
       "│           ┆ 1f1…      ┆           ┆           ┆   ┆           ┆ 1f1…      ┆           ┆          │\n",
       "│ 2024-01-2 ┆ 332de40e- ┆ 2024-03-2 ┆ 2024-03-2 ┆ … ┆ 4.6       ┆ 332de40e- ┆ 1         ┆ 2878     │\n",
       "│ 9         ┆ e936-4ae1 ┆ 7 04:09:5 ┆ 7 04:09:5 ┆   ┆           ┆ e936-4ae1 ┆           ┆          │\n",
       "│           ┆ -9619-719 ┆ 9.893     ┆ 9.893     ┆   ┆           ┆ -9619-719 ┆           ┆          │\n",
       "│           ┆ e2e…      ┆           ┆           ┆   ┆           ┆ e2e…      ┆           ┆          │\n",
       "│ 2024-12-0 ┆ 185eac27- ┆ 2024-12-0 ┆ 2024-12-0 ┆ … ┆ 0.795019  ┆ 185eac27- ┆ 1         ┆ 12846    │\n",
       "│ 2         ┆ d3a7-4ddd ┆ 3 09:34:3 ┆ 3 09:34:3 ┆   ┆           ┆ d3a7-4ddd ┆           ┆          │\n",
       "│           ┆ -b109-fb9 ┆ 1.296     ┆ 1.296     ┆   ┆           ┆ -b109-fb9 ┆           ┆          │\n",
       "│           ┆ c18…      ┆           ┆           ┆   ┆           ┆ c18…      ┆           ┆          │\n",
       "└───────────┴───────────┴───────────┴───────────┴───┴───────────┴───────────┴───────────┴──────────┘"
      ]
     },
     "execution_count": 86,
     "metadata": {},
     "output_type": "execute_result"
    }
   ],
   "source": [
    "# Perform join\n",
    "df_datetime = df_datetime.join(session_visit_checkpoints, on = ['user_id', 'client_event_datetime'], how = 'left')\n",
    "df_datetime = df_datetime.join(user_session_datetime, on = ['user_id', 'client_event_datetime'], how = 'left')\n",
    "df_datetime"
   ]
  },
  {
   "cell_type": "markdown",
   "metadata": {},
   "source": [
    "### Drop Remaining Columns"
   ]
  },
  {
   "cell_type": "code",
   "execution_count": 87,
   "metadata": {},
   "outputs": [
    {
     "data": {
      "text/html": [
       "<div><style>\n",
       ".dataframe > thead > tr,\n",
       ".dataframe > tbody > tr {\n",
       "  text-align: right;\n",
       "  white-space: pre-wrap;\n",
       "}\n",
       "</style>\n",
       "<small>shape: (88_028, 32)</small><table border=\"1\" class=\"dataframe\"><thead><tr><th>user_id_first</th><th>device_family_linux_max</th><th>device_family_mac os x_max</th><th>device_family_windows_max</th><th>region_grouped_international_max</th><th>region_grouped_midwest_max</th><th>region_grouped_northeast_max</th><th>region_grouped_south_max</th><th>region_grouped_west_max</th><th>event_category_account &amp; policy management_max</th><th>event_category_action center &amp; workflow_max</th><th>event_category_dashboard &amp; ui interactions_max</th><th>event_category_other/system events_max</th><th>event_category_session &amp; navigation_max</th><th>event_category_submission &amp; forms_max</th><th>uw_max</th><th>admin_max</th><th>manager_max</th><th>broker_max</th><th>google_max</th><th>microsoft_max</th><th>client_event_hour_mean</th><th>client_upload_hour_mean</th><th>event_hour_mean</th><th>server_received_hour_mean</th><th>server_upload_hour_mean</th><th>time_to_server_mean</th><th>server_to_process_mean</th><th>processing_time_mean</th><th>user_id</th><th>returned_within_7_days</th><th>session_seconds</th></tr><tr><td>str</td><td>u8</td><td>u8</td><td>u8</td><td>u8</td><td>u8</td><td>u8</td><td>u8</td><td>u8</td><td>u8</td><td>u8</td><td>u8</td><td>u8</td><td>u8</td><td>u8</td><td>i8</td><td>i8</td><td>i8</td><td>i8</td><td>i32</td><td>i32</td><td>f64</td><td>f64</td><td>f64</td><td>f64</td><td>f64</td><td>f64</td><td>f64</td><td>f64</td><td>str</td><td>i8</td><td>i64</td></tr></thead><tbody><tr><td>&quot;23948c43-0a67-46af-9ac4-7c2934…</td><td>0</td><td>0</td><td>1</td><td>0</td><td>0</td><td>0</td><td>1</td><td>0</td><td>1</td><td>0</td><td>0</td><td>0</td><td>1</td><td>0</td><td>1</td><td>0</td><td>0</td><td>0</td><td>null</td><td>null</td><td>14.294521</td><td>14.369863</td><td>14.294521</td><td>14.369863</td><td>14.369863</td><td>871.828767</td><td>0.0</td><td>0.527397</td><td>&quot;23948c43-0a67-46af-9ac4-7c2934…</td><td>1</td><td>437</td></tr><tr><td>&quot;88e62b40-bf38-4d53-9728-30184d…</td><td>0</td><td>0</td><td>1</td><td>0</td><td>0</td><td>1</td><td>0</td><td>0</td><td>1</td><td>0</td><td>0</td><td>0</td><td>1</td><td>0</td><td>1</td><td>0</td><td>0</td><td>0</td><td>null</td><td>null</td><td>15.578947</td><td>14.0</td><td>15.578947</td><td>14.0</td><td>14.0</td><td>1.8971e6</td><td>0.0</td><td>0.552632</td><td>&quot;88e62b40-bf38-4d53-9728-30184d…</td><td>1</td><td>2699</td></tr><tr><td>&quot;897ef84b-cbc9-4c72-8bff-d35bfd…</td><td>0</td><td>0</td><td>1</td><td>1</td><td>0</td><td>0</td><td>0</td><td>0</td><td>1</td><td>0</td><td>0</td><td>0</td><td>1</td><td>0</td><td>1</td><td>0</td><td>0</td><td>0</td><td>null</td><td>null</td><td>7.386207</td><td>7.372414</td><td>7.386207</td><td>7.372414</td><td>7.372414</td><td>857.77931</td><td>0.0</td><td>0.6</td><td>&quot;897ef84b-cbc9-4c72-8bff-d35bfd…</td><td>1</td><td>7104</td></tr><tr><td>&quot;2960eb27-039a-4489-94eb-670e48…</td><td>0</td><td>0</td><td>1</td><td>0</td><td>0</td><td>0</td><td>0</td><td>1</td><td>1</td><td>0</td><td>0</td><td>0</td><td>1</td><td>0</td><td>0</td><td>0</td><td>0</td><td>0</td><td>null</td><td>null</td><td>16.0</td><td>16.0</td><td>16.0</td><td>16.0</td><td>16.0</td><td>2.482759</td><td>0.0</td><td>6.862069</td><td>&quot;2960eb27-039a-4489-94eb-670e48…</td><td>0</td><td>126</td></tr><tr><td>&quot;9cadb195-5205-414d-bac7-3d96d2…</td><td>0</td><td>0</td><td>1</td><td>0</td><td>0</td><td>0</td><td>1</td><td>0</td><td>1</td><td>1</td><td>1</td><td>0</td><td>1</td><td>1</td><td>1</td><td>0</td><td>0</td><td>0</td><td>0</td><td>0</td><td>9.45781</td><td>9.48833</td><td>9.45781</td><td>9.48833</td><td>9.48833</td><td>733.199282</td><td>0.0</td><td>5.971275</td><td>&quot;9cadb195-5205-414d-bac7-3d96d2…</td><td>1</td><td>16858</td></tr><tr><td>&hellip;</td><td>&hellip;</td><td>&hellip;</td><td>&hellip;</td><td>&hellip;</td><td>&hellip;</td><td>&hellip;</td><td>&hellip;</td><td>&hellip;</td><td>&hellip;</td><td>&hellip;</td><td>&hellip;</td><td>&hellip;</td><td>&hellip;</td><td>&hellip;</td><td>&hellip;</td><td>&hellip;</td><td>&hellip;</td><td>&hellip;</td><td>&hellip;</td><td>&hellip;</td><td>&hellip;</td><td>&hellip;</td><td>&hellip;</td><td>&hellip;</td><td>&hellip;</td><td>&hellip;</td><td>&hellip;</td><td>&hellip;</td><td>&hellip;</td><td>&hellip;</td><td>&hellip;</td></tr><tr><td>&quot;abe2a8ce-bdc7-4dfb-be98-2d8802…</td><td>0</td><td>0</td><td>0</td><td>0</td><td>0</td><td>0</td><td>1</td><td>0</td><td>1</td><td>0</td><td>0</td><td>0</td><td>1</td><td>0</td><td>1</td><td>0</td><td>1</td><td>0</td><td>null</td><td>null</td><td>14.0</td><td>14.0</td><td>14.0</td><td>14.0</td><td>14.0</td><td>3.866667</td><td>0.0</td><td>1.766667</td><td>&quot;abe2a8ce-bdc7-4dfb-be98-2d8802…</td><td>1</td><td>647</td></tr><tr><td>&quot;27f310fe-0840-488c-a98f-d5083d…</td><td>0</td><td>0</td><td>1</td><td>0</td><td>0</td><td>0</td><td>1</td><td>0</td><td>1</td><td>1</td><td>0</td><td>0</td><td>1</td><td>0</td><td>1</td><td>0</td><td>0</td><td>0</td><td>0</td><td>0</td><td>18.946996</td><td>17.0</td><td>18.946996</td><td>17.0</td><td>17.0</td><td>1.3732e7</td><td>0.0</td><td>0.713781</td><td>&quot;27f310fe-0840-488c-a98f-d5083d…</td><td>1</td><td>9262</td></tr><tr><td>&quot;dc56ed4b-87e2-4c13-85b0-5e11f1…</td><td>0</td><td>0</td><td>1</td><td>0</td><td>0</td><td>0</td><td>1</td><td>0</td><td>1</td><td>0</td><td>0</td><td>0</td><td>1</td><td>1</td><td>1</td><td>0</td><td>0</td><td>0</td><td>0</td><td>0</td><td>9.378151</td><td>4.0</td><td>9.378151</td><td>4.0</td><td>4.0</td><td>3.1772e6</td><td>0.0</td><td>0.369748</td><td>&quot;dc56ed4b-87e2-4c13-85b0-5e11f1…</td><td>1</td><td>20182</td></tr><tr><td>&quot;332de40e-e936-4ae1-9619-719e2e…</td><td>0</td><td>0</td><td>1</td><td>0</td><td>0</td><td>0</td><td>0</td><td>1</td><td>0</td><td>0</td><td>0</td><td>0</td><td>1</td><td>0</td><td>0</td><td>1</td><td>0</td><td>0</td><td>null</td><td>null</td><td>17.7</td><td>4.0</td><td>17.7</td><td>4.0</td><td>4.0</td><td>4961122.3</td><td>0.0</td><td>4.6</td><td>&quot;332de40e-e936-4ae1-9619-719e2e…</td><td>1</td><td>2878</td></tr><tr><td>&quot;185eac27-d3a7-4ddd-b109-fb9c18…</td><td>0</td><td>0</td><td>1</td><td>1</td><td>0</td><td>0</td><td>0</td><td>0</td><td>1</td><td>0</td><td>0</td><td>0</td><td>1</td><td>0</td><td>1</td><td>0</td><td>0</td><td>0</td><td>null</td><td>null</td><td>11.846743</td><td>11.850575</td><td>11.846743</td><td>11.850575</td><td>11.850575</td><td>173.955939</td><td>0.0</td><td>0.795019</td><td>&quot;185eac27-d3a7-4ddd-b109-fb9c18…</td><td>1</td><td>12846</td></tr></tbody></table></div>"
      ],
      "text/plain": [
       "shape: (88_028, 32)\n",
       "┌───────────┬───────────┬───────────┬───────────┬───┬───────────┬───────────┬───────────┬──────────┐\n",
       "│ user_id_f ┆ device_fa ┆ device_fa ┆ device_fa ┆ … ┆ processin ┆ user_id   ┆ returned_ ┆ session_ │\n",
       "│ irst      ┆ mily_linu ┆ mily_mac  ┆ mily_wind ┆   ┆ g_time_me ┆ ---       ┆ within_7_ ┆ seconds  │\n",
       "│ ---       ┆ x_max     ┆ os x_max  ┆ ows_max   ┆   ┆ an        ┆ str       ┆ days      ┆ ---      │\n",
       "│ str       ┆ ---       ┆ ---       ┆ ---       ┆   ┆ ---       ┆           ┆ ---       ┆ i64      │\n",
       "│           ┆ u8        ┆ u8        ┆ u8        ┆   ┆ f64       ┆           ┆ i8        ┆          │\n",
       "╞═══════════╪═══════════╪═══════════╪═══════════╪═══╪═══════════╪═══════════╪═══════════╪══════════╡\n",
       "│ 23948c43- ┆ 0         ┆ 0         ┆ 1         ┆ … ┆ 0.527397  ┆ 23948c43- ┆ 1         ┆ 437      │\n",
       "│ 0a67-46af ┆           ┆           ┆           ┆   ┆           ┆ 0a67-46af ┆           ┆          │\n",
       "│ -9ac4-7c2 ┆           ┆           ┆           ┆   ┆           ┆ -9ac4-7c2 ┆           ┆          │\n",
       "│ 934…      ┆           ┆           ┆           ┆   ┆           ┆ 934…      ┆           ┆          │\n",
       "│ 88e62b40- ┆ 0         ┆ 0         ┆ 1         ┆ … ┆ 0.552632  ┆ 88e62b40- ┆ 1         ┆ 2699     │\n",
       "│ bf38-4d53 ┆           ┆           ┆           ┆   ┆           ┆ bf38-4d53 ┆           ┆          │\n",
       "│ -9728-301 ┆           ┆           ┆           ┆   ┆           ┆ -9728-301 ┆           ┆          │\n",
       "│ 84d…      ┆           ┆           ┆           ┆   ┆           ┆ 84d…      ┆           ┆          │\n",
       "│ 897ef84b- ┆ 0         ┆ 0         ┆ 1         ┆ … ┆ 0.6       ┆ 897ef84b- ┆ 1         ┆ 7104     │\n",
       "│ cbc9-4c72 ┆           ┆           ┆           ┆   ┆           ┆ cbc9-4c72 ┆           ┆          │\n",
       "│ -8bff-d35 ┆           ┆           ┆           ┆   ┆           ┆ -8bff-d35 ┆           ┆          │\n",
       "│ bfd…      ┆           ┆           ┆           ┆   ┆           ┆ bfd…      ┆           ┆          │\n",
       "│ 2960eb27- ┆ 0         ┆ 0         ┆ 1         ┆ … ┆ 6.862069  ┆ 2960eb27- ┆ 0         ┆ 126      │\n",
       "│ 039a-4489 ┆           ┆           ┆           ┆   ┆           ┆ 039a-4489 ┆           ┆          │\n",
       "│ -94eb-670 ┆           ┆           ┆           ┆   ┆           ┆ -94eb-670 ┆           ┆          │\n",
       "│ e48…      ┆           ┆           ┆           ┆   ┆           ┆ e48…      ┆           ┆          │\n",
       "│ 9cadb195- ┆ 0         ┆ 0         ┆ 1         ┆ … ┆ 5.971275  ┆ 9cadb195- ┆ 1         ┆ 16858    │\n",
       "│ 5205-414d ┆           ┆           ┆           ┆   ┆           ┆ 5205-414d ┆           ┆          │\n",
       "│ -bac7-3d9 ┆           ┆           ┆           ┆   ┆           ┆ -bac7-3d9 ┆           ┆          │\n",
       "│ 6d2…      ┆           ┆           ┆           ┆   ┆           ┆ 6d2…      ┆           ┆          │\n",
       "│ …         ┆ …         ┆ …         ┆ …         ┆ … ┆ …         ┆ …         ┆ …         ┆ …        │\n",
       "│ abe2a8ce- ┆ 0         ┆ 0         ┆ 0         ┆ … ┆ 1.766667  ┆ abe2a8ce- ┆ 1         ┆ 647      │\n",
       "│ bdc7-4dfb ┆           ┆           ┆           ┆   ┆           ┆ bdc7-4dfb ┆           ┆          │\n",
       "│ -be98-2d8 ┆           ┆           ┆           ┆   ┆           ┆ -be98-2d8 ┆           ┆          │\n",
       "│ 802…      ┆           ┆           ┆           ┆   ┆           ┆ 802…      ┆           ┆          │\n",
       "│ 27f310fe- ┆ 0         ┆ 0         ┆ 1         ┆ … ┆ 0.713781  ┆ 27f310fe- ┆ 1         ┆ 9262     │\n",
       "│ 0840-488c ┆           ┆           ┆           ┆   ┆           ┆ 0840-488c ┆           ┆          │\n",
       "│ -a98f-d50 ┆           ┆           ┆           ┆   ┆           ┆ -a98f-d50 ┆           ┆          │\n",
       "│ 83d…      ┆           ┆           ┆           ┆   ┆           ┆ 83d…      ┆           ┆          │\n",
       "│ dc56ed4b- ┆ 0         ┆ 0         ┆ 1         ┆ … ┆ 0.369748  ┆ dc56ed4b- ┆ 1         ┆ 20182    │\n",
       "│ 87e2-4c13 ┆           ┆           ┆           ┆   ┆           ┆ 87e2-4c13 ┆           ┆          │\n",
       "│ -85b0-5e1 ┆           ┆           ┆           ┆   ┆           ┆ -85b0-5e1 ┆           ┆          │\n",
       "│ 1f1…      ┆           ┆           ┆           ┆   ┆           ┆ 1f1…      ┆           ┆          │\n",
       "│ 332de40e- ┆ 0         ┆ 0         ┆ 1         ┆ … ┆ 4.6       ┆ 332de40e- ┆ 1         ┆ 2878     │\n",
       "│ e936-4ae1 ┆           ┆           ┆           ┆   ┆           ┆ e936-4ae1 ┆           ┆          │\n",
       "│ -9619-719 ┆           ┆           ┆           ┆   ┆           ┆ -9619-719 ┆           ┆          │\n",
       "│ e2e…      ┆           ┆           ┆           ┆   ┆           ┆ e2e…      ┆           ┆          │\n",
       "│ 185eac27- ┆ 0         ┆ 0         ┆ 1         ┆ … ┆ 0.795019  ┆ 185eac27- ┆ 1         ┆ 12846    │\n",
       "│ d3a7-4ddd ┆           ┆           ┆           ┆   ┆           ┆ d3a7-4ddd ┆           ┆          │\n",
       "│ -b109-fb9 ┆           ┆           ┆           ┆   ┆           ┆ -b109-fb9 ┆           ┆          │\n",
       "│ c18…      ┆           ┆           ┆           ┆   ┆           ┆ c18…      ┆           ┆          │\n",
       "└───────────┴───────────┴───────────┴───────────┴───┴───────────┴───────────┴───────────┴──────────┘"
      ]
     },
     "execution_count": 87,
     "metadata": {},
     "output_type": "execute_result"
    }
   ],
   "source": [
    "# Drop remaining columns\n",
    "df_datetime = drop_columns(df_datetime, config, 2)\n",
    "df_datetime"
   ]
  },
  {
   "cell_type": "markdown",
   "metadata": {},
   "source": [
    "### Impute One-Hot Columns\n",
    "\n",
    "For the rest of the one-hot valued columns, we will fill it all with zero"
   ]
  },
  {
   "cell_type": "code",
   "execution_count": 88,
   "metadata": {},
   "outputs": [
    {
     "data": {
      "text/html": [
       "<div><style>\n",
       ".dataframe > thead > tr,\n",
       ".dataframe > tbody > tr {\n",
       "  text-align: right;\n",
       "  white-space: pre-wrap;\n",
       "}\n",
       "</style>\n",
       "<small>shape: (88_028, 32)</small><table border=\"1\" class=\"dataframe\"><thead><tr><th>user_id_first</th><th>device_family_linux_max</th><th>device_family_mac os x_max</th><th>device_family_windows_max</th><th>region_grouped_international_max</th><th>region_grouped_midwest_max</th><th>region_grouped_northeast_max</th><th>region_grouped_south_max</th><th>region_grouped_west_max</th><th>event_category_account &amp; policy management_max</th><th>event_category_action center &amp; workflow_max</th><th>event_category_dashboard &amp; ui interactions_max</th><th>event_category_other/system events_max</th><th>event_category_session &amp; navigation_max</th><th>event_category_submission &amp; forms_max</th><th>uw_max</th><th>admin_max</th><th>manager_max</th><th>broker_max</th><th>google_max</th><th>microsoft_max</th><th>client_event_hour_mean</th><th>client_upload_hour_mean</th><th>event_hour_mean</th><th>server_received_hour_mean</th><th>server_upload_hour_mean</th><th>time_to_server_mean</th><th>server_to_process_mean</th><th>processing_time_mean</th><th>user_id</th><th>returned_within_7_days</th><th>session_seconds</th></tr><tr><td>str</td><td>u8</td><td>u8</td><td>u8</td><td>u8</td><td>u8</td><td>u8</td><td>u8</td><td>u8</td><td>u8</td><td>u8</td><td>u8</td><td>u8</td><td>u8</td><td>u8</td><td>i8</td><td>i8</td><td>i8</td><td>i8</td><td>i32</td><td>i32</td><td>f64</td><td>f64</td><td>f64</td><td>f64</td><td>f64</td><td>f64</td><td>f64</td><td>f64</td><td>str</td><td>i8</td><td>i64</td></tr></thead><tbody><tr><td>&quot;23948c43-0a67-46af-9ac4-7c2934…</td><td>0</td><td>0</td><td>1</td><td>0</td><td>0</td><td>0</td><td>1</td><td>0</td><td>1</td><td>0</td><td>0</td><td>0</td><td>1</td><td>0</td><td>1</td><td>0</td><td>0</td><td>0</td><td>0</td><td>0</td><td>14.294521</td><td>14.369863</td><td>14.294521</td><td>14.369863</td><td>14.369863</td><td>871.828767</td><td>0.0</td><td>0.527397</td><td>&quot;23948c43-0a67-46af-9ac4-7c2934…</td><td>1</td><td>437</td></tr><tr><td>&quot;88e62b40-bf38-4d53-9728-30184d…</td><td>0</td><td>0</td><td>1</td><td>0</td><td>0</td><td>1</td><td>0</td><td>0</td><td>1</td><td>0</td><td>0</td><td>0</td><td>1</td><td>0</td><td>1</td><td>0</td><td>0</td><td>0</td><td>0</td><td>0</td><td>15.578947</td><td>14.0</td><td>15.578947</td><td>14.0</td><td>14.0</td><td>1.8971e6</td><td>0.0</td><td>0.552632</td><td>&quot;88e62b40-bf38-4d53-9728-30184d…</td><td>1</td><td>2699</td></tr><tr><td>&quot;897ef84b-cbc9-4c72-8bff-d35bfd…</td><td>0</td><td>0</td><td>1</td><td>1</td><td>0</td><td>0</td><td>0</td><td>0</td><td>1</td><td>0</td><td>0</td><td>0</td><td>1</td><td>0</td><td>1</td><td>0</td><td>0</td><td>0</td><td>0</td><td>0</td><td>7.386207</td><td>7.372414</td><td>7.386207</td><td>7.372414</td><td>7.372414</td><td>857.77931</td><td>0.0</td><td>0.6</td><td>&quot;897ef84b-cbc9-4c72-8bff-d35bfd…</td><td>1</td><td>7104</td></tr><tr><td>&quot;2960eb27-039a-4489-94eb-670e48…</td><td>0</td><td>0</td><td>1</td><td>0</td><td>0</td><td>0</td><td>0</td><td>1</td><td>1</td><td>0</td><td>0</td><td>0</td><td>1</td><td>0</td><td>0</td><td>0</td><td>0</td><td>0</td><td>0</td><td>0</td><td>16.0</td><td>16.0</td><td>16.0</td><td>16.0</td><td>16.0</td><td>2.482759</td><td>0.0</td><td>6.862069</td><td>&quot;2960eb27-039a-4489-94eb-670e48…</td><td>0</td><td>126</td></tr><tr><td>&quot;9cadb195-5205-414d-bac7-3d96d2…</td><td>0</td><td>0</td><td>1</td><td>0</td><td>0</td><td>0</td><td>1</td><td>0</td><td>1</td><td>1</td><td>1</td><td>0</td><td>1</td><td>1</td><td>1</td><td>0</td><td>0</td><td>0</td><td>0</td><td>0</td><td>9.45781</td><td>9.48833</td><td>9.45781</td><td>9.48833</td><td>9.48833</td><td>733.199282</td><td>0.0</td><td>5.971275</td><td>&quot;9cadb195-5205-414d-bac7-3d96d2…</td><td>1</td><td>16858</td></tr><tr><td>&hellip;</td><td>&hellip;</td><td>&hellip;</td><td>&hellip;</td><td>&hellip;</td><td>&hellip;</td><td>&hellip;</td><td>&hellip;</td><td>&hellip;</td><td>&hellip;</td><td>&hellip;</td><td>&hellip;</td><td>&hellip;</td><td>&hellip;</td><td>&hellip;</td><td>&hellip;</td><td>&hellip;</td><td>&hellip;</td><td>&hellip;</td><td>&hellip;</td><td>&hellip;</td><td>&hellip;</td><td>&hellip;</td><td>&hellip;</td><td>&hellip;</td><td>&hellip;</td><td>&hellip;</td><td>&hellip;</td><td>&hellip;</td><td>&hellip;</td><td>&hellip;</td><td>&hellip;</td></tr><tr><td>&quot;abe2a8ce-bdc7-4dfb-be98-2d8802…</td><td>0</td><td>0</td><td>0</td><td>0</td><td>0</td><td>0</td><td>1</td><td>0</td><td>1</td><td>0</td><td>0</td><td>0</td><td>1</td><td>0</td><td>1</td><td>0</td><td>1</td><td>0</td><td>0</td><td>0</td><td>14.0</td><td>14.0</td><td>14.0</td><td>14.0</td><td>14.0</td><td>3.866667</td><td>0.0</td><td>1.766667</td><td>&quot;abe2a8ce-bdc7-4dfb-be98-2d8802…</td><td>1</td><td>647</td></tr><tr><td>&quot;27f310fe-0840-488c-a98f-d5083d…</td><td>0</td><td>0</td><td>1</td><td>0</td><td>0</td><td>0</td><td>1</td><td>0</td><td>1</td><td>1</td><td>0</td><td>0</td><td>1</td><td>0</td><td>1</td><td>0</td><td>0</td><td>0</td><td>0</td><td>0</td><td>18.946996</td><td>17.0</td><td>18.946996</td><td>17.0</td><td>17.0</td><td>1.3732e7</td><td>0.0</td><td>0.713781</td><td>&quot;27f310fe-0840-488c-a98f-d5083d…</td><td>1</td><td>9262</td></tr><tr><td>&quot;dc56ed4b-87e2-4c13-85b0-5e11f1…</td><td>0</td><td>0</td><td>1</td><td>0</td><td>0</td><td>0</td><td>1</td><td>0</td><td>1</td><td>0</td><td>0</td><td>0</td><td>1</td><td>1</td><td>1</td><td>0</td><td>0</td><td>0</td><td>0</td><td>0</td><td>9.378151</td><td>4.0</td><td>9.378151</td><td>4.0</td><td>4.0</td><td>3.1772e6</td><td>0.0</td><td>0.369748</td><td>&quot;dc56ed4b-87e2-4c13-85b0-5e11f1…</td><td>1</td><td>20182</td></tr><tr><td>&quot;332de40e-e936-4ae1-9619-719e2e…</td><td>0</td><td>0</td><td>1</td><td>0</td><td>0</td><td>0</td><td>0</td><td>1</td><td>0</td><td>0</td><td>0</td><td>0</td><td>1</td><td>0</td><td>0</td><td>1</td><td>0</td><td>0</td><td>0</td><td>0</td><td>17.7</td><td>4.0</td><td>17.7</td><td>4.0</td><td>4.0</td><td>4961122.3</td><td>0.0</td><td>4.6</td><td>&quot;332de40e-e936-4ae1-9619-719e2e…</td><td>1</td><td>2878</td></tr><tr><td>&quot;185eac27-d3a7-4ddd-b109-fb9c18…</td><td>0</td><td>0</td><td>1</td><td>1</td><td>0</td><td>0</td><td>0</td><td>0</td><td>1</td><td>0</td><td>0</td><td>0</td><td>1</td><td>0</td><td>1</td><td>0</td><td>0</td><td>0</td><td>0</td><td>0</td><td>11.846743</td><td>11.850575</td><td>11.846743</td><td>11.850575</td><td>11.850575</td><td>173.955939</td><td>0.0</td><td>0.795019</td><td>&quot;185eac27-d3a7-4ddd-b109-fb9c18…</td><td>1</td><td>12846</td></tr></tbody></table></div>"
      ],
      "text/plain": [
       "shape: (88_028, 32)\n",
       "┌───────────┬───────────┬───────────┬───────────┬───┬───────────┬───────────┬───────────┬──────────┐\n",
       "│ user_id_f ┆ device_fa ┆ device_fa ┆ device_fa ┆ … ┆ processin ┆ user_id   ┆ returned_ ┆ session_ │\n",
       "│ irst      ┆ mily_linu ┆ mily_mac  ┆ mily_wind ┆   ┆ g_time_me ┆ ---       ┆ within_7_ ┆ seconds  │\n",
       "│ ---       ┆ x_max     ┆ os x_max  ┆ ows_max   ┆   ┆ an        ┆ str       ┆ days      ┆ ---      │\n",
       "│ str       ┆ ---       ┆ ---       ┆ ---       ┆   ┆ ---       ┆           ┆ ---       ┆ i64      │\n",
       "│           ┆ u8        ┆ u8        ┆ u8        ┆   ┆ f64       ┆           ┆ i8        ┆          │\n",
       "╞═══════════╪═══════════╪═══════════╪═══════════╪═══╪═══════════╪═══════════╪═══════════╪══════════╡\n",
       "│ 23948c43- ┆ 0         ┆ 0         ┆ 1         ┆ … ┆ 0.527397  ┆ 23948c43- ┆ 1         ┆ 437      │\n",
       "│ 0a67-46af ┆           ┆           ┆           ┆   ┆           ┆ 0a67-46af ┆           ┆          │\n",
       "│ -9ac4-7c2 ┆           ┆           ┆           ┆   ┆           ┆ -9ac4-7c2 ┆           ┆          │\n",
       "│ 934…      ┆           ┆           ┆           ┆   ┆           ┆ 934…      ┆           ┆          │\n",
       "│ 88e62b40- ┆ 0         ┆ 0         ┆ 1         ┆ … ┆ 0.552632  ┆ 88e62b40- ┆ 1         ┆ 2699     │\n",
       "│ bf38-4d53 ┆           ┆           ┆           ┆   ┆           ┆ bf38-4d53 ┆           ┆          │\n",
       "│ -9728-301 ┆           ┆           ┆           ┆   ┆           ┆ -9728-301 ┆           ┆          │\n",
       "│ 84d…      ┆           ┆           ┆           ┆   ┆           ┆ 84d…      ┆           ┆          │\n",
       "│ 897ef84b- ┆ 0         ┆ 0         ┆ 1         ┆ … ┆ 0.6       ┆ 897ef84b- ┆ 1         ┆ 7104     │\n",
       "│ cbc9-4c72 ┆           ┆           ┆           ┆   ┆           ┆ cbc9-4c72 ┆           ┆          │\n",
       "│ -8bff-d35 ┆           ┆           ┆           ┆   ┆           ┆ -8bff-d35 ┆           ┆          │\n",
       "│ bfd…      ┆           ┆           ┆           ┆   ┆           ┆ bfd…      ┆           ┆          │\n",
       "│ 2960eb27- ┆ 0         ┆ 0         ┆ 1         ┆ … ┆ 6.862069  ┆ 2960eb27- ┆ 0         ┆ 126      │\n",
       "│ 039a-4489 ┆           ┆           ┆           ┆   ┆           ┆ 039a-4489 ┆           ┆          │\n",
       "│ -94eb-670 ┆           ┆           ┆           ┆   ┆           ┆ -94eb-670 ┆           ┆          │\n",
       "│ e48…      ┆           ┆           ┆           ┆   ┆           ┆ e48…      ┆           ┆          │\n",
       "│ 9cadb195- ┆ 0         ┆ 0         ┆ 1         ┆ … ┆ 5.971275  ┆ 9cadb195- ┆ 1         ┆ 16858    │\n",
       "│ 5205-414d ┆           ┆           ┆           ┆   ┆           ┆ 5205-414d ┆           ┆          │\n",
       "│ -bac7-3d9 ┆           ┆           ┆           ┆   ┆           ┆ -bac7-3d9 ┆           ┆          │\n",
       "│ 6d2…      ┆           ┆           ┆           ┆   ┆           ┆ 6d2…      ┆           ┆          │\n",
       "│ …         ┆ …         ┆ …         ┆ …         ┆ … ┆ …         ┆ …         ┆ …         ┆ …        │\n",
       "│ abe2a8ce- ┆ 0         ┆ 0         ┆ 0         ┆ … ┆ 1.766667  ┆ abe2a8ce- ┆ 1         ┆ 647      │\n",
       "│ bdc7-4dfb ┆           ┆           ┆           ┆   ┆           ┆ bdc7-4dfb ┆           ┆          │\n",
       "│ -be98-2d8 ┆           ┆           ┆           ┆   ┆           ┆ -be98-2d8 ┆           ┆          │\n",
       "│ 802…      ┆           ┆           ┆           ┆   ┆           ┆ 802…      ┆           ┆          │\n",
       "│ 27f310fe- ┆ 0         ┆ 0         ┆ 1         ┆ … ┆ 0.713781  ┆ 27f310fe- ┆ 1         ┆ 9262     │\n",
       "│ 0840-488c ┆           ┆           ┆           ┆   ┆           ┆ 0840-488c ┆           ┆          │\n",
       "│ -a98f-d50 ┆           ┆           ┆           ┆   ┆           ┆ -a98f-d50 ┆           ┆          │\n",
       "│ 83d…      ┆           ┆           ┆           ┆   ┆           ┆ 83d…      ┆           ┆          │\n",
       "│ dc56ed4b- ┆ 0         ┆ 0         ┆ 1         ┆ … ┆ 0.369748  ┆ dc56ed4b- ┆ 1         ┆ 20182    │\n",
       "│ 87e2-4c13 ┆           ┆           ┆           ┆   ┆           ┆ 87e2-4c13 ┆           ┆          │\n",
       "│ -85b0-5e1 ┆           ┆           ┆           ┆   ┆           ┆ -85b0-5e1 ┆           ┆          │\n",
       "│ 1f1…      ┆           ┆           ┆           ┆   ┆           ┆ 1f1…      ┆           ┆          │\n",
       "│ 332de40e- ┆ 0         ┆ 0         ┆ 1         ┆ … ┆ 4.6       ┆ 332de40e- ┆ 1         ┆ 2878     │\n",
       "│ e936-4ae1 ┆           ┆           ┆           ┆   ┆           ┆ e936-4ae1 ┆           ┆          │\n",
       "│ -9619-719 ┆           ┆           ┆           ┆   ┆           ┆ -9619-719 ┆           ┆          │\n",
       "│ e2e…      ┆           ┆           ┆           ┆   ┆           ┆ e2e…      ┆           ┆          │\n",
       "│ 185eac27- ┆ 0         ┆ 0         ┆ 1         ┆ … ┆ 0.795019  ┆ 185eac27- ┆ 1         ┆ 12846    │\n",
       "│ d3a7-4ddd ┆           ┆           ┆           ┆   ┆           ┆ d3a7-4ddd ┆           ┆          │\n",
       "│ -b109-fb9 ┆           ┆           ┆           ┆   ┆           ┆ -b109-fb9 ┆           ┆          │\n",
       "│ c18…      ┆           ┆           ┆           ┆   ┆           ┆ c18…      ┆           ┆          │\n",
       "└───────────┴───────────┴───────────┴───────────┴───┴───────────┴───────────┴───────────┴──────────┘"
      ]
     },
     "execution_count": 88,
     "metadata": {},
     "output_type": "execute_result"
    }
   ],
   "source": [
    "# Impute one-hot columns\n",
    "columns_to_fill = ['uw_max', 'admin_max', 'manager_max', \n",
    "                   'broker_max', 'google_max', 'microsoft_max']\n",
    "df_datetime = df_datetime.with_columns(pl.col(c).fill_null(0) for c in columns_to_fill)\n",
    "df_datetime"
   ]
  },
  {
   "cell_type": "code",
   "execution_count": 89,
   "metadata": {},
   "outputs": [],
   "source": [
    "# export parquet\n",
    "df_datetime.write_parquet(config['pipeline']['output_data'])"
   ]
  }
 ],
 "metadata": {
  "kernelspec": {
   "display_name": ".venv",
   "language": "python",
   "name": "python3"
  },
  "language_info": {
   "codemirror_mode": {
    "name": "ipython",
    "version": 3
   },
   "file_extension": ".py",
   "mimetype": "text/x-python",
   "name": "python",
   "nbconvert_exporter": "python",
   "pygments_lexer": "ipython3",
   "version": "3.12.4"
  }
 },
 "nbformat": 4,
 "nbformat_minor": 2
}
