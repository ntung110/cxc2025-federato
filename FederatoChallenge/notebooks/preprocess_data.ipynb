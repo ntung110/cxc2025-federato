{
 "cells": [
  {
   "cell_type": "code",
   "execution_count": null,
   "metadata": {},
   "outputs": [],
   "source": [
    "import os\n",
    "import sys\n",
    "sys.path.append(os.path.abspath(os.path.join(os.getcwd(), '..')))"
   ]
  },
  {
   "cell_type": "code",
   "execution_count": null,
   "metadata": {},
   "outputs": [
    {
     "name": "stderr",
     "output_type": "stream",
     "text": [
      "/Users/tung/Repos/cxc2025-federato/.venv/lib/python3.12/site-packages/tqdm/auto.py:21: TqdmWarning: IProgress not found. Please update jupyter and ipywidgets. See https://ipywidgets.readthedocs.io/en/stable/user_install.html\n",
      "  from .autonotebook import tqdm as notebook_tqdm\n"
     ]
    }
   ],
   "source": [
    "import polars as pl\n",
    "import polars.selectors as cs\n",
    "import yaml\n",
    "\n",
    "from utils.preprocessing import *\n",
    "from config.constants import BATCH_SIZE"
   ]
  },
  {
   "cell_type": "markdown",
   "metadata": {},
   "source": [
    "## Data Preprocessing\n",
    "\n",
    "We will proceed to process the concatenated dataset using the `preprocessing` module which we wrote.\n",
    "\n",
    "This module contains some of the useful functions and configs we could use to process the data."
   ]
  },
  {
   "cell_type": "markdown",
   "metadata": {},
   "source": [
    "### Read YAML file\n",
    "\n",
    "We will also read our preprocessing instructions from our config file, which is saved in `preprocessing.yaml`"
   ]
  },
  {
   "cell_type": "code",
   "execution_count": null,
   "metadata": {},
   "outputs": [],
   "source": [
    "# Read YAML file\n",
    "config_file_path = '../config/preprocessing.yaml'\n",
    "with open(config_file_path) as fstream:\n",
    "    config = yaml.safe_load(fstream)"
   ]
  },
  {
   "cell_type": "markdown",
   "metadata": {},
   "source": [
    "### Import Dataset\n",
    "\n",
    "We will first import the dataset into our notebook"
   ]
  },
  {
   "cell_type": "code",
   "execution_count": null,
   "metadata": {},
   "outputs": [],
   "source": [
    "# Process data\n",
    "file_path = os.path.expanduser(config['pipeline']['input_data'])\n",
    "df = pl.read_parquet(file_path)\n",
    "df"
   ]
  },
  {
   "cell_type": "markdown",
   "metadata": {},
   "source": [
    "### Drop Columns\n",
    "\n",
    "First, we will drop some of the columns that we have decided to not use for modelling during the EDA phase."
   ]
  },
  {
   "cell_type": "code",
   "execution_count": null,
   "metadata": {},
   "outputs": [],
   "source": [
    "df = drop_columns(df, config, 0)\n",
    "df"
   ]
  },
  {
   "cell_type": "code",
   "execution_count": null,
   "metadata": {},
   "outputs": [],
   "source": [
    "# Expand dict columns\n",
    "df = batch_preprocess_data(df, expand_dict_columns, config, BATCH_SIZE)\n",
    "df"
   ]
  },
  {
   "cell_type": "markdown",
   "metadata": {},
   "source": [
    "### Enforce Types\n",
    "\n",
    "Next, we will convert the types of each column to our desired type"
   ]
  },
  {
   "cell_type": "code",
   "execution_count": 6,
   "metadata": {},
   "outputs": [
    {
     "data": {
      "text/html": [
       "<div><style>\n",
       ".dataframe > thead > tr,\n",
       ".dataframe > tbody > tr {\n",
       "  text-align: right;\n",
       "  white-space: pre-wrap;\n",
       "}\n",
       "</style>\n",
       "<small>shape: (14_526_410, 28)</small><table border=\"1\" class=\"dataframe\"><thead><tr><th>$insert_id</th><th>amplitude_id</th><th>app</th><th>city</th><th>client_event_time</th><th>client_upload_time</th><th>country</th><th>device_family</th><th>device_id</th><th>dma</th><th>event_id</th><th>event_properties</th><th>event_time</th><th>event_type</th><th>language</th><th>library</th><th>os_name</th><th>processed_time</th><th>region</th><th>server_received_time</th><th>server_upload_time</th><th>session_id</th><th>user_id</th><th>user_properties</th><th>roles</th><th>isInternalUser</th><th>referrer</th><th>slug</th></tr><tr><td>str</td><td>i64</td><td>i64</td><td>str</td><td>datetime[μs]</td><td>datetime[μs]</td><td>str</td><td>str</td><td>str</td><td>str</td><td>i64</td><td>str</td><td>datetime[μs]</td><td>str</td><td>str</td><td>str</td><td>str</td><td>datetime[μs]</td><td>str</td><td>datetime[μs]</td><td>datetime[μs]</td><td>i64</td><td>str</td><td>str</td><td>str</td><td>str</td><td>str</td><td>str</td></tr></thead><tbody><tr><td>&quot;251db963-6623-448e-8665-f542b8…</td><td>935023330069</td><td>591532</td><td>&quot;Mumbai&quot;</td><td>2024-10-08 11:41:02.385</td><td>2024-10-08 11:41:04.857</td><td>&quot;India&quot;</td><td>&quot;Windows&quot;</td><td>&quot;8bd8b6ab-370f-4b56-b38f-ad221c…</td><td>&quot;None&quot;</td><td>22216</td><td>&quot;{}&quot;</td><td>2024-10-08 11:41:02.385</td><td>&quot;session_start&quot;</td><td>&quot;English&quot;</td><td>&quot;amplitude-ts/2.7.2&quot;</td><td>&quot;Chrome&quot;</td><td>2024-10-08 11:41:05.371</td><td>&quot;Maharashtra&quot;</td><td>2024-10-08 11:41:04.857</td><td>2024-10-08 11:41:04.859</td><td>1728387662385</td><td>&quot;8038ea38-8ddf-4a1a-825d-8287c0…</td><td>&quot;{&#x27;roles&#x27;: [&#x27;underwriter&#x27;], &#x27;tr…</td><td>&quot;underwriter&quot;</td><td>&quot;False&quot;</td><td>&quot;https://accounts.google.com/&quot;</td><td>null</td></tr><tr><td>&quot;3a95cdac-174c-4002-8e84-8aeba8…</td><td>935023330069</td><td>591532</td><td>&quot;Mumbai&quot;</td><td>2024-10-08 11:41:02.386</td><td>2024-10-08 11:41:04.857</td><td>&quot;India&quot;</td><td>&quot;Windows&quot;</td><td>&quot;8bd8b6ab-370f-4b56-b38f-ad221c…</td><td>&quot;None&quot;</td><td>22215</td><td>&quot;{}&quot;</td><td>2024-10-08 11:41:02.386</td><td>&quot;session_end&quot;</td><td>&quot;English&quot;</td><td>&quot;amplitude-ts/2.7.2&quot;</td><td>&quot;Chrome&quot;</td><td>2024-10-08 11:41:05.371</td><td>&quot;Maharashtra&quot;</td><td>2024-10-08 11:41:04.857</td><td>2024-10-08 11:41:04.859</td><td>1728387662385</td><td>&quot;8038ea38-8ddf-4a1a-825d-8287c0…</td><td>&quot;{&#x27;roles&#x27;: [&#x27;underwriter&#x27;], &#x27;tr…</td><td>&quot;underwriter&quot;</td><td>&quot;False&quot;</td><td>&quot;https://accounts.google.com/&quot;</td><td>null</td></tr><tr><td>&quot;50dbfad3-8e24-456a-ae68-21b09b…</td><td>935023330069</td><td>591532</td><td>&quot;Mumbai&quot;</td><td>2024-10-08 11:41:02.386</td><td>2024-10-08 11:41:04.857</td><td>&quot;India&quot;</td><td>&quot;Windows&quot;</td><td>&quot;8bd8b6ab-370f-4b56-b38f-ad221c…</td><td>&quot;None&quot;</td><td>22216</td><td>&quot;{&#x27;[Amplitude] Session Replay I…</td><td>2024-10-08 11:41:02.386</td><td>&quot;session_start&quot;</td><td>&quot;English&quot;</td><td>&quot;amplitude-ts/2.7.2&quot;</td><td>&quot;Chrome&quot;</td><td>2024-10-08 11:41:05.371</td><td>&quot;Maharashtra&quot;</td><td>2024-10-08 11:41:04.857</td><td>2024-10-08 11:41:04.859</td><td>1728387662386</td><td>&quot;8038ea38-8ddf-4a1a-825d-8287c0…</td><td>&quot;{&#x27;roles&#x27;: [&#x27;underwriter&#x27;], &#x27;tr…</td><td>&quot;underwriter&quot;</td><td>&quot;False&quot;</td><td>&quot;https://accounts.google.com/&quot;</td><td>null</td></tr><tr><td>&quot;ea0a4143-2380-48e7-a83e-8ba854…</td><td>935023330069</td><td>591532</td><td>&quot;Mumbai&quot;</td><td>2024-10-08 11:41:03.500</td><td>2024-10-08 11:41:04.857</td><td>&quot;India&quot;</td><td>&quot;Windows&quot;</td><td>&quot;8bd8b6ab-370f-4b56-b38f-ad221c…</td><td>&quot;None&quot;</td><td>22217</td><td>&quot;{&#x27;rowModel&#x27;: &#x27;server&#x27;, &#x27;[Ampli…</td><td>2024-10-08 11:41:03.500</td><td>&quot;:all-accounts:configurable-tab…</td><td>&quot;English&quot;</td><td>&quot;amplitude-ts/2.7.2&quot;</td><td>&quot;Chrome&quot;</td><td>2024-10-08 11:41:05.371</td><td>&quot;Maharashtra&quot;</td><td>2024-10-08 11:41:04.857</td><td>2024-10-08 11:41:04.859</td><td>1728387662386</td><td>&quot;8038ea38-8ddf-4a1a-825d-8287c0…</td><td>&quot;{&#x27;roles&#x27;: [&#x27;underwriter&#x27;], &#x27;tr…</td><td>&quot;underwriter&quot;</td><td>&quot;False&quot;</td><td>&quot;https://accounts.google.com/&quot;</td><td>null</td></tr><tr><td>&quot;4d89977d-4734-450c-afa1-07e326…</td><td>935023330069</td><td>591532</td><td>&quot;Mumbai&quot;</td><td>2024-10-08 11:41:03.527</td><td>2024-10-08 11:41:04.857</td><td>&quot;India&quot;</td><td>&quot;Windows&quot;</td><td>&quot;8bd8b6ab-370f-4b56-b38f-ad221c…</td><td>&quot;None&quot;</td><td>22217</td><td>&quot;{&#x27;displayName&#x27;: &#x27;All Policies …</td><td>2024-10-08 11:41:03.527</td><td>&quot;:all-accounts:widget:render&quot;</td><td>&quot;English&quot;</td><td>&quot;amplitude-ts/2.7.2&quot;</td><td>&quot;Chrome&quot;</td><td>2024-10-08 11:41:05.371</td><td>&quot;Maharashtra&quot;</td><td>2024-10-08 11:41:04.857</td><td>2024-10-08 11:41:04.859</td><td>1728387662386</td><td>&quot;8038ea38-8ddf-4a1a-825d-8287c0…</td><td>&quot;{&#x27;roles&#x27;: [&#x27;underwriter&#x27;], &#x27;tr…</td><td>&quot;underwriter&quot;</td><td>&quot;False&quot;</td><td>&quot;https://accounts.google.com/&quot;</td><td>null</td></tr><tr><td>&hellip;</td><td>&hellip;</td><td>&hellip;</td><td>&hellip;</td><td>&hellip;</td><td>&hellip;</td><td>&hellip;</td><td>&hellip;</td><td>&hellip;</td><td>&hellip;</td><td>&hellip;</td><td>&hellip;</td><td>&hellip;</td><td>&hellip;</td><td>&hellip;</td><td>&hellip;</td><td>&hellip;</td><td>&hellip;</td><td>&hellip;</td><td>&hellip;</td><td>&hellip;</td><td>&hellip;</td><td>&hellip;</td><td>&hellip;</td><td>&hellip;</td><td>&hellip;</td><td>&hellip;</td><td>&hellip;</td></tr><tr><td>&quot;102ec3ca-a467-41a9-aa19-94f5b0…</td><td>857540480084</td><td>591532</td><td>&quot;Nashville&quot;</td><td>2024-05-22 09:36:09.888</td><td>2024-05-22 09:36:10.832</td><td>&quot;United States&quot;</td><td>&quot;Windows&quot;</td><td>&quot;a8b357fb-b4fb-45d2-babd-42b470…</td><td>&quot;Nashville, TN&quot;</td><td>26</td><td>&quot;{&#x27;displayName&#x27;: &#x27;One Drive Lin…</td><td>2024-05-22 09:36:09.888</td><td>&quot;account-lines::widget:render&quot;</td><td>&quot;English&quot;</td><td>&quot;amplitude-ts/1.8.0&quot;</td><td>&quot;Edge&quot;</td><td>2024-05-22 09:36:11.662</td><td>&quot;Tennessee&quot;</td><td>2024-05-22 09:36:10.832</td><td>2024-05-22 09:36:10.833</td><td>1716368557821</td><td>&quot;9aecc15d-64a4-4190-80f5-b5b842…</td><td>&quot;{&#x27;initial_utm_medium&#x27;: &#x27;EMPTY&#x27;…</td><td>&quot;underwriter&quot;</td><td>&quot;False&quot;</td><td>null</td><td>&quot;one-drive-link&quot;</td></tr><tr><td>&quot;55aec1ce-b876-4f66-b786-fd5706…</td><td>857540480084</td><td>591532</td><td>&quot;Nashville&quot;</td><td>2024-05-22 09:36:09.917</td><td>2024-05-22 09:36:10.832</td><td>&quot;United States&quot;</td><td>&quot;Windows&quot;</td><td>&quot;a8b357fb-b4fb-45d2-babd-42b470…</td><td>&quot;Nashville, TN&quot;</td><td>27</td><td>&quot;{&#x27;rowModel&#x27;: &#x27;legacyServer&#x27;, &#x27;…</td><td>2024-05-22 09:36:09.917</td><td>&quot;account-lines::configurable-ta…</td><td>&quot;English&quot;</td><td>&quot;amplitude-ts/1.8.0&quot;</td><td>&quot;Edge&quot;</td><td>2024-05-22 09:36:11.662</td><td>&quot;Tennessee&quot;</td><td>2024-05-22 09:36:10.832</td><td>2024-05-22 09:36:10.833</td><td>1716368557821</td><td>&quot;9aecc15d-64a4-4190-80f5-b5b842…</td><td>&quot;{&#x27;initial_utm_medium&#x27;: &#x27;EMPTY&#x27;…</td><td>&quot;underwriter&quot;</td><td>&quot;False&quot;</td><td>null</td><td>&quot;property-locations&quot;</td></tr><tr><td>&quot;8cb28e22-0dc3-456c-9956-41d52b…</td><td>857540480084</td><td>591532</td><td>&quot;Nashville&quot;</td><td>2024-05-22 09:36:15.727</td><td>2024-05-22 09:36:16.789</td><td>&quot;United States&quot;</td><td>&quot;Windows&quot;</td><td>&quot;a8b357fb-b4fb-45d2-babd-42b470…</td><td>&quot;Nashville, TN&quot;</td><td>28</td><td>&quot;{&#x27;displayName&#x27;: &#x27;Attachments&#x27;,…</td><td>2024-05-22 09:36:15.727</td><td>&quot;account-lines::widget:render&quot;</td><td>&quot;English&quot;</td><td>&quot;amplitude-ts/1.8.0&quot;</td><td>&quot;Edge&quot;</td><td>2024-05-22 09:36:17.297</td><td>&quot;Tennessee&quot;</td><td>2024-05-22 09:36:16.789</td><td>2024-05-22 09:36:16.791</td><td>1716368557821</td><td>&quot;9aecc15d-64a4-4190-80f5-b5b842…</td><td>&quot;{&#x27;initial_utm_medium&#x27;: &#x27;EMPTY&#x27;…</td><td>&quot;underwriter&quot;</td><td>&quot;False&quot;</td><td>null</td><td>&quot;attachments&quot;</td></tr><tr><td>&quot;eac4d6a2-2ff0-4e59-80af-aa1b3f…</td><td>857540480084</td><td>591532</td><td>&quot;Nashville&quot;</td><td>2024-05-22 09:36:33.812</td><td>2024-05-22 09:36:34.881</td><td>&quot;United States&quot;</td><td>&quot;Windows&quot;</td><td>&quot;a8b357fb-b4fb-45d2-babd-42b470…</td><td>&quot;Nashville, TN&quot;</td><td>29</td><td>&quot;{}&quot;</td><td>2024-05-22 09:36:33.812</td><td>&quot;::nav-header:action-center-cli…</td><td>&quot;English&quot;</td><td>&quot;amplitude-ts/1.8.0&quot;</td><td>&quot;Edge&quot;</td><td>2024-05-22 09:36:36.435</td><td>&quot;Tennessee&quot;</td><td>2024-05-22 09:36:34.881</td><td>2024-05-22 09:36:34.883</td><td>1716368557821</td><td>&quot;9aecc15d-64a4-4190-80f5-b5b842…</td><td>&quot;{&#x27;initial_utm_medium&#x27;: &#x27;EMPTY&#x27;…</td><td>&quot;underwriter&quot;</td><td>&quot;False&quot;</td><td>null</td><td>null</td></tr><tr><td>&quot;bf44b3b7-2b4d-4e20-a18c-65fb63…</td><td>857540480084</td><td>591532</td><td>&quot;Nashville&quot;</td><td>2024-05-22 09:36:33.815</td><td>2024-05-22 09:36:34.881</td><td>&quot;United States&quot;</td><td>&quot;Windows&quot;</td><td>&quot;a8b357fb-b4fb-45d2-babd-42b470…</td><td>&quot;Nashville, TN&quot;</td><td>30</td><td>&quot;{}&quot;</td><td>2024-05-22 09:36:33.815</td><td>&quot;action-center:::view&quot;</td><td>&quot;English&quot;</td><td>&quot;amplitude-ts/1.8.0&quot;</td><td>&quot;Edge&quot;</td><td>2024-05-22 09:36:36.435</td><td>&quot;Tennessee&quot;</td><td>2024-05-22 09:36:34.881</td><td>2024-05-22 09:36:34.883</td><td>1716368557821</td><td>&quot;9aecc15d-64a4-4190-80f5-b5b842…</td><td>&quot;{&#x27;initial_utm_medium&#x27;: &#x27;EMPTY&#x27;…</td><td>&quot;underwriter&quot;</td><td>&quot;False&quot;</td><td>null</td><td>null</td></tr></tbody></table></div>"
      ],
      "text/plain": [
       "shape: (14_526_410, 28)\n",
       "┌────────────┬────────────┬────────┬───────────┬───┬───────────┬───────────┬───────────┬───────────┐\n",
       "│ $insert_id ┆ amplitude_ ┆ app    ┆ city      ┆ … ┆ roles     ┆ isInterna ┆ referrer  ┆ slug      │\n",
       "│ ---        ┆ id         ┆ ---    ┆ ---       ┆   ┆ ---       ┆ lUser     ┆ ---       ┆ ---       │\n",
       "│ str        ┆ ---        ┆ i64    ┆ str       ┆   ┆ str       ┆ ---       ┆ str       ┆ str       │\n",
       "│            ┆ i64        ┆        ┆           ┆   ┆           ┆ str       ┆           ┆           │\n",
       "╞════════════╪════════════╪════════╪═══════════╪═══╪═══════════╪═══════════╪═══════════╪═══════════╡\n",
       "│ 251db963-6 ┆ 9350233300 ┆ 591532 ┆ Mumbai    ┆ … ┆ underwrit ┆ False     ┆ https://a ┆ null      │\n",
       "│ 623-448e-8 ┆ 69         ┆        ┆           ┆   ┆ er        ┆           ┆ ccounts.g ┆           │\n",
       "│ 665-f542b8 ┆            ┆        ┆           ┆   ┆           ┆           ┆ oogle.com ┆           │\n",
       "│ …          ┆            ┆        ┆           ┆   ┆           ┆           ┆ /         ┆           │\n",
       "│ 3a95cdac-1 ┆ 9350233300 ┆ 591532 ┆ Mumbai    ┆ … ┆ underwrit ┆ False     ┆ https://a ┆ null      │\n",
       "│ 74c-4002-8 ┆ 69         ┆        ┆           ┆   ┆ er        ┆           ┆ ccounts.g ┆           │\n",
       "│ e84-8aeba8 ┆            ┆        ┆           ┆   ┆           ┆           ┆ oogle.com ┆           │\n",
       "│ …          ┆            ┆        ┆           ┆   ┆           ┆           ┆ /         ┆           │\n",
       "│ 50dbfad3-8 ┆ 9350233300 ┆ 591532 ┆ Mumbai    ┆ … ┆ underwrit ┆ False     ┆ https://a ┆ null      │\n",
       "│ e24-456a-a ┆ 69         ┆        ┆           ┆   ┆ er        ┆           ┆ ccounts.g ┆           │\n",
       "│ e68-21b09b ┆            ┆        ┆           ┆   ┆           ┆           ┆ oogle.com ┆           │\n",
       "│ …          ┆            ┆        ┆           ┆   ┆           ┆           ┆ /         ┆           │\n",
       "│ ea0a4143-2 ┆ 9350233300 ┆ 591532 ┆ Mumbai    ┆ … ┆ underwrit ┆ False     ┆ https://a ┆ null      │\n",
       "│ 380-48e7-a ┆ 69         ┆        ┆           ┆   ┆ er        ┆           ┆ ccounts.g ┆           │\n",
       "│ 83e-8ba854 ┆            ┆        ┆           ┆   ┆           ┆           ┆ oogle.com ┆           │\n",
       "│ …          ┆            ┆        ┆           ┆   ┆           ┆           ┆ /         ┆           │\n",
       "│ 4d89977d-4 ┆ 9350233300 ┆ 591532 ┆ Mumbai    ┆ … ┆ underwrit ┆ False     ┆ https://a ┆ null      │\n",
       "│ 734-450c-a ┆ 69         ┆        ┆           ┆   ┆ er        ┆           ┆ ccounts.g ┆           │\n",
       "│ fa1-07e326 ┆            ┆        ┆           ┆   ┆           ┆           ┆ oogle.com ┆           │\n",
       "│ …          ┆            ┆        ┆           ┆   ┆           ┆           ┆ /         ┆           │\n",
       "│ …          ┆ …          ┆ …      ┆ …         ┆ … ┆ …         ┆ …         ┆ …         ┆ …         │\n",
       "│ 102ec3ca-a ┆ 8575404800 ┆ 591532 ┆ Nashville ┆ … ┆ underwrit ┆ False     ┆ null      ┆ one-drive │\n",
       "│ 467-41a9-a ┆ 84         ┆        ┆           ┆   ┆ er        ┆           ┆           ┆ -link     │\n",
       "│ a19-94f5b0 ┆            ┆        ┆           ┆   ┆           ┆           ┆           ┆           │\n",
       "│ …          ┆            ┆        ┆           ┆   ┆           ┆           ┆           ┆           │\n",
       "│ 55aec1ce-b ┆ 8575404800 ┆ 591532 ┆ Nashville ┆ … ┆ underwrit ┆ False     ┆ null      ┆ property- │\n",
       "│ 876-4f66-b ┆ 84         ┆        ┆           ┆   ┆ er        ┆           ┆           ┆ locations │\n",
       "│ 786-fd5706 ┆            ┆        ┆           ┆   ┆           ┆           ┆           ┆           │\n",
       "│ …          ┆            ┆        ┆           ┆   ┆           ┆           ┆           ┆           │\n",
       "│ 8cb28e22-0 ┆ 8575404800 ┆ 591532 ┆ Nashville ┆ … ┆ underwrit ┆ False     ┆ null      ┆ attachmen │\n",
       "│ dc3-456c-9 ┆ 84         ┆        ┆           ┆   ┆ er        ┆           ┆           ┆ ts        │\n",
       "│ 956-41d52b ┆            ┆        ┆           ┆   ┆           ┆           ┆           ┆           │\n",
       "│ …          ┆            ┆        ┆           ┆   ┆           ┆           ┆           ┆           │\n",
       "│ eac4d6a2-2 ┆ 8575404800 ┆ 591532 ┆ Nashville ┆ … ┆ underwrit ┆ False     ┆ null      ┆ null      │\n",
       "│ ff0-4e59-8 ┆ 84         ┆        ┆           ┆   ┆ er        ┆           ┆           ┆           │\n",
       "│ 0af-aa1b3f ┆            ┆        ┆           ┆   ┆           ┆           ┆           ┆           │\n",
       "│ …          ┆            ┆        ┆           ┆   ┆           ┆           ┆           ┆           │\n",
       "│ bf44b3b7-2 ┆ 8575404800 ┆ 591532 ┆ Nashville ┆ … ┆ underwrit ┆ False     ┆ null      ┆ null      │\n",
       "│ b4d-4e20-a ┆ 84         ┆        ┆           ┆   ┆ er        ┆           ┆           ┆           │\n",
       "│ 18c-65fb63 ┆            ┆        ┆           ┆   ┆           ┆           ┆           ┆           │\n",
       "│ …          ┆            ┆        ┆           ┆   ┆           ┆           ┆           ┆           │\n",
       "└────────────┴────────────┴────────┴───────────┴───┴───────────┴───────────┴───────────┴───────────┘"
      ]
     },
     "execution_count": 6,
     "metadata": {},
     "output_type": "execute_result"
    }
   ],
   "source": [
    "# Enforce Types\n",
    "df = custom_enforce_types(df, config)\n",
    "df"
   ]
  },
  {
   "cell_type": "markdown",
   "metadata": {},
   "source": [
    "### Lowercase All Values"
   ]
  },
  {
   "cell_type": "code",
   "execution_count": 7,
   "metadata": {},
   "outputs": [
    {
     "data": {
      "text/html": [
       "<div><style>\n",
       ".dataframe > thead > tr,\n",
       ".dataframe > tbody > tr {\n",
       "  text-align: right;\n",
       "  white-space: pre-wrap;\n",
       "}\n",
       "</style>\n",
       "<small>shape: (14_526_410, 28)</small><table border=\"1\" class=\"dataframe\"><thead><tr><th>$insert_id</th><th>amplitude_id</th><th>app</th><th>city</th><th>client_event_time</th><th>client_upload_time</th><th>country</th><th>device_family</th><th>device_id</th><th>dma</th><th>event_id</th><th>event_properties</th><th>event_time</th><th>event_type</th><th>language</th><th>library</th><th>os_name</th><th>processed_time</th><th>region</th><th>server_received_time</th><th>server_upload_time</th><th>session_id</th><th>user_id</th><th>user_properties</th><th>roles</th><th>isInternalUser</th><th>referrer</th><th>slug</th></tr><tr><td>str</td><td>i64</td><td>i64</td><td>str</td><td>datetime[μs]</td><td>datetime[μs]</td><td>str</td><td>str</td><td>str</td><td>str</td><td>i64</td><td>str</td><td>datetime[μs]</td><td>str</td><td>str</td><td>str</td><td>str</td><td>datetime[μs]</td><td>str</td><td>datetime[μs]</td><td>datetime[μs]</td><td>i64</td><td>str</td><td>str</td><td>str</td><td>str</td><td>str</td><td>str</td></tr></thead><tbody><tr><td>&quot;251db963-6623-448e-8665-f542b8…</td><td>935023330069</td><td>591532</td><td>&quot;mumbai&quot;</td><td>2024-10-08 11:41:02.385</td><td>2024-10-08 11:41:04.857</td><td>&quot;india&quot;</td><td>&quot;windows&quot;</td><td>&quot;8bd8b6ab-370f-4b56-b38f-ad221c…</td><td>&quot;none&quot;</td><td>22216</td><td>&quot;{}&quot;</td><td>2024-10-08 11:41:02.385</td><td>&quot;session_start&quot;</td><td>&quot;english&quot;</td><td>&quot;amplitude-ts/2.7.2&quot;</td><td>&quot;chrome&quot;</td><td>2024-10-08 11:41:05.371</td><td>&quot;maharashtra&quot;</td><td>2024-10-08 11:41:04.857</td><td>2024-10-08 11:41:04.859</td><td>1728387662385</td><td>&quot;8038ea38-8ddf-4a1a-825d-8287c0…</td><td>&quot;{&#x27;roles&#x27;: [&#x27;underwriter&#x27;], &#x27;tr…</td><td>&quot;underwriter&quot;</td><td>&quot;false&quot;</td><td>&quot;https://accounts.google.com/&quot;</td><td>null</td></tr><tr><td>&quot;3a95cdac-174c-4002-8e84-8aeba8…</td><td>935023330069</td><td>591532</td><td>&quot;mumbai&quot;</td><td>2024-10-08 11:41:02.386</td><td>2024-10-08 11:41:04.857</td><td>&quot;india&quot;</td><td>&quot;windows&quot;</td><td>&quot;8bd8b6ab-370f-4b56-b38f-ad221c…</td><td>&quot;none&quot;</td><td>22215</td><td>&quot;{}&quot;</td><td>2024-10-08 11:41:02.386</td><td>&quot;session_end&quot;</td><td>&quot;english&quot;</td><td>&quot;amplitude-ts/2.7.2&quot;</td><td>&quot;chrome&quot;</td><td>2024-10-08 11:41:05.371</td><td>&quot;maharashtra&quot;</td><td>2024-10-08 11:41:04.857</td><td>2024-10-08 11:41:04.859</td><td>1728387662385</td><td>&quot;8038ea38-8ddf-4a1a-825d-8287c0…</td><td>&quot;{&#x27;roles&#x27;: [&#x27;underwriter&#x27;], &#x27;tr…</td><td>&quot;underwriter&quot;</td><td>&quot;false&quot;</td><td>&quot;https://accounts.google.com/&quot;</td><td>null</td></tr><tr><td>&quot;50dbfad3-8e24-456a-ae68-21b09b…</td><td>935023330069</td><td>591532</td><td>&quot;mumbai&quot;</td><td>2024-10-08 11:41:02.386</td><td>2024-10-08 11:41:04.857</td><td>&quot;india&quot;</td><td>&quot;windows&quot;</td><td>&quot;8bd8b6ab-370f-4b56-b38f-ad221c…</td><td>&quot;none&quot;</td><td>22216</td><td>&quot;{&#x27;[amplitude] session replay i…</td><td>2024-10-08 11:41:02.386</td><td>&quot;session_start&quot;</td><td>&quot;english&quot;</td><td>&quot;amplitude-ts/2.7.2&quot;</td><td>&quot;chrome&quot;</td><td>2024-10-08 11:41:05.371</td><td>&quot;maharashtra&quot;</td><td>2024-10-08 11:41:04.857</td><td>2024-10-08 11:41:04.859</td><td>1728387662386</td><td>&quot;8038ea38-8ddf-4a1a-825d-8287c0…</td><td>&quot;{&#x27;roles&#x27;: [&#x27;underwriter&#x27;], &#x27;tr…</td><td>&quot;underwriter&quot;</td><td>&quot;false&quot;</td><td>&quot;https://accounts.google.com/&quot;</td><td>null</td></tr><tr><td>&quot;ea0a4143-2380-48e7-a83e-8ba854…</td><td>935023330069</td><td>591532</td><td>&quot;mumbai&quot;</td><td>2024-10-08 11:41:03.500</td><td>2024-10-08 11:41:04.857</td><td>&quot;india&quot;</td><td>&quot;windows&quot;</td><td>&quot;8bd8b6ab-370f-4b56-b38f-ad221c…</td><td>&quot;none&quot;</td><td>22217</td><td>&quot;{&#x27;rowmodel&#x27;: &#x27;server&#x27;, &#x27;[ampli…</td><td>2024-10-08 11:41:03.500</td><td>&quot;:all-accounts:configurable-tab…</td><td>&quot;english&quot;</td><td>&quot;amplitude-ts/2.7.2&quot;</td><td>&quot;chrome&quot;</td><td>2024-10-08 11:41:05.371</td><td>&quot;maharashtra&quot;</td><td>2024-10-08 11:41:04.857</td><td>2024-10-08 11:41:04.859</td><td>1728387662386</td><td>&quot;8038ea38-8ddf-4a1a-825d-8287c0…</td><td>&quot;{&#x27;roles&#x27;: [&#x27;underwriter&#x27;], &#x27;tr…</td><td>&quot;underwriter&quot;</td><td>&quot;false&quot;</td><td>&quot;https://accounts.google.com/&quot;</td><td>null</td></tr><tr><td>&quot;4d89977d-4734-450c-afa1-07e326…</td><td>935023330069</td><td>591532</td><td>&quot;mumbai&quot;</td><td>2024-10-08 11:41:03.527</td><td>2024-10-08 11:41:04.857</td><td>&quot;india&quot;</td><td>&quot;windows&quot;</td><td>&quot;8bd8b6ab-370f-4b56-b38f-ad221c…</td><td>&quot;none&quot;</td><td>22217</td><td>&quot;{&#x27;displayname&#x27;: &#x27;all policies …</td><td>2024-10-08 11:41:03.527</td><td>&quot;:all-accounts:widget:render&quot;</td><td>&quot;english&quot;</td><td>&quot;amplitude-ts/2.7.2&quot;</td><td>&quot;chrome&quot;</td><td>2024-10-08 11:41:05.371</td><td>&quot;maharashtra&quot;</td><td>2024-10-08 11:41:04.857</td><td>2024-10-08 11:41:04.859</td><td>1728387662386</td><td>&quot;8038ea38-8ddf-4a1a-825d-8287c0…</td><td>&quot;{&#x27;roles&#x27;: [&#x27;underwriter&#x27;], &#x27;tr…</td><td>&quot;underwriter&quot;</td><td>&quot;false&quot;</td><td>&quot;https://accounts.google.com/&quot;</td><td>null</td></tr><tr><td>&hellip;</td><td>&hellip;</td><td>&hellip;</td><td>&hellip;</td><td>&hellip;</td><td>&hellip;</td><td>&hellip;</td><td>&hellip;</td><td>&hellip;</td><td>&hellip;</td><td>&hellip;</td><td>&hellip;</td><td>&hellip;</td><td>&hellip;</td><td>&hellip;</td><td>&hellip;</td><td>&hellip;</td><td>&hellip;</td><td>&hellip;</td><td>&hellip;</td><td>&hellip;</td><td>&hellip;</td><td>&hellip;</td><td>&hellip;</td><td>&hellip;</td><td>&hellip;</td><td>&hellip;</td><td>&hellip;</td></tr><tr><td>&quot;102ec3ca-a467-41a9-aa19-94f5b0…</td><td>857540480084</td><td>591532</td><td>&quot;nashville&quot;</td><td>2024-05-22 09:36:09.888</td><td>2024-05-22 09:36:10.832</td><td>&quot;united states&quot;</td><td>&quot;windows&quot;</td><td>&quot;a8b357fb-b4fb-45d2-babd-42b470…</td><td>&quot;nashville, tn&quot;</td><td>26</td><td>&quot;{&#x27;displayname&#x27;: &#x27;one drive lin…</td><td>2024-05-22 09:36:09.888</td><td>&quot;account-lines::widget:render&quot;</td><td>&quot;english&quot;</td><td>&quot;amplitude-ts/1.8.0&quot;</td><td>&quot;edge&quot;</td><td>2024-05-22 09:36:11.662</td><td>&quot;tennessee&quot;</td><td>2024-05-22 09:36:10.832</td><td>2024-05-22 09:36:10.833</td><td>1716368557821</td><td>&quot;9aecc15d-64a4-4190-80f5-b5b842…</td><td>&quot;{&#x27;initial_utm_medium&#x27;: &#x27;empty&#x27;…</td><td>&quot;underwriter&quot;</td><td>&quot;false&quot;</td><td>null</td><td>&quot;one-drive-link&quot;</td></tr><tr><td>&quot;55aec1ce-b876-4f66-b786-fd5706…</td><td>857540480084</td><td>591532</td><td>&quot;nashville&quot;</td><td>2024-05-22 09:36:09.917</td><td>2024-05-22 09:36:10.832</td><td>&quot;united states&quot;</td><td>&quot;windows&quot;</td><td>&quot;a8b357fb-b4fb-45d2-babd-42b470…</td><td>&quot;nashville, tn&quot;</td><td>27</td><td>&quot;{&#x27;rowmodel&#x27;: &#x27;legacyserver&#x27;, &#x27;…</td><td>2024-05-22 09:36:09.917</td><td>&quot;account-lines::configurable-ta…</td><td>&quot;english&quot;</td><td>&quot;amplitude-ts/1.8.0&quot;</td><td>&quot;edge&quot;</td><td>2024-05-22 09:36:11.662</td><td>&quot;tennessee&quot;</td><td>2024-05-22 09:36:10.832</td><td>2024-05-22 09:36:10.833</td><td>1716368557821</td><td>&quot;9aecc15d-64a4-4190-80f5-b5b842…</td><td>&quot;{&#x27;initial_utm_medium&#x27;: &#x27;empty&#x27;…</td><td>&quot;underwriter&quot;</td><td>&quot;false&quot;</td><td>null</td><td>&quot;property-locations&quot;</td></tr><tr><td>&quot;8cb28e22-0dc3-456c-9956-41d52b…</td><td>857540480084</td><td>591532</td><td>&quot;nashville&quot;</td><td>2024-05-22 09:36:15.727</td><td>2024-05-22 09:36:16.789</td><td>&quot;united states&quot;</td><td>&quot;windows&quot;</td><td>&quot;a8b357fb-b4fb-45d2-babd-42b470…</td><td>&quot;nashville, tn&quot;</td><td>28</td><td>&quot;{&#x27;displayname&#x27;: &#x27;attachments&#x27;,…</td><td>2024-05-22 09:36:15.727</td><td>&quot;account-lines::widget:render&quot;</td><td>&quot;english&quot;</td><td>&quot;amplitude-ts/1.8.0&quot;</td><td>&quot;edge&quot;</td><td>2024-05-22 09:36:17.297</td><td>&quot;tennessee&quot;</td><td>2024-05-22 09:36:16.789</td><td>2024-05-22 09:36:16.791</td><td>1716368557821</td><td>&quot;9aecc15d-64a4-4190-80f5-b5b842…</td><td>&quot;{&#x27;initial_utm_medium&#x27;: &#x27;empty&#x27;…</td><td>&quot;underwriter&quot;</td><td>&quot;false&quot;</td><td>null</td><td>&quot;attachments&quot;</td></tr><tr><td>&quot;eac4d6a2-2ff0-4e59-80af-aa1b3f…</td><td>857540480084</td><td>591532</td><td>&quot;nashville&quot;</td><td>2024-05-22 09:36:33.812</td><td>2024-05-22 09:36:34.881</td><td>&quot;united states&quot;</td><td>&quot;windows&quot;</td><td>&quot;a8b357fb-b4fb-45d2-babd-42b470…</td><td>&quot;nashville, tn&quot;</td><td>29</td><td>&quot;{}&quot;</td><td>2024-05-22 09:36:33.812</td><td>&quot;::nav-header:action-center-cli…</td><td>&quot;english&quot;</td><td>&quot;amplitude-ts/1.8.0&quot;</td><td>&quot;edge&quot;</td><td>2024-05-22 09:36:36.435</td><td>&quot;tennessee&quot;</td><td>2024-05-22 09:36:34.881</td><td>2024-05-22 09:36:34.883</td><td>1716368557821</td><td>&quot;9aecc15d-64a4-4190-80f5-b5b842…</td><td>&quot;{&#x27;initial_utm_medium&#x27;: &#x27;empty&#x27;…</td><td>&quot;underwriter&quot;</td><td>&quot;false&quot;</td><td>null</td><td>null</td></tr><tr><td>&quot;bf44b3b7-2b4d-4e20-a18c-65fb63…</td><td>857540480084</td><td>591532</td><td>&quot;nashville&quot;</td><td>2024-05-22 09:36:33.815</td><td>2024-05-22 09:36:34.881</td><td>&quot;united states&quot;</td><td>&quot;windows&quot;</td><td>&quot;a8b357fb-b4fb-45d2-babd-42b470…</td><td>&quot;nashville, tn&quot;</td><td>30</td><td>&quot;{}&quot;</td><td>2024-05-22 09:36:33.815</td><td>&quot;action-center:::view&quot;</td><td>&quot;english&quot;</td><td>&quot;amplitude-ts/1.8.0&quot;</td><td>&quot;edge&quot;</td><td>2024-05-22 09:36:36.435</td><td>&quot;tennessee&quot;</td><td>2024-05-22 09:36:34.881</td><td>2024-05-22 09:36:34.883</td><td>1716368557821</td><td>&quot;9aecc15d-64a4-4190-80f5-b5b842…</td><td>&quot;{&#x27;initial_utm_medium&#x27;: &#x27;empty&#x27;…</td><td>&quot;underwriter&quot;</td><td>&quot;false&quot;</td><td>null</td><td>null</td></tr></tbody></table></div>"
      ],
      "text/plain": [
       "shape: (14_526_410, 28)\n",
       "┌────────────┬────────────┬────────┬───────────┬───┬───────────┬───────────┬───────────┬───────────┐\n",
       "│ $insert_id ┆ amplitude_ ┆ app    ┆ city      ┆ … ┆ roles     ┆ isInterna ┆ referrer  ┆ slug      │\n",
       "│ ---        ┆ id         ┆ ---    ┆ ---       ┆   ┆ ---       ┆ lUser     ┆ ---       ┆ ---       │\n",
       "│ str        ┆ ---        ┆ i64    ┆ str       ┆   ┆ str       ┆ ---       ┆ str       ┆ str       │\n",
       "│            ┆ i64        ┆        ┆           ┆   ┆           ┆ str       ┆           ┆           │\n",
       "╞════════════╪════════════╪════════╪═══════════╪═══╪═══════════╪═══════════╪═══════════╪═══════════╡\n",
       "│ 251db963-6 ┆ 9350233300 ┆ 591532 ┆ mumbai    ┆ … ┆ underwrit ┆ false     ┆ https://a ┆ null      │\n",
       "│ 623-448e-8 ┆ 69         ┆        ┆           ┆   ┆ er        ┆           ┆ ccounts.g ┆           │\n",
       "│ 665-f542b8 ┆            ┆        ┆           ┆   ┆           ┆           ┆ oogle.com ┆           │\n",
       "│ …          ┆            ┆        ┆           ┆   ┆           ┆           ┆ /         ┆           │\n",
       "│ 3a95cdac-1 ┆ 9350233300 ┆ 591532 ┆ mumbai    ┆ … ┆ underwrit ┆ false     ┆ https://a ┆ null      │\n",
       "│ 74c-4002-8 ┆ 69         ┆        ┆           ┆   ┆ er        ┆           ┆ ccounts.g ┆           │\n",
       "│ e84-8aeba8 ┆            ┆        ┆           ┆   ┆           ┆           ┆ oogle.com ┆           │\n",
       "│ …          ┆            ┆        ┆           ┆   ┆           ┆           ┆ /         ┆           │\n",
       "│ 50dbfad3-8 ┆ 9350233300 ┆ 591532 ┆ mumbai    ┆ … ┆ underwrit ┆ false     ┆ https://a ┆ null      │\n",
       "│ e24-456a-a ┆ 69         ┆        ┆           ┆   ┆ er        ┆           ┆ ccounts.g ┆           │\n",
       "│ e68-21b09b ┆            ┆        ┆           ┆   ┆           ┆           ┆ oogle.com ┆           │\n",
       "│ …          ┆            ┆        ┆           ┆   ┆           ┆           ┆ /         ┆           │\n",
       "│ ea0a4143-2 ┆ 9350233300 ┆ 591532 ┆ mumbai    ┆ … ┆ underwrit ┆ false     ┆ https://a ┆ null      │\n",
       "│ 380-48e7-a ┆ 69         ┆        ┆           ┆   ┆ er        ┆           ┆ ccounts.g ┆           │\n",
       "│ 83e-8ba854 ┆            ┆        ┆           ┆   ┆           ┆           ┆ oogle.com ┆           │\n",
       "│ …          ┆            ┆        ┆           ┆   ┆           ┆           ┆ /         ┆           │\n",
       "│ 4d89977d-4 ┆ 9350233300 ┆ 591532 ┆ mumbai    ┆ … ┆ underwrit ┆ false     ┆ https://a ┆ null      │\n",
       "│ 734-450c-a ┆ 69         ┆        ┆           ┆   ┆ er        ┆           ┆ ccounts.g ┆           │\n",
       "│ fa1-07e326 ┆            ┆        ┆           ┆   ┆           ┆           ┆ oogle.com ┆           │\n",
       "│ …          ┆            ┆        ┆           ┆   ┆           ┆           ┆ /         ┆           │\n",
       "│ …          ┆ …          ┆ …      ┆ …         ┆ … ┆ …         ┆ …         ┆ …         ┆ …         │\n",
       "│ 102ec3ca-a ┆ 8575404800 ┆ 591532 ┆ nashville ┆ … ┆ underwrit ┆ false     ┆ null      ┆ one-drive │\n",
       "│ 467-41a9-a ┆ 84         ┆        ┆           ┆   ┆ er        ┆           ┆           ┆ -link     │\n",
       "│ a19-94f5b0 ┆            ┆        ┆           ┆   ┆           ┆           ┆           ┆           │\n",
       "│ …          ┆            ┆        ┆           ┆   ┆           ┆           ┆           ┆           │\n",
       "│ 55aec1ce-b ┆ 8575404800 ┆ 591532 ┆ nashville ┆ … ┆ underwrit ┆ false     ┆ null      ┆ property- │\n",
       "│ 876-4f66-b ┆ 84         ┆        ┆           ┆   ┆ er        ┆           ┆           ┆ locations │\n",
       "│ 786-fd5706 ┆            ┆        ┆           ┆   ┆           ┆           ┆           ┆           │\n",
       "│ …          ┆            ┆        ┆           ┆   ┆           ┆           ┆           ┆           │\n",
       "│ 8cb28e22-0 ┆ 8575404800 ┆ 591532 ┆ nashville ┆ … ┆ underwrit ┆ false     ┆ null      ┆ attachmen │\n",
       "│ dc3-456c-9 ┆ 84         ┆        ┆           ┆   ┆ er        ┆           ┆           ┆ ts        │\n",
       "│ 956-41d52b ┆            ┆        ┆           ┆   ┆           ┆           ┆           ┆           │\n",
       "│ …          ┆            ┆        ┆           ┆   ┆           ┆           ┆           ┆           │\n",
       "│ eac4d6a2-2 ┆ 8575404800 ┆ 591532 ┆ nashville ┆ … ┆ underwrit ┆ false     ┆ null      ┆ null      │\n",
       "│ ff0-4e59-8 ┆ 84         ┆        ┆           ┆   ┆ er        ┆           ┆           ┆           │\n",
       "│ 0af-aa1b3f ┆            ┆        ┆           ┆   ┆           ┆           ┆           ┆           │\n",
       "│ …          ┆            ┆        ┆           ┆   ┆           ┆           ┆           ┆           │\n",
       "│ bf44b3b7-2 ┆ 8575404800 ┆ 591532 ┆ nashville ┆ … ┆ underwrit ┆ false     ┆ null      ┆ null      │\n",
       "│ b4d-4e20-a ┆ 84         ┆        ┆           ┆   ┆ er        ┆           ┆           ┆           │\n",
       "│ 18c-65fb63 ┆            ┆        ┆           ┆   ┆           ┆           ┆           ┆           │\n",
       "│ …          ┆            ┆        ┆           ┆   ┆           ┆           ┆           ┆           │\n",
       "└────────────┴────────────┴────────┴───────────┴───┴───────────┴───────────┴───────────┴───────────┘"
      ]
     },
     "execution_count": 7,
     "metadata": {},
     "output_type": "execute_result"
    }
   ],
   "source": [
    "# Lowercase all values\n",
    "df = lowercase_all_values(df, config)\n",
    "df"
   ]
  },
  {
   "cell_type": "markdown",
   "metadata": {},
   "source": [
    "### Replace Null Representations\n",
    "\n",
    "We will also replace some commmon null representations like `empty` and `none` to null values"
   ]
  },
  {
   "cell_type": "code",
   "execution_count": 8,
   "metadata": {},
   "outputs": [
    {
     "data": {
      "text/html": [
       "<div><style>\n",
       ".dataframe > thead > tr,\n",
       ".dataframe > tbody > tr {\n",
       "  text-align: right;\n",
       "  white-space: pre-wrap;\n",
       "}\n",
       "</style>\n",
       "<small>shape: (14_526_410, 28)</small><table border=\"1\" class=\"dataframe\"><thead><tr><th>$insert_id</th><th>amplitude_id</th><th>app</th><th>city</th><th>client_event_time</th><th>client_upload_time</th><th>country</th><th>device_family</th><th>device_id</th><th>dma</th><th>event_id</th><th>event_properties</th><th>event_time</th><th>event_type</th><th>language</th><th>library</th><th>os_name</th><th>processed_time</th><th>region</th><th>server_received_time</th><th>server_upload_time</th><th>session_id</th><th>user_id</th><th>user_properties</th><th>roles</th><th>isInternalUser</th><th>referrer</th><th>slug</th></tr><tr><td>str</td><td>i64</td><td>i64</td><td>str</td><td>datetime[μs]</td><td>datetime[μs]</td><td>str</td><td>str</td><td>str</td><td>str</td><td>i64</td><td>str</td><td>datetime[μs]</td><td>str</td><td>str</td><td>str</td><td>str</td><td>datetime[μs]</td><td>str</td><td>datetime[μs]</td><td>datetime[μs]</td><td>i64</td><td>str</td><td>str</td><td>str</td><td>str</td><td>str</td><td>str</td></tr></thead><tbody><tr><td>&quot;251db963-6623-448e-8665-f542b8…</td><td>935023330069</td><td>591532</td><td>&quot;mumbai&quot;</td><td>2024-10-08 11:41:02.385</td><td>2024-10-08 11:41:04.857</td><td>&quot;india&quot;</td><td>&quot;windows&quot;</td><td>&quot;8bd8b6ab-370f-4b56-b38f-ad221c…</td><td>null</td><td>22216</td><td>&quot;{}&quot;</td><td>2024-10-08 11:41:02.385</td><td>&quot;session_start&quot;</td><td>&quot;english&quot;</td><td>&quot;amplitude-ts/2.7.2&quot;</td><td>&quot;chrome&quot;</td><td>2024-10-08 11:41:05.371</td><td>&quot;maharashtra&quot;</td><td>2024-10-08 11:41:04.857</td><td>2024-10-08 11:41:04.859</td><td>1728387662385</td><td>&quot;8038ea38-8ddf-4a1a-825d-8287c0…</td><td>&quot;{&#x27;roles&#x27;: [&#x27;underwriter&#x27;], &#x27;tr…</td><td>&quot;underwriter&quot;</td><td>&quot;false&quot;</td><td>&quot;https://accounts.google.com/&quot;</td><td>null</td></tr><tr><td>&quot;3a95cdac-174c-4002-8e84-8aeba8…</td><td>935023330069</td><td>591532</td><td>&quot;mumbai&quot;</td><td>2024-10-08 11:41:02.386</td><td>2024-10-08 11:41:04.857</td><td>&quot;india&quot;</td><td>&quot;windows&quot;</td><td>&quot;8bd8b6ab-370f-4b56-b38f-ad221c…</td><td>null</td><td>22215</td><td>&quot;{}&quot;</td><td>2024-10-08 11:41:02.386</td><td>&quot;session_end&quot;</td><td>&quot;english&quot;</td><td>&quot;amplitude-ts/2.7.2&quot;</td><td>&quot;chrome&quot;</td><td>2024-10-08 11:41:05.371</td><td>&quot;maharashtra&quot;</td><td>2024-10-08 11:41:04.857</td><td>2024-10-08 11:41:04.859</td><td>1728387662385</td><td>&quot;8038ea38-8ddf-4a1a-825d-8287c0…</td><td>&quot;{&#x27;roles&#x27;: [&#x27;underwriter&#x27;], &#x27;tr…</td><td>&quot;underwriter&quot;</td><td>&quot;false&quot;</td><td>&quot;https://accounts.google.com/&quot;</td><td>null</td></tr><tr><td>&quot;50dbfad3-8e24-456a-ae68-21b09b…</td><td>935023330069</td><td>591532</td><td>&quot;mumbai&quot;</td><td>2024-10-08 11:41:02.386</td><td>2024-10-08 11:41:04.857</td><td>&quot;india&quot;</td><td>&quot;windows&quot;</td><td>&quot;8bd8b6ab-370f-4b56-b38f-ad221c…</td><td>null</td><td>22216</td><td>&quot;{&#x27;[amplitude] session replay i…</td><td>2024-10-08 11:41:02.386</td><td>&quot;session_start&quot;</td><td>&quot;english&quot;</td><td>&quot;amplitude-ts/2.7.2&quot;</td><td>&quot;chrome&quot;</td><td>2024-10-08 11:41:05.371</td><td>&quot;maharashtra&quot;</td><td>2024-10-08 11:41:04.857</td><td>2024-10-08 11:41:04.859</td><td>1728387662386</td><td>&quot;8038ea38-8ddf-4a1a-825d-8287c0…</td><td>&quot;{&#x27;roles&#x27;: [&#x27;underwriter&#x27;], &#x27;tr…</td><td>&quot;underwriter&quot;</td><td>&quot;false&quot;</td><td>&quot;https://accounts.google.com/&quot;</td><td>null</td></tr><tr><td>&quot;ea0a4143-2380-48e7-a83e-8ba854…</td><td>935023330069</td><td>591532</td><td>&quot;mumbai&quot;</td><td>2024-10-08 11:41:03.500</td><td>2024-10-08 11:41:04.857</td><td>&quot;india&quot;</td><td>&quot;windows&quot;</td><td>&quot;8bd8b6ab-370f-4b56-b38f-ad221c…</td><td>null</td><td>22217</td><td>&quot;{&#x27;rowmodel&#x27;: &#x27;server&#x27;, &#x27;[ampli…</td><td>2024-10-08 11:41:03.500</td><td>&quot;:all-accounts:configurable-tab…</td><td>&quot;english&quot;</td><td>&quot;amplitude-ts/2.7.2&quot;</td><td>&quot;chrome&quot;</td><td>2024-10-08 11:41:05.371</td><td>&quot;maharashtra&quot;</td><td>2024-10-08 11:41:04.857</td><td>2024-10-08 11:41:04.859</td><td>1728387662386</td><td>&quot;8038ea38-8ddf-4a1a-825d-8287c0…</td><td>&quot;{&#x27;roles&#x27;: [&#x27;underwriter&#x27;], &#x27;tr…</td><td>&quot;underwriter&quot;</td><td>&quot;false&quot;</td><td>&quot;https://accounts.google.com/&quot;</td><td>null</td></tr><tr><td>&quot;4d89977d-4734-450c-afa1-07e326…</td><td>935023330069</td><td>591532</td><td>&quot;mumbai&quot;</td><td>2024-10-08 11:41:03.527</td><td>2024-10-08 11:41:04.857</td><td>&quot;india&quot;</td><td>&quot;windows&quot;</td><td>&quot;8bd8b6ab-370f-4b56-b38f-ad221c…</td><td>null</td><td>22217</td><td>&quot;{&#x27;displayname&#x27;: &#x27;all policies …</td><td>2024-10-08 11:41:03.527</td><td>&quot;:all-accounts:widget:render&quot;</td><td>&quot;english&quot;</td><td>&quot;amplitude-ts/2.7.2&quot;</td><td>&quot;chrome&quot;</td><td>2024-10-08 11:41:05.371</td><td>&quot;maharashtra&quot;</td><td>2024-10-08 11:41:04.857</td><td>2024-10-08 11:41:04.859</td><td>1728387662386</td><td>&quot;8038ea38-8ddf-4a1a-825d-8287c0…</td><td>&quot;{&#x27;roles&#x27;: [&#x27;underwriter&#x27;], &#x27;tr…</td><td>&quot;underwriter&quot;</td><td>&quot;false&quot;</td><td>&quot;https://accounts.google.com/&quot;</td><td>null</td></tr><tr><td>&hellip;</td><td>&hellip;</td><td>&hellip;</td><td>&hellip;</td><td>&hellip;</td><td>&hellip;</td><td>&hellip;</td><td>&hellip;</td><td>&hellip;</td><td>&hellip;</td><td>&hellip;</td><td>&hellip;</td><td>&hellip;</td><td>&hellip;</td><td>&hellip;</td><td>&hellip;</td><td>&hellip;</td><td>&hellip;</td><td>&hellip;</td><td>&hellip;</td><td>&hellip;</td><td>&hellip;</td><td>&hellip;</td><td>&hellip;</td><td>&hellip;</td><td>&hellip;</td><td>&hellip;</td><td>&hellip;</td></tr><tr><td>&quot;102ec3ca-a467-41a9-aa19-94f5b0…</td><td>857540480084</td><td>591532</td><td>&quot;nashville&quot;</td><td>2024-05-22 09:36:09.888</td><td>2024-05-22 09:36:10.832</td><td>&quot;united states&quot;</td><td>&quot;windows&quot;</td><td>&quot;a8b357fb-b4fb-45d2-babd-42b470…</td><td>&quot;nashville, tn&quot;</td><td>26</td><td>&quot;{&#x27;displayname&#x27;: &#x27;one drive lin…</td><td>2024-05-22 09:36:09.888</td><td>&quot;account-lines::widget:render&quot;</td><td>&quot;english&quot;</td><td>&quot;amplitude-ts/1.8.0&quot;</td><td>&quot;edge&quot;</td><td>2024-05-22 09:36:11.662</td><td>&quot;tennessee&quot;</td><td>2024-05-22 09:36:10.832</td><td>2024-05-22 09:36:10.833</td><td>1716368557821</td><td>&quot;9aecc15d-64a4-4190-80f5-b5b842…</td><td>&quot;{&#x27;initial_utm_medium&#x27;: &#x27;empty&#x27;…</td><td>&quot;underwriter&quot;</td><td>&quot;false&quot;</td><td>null</td><td>&quot;one-drive-link&quot;</td></tr><tr><td>&quot;55aec1ce-b876-4f66-b786-fd5706…</td><td>857540480084</td><td>591532</td><td>&quot;nashville&quot;</td><td>2024-05-22 09:36:09.917</td><td>2024-05-22 09:36:10.832</td><td>&quot;united states&quot;</td><td>&quot;windows&quot;</td><td>&quot;a8b357fb-b4fb-45d2-babd-42b470…</td><td>&quot;nashville, tn&quot;</td><td>27</td><td>&quot;{&#x27;rowmodel&#x27;: &#x27;legacyserver&#x27;, &#x27;…</td><td>2024-05-22 09:36:09.917</td><td>&quot;account-lines::configurable-ta…</td><td>&quot;english&quot;</td><td>&quot;amplitude-ts/1.8.0&quot;</td><td>&quot;edge&quot;</td><td>2024-05-22 09:36:11.662</td><td>&quot;tennessee&quot;</td><td>2024-05-22 09:36:10.832</td><td>2024-05-22 09:36:10.833</td><td>1716368557821</td><td>&quot;9aecc15d-64a4-4190-80f5-b5b842…</td><td>&quot;{&#x27;initial_utm_medium&#x27;: &#x27;empty&#x27;…</td><td>&quot;underwriter&quot;</td><td>&quot;false&quot;</td><td>null</td><td>&quot;property-locations&quot;</td></tr><tr><td>&quot;8cb28e22-0dc3-456c-9956-41d52b…</td><td>857540480084</td><td>591532</td><td>&quot;nashville&quot;</td><td>2024-05-22 09:36:15.727</td><td>2024-05-22 09:36:16.789</td><td>&quot;united states&quot;</td><td>&quot;windows&quot;</td><td>&quot;a8b357fb-b4fb-45d2-babd-42b470…</td><td>&quot;nashville, tn&quot;</td><td>28</td><td>&quot;{&#x27;displayname&#x27;: &#x27;attachments&#x27;,…</td><td>2024-05-22 09:36:15.727</td><td>&quot;account-lines::widget:render&quot;</td><td>&quot;english&quot;</td><td>&quot;amplitude-ts/1.8.0&quot;</td><td>&quot;edge&quot;</td><td>2024-05-22 09:36:17.297</td><td>&quot;tennessee&quot;</td><td>2024-05-22 09:36:16.789</td><td>2024-05-22 09:36:16.791</td><td>1716368557821</td><td>&quot;9aecc15d-64a4-4190-80f5-b5b842…</td><td>&quot;{&#x27;initial_utm_medium&#x27;: &#x27;empty&#x27;…</td><td>&quot;underwriter&quot;</td><td>&quot;false&quot;</td><td>null</td><td>&quot;attachments&quot;</td></tr><tr><td>&quot;eac4d6a2-2ff0-4e59-80af-aa1b3f…</td><td>857540480084</td><td>591532</td><td>&quot;nashville&quot;</td><td>2024-05-22 09:36:33.812</td><td>2024-05-22 09:36:34.881</td><td>&quot;united states&quot;</td><td>&quot;windows&quot;</td><td>&quot;a8b357fb-b4fb-45d2-babd-42b470…</td><td>&quot;nashville, tn&quot;</td><td>29</td><td>&quot;{}&quot;</td><td>2024-05-22 09:36:33.812</td><td>&quot;::nav-header:action-center-cli…</td><td>&quot;english&quot;</td><td>&quot;amplitude-ts/1.8.0&quot;</td><td>&quot;edge&quot;</td><td>2024-05-22 09:36:36.435</td><td>&quot;tennessee&quot;</td><td>2024-05-22 09:36:34.881</td><td>2024-05-22 09:36:34.883</td><td>1716368557821</td><td>&quot;9aecc15d-64a4-4190-80f5-b5b842…</td><td>&quot;{&#x27;initial_utm_medium&#x27;: &#x27;empty&#x27;…</td><td>&quot;underwriter&quot;</td><td>&quot;false&quot;</td><td>null</td><td>null</td></tr><tr><td>&quot;bf44b3b7-2b4d-4e20-a18c-65fb63…</td><td>857540480084</td><td>591532</td><td>&quot;nashville&quot;</td><td>2024-05-22 09:36:33.815</td><td>2024-05-22 09:36:34.881</td><td>&quot;united states&quot;</td><td>&quot;windows&quot;</td><td>&quot;a8b357fb-b4fb-45d2-babd-42b470…</td><td>&quot;nashville, tn&quot;</td><td>30</td><td>&quot;{}&quot;</td><td>2024-05-22 09:36:33.815</td><td>&quot;action-center:::view&quot;</td><td>&quot;english&quot;</td><td>&quot;amplitude-ts/1.8.0&quot;</td><td>&quot;edge&quot;</td><td>2024-05-22 09:36:36.435</td><td>&quot;tennessee&quot;</td><td>2024-05-22 09:36:34.881</td><td>2024-05-22 09:36:34.883</td><td>1716368557821</td><td>&quot;9aecc15d-64a4-4190-80f5-b5b842…</td><td>&quot;{&#x27;initial_utm_medium&#x27;: &#x27;empty&#x27;…</td><td>&quot;underwriter&quot;</td><td>&quot;false&quot;</td><td>null</td><td>null</td></tr></tbody></table></div>"
      ],
      "text/plain": [
       "shape: (14_526_410, 28)\n",
       "┌────────────┬────────────┬────────┬───────────┬───┬───────────┬───────────┬───────────┬───────────┐\n",
       "│ $insert_id ┆ amplitude_ ┆ app    ┆ city      ┆ … ┆ roles     ┆ isInterna ┆ referrer  ┆ slug      │\n",
       "│ ---        ┆ id         ┆ ---    ┆ ---       ┆   ┆ ---       ┆ lUser     ┆ ---       ┆ ---       │\n",
       "│ str        ┆ ---        ┆ i64    ┆ str       ┆   ┆ str       ┆ ---       ┆ str       ┆ str       │\n",
       "│            ┆ i64        ┆        ┆           ┆   ┆           ┆ str       ┆           ┆           │\n",
       "╞════════════╪════════════╪════════╪═══════════╪═══╪═══════════╪═══════════╪═══════════╪═══════════╡\n",
       "│ 251db963-6 ┆ 9350233300 ┆ 591532 ┆ mumbai    ┆ … ┆ underwrit ┆ false     ┆ https://a ┆ null      │\n",
       "│ 623-448e-8 ┆ 69         ┆        ┆           ┆   ┆ er        ┆           ┆ ccounts.g ┆           │\n",
       "│ 665-f542b8 ┆            ┆        ┆           ┆   ┆           ┆           ┆ oogle.com ┆           │\n",
       "│ …          ┆            ┆        ┆           ┆   ┆           ┆           ┆ /         ┆           │\n",
       "│ 3a95cdac-1 ┆ 9350233300 ┆ 591532 ┆ mumbai    ┆ … ┆ underwrit ┆ false     ┆ https://a ┆ null      │\n",
       "│ 74c-4002-8 ┆ 69         ┆        ┆           ┆   ┆ er        ┆           ┆ ccounts.g ┆           │\n",
       "│ e84-8aeba8 ┆            ┆        ┆           ┆   ┆           ┆           ┆ oogle.com ┆           │\n",
       "│ …          ┆            ┆        ┆           ┆   ┆           ┆           ┆ /         ┆           │\n",
       "│ 50dbfad3-8 ┆ 9350233300 ┆ 591532 ┆ mumbai    ┆ … ┆ underwrit ┆ false     ┆ https://a ┆ null      │\n",
       "│ e24-456a-a ┆ 69         ┆        ┆           ┆   ┆ er        ┆           ┆ ccounts.g ┆           │\n",
       "│ e68-21b09b ┆            ┆        ┆           ┆   ┆           ┆           ┆ oogle.com ┆           │\n",
       "│ …          ┆            ┆        ┆           ┆   ┆           ┆           ┆ /         ┆           │\n",
       "│ ea0a4143-2 ┆ 9350233300 ┆ 591532 ┆ mumbai    ┆ … ┆ underwrit ┆ false     ┆ https://a ┆ null      │\n",
       "│ 380-48e7-a ┆ 69         ┆        ┆           ┆   ┆ er        ┆           ┆ ccounts.g ┆           │\n",
       "│ 83e-8ba854 ┆            ┆        ┆           ┆   ┆           ┆           ┆ oogle.com ┆           │\n",
       "│ …          ┆            ┆        ┆           ┆   ┆           ┆           ┆ /         ┆           │\n",
       "│ 4d89977d-4 ┆ 9350233300 ┆ 591532 ┆ mumbai    ┆ … ┆ underwrit ┆ false     ┆ https://a ┆ null      │\n",
       "│ 734-450c-a ┆ 69         ┆        ┆           ┆   ┆ er        ┆           ┆ ccounts.g ┆           │\n",
       "│ fa1-07e326 ┆            ┆        ┆           ┆   ┆           ┆           ┆ oogle.com ┆           │\n",
       "│ …          ┆            ┆        ┆           ┆   ┆           ┆           ┆ /         ┆           │\n",
       "│ …          ┆ …          ┆ …      ┆ …         ┆ … ┆ …         ┆ …         ┆ …         ┆ …         │\n",
       "│ 102ec3ca-a ┆ 8575404800 ┆ 591532 ┆ nashville ┆ … ┆ underwrit ┆ false     ┆ null      ┆ one-drive │\n",
       "│ 467-41a9-a ┆ 84         ┆        ┆           ┆   ┆ er        ┆           ┆           ┆ -link     │\n",
       "│ a19-94f5b0 ┆            ┆        ┆           ┆   ┆           ┆           ┆           ┆           │\n",
       "│ …          ┆            ┆        ┆           ┆   ┆           ┆           ┆           ┆           │\n",
       "│ 55aec1ce-b ┆ 8575404800 ┆ 591532 ┆ nashville ┆ … ┆ underwrit ┆ false     ┆ null      ┆ property- │\n",
       "│ 876-4f66-b ┆ 84         ┆        ┆           ┆   ┆ er        ┆           ┆           ┆ locations │\n",
       "│ 786-fd5706 ┆            ┆        ┆           ┆   ┆           ┆           ┆           ┆           │\n",
       "│ …          ┆            ┆        ┆           ┆   ┆           ┆           ┆           ┆           │\n",
       "│ 8cb28e22-0 ┆ 8575404800 ┆ 591532 ┆ nashville ┆ … ┆ underwrit ┆ false     ┆ null      ┆ attachmen │\n",
       "│ dc3-456c-9 ┆ 84         ┆        ┆           ┆   ┆ er        ┆           ┆           ┆ ts        │\n",
       "│ 956-41d52b ┆            ┆        ┆           ┆   ┆           ┆           ┆           ┆           │\n",
       "│ …          ┆            ┆        ┆           ┆   ┆           ┆           ┆           ┆           │\n",
       "│ eac4d6a2-2 ┆ 8575404800 ┆ 591532 ┆ nashville ┆ … ┆ underwrit ┆ false     ┆ null      ┆ null      │\n",
       "│ ff0-4e59-8 ┆ 84         ┆        ┆           ┆   ┆ er        ┆           ┆           ┆           │\n",
       "│ 0af-aa1b3f ┆            ┆        ┆           ┆   ┆           ┆           ┆           ┆           │\n",
       "│ …          ┆            ┆        ┆           ┆   ┆           ┆           ┆           ┆           │\n",
       "│ bf44b3b7-2 ┆ 8575404800 ┆ 591532 ┆ nashville ┆ … ┆ underwrit ┆ false     ┆ null      ┆ null      │\n",
       "│ b4d-4e20-a ┆ 84         ┆        ┆           ┆   ┆ er        ┆           ┆           ┆           │\n",
       "│ 18c-65fb63 ┆            ┆        ┆           ┆   ┆           ┆           ┆           ┆           │\n",
       "│ …          ┆            ┆        ┆           ┆   ┆           ┆           ┆           ┆           │\n",
       "└────────────┴────────────┴────────┴───────────┴───┴───────────┴───────────┴───────────┴───────────┘"
      ]
     },
     "execution_count": 8,
     "metadata": {},
     "output_type": "execute_result"
    }
   ],
   "source": [
    "# Replace with null\n",
    "df = replace_with_null(df, config)\n",
    "df"
   ]
  },
  {
   "cell_type": "markdown",
   "metadata": {},
   "source": [
    "### Create Session Duration "
   ]
  },
  {
   "cell_type": "code",
   "execution_count": 9,
   "metadata": {},
   "outputs": [
    {
     "data": {
      "text/html": [
       "<div><style>\n",
       ".dataframe > thead > tr,\n",
       ".dataframe > tbody > tr {\n",
       "  text-align: right;\n",
       "  white-space: pre-wrap;\n",
       "}\n",
       "</style>\n",
       "<small>shape: (14_119_738, 29)</small><table border=\"1\" class=\"dataframe\"><thead><tr><th>$insert_id</th><th>amplitude_id</th><th>app</th><th>city</th><th>client_event_time</th><th>client_upload_time</th><th>country</th><th>device_family</th><th>device_id</th><th>dma</th><th>event_id</th><th>event_properties</th><th>event_time</th><th>event_type</th><th>language</th><th>library</th><th>os_name</th><th>processed_time</th><th>region</th><th>server_received_time</th><th>server_upload_time</th><th>session_id</th><th>user_id</th><th>user_properties</th><th>roles</th><th>isInternalUser</th><th>referrer</th><th>slug</th><th>session_seconds</th></tr><tr><td>str</td><td>i64</td><td>i64</td><td>str</td><td>datetime[μs]</td><td>datetime[μs]</td><td>str</td><td>str</td><td>str</td><td>str</td><td>i64</td><td>str</td><td>datetime[μs]</td><td>str</td><td>str</td><td>str</td><td>str</td><td>datetime[μs]</td><td>str</td><td>datetime[μs]</td><td>datetime[μs]</td><td>i64</td><td>str</td><td>str</td><td>str</td><td>str</td><td>str</td><td>str</td><td>i64</td></tr></thead><tbody><tr><td>&quot;251db963-6623-448e-8665-f542b8…</td><td>935023330069</td><td>591532</td><td>&quot;mumbai&quot;</td><td>2024-10-08 11:41:02.385</td><td>2024-10-08 11:41:04.857</td><td>&quot;india&quot;</td><td>&quot;windows&quot;</td><td>&quot;8bd8b6ab-370f-4b56-b38f-ad221c…</td><td>null</td><td>22216</td><td>&quot;{}&quot;</td><td>2024-10-08 11:41:02.385</td><td>&quot;session_start&quot;</td><td>&quot;english&quot;</td><td>&quot;amplitude-ts/2.7.2&quot;</td><td>&quot;chrome&quot;</td><td>2024-10-08 11:41:05.371</td><td>&quot;maharashtra&quot;</td><td>2024-10-08 11:41:04.857</td><td>2024-10-08 11:41:04.859</td><td>1728387662385</td><td>&quot;8038ea38-8ddf-4a1a-825d-8287c0…</td><td>&quot;{&#x27;roles&#x27;: [&#x27;underwriter&#x27;], &#x27;tr…</td><td>&quot;underwriter&quot;</td><td>&quot;false&quot;</td><td>&quot;https://accounts.google.com/&quot;</td><td>null</td><td>0</td></tr><tr><td>&quot;3a95cdac-174c-4002-8e84-8aeba8…</td><td>935023330069</td><td>591532</td><td>&quot;mumbai&quot;</td><td>2024-10-08 11:41:02.386</td><td>2024-10-08 11:41:04.857</td><td>&quot;india&quot;</td><td>&quot;windows&quot;</td><td>&quot;8bd8b6ab-370f-4b56-b38f-ad221c…</td><td>null</td><td>22215</td><td>&quot;{}&quot;</td><td>2024-10-08 11:41:02.386</td><td>&quot;session_end&quot;</td><td>&quot;english&quot;</td><td>&quot;amplitude-ts/2.7.2&quot;</td><td>&quot;chrome&quot;</td><td>2024-10-08 11:41:05.371</td><td>&quot;maharashtra&quot;</td><td>2024-10-08 11:41:04.857</td><td>2024-10-08 11:41:04.859</td><td>1728387662385</td><td>&quot;8038ea38-8ddf-4a1a-825d-8287c0…</td><td>&quot;{&#x27;roles&#x27;: [&#x27;underwriter&#x27;], &#x27;tr…</td><td>&quot;underwriter&quot;</td><td>&quot;false&quot;</td><td>&quot;https://accounts.google.com/&quot;</td><td>null</td><td>0</td></tr><tr><td>&quot;50dbfad3-8e24-456a-ae68-21b09b…</td><td>935023330069</td><td>591532</td><td>&quot;mumbai&quot;</td><td>2024-10-08 11:41:02.386</td><td>2024-10-08 11:41:04.857</td><td>&quot;india&quot;</td><td>&quot;windows&quot;</td><td>&quot;8bd8b6ab-370f-4b56-b38f-ad221c…</td><td>null</td><td>22216</td><td>&quot;{&#x27;[amplitude] session replay i…</td><td>2024-10-08 11:41:02.386</td><td>&quot;session_start&quot;</td><td>&quot;english&quot;</td><td>&quot;amplitude-ts/2.7.2&quot;</td><td>&quot;chrome&quot;</td><td>2024-10-08 11:41:05.371</td><td>&quot;maharashtra&quot;</td><td>2024-10-08 11:41:04.857</td><td>2024-10-08 11:41:04.859</td><td>1728387662386</td><td>&quot;8038ea38-8ddf-4a1a-825d-8287c0…</td><td>&quot;{&#x27;roles&#x27;: [&#x27;underwriter&#x27;], &#x27;tr…</td><td>&quot;underwriter&quot;</td><td>&quot;false&quot;</td><td>&quot;https://accounts.google.com/&quot;</td><td>null</td><td>2455</td></tr><tr><td>&quot;ea0a4143-2380-48e7-a83e-8ba854…</td><td>935023330069</td><td>591532</td><td>&quot;mumbai&quot;</td><td>2024-10-08 11:41:03.500</td><td>2024-10-08 11:41:04.857</td><td>&quot;india&quot;</td><td>&quot;windows&quot;</td><td>&quot;8bd8b6ab-370f-4b56-b38f-ad221c…</td><td>null</td><td>22217</td><td>&quot;{&#x27;rowmodel&#x27;: &#x27;server&#x27;, &#x27;[ampli…</td><td>2024-10-08 11:41:03.500</td><td>&quot;:all-accounts:configurable-tab…</td><td>&quot;english&quot;</td><td>&quot;amplitude-ts/2.7.2&quot;</td><td>&quot;chrome&quot;</td><td>2024-10-08 11:41:05.371</td><td>&quot;maharashtra&quot;</td><td>2024-10-08 11:41:04.857</td><td>2024-10-08 11:41:04.859</td><td>1728387662386</td><td>&quot;8038ea38-8ddf-4a1a-825d-8287c0…</td><td>&quot;{&#x27;roles&#x27;: [&#x27;underwriter&#x27;], &#x27;tr…</td><td>&quot;underwriter&quot;</td><td>&quot;false&quot;</td><td>&quot;https://accounts.google.com/&quot;</td><td>null</td><td>2455</td></tr><tr><td>&quot;4d89977d-4734-450c-afa1-07e326…</td><td>935023330069</td><td>591532</td><td>&quot;mumbai&quot;</td><td>2024-10-08 11:41:03.527</td><td>2024-10-08 11:41:04.857</td><td>&quot;india&quot;</td><td>&quot;windows&quot;</td><td>&quot;8bd8b6ab-370f-4b56-b38f-ad221c…</td><td>null</td><td>22217</td><td>&quot;{&#x27;displayname&#x27;: &#x27;all policies …</td><td>2024-10-08 11:41:03.527</td><td>&quot;:all-accounts:widget:render&quot;</td><td>&quot;english&quot;</td><td>&quot;amplitude-ts/2.7.2&quot;</td><td>&quot;chrome&quot;</td><td>2024-10-08 11:41:05.371</td><td>&quot;maharashtra&quot;</td><td>2024-10-08 11:41:04.857</td><td>2024-10-08 11:41:04.859</td><td>1728387662386</td><td>&quot;8038ea38-8ddf-4a1a-825d-8287c0…</td><td>&quot;{&#x27;roles&#x27;: [&#x27;underwriter&#x27;], &#x27;tr…</td><td>&quot;underwriter&quot;</td><td>&quot;false&quot;</td><td>&quot;https://accounts.google.com/&quot;</td><td>null</td><td>2455</td></tr><tr><td>&hellip;</td><td>&hellip;</td><td>&hellip;</td><td>&hellip;</td><td>&hellip;</td><td>&hellip;</td><td>&hellip;</td><td>&hellip;</td><td>&hellip;</td><td>&hellip;</td><td>&hellip;</td><td>&hellip;</td><td>&hellip;</td><td>&hellip;</td><td>&hellip;</td><td>&hellip;</td><td>&hellip;</td><td>&hellip;</td><td>&hellip;</td><td>&hellip;</td><td>&hellip;</td><td>&hellip;</td><td>&hellip;</td><td>&hellip;</td><td>&hellip;</td><td>&hellip;</td><td>&hellip;</td><td>&hellip;</td><td>&hellip;</td></tr><tr><td>&quot;102ec3ca-a467-41a9-aa19-94f5b0…</td><td>857540480084</td><td>591532</td><td>&quot;nashville&quot;</td><td>2024-05-22 09:36:09.888</td><td>2024-05-22 09:36:10.832</td><td>&quot;united states&quot;</td><td>&quot;windows&quot;</td><td>&quot;a8b357fb-b4fb-45d2-babd-42b470…</td><td>&quot;nashville, tn&quot;</td><td>26</td><td>&quot;{&#x27;displayname&#x27;: &#x27;one drive lin…</td><td>2024-05-22 09:36:09.888</td><td>&quot;account-lines::widget:render&quot;</td><td>&quot;english&quot;</td><td>&quot;amplitude-ts/1.8.0&quot;</td><td>&quot;edge&quot;</td><td>2024-05-22 09:36:11.662</td><td>&quot;tennessee&quot;</td><td>2024-05-22 09:36:10.832</td><td>2024-05-22 09:36:10.833</td><td>1716368557821</td><td>&quot;9aecc15d-64a4-4190-80f5-b5b842…</td><td>&quot;{&#x27;initial_utm_medium&#x27;: &#x27;empty&#x27;…</td><td>&quot;underwriter&quot;</td><td>&quot;false&quot;</td><td>null</td><td>&quot;one-drive-link&quot;</td><td>2371</td></tr><tr><td>&quot;55aec1ce-b876-4f66-b786-fd5706…</td><td>857540480084</td><td>591532</td><td>&quot;nashville&quot;</td><td>2024-05-22 09:36:09.917</td><td>2024-05-22 09:36:10.832</td><td>&quot;united states&quot;</td><td>&quot;windows&quot;</td><td>&quot;a8b357fb-b4fb-45d2-babd-42b470…</td><td>&quot;nashville, tn&quot;</td><td>27</td><td>&quot;{&#x27;rowmodel&#x27;: &#x27;legacyserver&#x27;, &#x27;…</td><td>2024-05-22 09:36:09.917</td><td>&quot;account-lines::configurable-ta…</td><td>&quot;english&quot;</td><td>&quot;amplitude-ts/1.8.0&quot;</td><td>&quot;edge&quot;</td><td>2024-05-22 09:36:11.662</td><td>&quot;tennessee&quot;</td><td>2024-05-22 09:36:10.832</td><td>2024-05-22 09:36:10.833</td><td>1716368557821</td><td>&quot;9aecc15d-64a4-4190-80f5-b5b842…</td><td>&quot;{&#x27;initial_utm_medium&#x27;: &#x27;empty&#x27;…</td><td>&quot;underwriter&quot;</td><td>&quot;false&quot;</td><td>null</td><td>&quot;property-locations&quot;</td><td>2371</td></tr><tr><td>&quot;8cb28e22-0dc3-456c-9956-41d52b…</td><td>857540480084</td><td>591532</td><td>&quot;nashville&quot;</td><td>2024-05-22 09:36:15.727</td><td>2024-05-22 09:36:16.789</td><td>&quot;united states&quot;</td><td>&quot;windows&quot;</td><td>&quot;a8b357fb-b4fb-45d2-babd-42b470…</td><td>&quot;nashville, tn&quot;</td><td>28</td><td>&quot;{&#x27;displayname&#x27;: &#x27;attachments&#x27;,…</td><td>2024-05-22 09:36:15.727</td><td>&quot;account-lines::widget:render&quot;</td><td>&quot;english&quot;</td><td>&quot;amplitude-ts/1.8.0&quot;</td><td>&quot;edge&quot;</td><td>2024-05-22 09:36:17.297</td><td>&quot;tennessee&quot;</td><td>2024-05-22 09:36:16.789</td><td>2024-05-22 09:36:16.791</td><td>1716368557821</td><td>&quot;9aecc15d-64a4-4190-80f5-b5b842…</td><td>&quot;{&#x27;initial_utm_medium&#x27;: &#x27;empty&#x27;…</td><td>&quot;underwriter&quot;</td><td>&quot;false&quot;</td><td>null</td><td>&quot;attachments&quot;</td><td>2371</td></tr><tr><td>&quot;eac4d6a2-2ff0-4e59-80af-aa1b3f…</td><td>857540480084</td><td>591532</td><td>&quot;nashville&quot;</td><td>2024-05-22 09:36:33.812</td><td>2024-05-22 09:36:34.881</td><td>&quot;united states&quot;</td><td>&quot;windows&quot;</td><td>&quot;a8b357fb-b4fb-45d2-babd-42b470…</td><td>&quot;nashville, tn&quot;</td><td>29</td><td>&quot;{}&quot;</td><td>2024-05-22 09:36:33.812</td><td>&quot;::nav-header:action-center-cli…</td><td>&quot;english&quot;</td><td>&quot;amplitude-ts/1.8.0&quot;</td><td>&quot;edge&quot;</td><td>2024-05-22 09:36:36.435</td><td>&quot;tennessee&quot;</td><td>2024-05-22 09:36:34.881</td><td>2024-05-22 09:36:34.883</td><td>1716368557821</td><td>&quot;9aecc15d-64a4-4190-80f5-b5b842…</td><td>&quot;{&#x27;initial_utm_medium&#x27;: &#x27;empty&#x27;…</td><td>&quot;underwriter&quot;</td><td>&quot;false&quot;</td><td>null</td><td>null</td><td>2371</td></tr><tr><td>&quot;bf44b3b7-2b4d-4e20-a18c-65fb63…</td><td>857540480084</td><td>591532</td><td>&quot;nashville&quot;</td><td>2024-05-22 09:36:33.815</td><td>2024-05-22 09:36:34.881</td><td>&quot;united states&quot;</td><td>&quot;windows&quot;</td><td>&quot;a8b357fb-b4fb-45d2-babd-42b470…</td><td>&quot;nashville, tn&quot;</td><td>30</td><td>&quot;{}&quot;</td><td>2024-05-22 09:36:33.815</td><td>&quot;action-center:::view&quot;</td><td>&quot;english&quot;</td><td>&quot;amplitude-ts/1.8.0&quot;</td><td>&quot;edge&quot;</td><td>2024-05-22 09:36:36.435</td><td>&quot;tennessee&quot;</td><td>2024-05-22 09:36:34.881</td><td>2024-05-22 09:36:34.883</td><td>1716368557821</td><td>&quot;9aecc15d-64a4-4190-80f5-b5b842…</td><td>&quot;{&#x27;initial_utm_medium&#x27;: &#x27;empty&#x27;…</td><td>&quot;underwriter&quot;</td><td>&quot;false&quot;</td><td>null</td><td>null</td><td>2371</td></tr></tbody></table></div>"
      ],
      "text/plain": [
       "shape: (14_119_738, 29)\n",
       "┌────────────┬────────────┬────────┬───────────┬───┬───────────┬───────────┬───────────┬───────────┐\n",
       "│ $insert_id ┆ amplitude_ ┆ app    ┆ city      ┆ … ┆ isInterna ┆ referrer  ┆ slug      ┆ session_s │\n",
       "│ ---        ┆ id         ┆ ---    ┆ ---       ┆   ┆ lUser     ┆ ---       ┆ ---       ┆ econds    │\n",
       "│ str        ┆ ---        ┆ i64    ┆ str       ┆   ┆ ---       ┆ str       ┆ str       ┆ ---       │\n",
       "│            ┆ i64        ┆        ┆           ┆   ┆ str       ┆           ┆           ┆ i64       │\n",
       "╞════════════╪════════════╪════════╪═══════════╪═══╪═══════════╪═══════════╪═══════════╪═══════════╡\n",
       "│ 251db963-6 ┆ 9350233300 ┆ 591532 ┆ mumbai    ┆ … ┆ false     ┆ https://a ┆ null      ┆ 0         │\n",
       "│ 623-448e-8 ┆ 69         ┆        ┆           ┆   ┆           ┆ ccounts.g ┆           ┆           │\n",
       "│ 665-f542b8 ┆            ┆        ┆           ┆   ┆           ┆ oogle.com ┆           ┆           │\n",
       "│ …          ┆            ┆        ┆           ┆   ┆           ┆ /         ┆           ┆           │\n",
       "│ 3a95cdac-1 ┆ 9350233300 ┆ 591532 ┆ mumbai    ┆ … ┆ false     ┆ https://a ┆ null      ┆ 0         │\n",
       "│ 74c-4002-8 ┆ 69         ┆        ┆           ┆   ┆           ┆ ccounts.g ┆           ┆           │\n",
       "│ e84-8aeba8 ┆            ┆        ┆           ┆   ┆           ┆ oogle.com ┆           ┆           │\n",
       "│ …          ┆            ┆        ┆           ┆   ┆           ┆ /         ┆           ┆           │\n",
       "│ 50dbfad3-8 ┆ 9350233300 ┆ 591532 ┆ mumbai    ┆ … ┆ false     ┆ https://a ┆ null      ┆ 2455      │\n",
       "│ e24-456a-a ┆ 69         ┆        ┆           ┆   ┆           ┆ ccounts.g ┆           ┆           │\n",
       "│ e68-21b09b ┆            ┆        ┆           ┆   ┆           ┆ oogle.com ┆           ┆           │\n",
       "│ …          ┆            ┆        ┆           ┆   ┆           ┆ /         ┆           ┆           │\n",
       "│ ea0a4143-2 ┆ 9350233300 ┆ 591532 ┆ mumbai    ┆ … ┆ false     ┆ https://a ┆ null      ┆ 2455      │\n",
       "│ 380-48e7-a ┆ 69         ┆        ┆           ┆   ┆           ┆ ccounts.g ┆           ┆           │\n",
       "│ 83e-8ba854 ┆            ┆        ┆           ┆   ┆           ┆ oogle.com ┆           ┆           │\n",
       "│ …          ┆            ┆        ┆           ┆   ┆           ┆ /         ┆           ┆           │\n",
       "│ 4d89977d-4 ┆ 9350233300 ┆ 591532 ┆ mumbai    ┆ … ┆ false     ┆ https://a ┆ null      ┆ 2455      │\n",
       "│ 734-450c-a ┆ 69         ┆        ┆           ┆   ┆           ┆ ccounts.g ┆           ┆           │\n",
       "│ fa1-07e326 ┆            ┆        ┆           ┆   ┆           ┆ oogle.com ┆           ┆           │\n",
       "│ …          ┆            ┆        ┆           ┆   ┆           ┆ /         ┆           ┆           │\n",
       "│ …          ┆ …          ┆ …      ┆ …         ┆ … ┆ …         ┆ …         ┆ …         ┆ …         │\n",
       "│ 102ec3ca-a ┆ 8575404800 ┆ 591532 ┆ nashville ┆ … ┆ false     ┆ null      ┆ one-drive ┆ 2371      │\n",
       "│ 467-41a9-a ┆ 84         ┆        ┆           ┆   ┆           ┆           ┆ -link     ┆           │\n",
       "│ a19-94f5b0 ┆            ┆        ┆           ┆   ┆           ┆           ┆           ┆           │\n",
       "│ …          ┆            ┆        ┆           ┆   ┆           ┆           ┆           ┆           │\n",
       "│ 55aec1ce-b ┆ 8575404800 ┆ 591532 ┆ nashville ┆ … ┆ false     ┆ null      ┆ property- ┆ 2371      │\n",
       "│ 876-4f66-b ┆ 84         ┆        ┆           ┆   ┆           ┆           ┆ locations ┆           │\n",
       "│ 786-fd5706 ┆            ┆        ┆           ┆   ┆           ┆           ┆           ┆           │\n",
       "│ …          ┆            ┆        ┆           ┆   ┆           ┆           ┆           ┆           │\n",
       "│ 8cb28e22-0 ┆ 8575404800 ┆ 591532 ┆ nashville ┆ … ┆ false     ┆ null      ┆ attachmen ┆ 2371      │\n",
       "│ dc3-456c-9 ┆ 84         ┆        ┆           ┆   ┆           ┆           ┆ ts        ┆           │\n",
       "│ 956-41d52b ┆            ┆        ┆           ┆   ┆           ┆           ┆           ┆           │\n",
       "│ …          ┆            ┆        ┆           ┆   ┆           ┆           ┆           ┆           │\n",
       "│ eac4d6a2-2 ┆ 8575404800 ┆ 591532 ┆ nashville ┆ … ┆ false     ┆ null      ┆ null      ┆ 2371      │\n",
       "│ ff0-4e59-8 ┆ 84         ┆        ┆           ┆   ┆           ┆           ┆           ┆           │\n",
       "│ 0af-aa1b3f ┆            ┆        ┆           ┆   ┆           ┆           ┆           ┆           │\n",
       "│ …          ┆            ┆        ┆           ┆   ┆           ┆           ┆           ┆           │\n",
       "│ bf44b3b7-2 ┆ 8575404800 ┆ 591532 ┆ nashville ┆ … ┆ false     ┆ null      ┆ null      ┆ 2371      │\n",
       "│ b4d-4e20-a ┆ 84         ┆        ┆           ┆   ┆           ┆           ┆           ┆           │\n",
       "│ 18c-65fb63 ┆            ┆        ┆           ┆   ┆           ┆           ┆           ┆           │\n",
       "│ …          ┆            ┆        ┆           ┆   ┆           ┆           ┆           ┆           │\n",
       "└────────────┴────────────┴────────┴───────────┴───┴───────────┴───────────┴───────────┴───────────┘"
      ]
     },
     "execution_count": 9,
     "metadata": {},
     "output_type": "execute_result"
    }
   ],
   "source": [
    "# Filter out empty user ids\n",
    "df = df.filter(pl.col('user_id').is_not_null())\n",
    "df\n",
    "\n",
    "# Create session durations\n",
    "user_session = (df.group_by(['user_id', 'session_id'])\n",
    "                  .agg([pl.max('client_event_time').name.prefix('max_'),\n",
    "                        pl.min('client_event_time').name.prefix('min_')]))\n",
    "\n",
    "# Session time calculation \n",
    "user_session = user_session.with_columns((pl.col('max_client_event_time') \n",
    "                                          - pl.col('min_client_event_time')).alias('session_duration'))\n",
    "user_session = user_session.with_columns(pl.col('session_duration').dt.total_seconds().alias('session_seconds'))\n",
    "\n",
    "\n",
    "# Merge columns to original df\n",
    "df = df.join(user_session.select('user_id', 'session_id', 'session_seconds'), on=['user_id', 'session_id'], how='left')\n",
    "df"
   ]
  },
  {
   "cell_type": "markdown",
   "metadata": {},
   "source": [
    "## Feature Engineering\n",
    "\n",
    "Next, we will add some features which will serve to be useful in the modelling phase"
   ]
  },
  {
   "cell_type": "markdown",
   "metadata": {},
   "source": [
    "### Group Regions \n",
    "\n",
    "We notice in EDA that most regions come from the United States, with a smaller subset in other countries.\n",
    "\n",
    "For regions in the US, we will group them to four main regions: `northeast`, `midwest`, `south`, `west`\n",
    "\n",
    "For any regions outside the US, we will classify them as `international`"
   ]
  },
  {
   "cell_type": "code",
   "execution_count": 10,
   "metadata": {},
   "outputs": [],
   "source": [
    "def group_region_categories(df, input_col, output_col, condense_map_dict):\n",
    "\n",
    "     # Get dictionary mapping from condense map\n",
    "    map_dict = {}\n",
    "    else_val = condense_map_dict.get('else', None)\n",
    "\n",
    "    for key, val in condense_map_dict.items():\n",
    "        if key == 'else':\n",
    "            continue\n",
    "        map_dict.update({itm : key for itm in val})\n",
    "    \n",
    "    print(map_dict)\n",
    "    # Update values in the column with respective mappings\n",
    "    df = df.with_columns(pl.col(input_col).replace(map_dict).alias(output_col))\n",
    "\n",
    "    if else_val is not None:\n",
    "        df = df.with_columns(pl.when(pl.col(output_col).is_in(condense_map_dict.keys()))\n",
    "                                .then(pl.col(output_col))\n",
    "                                .otherwise(pl.lit(else_val))\n",
    "                                .alias(output_col))\n",
    "    return df"
   ]
  },
  {
   "cell_type": "code",
   "execution_count": 11,
   "metadata": {},
   "outputs": [],
   "source": [
    "# Specify region mappings\n",
    "us_region_mapping = {\n",
    "    'northeast': ['connecticut', 'maine', 'massachusetts', 'new hampshire', 'new jersey', 'new york', 'pennsylvania', 'rhode island', 'vermont'],\n",
    "    'midwest': ['illinois', 'indiana', 'iowa', 'kansas', 'michigan', 'minnesota', 'missouri', 'nebraska', 'north dakota', 'ohio', 'south dakota', 'wisconsin'],\n",
    "    'south': ['alabama', 'arkansas', 'delaware', 'florida', 'georgia', 'kentucky', 'louisiana', 'maryland', 'mississippi', 'north carolina', 'oklahoma', \n",
    "              'south carolina', 'tennessee', 'texas', 'virginia', 'west virginia'],\n",
    "    'west': ['alaska', 'arizona', 'california', 'colorado', 'hawaii', 'idaho', 'montana', 'nevada', 'new mexico', 'oregon', 'utah', 'washington', 'wyoming'],\n",
    "    'else': 'international'\n",
    "}\n"
   ]
  },
  {
   "cell_type": "code",
   "execution_count": 12,
   "metadata": {},
   "outputs": [
    {
     "name": "stdout",
     "output_type": "stream",
     "text": [
      "{'connecticut': 'northeast', 'maine': 'northeast', 'massachusetts': 'northeast', 'new hampshire': 'northeast', 'new jersey': 'northeast', 'new york': 'northeast', 'pennsylvania': 'northeast', 'rhode island': 'northeast', 'vermont': 'northeast', 'illinois': 'midwest', 'indiana': 'midwest', 'iowa': 'midwest', 'kansas': 'midwest', 'michigan': 'midwest', 'minnesota': 'midwest', 'missouri': 'midwest', 'nebraska': 'midwest', 'north dakota': 'midwest', 'ohio': 'midwest', 'south dakota': 'midwest', 'wisconsin': 'midwest', 'alabama': 'south', 'arkansas': 'south', 'delaware': 'south', 'florida': 'south', 'georgia': 'south', 'kentucky': 'south', 'louisiana': 'south', 'maryland': 'south', 'mississippi': 'south', 'north carolina': 'south', 'oklahoma': 'south', 'south carolina': 'south', 'tennessee': 'south', 'texas': 'south', 'virginia': 'south', 'west virginia': 'south', 'alaska': 'west', 'arizona': 'west', 'california': 'west', 'colorado': 'west', 'hawaii': 'west', 'idaho': 'west', 'montana': 'west', 'nevada': 'west', 'new mexico': 'west', 'oregon': 'west', 'utah': 'west', 'washington': 'west', 'wyoming': 'west'}\n"
     ]
    },
    {
     "data": {
      "text/html": [
       "<div><style>\n",
       ".dataframe > thead > tr,\n",
       ".dataframe > tbody > tr {\n",
       "  text-align: right;\n",
       "  white-space: pre-wrap;\n",
       "}\n",
       "</style>\n",
       "<small>shape: (14_119_738, 30)</small><table border=\"1\" class=\"dataframe\"><thead><tr><th>$insert_id</th><th>amplitude_id</th><th>app</th><th>city</th><th>client_event_time</th><th>client_upload_time</th><th>country</th><th>device_family</th><th>device_id</th><th>dma</th><th>event_id</th><th>event_properties</th><th>event_time</th><th>event_type</th><th>language</th><th>library</th><th>os_name</th><th>processed_time</th><th>region</th><th>server_received_time</th><th>server_upload_time</th><th>session_id</th><th>user_id</th><th>user_properties</th><th>roles</th><th>isInternalUser</th><th>referrer</th><th>slug</th><th>session_seconds</th><th>region_grouped</th></tr><tr><td>str</td><td>i64</td><td>i64</td><td>str</td><td>datetime[μs]</td><td>datetime[μs]</td><td>str</td><td>str</td><td>str</td><td>str</td><td>i64</td><td>str</td><td>datetime[μs]</td><td>str</td><td>str</td><td>str</td><td>str</td><td>datetime[μs]</td><td>str</td><td>datetime[μs]</td><td>datetime[μs]</td><td>i64</td><td>str</td><td>str</td><td>str</td><td>str</td><td>str</td><td>str</td><td>i64</td><td>str</td></tr></thead><tbody><tr><td>&quot;251db963-6623-448e-8665-f542b8…</td><td>935023330069</td><td>591532</td><td>&quot;mumbai&quot;</td><td>2024-10-08 11:41:02.385</td><td>2024-10-08 11:41:04.857</td><td>&quot;india&quot;</td><td>&quot;windows&quot;</td><td>&quot;8bd8b6ab-370f-4b56-b38f-ad221c…</td><td>null</td><td>22216</td><td>&quot;{}&quot;</td><td>2024-10-08 11:41:02.385</td><td>&quot;session_start&quot;</td><td>&quot;english&quot;</td><td>&quot;amplitude-ts/2.7.2&quot;</td><td>&quot;chrome&quot;</td><td>2024-10-08 11:41:05.371</td><td>&quot;maharashtra&quot;</td><td>2024-10-08 11:41:04.857</td><td>2024-10-08 11:41:04.859</td><td>1728387662385</td><td>&quot;8038ea38-8ddf-4a1a-825d-8287c0…</td><td>&quot;{&#x27;roles&#x27;: [&#x27;underwriter&#x27;], &#x27;tr…</td><td>&quot;underwriter&quot;</td><td>&quot;false&quot;</td><td>&quot;https://accounts.google.com/&quot;</td><td>null</td><td>0</td><td>&quot;international&quot;</td></tr><tr><td>&quot;3a95cdac-174c-4002-8e84-8aeba8…</td><td>935023330069</td><td>591532</td><td>&quot;mumbai&quot;</td><td>2024-10-08 11:41:02.386</td><td>2024-10-08 11:41:04.857</td><td>&quot;india&quot;</td><td>&quot;windows&quot;</td><td>&quot;8bd8b6ab-370f-4b56-b38f-ad221c…</td><td>null</td><td>22215</td><td>&quot;{}&quot;</td><td>2024-10-08 11:41:02.386</td><td>&quot;session_end&quot;</td><td>&quot;english&quot;</td><td>&quot;amplitude-ts/2.7.2&quot;</td><td>&quot;chrome&quot;</td><td>2024-10-08 11:41:05.371</td><td>&quot;maharashtra&quot;</td><td>2024-10-08 11:41:04.857</td><td>2024-10-08 11:41:04.859</td><td>1728387662385</td><td>&quot;8038ea38-8ddf-4a1a-825d-8287c0…</td><td>&quot;{&#x27;roles&#x27;: [&#x27;underwriter&#x27;], &#x27;tr…</td><td>&quot;underwriter&quot;</td><td>&quot;false&quot;</td><td>&quot;https://accounts.google.com/&quot;</td><td>null</td><td>0</td><td>&quot;international&quot;</td></tr><tr><td>&quot;50dbfad3-8e24-456a-ae68-21b09b…</td><td>935023330069</td><td>591532</td><td>&quot;mumbai&quot;</td><td>2024-10-08 11:41:02.386</td><td>2024-10-08 11:41:04.857</td><td>&quot;india&quot;</td><td>&quot;windows&quot;</td><td>&quot;8bd8b6ab-370f-4b56-b38f-ad221c…</td><td>null</td><td>22216</td><td>&quot;{&#x27;[amplitude] session replay i…</td><td>2024-10-08 11:41:02.386</td><td>&quot;session_start&quot;</td><td>&quot;english&quot;</td><td>&quot;amplitude-ts/2.7.2&quot;</td><td>&quot;chrome&quot;</td><td>2024-10-08 11:41:05.371</td><td>&quot;maharashtra&quot;</td><td>2024-10-08 11:41:04.857</td><td>2024-10-08 11:41:04.859</td><td>1728387662386</td><td>&quot;8038ea38-8ddf-4a1a-825d-8287c0…</td><td>&quot;{&#x27;roles&#x27;: [&#x27;underwriter&#x27;], &#x27;tr…</td><td>&quot;underwriter&quot;</td><td>&quot;false&quot;</td><td>&quot;https://accounts.google.com/&quot;</td><td>null</td><td>2455</td><td>&quot;international&quot;</td></tr><tr><td>&quot;ea0a4143-2380-48e7-a83e-8ba854…</td><td>935023330069</td><td>591532</td><td>&quot;mumbai&quot;</td><td>2024-10-08 11:41:03.500</td><td>2024-10-08 11:41:04.857</td><td>&quot;india&quot;</td><td>&quot;windows&quot;</td><td>&quot;8bd8b6ab-370f-4b56-b38f-ad221c…</td><td>null</td><td>22217</td><td>&quot;{&#x27;rowmodel&#x27;: &#x27;server&#x27;, &#x27;[ampli…</td><td>2024-10-08 11:41:03.500</td><td>&quot;:all-accounts:configurable-tab…</td><td>&quot;english&quot;</td><td>&quot;amplitude-ts/2.7.2&quot;</td><td>&quot;chrome&quot;</td><td>2024-10-08 11:41:05.371</td><td>&quot;maharashtra&quot;</td><td>2024-10-08 11:41:04.857</td><td>2024-10-08 11:41:04.859</td><td>1728387662386</td><td>&quot;8038ea38-8ddf-4a1a-825d-8287c0…</td><td>&quot;{&#x27;roles&#x27;: [&#x27;underwriter&#x27;], &#x27;tr…</td><td>&quot;underwriter&quot;</td><td>&quot;false&quot;</td><td>&quot;https://accounts.google.com/&quot;</td><td>null</td><td>2455</td><td>&quot;international&quot;</td></tr><tr><td>&quot;4d89977d-4734-450c-afa1-07e326…</td><td>935023330069</td><td>591532</td><td>&quot;mumbai&quot;</td><td>2024-10-08 11:41:03.527</td><td>2024-10-08 11:41:04.857</td><td>&quot;india&quot;</td><td>&quot;windows&quot;</td><td>&quot;8bd8b6ab-370f-4b56-b38f-ad221c…</td><td>null</td><td>22217</td><td>&quot;{&#x27;displayname&#x27;: &#x27;all policies …</td><td>2024-10-08 11:41:03.527</td><td>&quot;:all-accounts:widget:render&quot;</td><td>&quot;english&quot;</td><td>&quot;amplitude-ts/2.7.2&quot;</td><td>&quot;chrome&quot;</td><td>2024-10-08 11:41:05.371</td><td>&quot;maharashtra&quot;</td><td>2024-10-08 11:41:04.857</td><td>2024-10-08 11:41:04.859</td><td>1728387662386</td><td>&quot;8038ea38-8ddf-4a1a-825d-8287c0…</td><td>&quot;{&#x27;roles&#x27;: [&#x27;underwriter&#x27;], &#x27;tr…</td><td>&quot;underwriter&quot;</td><td>&quot;false&quot;</td><td>&quot;https://accounts.google.com/&quot;</td><td>null</td><td>2455</td><td>&quot;international&quot;</td></tr><tr><td>&hellip;</td><td>&hellip;</td><td>&hellip;</td><td>&hellip;</td><td>&hellip;</td><td>&hellip;</td><td>&hellip;</td><td>&hellip;</td><td>&hellip;</td><td>&hellip;</td><td>&hellip;</td><td>&hellip;</td><td>&hellip;</td><td>&hellip;</td><td>&hellip;</td><td>&hellip;</td><td>&hellip;</td><td>&hellip;</td><td>&hellip;</td><td>&hellip;</td><td>&hellip;</td><td>&hellip;</td><td>&hellip;</td><td>&hellip;</td><td>&hellip;</td><td>&hellip;</td><td>&hellip;</td><td>&hellip;</td><td>&hellip;</td><td>&hellip;</td></tr><tr><td>&quot;102ec3ca-a467-41a9-aa19-94f5b0…</td><td>857540480084</td><td>591532</td><td>&quot;nashville&quot;</td><td>2024-05-22 09:36:09.888</td><td>2024-05-22 09:36:10.832</td><td>&quot;united states&quot;</td><td>&quot;windows&quot;</td><td>&quot;a8b357fb-b4fb-45d2-babd-42b470…</td><td>&quot;nashville, tn&quot;</td><td>26</td><td>&quot;{&#x27;displayname&#x27;: &#x27;one drive lin…</td><td>2024-05-22 09:36:09.888</td><td>&quot;account-lines::widget:render&quot;</td><td>&quot;english&quot;</td><td>&quot;amplitude-ts/1.8.0&quot;</td><td>&quot;edge&quot;</td><td>2024-05-22 09:36:11.662</td><td>&quot;tennessee&quot;</td><td>2024-05-22 09:36:10.832</td><td>2024-05-22 09:36:10.833</td><td>1716368557821</td><td>&quot;9aecc15d-64a4-4190-80f5-b5b842…</td><td>&quot;{&#x27;initial_utm_medium&#x27;: &#x27;empty&#x27;…</td><td>&quot;underwriter&quot;</td><td>&quot;false&quot;</td><td>null</td><td>&quot;one-drive-link&quot;</td><td>2371</td><td>&quot;south&quot;</td></tr><tr><td>&quot;55aec1ce-b876-4f66-b786-fd5706…</td><td>857540480084</td><td>591532</td><td>&quot;nashville&quot;</td><td>2024-05-22 09:36:09.917</td><td>2024-05-22 09:36:10.832</td><td>&quot;united states&quot;</td><td>&quot;windows&quot;</td><td>&quot;a8b357fb-b4fb-45d2-babd-42b470…</td><td>&quot;nashville, tn&quot;</td><td>27</td><td>&quot;{&#x27;rowmodel&#x27;: &#x27;legacyserver&#x27;, &#x27;…</td><td>2024-05-22 09:36:09.917</td><td>&quot;account-lines::configurable-ta…</td><td>&quot;english&quot;</td><td>&quot;amplitude-ts/1.8.0&quot;</td><td>&quot;edge&quot;</td><td>2024-05-22 09:36:11.662</td><td>&quot;tennessee&quot;</td><td>2024-05-22 09:36:10.832</td><td>2024-05-22 09:36:10.833</td><td>1716368557821</td><td>&quot;9aecc15d-64a4-4190-80f5-b5b842…</td><td>&quot;{&#x27;initial_utm_medium&#x27;: &#x27;empty&#x27;…</td><td>&quot;underwriter&quot;</td><td>&quot;false&quot;</td><td>null</td><td>&quot;property-locations&quot;</td><td>2371</td><td>&quot;south&quot;</td></tr><tr><td>&quot;8cb28e22-0dc3-456c-9956-41d52b…</td><td>857540480084</td><td>591532</td><td>&quot;nashville&quot;</td><td>2024-05-22 09:36:15.727</td><td>2024-05-22 09:36:16.789</td><td>&quot;united states&quot;</td><td>&quot;windows&quot;</td><td>&quot;a8b357fb-b4fb-45d2-babd-42b470…</td><td>&quot;nashville, tn&quot;</td><td>28</td><td>&quot;{&#x27;displayname&#x27;: &#x27;attachments&#x27;,…</td><td>2024-05-22 09:36:15.727</td><td>&quot;account-lines::widget:render&quot;</td><td>&quot;english&quot;</td><td>&quot;amplitude-ts/1.8.0&quot;</td><td>&quot;edge&quot;</td><td>2024-05-22 09:36:17.297</td><td>&quot;tennessee&quot;</td><td>2024-05-22 09:36:16.789</td><td>2024-05-22 09:36:16.791</td><td>1716368557821</td><td>&quot;9aecc15d-64a4-4190-80f5-b5b842…</td><td>&quot;{&#x27;initial_utm_medium&#x27;: &#x27;empty&#x27;…</td><td>&quot;underwriter&quot;</td><td>&quot;false&quot;</td><td>null</td><td>&quot;attachments&quot;</td><td>2371</td><td>&quot;south&quot;</td></tr><tr><td>&quot;eac4d6a2-2ff0-4e59-80af-aa1b3f…</td><td>857540480084</td><td>591532</td><td>&quot;nashville&quot;</td><td>2024-05-22 09:36:33.812</td><td>2024-05-22 09:36:34.881</td><td>&quot;united states&quot;</td><td>&quot;windows&quot;</td><td>&quot;a8b357fb-b4fb-45d2-babd-42b470…</td><td>&quot;nashville, tn&quot;</td><td>29</td><td>&quot;{}&quot;</td><td>2024-05-22 09:36:33.812</td><td>&quot;::nav-header:action-center-cli…</td><td>&quot;english&quot;</td><td>&quot;amplitude-ts/1.8.0&quot;</td><td>&quot;edge&quot;</td><td>2024-05-22 09:36:36.435</td><td>&quot;tennessee&quot;</td><td>2024-05-22 09:36:34.881</td><td>2024-05-22 09:36:34.883</td><td>1716368557821</td><td>&quot;9aecc15d-64a4-4190-80f5-b5b842…</td><td>&quot;{&#x27;initial_utm_medium&#x27;: &#x27;empty&#x27;…</td><td>&quot;underwriter&quot;</td><td>&quot;false&quot;</td><td>null</td><td>null</td><td>2371</td><td>&quot;south&quot;</td></tr><tr><td>&quot;bf44b3b7-2b4d-4e20-a18c-65fb63…</td><td>857540480084</td><td>591532</td><td>&quot;nashville&quot;</td><td>2024-05-22 09:36:33.815</td><td>2024-05-22 09:36:34.881</td><td>&quot;united states&quot;</td><td>&quot;windows&quot;</td><td>&quot;a8b357fb-b4fb-45d2-babd-42b470…</td><td>&quot;nashville, tn&quot;</td><td>30</td><td>&quot;{}&quot;</td><td>2024-05-22 09:36:33.815</td><td>&quot;action-center:::view&quot;</td><td>&quot;english&quot;</td><td>&quot;amplitude-ts/1.8.0&quot;</td><td>&quot;edge&quot;</td><td>2024-05-22 09:36:36.435</td><td>&quot;tennessee&quot;</td><td>2024-05-22 09:36:34.881</td><td>2024-05-22 09:36:34.883</td><td>1716368557821</td><td>&quot;9aecc15d-64a4-4190-80f5-b5b842…</td><td>&quot;{&#x27;initial_utm_medium&#x27;: &#x27;empty&#x27;…</td><td>&quot;underwriter&quot;</td><td>&quot;false&quot;</td><td>null</td><td>null</td><td>2371</td><td>&quot;south&quot;</td></tr></tbody></table></div>"
      ],
      "text/plain": [
       "shape: (14_119_738, 30)\n",
       "┌────────────┬────────────┬────────┬───────────┬───┬───────────┬───────────┬───────────┬───────────┐\n",
       "│ $insert_id ┆ amplitude_ ┆ app    ┆ city      ┆ … ┆ referrer  ┆ slug      ┆ session_s ┆ region_gr │\n",
       "│ ---        ┆ id         ┆ ---    ┆ ---       ┆   ┆ ---       ┆ ---       ┆ econds    ┆ ouped     │\n",
       "│ str        ┆ ---        ┆ i64    ┆ str       ┆   ┆ str       ┆ str       ┆ ---       ┆ ---       │\n",
       "│            ┆ i64        ┆        ┆           ┆   ┆           ┆           ┆ i64       ┆ str       │\n",
       "╞════════════╪════════════╪════════╪═══════════╪═══╪═══════════╪═══════════╪═══════════╪═══════════╡\n",
       "│ 251db963-6 ┆ 9350233300 ┆ 591532 ┆ mumbai    ┆ … ┆ https://a ┆ null      ┆ 0         ┆ internati │\n",
       "│ 623-448e-8 ┆ 69         ┆        ┆           ┆   ┆ ccounts.g ┆           ┆           ┆ onal      │\n",
       "│ 665-f542b8 ┆            ┆        ┆           ┆   ┆ oogle.com ┆           ┆           ┆           │\n",
       "│ …          ┆            ┆        ┆           ┆   ┆ /         ┆           ┆           ┆           │\n",
       "│ 3a95cdac-1 ┆ 9350233300 ┆ 591532 ┆ mumbai    ┆ … ┆ https://a ┆ null      ┆ 0         ┆ internati │\n",
       "│ 74c-4002-8 ┆ 69         ┆        ┆           ┆   ┆ ccounts.g ┆           ┆           ┆ onal      │\n",
       "│ e84-8aeba8 ┆            ┆        ┆           ┆   ┆ oogle.com ┆           ┆           ┆           │\n",
       "│ …          ┆            ┆        ┆           ┆   ┆ /         ┆           ┆           ┆           │\n",
       "│ 50dbfad3-8 ┆ 9350233300 ┆ 591532 ┆ mumbai    ┆ … ┆ https://a ┆ null      ┆ 2455      ┆ internati │\n",
       "│ e24-456a-a ┆ 69         ┆        ┆           ┆   ┆ ccounts.g ┆           ┆           ┆ onal      │\n",
       "│ e68-21b09b ┆            ┆        ┆           ┆   ┆ oogle.com ┆           ┆           ┆           │\n",
       "│ …          ┆            ┆        ┆           ┆   ┆ /         ┆           ┆           ┆           │\n",
       "│ ea0a4143-2 ┆ 9350233300 ┆ 591532 ┆ mumbai    ┆ … ┆ https://a ┆ null      ┆ 2455      ┆ internati │\n",
       "│ 380-48e7-a ┆ 69         ┆        ┆           ┆   ┆ ccounts.g ┆           ┆           ┆ onal      │\n",
       "│ 83e-8ba854 ┆            ┆        ┆           ┆   ┆ oogle.com ┆           ┆           ┆           │\n",
       "│ …          ┆            ┆        ┆           ┆   ┆ /         ┆           ┆           ┆           │\n",
       "│ 4d89977d-4 ┆ 9350233300 ┆ 591532 ┆ mumbai    ┆ … ┆ https://a ┆ null      ┆ 2455      ┆ internati │\n",
       "│ 734-450c-a ┆ 69         ┆        ┆           ┆   ┆ ccounts.g ┆           ┆           ┆ onal      │\n",
       "│ fa1-07e326 ┆            ┆        ┆           ┆   ┆ oogle.com ┆           ┆           ┆           │\n",
       "│ …          ┆            ┆        ┆           ┆   ┆ /         ┆           ┆           ┆           │\n",
       "│ …          ┆ …          ┆ …      ┆ …         ┆ … ┆ …         ┆ …         ┆ …         ┆ …         │\n",
       "│ 102ec3ca-a ┆ 8575404800 ┆ 591532 ┆ nashville ┆ … ┆ null      ┆ one-drive ┆ 2371      ┆ south     │\n",
       "│ 467-41a9-a ┆ 84         ┆        ┆           ┆   ┆           ┆ -link     ┆           ┆           │\n",
       "│ a19-94f5b0 ┆            ┆        ┆           ┆   ┆           ┆           ┆           ┆           │\n",
       "│ …          ┆            ┆        ┆           ┆   ┆           ┆           ┆           ┆           │\n",
       "│ 55aec1ce-b ┆ 8575404800 ┆ 591532 ┆ nashville ┆ … ┆ null      ┆ property- ┆ 2371      ┆ south     │\n",
       "│ 876-4f66-b ┆ 84         ┆        ┆           ┆   ┆           ┆ locations ┆           ┆           │\n",
       "│ 786-fd5706 ┆            ┆        ┆           ┆   ┆           ┆           ┆           ┆           │\n",
       "│ …          ┆            ┆        ┆           ┆   ┆           ┆           ┆           ┆           │\n",
       "│ 8cb28e22-0 ┆ 8575404800 ┆ 591532 ┆ nashville ┆ … ┆ null      ┆ attachmen ┆ 2371      ┆ south     │\n",
       "│ dc3-456c-9 ┆ 84         ┆        ┆           ┆   ┆           ┆ ts        ┆           ┆           │\n",
       "│ 956-41d52b ┆            ┆        ┆           ┆   ┆           ┆           ┆           ┆           │\n",
       "│ …          ┆            ┆        ┆           ┆   ┆           ┆           ┆           ┆           │\n",
       "│ eac4d6a2-2 ┆ 8575404800 ┆ 591532 ┆ nashville ┆ … ┆ null      ┆ null      ┆ 2371      ┆ south     │\n",
       "│ ff0-4e59-8 ┆ 84         ┆        ┆           ┆   ┆           ┆           ┆           ┆           │\n",
       "│ 0af-aa1b3f ┆            ┆        ┆           ┆   ┆           ┆           ┆           ┆           │\n",
       "│ …          ┆            ┆        ┆           ┆   ┆           ┆           ┆           ┆           │\n",
       "│ bf44b3b7-2 ┆ 8575404800 ┆ 591532 ┆ nashville ┆ … ┆ null      ┆ null      ┆ 2371      ┆ south     │\n",
       "│ b4d-4e20-a ┆ 84         ┆        ┆           ┆   ┆           ┆           ┆           ┆           │\n",
       "│ 18c-65fb63 ┆            ┆        ┆           ┆   ┆           ┆           ┆           ┆           │\n",
       "│ …          ┆            ┆        ┆           ┆   ┆           ┆           ┆           ┆           │\n",
       "└────────────┴────────────┴────────┴───────────┴───┴───────────┴───────────┴───────────┴───────────┘"
      ]
     },
     "execution_count": 12,
     "metadata": {},
     "output_type": "execute_result"
    }
   ],
   "source": [
    "# Encode regions\n",
    "df = group_region_categories(df, 'region', 'region_grouped', us_region_mapping)\n",
    "df"
   ]
  },
  {
   "cell_type": "markdown",
   "metadata": {},
   "source": [
    "### Encode Events\n",
    "\n",
    "Moreover, we will also encode the events into 7 main categories:\n",
    "\n",
    "- Session & Navigation\n",
    "- Account & Policy Management\n",
    "- Dashboard & UI Interactions\n",
    "- Action Center & Workflow\n",
    "- Submission & Forms\n",
    "- Filtering & Searching\n",
    "- Document & Report Interactions\n",
    "- Other/System Events\n",
    "\n",
    "All of the contents of this encoding has been written in the config, and can be applied by using `map_values` "
   ]
  },
  {
   "cell_type": "code",
   "execution_count": 13,
   "metadata": {},
   "outputs": [],
   "source": [
    "# Function for grouping the events\n",
    "def categorize_event(event_type):\n",
    "    event_type = event_type.lower()  # Ensure input is lowercase\n",
    "    \n",
    "    if any(keyword in event_type for keyword in [\"session_start\", \"session_end\", \"application-window\", \"nav-header\", \"dashboard\"]):\n",
    "        return \"session & navigation\"\n",
    "    elif any(keyword in event_type for keyword in [\"account\", \"policy\", \"rating\"]):\n",
    "        return \"account & policy management\"\n",
    "    elif any(keyword in event_type for keyword in [\"dashboard\", \"widget\", \"layout\", \"insights\", \"table\"]):\n",
    "        return \"dashboard & ui interactions\"\n",
    "    elif any(keyword in event_type for keyword in [\"action-center\", \"task\", \"workflow\", \"take-action\"]):\n",
    "        return \"action center & workflow\"\n",
    "    elif any(keyword in event_type for keyword in [\"submit-click\", \"form\", \"create\", \"definition\", \"save-click\", \"submissions\"]):\n",
    "        return \"submission & forms\"\n",
    "    elif any(keyword in event_type for keyword in [\"filter\", \"sort\", \"search\", \"advanced-filters\"]):\n",
    "        return \"filtering & searching\"\n",
    "    elif any(keyword in event_type for keyword in [\"document\", \"report\", \"download\", \"csv\"]):\n",
    "        return \"document & report interactions\"\n",
    "    else:\n",
    "        return \"other/system events\"\n"
   ]
  },
  {
   "cell_type": "code",
   "execution_count": 14,
   "metadata": {},
   "outputs": [
    {
     "data": {
      "text/html": [
       "<div><style>\n",
       ".dataframe > thead > tr,\n",
       ".dataframe > tbody > tr {\n",
       "  text-align: right;\n",
       "  white-space: pre-wrap;\n",
       "}\n",
       "</style>\n",
       "<small>shape: (14_119_738, 31)</small><table border=\"1\" class=\"dataframe\"><thead><tr><th>$insert_id</th><th>amplitude_id</th><th>app</th><th>city</th><th>client_event_time</th><th>client_upload_time</th><th>country</th><th>device_family</th><th>device_id</th><th>dma</th><th>event_id</th><th>event_properties</th><th>event_time</th><th>event_type</th><th>language</th><th>library</th><th>os_name</th><th>processed_time</th><th>region</th><th>server_received_time</th><th>server_upload_time</th><th>session_id</th><th>user_id</th><th>user_properties</th><th>roles</th><th>isInternalUser</th><th>referrer</th><th>slug</th><th>session_seconds</th><th>region_grouped</th><th>event_category</th></tr><tr><td>str</td><td>i64</td><td>i64</td><td>str</td><td>datetime[μs]</td><td>datetime[μs]</td><td>str</td><td>str</td><td>str</td><td>str</td><td>i64</td><td>str</td><td>datetime[μs]</td><td>str</td><td>str</td><td>str</td><td>str</td><td>datetime[μs]</td><td>str</td><td>datetime[μs]</td><td>datetime[μs]</td><td>i64</td><td>str</td><td>str</td><td>str</td><td>str</td><td>str</td><td>str</td><td>i64</td><td>str</td><td>str</td></tr></thead><tbody><tr><td>&quot;251db963-6623-448e-8665-f542b8…</td><td>935023330069</td><td>591532</td><td>&quot;mumbai&quot;</td><td>2024-10-08 11:41:02.385</td><td>2024-10-08 11:41:04.857</td><td>&quot;india&quot;</td><td>&quot;windows&quot;</td><td>&quot;8bd8b6ab-370f-4b56-b38f-ad221c…</td><td>null</td><td>22216</td><td>&quot;{}&quot;</td><td>2024-10-08 11:41:02.385</td><td>&quot;session_start&quot;</td><td>&quot;english&quot;</td><td>&quot;amplitude-ts/2.7.2&quot;</td><td>&quot;chrome&quot;</td><td>2024-10-08 11:41:05.371</td><td>&quot;maharashtra&quot;</td><td>2024-10-08 11:41:04.857</td><td>2024-10-08 11:41:04.859</td><td>1728387662385</td><td>&quot;8038ea38-8ddf-4a1a-825d-8287c0…</td><td>&quot;{&#x27;roles&#x27;: [&#x27;underwriter&#x27;], &#x27;tr…</td><td>&quot;underwriter&quot;</td><td>&quot;false&quot;</td><td>&quot;https://accounts.google.com/&quot;</td><td>null</td><td>0</td><td>&quot;international&quot;</td><td>&quot;session &amp; navigation&quot;</td></tr><tr><td>&quot;3a95cdac-174c-4002-8e84-8aeba8…</td><td>935023330069</td><td>591532</td><td>&quot;mumbai&quot;</td><td>2024-10-08 11:41:02.386</td><td>2024-10-08 11:41:04.857</td><td>&quot;india&quot;</td><td>&quot;windows&quot;</td><td>&quot;8bd8b6ab-370f-4b56-b38f-ad221c…</td><td>null</td><td>22215</td><td>&quot;{}&quot;</td><td>2024-10-08 11:41:02.386</td><td>&quot;session_end&quot;</td><td>&quot;english&quot;</td><td>&quot;amplitude-ts/2.7.2&quot;</td><td>&quot;chrome&quot;</td><td>2024-10-08 11:41:05.371</td><td>&quot;maharashtra&quot;</td><td>2024-10-08 11:41:04.857</td><td>2024-10-08 11:41:04.859</td><td>1728387662385</td><td>&quot;8038ea38-8ddf-4a1a-825d-8287c0…</td><td>&quot;{&#x27;roles&#x27;: [&#x27;underwriter&#x27;], &#x27;tr…</td><td>&quot;underwriter&quot;</td><td>&quot;false&quot;</td><td>&quot;https://accounts.google.com/&quot;</td><td>null</td><td>0</td><td>&quot;international&quot;</td><td>&quot;session &amp; navigation&quot;</td></tr><tr><td>&quot;50dbfad3-8e24-456a-ae68-21b09b…</td><td>935023330069</td><td>591532</td><td>&quot;mumbai&quot;</td><td>2024-10-08 11:41:02.386</td><td>2024-10-08 11:41:04.857</td><td>&quot;india&quot;</td><td>&quot;windows&quot;</td><td>&quot;8bd8b6ab-370f-4b56-b38f-ad221c…</td><td>null</td><td>22216</td><td>&quot;{&#x27;[amplitude] session replay i…</td><td>2024-10-08 11:41:02.386</td><td>&quot;session_start&quot;</td><td>&quot;english&quot;</td><td>&quot;amplitude-ts/2.7.2&quot;</td><td>&quot;chrome&quot;</td><td>2024-10-08 11:41:05.371</td><td>&quot;maharashtra&quot;</td><td>2024-10-08 11:41:04.857</td><td>2024-10-08 11:41:04.859</td><td>1728387662386</td><td>&quot;8038ea38-8ddf-4a1a-825d-8287c0…</td><td>&quot;{&#x27;roles&#x27;: [&#x27;underwriter&#x27;], &#x27;tr…</td><td>&quot;underwriter&quot;</td><td>&quot;false&quot;</td><td>&quot;https://accounts.google.com/&quot;</td><td>null</td><td>2455</td><td>&quot;international&quot;</td><td>&quot;session &amp; navigation&quot;</td></tr><tr><td>&quot;ea0a4143-2380-48e7-a83e-8ba854…</td><td>935023330069</td><td>591532</td><td>&quot;mumbai&quot;</td><td>2024-10-08 11:41:03.500</td><td>2024-10-08 11:41:04.857</td><td>&quot;india&quot;</td><td>&quot;windows&quot;</td><td>&quot;8bd8b6ab-370f-4b56-b38f-ad221c…</td><td>null</td><td>22217</td><td>&quot;{&#x27;rowmodel&#x27;: &#x27;server&#x27;, &#x27;[ampli…</td><td>2024-10-08 11:41:03.500</td><td>&quot;:all-accounts:configurable-tab…</td><td>&quot;english&quot;</td><td>&quot;amplitude-ts/2.7.2&quot;</td><td>&quot;chrome&quot;</td><td>2024-10-08 11:41:05.371</td><td>&quot;maharashtra&quot;</td><td>2024-10-08 11:41:04.857</td><td>2024-10-08 11:41:04.859</td><td>1728387662386</td><td>&quot;8038ea38-8ddf-4a1a-825d-8287c0…</td><td>&quot;{&#x27;roles&#x27;: [&#x27;underwriter&#x27;], &#x27;tr…</td><td>&quot;underwriter&quot;</td><td>&quot;false&quot;</td><td>&quot;https://accounts.google.com/&quot;</td><td>null</td><td>2455</td><td>&quot;international&quot;</td><td>&quot;account &amp; policy management&quot;</td></tr><tr><td>&quot;4d89977d-4734-450c-afa1-07e326…</td><td>935023330069</td><td>591532</td><td>&quot;mumbai&quot;</td><td>2024-10-08 11:41:03.527</td><td>2024-10-08 11:41:04.857</td><td>&quot;india&quot;</td><td>&quot;windows&quot;</td><td>&quot;8bd8b6ab-370f-4b56-b38f-ad221c…</td><td>null</td><td>22217</td><td>&quot;{&#x27;displayname&#x27;: &#x27;all policies …</td><td>2024-10-08 11:41:03.527</td><td>&quot;:all-accounts:widget:render&quot;</td><td>&quot;english&quot;</td><td>&quot;amplitude-ts/2.7.2&quot;</td><td>&quot;chrome&quot;</td><td>2024-10-08 11:41:05.371</td><td>&quot;maharashtra&quot;</td><td>2024-10-08 11:41:04.857</td><td>2024-10-08 11:41:04.859</td><td>1728387662386</td><td>&quot;8038ea38-8ddf-4a1a-825d-8287c0…</td><td>&quot;{&#x27;roles&#x27;: [&#x27;underwriter&#x27;], &#x27;tr…</td><td>&quot;underwriter&quot;</td><td>&quot;false&quot;</td><td>&quot;https://accounts.google.com/&quot;</td><td>null</td><td>2455</td><td>&quot;international&quot;</td><td>&quot;account &amp; policy management&quot;</td></tr><tr><td>&hellip;</td><td>&hellip;</td><td>&hellip;</td><td>&hellip;</td><td>&hellip;</td><td>&hellip;</td><td>&hellip;</td><td>&hellip;</td><td>&hellip;</td><td>&hellip;</td><td>&hellip;</td><td>&hellip;</td><td>&hellip;</td><td>&hellip;</td><td>&hellip;</td><td>&hellip;</td><td>&hellip;</td><td>&hellip;</td><td>&hellip;</td><td>&hellip;</td><td>&hellip;</td><td>&hellip;</td><td>&hellip;</td><td>&hellip;</td><td>&hellip;</td><td>&hellip;</td><td>&hellip;</td><td>&hellip;</td><td>&hellip;</td><td>&hellip;</td><td>&hellip;</td></tr><tr><td>&quot;102ec3ca-a467-41a9-aa19-94f5b0…</td><td>857540480084</td><td>591532</td><td>&quot;nashville&quot;</td><td>2024-05-22 09:36:09.888</td><td>2024-05-22 09:36:10.832</td><td>&quot;united states&quot;</td><td>&quot;windows&quot;</td><td>&quot;a8b357fb-b4fb-45d2-babd-42b470…</td><td>&quot;nashville, tn&quot;</td><td>26</td><td>&quot;{&#x27;displayname&#x27;: &#x27;one drive lin…</td><td>2024-05-22 09:36:09.888</td><td>&quot;account-lines::widget:render&quot;</td><td>&quot;english&quot;</td><td>&quot;amplitude-ts/1.8.0&quot;</td><td>&quot;edge&quot;</td><td>2024-05-22 09:36:11.662</td><td>&quot;tennessee&quot;</td><td>2024-05-22 09:36:10.832</td><td>2024-05-22 09:36:10.833</td><td>1716368557821</td><td>&quot;9aecc15d-64a4-4190-80f5-b5b842…</td><td>&quot;{&#x27;initial_utm_medium&#x27;: &#x27;empty&#x27;…</td><td>&quot;underwriter&quot;</td><td>&quot;false&quot;</td><td>null</td><td>&quot;one-drive-link&quot;</td><td>2371</td><td>&quot;south&quot;</td><td>&quot;account &amp; policy management&quot;</td></tr><tr><td>&quot;55aec1ce-b876-4f66-b786-fd5706…</td><td>857540480084</td><td>591532</td><td>&quot;nashville&quot;</td><td>2024-05-22 09:36:09.917</td><td>2024-05-22 09:36:10.832</td><td>&quot;united states&quot;</td><td>&quot;windows&quot;</td><td>&quot;a8b357fb-b4fb-45d2-babd-42b470…</td><td>&quot;nashville, tn&quot;</td><td>27</td><td>&quot;{&#x27;rowmodel&#x27;: &#x27;legacyserver&#x27;, &#x27;…</td><td>2024-05-22 09:36:09.917</td><td>&quot;account-lines::configurable-ta…</td><td>&quot;english&quot;</td><td>&quot;amplitude-ts/1.8.0&quot;</td><td>&quot;edge&quot;</td><td>2024-05-22 09:36:11.662</td><td>&quot;tennessee&quot;</td><td>2024-05-22 09:36:10.832</td><td>2024-05-22 09:36:10.833</td><td>1716368557821</td><td>&quot;9aecc15d-64a4-4190-80f5-b5b842…</td><td>&quot;{&#x27;initial_utm_medium&#x27;: &#x27;empty&#x27;…</td><td>&quot;underwriter&quot;</td><td>&quot;false&quot;</td><td>null</td><td>&quot;property-locations&quot;</td><td>2371</td><td>&quot;south&quot;</td><td>&quot;account &amp; policy management&quot;</td></tr><tr><td>&quot;8cb28e22-0dc3-456c-9956-41d52b…</td><td>857540480084</td><td>591532</td><td>&quot;nashville&quot;</td><td>2024-05-22 09:36:15.727</td><td>2024-05-22 09:36:16.789</td><td>&quot;united states&quot;</td><td>&quot;windows&quot;</td><td>&quot;a8b357fb-b4fb-45d2-babd-42b470…</td><td>&quot;nashville, tn&quot;</td><td>28</td><td>&quot;{&#x27;displayname&#x27;: &#x27;attachments&#x27;,…</td><td>2024-05-22 09:36:15.727</td><td>&quot;account-lines::widget:render&quot;</td><td>&quot;english&quot;</td><td>&quot;amplitude-ts/1.8.0&quot;</td><td>&quot;edge&quot;</td><td>2024-05-22 09:36:17.297</td><td>&quot;tennessee&quot;</td><td>2024-05-22 09:36:16.789</td><td>2024-05-22 09:36:16.791</td><td>1716368557821</td><td>&quot;9aecc15d-64a4-4190-80f5-b5b842…</td><td>&quot;{&#x27;initial_utm_medium&#x27;: &#x27;empty&#x27;…</td><td>&quot;underwriter&quot;</td><td>&quot;false&quot;</td><td>null</td><td>&quot;attachments&quot;</td><td>2371</td><td>&quot;south&quot;</td><td>&quot;account &amp; policy management&quot;</td></tr><tr><td>&quot;eac4d6a2-2ff0-4e59-80af-aa1b3f…</td><td>857540480084</td><td>591532</td><td>&quot;nashville&quot;</td><td>2024-05-22 09:36:33.812</td><td>2024-05-22 09:36:34.881</td><td>&quot;united states&quot;</td><td>&quot;windows&quot;</td><td>&quot;a8b357fb-b4fb-45d2-babd-42b470…</td><td>&quot;nashville, tn&quot;</td><td>29</td><td>&quot;{}&quot;</td><td>2024-05-22 09:36:33.812</td><td>&quot;::nav-header:action-center-cli…</td><td>&quot;english&quot;</td><td>&quot;amplitude-ts/1.8.0&quot;</td><td>&quot;edge&quot;</td><td>2024-05-22 09:36:36.435</td><td>&quot;tennessee&quot;</td><td>2024-05-22 09:36:34.881</td><td>2024-05-22 09:36:34.883</td><td>1716368557821</td><td>&quot;9aecc15d-64a4-4190-80f5-b5b842…</td><td>&quot;{&#x27;initial_utm_medium&#x27;: &#x27;empty&#x27;…</td><td>&quot;underwriter&quot;</td><td>&quot;false&quot;</td><td>null</td><td>null</td><td>2371</td><td>&quot;south&quot;</td><td>&quot;session &amp; navigation&quot;</td></tr><tr><td>&quot;bf44b3b7-2b4d-4e20-a18c-65fb63…</td><td>857540480084</td><td>591532</td><td>&quot;nashville&quot;</td><td>2024-05-22 09:36:33.815</td><td>2024-05-22 09:36:34.881</td><td>&quot;united states&quot;</td><td>&quot;windows&quot;</td><td>&quot;a8b357fb-b4fb-45d2-babd-42b470…</td><td>&quot;nashville, tn&quot;</td><td>30</td><td>&quot;{}&quot;</td><td>2024-05-22 09:36:33.815</td><td>&quot;action-center:::view&quot;</td><td>&quot;english&quot;</td><td>&quot;amplitude-ts/1.8.0&quot;</td><td>&quot;edge&quot;</td><td>2024-05-22 09:36:36.435</td><td>&quot;tennessee&quot;</td><td>2024-05-22 09:36:34.881</td><td>2024-05-22 09:36:34.883</td><td>1716368557821</td><td>&quot;9aecc15d-64a4-4190-80f5-b5b842…</td><td>&quot;{&#x27;initial_utm_medium&#x27;: &#x27;empty&#x27;…</td><td>&quot;underwriter&quot;</td><td>&quot;false&quot;</td><td>null</td><td>null</td><td>2371</td><td>&quot;south&quot;</td><td>&quot;action center &amp; workflow&quot;</td></tr></tbody></table></div>"
      ],
      "text/plain": [
       "shape: (14_119_738, 31)\n",
       "┌────────────┬────────────┬────────┬───────────┬───┬───────────┬───────────┬───────────┬───────────┐\n",
       "│ $insert_id ┆ amplitude_ ┆ app    ┆ city      ┆ … ┆ slug      ┆ session_s ┆ region_gr ┆ event_cat │\n",
       "│ ---        ┆ id         ┆ ---    ┆ ---       ┆   ┆ ---       ┆ econds    ┆ ouped     ┆ egory     │\n",
       "│ str        ┆ ---        ┆ i64    ┆ str       ┆   ┆ str       ┆ ---       ┆ ---       ┆ ---       │\n",
       "│            ┆ i64        ┆        ┆           ┆   ┆           ┆ i64       ┆ str       ┆ str       │\n",
       "╞════════════╪════════════╪════════╪═══════════╪═══╪═══════════╪═══════════╪═══════════╪═══════════╡\n",
       "│ 251db963-6 ┆ 9350233300 ┆ 591532 ┆ mumbai    ┆ … ┆ null      ┆ 0         ┆ internati ┆ session & │\n",
       "│ 623-448e-8 ┆ 69         ┆        ┆           ┆   ┆           ┆           ┆ onal      ┆ navigatio │\n",
       "│ 665-f542b8 ┆            ┆        ┆           ┆   ┆           ┆           ┆           ┆ n         │\n",
       "│ …          ┆            ┆        ┆           ┆   ┆           ┆           ┆           ┆           │\n",
       "│ 3a95cdac-1 ┆ 9350233300 ┆ 591532 ┆ mumbai    ┆ … ┆ null      ┆ 0         ┆ internati ┆ session & │\n",
       "│ 74c-4002-8 ┆ 69         ┆        ┆           ┆   ┆           ┆           ┆ onal      ┆ navigatio │\n",
       "│ e84-8aeba8 ┆            ┆        ┆           ┆   ┆           ┆           ┆           ┆ n         │\n",
       "│ …          ┆            ┆        ┆           ┆   ┆           ┆           ┆           ┆           │\n",
       "│ 50dbfad3-8 ┆ 9350233300 ┆ 591532 ┆ mumbai    ┆ … ┆ null      ┆ 2455      ┆ internati ┆ session & │\n",
       "│ e24-456a-a ┆ 69         ┆        ┆           ┆   ┆           ┆           ┆ onal      ┆ navigatio │\n",
       "│ e68-21b09b ┆            ┆        ┆           ┆   ┆           ┆           ┆           ┆ n         │\n",
       "│ …          ┆            ┆        ┆           ┆   ┆           ┆           ┆           ┆           │\n",
       "│ ea0a4143-2 ┆ 9350233300 ┆ 591532 ┆ mumbai    ┆ … ┆ null      ┆ 2455      ┆ internati ┆ account & │\n",
       "│ 380-48e7-a ┆ 69         ┆        ┆           ┆   ┆           ┆           ┆ onal      ┆ policy    │\n",
       "│ 83e-8ba854 ┆            ┆        ┆           ┆   ┆           ┆           ┆           ┆ managemen │\n",
       "│ …          ┆            ┆        ┆           ┆   ┆           ┆           ┆           ┆ t         │\n",
       "│ 4d89977d-4 ┆ 9350233300 ┆ 591532 ┆ mumbai    ┆ … ┆ null      ┆ 2455      ┆ internati ┆ account & │\n",
       "│ 734-450c-a ┆ 69         ┆        ┆           ┆   ┆           ┆           ┆ onal      ┆ policy    │\n",
       "│ fa1-07e326 ┆            ┆        ┆           ┆   ┆           ┆           ┆           ┆ managemen │\n",
       "│ …          ┆            ┆        ┆           ┆   ┆           ┆           ┆           ┆ t         │\n",
       "│ …          ┆ …          ┆ …      ┆ …         ┆ … ┆ …         ┆ …         ┆ …         ┆ …         │\n",
       "│ 102ec3ca-a ┆ 8575404800 ┆ 591532 ┆ nashville ┆ … ┆ one-drive ┆ 2371      ┆ south     ┆ account & │\n",
       "│ 467-41a9-a ┆ 84         ┆        ┆           ┆   ┆ -link     ┆           ┆           ┆ policy    │\n",
       "│ a19-94f5b0 ┆            ┆        ┆           ┆   ┆           ┆           ┆           ┆ managemen │\n",
       "│ …          ┆            ┆        ┆           ┆   ┆           ┆           ┆           ┆ t         │\n",
       "│ 55aec1ce-b ┆ 8575404800 ┆ 591532 ┆ nashville ┆ … ┆ property- ┆ 2371      ┆ south     ┆ account & │\n",
       "│ 876-4f66-b ┆ 84         ┆        ┆           ┆   ┆ locations ┆           ┆           ┆ policy    │\n",
       "│ 786-fd5706 ┆            ┆        ┆           ┆   ┆           ┆           ┆           ┆ managemen │\n",
       "│ …          ┆            ┆        ┆           ┆   ┆           ┆           ┆           ┆ t         │\n",
       "│ 8cb28e22-0 ┆ 8575404800 ┆ 591532 ┆ nashville ┆ … ┆ attachmen ┆ 2371      ┆ south     ┆ account & │\n",
       "│ dc3-456c-9 ┆ 84         ┆        ┆           ┆   ┆ ts        ┆           ┆           ┆ policy    │\n",
       "│ 956-41d52b ┆            ┆        ┆           ┆   ┆           ┆           ┆           ┆ managemen │\n",
       "│ …          ┆            ┆        ┆           ┆   ┆           ┆           ┆           ┆ t         │\n",
       "│ eac4d6a2-2 ┆ 8575404800 ┆ 591532 ┆ nashville ┆ … ┆ null      ┆ 2371      ┆ south     ┆ session & │\n",
       "│ ff0-4e59-8 ┆ 84         ┆        ┆           ┆   ┆           ┆           ┆           ┆ navigatio │\n",
       "│ 0af-aa1b3f ┆            ┆        ┆           ┆   ┆           ┆           ┆           ┆ n         │\n",
       "│ …          ┆            ┆        ┆           ┆   ┆           ┆           ┆           ┆           │\n",
       "│ bf44b3b7-2 ┆ 8575404800 ┆ 591532 ┆ nashville ┆ … ┆ null      ┆ 2371      ┆ south     ┆ action    │\n",
       "│ b4d-4e20-a ┆ 84         ┆        ┆           ┆   ┆           ┆           ┆           ┆ center &  │\n",
       "│ 18c-65fb63 ┆            ┆        ┆           ┆   ┆           ┆           ┆           ┆ workflow  │\n",
       "│ …          ┆            ┆        ┆           ┆   ┆           ┆           ┆           ┆           │\n",
       "└────────────┴────────────┴────────┴───────────┴───┴───────────┴───────────┴───────────┴───────────┘"
      ]
     },
     "execution_count": 14,
     "metadata": {},
     "output_type": "execute_result"
    }
   ],
   "source": [
    "# Encode events\n",
    "df = df.with_columns(pl.col('event_type')\n",
    "                     .map_elements(categorize_event, return_dtype = pl.String)\n",
    "                     .alias('event_category'))\n",
    "df"
   ]
  },
  {
   "cell_type": "markdown",
   "metadata": {},
   "source": [
    "### Datetime Feature Engineering\n",
    "\n",
    "There is a lot of potential for feature engineering for the datetime columns.\n",
    "\n",
    "We will split these datetime columns into their own components, while also calculating the relative time to indicate a notion of distance "
   ]
  },
  {
   "cell_type": "code",
   "execution_count": 15,
   "metadata": {},
   "outputs": [
    {
     "data": {
      "text/html": [
       "<div><style>\n",
       ".dataframe > thead > tr,\n",
       ".dataframe > tbody > tr {\n",
       "  text-align: right;\n",
       "  white-space: pre-wrap;\n",
       "}\n",
       "</style>\n",
       "<small>shape: (14_119_738, 37)</small><table border=\"1\" class=\"dataframe\"><thead><tr><th>$insert_id</th><th>amplitude_id</th><th>app</th><th>city</th><th>client_event_time</th><th>client_upload_time</th><th>country</th><th>device_family</th><th>device_id</th><th>dma</th><th>event_id</th><th>event_properties</th><th>event_time</th><th>event_type</th><th>language</th><th>library</th><th>os_name</th><th>processed_time</th><th>region</th><th>server_received_time</th><th>server_upload_time</th><th>session_id</th><th>user_id</th><th>user_properties</th><th>roles</th><th>isInternalUser</th><th>referrer</th><th>slug</th><th>session_seconds</th><th>region_grouped</th><th>event_category</th><th>client_event_hour</th><th>client_upload_hour</th><th>event_hour</th><th>processed_hour</th><th>server_received_hour</th><th>server_upload_hour</th></tr><tr><td>str</td><td>i64</td><td>i64</td><td>str</td><td>datetime[μs]</td><td>datetime[μs]</td><td>str</td><td>str</td><td>str</td><td>str</td><td>i64</td><td>str</td><td>datetime[μs]</td><td>str</td><td>str</td><td>str</td><td>str</td><td>datetime[μs]</td><td>str</td><td>datetime[μs]</td><td>datetime[μs]</td><td>i64</td><td>str</td><td>str</td><td>str</td><td>str</td><td>str</td><td>str</td><td>i64</td><td>str</td><td>str</td><td>i8</td><td>i8</td><td>i8</td><td>i8</td><td>i8</td><td>i8</td></tr></thead><tbody><tr><td>&quot;251db963-6623-448e-8665-f542b8…</td><td>935023330069</td><td>591532</td><td>&quot;mumbai&quot;</td><td>2024-10-08 11:41:02.385</td><td>2024-10-08 11:41:04.857</td><td>&quot;india&quot;</td><td>&quot;windows&quot;</td><td>&quot;8bd8b6ab-370f-4b56-b38f-ad221c…</td><td>null</td><td>22216</td><td>&quot;{}&quot;</td><td>2024-10-08 11:41:02.385</td><td>&quot;session_start&quot;</td><td>&quot;english&quot;</td><td>&quot;amplitude-ts/2.7.2&quot;</td><td>&quot;chrome&quot;</td><td>2024-10-08 11:41:05.371</td><td>&quot;maharashtra&quot;</td><td>2024-10-08 11:41:04.857</td><td>2024-10-08 11:41:04.859</td><td>1728387662385</td><td>&quot;8038ea38-8ddf-4a1a-825d-8287c0…</td><td>&quot;{&#x27;roles&#x27;: [&#x27;underwriter&#x27;], &#x27;tr…</td><td>&quot;underwriter&quot;</td><td>&quot;false&quot;</td><td>&quot;https://accounts.google.com/&quot;</td><td>null</td><td>0</td><td>&quot;international&quot;</td><td>&quot;session &amp; navigation&quot;</td><td>11</td><td>11</td><td>11</td><td>11</td><td>11</td><td>11</td></tr><tr><td>&quot;3a95cdac-174c-4002-8e84-8aeba8…</td><td>935023330069</td><td>591532</td><td>&quot;mumbai&quot;</td><td>2024-10-08 11:41:02.386</td><td>2024-10-08 11:41:04.857</td><td>&quot;india&quot;</td><td>&quot;windows&quot;</td><td>&quot;8bd8b6ab-370f-4b56-b38f-ad221c…</td><td>null</td><td>22215</td><td>&quot;{}&quot;</td><td>2024-10-08 11:41:02.386</td><td>&quot;session_end&quot;</td><td>&quot;english&quot;</td><td>&quot;amplitude-ts/2.7.2&quot;</td><td>&quot;chrome&quot;</td><td>2024-10-08 11:41:05.371</td><td>&quot;maharashtra&quot;</td><td>2024-10-08 11:41:04.857</td><td>2024-10-08 11:41:04.859</td><td>1728387662385</td><td>&quot;8038ea38-8ddf-4a1a-825d-8287c0…</td><td>&quot;{&#x27;roles&#x27;: [&#x27;underwriter&#x27;], &#x27;tr…</td><td>&quot;underwriter&quot;</td><td>&quot;false&quot;</td><td>&quot;https://accounts.google.com/&quot;</td><td>null</td><td>0</td><td>&quot;international&quot;</td><td>&quot;session &amp; navigation&quot;</td><td>11</td><td>11</td><td>11</td><td>11</td><td>11</td><td>11</td></tr><tr><td>&quot;50dbfad3-8e24-456a-ae68-21b09b…</td><td>935023330069</td><td>591532</td><td>&quot;mumbai&quot;</td><td>2024-10-08 11:41:02.386</td><td>2024-10-08 11:41:04.857</td><td>&quot;india&quot;</td><td>&quot;windows&quot;</td><td>&quot;8bd8b6ab-370f-4b56-b38f-ad221c…</td><td>null</td><td>22216</td><td>&quot;{&#x27;[amplitude] session replay i…</td><td>2024-10-08 11:41:02.386</td><td>&quot;session_start&quot;</td><td>&quot;english&quot;</td><td>&quot;amplitude-ts/2.7.2&quot;</td><td>&quot;chrome&quot;</td><td>2024-10-08 11:41:05.371</td><td>&quot;maharashtra&quot;</td><td>2024-10-08 11:41:04.857</td><td>2024-10-08 11:41:04.859</td><td>1728387662386</td><td>&quot;8038ea38-8ddf-4a1a-825d-8287c0…</td><td>&quot;{&#x27;roles&#x27;: [&#x27;underwriter&#x27;], &#x27;tr…</td><td>&quot;underwriter&quot;</td><td>&quot;false&quot;</td><td>&quot;https://accounts.google.com/&quot;</td><td>null</td><td>2455</td><td>&quot;international&quot;</td><td>&quot;session &amp; navigation&quot;</td><td>11</td><td>11</td><td>11</td><td>11</td><td>11</td><td>11</td></tr><tr><td>&quot;ea0a4143-2380-48e7-a83e-8ba854…</td><td>935023330069</td><td>591532</td><td>&quot;mumbai&quot;</td><td>2024-10-08 11:41:03.500</td><td>2024-10-08 11:41:04.857</td><td>&quot;india&quot;</td><td>&quot;windows&quot;</td><td>&quot;8bd8b6ab-370f-4b56-b38f-ad221c…</td><td>null</td><td>22217</td><td>&quot;{&#x27;rowmodel&#x27;: &#x27;server&#x27;, &#x27;[ampli…</td><td>2024-10-08 11:41:03.500</td><td>&quot;:all-accounts:configurable-tab…</td><td>&quot;english&quot;</td><td>&quot;amplitude-ts/2.7.2&quot;</td><td>&quot;chrome&quot;</td><td>2024-10-08 11:41:05.371</td><td>&quot;maharashtra&quot;</td><td>2024-10-08 11:41:04.857</td><td>2024-10-08 11:41:04.859</td><td>1728387662386</td><td>&quot;8038ea38-8ddf-4a1a-825d-8287c0…</td><td>&quot;{&#x27;roles&#x27;: [&#x27;underwriter&#x27;], &#x27;tr…</td><td>&quot;underwriter&quot;</td><td>&quot;false&quot;</td><td>&quot;https://accounts.google.com/&quot;</td><td>null</td><td>2455</td><td>&quot;international&quot;</td><td>&quot;account &amp; policy management&quot;</td><td>11</td><td>11</td><td>11</td><td>11</td><td>11</td><td>11</td></tr><tr><td>&quot;4d89977d-4734-450c-afa1-07e326…</td><td>935023330069</td><td>591532</td><td>&quot;mumbai&quot;</td><td>2024-10-08 11:41:03.527</td><td>2024-10-08 11:41:04.857</td><td>&quot;india&quot;</td><td>&quot;windows&quot;</td><td>&quot;8bd8b6ab-370f-4b56-b38f-ad221c…</td><td>null</td><td>22217</td><td>&quot;{&#x27;displayname&#x27;: &#x27;all policies …</td><td>2024-10-08 11:41:03.527</td><td>&quot;:all-accounts:widget:render&quot;</td><td>&quot;english&quot;</td><td>&quot;amplitude-ts/2.7.2&quot;</td><td>&quot;chrome&quot;</td><td>2024-10-08 11:41:05.371</td><td>&quot;maharashtra&quot;</td><td>2024-10-08 11:41:04.857</td><td>2024-10-08 11:41:04.859</td><td>1728387662386</td><td>&quot;8038ea38-8ddf-4a1a-825d-8287c0…</td><td>&quot;{&#x27;roles&#x27;: [&#x27;underwriter&#x27;], &#x27;tr…</td><td>&quot;underwriter&quot;</td><td>&quot;false&quot;</td><td>&quot;https://accounts.google.com/&quot;</td><td>null</td><td>2455</td><td>&quot;international&quot;</td><td>&quot;account &amp; policy management&quot;</td><td>11</td><td>11</td><td>11</td><td>11</td><td>11</td><td>11</td></tr><tr><td>&hellip;</td><td>&hellip;</td><td>&hellip;</td><td>&hellip;</td><td>&hellip;</td><td>&hellip;</td><td>&hellip;</td><td>&hellip;</td><td>&hellip;</td><td>&hellip;</td><td>&hellip;</td><td>&hellip;</td><td>&hellip;</td><td>&hellip;</td><td>&hellip;</td><td>&hellip;</td><td>&hellip;</td><td>&hellip;</td><td>&hellip;</td><td>&hellip;</td><td>&hellip;</td><td>&hellip;</td><td>&hellip;</td><td>&hellip;</td><td>&hellip;</td><td>&hellip;</td><td>&hellip;</td><td>&hellip;</td><td>&hellip;</td><td>&hellip;</td><td>&hellip;</td><td>&hellip;</td><td>&hellip;</td><td>&hellip;</td><td>&hellip;</td><td>&hellip;</td><td>&hellip;</td></tr><tr><td>&quot;102ec3ca-a467-41a9-aa19-94f5b0…</td><td>857540480084</td><td>591532</td><td>&quot;nashville&quot;</td><td>2024-05-22 09:36:09.888</td><td>2024-05-22 09:36:10.832</td><td>&quot;united states&quot;</td><td>&quot;windows&quot;</td><td>&quot;a8b357fb-b4fb-45d2-babd-42b470…</td><td>&quot;nashville, tn&quot;</td><td>26</td><td>&quot;{&#x27;displayname&#x27;: &#x27;one drive lin…</td><td>2024-05-22 09:36:09.888</td><td>&quot;account-lines::widget:render&quot;</td><td>&quot;english&quot;</td><td>&quot;amplitude-ts/1.8.0&quot;</td><td>&quot;edge&quot;</td><td>2024-05-22 09:36:11.662</td><td>&quot;tennessee&quot;</td><td>2024-05-22 09:36:10.832</td><td>2024-05-22 09:36:10.833</td><td>1716368557821</td><td>&quot;9aecc15d-64a4-4190-80f5-b5b842…</td><td>&quot;{&#x27;initial_utm_medium&#x27;: &#x27;empty&#x27;…</td><td>&quot;underwriter&quot;</td><td>&quot;false&quot;</td><td>null</td><td>&quot;one-drive-link&quot;</td><td>2371</td><td>&quot;south&quot;</td><td>&quot;account &amp; policy management&quot;</td><td>9</td><td>9</td><td>9</td><td>9</td><td>9</td><td>9</td></tr><tr><td>&quot;55aec1ce-b876-4f66-b786-fd5706…</td><td>857540480084</td><td>591532</td><td>&quot;nashville&quot;</td><td>2024-05-22 09:36:09.917</td><td>2024-05-22 09:36:10.832</td><td>&quot;united states&quot;</td><td>&quot;windows&quot;</td><td>&quot;a8b357fb-b4fb-45d2-babd-42b470…</td><td>&quot;nashville, tn&quot;</td><td>27</td><td>&quot;{&#x27;rowmodel&#x27;: &#x27;legacyserver&#x27;, &#x27;…</td><td>2024-05-22 09:36:09.917</td><td>&quot;account-lines::configurable-ta…</td><td>&quot;english&quot;</td><td>&quot;amplitude-ts/1.8.0&quot;</td><td>&quot;edge&quot;</td><td>2024-05-22 09:36:11.662</td><td>&quot;tennessee&quot;</td><td>2024-05-22 09:36:10.832</td><td>2024-05-22 09:36:10.833</td><td>1716368557821</td><td>&quot;9aecc15d-64a4-4190-80f5-b5b842…</td><td>&quot;{&#x27;initial_utm_medium&#x27;: &#x27;empty&#x27;…</td><td>&quot;underwriter&quot;</td><td>&quot;false&quot;</td><td>null</td><td>&quot;property-locations&quot;</td><td>2371</td><td>&quot;south&quot;</td><td>&quot;account &amp; policy management&quot;</td><td>9</td><td>9</td><td>9</td><td>9</td><td>9</td><td>9</td></tr><tr><td>&quot;8cb28e22-0dc3-456c-9956-41d52b…</td><td>857540480084</td><td>591532</td><td>&quot;nashville&quot;</td><td>2024-05-22 09:36:15.727</td><td>2024-05-22 09:36:16.789</td><td>&quot;united states&quot;</td><td>&quot;windows&quot;</td><td>&quot;a8b357fb-b4fb-45d2-babd-42b470…</td><td>&quot;nashville, tn&quot;</td><td>28</td><td>&quot;{&#x27;displayname&#x27;: &#x27;attachments&#x27;,…</td><td>2024-05-22 09:36:15.727</td><td>&quot;account-lines::widget:render&quot;</td><td>&quot;english&quot;</td><td>&quot;amplitude-ts/1.8.0&quot;</td><td>&quot;edge&quot;</td><td>2024-05-22 09:36:17.297</td><td>&quot;tennessee&quot;</td><td>2024-05-22 09:36:16.789</td><td>2024-05-22 09:36:16.791</td><td>1716368557821</td><td>&quot;9aecc15d-64a4-4190-80f5-b5b842…</td><td>&quot;{&#x27;initial_utm_medium&#x27;: &#x27;empty&#x27;…</td><td>&quot;underwriter&quot;</td><td>&quot;false&quot;</td><td>null</td><td>&quot;attachments&quot;</td><td>2371</td><td>&quot;south&quot;</td><td>&quot;account &amp; policy management&quot;</td><td>9</td><td>9</td><td>9</td><td>9</td><td>9</td><td>9</td></tr><tr><td>&quot;eac4d6a2-2ff0-4e59-80af-aa1b3f…</td><td>857540480084</td><td>591532</td><td>&quot;nashville&quot;</td><td>2024-05-22 09:36:33.812</td><td>2024-05-22 09:36:34.881</td><td>&quot;united states&quot;</td><td>&quot;windows&quot;</td><td>&quot;a8b357fb-b4fb-45d2-babd-42b470…</td><td>&quot;nashville, tn&quot;</td><td>29</td><td>&quot;{}&quot;</td><td>2024-05-22 09:36:33.812</td><td>&quot;::nav-header:action-center-cli…</td><td>&quot;english&quot;</td><td>&quot;amplitude-ts/1.8.0&quot;</td><td>&quot;edge&quot;</td><td>2024-05-22 09:36:36.435</td><td>&quot;tennessee&quot;</td><td>2024-05-22 09:36:34.881</td><td>2024-05-22 09:36:34.883</td><td>1716368557821</td><td>&quot;9aecc15d-64a4-4190-80f5-b5b842…</td><td>&quot;{&#x27;initial_utm_medium&#x27;: &#x27;empty&#x27;…</td><td>&quot;underwriter&quot;</td><td>&quot;false&quot;</td><td>null</td><td>null</td><td>2371</td><td>&quot;south&quot;</td><td>&quot;session &amp; navigation&quot;</td><td>9</td><td>9</td><td>9</td><td>9</td><td>9</td><td>9</td></tr><tr><td>&quot;bf44b3b7-2b4d-4e20-a18c-65fb63…</td><td>857540480084</td><td>591532</td><td>&quot;nashville&quot;</td><td>2024-05-22 09:36:33.815</td><td>2024-05-22 09:36:34.881</td><td>&quot;united states&quot;</td><td>&quot;windows&quot;</td><td>&quot;a8b357fb-b4fb-45d2-babd-42b470…</td><td>&quot;nashville, tn&quot;</td><td>30</td><td>&quot;{}&quot;</td><td>2024-05-22 09:36:33.815</td><td>&quot;action-center:::view&quot;</td><td>&quot;english&quot;</td><td>&quot;amplitude-ts/1.8.0&quot;</td><td>&quot;edge&quot;</td><td>2024-05-22 09:36:36.435</td><td>&quot;tennessee&quot;</td><td>2024-05-22 09:36:34.881</td><td>2024-05-22 09:36:34.883</td><td>1716368557821</td><td>&quot;9aecc15d-64a4-4190-80f5-b5b842…</td><td>&quot;{&#x27;initial_utm_medium&#x27;: &#x27;empty&#x27;…</td><td>&quot;underwriter&quot;</td><td>&quot;false&quot;</td><td>null</td><td>null</td><td>2371</td><td>&quot;south&quot;</td><td>&quot;action center &amp; workflow&quot;</td><td>9</td><td>9</td><td>9</td><td>9</td><td>9</td><td>9</td></tr></tbody></table></div>"
      ],
      "text/plain": [
       "shape: (14_119_738, 37)\n",
       "┌────────────┬────────────┬────────┬───────────┬───┬───────────┬───────────┬───────────┬───────────┐\n",
       "│ $insert_id ┆ amplitude_ ┆ app    ┆ city      ┆ … ┆ event_hou ┆ processed ┆ server_re ┆ server_up │\n",
       "│ ---        ┆ id         ┆ ---    ┆ ---       ┆   ┆ r         ┆ _hour     ┆ ceived_ho ┆ load_hour │\n",
       "│ str        ┆ ---        ┆ i64    ┆ str       ┆   ┆ ---       ┆ ---       ┆ ur        ┆ ---       │\n",
       "│            ┆ i64        ┆        ┆           ┆   ┆ i8        ┆ i8        ┆ ---       ┆ i8        │\n",
       "│            ┆            ┆        ┆           ┆   ┆           ┆           ┆ i8        ┆           │\n",
       "╞════════════╪════════════╪════════╪═══════════╪═══╪═══════════╪═══════════╪═══════════╪═══════════╡\n",
       "│ 251db963-6 ┆ 9350233300 ┆ 591532 ┆ mumbai    ┆ … ┆ 11        ┆ 11        ┆ 11        ┆ 11        │\n",
       "│ 623-448e-8 ┆ 69         ┆        ┆           ┆   ┆           ┆           ┆           ┆           │\n",
       "│ 665-f542b8 ┆            ┆        ┆           ┆   ┆           ┆           ┆           ┆           │\n",
       "│ …          ┆            ┆        ┆           ┆   ┆           ┆           ┆           ┆           │\n",
       "│ 3a95cdac-1 ┆ 9350233300 ┆ 591532 ┆ mumbai    ┆ … ┆ 11        ┆ 11        ┆ 11        ┆ 11        │\n",
       "│ 74c-4002-8 ┆ 69         ┆        ┆           ┆   ┆           ┆           ┆           ┆           │\n",
       "│ e84-8aeba8 ┆            ┆        ┆           ┆   ┆           ┆           ┆           ┆           │\n",
       "│ …          ┆            ┆        ┆           ┆   ┆           ┆           ┆           ┆           │\n",
       "│ 50dbfad3-8 ┆ 9350233300 ┆ 591532 ┆ mumbai    ┆ … ┆ 11        ┆ 11        ┆ 11        ┆ 11        │\n",
       "│ e24-456a-a ┆ 69         ┆        ┆           ┆   ┆           ┆           ┆           ┆           │\n",
       "│ e68-21b09b ┆            ┆        ┆           ┆   ┆           ┆           ┆           ┆           │\n",
       "│ …          ┆            ┆        ┆           ┆   ┆           ┆           ┆           ┆           │\n",
       "│ ea0a4143-2 ┆ 9350233300 ┆ 591532 ┆ mumbai    ┆ … ┆ 11        ┆ 11        ┆ 11        ┆ 11        │\n",
       "│ 380-48e7-a ┆ 69         ┆        ┆           ┆   ┆           ┆           ┆           ┆           │\n",
       "│ 83e-8ba854 ┆            ┆        ┆           ┆   ┆           ┆           ┆           ┆           │\n",
       "│ …          ┆            ┆        ┆           ┆   ┆           ┆           ┆           ┆           │\n",
       "│ 4d89977d-4 ┆ 9350233300 ┆ 591532 ┆ mumbai    ┆ … ┆ 11        ┆ 11        ┆ 11        ┆ 11        │\n",
       "│ 734-450c-a ┆ 69         ┆        ┆           ┆   ┆           ┆           ┆           ┆           │\n",
       "│ fa1-07e326 ┆            ┆        ┆           ┆   ┆           ┆           ┆           ┆           │\n",
       "│ …          ┆            ┆        ┆           ┆   ┆           ┆           ┆           ┆           │\n",
       "│ …          ┆ …          ┆ …      ┆ …         ┆ … ┆ …         ┆ …         ┆ …         ┆ …         │\n",
       "│ 102ec3ca-a ┆ 8575404800 ┆ 591532 ┆ nashville ┆ … ┆ 9         ┆ 9         ┆ 9         ┆ 9         │\n",
       "│ 467-41a9-a ┆ 84         ┆        ┆           ┆   ┆           ┆           ┆           ┆           │\n",
       "│ a19-94f5b0 ┆            ┆        ┆           ┆   ┆           ┆           ┆           ┆           │\n",
       "│ …          ┆            ┆        ┆           ┆   ┆           ┆           ┆           ┆           │\n",
       "│ 55aec1ce-b ┆ 8575404800 ┆ 591532 ┆ nashville ┆ … ┆ 9         ┆ 9         ┆ 9         ┆ 9         │\n",
       "│ 876-4f66-b ┆ 84         ┆        ┆           ┆   ┆           ┆           ┆           ┆           │\n",
       "│ 786-fd5706 ┆            ┆        ┆           ┆   ┆           ┆           ┆           ┆           │\n",
       "│ …          ┆            ┆        ┆           ┆   ┆           ┆           ┆           ┆           │\n",
       "│ 8cb28e22-0 ┆ 8575404800 ┆ 591532 ┆ nashville ┆ … ┆ 9         ┆ 9         ┆ 9         ┆ 9         │\n",
       "│ dc3-456c-9 ┆ 84         ┆        ┆           ┆   ┆           ┆           ┆           ┆           │\n",
       "│ 956-41d52b ┆            ┆        ┆           ┆   ┆           ┆           ┆           ┆           │\n",
       "│ …          ┆            ┆        ┆           ┆   ┆           ┆           ┆           ┆           │\n",
       "│ eac4d6a2-2 ┆ 8575404800 ┆ 591532 ┆ nashville ┆ … ┆ 9         ┆ 9         ┆ 9         ┆ 9         │\n",
       "│ ff0-4e59-8 ┆ 84         ┆        ┆           ┆   ┆           ┆           ┆           ┆           │\n",
       "│ 0af-aa1b3f ┆            ┆        ┆           ┆   ┆           ┆           ┆           ┆           │\n",
       "│ …          ┆            ┆        ┆           ┆   ┆           ┆           ┆           ┆           │\n",
       "│ bf44b3b7-2 ┆ 8575404800 ┆ 591532 ┆ nashville ┆ … ┆ 9         ┆ 9         ┆ 9         ┆ 9         │\n",
       "│ b4d-4e20-a ┆ 84         ┆        ┆           ┆   ┆           ┆           ┆           ┆           │\n",
       "│ 18c-65fb63 ┆            ┆        ┆           ┆   ┆           ┆           ┆           ┆           │\n",
       "│ …          ┆            ┆        ┆           ┆   ┆           ┆           ┆           ┆           │\n",
       "└────────────┴────────────┴────────┴───────────┴───┴───────────┴───────────┴───────────┴───────────┘"
      ]
     },
     "execution_count": 15,
     "metadata": {},
     "output_type": "execute_result"
    }
   ],
   "source": [
    "# Extract hours from datetime columns\n",
    "datetime_cols = [\"client_event_time\", \"client_upload_time\", \"event_time\", \n",
    "                \"processed_time\", \"server_received_time\", \"server_upload_time\"]\n",
    "\n",
    "time_to_hour_map = {\n",
    "    'client_event_time': 'client_event_hour',\n",
    "    'client_upload_time': 'client_upload_hour',\n",
    "    'event_time': 'event_hour',\n",
    "    'processed_time': 'processed_hour',\n",
    "    'server_received_time': 'server_received_hour',\n",
    "    'server_upload_time': 'server_upload_hour'\n",
    "}\n",
    "\n",
    "df = df.with_columns(pl.col(c).dt.hour().alias(time_to_hour_map[c]) for c in datetime_cols)\n",
    "df"
   ]
  },
  {
   "cell_type": "code",
   "execution_count": 16,
   "metadata": {},
   "outputs": [
    {
     "data": {
      "text/html": [
       "<div><style>\n",
       ".dataframe > thead > tr,\n",
       ".dataframe > tbody > tr {\n",
       "  text-align: right;\n",
       "  white-space: pre-wrap;\n",
       "}\n",
       "</style>\n",
       "<small>shape: (14_119_738, 40)</small><table border=\"1\" class=\"dataframe\"><thead><tr><th>$insert_id</th><th>amplitude_id</th><th>app</th><th>city</th><th>client_event_time</th><th>client_upload_time</th><th>country</th><th>device_family</th><th>device_id</th><th>dma</th><th>event_id</th><th>event_properties</th><th>event_time</th><th>event_type</th><th>language</th><th>library</th><th>os_name</th><th>processed_time</th><th>region</th><th>server_received_time</th><th>server_upload_time</th><th>session_id</th><th>user_id</th><th>user_properties</th><th>roles</th><th>isInternalUser</th><th>referrer</th><th>slug</th><th>session_seconds</th><th>region_grouped</th><th>event_category</th><th>client_event_hour</th><th>client_upload_hour</th><th>event_hour</th><th>processed_hour</th><th>server_received_hour</th><th>server_upload_hour</th><th>time_to_server</th><th>server_to_process</th><th>processing_time</th></tr><tr><td>str</td><td>i64</td><td>i64</td><td>str</td><td>datetime[μs]</td><td>datetime[μs]</td><td>str</td><td>str</td><td>str</td><td>str</td><td>i64</td><td>str</td><td>datetime[μs]</td><td>str</td><td>str</td><td>str</td><td>str</td><td>datetime[μs]</td><td>str</td><td>datetime[μs]</td><td>datetime[μs]</td><td>i64</td><td>str</td><td>str</td><td>str</td><td>str</td><td>str</td><td>str</td><td>i64</td><td>str</td><td>str</td><td>i8</td><td>i8</td><td>i8</td><td>i8</td><td>i8</td><td>i8</td><td>i64</td><td>i64</td><td>i64</td></tr></thead><tbody><tr><td>&quot;251db963-6623-448e-8665-f542b8…</td><td>935023330069</td><td>591532</td><td>&quot;mumbai&quot;</td><td>2024-10-08 11:41:02.385</td><td>2024-10-08 11:41:04.857</td><td>&quot;india&quot;</td><td>&quot;windows&quot;</td><td>&quot;8bd8b6ab-370f-4b56-b38f-ad221c…</td><td>null</td><td>22216</td><td>&quot;{}&quot;</td><td>2024-10-08 11:41:02.385</td><td>&quot;session_start&quot;</td><td>&quot;english&quot;</td><td>&quot;amplitude-ts/2.7.2&quot;</td><td>&quot;chrome&quot;</td><td>2024-10-08 11:41:05.371</td><td>&quot;maharashtra&quot;</td><td>2024-10-08 11:41:04.857</td><td>2024-10-08 11:41:04.859</td><td>1728387662385</td><td>&quot;8038ea38-8ddf-4a1a-825d-8287c0…</td><td>&quot;{&#x27;roles&#x27;: [&#x27;underwriter&#x27;], &#x27;tr…</td><td>&quot;underwriter&quot;</td><td>&quot;false&quot;</td><td>&quot;https://accounts.google.com/&quot;</td><td>null</td><td>0</td><td>&quot;international&quot;</td><td>&quot;session &amp; navigation&quot;</td><td>11</td><td>11</td><td>11</td><td>11</td><td>11</td><td>11</td><td>2</td><td>0</td><td>0</td></tr><tr><td>&quot;3a95cdac-174c-4002-8e84-8aeba8…</td><td>935023330069</td><td>591532</td><td>&quot;mumbai&quot;</td><td>2024-10-08 11:41:02.386</td><td>2024-10-08 11:41:04.857</td><td>&quot;india&quot;</td><td>&quot;windows&quot;</td><td>&quot;8bd8b6ab-370f-4b56-b38f-ad221c…</td><td>null</td><td>22215</td><td>&quot;{}&quot;</td><td>2024-10-08 11:41:02.386</td><td>&quot;session_end&quot;</td><td>&quot;english&quot;</td><td>&quot;amplitude-ts/2.7.2&quot;</td><td>&quot;chrome&quot;</td><td>2024-10-08 11:41:05.371</td><td>&quot;maharashtra&quot;</td><td>2024-10-08 11:41:04.857</td><td>2024-10-08 11:41:04.859</td><td>1728387662385</td><td>&quot;8038ea38-8ddf-4a1a-825d-8287c0…</td><td>&quot;{&#x27;roles&#x27;: [&#x27;underwriter&#x27;], &#x27;tr…</td><td>&quot;underwriter&quot;</td><td>&quot;false&quot;</td><td>&quot;https://accounts.google.com/&quot;</td><td>null</td><td>0</td><td>&quot;international&quot;</td><td>&quot;session &amp; navigation&quot;</td><td>11</td><td>11</td><td>11</td><td>11</td><td>11</td><td>11</td><td>2</td><td>0</td><td>0</td></tr><tr><td>&quot;50dbfad3-8e24-456a-ae68-21b09b…</td><td>935023330069</td><td>591532</td><td>&quot;mumbai&quot;</td><td>2024-10-08 11:41:02.386</td><td>2024-10-08 11:41:04.857</td><td>&quot;india&quot;</td><td>&quot;windows&quot;</td><td>&quot;8bd8b6ab-370f-4b56-b38f-ad221c…</td><td>null</td><td>22216</td><td>&quot;{&#x27;[amplitude] session replay i…</td><td>2024-10-08 11:41:02.386</td><td>&quot;session_start&quot;</td><td>&quot;english&quot;</td><td>&quot;amplitude-ts/2.7.2&quot;</td><td>&quot;chrome&quot;</td><td>2024-10-08 11:41:05.371</td><td>&quot;maharashtra&quot;</td><td>2024-10-08 11:41:04.857</td><td>2024-10-08 11:41:04.859</td><td>1728387662386</td><td>&quot;8038ea38-8ddf-4a1a-825d-8287c0…</td><td>&quot;{&#x27;roles&#x27;: [&#x27;underwriter&#x27;], &#x27;tr…</td><td>&quot;underwriter&quot;</td><td>&quot;false&quot;</td><td>&quot;https://accounts.google.com/&quot;</td><td>null</td><td>2455</td><td>&quot;international&quot;</td><td>&quot;session &amp; navigation&quot;</td><td>11</td><td>11</td><td>11</td><td>11</td><td>11</td><td>11</td><td>2</td><td>0</td><td>0</td></tr><tr><td>&quot;ea0a4143-2380-48e7-a83e-8ba854…</td><td>935023330069</td><td>591532</td><td>&quot;mumbai&quot;</td><td>2024-10-08 11:41:03.500</td><td>2024-10-08 11:41:04.857</td><td>&quot;india&quot;</td><td>&quot;windows&quot;</td><td>&quot;8bd8b6ab-370f-4b56-b38f-ad221c…</td><td>null</td><td>22217</td><td>&quot;{&#x27;rowmodel&#x27;: &#x27;server&#x27;, &#x27;[ampli…</td><td>2024-10-08 11:41:03.500</td><td>&quot;:all-accounts:configurable-tab…</td><td>&quot;english&quot;</td><td>&quot;amplitude-ts/2.7.2&quot;</td><td>&quot;chrome&quot;</td><td>2024-10-08 11:41:05.371</td><td>&quot;maharashtra&quot;</td><td>2024-10-08 11:41:04.857</td><td>2024-10-08 11:41:04.859</td><td>1728387662386</td><td>&quot;8038ea38-8ddf-4a1a-825d-8287c0…</td><td>&quot;{&#x27;roles&#x27;: [&#x27;underwriter&#x27;], &#x27;tr…</td><td>&quot;underwriter&quot;</td><td>&quot;false&quot;</td><td>&quot;https://accounts.google.com/&quot;</td><td>null</td><td>2455</td><td>&quot;international&quot;</td><td>&quot;account &amp; policy management&quot;</td><td>11</td><td>11</td><td>11</td><td>11</td><td>11</td><td>11</td><td>1</td><td>0</td><td>0</td></tr><tr><td>&quot;4d89977d-4734-450c-afa1-07e326…</td><td>935023330069</td><td>591532</td><td>&quot;mumbai&quot;</td><td>2024-10-08 11:41:03.527</td><td>2024-10-08 11:41:04.857</td><td>&quot;india&quot;</td><td>&quot;windows&quot;</td><td>&quot;8bd8b6ab-370f-4b56-b38f-ad221c…</td><td>null</td><td>22217</td><td>&quot;{&#x27;displayname&#x27;: &#x27;all policies …</td><td>2024-10-08 11:41:03.527</td><td>&quot;:all-accounts:widget:render&quot;</td><td>&quot;english&quot;</td><td>&quot;amplitude-ts/2.7.2&quot;</td><td>&quot;chrome&quot;</td><td>2024-10-08 11:41:05.371</td><td>&quot;maharashtra&quot;</td><td>2024-10-08 11:41:04.857</td><td>2024-10-08 11:41:04.859</td><td>1728387662386</td><td>&quot;8038ea38-8ddf-4a1a-825d-8287c0…</td><td>&quot;{&#x27;roles&#x27;: [&#x27;underwriter&#x27;], &#x27;tr…</td><td>&quot;underwriter&quot;</td><td>&quot;false&quot;</td><td>&quot;https://accounts.google.com/&quot;</td><td>null</td><td>2455</td><td>&quot;international&quot;</td><td>&quot;account &amp; policy management&quot;</td><td>11</td><td>11</td><td>11</td><td>11</td><td>11</td><td>11</td><td>1</td><td>0</td><td>0</td></tr><tr><td>&hellip;</td><td>&hellip;</td><td>&hellip;</td><td>&hellip;</td><td>&hellip;</td><td>&hellip;</td><td>&hellip;</td><td>&hellip;</td><td>&hellip;</td><td>&hellip;</td><td>&hellip;</td><td>&hellip;</td><td>&hellip;</td><td>&hellip;</td><td>&hellip;</td><td>&hellip;</td><td>&hellip;</td><td>&hellip;</td><td>&hellip;</td><td>&hellip;</td><td>&hellip;</td><td>&hellip;</td><td>&hellip;</td><td>&hellip;</td><td>&hellip;</td><td>&hellip;</td><td>&hellip;</td><td>&hellip;</td><td>&hellip;</td><td>&hellip;</td><td>&hellip;</td><td>&hellip;</td><td>&hellip;</td><td>&hellip;</td><td>&hellip;</td><td>&hellip;</td><td>&hellip;</td><td>&hellip;</td><td>&hellip;</td><td>&hellip;</td></tr><tr><td>&quot;102ec3ca-a467-41a9-aa19-94f5b0…</td><td>857540480084</td><td>591532</td><td>&quot;nashville&quot;</td><td>2024-05-22 09:36:09.888</td><td>2024-05-22 09:36:10.832</td><td>&quot;united states&quot;</td><td>&quot;windows&quot;</td><td>&quot;a8b357fb-b4fb-45d2-babd-42b470…</td><td>&quot;nashville, tn&quot;</td><td>26</td><td>&quot;{&#x27;displayname&#x27;: &#x27;one drive lin…</td><td>2024-05-22 09:36:09.888</td><td>&quot;account-lines::widget:render&quot;</td><td>&quot;english&quot;</td><td>&quot;amplitude-ts/1.8.0&quot;</td><td>&quot;edge&quot;</td><td>2024-05-22 09:36:11.662</td><td>&quot;tennessee&quot;</td><td>2024-05-22 09:36:10.832</td><td>2024-05-22 09:36:10.833</td><td>1716368557821</td><td>&quot;9aecc15d-64a4-4190-80f5-b5b842…</td><td>&quot;{&#x27;initial_utm_medium&#x27;: &#x27;empty&#x27;…</td><td>&quot;underwriter&quot;</td><td>&quot;false&quot;</td><td>null</td><td>&quot;one-drive-link&quot;</td><td>2371</td><td>&quot;south&quot;</td><td>&quot;account &amp; policy management&quot;</td><td>9</td><td>9</td><td>9</td><td>9</td><td>9</td><td>9</td><td>0</td><td>0</td><td>0</td></tr><tr><td>&quot;55aec1ce-b876-4f66-b786-fd5706…</td><td>857540480084</td><td>591532</td><td>&quot;nashville&quot;</td><td>2024-05-22 09:36:09.917</td><td>2024-05-22 09:36:10.832</td><td>&quot;united states&quot;</td><td>&quot;windows&quot;</td><td>&quot;a8b357fb-b4fb-45d2-babd-42b470…</td><td>&quot;nashville, tn&quot;</td><td>27</td><td>&quot;{&#x27;rowmodel&#x27;: &#x27;legacyserver&#x27;, &#x27;…</td><td>2024-05-22 09:36:09.917</td><td>&quot;account-lines::configurable-ta…</td><td>&quot;english&quot;</td><td>&quot;amplitude-ts/1.8.0&quot;</td><td>&quot;edge&quot;</td><td>2024-05-22 09:36:11.662</td><td>&quot;tennessee&quot;</td><td>2024-05-22 09:36:10.832</td><td>2024-05-22 09:36:10.833</td><td>1716368557821</td><td>&quot;9aecc15d-64a4-4190-80f5-b5b842…</td><td>&quot;{&#x27;initial_utm_medium&#x27;: &#x27;empty&#x27;…</td><td>&quot;underwriter&quot;</td><td>&quot;false&quot;</td><td>null</td><td>&quot;property-locations&quot;</td><td>2371</td><td>&quot;south&quot;</td><td>&quot;account &amp; policy management&quot;</td><td>9</td><td>9</td><td>9</td><td>9</td><td>9</td><td>9</td><td>0</td><td>0</td><td>0</td></tr><tr><td>&quot;8cb28e22-0dc3-456c-9956-41d52b…</td><td>857540480084</td><td>591532</td><td>&quot;nashville&quot;</td><td>2024-05-22 09:36:15.727</td><td>2024-05-22 09:36:16.789</td><td>&quot;united states&quot;</td><td>&quot;windows&quot;</td><td>&quot;a8b357fb-b4fb-45d2-babd-42b470…</td><td>&quot;nashville, tn&quot;</td><td>28</td><td>&quot;{&#x27;displayname&#x27;: &#x27;attachments&#x27;,…</td><td>2024-05-22 09:36:15.727</td><td>&quot;account-lines::widget:render&quot;</td><td>&quot;english&quot;</td><td>&quot;amplitude-ts/1.8.0&quot;</td><td>&quot;edge&quot;</td><td>2024-05-22 09:36:17.297</td><td>&quot;tennessee&quot;</td><td>2024-05-22 09:36:16.789</td><td>2024-05-22 09:36:16.791</td><td>1716368557821</td><td>&quot;9aecc15d-64a4-4190-80f5-b5b842…</td><td>&quot;{&#x27;initial_utm_medium&#x27;: &#x27;empty&#x27;…</td><td>&quot;underwriter&quot;</td><td>&quot;false&quot;</td><td>null</td><td>&quot;attachments&quot;</td><td>2371</td><td>&quot;south&quot;</td><td>&quot;account &amp; policy management&quot;</td><td>9</td><td>9</td><td>9</td><td>9</td><td>9</td><td>9</td><td>1</td><td>0</td><td>0</td></tr><tr><td>&quot;eac4d6a2-2ff0-4e59-80af-aa1b3f…</td><td>857540480084</td><td>591532</td><td>&quot;nashville&quot;</td><td>2024-05-22 09:36:33.812</td><td>2024-05-22 09:36:34.881</td><td>&quot;united states&quot;</td><td>&quot;windows&quot;</td><td>&quot;a8b357fb-b4fb-45d2-babd-42b470…</td><td>&quot;nashville, tn&quot;</td><td>29</td><td>&quot;{}&quot;</td><td>2024-05-22 09:36:33.812</td><td>&quot;::nav-header:action-center-cli…</td><td>&quot;english&quot;</td><td>&quot;amplitude-ts/1.8.0&quot;</td><td>&quot;edge&quot;</td><td>2024-05-22 09:36:36.435</td><td>&quot;tennessee&quot;</td><td>2024-05-22 09:36:34.881</td><td>2024-05-22 09:36:34.883</td><td>1716368557821</td><td>&quot;9aecc15d-64a4-4190-80f5-b5b842…</td><td>&quot;{&#x27;initial_utm_medium&#x27;: &#x27;empty&#x27;…</td><td>&quot;underwriter&quot;</td><td>&quot;false&quot;</td><td>null</td><td>null</td><td>2371</td><td>&quot;south&quot;</td><td>&quot;session &amp; navigation&quot;</td><td>9</td><td>9</td><td>9</td><td>9</td><td>9</td><td>9</td><td>1</td><td>0</td><td>1</td></tr><tr><td>&quot;bf44b3b7-2b4d-4e20-a18c-65fb63…</td><td>857540480084</td><td>591532</td><td>&quot;nashville&quot;</td><td>2024-05-22 09:36:33.815</td><td>2024-05-22 09:36:34.881</td><td>&quot;united states&quot;</td><td>&quot;windows&quot;</td><td>&quot;a8b357fb-b4fb-45d2-babd-42b470…</td><td>&quot;nashville, tn&quot;</td><td>30</td><td>&quot;{}&quot;</td><td>2024-05-22 09:36:33.815</td><td>&quot;action-center:::view&quot;</td><td>&quot;english&quot;</td><td>&quot;amplitude-ts/1.8.0&quot;</td><td>&quot;edge&quot;</td><td>2024-05-22 09:36:36.435</td><td>&quot;tennessee&quot;</td><td>2024-05-22 09:36:34.881</td><td>2024-05-22 09:36:34.883</td><td>1716368557821</td><td>&quot;9aecc15d-64a4-4190-80f5-b5b842…</td><td>&quot;{&#x27;initial_utm_medium&#x27;: &#x27;empty&#x27;…</td><td>&quot;underwriter&quot;</td><td>&quot;false&quot;</td><td>null</td><td>null</td><td>2371</td><td>&quot;south&quot;</td><td>&quot;action center &amp; workflow&quot;</td><td>9</td><td>9</td><td>9</td><td>9</td><td>9</td><td>9</td><td>1</td><td>0</td><td>1</td></tr></tbody></table></div>"
      ],
      "text/plain": [
       "shape: (14_119_738, 40)\n",
       "┌────────────┬────────────┬────────┬───────────┬───┬───────────┬───────────┬───────────┬───────────┐\n",
       "│ $insert_id ┆ amplitude_ ┆ app    ┆ city      ┆ … ┆ server_up ┆ time_to_s ┆ server_to ┆ processin │\n",
       "│ ---        ┆ id         ┆ ---    ┆ ---       ┆   ┆ load_hour ┆ erver     ┆ _process  ┆ g_time    │\n",
       "│ str        ┆ ---        ┆ i64    ┆ str       ┆   ┆ ---       ┆ ---       ┆ ---       ┆ ---       │\n",
       "│            ┆ i64        ┆        ┆           ┆   ┆ i8        ┆ i64       ┆ i64       ┆ i64       │\n",
       "╞════════════╪════════════╪════════╪═══════════╪═══╪═══════════╪═══════════╪═══════════╪═══════════╡\n",
       "│ 251db963-6 ┆ 9350233300 ┆ 591532 ┆ mumbai    ┆ … ┆ 11        ┆ 2         ┆ 0         ┆ 0         │\n",
       "│ 623-448e-8 ┆ 69         ┆        ┆           ┆   ┆           ┆           ┆           ┆           │\n",
       "│ 665-f542b8 ┆            ┆        ┆           ┆   ┆           ┆           ┆           ┆           │\n",
       "│ …          ┆            ┆        ┆           ┆   ┆           ┆           ┆           ┆           │\n",
       "│ 3a95cdac-1 ┆ 9350233300 ┆ 591532 ┆ mumbai    ┆ … ┆ 11        ┆ 2         ┆ 0         ┆ 0         │\n",
       "│ 74c-4002-8 ┆ 69         ┆        ┆           ┆   ┆           ┆           ┆           ┆           │\n",
       "│ e84-8aeba8 ┆            ┆        ┆           ┆   ┆           ┆           ┆           ┆           │\n",
       "│ …          ┆            ┆        ┆           ┆   ┆           ┆           ┆           ┆           │\n",
       "│ 50dbfad3-8 ┆ 9350233300 ┆ 591532 ┆ mumbai    ┆ … ┆ 11        ┆ 2         ┆ 0         ┆ 0         │\n",
       "│ e24-456a-a ┆ 69         ┆        ┆           ┆   ┆           ┆           ┆           ┆           │\n",
       "│ e68-21b09b ┆            ┆        ┆           ┆   ┆           ┆           ┆           ┆           │\n",
       "│ …          ┆            ┆        ┆           ┆   ┆           ┆           ┆           ┆           │\n",
       "│ ea0a4143-2 ┆ 9350233300 ┆ 591532 ┆ mumbai    ┆ … ┆ 11        ┆ 1         ┆ 0         ┆ 0         │\n",
       "│ 380-48e7-a ┆ 69         ┆        ┆           ┆   ┆           ┆           ┆           ┆           │\n",
       "│ 83e-8ba854 ┆            ┆        ┆           ┆   ┆           ┆           ┆           ┆           │\n",
       "│ …          ┆            ┆        ┆           ┆   ┆           ┆           ┆           ┆           │\n",
       "│ 4d89977d-4 ┆ 9350233300 ┆ 591532 ┆ mumbai    ┆ … ┆ 11        ┆ 1         ┆ 0         ┆ 0         │\n",
       "│ 734-450c-a ┆ 69         ┆        ┆           ┆   ┆           ┆           ┆           ┆           │\n",
       "│ fa1-07e326 ┆            ┆        ┆           ┆   ┆           ┆           ┆           ┆           │\n",
       "│ …          ┆            ┆        ┆           ┆   ┆           ┆           ┆           ┆           │\n",
       "│ …          ┆ …          ┆ …      ┆ …         ┆ … ┆ …         ┆ …         ┆ …         ┆ …         │\n",
       "│ 102ec3ca-a ┆ 8575404800 ┆ 591532 ┆ nashville ┆ … ┆ 9         ┆ 0         ┆ 0         ┆ 0         │\n",
       "│ 467-41a9-a ┆ 84         ┆        ┆           ┆   ┆           ┆           ┆           ┆           │\n",
       "│ a19-94f5b0 ┆            ┆        ┆           ┆   ┆           ┆           ┆           ┆           │\n",
       "│ …          ┆            ┆        ┆           ┆   ┆           ┆           ┆           ┆           │\n",
       "│ 55aec1ce-b ┆ 8575404800 ┆ 591532 ┆ nashville ┆ … ┆ 9         ┆ 0         ┆ 0         ┆ 0         │\n",
       "│ 876-4f66-b ┆ 84         ┆        ┆           ┆   ┆           ┆           ┆           ┆           │\n",
       "│ 786-fd5706 ┆            ┆        ┆           ┆   ┆           ┆           ┆           ┆           │\n",
       "│ …          ┆            ┆        ┆           ┆   ┆           ┆           ┆           ┆           │\n",
       "│ 8cb28e22-0 ┆ 8575404800 ┆ 591532 ┆ nashville ┆ … ┆ 9         ┆ 1         ┆ 0         ┆ 0         │\n",
       "│ dc3-456c-9 ┆ 84         ┆        ┆           ┆   ┆           ┆           ┆           ┆           │\n",
       "│ 956-41d52b ┆            ┆        ┆           ┆   ┆           ┆           ┆           ┆           │\n",
       "│ …          ┆            ┆        ┆           ┆   ┆           ┆           ┆           ┆           │\n",
       "│ eac4d6a2-2 ┆ 8575404800 ┆ 591532 ┆ nashville ┆ … ┆ 9         ┆ 1         ┆ 0         ┆ 1         │\n",
       "│ ff0-4e59-8 ┆ 84         ┆        ┆           ┆   ┆           ┆           ┆           ┆           │\n",
       "│ 0af-aa1b3f ┆            ┆        ┆           ┆   ┆           ┆           ┆           ┆           │\n",
       "│ …          ┆            ┆        ┆           ┆   ┆           ┆           ┆           ┆           │\n",
       "│ bf44b3b7-2 ┆ 8575404800 ┆ 591532 ┆ nashville ┆ … ┆ 9         ┆ 1         ┆ 0         ┆ 1         │\n",
       "│ b4d-4e20-a ┆ 84         ┆        ┆           ┆   ┆           ┆           ┆           ┆           │\n",
       "│ 18c-65fb63 ┆            ┆        ┆           ┆   ┆           ┆           ┆           ┆           │\n",
       "│ …          ┆            ┆        ┆           ┆   ┆           ┆           ┆           ┆           │\n",
       "└────────────┴────────────┴────────┴───────────┴───┴───────────┴───────────┴───────────┴───────────┘"
      ]
     },
     "execution_count": 16,
     "metadata": {},
     "output_type": "execute_result"
    }
   ],
   "source": [
    "# Extract relative time between start and end of the same evetns\n",
    "df = df.with_columns([\n",
    "    (pl.col(\"client_upload_time\") - pl.col(\"client_event_time\")).dt.total_seconds().alias(\"time_to_server\"),\n",
    "    (pl.col(\"server_upload_time\") - pl.col(\"server_received_time\")).dt.total_seconds().alias(\"server_to_process\"),\n",
    "    (pl.col(\"processed_time\") - pl.col(\"server_upload_time\")).dt.total_seconds().alias(\"processing_time\")\n",
    "])\n",
    "df"
   ]
  },
  {
   "cell_type": "markdown",
   "metadata": {},
   "source": [
    "### Retention\n",
    "\n",
    "There is a lot of information that we can extract from the first user visit. In particular, we can use the time between the first visits and subsequent later visits in order to infer whether the customer has an interest in the product.\n",
    "\n",
    "We will choose to measure retention as whether the user has returned within 7 days of the last session. This indicator will be marked on a session level."
   ]
  },
  {
   "cell_type": "code",
   "execution_count": 17,
   "metadata": {},
   "outputs": [
    {
     "data": {
      "text/html": [
       "<div><style>\n",
       ".dataframe > thead > tr,\n",
       ".dataframe > tbody > tr {\n",
       "  text-align: right;\n",
       "  white-space: pre-wrap;\n",
       "}\n",
       "</style>\n",
       "<small>shape: (14_239_968, 41)</small><table border=\"1\" class=\"dataframe\"><thead><tr><th>$insert_id</th><th>amplitude_id</th><th>app</th><th>city</th><th>client_event_time</th><th>client_upload_time</th><th>country</th><th>device_family</th><th>device_id</th><th>dma</th><th>event_id</th><th>event_properties</th><th>event_time</th><th>event_type</th><th>language</th><th>library</th><th>os_name</th><th>processed_time</th><th>region</th><th>server_received_time</th><th>server_upload_time</th><th>session_id</th><th>user_id</th><th>user_properties</th><th>roles</th><th>isInternalUser</th><th>referrer</th><th>slug</th><th>session_seconds</th><th>region_grouped</th><th>event_category</th><th>client_event_hour</th><th>client_upload_hour</th><th>event_hour</th><th>processed_hour</th><th>server_received_hour</th><th>server_upload_hour</th><th>time_to_server</th><th>server_to_process</th><th>processing_time</th><th>returned_within_7_days</th></tr><tr><td>str</td><td>i64</td><td>i64</td><td>str</td><td>datetime[μs]</td><td>datetime[μs]</td><td>str</td><td>str</td><td>str</td><td>str</td><td>i64</td><td>str</td><td>datetime[μs]</td><td>str</td><td>str</td><td>str</td><td>str</td><td>datetime[μs]</td><td>str</td><td>datetime[μs]</td><td>datetime[μs]</td><td>i64</td><td>str</td><td>str</td><td>str</td><td>str</td><td>str</td><td>str</td><td>i64</td><td>str</td><td>str</td><td>i8</td><td>i8</td><td>i8</td><td>i8</td><td>i8</td><td>i8</td><td>i64</td><td>i64</td><td>i64</td><td>i32</td></tr></thead><tbody><tr><td>&quot;251db963-6623-448e-8665-f542b8…</td><td>935023330069</td><td>591532</td><td>&quot;mumbai&quot;</td><td>2024-10-08 11:41:02.385</td><td>2024-10-08 11:41:04.857</td><td>&quot;india&quot;</td><td>&quot;windows&quot;</td><td>&quot;8bd8b6ab-370f-4b56-b38f-ad221c…</td><td>null</td><td>22216</td><td>&quot;{}&quot;</td><td>2024-10-08 11:41:02.385</td><td>&quot;session_start&quot;</td><td>&quot;english&quot;</td><td>&quot;amplitude-ts/2.7.2&quot;</td><td>&quot;chrome&quot;</td><td>2024-10-08 11:41:05.371</td><td>&quot;maharashtra&quot;</td><td>2024-10-08 11:41:04.857</td><td>2024-10-08 11:41:04.859</td><td>1728387662385</td><td>&quot;8038ea38-8ddf-4a1a-825d-8287c0…</td><td>&quot;{&#x27;roles&#x27;: [&#x27;underwriter&#x27;], &#x27;tr…</td><td>&quot;underwriter&quot;</td><td>&quot;false&quot;</td><td>&quot;https://accounts.google.com/&quot;</td><td>null</td><td>0</td><td>&quot;international&quot;</td><td>&quot;session &amp; navigation&quot;</td><td>11</td><td>11</td><td>11</td><td>11</td><td>11</td><td>11</td><td>2</td><td>0</td><td>0</td><td>1</td></tr><tr><td>&quot;3a95cdac-174c-4002-8e84-8aeba8…</td><td>935023330069</td><td>591532</td><td>&quot;mumbai&quot;</td><td>2024-10-08 11:41:02.386</td><td>2024-10-08 11:41:04.857</td><td>&quot;india&quot;</td><td>&quot;windows&quot;</td><td>&quot;8bd8b6ab-370f-4b56-b38f-ad221c…</td><td>null</td><td>22215</td><td>&quot;{}&quot;</td><td>2024-10-08 11:41:02.386</td><td>&quot;session_end&quot;</td><td>&quot;english&quot;</td><td>&quot;amplitude-ts/2.7.2&quot;</td><td>&quot;chrome&quot;</td><td>2024-10-08 11:41:05.371</td><td>&quot;maharashtra&quot;</td><td>2024-10-08 11:41:04.857</td><td>2024-10-08 11:41:04.859</td><td>1728387662385</td><td>&quot;8038ea38-8ddf-4a1a-825d-8287c0…</td><td>&quot;{&#x27;roles&#x27;: [&#x27;underwriter&#x27;], &#x27;tr…</td><td>&quot;underwriter&quot;</td><td>&quot;false&quot;</td><td>&quot;https://accounts.google.com/&quot;</td><td>null</td><td>0</td><td>&quot;international&quot;</td><td>&quot;session &amp; navigation&quot;</td><td>11</td><td>11</td><td>11</td><td>11</td><td>11</td><td>11</td><td>2</td><td>0</td><td>0</td><td>1</td></tr><tr><td>&quot;50dbfad3-8e24-456a-ae68-21b09b…</td><td>935023330069</td><td>591532</td><td>&quot;mumbai&quot;</td><td>2024-10-08 11:41:02.386</td><td>2024-10-08 11:41:04.857</td><td>&quot;india&quot;</td><td>&quot;windows&quot;</td><td>&quot;8bd8b6ab-370f-4b56-b38f-ad221c…</td><td>null</td><td>22216</td><td>&quot;{&#x27;[amplitude] session replay i…</td><td>2024-10-08 11:41:02.386</td><td>&quot;session_start&quot;</td><td>&quot;english&quot;</td><td>&quot;amplitude-ts/2.7.2&quot;</td><td>&quot;chrome&quot;</td><td>2024-10-08 11:41:05.371</td><td>&quot;maharashtra&quot;</td><td>2024-10-08 11:41:04.857</td><td>2024-10-08 11:41:04.859</td><td>1728387662386</td><td>&quot;8038ea38-8ddf-4a1a-825d-8287c0…</td><td>&quot;{&#x27;roles&#x27;: [&#x27;underwriter&#x27;], &#x27;tr…</td><td>&quot;underwriter&quot;</td><td>&quot;false&quot;</td><td>&quot;https://accounts.google.com/&quot;</td><td>null</td><td>2455</td><td>&quot;international&quot;</td><td>&quot;session &amp; navigation&quot;</td><td>11</td><td>11</td><td>11</td><td>11</td><td>11</td><td>11</td><td>2</td><td>0</td><td>0</td><td>1</td></tr><tr><td>&quot;ea0a4143-2380-48e7-a83e-8ba854…</td><td>935023330069</td><td>591532</td><td>&quot;mumbai&quot;</td><td>2024-10-08 11:41:03.500</td><td>2024-10-08 11:41:04.857</td><td>&quot;india&quot;</td><td>&quot;windows&quot;</td><td>&quot;8bd8b6ab-370f-4b56-b38f-ad221c…</td><td>null</td><td>22217</td><td>&quot;{&#x27;rowmodel&#x27;: &#x27;server&#x27;, &#x27;[ampli…</td><td>2024-10-08 11:41:03.500</td><td>&quot;:all-accounts:configurable-tab…</td><td>&quot;english&quot;</td><td>&quot;amplitude-ts/2.7.2&quot;</td><td>&quot;chrome&quot;</td><td>2024-10-08 11:41:05.371</td><td>&quot;maharashtra&quot;</td><td>2024-10-08 11:41:04.857</td><td>2024-10-08 11:41:04.859</td><td>1728387662386</td><td>&quot;8038ea38-8ddf-4a1a-825d-8287c0…</td><td>&quot;{&#x27;roles&#x27;: [&#x27;underwriter&#x27;], &#x27;tr…</td><td>&quot;underwriter&quot;</td><td>&quot;false&quot;</td><td>&quot;https://accounts.google.com/&quot;</td><td>null</td><td>2455</td><td>&quot;international&quot;</td><td>&quot;account &amp; policy management&quot;</td><td>11</td><td>11</td><td>11</td><td>11</td><td>11</td><td>11</td><td>1</td><td>0</td><td>0</td><td>1</td></tr><tr><td>&quot;4d89977d-4734-450c-afa1-07e326…</td><td>935023330069</td><td>591532</td><td>&quot;mumbai&quot;</td><td>2024-10-08 11:41:03.527</td><td>2024-10-08 11:41:04.857</td><td>&quot;india&quot;</td><td>&quot;windows&quot;</td><td>&quot;8bd8b6ab-370f-4b56-b38f-ad221c…</td><td>null</td><td>22217</td><td>&quot;{&#x27;displayname&#x27;: &#x27;all policies …</td><td>2024-10-08 11:41:03.527</td><td>&quot;:all-accounts:widget:render&quot;</td><td>&quot;english&quot;</td><td>&quot;amplitude-ts/2.7.2&quot;</td><td>&quot;chrome&quot;</td><td>2024-10-08 11:41:05.371</td><td>&quot;maharashtra&quot;</td><td>2024-10-08 11:41:04.857</td><td>2024-10-08 11:41:04.859</td><td>1728387662386</td><td>&quot;8038ea38-8ddf-4a1a-825d-8287c0…</td><td>&quot;{&#x27;roles&#x27;: [&#x27;underwriter&#x27;], &#x27;tr…</td><td>&quot;underwriter&quot;</td><td>&quot;false&quot;</td><td>&quot;https://accounts.google.com/&quot;</td><td>null</td><td>2455</td><td>&quot;international&quot;</td><td>&quot;account &amp; policy management&quot;</td><td>11</td><td>11</td><td>11</td><td>11</td><td>11</td><td>11</td><td>1</td><td>0</td><td>0</td><td>1</td></tr><tr><td>&hellip;</td><td>&hellip;</td><td>&hellip;</td><td>&hellip;</td><td>&hellip;</td><td>&hellip;</td><td>&hellip;</td><td>&hellip;</td><td>&hellip;</td><td>&hellip;</td><td>&hellip;</td><td>&hellip;</td><td>&hellip;</td><td>&hellip;</td><td>&hellip;</td><td>&hellip;</td><td>&hellip;</td><td>&hellip;</td><td>&hellip;</td><td>&hellip;</td><td>&hellip;</td><td>&hellip;</td><td>&hellip;</td><td>&hellip;</td><td>&hellip;</td><td>&hellip;</td><td>&hellip;</td><td>&hellip;</td><td>&hellip;</td><td>&hellip;</td><td>&hellip;</td><td>&hellip;</td><td>&hellip;</td><td>&hellip;</td><td>&hellip;</td><td>&hellip;</td><td>&hellip;</td><td>&hellip;</td><td>&hellip;</td><td>&hellip;</td><td>&hellip;</td></tr><tr><td>&quot;102ec3ca-a467-41a9-aa19-94f5b0…</td><td>857540480084</td><td>591532</td><td>&quot;nashville&quot;</td><td>2024-05-22 09:36:09.888</td><td>2024-05-22 09:36:10.832</td><td>&quot;united states&quot;</td><td>&quot;windows&quot;</td><td>&quot;a8b357fb-b4fb-45d2-babd-42b470…</td><td>&quot;nashville, tn&quot;</td><td>26</td><td>&quot;{&#x27;displayname&#x27;: &#x27;one drive lin…</td><td>2024-05-22 09:36:09.888</td><td>&quot;account-lines::widget:render&quot;</td><td>&quot;english&quot;</td><td>&quot;amplitude-ts/1.8.0&quot;</td><td>&quot;edge&quot;</td><td>2024-05-22 09:36:11.662</td><td>&quot;tennessee&quot;</td><td>2024-05-22 09:36:10.832</td><td>2024-05-22 09:36:10.833</td><td>1716368557821</td><td>&quot;9aecc15d-64a4-4190-80f5-b5b842…</td><td>&quot;{&#x27;initial_utm_medium&#x27;: &#x27;empty&#x27;…</td><td>&quot;underwriter&quot;</td><td>&quot;false&quot;</td><td>null</td><td>&quot;one-drive-link&quot;</td><td>2371</td><td>&quot;south&quot;</td><td>&quot;account &amp; policy management&quot;</td><td>9</td><td>9</td><td>9</td><td>9</td><td>9</td><td>9</td><td>0</td><td>0</td><td>0</td><td>1</td></tr><tr><td>&quot;55aec1ce-b876-4f66-b786-fd5706…</td><td>857540480084</td><td>591532</td><td>&quot;nashville&quot;</td><td>2024-05-22 09:36:09.917</td><td>2024-05-22 09:36:10.832</td><td>&quot;united states&quot;</td><td>&quot;windows&quot;</td><td>&quot;a8b357fb-b4fb-45d2-babd-42b470…</td><td>&quot;nashville, tn&quot;</td><td>27</td><td>&quot;{&#x27;rowmodel&#x27;: &#x27;legacyserver&#x27;, &#x27;…</td><td>2024-05-22 09:36:09.917</td><td>&quot;account-lines::configurable-ta…</td><td>&quot;english&quot;</td><td>&quot;amplitude-ts/1.8.0&quot;</td><td>&quot;edge&quot;</td><td>2024-05-22 09:36:11.662</td><td>&quot;tennessee&quot;</td><td>2024-05-22 09:36:10.832</td><td>2024-05-22 09:36:10.833</td><td>1716368557821</td><td>&quot;9aecc15d-64a4-4190-80f5-b5b842…</td><td>&quot;{&#x27;initial_utm_medium&#x27;: &#x27;empty&#x27;…</td><td>&quot;underwriter&quot;</td><td>&quot;false&quot;</td><td>null</td><td>&quot;property-locations&quot;</td><td>2371</td><td>&quot;south&quot;</td><td>&quot;account &amp; policy management&quot;</td><td>9</td><td>9</td><td>9</td><td>9</td><td>9</td><td>9</td><td>0</td><td>0</td><td>0</td><td>1</td></tr><tr><td>&quot;8cb28e22-0dc3-456c-9956-41d52b…</td><td>857540480084</td><td>591532</td><td>&quot;nashville&quot;</td><td>2024-05-22 09:36:15.727</td><td>2024-05-22 09:36:16.789</td><td>&quot;united states&quot;</td><td>&quot;windows&quot;</td><td>&quot;a8b357fb-b4fb-45d2-babd-42b470…</td><td>&quot;nashville, tn&quot;</td><td>28</td><td>&quot;{&#x27;displayname&#x27;: &#x27;attachments&#x27;,…</td><td>2024-05-22 09:36:15.727</td><td>&quot;account-lines::widget:render&quot;</td><td>&quot;english&quot;</td><td>&quot;amplitude-ts/1.8.0&quot;</td><td>&quot;edge&quot;</td><td>2024-05-22 09:36:17.297</td><td>&quot;tennessee&quot;</td><td>2024-05-22 09:36:16.789</td><td>2024-05-22 09:36:16.791</td><td>1716368557821</td><td>&quot;9aecc15d-64a4-4190-80f5-b5b842…</td><td>&quot;{&#x27;initial_utm_medium&#x27;: &#x27;empty&#x27;…</td><td>&quot;underwriter&quot;</td><td>&quot;false&quot;</td><td>null</td><td>&quot;attachments&quot;</td><td>2371</td><td>&quot;south&quot;</td><td>&quot;account &amp; policy management&quot;</td><td>9</td><td>9</td><td>9</td><td>9</td><td>9</td><td>9</td><td>1</td><td>0</td><td>0</td><td>1</td></tr><tr><td>&quot;eac4d6a2-2ff0-4e59-80af-aa1b3f…</td><td>857540480084</td><td>591532</td><td>&quot;nashville&quot;</td><td>2024-05-22 09:36:33.812</td><td>2024-05-22 09:36:34.881</td><td>&quot;united states&quot;</td><td>&quot;windows&quot;</td><td>&quot;a8b357fb-b4fb-45d2-babd-42b470…</td><td>&quot;nashville, tn&quot;</td><td>29</td><td>&quot;{}&quot;</td><td>2024-05-22 09:36:33.812</td><td>&quot;::nav-header:action-center-cli…</td><td>&quot;english&quot;</td><td>&quot;amplitude-ts/1.8.0&quot;</td><td>&quot;edge&quot;</td><td>2024-05-22 09:36:36.435</td><td>&quot;tennessee&quot;</td><td>2024-05-22 09:36:34.881</td><td>2024-05-22 09:36:34.883</td><td>1716368557821</td><td>&quot;9aecc15d-64a4-4190-80f5-b5b842…</td><td>&quot;{&#x27;initial_utm_medium&#x27;: &#x27;empty&#x27;…</td><td>&quot;underwriter&quot;</td><td>&quot;false&quot;</td><td>null</td><td>null</td><td>2371</td><td>&quot;south&quot;</td><td>&quot;session &amp; navigation&quot;</td><td>9</td><td>9</td><td>9</td><td>9</td><td>9</td><td>9</td><td>1</td><td>0</td><td>1</td><td>1</td></tr><tr><td>&quot;bf44b3b7-2b4d-4e20-a18c-65fb63…</td><td>857540480084</td><td>591532</td><td>&quot;nashville&quot;</td><td>2024-05-22 09:36:33.815</td><td>2024-05-22 09:36:34.881</td><td>&quot;united states&quot;</td><td>&quot;windows&quot;</td><td>&quot;a8b357fb-b4fb-45d2-babd-42b470…</td><td>&quot;nashville, tn&quot;</td><td>30</td><td>&quot;{}&quot;</td><td>2024-05-22 09:36:33.815</td><td>&quot;action-center:::view&quot;</td><td>&quot;english&quot;</td><td>&quot;amplitude-ts/1.8.0&quot;</td><td>&quot;edge&quot;</td><td>2024-05-22 09:36:36.435</td><td>&quot;tennessee&quot;</td><td>2024-05-22 09:36:34.881</td><td>2024-05-22 09:36:34.883</td><td>1716368557821</td><td>&quot;9aecc15d-64a4-4190-80f5-b5b842…</td><td>&quot;{&#x27;initial_utm_medium&#x27;: &#x27;empty&#x27;…</td><td>&quot;underwriter&quot;</td><td>&quot;false&quot;</td><td>null</td><td>null</td><td>2371</td><td>&quot;south&quot;</td><td>&quot;action center &amp; workflow&quot;</td><td>9</td><td>9</td><td>9</td><td>9</td><td>9</td><td>9</td><td>1</td><td>0</td><td>1</td><td>1</td></tr></tbody></table></div>"
      ],
      "text/plain": [
       "shape: (14_239_968, 41)\n",
       "┌────────────┬────────────┬────────┬───────────┬───┬───────────┬───────────┬───────────┬───────────┐\n",
       "│ $insert_id ┆ amplitude_ ┆ app    ┆ city      ┆ … ┆ time_to_s ┆ server_to ┆ processin ┆ returned_ │\n",
       "│ ---        ┆ id         ┆ ---    ┆ ---       ┆   ┆ erver     ┆ _process  ┆ g_time    ┆ within_7_ │\n",
       "│ str        ┆ ---        ┆ i64    ┆ str       ┆   ┆ ---       ┆ ---       ┆ ---       ┆ days      │\n",
       "│            ┆ i64        ┆        ┆           ┆   ┆ i64       ┆ i64       ┆ i64       ┆ ---       │\n",
       "│            ┆            ┆        ┆           ┆   ┆           ┆           ┆           ┆ i32       │\n",
       "╞════════════╪════════════╪════════╪═══════════╪═══╪═══════════╪═══════════╪═══════════╪═══════════╡\n",
       "│ 251db963-6 ┆ 9350233300 ┆ 591532 ┆ mumbai    ┆ … ┆ 2         ┆ 0         ┆ 0         ┆ 1         │\n",
       "│ 623-448e-8 ┆ 69         ┆        ┆           ┆   ┆           ┆           ┆           ┆           │\n",
       "│ 665-f542b8 ┆            ┆        ┆           ┆   ┆           ┆           ┆           ┆           │\n",
       "│ …          ┆            ┆        ┆           ┆   ┆           ┆           ┆           ┆           │\n",
       "│ 3a95cdac-1 ┆ 9350233300 ┆ 591532 ┆ mumbai    ┆ … ┆ 2         ┆ 0         ┆ 0         ┆ 1         │\n",
       "│ 74c-4002-8 ┆ 69         ┆        ┆           ┆   ┆           ┆           ┆           ┆           │\n",
       "│ e84-8aeba8 ┆            ┆        ┆           ┆   ┆           ┆           ┆           ┆           │\n",
       "│ …          ┆            ┆        ┆           ┆   ┆           ┆           ┆           ┆           │\n",
       "│ 50dbfad3-8 ┆ 9350233300 ┆ 591532 ┆ mumbai    ┆ … ┆ 2         ┆ 0         ┆ 0         ┆ 1         │\n",
       "│ e24-456a-a ┆ 69         ┆        ┆           ┆   ┆           ┆           ┆           ┆           │\n",
       "│ e68-21b09b ┆            ┆        ┆           ┆   ┆           ┆           ┆           ┆           │\n",
       "│ …          ┆            ┆        ┆           ┆   ┆           ┆           ┆           ┆           │\n",
       "│ ea0a4143-2 ┆ 9350233300 ┆ 591532 ┆ mumbai    ┆ … ┆ 1         ┆ 0         ┆ 0         ┆ 1         │\n",
       "│ 380-48e7-a ┆ 69         ┆        ┆           ┆   ┆           ┆           ┆           ┆           │\n",
       "│ 83e-8ba854 ┆            ┆        ┆           ┆   ┆           ┆           ┆           ┆           │\n",
       "│ …          ┆            ┆        ┆           ┆   ┆           ┆           ┆           ┆           │\n",
       "│ 4d89977d-4 ┆ 9350233300 ┆ 591532 ┆ mumbai    ┆ … ┆ 1         ┆ 0         ┆ 0         ┆ 1         │\n",
       "│ 734-450c-a ┆ 69         ┆        ┆           ┆   ┆           ┆           ┆           ┆           │\n",
       "│ fa1-07e326 ┆            ┆        ┆           ┆   ┆           ┆           ┆           ┆           │\n",
       "│ …          ┆            ┆        ┆           ┆   ┆           ┆           ┆           ┆           │\n",
       "│ …          ┆ …          ┆ …      ┆ …         ┆ … ┆ …         ┆ …         ┆ …         ┆ …         │\n",
       "│ 102ec3ca-a ┆ 8575404800 ┆ 591532 ┆ nashville ┆ … ┆ 0         ┆ 0         ┆ 0         ┆ 1         │\n",
       "│ 467-41a9-a ┆ 84         ┆        ┆           ┆   ┆           ┆           ┆           ┆           │\n",
       "│ a19-94f5b0 ┆            ┆        ┆           ┆   ┆           ┆           ┆           ┆           │\n",
       "│ …          ┆            ┆        ┆           ┆   ┆           ┆           ┆           ┆           │\n",
       "│ 55aec1ce-b ┆ 8575404800 ┆ 591532 ┆ nashville ┆ … ┆ 0         ┆ 0         ┆ 0         ┆ 1         │\n",
       "│ 876-4f66-b ┆ 84         ┆        ┆           ┆   ┆           ┆           ┆           ┆           │\n",
       "│ 786-fd5706 ┆            ┆        ┆           ┆   ┆           ┆           ┆           ┆           │\n",
       "│ …          ┆            ┆        ┆           ┆   ┆           ┆           ┆           ┆           │\n",
       "│ 8cb28e22-0 ┆ 8575404800 ┆ 591532 ┆ nashville ┆ … ┆ 1         ┆ 0         ┆ 0         ┆ 1         │\n",
       "│ dc3-456c-9 ┆ 84         ┆        ┆           ┆   ┆           ┆           ┆           ┆           │\n",
       "│ 956-41d52b ┆            ┆        ┆           ┆   ┆           ┆           ┆           ┆           │\n",
       "│ …          ┆            ┆        ┆           ┆   ┆           ┆           ┆           ┆           │\n",
       "│ eac4d6a2-2 ┆ 8575404800 ┆ 591532 ┆ nashville ┆ … ┆ 1         ┆ 0         ┆ 1         ┆ 1         │\n",
       "│ ff0-4e59-8 ┆ 84         ┆        ┆           ┆   ┆           ┆           ┆           ┆           │\n",
       "│ 0af-aa1b3f ┆            ┆        ┆           ┆   ┆           ┆           ┆           ┆           │\n",
       "│ …          ┆            ┆        ┆           ┆   ┆           ┆           ┆           ┆           │\n",
       "│ bf44b3b7-2 ┆ 8575404800 ┆ 591532 ┆ nashville ┆ … ┆ 1         ┆ 0         ┆ 1         ┆ 1         │\n",
       "│ b4d-4e20-a ┆ 84         ┆        ┆           ┆   ┆           ┆           ┆           ┆           │\n",
       "│ 18c-65fb63 ┆            ┆        ┆           ┆   ┆           ┆           ┆           ┆           │\n",
       "│ …          ┆            ┆        ┆           ┆   ┆           ┆           ┆           ┆           │\n",
       "└────────────┴────────────┴────────┴───────────┴───┴───────────┴───────────┴───────────┴───────────┘"
      ]
     },
     "execution_count": 17,
     "metadata": {},
     "output_type": "execute_result"
    }
   ],
   "source": [
    "\n",
    "# Get session start and end date of a session k\n",
    "session_visit_checkpoints = (df.group_by('user_id', 'session_id')\n",
    "                                .agg(pl.min('event_time').alias('session_start_date'),\n",
    "                                    pl.max('event_time').alias('session_end_date')))\n",
    "\n",
    "# Rank user's sessions by start date\n",
    "session_visit_checkpoints = (session_visit_checkpoints.with_columns(pl.col('session_start_date')\n",
    "                                                    .rank(method = 'ordinal')\n",
    "                                                    .over('user_id')\n",
    "                                                    .alias('session_rank')))\n",
    "\n",
    "# Find wait time between sessions by taking the difference\n",
    "# of the end date of session k and start date of session k + 1\n",
    "\n",
    "session_visit_checkpoints = (session_visit_checkpoints.with_columns(\n",
    "                                (pl.col('session_rank') - 1).alias('prev_session_rank')))\n",
    "\n",
    "session_visit_checkpoints = (session_visit_checkpoints.join(\n",
    "                             session_visit_checkpoints.select('user_id', 'prev_session_rank', 'session_start_date'), \n",
    "                             left_on = ['user_id', 'session_rank'], \n",
    "                             right_on = ['user_id', 'prev_session_rank'],\n",
    "                             how = 'left'))\n",
    "\n",
    "\n",
    "# Calculate wait time between sessions\n",
    "# Then create an indicator of whether this wait time is under 7 days\n",
    "session_visit_checkpoints = (session_visit_checkpoints\n",
    "                             .with_columns((pl.col('session_start_date_right') \n",
    "                                            - pl.col('session_end_date'))\n",
    "                                            .alias('wait_time_between_sessions').dt.total_days()))\n",
    "\n",
    "session_visit_checkpoints = session_visit_checkpoints.with_columns(\n",
    "                                pl.col('wait_time_between_sessions')\n",
    "                                  .fill_null(float('inf'))\n",
    "                                  .le(7)\n",
    "                                  .cast(pl.Int32)\n",
    "                                  .alias('returned_within_7_days'))\n",
    "\n",
    "# Drop columns that are irrelevant\n",
    "session_visit_checkpoints = session_visit_checkpoints.drop(['user_id', 'session_end_date', 'session_start_date', 'session_start_date_right',\n",
    "                                                            'wait_time_between_sessions', 'session_rank', 'prev_session_rank'])\n",
    "\n",
    "# Merge indicator with df\n",
    "df = df.join(session_visit_checkpoints, on = 'session_id', how = 'left')\n",
    "df"
   ]
  },
  {
   "cell_type": "markdown",
   "metadata": {},
   "source": [
    "### Extract List-valued Columns\n",
    "\n",
    "Next, we will extract values from list-valued columns, which can contain multiple values.\n",
    "\n",
    "We will perform an encoding where each new indicator column would be a value from the list, and the value would represent whether the value is in that list.\n",
    "\n",
    "Note that we will choose values from the list that are relevant to our modelling later on.\n",
    "\n",
    "Some of the list-valued columns that we will process are `roles` and `referrer_user`"
   ]
  },
  {
   "cell_type": "code",
   "execution_count": 20,
   "metadata": {},
   "outputs": [
    {
     "data": {
      "text/html": [
       "<div><style>\n",
       ".dataframe > thead > tr,\n",
       ".dataframe > tbody > tr {\n",
       "  text-align: right;\n",
       "  white-space: pre-wrap;\n",
       "}\n",
       "</style>\n",
       "<small>shape: (14_239_968, 48)</small><table border=\"1\" class=\"dataframe\"><thead><tr><th>$insert_id</th><th>amplitude_id</th><th>app</th><th>city</th><th>client_event_time</th><th>client_upload_time</th><th>country</th><th>device_family</th><th>device_id</th><th>dma</th><th>event_id</th><th>event_properties</th><th>event_time</th><th>event_type</th><th>language</th><th>library</th><th>os_name</th><th>processed_time</th><th>region</th><th>server_received_time</th><th>server_upload_time</th><th>session_id</th><th>user_id</th><th>user_properties</th><th>roles</th><th>isInternalUser</th><th>referrer</th><th>slug</th><th>session_seconds</th><th>region_grouped</th><th>event_category</th><th>client_event_hour</th><th>client_upload_hour</th><th>event_hour</th><th>processed_hour</th><th>server_received_hour</th><th>server_upload_hour</th><th>time_to_server</th><th>server_to_process</th><th>processing_time</th><th>returned_within_7_days</th><th>uw</th><th>admin</th><th>manager</th><th>broker</th><th>google</th><th>federato</th><th>uw-portal</th></tr><tr><td>str</td><td>i64</td><td>i64</td><td>str</td><td>datetime[μs]</td><td>datetime[μs]</td><td>str</td><td>str</td><td>str</td><td>str</td><td>i64</td><td>str</td><td>datetime[μs]</td><td>str</td><td>str</td><td>str</td><td>str</td><td>datetime[μs]</td><td>str</td><td>datetime[μs]</td><td>datetime[μs]</td><td>i64</td><td>str</td><td>str</td><td>str</td><td>str</td><td>str</td><td>str</td><td>i64</td><td>str</td><td>str</td><td>i8</td><td>i8</td><td>i8</td><td>i8</td><td>i8</td><td>i8</td><td>i64</td><td>i64</td><td>i64</td><td>i32</td><td>i8</td><td>i8</td><td>i8</td><td>i8</td><td>i32</td><td>i32</td><td>i32</td></tr></thead><tbody><tr><td>&quot;251db963-6623-448e-8665-f542b8…</td><td>935023330069</td><td>591532</td><td>&quot;mumbai&quot;</td><td>2024-10-08 11:41:02.385</td><td>2024-10-08 11:41:04.857</td><td>&quot;india&quot;</td><td>&quot;windows&quot;</td><td>&quot;8bd8b6ab-370f-4b56-b38f-ad221c…</td><td>null</td><td>22216</td><td>&quot;{}&quot;</td><td>2024-10-08 11:41:02.385</td><td>&quot;session_start&quot;</td><td>&quot;english&quot;</td><td>&quot;amplitude-ts/2.7.2&quot;</td><td>&quot;chrome&quot;</td><td>2024-10-08 11:41:05.371</td><td>&quot;maharashtra&quot;</td><td>2024-10-08 11:41:04.857</td><td>2024-10-08 11:41:04.859</td><td>1728387662385</td><td>&quot;8038ea38-8ddf-4a1a-825d-8287c0…</td><td>&quot;{&#x27;roles&#x27;: [&#x27;underwriter&#x27;], &#x27;tr…</td><td>&quot;underwriter&quot;</td><td>&quot;false&quot;</td><td>&quot;https://accounts.google.com/&quot;</td><td>null</td><td>0</td><td>&quot;international&quot;</td><td>&quot;session &amp; navigation&quot;</td><td>11</td><td>11</td><td>11</td><td>11</td><td>11</td><td>11</td><td>2</td><td>0</td><td>0</td><td>1</td><td>1</td><td>0</td><td>0</td><td>0</td><td>1</td><td>0</td><td>0</td></tr><tr><td>&quot;3a95cdac-174c-4002-8e84-8aeba8…</td><td>935023330069</td><td>591532</td><td>&quot;mumbai&quot;</td><td>2024-10-08 11:41:02.386</td><td>2024-10-08 11:41:04.857</td><td>&quot;india&quot;</td><td>&quot;windows&quot;</td><td>&quot;8bd8b6ab-370f-4b56-b38f-ad221c…</td><td>null</td><td>22215</td><td>&quot;{}&quot;</td><td>2024-10-08 11:41:02.386</td><td>&quot;session_end&quot;</td><td>&quot;english&quot;</td><td>&quot;amplitude-ts/2.7.2&quot;</td><td>&quot;chrome&quot;</td><td>2024-10-08 11:41:05.371</td><td>&quot;maharashtra&quot;</td><td>2024-10-08 11:41:04.857</td><td>2024-10-08 11:41:04.859</td><td>1728387662385</td><td>&quot;8038ea38-8ddf-4a1a-825d-8287c0…</td><td>&quot;{&#x27;roles&#x27;: [&#x27;underwriter&#x27;], &#x27;tr…</td><td>&quot;underwriter&quot;</td><td>&quot;false&quot;</td><td>&quot;https://accounts.google.com/&quot;</td><td>null</td><td>0</td><td>&quot;international&quot;</td><td>&quot;session &amp; navigation&quot;</td><td>11</td><td>11</td><td>11</td><td>11</td><td>11</td><td>11</td><td>2</td><td>0</td><td>0</td><td>1</td><td>1</td><td>0</td><td>0</td><td>0</td><td>1</td><td>0</td><td>0</td></tr><tr><td>&quot;50dbfad3-8e24-456a-ae68-21b09b…</td><td>935023330069</td><td>591532</td><td>&quot;mumbai&quot;</td><td>2024-10-08 11:41:02.386</td><td>2024-10-08 11:41:04.857</td><td>&quot;india&quot;</td><td>&quot;windows&quot;</td><td>&quot;8bd8b6ab-370f-4b56-b38f-ad221c…</td><td>null</td><td>22216</td><td>&quot;{&#x27;[amplitude] session replay i…</td><td>2024-10-08 11:41:02.386</td><td>&quot;session_start&quot;</td><td>&quot;english&quot;</td><td>&quot;amplitude-ts/2.7.2&quot;</td><td>&quot;chrome&quot;</td><td>2024-10-08 11:41:05.371</td><td>&quot;maharashtra&quot;</td><td>2024-10-08 11:41:04.857</td><td>2024-10-08 11:41:04.859</td><td>1728387662386</td><td>&quot;8038ea38-8ddf-4a1a-825d-8287c0…</td><td>&quot;{&#x27;roles&#x27;: [&#x27;underwriter&#x27;], &#x27;tr…</td><td>&quot;underwriter&quot;</td><td>&quot;false&quot;</td><td>&quot;https://accounts.google.com/&quot;</td><td>null</td><td>2455</td><td>&quot;international&quot;</td><td>&quot;session &amp; navigation&quot;</td><td>11</td><td>11</td><td>11</td><td>11</td><td>11</td><td>11</td><td>2</td><td>0</td><td>0</td><td>1</td><td>1</td><td>0</td><td>0</td><td>0</td><td>1</td><td>0</td><td>0</td></tr><tr><td>&quot;ea0a4143-2380-48e7-a83e-8ba854…</td><td>935023330069</td><td>591532</td><td>&quot;mumbai&quot;</td><td>2024-10-08 11:41:03.500</td><td>2024-10-08 11:41:04.857</td><td>&quot;india&quot;</td><td>&quot;windows&quot;</td><td>&quot;8bd8b6ab-370f-4b56-b38f-ad221c…</td><td>null</td><td>22217</td><td>&quot;{&#x27;rowmodel&#x27;: &#x27;server&#x27;, &#x27;[ampli…</td><td>2024-10-08 11:41:03.500</td><td>&quot;:all-accounts:configurable-tab…</td><td>&quot;english&quot;</td><td>&quot;amplitude-ts/2.7.2&quot;</td><td>&quot;chrome&quot;</td><td>2024-10-08 11:41:05.371</td><td>&quot;maharashtra&quot;</td><td>2024-10-08 11:41:04.857</td><td>2024-10-08 11:41:04.859</td><td>1728387662386</td><td>&quot;8038ea38-8ddf-4a1a-825d-8287c0…</td><td>&quot;{&#x27;roles&#x27;: [&#x27;underwriter&#x27;], &#x27;tr…</td><td>&quot;underwriter&quot;</td><td>&quot;false&quot;</td><td>&quot;https://accounts.google.com/&quot;</td><td>null</td><td>2455</td><td>&quot;international&quot;</td><td>&quot;account &amp; policy management&quot;</td><td>11</td><td>11</td><td>11</td><td>11</td><td>11</td><td>11</td><td>1</td><td>0</td><td>0</td><td>1</td><td>1</td><td>0</td><td>0</td><td>0</td><td>1</td><td>0</td><td>0</td></tr><tr><td>&quot;4d89977d-4734-450c-afa1-07e326…</td><td>935023330069</td><td>591532</td><td>&quot;mumbai&quot;</td><td>2024-10-08 11:41:03.527</td><td>2024-10-08 11:41:04.857</td><td>&quot;india&quot;</td><td>&quot;windows&quot;</td><td>&quot;8bd8b6ab-370f-4b56-b38f-ad221c…</td><td>null</td><td>22217</td><td>&quot;{&#x27;displayname&#x27;: &#x27;all policies …</td><td>2024-10-08 11:41:03.527</td><td>&quot;:all-accounts:widget:render&quot;</td><td>&quot;english&quot;</td><td>&quot;amplitude-ts/2.7.2&quot;</td><td>&quot;chrome&quot;</td><td>2024-10-08 11:41:05.371</td><td>&quot;maharashtra&quot;</td><td>2024-10-08 11:41:04.857</td><td>2024-10-08 11:41:04.859</td><td>1728387662386</td><td>&quot;8038ea38-8ddf-4a1a-825d-8287c0…</td><td>&quot;{&#x27;roles&#x27;: [&#x27;underwriter&#x27;], &#x27;tr…</td><td>&quot;underwriter&quot;</td><td>&quot;false&quot;</td><td>&quot;https://accounts.google.com/&quot;</td><td>null</td><td>2455</td><td>&quot;international&quot;</td><td>&quot;account &amp; policy management&quot;</td><td>11</td><td>11</td><td>11</td><td>11</td><td>11</td><td>11</td><td>1</td><td>0</td><td>0</td><td>1</td><td>1</td><td>0</td><td>0</td><td>0</td><td>1</td><td>0</td><td>0</td></tr><tr><td>&hellip;</td><td>&hellip;</td><td>&hellip;</td><td>&hellip;</td><td>&hellip;</td><td>&hellip;</td><td>&hellip;</td><td>&hellip;</td><td>&hellip;</td><td>&hellip;</td><td>&hellip;</td><td>&hellip;</td><td>&hellip;</td><td>&hellip;</td><td>&hellip;</td><td>&hellip;</td><td>&hellip;</td><td>&hellip;</td><td>&hellip;</td><td>&hellip;</td><td>&hellip;</td><td>&hellip;</td><td>&hellip;</td><td>&hellip;</td><td>&hellip;</td><td>&hellip;</td><td>&hellip;</td><td>&hellip;</td><td>&hellip;</td><td>&hellip;</td><td>&hellip;</td><td>&hellip;</td><td>&hellip;</td><td>&hellip;</td><td>&hellip;</td><td>&hellip;</td><td>&hellip;</td><td>&hellip;</td><td>&hellip;</td><td>&hellip;</td><td>&hellip;</td><td>&hellip;</td><td>&hellip;</td><td>&hellip;</td><td>&hellip;</td><td>&hellip;</td><td>&hellip;</td><td>&hellip;</td></tr><tr><td>&quot;102ec3ca-a467-41a9-aa19-94f5b0…</td><td>857540480084</td><td>591532</td><td>&quot;nashville&quot;</td><td>2024-05-22 09:36:09.888</td><td>2024-05-22 09:36:10.832</td><td>&quot;united states&quot;</td><td>&quot;windows&quot;</td><td>&quot;a8b357fb-b4fb-45d2-babd-42b470…</td><td>&quot;nashville, tn&quot;</td><td>26</td><td>&quot;{&#x27;displayname&#x27;: &#x27;one drive lin…</td><td>2024-05-22 09:36:09.888</td><td>&quot;account-lines::widget:render&quot;</td><td>&quot;english&quot;</td><td>&quot;amplitude-ts/1.8.0&quot;</td><td>&quot;edge&quot;</td><td>2024-05-22 09:36:11.662</td><td>&quot;tennessee&quot;</td><td>2024-05-22 09:36:10.832</td><td>2024-05-22 09:36:10.833</td><td>1716368557821</td><td>&quot;9aecc15d-64a4-4190-80f5-b5b842…</td><td>&quot;{&#x27;initial_utm_medium&#x27;: &#x27;empty&#x27;…</td><td>&quot;underwriter&quot;</td><td>&quot;false&quot;</td><td>null</td><td>&quot;one-drive-link&quot;</td><td>2371</td><td>&quot;south&quot;</td><td>&quot;account &amp; policy management&quot;</td><td>9</td><td>9</td><td>9</td><td>9</td><td>9</td><td>9</td><td>0</td><td>0</td><td>0</td><td>1</td><td>1</td><td>0</td><td>0</td><td>0</td><td>null</td><td>null</td><td>null</td></tr><tr><td>&quot;55aec1ce-b876-4f66-b786-fd5706…</td><td>857540480084</td><td>591532</td><td>&quot;nashville&quot;</td><td>2024-05-22 09:36:09.917</td><td>2024-05-22 09:36:10.832</td><td>&quot;united states&quot;</td><td>&quot;windows&quot;</td><td>&quot;a8b357fb-b4fb-45d2-babd-42b470…</td><td>&quot;nashville, tn&quot;</td><td>27</td><td>&quot;{&#x27;rowmodel&#x27;: &#x27;legacyserver&#x27;, &#x27;…</td><td>2024-05-22 09:36:09.917</td><td>&quot;account-lines::configurable-ta…</td><td>&quot;english&quot;</td><td>&quot;amplitude-ts/1.8.0&quot;</td><td>&quot;edge&quot;</td><td>2024-05-22 09:36:11.662</td><td>&quot;tennessee&quot;</td><td>2024-05-22 09:36:10.832</td><td>2024-05-22 09:36:10.833</td><td>1716368557821</td><td>&quot;9aecc15d-64a4-4190-80f5-b5b842…</td><td>&quot;{&#x27;initial_utm_medium&#x27;: &#x27;empty&#x27;…</td><td>&quot;underwriter&quot;</td><td>&quot;false&quot;</td><td>null</td><td>&quot;property-locations&quot;</td><td>2371</td><td>&quot;south&quot;</td><td>&quot;account &amp; policy management&quot;</td><td>9</td><td>9</td><td>9</td><td>9</td><td>9</td><td>9</td><td>0</td><td>0</td><td>0</td><td>1</td><td>1</td><td>0</td><td>0</td><td>0</td><td>null</td><td>null</td><td>null</td></tr><tr><td>&quot;8cb28e22-0dc3-456c-9956-41d52b…</td><td>857540480084</td><td>591532</td><td>&quot;nashville&quot;</td><td>2024-05-22 09:36:15.727</td><td>2024-05-22 09:36:16.789</td><td>&quot;united states&quot;</td><td>&quot;windows&quot;</td><td>&quot;a8b357fb-b4fb-45d2-babd-42b470…</td><td>&quot;nashville, tn&quot;</td><td>28</td><td>&quot;{&#x27;displayname&#x27;: &#x27;attachments&#x27;,…</td><td>2024-05-22 09:36:15.727</td><td>&quot;account-lines::widget:render&quot;</td><td>&quot;english&quot;</td><td>&quot;amplitude-ts/1.8.0&quot;</td><td>&quot;edge&quot;</td><td>2024-05-22 09:36:17.297</td><td>&quot;tennessee&quot;</td><td>2024-05-22 09:36:16.789</td><td>2024-05-22 09:36:16.791</td><td>1716368557821</td><td>&quot;9aecc15d-64a4-4190-80f5-b5b842…</td><td>&quot;{&#x27;initial_utm_medium&#x27;: &#x27;empty&#x27;…</td><td>&quot;underwriter&quot;</td><td>&quot;false&quot;</td><td>null</td><td>&quot;attachments&quot;</td><td>2371</td><td>&quot;south&quot;</td><td>&quot;account &amp; policy management&quot;</td><td>9</td><td>9</td><td>9</td><td>9</td><td>9</td><td>9</td><td>1</td><td>0</td><td>0</td><td>1</td><td>1</td><td>0</td><td>0</td><td>0</td><td>null</td><td>null</td><td>null</td></tr><tr><td>&quot;eac4d6a2-2ff0-4e59-80af-aa1b3f…</td><td>857540480084</td><td>591532</td><td>&quot;nashville&quot;</td><td>2024-05-22 09:36:33.812</td><td>2024-05-22 09:36:34.881</td><td>&quot;united states&quot;</td><td>&quot;windows&quot;</td><td>&quot;a8b357fb-b4fb-45d2-babd-42b470…</td><td>&quot;nashville, tn&quot;</td><td>29</td><td>&quot;{}&quot;</td><td>2024-05-22 09:36:33.812</td><td>&quot;::nav-header:action-center-cli…</td><td>&quot;english&quot;</td><td>&quot;amplitude-ts/1.8.0&quot;</td><td>&quot;edge&quot;</td><td>2024-05-22 09:36:36.435</td><td>&quot;tennessee&quot;</td><td>2024-05-22 09:36:34.881</td><td>2024-05-22 09:36:34.883</td><td>1716368557821</td><td>&quot;9aecc15d-64a4-4190-80f5-b5b842…</td><td>&quot;{&#x27;initial_utm_medium&#x27;: &#x27;empty&#x27;…</td><td>&quot;underwriter&quot;</td><td>&quot;false&quot;</td><td>null</td><td>null</td><td>2371</td><td>&quot;south&quot;</td><td>&quot;session &amp; navigation&quot;</td><td>9</td><td>9</td><td>9</td><td>9</td><td>9</td><td>9</td><td>1</td><td>0</td><td>1</td><td>1</td><td>1</td><td>0</td><td>0</td><td>0</td><td>null</td><td>null</td><td>null</td></tr><tr><td>&quot;bf44b3b7-2b4d-4e20-a18c-65fb63…</td><td>857540480084</td><td>591532</td><td>&quot;nashville&quot;</td><td>2024-05-22 09:36:33.815</td><td>2024-05-22 09:36:34.881</td><td>&quot;united states&quot;</td><td>&quot;windows&quot;</td><td>&quot;a8b357fb-b4fb-45d2-babd-42b470…</td><td>&quot;nashville, tn&quot;</td><td>30</td><td>&quot;{}&quot;</td><td>2024-05-22 09:36:33.815</td><td>&quot;action-center:::view&quot;</td><td>&quot;english&quot;</td><td>&quot;amplitude-ts/1.8.0&quot;</td><td>&quot;edge&quot;</td><td>2024-05-22 09:36:36.435</td><td>&quot;tennessee&quot;</td><td>2024-05-22 09:36:34.881</td><td>2024-05-22 09:36:34.883</td><td>1716368557821</td><td>&quot;9aecc15d-64a4-4190-80f5-b5b842…</td><td>&quot;{&#x27;initial_utm_medium&#x27;: &#x27;empty&#x27;…</td><td>&quot;underwriter&quot;</td><td>&quot;false&quot;</td><td>null</td><td>null</td><td>2371</td><td>&quot;south&quot;</td><td>&quot;action center &amp; workflow&quot;</td><td>9</td><td>9</td><td>9</td><td>9</td><td>9</td><td>9</td><td>1</td><td>0</td><td>1</td><td>1</td><td>1</td><td>0</td><td>0</td><td>0</td><td>null</td><td>null</td><td>null</td></tr></tbody></table></div>"
      ],
      "text/plain": [
       "shape: (14_239_968, 48)\n",
       "┌─────────────────┬──────────────┬────────┬───────────┬───┬────────┬────────┬──────────┬───────────┐\n",
       "│ $insert_id      ┆ amplitude_id ┆ app    ┆ city      ┆ … ┆ broker ┆ google ┆ federato ┆ uw-portal │\n",
       "│ ---             ┆ ---          ┆ ---    ┆ ---       ┆   ┆ ---    ┆ ---    ┆ ---      ┆ ---       │\n",
       "│ str             ┆ i64          ┆ i64    ┆ str       ┆   ┆ i8     ┆ i32    ┆ i32      ┆ i32       │\n",
       "╞═════════════════╪══════════════╪════════╪═══════════╪═══╪════════╪════════╪══════════╪═══════════╡\n",
       "│ 251db963-6623-4 ┆ 935023330069 ┆ 591532 ┆ mumbai    ┆ … ┆ 0      ┆ 1      ┆ 0        ┆ 0         │\n",
       "│ 48e-8665-f542b8 ┆              ┆        ┆           ┆   ┆        ┆        ┆          ┆           │\n",
       "│ …               ┆              ┆        ┆           ┆   ┆        ┆        ┆          ┆           │\n",
       "│ 3a95cdac-174c-4 ┆ 935023330069 ┆ 591532 ┆ mumbai    ┆ … ┆ 0      ┆ 1      ┆ 0        ┆ 0         │\n",
       "│ 002-8e84-8aeba8 ┆              ┆        ┆           ┆   ┆        ┆        ┆          ┆           │\n",
       "│ …               ┆              ┆        ┆           ┆   ┆        ┆        ┆          ┆           │\n",
       "│ 50dbfad3-8e24-4 ┆ 935023330069 ┆ 591532 ┆ mumbai    ┆ … ┆ 0      ┆ 1      ┆ 0        ┆ 0         │\n",
       "│ 56a-ae68-21b09b ┆              ┆        ┆           ┆   ┆        ┆        ┆          ┆           │\n",
       "│ …               ┆              ┆        ┆           ┆   ┆        ┆        ┆          ┆           │\n",
       "│ ea0a4143-2380-4 ┆ 935023330069 ┆ 591532 ┆ mumbai    ┆ … ┆ 0      ┆ 1      ┆ 0        ┆ 0         │\n",
       "│ 8e7-a83e-8ba854 ┆              ┆        ┆           ┆   ┆        ┆        ┆          ┆           │\n",
       "│ …               ┆              ┆        ┆           ┆   ┆        ┆        ┆          ┆           │\n",
       "│ 4d89977d-4734-4 ┆ 935023330069 ┆ 591532 ┆ mumbai    ┆ … ┆ 0      ┆ 1      ┆ 0        ┆ 0         │\n",
       "│ 50c-afa1-07e326 ┆              ┆        ┆           ┆   ┆        ┆        ┆          ┆           │\n",
       "│ …               ┆              ┆        ┆           ┆   ┆        ┆        ┆          ┆           │\n",
       "│ …               ┆ …            ┆ …      ┆ …         ┆ … ┆ …      ┆ …      ┆ …        ┆ …         │\n",
       "│ 102ec3ca-a467-4 ┆ 857540480084 ┆ 591532 ┆ nashville ┆ … ┆ 0      ┆ null   ┆ null     ┆ null      │\n",
       "│ 1a9-aa19-94f5b0 ┆              ┆        ┆           ┆   ┆        ┆        ┆          ┆           │\n",
       "│ …               ┆              ┆        ┆           ┆   ┆        ┆        ┆          ┆           │\n",
       "│ 55aec1ce-b876-4 ┆ 857540480084 ┆ 591532 ┆ nashville ┆ … ┆ 0      ┆ null   ┆ null     ┆ null      │\n",
       "│ f66-b786-fd5706 ┆              ┆        ┆           ┆   ┆        ┆        ┆          ┆           │\n",
       "│ …               ┆              ┆        ┆           ┆   ┆        ┆        ┆          ┆           │\n",
       "│ 8cb28e22-0dc3-4 ┆ 857540480084 ┆ 591532 ┆ nashville ┆ … ┆ 0      ┆ null   ┆ null     ┆ null      │\n",
       "│ 56c-9956-41d52b ┆              ┆        ┆           ┆   ┆        ┆        ┆          ┆           │\n",
       "│ …               ┆              ┆        ┆           ┆   ┆        ┆        ┆          ┆           │\n",
       "│ eac4d6a2-2ff0-4 ┆ 857540480084 ┆ 591532 ┆ nashville ┆ … ┆ 0      ┆ null   ┆ null     ┆ null      │\n",
       "│ e59-80af-aa1b3f ┆              ┆        ┆           ┆   ┆        ┆        ┆          ┆           │\n",
       "│ …               ┆              ┆        ┆           ┆   ┆        ┆        ┆          ┆           │\n",
       "│ bf44b3b7-2b4d-4 ┆ 857540480084 ┆ 591532 ┆ nashville ┆ … ┆ 0      ┆ null   ┆ null     ┆ null      │\n",
       "│ e20-a18c-65fb63 ┆              ┆        ┆           ┆   ┆        ┆        ┆          ┆           │\n",
       "│ …               ┆              ┆        ┆           ┆   ┆        ┆        ┆          ┆           │\n",
       "└─────────────────┴──────────────┴────────┴───────────┴───┴────────┴────────┴──────────┴───────────┘"
      ]
     },
     "execution_count": 20,
     "metadata": {},
     "output_type": "execute_result"
    }
   ],
   "source": [
    "# Extract roles from roles, which can contain multiple roles\n",
    "df = df.with_columns([\n",
    "        pl.col('roles').str.contains('underwriter').alias('uw').cast(pl.Int8),\n",
    "        pl.col('roles').str.contains('admin').alias('admin').cast(pl.Int8),\n",
    "        pl.col('roles').str.contains('manager').alias('manager').cast(pl.Int8),\n",
    "        pl.col('roles').str.contains('broker').alias('broker').cast(pl.Int8),\n",
    "    ])\n",
    "df"
   ]
  },
  {
   "cell_type": "code",
   "execution_count": 21,
   "metadata": {},
   "outputs": [
    {
     "data": {
      "text/html": [
       "<div><style>\n",
       ".dataframe > thead > tr,\n",
       ".dataframe > tbody > tr {\n",
       "  text-align: right;\n",
       "  white-space: pre-wrap;\n",
       "}\n",
       "</style>\n",
       "<small>shape: (14_239_968, 49)</small><table border=\"1\" class=\"dataframe\"><thead><tr><th>$insert_id</th><th>amplitude_id</th><th>app</th><th>city</th><th>client_event_time</th><th>client_upload_time</th><th>country</th><th>device_family</th><th>device_id</th><th>dma</th><th>event_id</th><th>event_properties</th><th>event_time</th><th>event_type</th><th>language</th><th>library</th><th>os_name</th><th>processed_time</th><th>region</th><th>server_received_time</th><th>server_upload_time</th><th>session_id</th><th>user_id</th><th>user_properties</th><th>roles</th><th>isInternalUser</th><th>referrer</th><th>slug</th><th>session_seconds</th><th>region_grouped</th><th>event_category</th><th>client_event_hour</th><th>client_upload_hour</th><th>event_hour</th><th>processed_hour</th><th>server_received_hour</th><th>server_upload_hour</th><th>time_to_server</th><th>server_to_process</th><th>processing_time</th><th>returned_within_7_days</th><th>uw</th><th>admin</th><th>manager</th><th>broker</th><th>google</th><th>federato</th><th>uw-portal</th><th>microsoft</th></tr><tr><td>str</td><td>i64</td><td>i64</td><td>str</td><td>datetime[μs]</td><td>datetime[μs]</td><td>str</td><td>str</td><td>str</td><td>str</td><td>i64</td><td>str</td><td>datetime[μs]</td><td>str</td><td>str</td><td>str</td><td>str</td><td>datetime[μs]</td><td>str</td><td>datetime[μs]</td><td>datetime[μs]</td><td>i64</td><td>str</td><td>str</td><td>str</td><td>str</td><td>str</td><td>str</td><td>i64</td><td>str</td><td>str</td><td>i8</td><td>i8</td><td>i8</td><td>i8</td><td>i8</td><td>i8</td><td>i64</td><td>i64</td><td>i64</td><td>i32</td><td>i8</td><td>i8</td><td>i8</td><td>i8</td><td>i32</td><td>i32</td><td>i32</td><td>i32</td></tr></thead><tbody><tr><td>&quot;251db963-6623-448e-8665-f542b8…</td><td>935023330069</td><td>591532</td><td>&quot;mumbai&quot;</td><td>2024-10-08 11:41:02.385</td><td>2024-10-08 11:41:04.857</td><td>&quot;india&quot;</td><td>&quot;windows&quot;</td><td>&quot;8bd8b6ab-370f-4b56-b38f-ad221c…</td><td>null</td><td>22216</td><td>&quot;{}&quot;</td><td>2024-10-08 11:41:02.385</td><td>&quot;session_start&quot;</td><td>&quot;english&quot;</td><td>&quot;amplitude-ts/2.7.2&quot;</td><td>&quot;chrome&quot;</td><td>2024-10-08 11:41:05.371</td><td>&quot;maharashtra&quot;</td><td>2024-10-08 11:41:04.857</td><td>2024-10-08 11:41:04.859</td><td>1728387662385</td><td>&quot;8038ea38-8ddf-4a1a-825d-8287c0…</td><td>&quot;{&#x27;roles&#x27;: [&#x27;underwriter&#x27;], &#x27;tr…</td><td>&quot;underwriter&quot;</td><td>&quot;false&quot;</td><td>&quot;https://accounts.google.com/&quot;</td><td>null</td><td>0</td><td>&quot;international&quot;</td><td>&quot;session &amp; navigation&quot;</td><td>11</td><td>11</td><td>11</td><td>11</td><td>11</td><td>11</td><td>2</td><td>0</td><td>0</td><td>1</td><td>1</td><td>0</td><td>0</td><td>0</td><td>1</td><td>0</td><td>0</td><td>0</td></tr><tr><td>&quot;3a95cdac-174c-4002-8e84-8aeba8…</td><td>935023330069</td><td>591532</td><td>&quot;mumbai&quot;</td><td>2024-10-08 11:41:02.386</td><td>2024-10-08 11:41:04.857</td><td>&quot;india&quot;</td><td>&quot;windows&quot;</td><td>&quot;8bd8b6ab-370f-4b56-b38f-ad221c…</td><td>null</td><td>22215</td><td>&quot;{}&quot;</td><td>2024-10-08 11:41:02.386</td><td>&quot;session_end&quot;</td><td>&quot;english&quot;</td><td>&quot;amplitude-ts/2.7.2&quot;</td><td>&quot;chrome&quot;</td><td>2024-10-08 11:41:05.371</td><td>&quot;maharashtra&quot;</td><td>2024-10-08 11:41:04.857</td><td>2024-10-08 11:41:04.859</td><td>1728387662385</td><td>&quot;8038ea38-8ddf-4a1a-825d-8287c0…</td><td>&quot;{&#x27;roles&#x27;: [&#x27;underwriter&#x27;], &#x27;tr…</td><td>&quot;underwriter&quot;</td><td>&quot;false&quot;</td><td>&quot;https://accounts.google.com/&quot;</td><td>null</td><td>0</td><td>&quot;international&quot;</td><td>&quot;session &amp; navigation&quot;</td><td>11</td><td>11</td><td>11</td><td>11</td><td>11</td><td>11</td><td>2</td><td>0</td><td>0</td><td>1</td><td>1</td><td>0</td><td>0</td><td>0</td><td>1</td><td>0</td><td>0</td><td>0</td></tr><tr><td>&quot;50dbfad3-8e24-456a-ae68-21b09b…</td><td>935023330069</td><td>591532</td><td>&quot;mumbai&quot;</td><td>2024-10-08 11:41:02.386</td><td>2024-10-08 11:41:04.857</td><td>&quot;india&quot;</td><td>&quot;windows&quot;</td><td>&quot;8bd8b6ab-370f-4b56-b38f-ad221c…</td><td>null</td><td>22216</td><td>&quot;{&#x27;[amplitude] session replay i…</td><td>2024-10-08 11:41:02.386</td><td>&quot;session_start&quot;</td><td>&quot;english&quot;</td><td>&quot;amplitude-ts/2.7.2&quot;</td><td>&quot;chrome&quot;</td><td>2024-10-08 11:41:05.371</td><td>&quot;maharashtra&quot;</td><td>2024-10-08 11:41:04.857</td><td>2024-10-08 11:41:04.859</td><td>1728387662386</td><td>&quot;8038ea38-8ddf-4a1a-825d-8287c0…</td><td>&quot;{&#x27;roles&#x27;: [&#x27;underwriter&#x27;], &#x27;tr…</td><td>&quot;underwriter&quot;</td><td>&quot;false&quot;</td><td>&quot;https://accounts.google.com/&quot;</td><td>null</td><td>2455</td><td>&quot;international&quot;</td><td>&quot;session &amp; navigation&quot;</td><td>11</td><td>11</td><td>11</td><td>11</td><td>11</td><td>11</td><td>2</td><td>0</td><td>0</td><td>1</td><td>1</td><td>0</td><td>0</td><td>0</td><td>1</td><td>0</td><td>0</td><td>0</td></tr><tr><td>&quot;ea0a4143-2380-48e7-a83e-8ba854…</td><td>935023330069</td><td>591532</td><td>&quot;mumbai&quot;</td><td>2024-10-08 11:41:03.500</td><td>2024-10-08 11:41:04.857</td><td>&quot;india&quot;</td><td>&quot;windows&quot;</td><td>&quot;8bd8b6ab-370f-4b56-b38f-ad221c…</td><td>null</td><td>22217</td><td>&quot;{&#x27;rowmodel&#x27;: &#x27;server&#x27;, &#x27;[ampli…</td><td>2024-10-08 11:41:03.500</td><td>&quot;:all-accounts:configurable-tab…</td><td>&quot;english&quot;</td><td>&quot;amplitude-ts/2.7.2&quot;</td><td>&quot;chrome&quot;</td><td>2024-10-08 11:41:05.371</td><td>&quot;maharashtra&quot;</td><td>2024-10-08 11:41:04.857</td><td>2024-10-08 11:41:04.859</td><td>1728387662386</td><td>&quot;8038ea38-8ddf-4a1a-825d-8287c0…</td><td>&quot;{&#x27;roles&#x27;: [&#x27;underwriter&#x27;], &#x27;tr…</td><td>&quot;underwriter&quot;</td><td>&quot;false&quot;</td><td>&quot;https://accounts.google.com/&quot;</td><td>null</td><td>2455</td><td>&quot;international&quot;</td><td>&quot;account &amp; policy management&quot;</td><td>11</td><td>11</td><td>11</td><td>11</td><td>11</td><td>11</td><td>1</td><td>0</td><td>0</td><td>1</td><td>1</td><td>0</td><td>0</td><td>0</td><td>1</td><td>0</td><td>0</td><td>0</td></tr><tr><td>&quot;4d89977d-4734-450c-afa1-07e326…</td><td>935023330069</td><td>591532</td><td>&quot;mumbai&quot;</td><td>2024-10-08 11:41:03.527</td><td>2024-10-08 11:41:04.857</td><td>&quot;india&quot;</td><td>&quot;windows&quot;</td><td>&quot;8bd8b6ab-370f-4b56-b38f-ad221c…</td><td>null</td><td>22217</td><td>&quot;{&#x27;displayname&#x27;: &#x27;all policies …</td><td>2024-10-08 11:41:03.527</td><td>&quot;:all-accounts:widget:render&quot;</td><td>&quot;english&quot;</td><td>&quot;amplitude-ts/2.7.2&quot;</td><td>&quot;chrome&quot;</td><td>2024-10-08 11:41:05.371</td><td>&quot;maharashtra&quot;</td><td>2024-10-08 11:41:04.857</td><td>2024-10-08 11:41:04.859</td><td>1728387662386</td><td>&quot;8038ea38-8ddf-4a1a-825d-8287c0…</td><td>&quot;{&#x27;roles&#x27;: [&#x27;underwriter&#x27;], &#x27;tr…</td><td>&quot;underwriter&quot;</td><td>&quot;false&quot;</td><td>&quot;https://accounts.google.com/&quot;</td><td>null</td><td>2455</td><td>&quot;international&quot;</td><td>&quot;account &amp; policy management&quot;</td><td>11</td><td>11</td><td>11</td><td>11</td><td>11</td><td>11</td><td>1</td><td>0</td><td>0</td><td>1</td><td>1</td><td>0</td><td>0</td><td>0</td><td>1</td><td>0</td><td>0</td><td>0</td></tr><tr><td>&hellip;</td><td>&hellip;</td><td>&hellip;</td><td>&hellip;</td><td>&hellip;</td><td>&hellip;</td><td>&hellip;</td><td>&hellip;</td><td>&hellip;</td><td>&hellip;</td><td>&hellip;</td><td>&hellip;</td><td>&hellip;</td><td>&hellip;</td><td>&hellip;</td><td>&hellip;</td><td>&hellip;</td><td>&hellip;</td><td>&hellip;</td><td>&hellip;</td><td>&hellip;</td><td>&hellip;</td><td>&hellip;</td><td>&hellip;</td><td>&hellip;</td><td>&hellip;</td><td>&hellip;</td><td>&hellip;</td><td>&hellip;</td><td>&hellip;</td><td>&hellip;</td><td>&hellip;</td><td>&hellip;</td><td>&hellip;</td><td>&hellip;</td><td>&hellip;</td><td>&hellip;</td><td>&hellip;</td><td>&hellip;</td><td>&hellip;</td><td>&hellip;</td><td>&hellip;</td><td>&hellip;</td><td>&hellip;</td><td>&hellip;</td><td>&hellip;</td><td>&hellip;</td><td>&hellip;</td><td>&hellip;</td></tr><tr><td>&quot;102ec3ca-a467-41a9-aa19-94f5b0…</td><td>857540480084</td><td>591532</td><td>&quot;nashville&quot;</td><td>2024-05-22 09:36:09.888</td><td>2024-05-22 09:36:10.832</td><td>&quot;united states&quot;</td><td>&quot;windows&quot;</td><td>&quot;a8b357fb-b4fb-45d2-babd-42b470…</td><td>&quot;nashville, tn&quot;</td><td>26</td><td>&quot;{&#x27;displayname&#x27;: &#x27;one drive lin…</td><td>2024-05-22 09:36:09.888</td><td>&quot;account-lines::widget:render&quot;</td><td>&quot;english&quot;</td><td>&quot;amplitude-ts/1.8.0&quot;</td><td>&quot;edge&quot;</td><td>2024-05-22 09:36:11.662</td><td>&quot;tennessee&quot;</td><td>2024-05-22 09:36:10.832</td><td>2024-05-22 09:36:10.833</td><td>1716368557821</td><td>&quot;9aecc15d-64a4-4190-80f5-b5b842…</td><td>&quot;{&#x27;initial_utm_medium&#x27;: &#x27;empty&#x27;…</td><td>&quot;underwriter&quot;</td><td>&quot;false&quot;</td><td>null</td><td>&quot;one-drive-link&quot;</td><td>2371</td><td>&quot;south&quot;</td><td>&quot;account &amp; policy management&quot;</td><td>9</td><td>9</td><td>9</td><td>9</td><td>9</td><td>9</td><td>0</td><td>0</td><td>0</td><td>1</td><td>1</td><td>0</td><td>0</td><td>0</td><td>null</td><td>null</td><td>null</td><td>null</td></tr><tr><td>&quot;55aec1ce-b876-4f66-b786-fd5706…</td><td>857540480084</td><td>591532</td><td>&quot;nashville&quot;</td><td>2024-05-22 09:36:09.917</td><td>2024-05-22 09:36:10.832</td><td>&quot;united states&quot;</td><td>&quot;windows&quot;</td><td>&quot;a8b357fb-b4fb-45d2-babd-42b470…</td><td>&quot;nashville, tn&quot;</td><td>27</td><td>&quot;{&#x27;rowmodel&#x27;: &#x27;legacyserver&#x27;, &#x27;…</td><td>2024-05-22 09:36:09.917</td><td>&quot;account-lines::configurable-ta…</td><td>&quot;english&quot;</td><td>&quot;amplitude-ts/1.8.0&quot;</td><td>&quot;edge&quot;</td><td>2024-05-22 09:36:11.662</td><td>&quot;tennessee&quot;</td><td>2024-05-22 09:36:10.832</td><td>2024-05-22 09:36:10.833</td><td>1716368557821</td><td>&quot;9aecc15d-64a4-4190-80f5-b5b842…</td><td>&quot;{&#x27;initial_utm_medium&#x27;: &#x27;empty&#x27;…</td><td>&quot;underwriter&quot;</td><td>&quot;false&quot;</td><td>null</td><td>&quot;property-locations&quot;</td><td>2371</td><td>&quot;south&quot;</td><td>&quot;account &amp; policy management&quot;</td><td>9</td><td>9</td><td>9</td><td>9</td><td>9</td><td>9</td><td>0</td><td>0</td><td>0</td><td>1</td><td>1</td><td>0</td><td>0</td><td>0</td><td>null</td><td>null</td><td>null</td><td>null</td></tr><tr><td>&quot;8cb28e22-0dc3-456c-9956-41d52b…</td><td>857540480084</td><td>591532</td><td>&quot;nashville&quot;</td><td>2024-05-22 09:36:15.727</td><td>2024-05-22 09:36:16.789</td><td>&quot;united states&quot;</td><td>&quot;windows&quot;</td><td>&quot;a8b357fb-b4fb-45d2-babd-42b470…</td><td>&quot;nashville, tn&quot;</td><td>28</td><td>&quot;{&#x27;displayname&#x27;: &#x27;attachments&#x27;,…</td><td>2024-05-22 09:36:15.727</td><td>&quot;account-lines::widget:render&quot;</td><td>&quot;english&quot;</td><td>&quot;amplitude-ts/1.8.0&quot;</td><td>&quot;edge&quot;</td><td>2024-05-22 09:36:17.297</td><td>&quot;tennessee&quot;</td><td>2024-05-22 09:36:16.789</td><td>2024-05-22 09:36:16.791</td><td>1716368557821</td><td>&quot;9aecc15d-64a4-4190-80f5-b5b842…</td><td>&quot;{&#x27;initial_utm_medium&#x27;: &#x27;empty&#x27;…</td><td>&quot;underwriter&quot;</td><td>&quot;false&quot;</td><td>null</td><td>&quot;attachments&quot;</td><td>2371</td><td>&quot;south&quot;</td><td>&quot;account &amp; policy management&quot;</td><td>9</td><td>9</td><td>9</td><td>9</td><td>9</td><td>9</td><td>1</td><td>0</td><td>0</td><td>1</td><td>1</td><td>0</td><td>0</td><td>0</td><td>null</td><td>null</td><td>null</td><td>null</td></tr><tr><td>&quot;eac4d6a2-2ff0-4e59-80af-aa1b3f…</td><td>857540480084</td><td>591532</td><td>&quot;nashville&quot;</td><td>2024-05-22 09:36:33.812</td><td>2024-05-22 09:36:34.881</td><td>&quot;united states&quot;</td><td>&quot;windows&quot;</td><td>&quot;a8b357fb-b4fb-45d2-babd-42b470…</td><td>&quot;nashville, tn&quot;</td><td>29</td><td>&quot;{}&quot;</td><td>2024-05-22 09:36:33.812</td><td>&quot;::nav-header:action-center-cli…</td><td>&quot;english&quot;</td><td>&quot;amplitude-ts/1.8.0&quot;</td><td>&quot;edge&quot;</td><td>2024-05-22 09:36:36.435</td><td>&quot;tennessee&quot;</td><td>2024-05-22 09:36:34.881</td><td>2024-05-22 09:36:34.883</td><td>1716368557821</td><td>&quot;9aecc15d-64a4-4190-80f5-b5b842…</td><td>&quot;{&#x27;initial_utm_medium&#x27;: &#x27;empty&#x27;…</td><td>&quot;underwriter&quot;</td><td>&quot;false&quot;</td><td>null</td><td>null</td><td>2371</td><td>&quot;south&quot;</td><td>&quot;session &amp; navigation&quot;</td><td>9</td><td>9</td><td>9</td><td>9</td><td>9</td><td>9</td><td>1</td><td>0</td><td>1</td><td>1</td><td>1</td><td>0</td><td>0</td><td>0</td><td>null</td><td>null</td><td>null</td><td>null</td></tr><tr><td>&quot;bf44b3b7-2b4d-4e20-a18c-65fb63…</td><td>857540480084</td><td>591532</td><td>&quot;nashville&quot;</td><td>2024-05-22 09:36:33.815</td><td>2024-05-22 09:36:34.881</td><td>&quot;united states&quot;</td><td>&quot;windows&quot;</td><td>&quot;a8b357fb-b4fb-45d2-babd-42b470…</td><td>&quot;nashville, tn&quot;</td><td>30</td><td>&quot;{}&quot;</td><td>2024-05-22 09:36:33.815</td><td>&quot;action-center:::view&quot;</td><td>&quot;english&quot;</td><td>&quot;amplitude-ts/1.8.0&quot;</td><td>&quot;edge&quot;</td><td>2024-05-22 09:36:36.435</td><td>&quot;tennessee&quot;</td><td>2024-05-22 09:36:34.881</td><td>2024-05-22 09:36:34.883</td><td>1716368557821</td><td>&quot;9aecc15d-64a4-4190-80f5-b5b842…</td><td>&quot;{&#x27;initial_utm_medium&#x27;: &#x27;empty&#x27;…</td><td>&quot;underwriter&quot;</td><td>&quot;false&quot;</td><td>null</td><td>null</td><td>2371</td><td>&quot;south&quot;</td><td>&quot;action center &amp; workflow&quot;</td><td>9</td><td>9</td><td>9</td><td>9</td><td>9</td><td>9</td><td>1</td><td>0</td><td>1</td><td>1</td><td>1</td><td>0</td><td>0</td><td>0</td><td>null</td><td>null</td><td>null</td><td>null</td></tr></tbody></table></div>"
      ],
      "text/plain": [
       "shape: (14_239_968, 49)\n",
       "┌──────────────┬──────────────┬────────┬───────────┬───┬────────┬──────────┬───────────┬───────────┐\n",
       "│ $insert_id   ┆ amplitude_id ┆ app    ┆ city      ┆ … ┆ google ┆ federato ┆ uw-portal ┆ microsoft │\n",
       "│ ---          ┆ ---          ┆ ---    ┆ ---       ┆   ┆ ---    ┆ ---      ┆ ---       ┆ ---       │\n",
       "│ str          ┆ i64          ┆ i64    ┆ str       ┆   ┆ i32    ┆ i32      ┆ i32       ┆ i32       │\n",
       "╞══════════════╪══════════════╪════════╪═══════════╪═══╪════════╪══════════╪═══════════╪═══════════╡\n",
       "│ 251db963-662 ┆ 935023330069 ┆ 591532 ┆ mumbai    ┆ … ┆ 1      ┆ 0        ┆ 0         ┆ 0         │\n",
       "│ 3-448e-8665- ┆              ┆        ┆           ┆   ┆        ┆          ┆           ┆           │\n",
       "│ f542b8…      ┆              ┆        ┆           ┆   ┆        ┆          ┆           ┆           │\n",
       "│ 3a95cdac-174 ┆ 935023330069 ┆ 591532 ┆ mumbai    ┆ … ┆ 1      ┆ 0        ┆ 0         ┆ 0         │\n",
       "│ c-4002-8e84- ┆              ┆        ┆           ┆   ┆        ┆          ┆           ┆           │\n",
       "│ 8aeba8…      ┆              ┆        ┆           ┆   ┆        ┆          ┆           ┆           │\n",
       "│ 50dbfad3-8e2 ┆ 935023330069 ┆ 591532 ┆ mumbai    ┆ … ┆ 1      ┆ 0        ┆ 0         ┆ 0         │\n",
       "│ 4-456a-ae68- ┆              ┆        ┆           ┆   ┆        ┆          ┆           ┆           │\n",
       "│ 21b09b…      ┆              ┆        ┆           ┆   ┆        ┆          ┆           ┆           │\n",
       "│ ea0a4143-238 ┆ 935023330069 ┆ 591532 ┆ mumbai    ┆ … ┆ 1      ┆ 0        ┆ 0         ┆ 0         │\n",
       "│ 0-48e7-a83e- ┆              ┆        ┆           ┆   ┆        ┆          ┆           ┆           │\n",
       "│ 8ba854…      ┆              ┆        ┆           ┆   ┆        ┆          ┆           ┆           │\n",
       "│ 4d89977d-473 ┆ 935023330069 ┆ 591532 ┆ mumbai    ┆ … ┆ 1      ┆ 0        ┆ 0         ┆ 0         │\n",
       "│ 4-450c-afa1- ┆              ┆        ┆           ┆   ┆        ┆          ┆           ┆           │\n",
       "│ 07e326…      ┆              ┆        ┆           ┆   ┆        ┆          ┆           ┆           │\n",
       "│ …            ┆ …            ┆ …      ┆ …         ┆ … ┆ …      ┆ …        ┆ …         ┆ …         │\n",
       "│ 102ec3ca-a46 ┆ 857540480084 ┆ 591532 ┆ nashville ┆ … ┆ null   ┆ null     ┆ null      ┆ null      │\n",
       "│ 7-41a9-aa19- ┆              ┆        ┆           ┆   ┆        ┆          ┆           ┆           │\n",
       "│ 94f5b0…      ┆              ┆        ┆           ┆   ┆        ┆          ┆           ┆           │\n",
       "│ 55aec1ce-b87 ┆ 857540480084 ┆ 591532 ┆ nashville ┆ … ┆ null   ┆ null     ┆ null      ┆ null      │\n",
       "│ 6-4f66-b786- ┆              ┆        ┆           ┆   ┆        ┆          ┆           ┆           │\n",
       "│ fd5706…      ┆              ┆        ┆           ┆   ┆        ┆          ┆           ┆           │\n",
       "│ 8cb28e22-0dc ┆ 857540480084 ┆ 591532 ┆ nashville ┆ … ┆ null   ┆ null     ┆ null      ┆ null      │\n",
       "│ 3-456c-9956- ┆              ┆        ┆           ┆   ┆        ┆          ┆           ┆           │\n",
       "│ 41d52b…      ┆              ┆        ┆           ┆   ┆        ┆          ┆           ┆           │\n",
       "│ eac4d6a2-2ff ┆ 857540480084 ┆ 591532 ┆ nashville ┆ … ┆ null   ┆ null     ┆ null      ┆ null      │\n",
       "│ 0-4e59-80af- ┆              ┆        ┆           ┆   ┆        ┆          ┆           ┆           │\n",
       "│ aa1b3f…      ┆              ┆        ┆           ┆   ┆        ┆          ┆           ┆           │\n",
       "│ bf44b3b7-2b4 ┆ 857540480084 ┆ 591532 ┆ nashville ┆ … ┆ null   ┆ null     ┆ null      ┆ null      │\n",
       "│ d-4e20-a18c- ┆              ┆        ┆           ┆   ┆        ┆          ┆           ┆           │\n",
       "│ 65fb63…      ┆              ┆        ┆           ┆   ┆        ┆          ┆           ┆           │\n",
       "└──────────────┴──────────────┴────────┴───────────┴───┴────────┴──────────┴───────────┴───────────┘"
      ]
     },
     "execution_count": 21,
     "metadata": {},
     "output_type": "execute_result"
    }
   ],
   "source": [
    "# Extract brand from referrer, which can contain multiple referrers\n",
    "df = df.with_columns([\n",
    "        pl.col('referrer').str.contains('google').alias('google').cast(pl.Int32),\n",
    "        pl.col('referrer').str.contains('microsoft|teams|office').alias('microsoft').cast(pl.Int32),\n",
    "        pl.col('referrer').str.contains('federato').alias('federato').cast(pl.Int32),\n",
    "        pl.col('referrer').str.contains('portal').alias('uw-portal').cast(pl.Int32),\n",
    "    ])\n",
    "df"
   ]
  },
  {
   "cell_type": "markdown",
   "metadata": {},
   "source": [
    "### Drop Pre-aggregate columns\n",
    "\n",
    "Having done most of our aggregation and feature engineering, we can now drop them from our data"
   ]
  },
  {
   "cell_type": "code",
   "execution_count": 23,
   "metadata": {},
   "outputs": [
    {
     "data": {
      "text/html": [
       "<div><style>\n",
       ".dataframe > thead > tr,\n",
       ".dataframe > tbody > tr {\n",
       "  text-align: right;\n",
       "  white-space: pre-wrap;\n",
       "}\n",
       "</style>\n",
       "<small>shape: (14_239_968, 39)</small><table border=\"1\" class=\"dataframe\"><thead><tr><th>client_event_time</th><th>client_upload_time</th><th>country</th><th>device_family</th><th>dma</th><th>event_time</th><th>event_type</th><th>library</th><th>processed_time</th><th>region</th><th>server_received_time</th><th>server_upload_time</th><th>session_id</th><th>user_id</th><th>roles</th><th>isInternalUser</th><th>referrer</th><th>slug</th><th>session_seconds</th><th>region_grouped</th><th>event_category</th><th>client_event_hour</th><th>client_upload_hour</th><th>event_hour</th><th>processed_hour</th><th>server_received_hour</th><th>server_upload_hour</th><th>time_to_server</th><th>server_to_process</th><th>processing_time</th><th>returned_within_7_days</th><th>uw</th><th>admin</th><th>manager</th><th>broker</th><th>google</th><th>federato</th><th>uw-portal</th><th>microsoft</th></tr><tr><td>datetime[μs]</td><td>datetime[μs]</td><td>str</td><td>str</td><td>str</td><td>datetime[μs]</td><td>str</td><td>str</td><td>datetime[μs]</td><td>str</td><td>datetime[μs]</td><td>datetime[μs]</td><td>i64</td><td>str</td><td>str</td><td>str</td><td>str</td><td>str</td><td>i64</td><td>str</td><td>str</td><td>i8</td><td>i8</td><td>i8</td><td>i8</td><td>i8</td><td>i8</td><td>i64</td><td>i64</td><td>i64</td><td>i32</td><td>i8</td><td>i8</td><td>i8</td><td>i8</td><td>i32</td><td>i32</td><td>i32</td><td>i32</td></tr></thead><tbody><tr><td>2024-10-08 11:41:02.385</td><td>2024-10-08 11:41:04.857</td><td>&quot;india&quot;</td><td>&quot;windows&quot;</td><td>null</td><td>2024-10-08 11:41:02.385</td><td>&quot;session_start&quot;</td><td>&quot;amplitude-ts/2.7.2&quot;</td><td>2024-10-08 11:41:05.371</td><td>&quot;maharashtra&quot;</td><td>2024-10-08 11:41:04.857</td><td>2024-10-08 11:41:04.859</td><td>1728387662385</td><td>&quot;8038ea38-8ddf-4a1a-825d-8287c0…</td><td>&quot;underwriter&quot;</td><td>&quot;false&quot;</td><td>&quot;https://accounts.google.com/&quot;</td><td>null</td><td>0</td><td>&quot;international&quot;</td><td>&quot;session &amp; navigation&quot;</td><td>11</td><td>11</td><td>11</td><td>11</td><td>11</td><td>11</td><td>2</td><td>0</td><td>0</td><td>1</td><td>1</td><td>0</td><td>0</td><td>0</td><td>1</td><td>0</td><td>0</td><td>0</td></tr><tr><td>2024-10-08 11:41:02.386</td><td>2024-10-08 11:41:04.857</td><td>&quot;india&quot;</td><td>&quot;windows&quot;</td><td>null</td><td>2024-10-08 11:41:02.386</td><td>&quot;session_end&quot;</td><td>&quot;amplitude-ts/2.7.2&quot;</td><td>2024-10-08 11:41:05.371</td><td>&quot;maharashtra&quot;</td><td>2024-10-08 11:41:04.857</td><td>2024-10-08 11:41:04.859</td><td>1728387662385</td><td>&quot;8038ea38-8ddf-4a1a-825d-8287c0…</td><td>&quot;underwriter&quot;</td><td>&quot;false&quot;</td><td>&quot;https://accounts.google.com/&quot;</td><td>null</td><td>0</td><td>&quot;international&quot;</td><td>&quot;session &amp; navigation&quot;</td><td>11</td><td>11</td><td>11</td><td>11</td><td>11</td><td>11</td><td>2</td><td>0</td><td>0</td><td>1</td><td>1</td><td>0</td><td>0</td><td>0</td><td>1</td><td>0</td><td>0</td><td>0</td></tr><tr><td>2024-10-08 11:41:02.386</td><td>2024-10-08 11:41:04.857</td><td>&quot;india&quot;</td><td>&quot;windows&quot;</td><td>null</td><td>2024-10-08 11:41:02.386</td><td>&quot;session_start&quot;</td><td>&quot;amplitude-ts/2.7.2&quot;</td><td>2024-10-08 11:41:05.371</td><td>&quot;maharashtra&quot;</td><td>2024-10-08 11:41:04.857</td><td>2024-10-08 11:41:04.859</td><td>1728387662386</td><td>&quot;8038ea38-8ddf-4a1a-825d-8287c0…</td><td>&quot;underwriter&quot;</td><td>&quot;false&quot;</td><td>&quot;https://accounts.google.com/&quot;</td><td>null</td><td>2455</td><td>&quot;international&quot;</td><td>&quot;session &amp; navigation&quot;</td><td>11</td><td>11</td><td>11</td><td>11</td><td>11</td><td>11</td><td>2</td><td>0</td><td>0</td><td>1</td><td>1</td><td>0</td><td>0</td><td>0</td><td>1</td><td>0</td><td>0</td><td>0</td></tr><tr><td>2024-10-08 11:41:03.500</td><td>2024-10-08 11:41:04.857</td><td>&quot;india&quot;</td><td>&quot;windows&quot;</td><td>null</td><td>2024-10-08 11:41:03.500</td><td>&quot;:all-accounts:configurable-tab…</td><td>&quot;amplitude-ts/2.7.2&quot;</td><td>2024-10-08 11:41:05.371</td><td>&quot;maharashtra&quot;</td><td>2024-10-08 11:41:04.857</td><td>2024-10-08 11:41:04.859</td><td>1728387662386</td><td>&quot;8038ea38-8ddf-4a1a-825d-8287c0…</td><td>&quot;underwriter&quot;</td><td>&quot;false&quot;</td><td>&quot;https://accounts.google.com/&quot;</td><td>null</td><td>2455</td><td>&quot;international&quot;</td><td>&quot;account &amp; policy management&quot;</td><td>11</td><td>11</td><td>11</td><td>11</td><td>11</td><td>11</td><td>1</td><td>0</td><td>0</td><td>1</td><td>1</td><td>0</td><td>0</td><td>0</td><td>1</td><td>0</td><td>0</td><td>0</td></tr><tr><td>2024-10-08 11:41:03.527</td><td>2024-10-08 11:41:04.857</td><td>&quot;india&quot;</td><td>&quot;windows&quot;</td><td>null</td><td>2024-10-08 11:41:03.527</td><td>&quot;:all-accounts:widget:render&quot;</td><td>&quot;amplitude-ts/2.7.2&quot;</td><td>2024-10-08 11:41:05.371</td><td>&quot;maharashtra&quot;</td><td>2024-10-08 11:41:04.857</td><td>2024-10-08 11:41:04.859</td><td>1728387662386</td><td>&quot;8038ea38-8ddf-4a1a-825d-8287c0…</td><td>&quot;underwriter&quot;</td><td>&quot;false&quot;</td><td>&quot;https://accounts.google.com/&quot;</td><td>null</td><td>2455</td><td>&quot;international&quot;</td><td>&quot;account &amp; policy management&quot;</td><td>11</td><td>11</td><td>11</td><td>11</td><td>11</td><td>11</td><td>1</td><td>0</td><td>0</td><td>1</td><td>1</td><td>0</td><td>0</td><td>0</td><td>1</td><td>0</td><td>0</td><td>0</td></tr><tr><td>&hellip;</td><td>&hellip;</td><td>&hellip;</td><td>&hellip;</td><td>&hellip;</td><td>&hellip;</td><td>&hellip;</td><td>&hellip;</td><td>&hellip;</td><td>&hellip;</td><td>&hellip;</td><td>&hellip;</td><td>&hellip;</td><td>&hellip;</td><td>&hellip;</td><td>&hellip;</td><td>&hellip;</td><td>&hellip;</td><td>&hellip;</td><td>&hellip;</td><td>&hellip;</td><td>&hellip;</td><td>&hellip;</td><td>&hellip;</td><td>&hellip;</td><td>&hellip;</td><td>&hellip;</td><td>&hellip;</td><td>&hellip;</td><td>&hellip;</td><td>&hellip;</td><td>&hellip;</td><td>&hellip;</td><td>&hellip;</td><td>&hellip;</td><td>&hellip;</td><td>&hellip;</td><td>&hellip;</td><td>&hellip;</td></tr><tr><td>2024-05-22 09:36:09.888</td><td>2024-05-22 09:36:10.832</td><td>&quot;united states&quot;</td><td>&quot;windows&quot;</td><td>&quot;nashville, tn&quot;</td><td>2024-05-22 09:36:09.888</td><td>&quot;account-lines::widget:render&quot;</td><td>&quot;amplitude-ts/1.8.0&quot;</td><td>2024-05-22 09:36:11.662</td><td>&quot;tennessee&quot;</td><td>2024-05-22 09:36:10.832</td><td>2024-05-22 09:36:10.833</td><td>1716368557821</td><td>&quot;9aecc15d-64a4-4190-80f5-b5b842…</td><td>&quot;underwriter&quot;</td><td>&quot;false&quot;</td><td>null</td><td>&quot;one-drive-link&quot;</td><td>2371</td><td>&quot;south&quot;</td><td>&quot;account &amp; policy management&quot;</td><td>9</td><td>9</td><td>9</td><td>9</td><td>9</td><td>9</td><td>0</td><td>0</td><td>0</td><td>1</td><td>1</td><td>0</td><td>0</td><td>0</td><td>null</td><td>null</td><td>null</td><td>null</td></tr><tr><td>2024-05-22 09:36:09.917</td><td>2024-05-22 09:36:10.832</td><td>&quot;united states&quot;</td><td>&quot;windows&quot;</td><td>&quot;nashville, tn&quot;</td><td>2024-05-22 09:36:09.917</td><td>&quot;account-lines::configurable-ta…</td><td>&quot;amplitude-ts/1.8.0&quot;</td><td>2024-05-22 09:36:11.662</td><td>&quot;tennessee&quot;</td><td>2024-05-22 09:36:10.832</td><td>2024-05-22 09:36:10.833</td><td>1716368557821</td><td>&quot;9aecc15d-64a4-4190-80f5-b5b842…</td><td>&quot;underwriter&quot;</td><td>&quot;false&quot;</td><td>null</td><td>&quot;property-locations&quot;</td><td>2371</td><td>&quot;south&quot;</td><td>&quot;account &amp; policy management&quot;</td><td>9</td><td>9</td><td>9</td><td>9</td><td>9</td><td>9</td><td>0</td><td>0</td><td>0</td><td>1</td><td>1</td><td>0</td><td>0</td><td>0</td><td>null</td><td>null</td><td>null</td><td>null</td></tr><tr><td>2024-05-22 09:36:15.727</td><td>2024-05-22 09:36:16.789</td><td>&quot;united states&quot;</td><td>&quot;windows&quot;</td><td>&quot;nashville, tn&quot;</td><td>2024-05-22 09:36:15.727</td><td>&quot;account-lines::widget:render&quot;</td><td>&quot;amplitude-ts/1.8.0&quot;</td><td>2024-05-22 09:36:17.297</td><td>&quot;tennessee&quot;</td><td>2024-05-22 09:36:16.789</td><td>2024-05-22 09:36:16.791</td><td>1716368557821</td><td>&quot;9aecc15d-64a4-4190-80f5-b5b842…</td><td>&quot;underwriter&quot;</td><td>&quot;false&quot;</td><td>null</td><td>&quot;attachments&quot;</td><td>2371</td><td>&quot;south&quot;</td><td>&quot;account &amp; policy management&quot;</td><td>9</td><td>9</td><td>9</td><td>9</td><td>9</td><td>9</td><td>1</td><td>0</td><td>0</td><td>1</td><td>1</td><td>0</td><td>0</td><td>0</td><td>null</td><td>null</td><td>null</td><td>null</td></tr><tr><td>2024-05-22 09:36:33.812</td><td>2024-05-22 09:36:34.881</td><td>&quot;united states&quot;</td><td>&quot;windows&quot;</td><td>&quot;nashville, tn&quot;</td><td>2024-05-22 09:36:33.812</td><td>&quot;::nav-header:action-center-cli…</td><td>&quot;amplitude-ts/1.8.0&quot;</td><td>2024-05-22 09:36:36.435</td><td>&quot;tennessee&quot;</td><td>2024-05-22 09:36:34.881</td><td>2024-05-22 09:36:34.883</td><td>1716368557821</td><td>&quot;9aecc15d-64a4-4190-80f5-b5b842…</td><td>&quot;underwriter&quot;</td><td>&quot;false&quot;</td><td>null</td><td>null</td><td>2371</td><td>&quot;south&quot;</td><td>&quot;session &amp; navigation&quot;</td><td>9</td><td>9</td><td>9</td><td>9</td><td>9</td><td>9</td><td>1</td><td>0</td><td>1</td><td>1</td><td>1</td><td>0</td><td>0</td><td>0</td><td>null</td><td>null</td><td>null</td><td>null</td></tr><tr><td>2024-05-22 09:36:33.815</td><td>2024-05-22 09:36:34.881</td><td>&quot;united states&quot;</td><td>&quot;windows&quot;</td><td>&quot;nashville, tn&quot;</td><td>2024-05-22 09:36:33.815</td><td>&quot;action-center:::view&quot;</td><td>&quot;amplitude-ts/1.8.0&quot;</td><td>2024-05-22 09:36:36.435</td><td>&quot;tennessee&quot;</td><td>2024-05-22 09:36:34.881</td><td>2024-05-22 09:36:34.883</td><td>1716368557821</td><td>&quot;9aecc15d-64a4-4190-80f5-b5b842…</td><td>&quot;underwriter&quot;</td><td>&quot;false&quot;</td><td>null</td><td>null</td><td>2371</td><td>&quot;south&quot;</td><td>&quot;action center &amp; workflow&quot;</td><td>9</td><td>9</td><td>9</td><td>9</td><td>9</td><td>9</td><td>1</td><td>0</td><td>1</td><td>1</td><td>1</td><td>0</td><td>0</td><td>0</td><td>null</td><td>null</td><td>null</td><td>null</td></tr></tbody></table></div>"
      ],
      "text/plain": [
       "shape: (14_239_968, 39)\n",
       "┌────────────┬────────────┬────────────┬───────────┬───┬────────┬──────────┬───────────┬───────────┐\n",
       "│ client_eve ┆ client_upl ┆ country    ┆ device_fa ┆ … ┆ google ┆ federato ┆ uw-portal ┆ microsoft │\n",
       "│ nt_time    ┆ oad_time   ┆ ---        ┆ mily      ┆   ┆ ---    ┆ ---      ┆ ---       ┆ ---       │\n",
       "│ ---        ┆ ---        ┆ str        ┆ ---       ┆   ┆ i32    ┆ i32      ┆ i32       ┆ i32       │\n",
       "│ datetime[μ ┆ datetime[μ ┆            ┆ str       ┆   ┆        ┆          ┆           ┆           │\n",
       "│ s]         ┆ s]         ┆            ┆           ┆   ┆        ┆          ┆           ┆           │\n",
       "╞════════════╪════════════╪════════════╪═══════════╪═══╪════════╪══════════╪═══════════╪═══════════╡\n",
       "│ 2024-10-08 ┆ 2024-10-08 ┆ india      ┆ windows   ┆ … ┆ 1      ┆ 0        ┆ 0         ┆ 0         │\n",
       "│ 11:41:02.3 ┆ 11:41:04.8 ┆            ┆           ┆   ┆        ┆          ┆           ┆           │\n",
       "│ 85         ┆ 57         ┆            ┆           ┆   ┆        ┆          ┆           ┆           │\n",
       "│ 2024-10-08 ┆ 2024-10-08 ┆ india      ┆ windows   ┆ … ┆ 1      ┆ 0        ┆ 0         ┆ 0         │\n",
       "│ 11:41:02.3 ┆ 11:41:04.8 ┆            ┆           ┆   ┆        ┆          ┆           ┆           │\n",
       "│ 86         ┆ 57         ┆            ┆           ┆   ┆        ┆          ┆           ┆           │\n",
       "│ 2024-10-08 ┆ 2024-10-08 ┆ india      ┆ windows   ┆ … ┆ 1      ┆ 0        ┆ 0         ┆ 0         │\n",
       "│ 11:41:02.3 ┆ 11:41:04.8 ┆            ┆           ┆   ┆        ┆          ┆           ┆           │\n",
       "│ 86         ┆ 57         ┆            ┆           ┆   ┆        ┆          ┆           ┆           │\n",
       "│ 2024-10-08 ┆ 2024-10-08 ┆ india      ┆ windows   ┆ … ┆ 1      ┆ 0        ┆ 0         ┆ 0         │\n",
       "│ 11:41:03.5 ┆ 11:41:04.8 ┆            ┆           ┆   ┆        ┆          ┆           ┆           │\n",
       "│ 00         ┆ 57         ┆            ┆           ┆   ┆        ┆          ┆           ┆           │\n",
       "│ 2024-10-08 ┆ 2024-10-08 ┆ india      ┆ windows   ┆ … ┆ 1      ┆ 0        ┆ 0         ┆ 0         │\n",
       "│ 11:41:03.5 ┆ 11:41:04.8 ┆            ┆           ┆   ┆        ┆          ┆           ┆           │\n",
       "│ 27         ┆ 57         ┆            ┆           ┆   ┆        ┆          ┆           ┆           │\n",
       "│ …          ┆ …          ┆ …          ┆ …         ┆ … ┆ …      ┆ …        ┆ …         ┆ …         │\n",
       "│ 2024-05-22 ┆ 2024-05-22 ┆ united     ┆ windows   ┆ … ┆ null   ┆ null     ┆ null      ┆ null      │\n",
       "│ 09:36:09.8 ┆ 09:36:10.8 ┆ states     ┆           ┆   ┆        ┆          ┆           ┆           │\n",
       "│ 88         ┆ 32         ┆            ┆           ┆   ┆        ┆          ┆           ┆           │\n",
       "│ 2024-05-22 ┆ 2024-05-22 ┆ united     ┆ windows   ┆ … ┆ null   ┆ null     ┆ null      ┆ null      │\n",
       "│ 09:36:09.9 ┆ 09:36:10.8 ┆ states     ┆           ┆   ┆        ┆          ┆           ┆           │\n",
       "│ 17         ┆ 32         ┆            ┆           ┆   ┆        ┆          ┆           ┆           │\n",
       "│ 2024-05-22 ┆ 2024-05-22 ┆ united     ┆ windows   ┆ … ┆ null   ┆ null     ┆ null      ┆ null      │\n",
       "│ 09:36:15.7 ┆ 09:36:16.7 ┆ states     ┆           ┆   ┆        ┆          ┆           ┆           │\n",
       "│ 27         ┆ 89         ┆            ┆           ┆   ┆        ┆          ┆           ┆           │\n",
       "│ 2024-05-22 ┆ 2024-05-22 ┆ united     ┆ windows   ┆ … ┆ null   ┆ null     ┆ null      ┆ null      │\n",
       "│ 09:36:33.8 ┆ 09:36:34.8 ┆ states     ┆           ┆   ┆        ┆          ┆           ┆           │\n",
       "│ 12         ┆ 81         ┆            ┆           ┆   ┆        ┆          ┆           ┆           │\n",
       "│ 2024-05-22 ┆ 2024-05-22 ┆ united     ┆ windows   ┆ … ┆ null   ┆ null     ┆ null      ┆ null      │\n",
       "│ 09:36:33.8 ┆ 09:36:34.8 ┆ states     ┆           ┆   ┆        ┆          ┆           ┆           │\n",
       "│ 15         ┆ 81         ┆            ┆           ┆   ┆        ┆          ┆           ┆           │\n",
       "└────────────┴────────────┴────────────┴───────────┴───┴────────┴──────────┴───────────┴───────────┘"
      ]
     },
     "execution_count": 23,
     "metadata": {},
     "output_type": "execute_result"
    }
   ],
   "source": [
    "# Drop pre-aggregate columns\n",
    "df = drop_columns(df, config, 1)\n",
    "df"
   ]
  },
  {
   "cell_type": "markdown",
   "metadata": {},
   "source": [
    "### Apply One-Hot Encoding\n",
    "\n",
    "For the rest of our categorical columns with low dimensionality, we will one-hot encode them using our preprocessing functions"
   ]
  },
  {
   "cell_type": "code",
   "execution_count": 24,
   "metadata": {},
   "outputs": [
    {
     "data": {
      "text/html": [
       "<div><style>\n",
       ".dataframe > thead > tr,\n",
       ".dataframe > tbody > tr {\n",
       "  text-align: right;\n",
       "  white-space: pre-wrap;\n",
       "}\n",
       "</style>\n",
       "<small>shape: (14_239_968, 63)</small><table border=\"1\" class=\"dataframe\"><thead><tr><th>client_event_time</th><th>client_upload_time</th><th>country</th><th>device_family_android</th><th>device_family_apple ipad</th><th>device_family_apple iphone</th><th>device_family_chrome os</th><th>device_family_chromium os</th><th>device_family_google nexus phone</th><th>device_family_ios</th><th>device_family_k</th><th>device_family_linux</th><th>device_family_mac</th><th>device_family_mac os x</th><th>device_family_ubuntu</th><th>device_family_windows</th><th>dma</th><th>event_time</th><th>event_type</th><th>library</th><th>processed_time</th><th>region</th><th>server_received_time</th><th>server_upload_time</th><th>session_id</th><th>user_id</th><th>roles</th><th>isInternalUser</th><th>referrer</th><th>slug</th><th>session_seconds</th><th>region_grouped_international</th><th>region_grouped_midwest</th><th>region_grouped_northeast</th><th>region_grouped_south</th><th>region_grouped_west</th><th>event_category_account &amp; policy management</th><th>event_category_action center &amp; workflow</th><th>event_category_dashboard &amp; ui interactions</th><th>event_category_document &amp; report interactions</th><th>event_category_filtering &amp; searching</th><th>event_category_null</th><th>event_category_other/system events</th><th>event_category_session &amp; navigation</th><th>event_category_submission &amp; forms</th><th>client_event_hour</th><th>client_upload_hour</th><th>event_hour</th><th>processed_hour</th><th>server_received_hour</th><th>server_upload_hour</th><th>time_to_server</th><th>server_to_process</th><th>processing_time</th><th>returned_within_7_days</th><th>uw</th><th>admin</th><th>manager</th><th>broker</th><th>google</th><th>federato</th><th>uw-portal</th><th>microsoft</th></tr><tr><td>datetime[μs]</td><td>datetime[μs]</td><td>str</td><td>u8</td><td>u8</td><td>u8</td><td>u8</td><td>u8</td><td>u8</td><td>u8</td><td>u8</td><td>u8</td><td>u8</td><td>u8</td><td>u8</td><td>u8</td><td>str</td><td>datetime[μs]</td><td>str</td><td>str</td><td>datetime[μs]</td><td>str</td><td>datetime[μs]</td><td>datetime[μs]</td><td>i64</td><td>str</td><td>str</td><td>str</td><td>str</td><td>str</td><td>i64</td><td>u8</td><td>u8</td><td>u8</td><td>u8</td><td>u8</td><td>u8</td><td>u8</td><td>u8</td><td>u8</td><td>u8</td><td>u8</td><td>u8</td><td>u8</td><td>u8</td><td>i8</td><td>i8</td><td>i8</td><td>i8</td><td>i8</td><td>i8</td><td>i64</td><td>i64</td><td>i64</td><td>i32</td><td>i8</td><td>i8</td><td>i8</td><td>i8</td><td>i32</td><td>i32</td><td>i32</td><td>i32</td></tr></thead><tbody><tr><td>2024-10-08 11:41:02.385</td><td>2024-10-08 11:41:04.857</td><td>&quot;india&quot;</td><td>0</td><td>0</td><td>0</td><td>0</td><td>0</td><td>0</td><td>0</td><td>0</td><td>0</td><td>0</td><td>0</td><td>0</td><td>1</td><td>null</td><td>2024-10-08 11:41:02.385</td><td>&quot;session_start&quot;</td><td>&quot;amplitude-ts/2.7.2&quot;</td><td>2024-10-08 11:41:05.371</td><td>&quot;maharashtra&quot;</td><td>2024-10-08 11:41:04.857</td><td>2024-10-08 11:41:04.859</td><td>1728387662385</td><td>&quot;8038ea38-8ddf-4a1a-825d-8287c0…</td><td>&quot;underwriter&quot;</td><td>&quot;false&quot;</td><td>&quot;https://accounts.google.com/&quot;</td><td>null</td><td>0</td><td>1</td><td>0</td><td>0</td><td>0</td><td>0</td><td>0</td><td>0</td><td>0</td><td>0</td><td>0</td><td>0</td><td>0</td><td>1</td><td>0</td><td>11</td><td>11</td><td>11</td><td>11</td><td>11</td><td>11</td><td>2</td><td>0</td><td>0</td><td>1</td><td>1</td><td>0</td><td>0</td><td>0</td><td>1</td><td>0</td><td>0</td><td>0</td></tr><tr><td>2024-10-08 11:41:02.386</td><td>2024-10-08 11:41:04.857</td><td>&quot;india&quot;</td><td>0</td><td>0</td><td>0</td><td>0</td><td>0</td><td>0</td><td>0</td><td>0</td><td>0</td><td>0</td><td>0</td><td>0</td><td>1</td><td>null</td><td>2024-10-08 11:41:02.386</td><td>&quot;session_end&quot;</td><td>&quot;amplitude-ts/2.7.2&quot;</td><td>2024-10-08 11:41:05.371</td><td>&quot;maharashtra&quot;</td><td>2024-10-08 11:41:04.857</td><td>2024-10-08 11:41:04.859</td><td>1728387662385</td><td>&quot;8038ea38-8ddf-4a1a-825d-8287c0…</td><td>&quot;underwriter&quot;</td><td>&quot;false&quot;</td><td>&quot;https://accounts.google.com/&quot;</td><td>null</td><td>0</td><td>1</td><td>0</td><td>0</td><td>0</td><td>0</td><td>0</td><td>0</td><td>0</td><td>0</td><td>0</td><td>0</td><td>0</td><td>1</td><td>0</td><td>11</td><td>11</td><td>11</td><td>11</td><td>11</td><td>11</td><td>2</td><td>0</td><td>0</td><td>1</td><td>1</td><td>0</td><td>0</td><td>0</td><td>1</td><td>0</td><td>0</td><td>0</td></tr><tr><td>2024-10-08 11:41:02.386</td><td>2024-10-08 11:41:04.857</td><td>&quot;india&quot;</td><td>0</td><td>0</td><td>0</td><td>0</td><td>0</td><td>0</td><td>0</td><td>0</td><td>0</td><td>0</td><td>0</td><td>0</td><td>1</td><td>null</td><td>2024-10-08 11:41:02.386</td><td>&quot;session_start&quot;</td><td>&quot;amplitude-ts/2.7.2&quot;</td><td>2024-10-08 11:41:05.371</td><td>&quot;maharashtra&quot;</td><td>2024-10-08 11:41:04.857</td><td>2024-10-08 11:41:04.859</td><td>1728387662386</td><td>&quot;8038ea38-8ddf-4a1a-825d-8287c0…</td><td>&quot;underwriter&quot;</td><td>&quot;false&quot;</td><td>&quot;https://accounts.google.com/&quot;</td><td>null</td><td>2455</td><td>1</td><td>0</td><td>0</td><td>0</td><td>0</td><td>0</td><td>0</td><td>0</td><td>0</td><td>0</td><td>0</td><td>0</td><td>1</td><td>0</td><td>11</td><td>11</td><td>11</td><td>11</td><td>11</td><td>11</td><td>2</td><td>0</td><td>0</td><td>1</td><td>1</td><td>0</td><td>0</td><td>0</td><td>1</td><td>0</td><td>0</td><td>0</td></tr><tr><td>2024-10-08 11:41:03.500</td><td>2024-10-08 11:41:04.857</td><td>&quot;india&quot;</td><td>0</td><td>0</td><td>0</td><td>0</td><td>0</td><td>0</td><td>0</td><td>0</td><td>0</td><td>0</td><td>0</td><td>0</td><td>1</td><td>null</td><td>2024-10-08 11:41:03.500</td><td>&quot;:all-accounts:configurable-tab…</td><td>&quot;amplitude-ts/2.7.2&quot;</td><td>2024-10-08 11:41:05.371</td><td>&quot;maharashtra&quot;</td><td>2024-10-08 11:41:04.857</td><td>2024-10-08 11:41:04.859</td><td>1728387662386</td><td>&quot;8038ea38-8ddf-4a1a-825d-8287c0…</td><td>&quot;underwriter&quot;</td><td>&quot;false&quot;</td><td>&quot;https://accounts.google.com/&quot;</td><td>null</td><td>2455</td><td>1</td><td>0</td><td>0</td><td>0</td><td>0</td><td>1</td><td>0</td><td>0</td><td>0</td><td>0</td><td>0</td><td>0</td><td>0</td><td>0</td><td>11</td><td>11</td><td>11</td><td>11</td><td>11</td><td>11</td><td>1</td><td>0</td><td>0</td><td>1</td><td>1</td><td>0</td><td>0</td><td>0</td><td>1</td><td>0</td><td>0</td><td>0</td></tr><tr><td>2024-10-08 11:41:03.527</td><td>2024-10-08 11:41:04.857</td><td>&quot;india&quot;</td><td>0</td><td>0</td><td>0</td><td>0</td><td>0</td><td>0</td><td>0</td><td>0</td><td>0</td><td>0</td><td>0</td><td>0</td><td>1</td><td>null</td><td>2024-10-08 11:41:03.527</td><td>&quot;:all-accounts:widget:render&quot;</td><td>&quot;amplitude-ts/2.7.2&quot;</td><td>2024-10-08 11:41:05.371</td><td>&quot;maharashtra&quot;</td><td>2024-10-08 11:41:04.857</td><td>2024-10-08 11:41:04.859</td><td>1728387662386</td><td>&quot;8038ea38-8ddf-4a1a-825d-8287c0…</td><td>&quot;underwriter&quot;</td><td>&quot;false&quot;</td><td>&quot;https://accounts.google.com/&quot;</td><td>null</td><td>2455</td><td>1</td><td>0</td><td>0</td><td>0</td><td>0</td><td>1</td><td>0</td><td>0</td><td>0</td><td>0</td><td>0</td><td>0</td><td>0</td><td>0</td><td>11</td><td>11</td><td>11</td><td>11</td><td>11</td><td>11</td><td>1</td><td>0</td><td>0</td><td>1</td><td>1</td><td>0</td><td>0</td><td>0</td><td>1</td><td>0</td><td>0</td><td>0</td></tr><tr><td>&hellip;</td><td>&hellip;</td><td>&hellip;</td><td>&hellip;</td><td>&hellip;</td><td>&hellip;</td><td>&hellip;</td><td>&hellip;</td><td>&hellip;</td><td>&hellip;</td><td>&hellip;</td><td>&hellip;</td><td>&hellip;</td><td>&hellip;</td><td>&hellip;</td><td>&hellip;</td><td>&hellip;</td><td>&hellip;</td><td>&hellip;</td><td>&hellip;</td><td>&hellip;</td><td>&hellip;</td><td>&hellip;</td><td>&hellip;</td><td>&hellip;</td><td>&hellip;</td><td>&hellip;</td><td>&hellip;</td><td>&hellip;</td><td>&hellip;</td><td>&hellip;</td><td>&hellip;</td><td>&hellip;</td><td>&hellip;</td><td>&hellip;</td><td>&hellip;</td><td>&hellip;</td><td>&hellip;</td><td>&hellip;</td><td>&hellip;</td><td>&hellip;</td><td>&hellip;</td><td>&hellip;</td><td>&hellip;</td><td>&hellip;</td><td>&hellip;</td><td>&hellip;</td><td>&hellip;</td><td>&hellip;</td><td>&hellip;</td><td>&hellip;</td><td>&hellip;</td><td>&hellip;</td><td>&hellip;</td><td>&hellip;</td><td>&hellip;</td><td>&hellip;</td><td>&hellip;</td><td>&hellip;</td><td>&hellip;</td><td>&hellip;</td><td>&hellip;</td><td>&hellip;</td></tr><tr><td>2024-05-22 09:36:09.888</td><td>2024-05-22 09:36:10.832</td><td>&quot;united states&quot;</td><td>0</td><td>0</td><td>0</td><td>0</td><td>0</td><td>0</td><td>0</td><td>0</td><td>0</td><td>0</td><td>0</td><td>0</td><td>1</td><td>&quot;nashville, tn&quot;</td><td>2024-05-22 09:36:09.888</td><td>&quot;account-lines::widget:render&quot;</td><td>&quot;amplitude-ts/1.8.0&quot;</td><td>2024-05-22 09:36:11.662</td><td>&quot;tennessee&quot;</td><td>2024-05-22 09:36:10.832</td><td>2024-05-22 09:36:10.833</td><td>1716368557821</td><td>&quot;9aecc15d-64a4-4190-80f5-b5b842…</td><td>&quot;underwriter&quot;</td><td>&quot;false&quot;</td><td>null</td><td>&quot;one-drive-link&quot;</td><td>2371</td><td>0</td><td>0</td><td>0</td><td>1</td><td>0</td><td>1</td><td>0</td><td>0</td><td>0</td><td>0</td><td>0</td><td>0</td><td>0</td><td>0</td><td>9</td><td>9</td><td>9</td><td>9</td><td>9</td><td>9</td><td>0</td><td>0</td><td>0</td><td>1</td><td>1</td><td>0</td><td>0</td><td>0</td><td>null</td><td>null</td><td>null</td><td>null</td></tr><tr><td>2024-05-22 09:36:09.917</td><td>2024-05-22 09:36:10.832</td><td>&quot;united states&quot;</td><td>0</td><td>0</td><td>0</td><td>0</td><td>0</td><td>0</td><td>0</td><td>0</td><td>0</td><td>0</td><td>0</td><td>0</td><td>1</td><td>&quot;nashville, tn&quot;</td><td>2024-05-22 09:36:09.917</td><td>&quot;account-lines::configurable-ta…</td><td>&quot;amplitude-ts/1.8.0&quot;</td><td>2024-05-22 09:36:11.662</td><td>&quot;tennessee&quot;</td><td>2024-05-22 09:36:10.832</td><td>2024-05-22 09:36:10.833</td><td>1716368557821</td><td>&quot;9aecc15d-64a4-4190-80f5-b5b842…</td><td>&quot;underwriter&quot;</td><td>&quot;false&quot;</td><td>null</td><td>&quot;property-locations&quot;</td><td>2371</td><td>0</td><td>0</td><td>0</td><td>1</td><td>0</td><td>1</td><td>0</td><td>0</td><td>0</td><td>0</td><td>0</td><td>0</td><td>0</td><td>0</td><td>9</td><td>9</td><td>9</td><td>9</td><td>9</td><td>9</td><td>0</td><td>0</td><td>0</td><td>1</td><td>1</td><td>0</td><td>0</td><td>0</td><td>null</td><td>null</td><td>null</td><td>null</td></tr><tr><td>2024-05-22 09:36:15.727</td><td>2024-05-22 09:36:16.789</td><td>&quot;united states&quot;</td><td>0</td><td>0</td><td>0</td><td>0</td><td>0</td><td>0</td><td>0</td><td>0</td><td>0</td><td>0</td><td>0</td><td>0</td><td>1</td><td>&quot;nashville, tn&quot;</td><td>2024-05-22 09:36:15.727</td><td>&quot;account-lines::widget:render&quot;</td><td>&quot;amplitude-ts/1.8.0&quot;</td><td>2024-05-22 09:36:17.297</td><td>&quot;tennessee&quot;</td><td>2024-05-22 09:36:16.789</td><td>2024-05-22 09:36:16.791</td><td>1716368557821</td><td>&quot;9aecc15d-64a4-4190-80f5-b5b842…</td><td>&quot;underwriter&quot;</td><td>&quot;false&quot;</td><td>null</td><td>&quot;attachments&quot;</td><td>2371</td><td>0</td><td>0</td><td>0</td><td>1</td><td>0</td><td>1</td><td>0</td><td>0</td><td>0</td><td>0</td><td>0</td><td>0</td><td>0</td><td>0</td><td>9</td><td>9</td><td>9</td><td>9</td><td>9</td><td>9</td><td>1</td><td>0</td><td>0</td><td>1</td><td>1</td><td>0</td><td>0</td><td>0</td><td>null</td><td>null</td><td>null</td><td>null</td></tr><tr><td>2024-05-22 09:36:33.812</td><td>2024-05-22 09:36:34.881</td><td>&quot;united states&quot;</td><td>0</td><td>0</td><td>0</td><td>0</td><td>0</td><td>0</td><td>0</td><td>0</td><td>0</td><td>0</td><td>0</td><td>0</td><td>1</td><td>&quot;nashville, tn&quot;</td><td>2024-05-22 09:36:33.812</td><td>&quot;::nav-header:action-center-cli…</td><td>&quot;amplitude-ts/1.8.0&quot;</td><td>2024-05-22 09:36:36.435</td><td>&quot;tennessee&quot;</td><td>2024-05-22 09:36:34.881</td><td>2024-05-22 09:36:34.883</td><td>1716368557821</td><td>&quot;9aecc15d-64a4-4190-80f5-b5b842…</td><td>&quot;underwriter&quot;</td><td>&quot;false&quot;</td><td>null</td><td>null</td><td>2371</td><td>0</td><td>0</td><td>0</td><td>1</td><td>0</td><td>0</td><td>0</td><td>0</td><td>0</td><td>0</td><td>0</td><td>0</td><td>1</td><td>0</td><td>9</td><td>9</td><td>9</td><td>9</td><td>9</td><td>9</td><td>1</td><td>0</td><td>1</td><td>1</td><td>1</td><td>0</td><td>0</td><td>0</td><td>null</td><td>null</td><td>null</td><td>null</td></tr><tr><td>2024-05-22 09:36:33.815</td><td>2024-05-22 09:36:34.881</td><td>&quot;united states&quot;</td><td>0</td><td>0</td><td>0</td><td>0</td><td>0</td><td>0</td><td>0</td><td>0</td><td>0</td><td>0</td><td>0</td><td>0</td><td>1</td><td>&quot;nashville, tn&quot;</td><td>2024-05-22 09:36:33.815</td><td>&quot;action-center:::view&quot;</td><td>&quot;amplitude-ts/1.8.0&quot;</td><td>2024-05-22 09:36:36.435</td><td>&quot;tennessee&quot;</td><td>2024-05-22 09:36:34.881</td><td>2024-05-22 09:36:34.883</td><td>1716368557821</td><td>&quot;9aecc15d-64a4-4190-80f5-b5b842…</td><td>&quot;underwriter&quot;</td><td>&quot;false&quot;</td><td>null</td><td>null</td><td>2371</td><td>0</td><td>0</td><td>0</td><td>1</td><td>0</td><td>0</td><td>1</td><td>0</td><td>0</td><td>0</td><td>0</td><td>0</td><td>0</td><td>0</td><td>9</td><td>9</td><td>9</td><td>9</td><td>9</td><td>9</td><td>1</td><td>0</td><td>1</td><td>1</td><td>1</td><td>0</td><td>0</td><td>0</td><td>null</td><td>null</td><td>null</td><td>null</td></tr></tbody></table></div>"
      ],
      "text/plain": [
       "shape: (14_239_968, 63)\n",
       "┌────────────┬────────────┬────────────┬───────────┬───┬────────┬──────────┬───────────┬───────────┐\n",
       "│ client_eve ┆ client_upl ┆ country    ┆ device_fa ┆ … ┆ google ┆ federato ┆ uw-portal ┆ microsoft │\n",
       "│ nt_time    ┆ oad_time   ┆ ---        ┆ mily_andr ┆   ┆ ---    ┆ ---      ┆ ---       ┆ ---       │\n",
       "│ ---        ┆ ---        ┆ str        ┆ oid       ┆   ┆ i32    ┆ i32      ┆ i32       ┆ i32       │\n",
       "│ datetime[μ ┆ datetime[μ ┆            ┆ ---       ┆   ┆        ┆          ┆           ┆           │\n",
       "│ s]         ┆ s]         ┆            ┆ u8        ┆   ┆        ┆          ┆           ┆           │\n",
       "╞════════════╪════════════╪════════════╪═══════════╪═══╪════════╪══════════╪═══════════╪═══════════╡\n",
       "│ 2024-10-08 ┆ 2024-10-08 ┆ india      ┆ 0         ┆ … ┆ 1      ┆ 0        ┆ 0         ┆ 0         │\n",
       "│ 11:41:02.3 ┆ 11:41:04.8 ┆            ┆           ┆   ┆        ┆          ┆           ┆           │\n",
       "│ 85         ┆ 57         ┆            ┆           ┆   ┆        ┆          ┆           ┆           │\n",
       "│ 2024-10-08 ┆ 2024-10-08 ┆ india      ┆ 0         ┆ … ┆ 1      ┆ 0        ┆ 0         ┆ 0         │\n",
       "│ 11:41:02.3 ┆ 11:41:04.8 ┆            ┆           ┆   ┆        ┆          ┆           ┆           │\n",
       "│ 86         ┆ 57         ┆            ┆           ┆   ┆        ┆          ┆           ┆           │\n",
       "│ 2024-10-08 ┆ 2024-10-08 ┆ india      ┆ 0         ┆ … ┆ 1      ┆ 0        ┆ 0         ┆ 0         │\n",
       "│ 11:41:02.3 ┆ 11:41:04.8 ┆            ┆           ┆   ┆        ┆          ┆           ┆           │\n",
       "│ 86         ┆ 57         ┆            ┆           ┆   ┆        ┆          ┆           ┆           │\n",
       "│ 2024-10-08 ┆ 2024-10-08 ┆ india      ┆ 0         ┆ … ┆ 1      ┆ 0        ┆ 0         ┆ 0         │\n",
       "│ 11:41:03.5 ┆ 11:41:04.8 ┆            ┆           ┆   ┆        ┆          ┆           ┆           │\n",
       "│ 00         ┆ 57         ┆            ┆           ┆   ┆        ┆          ┆           ┆           │\n",
       "│ 2024-10-08 ┆ 2024-10-08 ┆ india      ┆ 0         ┆ … ┆ 1      ┆ 0        ┆ 0         ┆ 0         │\n",
       "│ 11:41:03.5 ┆ 11:41:04.8 ┆            ┆           ┆   ┆        ┆          ┆           ┆           │\n",
       "│ 27         ┆ 57         ┆            ┆           ┆   ┆        ┆          ┆           ┆           │\n",
       "│ …          ┆ …          ┆ …          ┆ …         ┆ … ┆ …      ┆ …        ┆ …         ┆ …         │\n",
       "│ 2024-05-22 ┆ 2024-05-22 ┆ united     ┆ 0         ┆ … ┆ null   ┆ null     ┆ null      ┆ null      │\n",
       "│ 09:36:09.8 ┆ 09:36:10.8 ┆ states     ┆           ┆   ┆        ┆          ┆           ┆           │\n",
       "│ 88         ┆ 32         ┆            ┆           ┆   ┆        ┆          ┆           ┆           │\n",
       "│ 2024-05-22 ┆ 2024-05-22 ┆ united     ┆ 0         ┆ … ┆ null   ┆ null     ┆ null      ┆ null      │\n",
       "│ 09:36:09.9 ┆ 09:36:10.8 ┆ states     ┆           ┆   ┆        ┆          ┆           ┆           │\n",
       "│ 17         ┆ 32         ┆            ┆           ┆   ┆        ┆          ┆           ┆           │\n",
       "│ 2024-05-22 ┆ 2024-05-22 ┆ united     ┆ 0         ┆ … ┆ null   ┆ null     ┆ null      ┆ null      │\n",
       "│ 09:36:15.7 ┆ 09:36:16.7 ┆ states     ┆           ┆   ┆        ┆          ┆           ┆           │\n",
       "│ 27         ┆ 89         ┆            ┆           ┆   ┆        ┆          ┆           ┆           │\n",
       "│ 2024-05-22 ┆ 2024-05-22 ┆ united     ┆ 0         ┆ … ┆ null   ┆ null     ┆ null      ┆ null      │\n",
       "│ 09:36:33.8 ┆ 09:36:34.8 ┆ states     ┆           ┆   ┆        ┆          ┆           ┆           │\n",
       "│ 12         ┆ 81         ┆            ┆           ┆   ┆        ┆          ┆           ┆           │\n",
       "│ 2024-05-22 ┆ 2024-05-22 ┆ united     ┆ 0         ┆ … ┆ null   ┆ null     ┆ null      ┆ null      │\n",
       "│ 09:36:33.8 ┆ 09:36:34.8 ┆ states     ┆           ┆   ┆        ┆          ┆           ┆           │\n",
       "│ 15         ┆ 81         ┆            ┆           ┆   ┆        ┆          ┆           ┆           │\n",
       "└────────────┴────────────┴────────────┴───────────┴───┴────────┴──────────┴───────────┴───────────┘"
      ]
     },
     "execution_count": 24,
     "metadata": {},
     "output_type": "execute_result"
    }
   ],
   "source": [
    "df = encode_categorical(df, config)\n",
    "df"
   ]
  },
  {
   "cell_type": "markdown",
   "metadata": {},
   "source": [
    "### Extract Aggregated Columns"
   ]
  },
  {
   "cell_type": "code",
   "execution_count": 25,
   "metadata": {},
   "outputs": [],
   "source": [
    "# Get columns\n",
    "time_cols = ['client_upload_time', 'server_received_time', 'processed_time', 'server_upload_time', 'client_event_time', 'event_time']\n",
    "\n",
    "one_hot_cols = [col for col in df.columns if set(df[col].drop_nulls().to_list()) <= {0, 1}]\n",
    "\n",
    "numeric_cols = df.select(cs.numeric().exclude(one_hot_cols + ['session_id'])).columns"
   ]
  },
  {
   "cell_type": "code",
   "execution_count": 26,
   "metadata": {},
   "outputs": [],
   "source": [
    "# Define aggregation scheme\n",
    "agg_scheme = []\n",
    "\n",
    "# For user_id, take the first session, assuming 1 user per session\n",
    "agg_scheme.append(pl.first('user_id').name.suffix('_first'))\n",
    "\n",
    "# Get max for all time columns\n",
    "agg_scheme.extend([pl.max(time_col).name.suffix('_max') for time_col in time_cols])\n",
    "\n",
    "# Get max for all one-hot cols, that is, keep 1 when we see it\n",
    "agg_scheme.extend([pl.max(c).name.suffix('_max') for c in one_hot_cols])\n",
    "\n",
    "# Use mean for other numeric columns\n",
    "agg_scheme.extend([pl.mean(c).name.suffix('_mean') for c in numeric_cols])"
   ]
  },
  {
   "cell_type": "code",
   "execution_count": 27,
   "metadata": {},
   "outputs": [
    {
     "data": {
      "text/html": [
       "<div><style>\n",
       ".dataframe > thead > tr,\n",
       ".dataframe > tbody > tr {\n",
       "  text-align: right;\n",
       "  white-space: pre-wrap;\n",
       "}\n",
       "</style>\n",
       "<small>shape: (554_760, 54)</small><table border=\"1\" class=\"dataframe\"><thead><tr><th>session_id</th><th>user_id_first</th><th>client_upload_time_max</th><th>server_received_time_max</th><th>processed_time_max</th><th>server_upload_time_max</th><th>client_event_time_max</th><th>event_time_max</th><th>device_family_android_max</th><th>device_family_apple ipad_max</th><th>device_family_apple iphone_max</th><th>device_family_chrome os_max</th><th>device_family_chromium os_max</th><th>device_family_google nexus phone_max</th><th>device_family_ios_max</th><th>device_family_k_max</th><th>device_family_linux_max</th><th>device_family_mac_max</th><th>device_family_mac os x_max</th><th>device_family_ubuntu_max</th><th>device_family_windows_max</th><th>region_grouped_international_max</th><th>region_grouped_midwest_max</th><th>region_grouped_northeast_max</th><th>region_grouped_south_max</th><th>region_grouped_west_max</th><th>event_category_account &amp; policy management_max</th><th>event_category_action center &amp; workflow_max</th><th>event_category_dashboard &amp; ui interactions_max</th><th>event_category_document &amp; report interactions_max</th><th>event_category_filtering &amp; searching_max</th><th>event_category_null_max</th><th>event_category_other/system events_max</th><th>event_category_session &amp; navigation_max</th><th>event_category_submission &amp; forms_max</th><th>returned_within_7_days_max</th><th>uw_max</th><th>admin_max</th><th>manager_max</th><th>broker_max</th><th>google_max</th><th>federato_max</th><th>uw-portal_max</th><th>microsoft_max</th><th>session_seconds_mean</th><th>client_event_hour_mean</th><th>client_upload_hour_mean</th><th>event_hour_mean</th><th>processed_hour_mean</th><th>server_received_hour_mean</th><th>server_upload_hour_mean</th><th>time_to_server_mean</th><th>server_to_process_mean</th><th>processing_time_mean</th></tr><tr><td>i64</td><td>str</td><td>datetime[μs]</td><td>datetime[μs]</td><td>datetime[μs]</td><td>datetime[μs]</td><td>datetime[μs]</td><td>datetime[μs]</td><td>u8</td><td>u8</td><td>u8</td><td>u8</td><td>u8</td><td>u8</td><td>u8</td><td>u8</td><td>u8</td><td>u8</td><td>u8</td><td>u8</td><td>u8</td><td>u8</td><td>u8</td><td>u8</td><td>u8</td><td>u8</td><td>u8</td><td>u8</td><td>u8</td><td>u8</td><td>u8</td><td>u8</td><td>u8</td><td>u8</td><td>u8</td><td>i32</td><td>i8</td><td>i8</td><td>i8</td><td>i8</td><td>i32</td><td>i32</td><td>i32</td><td>i32</td><td>f64</td><td>f64</td><td>f64</td><td>f64</td><td>f64</td><td>f64</td><td>f64</td><td>f64</td><td>f64</td><td>f64</td></tr></thead><tbody><tr><td>1716488838546</td><td>&quot;dfea5c63-3d60-4e49-b269-5d90dd…</td><td>2024-05-23 18:27:39.568</td><td>2024-05-23 18:27:39.568</td><td>2024-05-23 18:27:40.461</td><td>2024-05-23 18:27:39.570</td><td>2024-05-23 18:27:39.444</td><td>2024-05-23 18:27:39.444</td><td>0</td><td>0</td><td>0</td><td>0</td><td>0</td><td>0</td><td>0</td><td>0</td><td>0</td><td>0</td><td>0</td><td>0</td><td>1</td><td>0</td><td>0</td><td>0</td><td>1</td><td>0</td><td>1</td><td>1</td><td>0</td><td>0</td><td>0</td><td>0</td><td>0</td><td>1</td><td>0</td><td>1</td><td>1</td><td>0</td><td>0</td><td>0</td><td>null</td><td>null</td><td>null</td><td>null</td><td>20.0</td><td>18.0</td><td>18.0</td><td>18.0</td><td>18.0</td><td>18.0</td><td>18.0</td><td>0.038462</td><td>0.0</td><td>0.423077</td></tr><tr><td>1707386511876</td><td>&quot;1b992a40-b2c3-4b69-a5bc-05711e…</td><td>2024-03-27 04:17:12.827</td><td>2024-03-27 04:17:12.827</td><td>2024-03-27 04:17:13.411</td><td>2024-03-27 04:17:12.830</td><td>2024-02-08 10:02:12.300</td><td>2024-02-08 10:02:12.300</td><td>0</td><td>0</td><td>0</td><td>0</td><td>0</td><td>0</td><td>0</td><td>0</td><td>1</td><td>0</td><td>0</td><td>0</td><td>0</td><td>0</td><td>0</td><td>0</td><td>0</td><td>1</td><td>0</td><td>0</td><td>0</td><td>0</td><td>0</td><td>0</td><td>0</td><td>1</td><td>0</td><td>1</td><td>1</td><td>0</td><td>0</td><td>0</td><td>0</td><td>0</td><td>0</td><td>0</td><td>1.0</td><td>10.0</td><td>4.0</td><td>10.0</td><td>4.0</td><td>4.0</td><td>4.0</td><td>4126500.5</td><td>0.0</td><td>0.0</td></tr><tr><td>1712855202998</td><td>&quot;0f451bcd-8a3c-4105-8199-167d1c…</td><td>2024-04-23 21:43:15.674</td><td>2024-04-23 21:43:15.674</td><td>2024-04-23 21:43:16.123</td><td>2024-04-23 21:43:15.677</td><td>2024-04-11 17:07:08.352</td><td>2024-04-11 17:07:08.352</td><td>0</td><td>0</td><td>0</td><td>0</td><td>0</td><td>0</td><td>0</td><td>0</td><td>0</td><td>0</td><td>0</td><td>0</td><td>1</td><td>0</td><td>0</td><td>0</td><td>1</td><td>0</td><td>1</td><td>0</td><td>0</td><td>0</td><td>0</td><td>0</td><td>0</td><td>0</td><td>0</td><td>1</td><td>1</td><td>0</td><td>0</td><td>0</td><td>null</td><td>null</td><td>null</td><td>null</td><td>25.0</td><td>17.0</td><td>21.0</td><td>17.0</td><td>21.0</td><td>21.0</td><td>21.0</td><td>1.0534e6</td><td>0.0</td><td>0.0</td></tr><tr><td>1735584681842</td><td>&quot;bb8fa1af-a540-4d0f-a633-569c61…</td><td>2024-12-30 18:51:25.637</td><td>2024-12-30 18:51:25.637</td><td>2024-12-30 18:51:27.436</td><td>2024-12-30 18:51:25.639</td><td>2024-12-30 18:51:21.843</td><td>2024-12-30 18:51:21.843</td><td>0</td><td>0</td><td>0</td><td>0</td><td>0</td><td>0</td><td>0</td><td>0</td><td>0</td><td>0</td><td>0</td><td>0</td><td>1</td><td>0</td><td>0</td><td>0</td><td>1</td><td>0</td><td>0</td><td>0</td><td>0</td><td>0</td><td>0</td><td>0</td><td>0</td><td>1</td><td>0</td><td>1</td><td>0</td><td>1</td><td>1</td><td>0</td><td>null</td><td>null</td><td>null</td><td>null</td><td>0.0</td><td>18.0</td><td>18.0</td><td>18.0</td><td>18.0</td><td>18.0</td><td>18.0</td><td>3.0</td><td>0.0</td><td>1.0</td></tr><tr><td>1698679940389</td><td>&quot;afe99d2f-4fce-4584-a360-967b87…</td><td>2024-03-24 19:59:10.473</td><td>2024-03-24 19:59:10.473</td><td>2024-03-24 19:59:11.142</td><td>2024-03-24 19:59:10.476</td><td>2023-10-30 15:32:43.509</td><td>2023-10-30 15:32:43.509</td><td>0</td><td>0</td><td>0</td><td>0</td><td>0</td><td>0</td><td>0</td><td>0</td><td>1</td><td>0</td><td>0</td><td>0</td><td>0</td><td>0</td><td>0</td><td>0</td><td>0</td><td>1</td><td>0</td><td>0</td><td>0</td><td>0</td><td>0</td><td>0</td><td>0</td><td>1</td><td>0</td><td>1</td><td>1</td><td>0</td><td>0</td><td>0</td><td>0</td><td>0</td><td>0</td><td>0</td><td>0.0</td><td>15.0</td><td>19.0</td><td>15.0</td><td>19.0</td><td>19.0</td><td>19.0</td><td>1.2630e7</td><td>0.0</td><td>0.5</td></tr><tr><td>&hellip;</td><td>&hellip;</td><td>&hellip;</td><td>&hellip;</td><td>&hellip;</td><td>&hellip;</td><td>&hellip;</td><td>&hellip;</td><td>&hellip;</td><td>&hellip;</td><td>&hellip;</td><td>&hellip;</td><td>&hellip;</td><td>&hellip;</td><td>&hellip;</td><td>&hellip;</td><td>&hellip;</td><td>&hellip;</td><td>&hellip;</td><td>&hellip;</td><td>&hellip;</td><td>&hellip;</td><td>&hellip;</td><td>&hellip;</td><td>&hellip;</td><td>&hellip;</td><td>&hellip;</td><td>&hellip;</td><td>&hellip;</td><td>&hellip;</td><td>&hellip;</td><td>&hellip;</td><td>&hellip;</td><td>&hellip;</td><td>&hellip;</td><td>&hellip;</td><td>&hellip;</td><td>&hellip;</td><td>&hellip;</td><td>&hellip;</td><td>&hellip;</td><td>&hellip;</td><td>&hellip;</td><td>&hellip;</td><td>&hellip;</td><td>&hellip;</td><td>&hellip;</td><td>&hellip;</td><td>&hellip;</td><td>&hellip;</td><td>&hellip;</td><td>&hellip;</td><td>&hellip;</td><td>&hellip;</td></tr><tr><td>1721937366769</td><td>&quot;09302153-4616-4495-b099-625ce2…</td><td>2024-07-25 19:56:08.324</td><td>2024-07-25 19:56:08.324</td><td>2024-07-25 19:56:35.447</td><td>2024-07-25 19:56:08.326</td><td>2024-07-25 19:56:06.770</td><td>2024-07-25 19:56:06.770</td><td>0</td><td>0</td><td>0</td><td>0</td><td>0</td><td>0</td><td>0</td><td>0</td><td>0</td><td>0</td><td>1</td><td>0</td><td>0</td><td>0</td><td>0</td><td>0</td><td>1</td><td>0</td><td>0</td><td>0</td><td>0</td><td>0</td><td>0</td><td>0</td><td>0</td><td>1</td><td>0</td><td>1</td><td>1</td><td>0</td><td>1</td><td>0</td><td>null</td><td>null</td><td>null</td><td>null</td><td>0.0</td><td>19.0</td><td>19.0</td><td>19.0</td><td>19.0</td><td>19.0</td><td>19.0</td><td>1.0</td><td>0.0</td><td>27.0</td></tr><tr><td>1726550812012</td><td>&quot;42f94b4f-30f0-409c-90b8-e1d934…</td><td>2024-09-17 09:46:18.183</td><td>2024-09-17 09:46:18.183</td><td>2024-09-17 09:46:19.928</td><td>2024-09-17 09:46:18.187</td><td>2024-09-17 09:13:53.800</td><td>2024-09-17 09:13:53.800</td><td>0</td><td>0</td><td>0</td><td>0</td><td>0</td><td>0</td><td>0</td><td>0</td><td>0</td><td>0</td><td>0</td><td>0</td><td>1</td><td>0</td><td>0</td><td>0</td><td>1</td><td>0</td><td>1</td><td>1</td><td>0</td><td>0</td><td>0</td><td>0</td><td>0</td><td>1</td><td>0</td><td>1</td><td>1</td><td>0</td><td>0</td><td>0</td><td>null</td><td>null</td><td>null</td><td>null</td><td>13621.0</td><td>6.333333</td><td>6.333333</td><td>6.333333</td><td>6.333333</td><td>6.333333</td><td>6.333333</td><td>14.513889</td><td>0.0</td><td>1.333333</td></tr><tr><td>1697066066287</td><td>&quot;23073a79-d4e5-48db-853d-b74566…</td><td>2024-03-23 17:56:27.088</td><td>2024-03-23 17:56:27.088</td><td>2024-03-23 17:56:29.254</td><td>2024-03-23 17:56:27.091</td><td>2023-10-11 23:14:26.278</td><td>2023-10-11 23:14:26.278</td><td>0</td><td>0</td><td>0</td><td>0</td><td>0</td><td>0</td><td>0</td><td>0</td><td>0</td><td>0</td><td>0</td><td>0</td><td>1</td><td>0</td><td>0</td><td>0</td><td>1</td><td>0</td><td>0</td><td>0</td><td>0</td><td>0</td><td>0</td><td>0</td><td>0</td><td>1</td><td>0</td><td>1</td><td>1</td><td>0</td><td>0</td><td>0</td><td>null</td><td>null</td><td>null</td><td>null</td><td>0.0</td><td>23.0</td><td>17.0</td><td>23.0</td><td>17.0</td><td>17.0</td><td>17.0</td><td>1.415052e7</td><td>0.0</td><td>2.0</td></tr><tr><td>1731596923633</td><td>&quot;3a7c18a9-5548-4e43-8474-5c4e64…</td><td>2024-11-14 15:08:45.605</td><td>2024-11-14 15:08:45.605</td><td>2024-11-14 15:08:46.583</td><td>2024-11-14 15:08:45.608</td><td>2024-11-14 15:08:43.634</td><td>2024-11-14 15:08:43.634</td><td>0</td><td>0</td><td>0</td><td>0</td><td>0</td><td>0</td><td>0</td><td>0</td><td>0</td><td>0</td><td>0</td><td>0</td><td>1</td><td>0</td><td>1</td><td>0</td><td>0</td><td>0</td><td>0</td><td>0</td><td>0</td><td>0</td><td>0</td><td>0</td><td>0</td><td>1</td><td>0</td><td>1</td><td>1</td><td>0</td><td>0</td><td>0</td><td>0</td><td>0</td><td>0</td><td>1</td><td>0.0</td><td>15.0</td><td>15.0</td><td>15.0</td><td>15.0</td><td>15.0</td><td>15.0</td><td>1.0</td><td>0.0</td><td>0.0</td></tr><tr><td>1704807992721</td><td>&quot;f9347de9-4f2d-4a0a-9331-6dd06f…</td><td>2024-03-25 21:13:57.514</td><td>2024-03-25 21:13:57.514</td><td>2024-03-25 21:13:59.558</td><td>2024-03-25 21:13:57.519</td><td>2024-01-09 15:05:53.861</td><td>2024-01-09 15:05:53.861</td><td>0</td><td>0</td><td>0</td><td>0</td><td>0</td><td>0</td><td>0</td><td>0</td><td>0</td><td>0</td><td>0</td><td>0</td><td>1</td><td>1</td><td>0</td><td>0</td><td>0</td><td>0</td><td>1</td><td>0</td><td>0</td><td>0</td><td>0</td><td>0</td><td>0</td><td>1</td><td>0</td><td>1</td><td>1</td><td>0</td><td>0</td><td>0</td><td>null</td><td>null</td><td>null</td><td>null</td><td>4760.0</td><td>13.833333</td><td>21.0</td><td>13.833333</td><td>21.0</td><td>21.0</td><td>21.0</td><td>6.5912e6</td><td>0.0</td><td>1.458333</td></tr></tbody></table></div>"
      ],
      "text/plain": [
       "shape: (554_760, 54)\n",
       "┌───────────┬───────────┬───────────┬───────────┬───┬───────────┬───────────┬───────────┬──────────┐\n",
       "│ session_i ┆ user_id_f ┆ client_up ┆ server_re ┆ … ┆ server_up ┆ time_to_s ┆ server_to ┆ processi │\n",
       "│ d         ┆ irst      ┆ load_time ┆ ceived_ti ┆   ┆ load_hour ┆ erver_mea ┆ _process_ ┆ ng_time_ │\n",
       "│ ---       ┆ ---       ┆ _max      ┆ me_max    ┆   ┆ _mean     ┆ n         ┆ mean      ┆ mean     │\n",
       "│ i64       ┆ str       ┆ ---       ┆ ---       ┆   ┆ ---       ┆ ---       ┆ ---       ┆ ---      │\n",
       "│           ┆           ┆ datetime[ ┆ datetime[ ┆   ┆ f64       ┆ f64       ┆ f64       ┆ f64      │\n",
       "│           ┆           ┆ μs]       ┆ μs]       ┆   ┆           ┆           ┆           ┆          │\n",
       "╞═══════════╪═══════════╪═══════════╪═══════════╪═══╪═══════════╪═══════════╪═══════════╪══════════╡\n",
       "│ 171648883 ┆ dfea5c63- ┆ 2024-05-2 ┆ 2024-05-2 ┆ … ┆ 18.0      ┆ 0.038462  ┆ 0.0       ┆ 0.423077 │\n",
       "│ 8546      ┆ 3d60-4e49 ┆ 3 18:27:3 ┆ 3 18:27:3 ┆   ┆           ┆           ┆           ┆          │\n",
       "│           ┆ -b269-5d9 ┆ 9.568     ┆ 9.568     ┆   ┆           ┆           ┆           ┆          │\n",
       "│           ┆ 0dd…      ┆           ┆           ┆   ┆           ┆           ┆           ┆          │\n",
       "│ 170738651 ┆ 1b992a40- ┆ 2024-03-2 ┆ 2024-03-2 ┆ … ┆ 4.0       ┆ 4126500.5 ┆ 0.0       ┆ 0.0      │\n",
       "│ 1876      ┆ b2c3-4b69 ┆ 7 04:17:1 ┆ 7 04:17:1 ┆   ┆           ┆           ┆           ┆          │\n",
       "│           ┆ -a5bc-057 ┆ 2.827     ┆ 2.827     ┆   ┆           ┆           ┆           ┆          │\n",
       "│           ┆ 11e…      ┆           ┆           ┆   ┆           ┆           ┆           ┆          │\n",
       "│ 171285520 ┆ 0f451bcd- ┆ 2024-04-2 ┆ 2024-04-2 ┆ … ┆ 21.0      ┆ 1.0534e6  ┆ 0.0       ┆ 0.0      │\n",
       "│ 2998      ┆ 8a3c-4105 ┆ 3 21:43:1 ┆ 3 21:43:1 ┆   ┆           ┆           ┆           ┆          │\n",
       "│           ┆ -8199-167 ┆ 5.674     ┆ 5.674     ┆   ┆           ┆           ┆           ┆          │\n",
       "│           ┆ d1c…      ┆           ┆           ┆   ┆           ┆           ┆           ┆          │\n",
       "│ 173558468 ┆ bb8fa1af- ┆ 2024-12-3 ┆ 2024-12-3 ┆ … ┆ 18.0      ┆ 3.0       ┆ 0.0       ┆ 1.0      │\n",
       "│ 1842      ┆ a540-4d0f ┆ 0 18:51:2 ┆ 0 18:51:2 ┆   ┆           ┆           ┆           ┆          │\n",
       "│           ┆ -a633-569 ┆ 5.637     ┆ 5.637     ┆   ┆           ┆           ┆           ┆          │\n",
       "│           ┆ c61…      ┆           ┆           ┆   ┆           ┆           ┆           ┆          │\n",
       "│ 169867994 ┆ afe99d2f- ┆ 2024-03-2 ┆ 2024-03-2 ┆ … ┆ 19.0      ┆ 1.2630e7  ┆ 0.0       ┆ 0.5      │\n",
       "│ 0389      ┆ 4fce-4584 ┆ 4 19:59:1 ┆ 4 19:59:1 ┆   ┆           ┆           ┆           ┆          │\n",
       "│           ┆ -a360-967 ┆ 0.473     ┆ 0.473     ┆   ┆           ┆           ┆           ┆          │\n",
       "│           ┆ b87…      ┆           ┆           ┆   ┆           ┆           ┆           ┆          │\n",
       "│ …         ┆ …         ┆ …         ┆ …         ┆ … ┆ …         ┆ …         ┆ …         ┆ …        │\n",
       "│ 172193736 ┆ 09302153- ┆ 2024-07-2 ┆ 2024-07-2 ┆ … ┆ 19.0      ┆ 1.0       ┆ 0.0       ┆ 27.0     │\n",
       "│ 6769      ┆ 4616-4495 ┆ 5 19:56:0 ┆ 5 19:56:0 ┆   ┆           ┆           ┆           ┆          │\n",
       "│           ┆ -b099-625 ┆ 8.324     ┆ 8.324     ┆   ┆           ┆           ┆           ┆          │\n",
       "│           ┆ ce2…      ┆           ┆           ┆   ┆           ┆           ┆           ┆          │\n",
       "│ 172655081 ┆ 42f94b4f- ┆ 2024-09-1 ┆ 2024-09-1 ┆ … ┆ 6.333333  ┆ 14.513889 ┆ 0.0       ┆ 1.333333 │\n",
       "│ 2012      ┆ 30f0-409c ┆ 7 09:46:1 ┆ 7 09:46:1 ┆   ┆           ┆           ┆           ┆          │\n",
       "│           ┆ -90b8-e1d ┆ 8.183     ┆ 8.183     ┆   ┆           ┆           ┆           ┆          │\n",
       "│           ┆ 934…      ┆           ┆           ┆   ┆           ┆           ┆           ┆          │\n",
       "│ 169706606 ┆ 23073a79- ┆ 2024-03-2 ┆ 2024-03-2 ┆ … ┆ 17.0      ┆ 1.415052e ┆ 0.0       ┆ 2.0      │\n",
       "│ 6287      ┆ d4e5-48db ┆ 3 17:56:2 ┆ 3 17:56:2 ┆   ┆           ┆ 7         ┆           ┆          │\n",
       "│           ┆ -853d-b74 ┆ 7.088     ┆ 7.088     ┆   ┆           ┆           ┆           ┆          │\n",
       "│           ┆ 566…      ┆           ┆           ┆   ┆           ┆           ┆           ┆          │\n",
       "│ 173159692 ┆ 3a7c18a9- ┆ 2024-11-1 ┆ 2024-11-1 ┆ … ┆ 15.0      ┆ 1.0       ┆ 0.0       ┆ 0.0      │\n",
       "│ 3633      ┆ 5548-4e43 ┆ 4 15:08:4 ┆ 4 15:08:4 ┆   ┆           ┆           ┆           ┆          │\n",
       "│           ┆ -8474-5c4 ┆ 5.605     ┆ 5.605     ┆   ┆           ┆           ┆           ┆          │\n",
       "│           ┆ e64…      ┆           ┆           ┆   ┆           ┆           ┆           ┆          │\n",
       "│ 170480799 ┆ f9347de9- ┆ 2024-03-2 ┆ 2024-03-2 ┆ … ┆ 21.0      ┆ 6.5912e6  ┆ 0.0       ┆ 1.458333 │\n",
       "│ 2721      ┆ 4f2d-4a0a ┆ 5 21:13:5 ┆ 5 21:13:5 ┆   ┆           ┆           ┆           ┆          │\n",
       "│           ┆ -9331-6dd ┆ 7.514     ┆ 7.514     ┆   ┆           ┆           ┆           ┆          │\n",
       "│           ┆ 06f…      ┆           ┆           ┆   ┆           ┆           ┆           ┆          │\n",
       "└───────────┴───────────┴───────────┴───────────┴───┴───────────┴───────────┴───────────┴──────────┘"
      ]
     },
     "execution_count": 27,
     "metadata": {},
     "output_type": "execute_result"
    }
   ],
   "source": [
    "# Aggregate data\n",
    "df_session = df.group_by('session_id').agg(agg_scheme)\n",
    "df_session"
   ]
  },
  {
   "cell_type": "markdown",
   "metadata": {},
   "source": [
    "### Drop Remaining Columns"
   ]
  },
  {
   "cell_type": "code",
   "execution_count": 28,
   "metadata": {},
   "outputs": [],
   "source": [
    "now = set(df_session.columns)\n",
    "validate = ['session_id', 'user_id_first', 'returned_within_7_days_max', 'uw_max',\n",
    "       'admin_max', 'manager_max', 'broker_max', 'google_max', 'microsoft_max',\n",
    "       'device_family_Linux_max', 'device_family_Mac OS X_max',\n",
    "       'device_family_Windows_max',\n",
    "       'event_category_Account & Policy Management_max',\n",
    "       'event_category_Action Center & Workflow_max',\n",
    "       'event_category_Dashboard & UI Interactions_max',\n",
    "       'event_category_Other/System Events_max',\n",
    "       'event_category_Session & Navigation_max',\n",
    "       'event_category_Submission & Forms_max',\n",
    "       'region_grouped_International_max', 'region_grouped_Midwest_max',\n",
    "       'region_grouped_Northeast_max', 'region_grouped_South_max',\n",
    "       'region_grouped_West_max', 'client_event_hour_mean',\n",
    "       'client_upload_hour_mean', 'event_hour_mean',\n",
    "       'processing_time_mean', 'server_received_hour_mean',\n",
    "       'server_to_process_mean', 'server_upload_hour_mean',\n",
    "       'session_seconds_mean', 'time_to_server_mean']\n",
    "\n",
    "validate = set([string.lower() for string in validate])\n"
   ]
  },
  {
   "cell_type": "code",
   "execution_count": 32,
   "metadata": {},
   "outputs": [
    {
     "data": {
      "text/html": [
       "<div><style>\n",
       ".dataframe > thead > tr,\n",
       ".dataframe > tbody > tr {\n",
       "  text-align: right;\n",
       "  white-space: pre-wrap;\n",
       "}\n",
       "</style>\n",
       "<small>shape: (554_760, 35)</small><table border=\"1\" class=\"dataframe\"><thead><tr><th>session_id</th><th>user_id_first</th><th>device_family_linux_max</th><th>device_family_mac os x_max</th><th>device_family_windows_max</th><th>region_grouped_international_max</th><th>region_grouped_midwest_max</th><th>region_grouped_northeast_max</th><th>region_grouped_south_max</th><th>region_grouped_west_max</th><th>event_category_account &amp; policy management_max</th><th>event_category_action center &amp; workflow_max</th><th>event_category_dashboard &amp; ui interactions_max</th><th>event_category_document &amp; report interactions_max</th><th>event_category_filtering &amp; searching_max</th><th>event_category_null_max</th><th>event_category_other/system events_max</th><th>event_category_session &amp; navigation_max</th><th>event_category_submission &amp; forms_max</th><th>returned_within_7_days_max</th><th>uw_max</th><th>admin_max</th><th>manager_max</th><th>broker_max</th><th>google_max</th><th>microsoft_max</th><th>session_seconds_mean</th><th>client_event_hour_mean</th><th>client_upload_hour_mean</th><th>event_hour_mean</th><th>server_received_hour_mean</th><th>server_upload_hour_mean</th><th>time_to_server_mean</th><th>server_to_process_mean</th><th>processing_time_mean</th></tr><tr><td>i64</td><td>str</td><td>u8</td><td>u8</td><td>u8</td><td>u8</td><td>u8</td><td>u8</td><td>u8</td><td>u8</td><td>u8</td><td>u8</td><td>u8</td><td>u8</td><td>u8</td><td>u8</td><td>u8</td><td>u8</td><td>u8</td><td>i32</td><td>i8</td><td>i8</td><td>i8</td><td>i8</td><td>i32</td><td>i32</td><td>f64</td><td>f64</td><td>f64</td><td>f64</td><td>f64</td><td>f64</td><td>f64</td><td>f64</td><td>f64</td></tr></thead><tbody><tr><td>1716488838546</td><td>&quot;dfea5c63-3d60-4e49-b269-5d90dd…</td><td>0</td><td>0</td><td>1</td><td>0</td><td>0</td><td>0</td><td>1</td><td>0</td><td>1</td><td>1</td><td>0</td><td>0</td><td>0</td><td>0</td><td>0</td><td>1</td><td>0</td><td>1</td><td>1</td><td>0</td><td>0</td><td>0</td><td>null</td><td>null</td><td>20.0</td><td>18.0</td><td>18.0</td><td>18.0</td><td>18.0</td><td>18.0</td><td>0.038462</td><td>0.0</td><td>0.423077</td></tr><tr><td>1707386511876</td><td>&quot;1b992a40-b2c3-4b69-a5bc-05711e…</td><td>1</td><td>0</td><td>0</td><td>0</td><td>0</td><td>0</td><td>0</td><td>1</td><td>0</td><td>0</td><td>0</td><td>0</td><td>0</td><td>0</td><td>0</td><td>1</td><td>0</td><td>1</td><td>1</td><td>0</td><td>0</td><td>0</td><td>0</td><td>0</td><td>1.0</td><td>10.0</td><td>4.0</td><td>10.0</td><td>4.0</td><td>4.0</td><td>4126500.5</td><td>0.0</td><td>0.0</td></tr><tr><td>1712855202998</td><td>&quot;0f451bcd-8a3c-4105-8199-167d1c…</td><td>0</td><td>0</td><td>1</td><td>0</td><td>0</td><td>0</td><td>1</td><td>0</td><td>1</td><td>0</td><td>0</td><td>0</td><td>0</td><td>0</td><td>0</td><td>0</td><td>0</td><td>1</td><td>1</td><td>0</td><td>0</td><td>0</td><td>null</td><td>null</td><td>25.0</td><td>17.0</td><td>21.0</td><td>17.0</td><td>21.0</td><td>21.0</td><td>1.0534e6</td><td>0.0</td><td>0.0</td></tr><tr><td>1735584681842</td><td>&quot;bb8fa1af-a540-4d0f-a633-569c61…</td><td>0</td><td>0</td><td>1</td><td>0</td><td>0</td><td>0</td><td>1</td><td>0</td><td>0</td><td>0</td><td>0</td><td>0</td><td>0</td><td>0</td><td>0</td><td>1</td><td>0</td><td>1</td><td>0</td><td>1</td><td>1</td><td>0</td><td>null</td><td>null</td><td>0.0</td><td>18.0</td><td>18.0</td><td>18.0</td><td>18.0</td><td>18.0</td><td>3.0</td><td>0.0</td><td>1.0</td></tr><tr><td>1698679940389</td><td>&quot;afe99d2f-4fce-4584-a360-967b87…</td><td>1</td><td>0</td><td>0</td><td>0</td><td>0</td><td>0</td><td>0</td><td>1</td><td>0</td><td>0</td><td>0</td><td>0</td><td>0</td><td>0</td><td>0</td><td>1</td><td>0</td><td>1</td><td>1</td><td>0</td><td>0</td><td>0</td><td>0</td><td>0</td><td>0.0</td><td>15.0</td><td>19.0</td><td>15.0</td><td>19.0</td><td>19.0</td><td>1.2630e7</td><td>0.0</td><td>0.5</td></tr><tr><td>&hellip;</td><td>&hellip;</td><td>&hellip;</td><td>&hellip;</td><td>&hellip;</td><td>&hellip;</td><td>&hellip;</td><td>&hellip;</td><td>&hellip;</td><td>&hellip;</td><td>&hellip;</td><td>&hellip;</td><td>&hellip;</td><td>&hellip;</td><td>&hellip;</td><td>&hellip;</td><td>&hellip;</td><td>&hellip;</td><td>&hellip;</td><td>&hellip;</td><td>&hellip;</td><td>&hellip;</td><td>&hellip;</td><td>&hellip;</td><td>&hellip;</td><td>&hellip;</td><td>&hellip;</td><td>&hellip;</td><td>&hellip;</td><td>&hellip;</td><td>&hellip;</td><td>&hellip;</td><td>&hellip;</td><td>&hellip;</td><td>&hellip;</td></tr><tr><td>1721937366769</td><td>&quot;09302153-4616-4495-b099-625ce2…</td><td>0</td><td>1</td><td>0</td><td>0</td><td>0</td><td>0</td><td>1</td><td>0</td><td>0</td><td>0</td><td>0</td><td>0</td><td>0</td><td>0</td><td>0</td><td>1</td><td>0</td><td>1</td><td>1</td><td>0</td><td>1</td><td>0</td><td>null</td><td>null</td><td>0.0</td><td>19.0</td><td>19.0</td><td>19.0</td><td>19.0</td><td>19.0</td><td>1.0</td><td>0.0</td><td>27.0</td></tr><tr><td>1726550812012</td><td>&quot;42f94b4f-30f0-409c-90b8-e1d934…</td><td>0</td><td>0</td><td>1</td><td>0</td><td>0</td><td>0</td><td>1</td><td>0</td><td>1</td><td>1</td><td>0</td><td>0</td><td>0</td><td>0</td><td>0</td><td>1</td><td>0</td><td>1</td><td>1</td><td>0</td><td>0</td><td>0</td><td>null</td><td>null</td><td>13621.0</td><td>6.333333</td><td>6.333333</td><td>6.333333</td><td>6.333333</td><td>6.333333</td><td>14.513889</td><td>0.0</td><td>1.333333</td></tr><tr><td>1697066066287</td><td>&quot;23073a79-d4e5-48db-853d-b74566…</td><td>0</td><td>0</td><td>1</td><td>0</td><td>0</td><td>0</td><td>1</td><td>0</td><td>0</td><td>0</td><td>0</td><td>0</td><td>0</td><td>0</td><td>0</td><td>1</td><td>0</td><td>1</td><td>1</td><td>0</td><td>0</td><td>0</td><td>null</td><td>null</td><td>0.0</td><td>23.0</td><td>17.0</td><td>23.0</td><td>17.0</td><td>17.0</td><td>1.415052e7</td><td>0.0</td><td>2.0</td></tr><tr><td>1731596923633</td><td>&quot;3a7c18a9-5548-4e43-8474-5c4e64…</td><td>0</td><td>0</td><td>1</td><td>0</td><td>1</td><td>0</td><td>0</td><td>0</td><td>0</td><td>0</td><td>0</td><td>0</td><td>0</td><td>0</td><td>0</td><td>1</td><td>0</td><td>1</td><td>1</td><td>0</td><td>0</td><td>0</td><td>0</td><td>1</td><td>0.0</td><td>15.0</td><td>15.0</td><td>15.0</td><td>15.0</td><td>15.0</td><td>1.0</td><td>0.0</td><td>0.0</td></tr><tr><td>1704807992721</td><td>&quot;f9347de9-4f2d-4a0a-9331-6dd06f…</td><td>0</td><td>0</td><td>1</td><td>1</td><td>0</td><td>0</td><td>0</td><td>0</td><td>1</td><td>0</td><td>0</td><td>0</td><td>0</td><td>0</td><td>0</td><td>1</td><td>0</td><td>1</td><td>1</td><td>0</td><td>0</td><td>0</td><td>null</td><td>null</td><td>4760.0</td><td>13.833333</td><td>21.0</td><td>13.833333</td><td>21.0</td><td>21.0</td><td>6.5912e6</td><td>0.0</td><td>1.458333</td></tr></tbody></table></div>"
      ],
      "text/plain": [
       "shape: (554_760, 35)\n",
       "┌───────────┬───────────┬───────────┬───────────┬───┬───────────┬───────────┬───────────┬──────────┐\n",
       "│ session_i ┆ user_id_f ┆ device_fa ┆ device_fa ┆ … ┆ server_up ┆ time_to_s ┆ server_to ┆ processi │\n",
       "│ d         ┆ irst      ┆ mily_linu ┆ mily_mac  ┆   ┆ load_hour ┆ erver_mea ┆ _process_ ┆ ng_time_ │\n",
       "│ ---       ┆ ---       ┆ x_max     ┆ os x_max  ┆   ┆ _mean     ┆ n         ┆ mean      ┆ mean     │\n",
       "│ i64       ┆ str       ┆ ---       ┆ ---       ┆   ┆ ---       ┆ ---       ┆ ---       ┆ ---      │\n",
       "│           ┆           ┆ u8        ┆ u8        ┆   ┆ f64       ┆ f64       ┆ f64       ┆ f64      │\n",
       "╞═══════════╪═══════════╪═══════════╪═══════════╪═══╪═══════════╪═══════════╪═══════════╪══════════╡\n",
       "│ 171648883 ┆ dfea5c63- ┆ 0         ┆ 0         ┆ … ┆ 18.0      ┆ 0.038462  ┆ 0.0       ┆ 0.423077 │\n",
       "│ 8546      ┆ 3d60-4e49 ┆           ┆           ┆   ┆           ┆           ┆           ┆          │\n",
       "│           ┆ -b269-5d9 ┆           ┆           ┆   ┆           ┆           ┆           ┆          │\n",
       "│           ┆ 0dd…      ┆           ┆           ┆   ┆           ┆           ┆           ┆          │\n",
       "│ 170738651 ┆ 1b992a40- ┆ 1         ┆ 0         ┆ … ┆ 4.0       ┆ 4126500.5 ┆ 0.0       ┆ 0.0      │\n",
       "│ 1876      ┆ b2c3-4b69 ┆           ┆           ┆   ┆           ┆           ┆           ┆          │\n",
       "│           ┆ -a5bc-057 ┆           ┆           ┆   ┆           ┆           ┆           ┆          │\n",
       "│           ┆ 11e…      ┆           ┆           ┆   ┆           ┆           ┆           ┆          │\n",
       "│ 171285520 ┆ 0f451bcd- ┆ 0         ┆ 0         ┆ … ┆ 21.0      ┆ 1.0534e6  ┆ 0.0       ┆ 0.0      │\n",
       "│ 2998      ┆ 8a3c-4105 ┆           ┆           ┆   ┆           ┆           ┆           ┆          │\n",
       "│           ┆ -8199-167 ┆           ┆           ┆   ┆           ┆           ┆           ┆          │\n",
       "│           ┆ d1c…      ┆           ┆           ┆   ┆           ┆           ┆           ┆          │\n",
       "│ 173558468 ┆ bb8fa1af- ┆ 0         ┆ 0         ┆ … ┆ 18.0      ┆ 3.0       ┆ 0.0       ┆ 1.0      │\n",
       "│ 1842      ┆ a540-4d0f ┆           ┆           ┆   ┆           ┆           ┆           ┆          │\n",
       "│           ┆ -a633-569 ┆           ┆           ┆   ┆           ┆           ┆           ┆          │\n",
       "│           ┆ c61…      ┆           ┆           ┆   ┆           ┆           ┆           ┆          │\n",
       "│ 169867994 ┆ afe99d2f- ┆ 1         ┆ 0         ┆ … ┆ 19.0      ┆ 1.2630e7  ┆ 0.0       ┆ 0.5      │\n",
       "│ 0389      ┆ 4fce-4584 ┆           ┆           ┆   ┆           ┆           ┆           ┆          │\n",
       "│           ┆ -a360-967 ┆           ┆           ┆   ┆           ┆           ┆           ┆          │\n",
       "│           ┆ b87…      ┆           ┆           ┆   ┆           ┆           ┆           ┆          │\n",
       "│ …         ┆ …         ┆ …         ┆ …         ┆ … ┆ …         ┆ …         ┆ …         ┆ …        │\n",
       "│ 172193736 ┆ 09302153- ┆ 0         ┆ 1         ┆ … ┆ 19.0      ┆ 1.0       ┆ 0.0       ┆ 27.0     │\n",
       "│ 6769      ┆ 4616-4495 ┆           ┆           ┆   ┆           ┆           ┆           ┆          │\n",
       "│           ┆ -b099-625 ┆           ┆           ┆   ┆           ┆           ┆           ┆          │\n",
       "│           ┆ ce2…      ┆           ┆           ┆   ┆           ┆           ┆           ┆          │\n",
       "│ 172655081 ┆ 42f94b4f- ┆ 0         ┆ 0         ┆ … ┆ 6.333333  ┆ 14.513889 ┆ 0.0       ┆ 1.333333 │\n",
       "│ 2012      ┆ 30f0-409c ┆           ┆           ┆   ┆           ┆           ┆           ┆          │\n",
       "│           ┆ -90b8-e1d ┆           ┆           ┆   ┆           ┆           ┆           ┆          │\n",
       "│           ┆ 934…      ┆           ┆           ┆   ┆           ┆           ┆           ┆          │\n",
       "│ 169706606 ┆ 23073a79- ┆ 0         ┆ 0         ┆ … ┆ 17.0      ┆ 1.415052e ┆ 0.0       ┆ 2.0      │\n",
       "│ 6287      ┆ d4e5-48db ┆           ┆           ┆   ┆           ┆ 7         ┆           ┆          │\n",
       "│           ┆ -853d-b74 ┆           ┆           ┆   ┆           ┆           ┆           ┆          │\n",
       "│           ┆ 566…      ┆           ┆           ┆   ┆           ┆           ┆           ┆          │\n",
       "│ 173159692 ┆ 3a7c18a9- ┆ 0         ┆ 0         ┆ … ┆ 15.0      ┆ 1.0       ┆ 0.0       ┆ 0.0      │\n",
       "│ 3633      ┆ 5548-4e43 ┆           ┆           ┆   ┆           ┆           ┆           ┆          │\n",
       "│           ┆ -8474-5c4 ┆           ┆           ┆   ┆           ┆           ┆           ┆          │\n",
       "│           ┆ e64…      ┆           ┆           ┆   ┆           ┆           ┆           ┆          │\n",
       "│ 170480799 ┆ f9347de9- ┆ 0         ┆ 0         ┆ … ┆ 21.0      ┆ 6.5912e6  ┆ 0.0       ┆ 1.458333 │\n",
       "│ 2721      ┆ 4f2d-4a0a ┆           ┆           ┆   ┆           ┆           ┆           ┆          │\n",
       "│           ┆ -9331-6dd ┆           ┆           ┆   ┆           ┆           ┆           ┆          │\n",
       "│           ┆ 06f…      ┆           ┆           ┆   ┆           ┆           ┆           ┆          │\n",
       "└───────────┴───────────┴───────────┴───────────┴───┴───────────┴───────────┴───────────┴──────────┘"
      ]
     },
     "execution_count": 32,
     "metadata": {},
     "output_type": "execute_result"
    }
   ],
   "source": [
    "df_session = drop_columns(df_session, config, 2)\n",
    "df_session"
   ]
  },
  {
   "cell_type": "markdown",
   "metadata": {},
   "source": [
    "### Impute One-Hot Columns\n",
    "\n",
    "For the rest of the one-hot valued columns, we will fill it all with zero"
   ]
  },
  {
   "cell_type": "code",
   "execution_count": null,
   "metadata": {},
   "outputs": [
    {
     "data": {
      "text/html": [
       "<div><style>\n",
       ".dataframe > thead > tr,\n",
       ".dataframe > tbody > tr {\n",
       "  text-align: right;\n",
       "  white-space: pre-wrap;\n",
       "}\n",
       "</style>\n",
       "<small>shape: (554_760, 35)</small><table border=\"1\" class=\"dataframe\"><thead><tr><th>session_id</th><th>user_id_first</th><th>device_family_linux_max</th><th>device_family_mac os x_max</th><th>device_family_windows_max</th><th>region_grouped_international_max</th><th>region_grouped_midwest_max</th><th>region_grouped_northeast_max</th><th>region_grouped_south_max</th><th>region_grouped_west_max</th><th>event_category_account &amp; policy management_max</th><th>event_category_action center &amp; workflow_max</th><th>event_category_dashboard &amp; ui interactions_max</th><th>event_category_document &amp; report interactions_max</th><th>event_category_filtering &amp; searching_max</th><th>event_category_null_max</th><th>event_category_other/system events_max</th><th>event_category_session &amp; navigation_max</th><th>event_category_submission &amp; forms_max</th><th>returned_within_7_days_max</th><th>uw_max</th><th>admin_max</th><th>manager_max</th><th>broker_max</th><th>google_max</th><th>microsoft_max</th><th>session_seconds_mean</th><th>client_event_hour_mean</th><th>client_upload_hour_mean</th><th>event_hour_mean</th><th>server_received_hour_mean</th><th>server_upload_hour_mean</th><th>time_to_server_mean</th><th>server_to_process_mean</th><th>processing_time_mean</th></tr><tr><td>i64</td><td>str</td><td>u8</td><td>u8</td><td>u8</td><td>u8</td><td>u8</td><td>u8</td><td>u8</td><td>u8</td><td>u8</td><td>u8</td><td>u8</td><td>u8</td><td>u8</td><td>u8</td><td>u8</td><td>u8</td><td>u8</td><td>i32</td><td>i8</td><td>i8</td><td>i8</td><td>i8</td><td>i32</td><td>i32</td><td>f64</td><td>f64</td><td>f64</td><td>f64</td><td>f64</td><td>f64</td><td>f64</td><td>f64</td><td>f64</td></tr></thead><tbody><tr><td>1716488838546</td><td>&quot;dfea5c63-3d60-4e49-b269-5d90dd…</td><td>0</td><td>0</td><td>1</td><td>0</td><td>0</td><td>0</td><td>1</td><td>0</td><td>1</td><td>1</td><td>0</td><td>0</td><td>0</td><td>0</td><td>0</td><td>1</td><td>0</td><td>1</td><td>1</td><td>0</td><td>0</td><td>0</td><td>0</td><td>0</td><td>20.0</td><td>18.0</td><td>18.0</td><td>18.0</td><td>18.0</td><td>18.0</td><td>0.038462</td><td>0.0</td><td>0.423077</td></tr><tr><td>1707386511876</td><td>&quot;1b992a40-b2c3-4b69-a5bc-05711e…</td><td>1</td><td>0</td><td>0</td><td>0</td><td>0</td><td>0</td><td>0</td><td>1</td><td>0</td><td>0</td><td>0</td><td>0</td><td>0</td><td>0</td><td>0</td><td>1</td><td>0</td><td>1</td><td>1</td><td>0</td><td>0</td><td>0</td><td>0</td><td>0</td><td>1.0</td><td>10.0</td><td>4.0</td><td>10.0</td><td>4.0</td><td>4.0</td><td>4126500.5</td><td>0.0</td><td>0.0</td></tr><tr><td>1712855202998</td><td>&quot;0f451bcd-8a3c-4105-8199-167d1c…</td><td>0</td><td>0</td><td>1</td><td>0</td><td>0</td><td>0</td><td>1</td><td>0</td><td>1</td><td>0</td><td>0</td><td>0</td><td>0</td><td>0</td><td>0</td><td>0</td><td>0</td><td>1</td><td>1</td><td>0</td><td>0</td><td>0</td><td>0</td><td>0</td><td>25.0</td><td>17.0</td><td>21.0</td><td>17.0</td><td>21.0</td><td>21.0</td><td>1.0534e6</td><td>0.0</td><td>0.0</td></tr><tr><td>1735584681842</td><td>&quot;bb8fa1af-a540-4d0f-a633-569c61…</td><td>0</td><td>0</td><td>1</td><td>0</td><td>0</td><td>0</td><td>1</td><td>0</td><td>0</td><td>0</td><td>0</td><td>0</td><td>0</td><td>0</td><td>0</td><td>1</td><td>0</td><td>1</td><td>0</td><td>1</td><td>1</td><td>0</td><td>0</td><td>0</td><td>0.0</td><td>18.0</td><td>18.0</td><td>18.0</td><td>18.0</td><td>18.0</td><td>3.0</td><td>0.0</td><td>1.0</td></tr><tr><td>1698679940389</td><td>&quot;afe99d2f-4fce-4584-a360-967b87…</td><td>1</td><td>0</td><td>0</td><td>0</td><td>0</td><td>0</td><td>0</td><td>1</td><td>0</td><td>0</td><td>0</td><td>0</td><td>0</td><td>0</td><td>0</td><td>1</td><td>0</td><td>1</td><td>1</td><td>0</td><td>0</td><td>0</td><td>0</td><td>0</td><td>0.0</td><td>15.0</td><td>19.0</td><td>15.0</td><td>19.0</td><td>19.0</td><td>1.2630e7</td><td>0.0</td><td>0.5</td></tr><tr><td>&hellip;</td><td>&hellip;</td><td>&hellip;</td><td>&hellip;</td><td>&hellip;</td><td>&hellip;</td><td>&hellip;</td><td>&hellip;</td><td>&hellip;</td><td>&hellip;</td><td>&hellip;</td><td>&hellip;</td><td>&hellip;</td><td>&hellip;</td><td>&hellip;</td><td>&hellip;</td><td>&hellip;</td><td>&hellip;</td><td>&hellip;</td><td>&hellip;</td><td>&hellip;</td><td>&hellip;</td><td>&hellip;</td><td>&hellip;</td><td>&hellip;</td><td>&hellip;</td><td>&hellip;</td><td>&hellip;</td><td>&hellip;</td><td>&hellip;</td><td>&hellip;</td><td>&hellip;</td><td>&hellip;</td><td>&hellip;</td><td>&hellip;</td></tr><tr><td>1721937366769</td><td>&quot;09302153-4616-4495-b099-625ce2…</td><td>0</td><td>1</td><td>0</td><td>0</td><td>0</td><td>0</td><td>1</td><td>0</td><td>0</td><td>0</td><td>0</td><td>0</td><td>0</td><td>0</td><td>0</td><td>1</td><td>0</td><td>1</td><td>1</td><td>0</td><td>1</td><td>0</td><td>0</td><td>0</td><td>0.0</td><td>19.0</td><td>19.0</td><td>19.0</td><td>19.0</td><td>19.0</td><td>1.0</td><td>0.0</td><td>27.0</td></tr><tr><td>1726550812012</td><td>&quot;42f94b4f-30f0-409c-90b8-e1d934…</td><td>0</td><td>0</td><td>1</td><td>0</td><td>0</td><td>0</td><td>1</td><td>0</td><td>1</td><td>1</td><td>0</td><td>0</td><td>0</td><td>0</td><td>0</td><td>1</td><td>0</td><td>1</td><td>1</td><td>0</td><td>0</td><td>0</td><td>0</td><td>0</td><td>13621.0</td><td>6.333333</td><td>6.333333</td><td>6.333333</td><td>6.333333</td><td>6.333333</td><td>14.513889</td><td>0.0</td><td>1.333333</td></tr><tr><td>1697066066287</td><td>&quot;23073a79-d4e5-48db-853d-b74566…</td><td>0</td><td>0</td><td>1</td><td>0</td><td>0</td><td>0</td><td>1</td><td>0</td><td>0</td><td>0</td><td>0</td><td>0</td><td>0</td><td>0</td><td>0</td><td>1</td><td>0</td><td>1</td><td>1</td><td>0</td><td>0</td><td>0</td><td>0</td><td>0</td><td>0.0</td><td>23.0</td><td>17.0</td><td>23.0</td><td>17.0</td><td>17.0</td><td>1.415052e7</td><td>0.0</td><td>2.0</td></tr><tr><td>1731596923633</td><td>&quot;3a7c18a9-5548-4e43-8474-5c4e64…</td><td>0</td><td>0</td><td>1</td><td>0</td><td>1</td><td>0</td><td>0</td><td>0</td><td>0</td><td>0</td><td>0</td><td>0</td><td>0</td><td>0</td><td>0</td><td>1</td><td>0</td><td>1</td><td>1</td><td>0</td><td>0</td><td>0</td><td>0</td><td>1</td><td>0.0</td><td>15.0</td><td>15.0</td><td>15.0</td><td>15.0</td><td>15.0</td><td>1.0</td><td>0.0</td><td>0.0</td></tr><tr><td>1704807992721</td><td>&quot;f9347de9-4f2d-4a0a-9331-6dd06f…</td><td>0</td><td>0</td><td>1</td><td>1</td><td>0</td><td>0</td><td>0</td><td>0</td><td>1</td><td>0</td><td>0</td><td>0</td><td>0</td><td>0</td><td>0</td><td>1</td><td>0</td><td>1</td><td>1</td><td>0</td><td>0</td><td>0</td><td>0</td><td>0</td><td>4760.0</td><td>13.833333</td><td>21.0</td><td>13.833333</td><td>21.0</td><td>21.0</td><td>6.5912e6</td><td>0.0</td><td>1.458333</td></tr></tbody></table></div>"
      ],
      "text/plain": [
       "shape: (554_760, 35)\n",
       "┌───────────┬───────────┬───────────┬───────────┬───┬───────────┬───────────┬───────────┬──────────┐\n",
       "│ session_i ┆ user_id_f ┆ device_fa ┆ device_fa ┆ … ┆ server_up ┆ time_to_s ┆ server_to ┆ processi │\n",
       "│ d         ┆ irst      ┆ mily_linu ┆ mily_mac  ┆   ┆ load_hour ┆ erver_mea ┆ _process_ ┆ ng_time_ │\n",
       "│ ---       ┆ ---       ┆ x_max     ┆ os x_max  ┆   ┆ _mean     ┆ n         ┆ mean      ┆ mean     │\n",
       "│ i64       ┆ str       ┆ ---       ┆ ---       ┆   ┆ ---       ┆ ---       ┆ ---       ┆ ---      │\n",
       "│           ┆           ┆ u8        ┆ u8        ┆   ┆ f64       ┆ f64       ┆ f64       ┆ f64      │\n",
       "╞═══════════╪═══════════╪═══════════╪═══════════╪═══╪═══════════╪═══════════╪═══════════╪══════════╡\n",
       "│ 171648883 ┆ dfea5c63- ┆ 0         ┆ 0         ┆ … ┆ 18.0      ┆ 0.038462  ┆ 0.0       ┆ 0.423077 │\n",
       "│ 8546      ┆ 3d60-4e49 ┆           ┆           ┆   ┆           ┆           ┆           ┆          │\n",
       "│           ┆ -b269-5d9 ┆           ┆           ┆   ┆           ┆           ┆           ┆          │\n",
       "│           ┆ 0dd…      ┆           ┆           ┆   ┆           ┆           ┆           ┆          │\n",
       "│ 170738651 ┆ 1b992a40- ┆ 1         ┆ 0         ┆ … ┆ 4.0       ┆ 4126500.5 ┆ 0.0       ┆ 0.0      │\n",
       "│ 1876      ┆ b2c3-4b69 ┆           ┆           ┆   ┆           ┆           ┆           ┆          │\n",
       "│           ┆ -a5bc-057 ┆           ┆           ┆   ┆           ┆           ┆           ┆          │\n",
       "│           ┆ 11e…      ┆           ┆           ┆   ┆           ┆           ┆           ┆          │\n",
       "│ 171285520 ┆ 0f451bcd- ┆ 0         ┆ 0         ┆ … ┆ 21.0      ┆ 1.0534e6  ┆ 0.0       ┆ 0.0      │\n",
       "│ 2998      ┆ 8a3c-4105 ┆           ┆           ┆   ┆           ┆           ┆           ┆          │\n",
       "│           ┆ -8199-167 ┆           ┆           ┆   ┆           ┆           ┆           ┆          │\n",
       "│           ┆ d1c…      ┆           ┆           ┆   ┆           ┆           ┆           ┆          │\n",
       "│ 173558468 ┆ bb8fa1af- ┆ 0         ┆ 0         ┆ … ┆ 18.0      ┆ 3.0       ┆ 0.0       ┆ 1.0      │\n",
       "│ 1842      ┆ a540-4d0f ┆           ┆           ┆   ┆           ┆           ┆           ┆          │\n",
       "│           ┆ -a633-569 ┆           ┆           ┆   ┆           ┆           ┆           ┆          │\n",
       "│           ┆ c61…      ┆           ┆           ┆   ┆           ┆           ┆           ┆          │\n",
       "│ 169867994 ┆ afe99d2f- ┆ 1         ┆ 0         ┆ … ┆ 19.0      ┆ 1.2630e7  ┆ 0.0       ┆ 0.5      │\n",
       "│ 0389      ┆ 4fce-4584 ┆           ┆           ┆   ┆           ┆           ┆           ┆          │\n",
       "│           ┆ -a360-967 ┆           ┆           ┆   ┆           ┆           ┆           ┆          │\n",
       "│           ┆ b87…      ┆           ┆           ┆   ┆           ┆           ┆           ┆          │\n",
       "│ …         ┆ …         ┆ …         ┆ …         ┆ … ┆ …         ┆ …         ┆ …         ┆ …        │\n",
       "│ 172193736 ┆ 09302153- ┆ 0         ┆ 1         ┆ … ┆ 19.0      ┆ 1.0       ┆ 0.0       ┆ 27.0     │\n",
       "│ 6769      ┆ 4616-4495 ┆           ┆           ┆   ┆           ┆           ┆           ┆          │\n",
       "│           ┆ -b099-625 ┆           ┆           ┆   ┆           ┆           ┆           ┆          │\n",
       "│           ┆ ce2…      ┆           ┆           ┆   ┆           ┆           ┆           ┆          │\n",
       "│ 172655081 ┆ 42f94b4f- ┆ 0         ┆ 0         ┆ … ┆ 6.333333  ┆ 14.513889 ┆ 0.0       ┆ 1.333333 │\n",
       "│ 2012      ┆ 30f0-409c ┆           ┆           ┆   ┆           ┆           ┆           ┆          │\n",
       "│           ┆ -90b8-e1d ┆           ┆           ┆   ┆           ┆           ┆           ┆          │\n",
       "│           ┆ 934…      ┆           ┆           ┆   ┆           ┆           ┆           ┆          │\n",
       "│ 169706606 ┆ 23073a79- ┆ 0         ┆ 0         ┆ … ┆ 17.0      ┆ 1.415052e ┆ 0.0       ┆ 2.0      │\n",
       "│ 6287      ┆ d4e5-48db ┆           ┆           ┆   ┆           ┆ 7         ┆           ┆          │\n",
       "│           ┆ -853d-b74 ┆           ┆           ┆   ┆           ┆           ┆           ┆          │\n",
       "│           ┆ 566…      ┆           ┆           ┆   ┆           ┆           ┆           ┆          │\n",
       "│ 173159692 ┆ 3a7c18a9- ┆ 0         ┆ 0         ┆ … ┆ 15.0      ┆ 1.0       ┆ 0.0       ┆ 0.0      │\n",
       "│ 3633      ┆ 5548-4e43 ┆           ┆           ┆   ┆           ┆           ┆           ┆          │\n",
       "│           ┆ -8474-5c4 ┆           ┆           ┆   ┆           ┆           ┆           ┆          │\n",
       "│           ┆ e64…      ┆           ┆           ┆   ┆           ┆           ┆           ┆          │\n",
       "│ 170480799 ┆ f9347de9- ┆ 0         ┆ 0         ┆ … ┆ 21.0      ┆ 6.5912e6  ┆ 0.0       ┆ 1.458333 │\n",
       "│ 2721      ┆ 4f2d-4a0a ┆           ┆           ┆   ┆           ┆           ┆           ┆          │\n",
       "│           ┆ -9331-6dd ┆           ┆           ┆   ┆           ┆           ┆           ┆          │\n",
       "│           ┆ 06f…      ┆           ┆           ┆   ┆           ┆           ┆           ┆          │\n",
       "└───────────┴───────────┴───────────┴───────────┴───┴───────────┴───────────┴───────────┴──────────┘"
      ]
     },
     "execution_count": 40,
     "metadata": {},
     "output_type": "execute_result"
    }
   ],
   "source": [
    "# Impute one-hot columns\n",
    "columns_to_fill = ['uw_max', 'admin_max', 'manager_max', \n",
    "                   'broker_max', 'google_max', 'microsoft_max']\n",
    "df_session = df_session.with_columns(pl.col(c).fill_null(0) for c in columns_to_fill)\n",
    "df_session"
   ]
  },
  {
   "cell_type": "code",
   "execution_count": null,
   "metadata": {},
   "outputs": [],
   "source": [
    "# export parquet\n",
    "df_session.write_parquet(config['pipeline']['output_data'])"
   ]
  }
 ],
 "metadata": {
  "kernelspec": {
   "display_name": ".venv",
   "language": "python",
   "name": "python3"
  },
  "language_info": {
   "codemirror_mode": {
    "name": "ipython",
    "version": 3
   },
   "file_extension": ".py",
   "mimetype": "text/x-python",
   "name": "python",
   "nbconvert_exporter": "python",
   "pygments_lexer": "ipython3",
   "version": "3.12.4"
  }
 },
 "nbformat": 4,
 "nbformat_minor": 2
}
